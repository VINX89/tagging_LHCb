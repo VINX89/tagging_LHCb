{
 "cells": [
  {
   "cell_type": "markdown",
   "metadata": {
    "slideshow": {
     "slide_type": "slide"
    }
   },
   "source": [
    "#Opposite side tagging\n",
    "\n",
    "\n",
    "\n",
    "### Authors: \n",
    "* Tatiana Likhomanenko (contact)\n",
    "* Alexey Rogozhnikov\n",
    "* Denis Derkach"
   ]
  },
  {
   "cell_type": "code",
   "execution_count": 1,
   "metadata": {
    "collapsed": true,
    "slideshow": {
     "slide_type": "skip"
    }
   },
   "outputs": [],
   "source": [
    "from IPython.display import Image\n",
    "import pandas"
   ]
  },
  {
   "cell_type": "markdown",
   "metadata": {
    "slideshow": {
     "slide_type": "slide"
    }
   },
   "source": [
    "# Opposite side tagging (OS) tagging (Current version)\n",
    "\n",
    "https://github.com/tata-antares/tagging_LHCb/blob/master/old-tagging.ipynb\n",
    "\n",
    "We first tested the current algorithm (OS taggers: muon, electron, kaon, vertex). \n",
    "TMVA original method was compared with XGBoost.\n",
    "\n",
    "* isotonic symmetric calibration\n",
    "* use different train-test divisions to calculate $D^2$\n",
    "* compute mean and std \n",
    "* detail see below (the same formulas)"
   ]
  },
  {
   "cell_type": "markdown",
   "metadata": {
    "slideshow": {
     "slide_type": "fragment"
    }
   },
   "source": [
    "### Electron, muon, kaon and vertex taggers"
   ]
  },
  {
   "cell_type": "code",
   "execution_count": 2,
   "metadata": {
    "collapsed": false,
    "slideshow": {
     "slide_type": "fragment"
    }
   },
   "outputs": [
    {
     "data": {
      "text/html": [
       "<div style=\"max-height:1000px;max-width:1500px;overflow:auto;\">\n",
       "<table border=\"1\" class=\"dataframe\">\n",
       "  <thead>\n",
       "    <tr style=\"text-align: right;\">\n",
       "      <th></th>\n",
       "      <th>name</th>\n",
       "      <th>$\\epsilon_{tag}, \\%$</th>\n",
       "      <th>$\\Delta \\epsilon_{tag}, \\%$</th>\n",
       "      <th>$D^2$</th>\n",
       "      <th>$\\Delta D^2$</th>\n",
       "      <th>$\\epsilon, \\%$</th>\n",
       "      <th>$\\Delta \\epsilon, \\%$</th>\n",
       "    </tr>\n",
       "  </thead>\n",
       "  <tbody>\n",
       "    <tr>\n",
       "      <th>0</th>\n",
       "      <td>   vtx_xgboost</td>\n",
       "      <td> 18.198</td>\n",
       "      <td> 0.049</td>\n",
       "      <td> 0.051</td>\n",
       "      <td> 0.001</td>\n",
       "      <td> 0.921</td>\n",
       "      <td> 0.020</td>\n",
       "    </tr>\n",
       "    <tr>\n",
       "      <th>1</th>\n",
       "      <td>      vtx_tmva</td>\n",
       "      <td> 18.198</td>\n",
       "      <td> 0.049</td>\n",
       "      <td> 0.042</td>\n",
       "      <td> 0.001</td>\n",
       "      <td> 0.765</td>\n",
       "      <td> 0.017</td>\n",
       "    </tr>\n",
       "    <tr>\n",
       "      <th>2</th>\n",
       "      <td>   $K$_xgboost</td>\n",
       "      <td> 17.080</td>\n",
       "      <td> 0.048</td>\n",
       "      <td> 0.055</td>\n",
       "      <td> 0.001</td>\n",
       "      <td> 0.933</td>\n",
       "      <td> 0.018</td>\n",
       "    </tr>\n",
       "    <tr>\n",
       "      <th>3</th>\n",
       "      <td>      $K$_tmva</td>\n",
       "      <td> 17.080</td>\n",
       "      <td> 0.048</td>\n",
       "      <td> 0.048</td>\n",
       "      <td> 0.001</td>\n",
       "      <td> 0.813</td>\n",
       "      <td> 0.022</td>\n",
       "    </tr>\n",
       "    <tr>\n",
       "      <th>4</th>\n",
       "      <td>   $e$_xgboost</td>\n",
       "      <td>  1.642</td>\n",
       "      <td> 0.015</td>\n",
       "      <td> 0.174</td>\n",
       "      <td> 0.006</td>\n",
       "      <td> 0.287</td>\n",
       "      <td> 0.011</td>\n",
       "    </tr>\n",
       "    <tr>\n",
       "      <th>5</th>\n",
       "      <td>      $e$_tmva</td>\n",
       "      <td>  1.642</td>\n",
       "      <td> 0.015</td>\n",
       "      <td> 0.172</td>\n",
       "      <td> 0.007</td>\n",
       "      <td> 0.282</td>\n",
       "      <td> 0.012</td>\n",
       "    </tr>\n",
       "    <tr>\n",
       "      <th>6</th>\n",
       "      <td> $\\mu$_xgboost</td>\n",
       "      <td>  5.439</td>\n",
       "      <td> 0.027</td>\n",
       "      <td> 0.171</td>\n",
       "      <td> 0.004</td>\n",
       "      <td> 0.929</td>\n",
       "      <td> 0.020</td>\n",
       "    </tr>\n",
       "    <tr>\n",
       "      <th>7</th>\n",
       "      <td>    $\\mu$_tmva</td>\n",
       "      <td>  5.439</td>\n",
       "      <td> 0.027</td>\n",
       "      <td> 0.165</td>\n",
       "      <td> 0.003</td>\n",
       "      <td> 0.897</td>\n",
       "      <td> 0.017</td>\n",
       "    </tr>\n",
       "  </tbody>\n",
       "</table>\n",
       "</div>"
      ],
      "text/plain": [
       "            name  $\\epsilon_{tag}, \\%$  $\\Delta \\epsilon_{tag}, \\%$  $D^2$  \\\n",
       "0    vtx_xgboost                18.198                        0.049  0.051   \n",
       "1       vtx_tmva                18.198                        0.049  0.042   \n",
       "2    $K$_xgboost                17.080                        0.048  0.055   \n",
       "3       $K$_tmva                17.080                        0.048  0.048   \n",
       "4    $e$_xgboost                 1.642                        0.015  0.174   \n",
       "5       $e$_tmva                 1.642                        0.015  0.172   \n",
       "6  $\\mu$_xgboost                 5.439                        0.027  0.171   \n",
       "7     $\\mu$_tmva                 5.439                        0.027  0.165   \n",
       "\n",
       "   $\\Delta D^2$  $\\epsilon, \\%$  $\\Delta \\epsilon, \\%$  \n",
       "0         0.001           0.921                  0.020  \n",
       "1         0.001           0.765                  0.017  \n",
       "2         0.001           0.933                  0.018  \n",
       "3         0.001           0.813                  0.022  \n",
       "4         0.006           0.287                  0.011  \n",
       "5         0.007           0.282                  0.012  \n",
       "6         0.004           0.929                  0.020  \n",
       "7         0.003           0.897                  0.017  "
      ]
     },
     "execution_count": 2,
     "metadata": {},
     "output_type": "execute_result"
    }
   ],
   "source": [
    "pandas.set_option('display.precision', 4)\n",
    "pandas.read_csv('img/old-tagging-parts.csv').drop(['AUC, with untag', '$\\Delta$ AUC, with untag'], axis=1)"
   ]
  },
  {
   "cell_type": "markdown",
   "metadata": {
    "slideshow": {
     "slide_type": "subslide"
    }
   },
   "source": [
    "### Combined taggers\n",
    "\n",
    "We then tested a combination with two calibrations for individual taggers: \n",
    "\n",
    "* isotonic regression \n",
    "* logistic regression. \n",
    "\n",
    "Combination was calibrated using isotonic regression."
   ]
  },
  {
   "cell_type": "code",
   "execution_count": 3,
   "metadata": {
    "collapsed": false,
    "scrolled": true,
    "slideshow": {
     "slide_type": "fragment"
    }
   },
   "outputs": [
    {
     "data": {
      "text/html": [
       "<div style=\"max-height:1000px;max-width:1500px;overflow:auto;\">\n",
       "<table border=\"1\" class=\"dataframe\">\n",
       "  <thead>\n",
       "    <tr style=\"text-align: right;\">\n",
       "      <th></th>\n",
       "      <th>name</th>\n",
       "      <th>$\\epsilon_{tag}, \\%$</th>\n",
       "      <th>$\\Delta \\epsilon_{tag}, \\%$</th>\n",
       "      <th>$D^2$</th>\n",
       "      <th>$\\Delta D^2$</th>\n",
       "      <th>$\\epsilon, \\%$</th>\n",
       "      <th>$\\Delta \\epsilon, \\%$</th>\n",
       "      <th>AUC, with untag</th>\n",
       "    </tr>\n",
       "  </thead>\n",
       "  <tbody>\n",
       "    <tr>\n",
       "      <th>0</th>\n",
       "      <td>  iso-xgb_combined</td>\n",
       "      <td> 32.735</td>\n",
       "      <td> 0.066</td>\n",
       "      <td> 0.070</td>\n",
       "      <td> 0.002</td>\n",
       "      <td> 2.284</td>\n",
       "      <td> 0.061</td>\n",
       "      <td> 56.702</td>\n",
       "    </tr>\n",
       "    <tr>\n",
       "      <th>1</th>\n",
       "      <td> iso-tmva_combined</td>\n",
       "      <td> 32.735</td>\n",
       "      <td> 0.066</td>\n",
       "      <td> 0.067</td>\n",
       "      <td> 0.002</td>\n",
       "      <td> 2.189</td>\n",
       "      <td> 0.072</td>\n",
       "      <td> 56.585</td>\n",
       "    </tr>\n",
       "    <tr>\n",
       "      <th>2</th>\n",
       "      <td>  log-xgb_combined</td>\n",
       "      <td> 32.735</td>\n",
       "      <td> 0.066</td>\n",
       "      <td> 0.074</td>\n",
       "      <td> 0.001</td>\n",
       "      <td> 2.428</td>\n",
       "      <td> 0.031</td>\n",
       "      <td> 56.669</td>\n",
       "    </tr>\n",
       "    <tr>\n",
       "      <th>3</th>\n",
       "      <td> log-tmva_combined</td>\n",
       "      <td> 32.735</td>\n",
       "      <td> 0.066</td>\n",
       "      <td> 0.068</td>\n",
       "      <td> 0.001</td>\n",
       "      <td> 2.234</td>\n",
       "      <td> 0.028</td>\n",
       "      <td> 56.588</td>\n",
       "    </tr>\n",
       "  </tbody>\n",
       "</table>\n",
       "</div>"
      ],
      "text/plain": [
       "                name  $\\epsilon_{tag}, \\%$  $\\Delta \\epsilon_{tag}, \\%$  \\\n",
       "0   iso-xgb_combined                32.735                        0.066   \n",
       "1  iso-tmva_combined                32.735                        0.066   \n",
       "2   log-xgb_combined                32.735                        0.066   \n",
       "3  log-tmva_combined                32.735                        0.066   \n",
       "\n",
       "   $D^2$  $\\Delta D^2$  $\\epsilon, \\%$  $\\Delta \\epsilon, \\%$  AUC, with untag  \n",
       "0  0.070         0.002           2.284                  0.061           56.702  \n",
       "1  0.067         0.002           2.189                  0.072           56.585  \n",
       "2  0.074         0.001           2.428                  0.031           56.669  \n",
       "3  0.068         0.001           2.234                  0.028           56.588  "
      ]
     },
     "execution_count": 3,
     "metadata": {},
     "output_type": "execute_result"
    }
   ],
   "source": [
    "pandas.set_option('display.precision', 4)\n",
    "pandas.read_csv('img/old-tagging.csv').drop(['$\\Delta$ AUC, with untag'], axis=1)"
   ]
  },
  {
   "cell_type": "markdown",
   "metadata": {
    "slideshow": {
     "slide_type": "slide"
    }
   },
   "source": [
    "# Opposite side tagging (OS) tagging (NEW)"
   ]
  },
  {
   "cell_type": "markdown",
   "metadata": {
    "slideshow": {
     "slide_type": "fragment"
    }
   },
   "source": [
    "## Data: \n",
    "\n",
    "* real data $B^+ \\to J/\\psi K^+$, $B^- \\to J/\\psi K^-$ (RECO 14)\n",
    "* apply sPlot to obtain sWeight ~ P(B)\n",
    "* set `event_id` - EventNumber & RunNumber"
   ]
  },
  {
   "cell_type": "markdown",
   "metadata": {
    "slideshow": {
     "slide_type": "slide"
    }
   },
   "source": [
    "## Tracking inclusive OS tagging\n",
    "https://github.com/tata-antares/tagging_LHCb/blob/master/track-based-tagging.ipynb\n",
    "\n",
    "\n",
    "### Selections\n",
    "\n",
    "* Input: all possible tracks for all B-events.\n",
    "* (PIDNNp < tr) & (PIDNNpi < tr) & (ghostProb < 0.4), tr=0.6\n",
    "* ((PIDNNk > trk) | (PIDNNm > trm) | (PIDNNe > tre)), trk=0.7, trm=0.4, tre=0.6\n"
   ]
  },
  {
   "cell_type": "markdown",
   "metadata": {
    "slideshow": {
     "slide_type": "subslide"
    }
   },
   "source": [
    "### $\\epsilon_{tag}$ calculation\n",
    "\n",
    "$$N (\\text{B events, passed selection}) = \\sum_{\\text{B events, passed selection}} sw_i$$\n",
    "\n",
    "$$N (\\text{all B events}) = \\sum_{\\text{all B events}} sw_i,$$\n",
    "\n",
    "where $sw_i$ - sPLot weight\n",
    "\n",
    "$$\\epsilon_{tag} = \\frac{N (\\text{passed selection})} {N (\\text{all events})}$$\n",
    "\n",
    "$$\\Delta\\epsilon_{tag} = \\frac{\\sqrt{N (\\text{passed selection})}} {N (\\text{all events})}$$\n"
   ]
  },
  {
   "cell_type": "markdown",
   "metadata": {
    "slideshow": {
     "slide_type": "subslide"
    }
   },
   "source": [
    "\n",
    "### Data for training\n",
    "\n",
    "* `data_sw_passed` - tracks with **B-sWeight > 1**, are used for training\n",
    "* `data_sw_not_passed` - tracks with **B-sWeight <= 1**, are tagged after training"
   ]
  },
  {
   "cell_type": "markdown",
   "metadata": {
    "slideshow": {
     "slide_type": "subslide"
    }
   },
   "source": [
    "### B mass before sWeight cut"
   ]
  },
  {
   "cell_type": "code",
   "execution_count": 4,
   "metadata": {
    "collapsed": false,
    "scrolled": true,
    "slideshow": {
     "slide_type": "fragment"
    }
   },
   "outputs": [
    {
     "data": {
      "text/html": [
       "<img src=\"https://raw.githubusercontent.com/tata-antares/tagging_LHCb/master/img/Bmass.png\"/>"
      ],
      "text/plain": [
       "<IPython.core.display.Image object>"
      ]
     },
     "execution_count": 4,
     "metadata": {},
     "output_type": "execute_result"
    }
   ],
   "source": [
    "Image(url='https://raw.githubusercontent.com/tata-antares/tagging_LHCb/master/img/Bmass.png')"
   ]
  },
  {
   "cell_type": "markdown",
   "metadata": {
    "slideshow": {
     "slide_type": "subslide"
    }
   },
   "source": [
    "### B mass after sWeight cut"
   ]
  },
  {
   "cell_type": "code",
   "execution_count": 5,
   "metadata": {
    "collapsed": false,
    "slideshow": {
     "slide_type": "fragment"
    }
   },
   "outputs": [
    {
     "data": {
      "text/html": [
       "<img src=\"https://raw.githubusercontent.com/tata-antares/tagging_LHCb/master/img/Bmass_selected.png\"/>"
      ],
      "text/plain": [
       "<IPython.core.display.Image object>"
      ]
     },
     "execution_count": 5,
     "metadata": {},
     "output_type": "execute_result"
    }
   ],
   "source": [
    "Image(url='https://raw.githubusercontent.com/tata-antares/tagging_LHCb/master/img/Bmass_selected.png')"
   ]
  },
  {
   "cell_type": "markdown",
   "metadata": {
    "slideshow": {
     "slide_type": "subslide"
    }
   },
   "source": [
    "### Number of tracks for events"
   ]
  },
  {
   "cell_type": "code",
   "execution_count": 6,
   "metadata": {
    "collapsed": false,
    "slideshow": {
     "slide_type": "fragment"
    }
   },
   "outputs": [
    {
     "data": {
      "text/html": [
       "<img src=\"https://raw.githubusercontent.com/tata-antares/tagging_LHCb/master/img/tracks_number.png\"/>"
      ],
      "text/plain": [
       "<IPython.core.display.Image object>"
      ]
     },
     "execution_count": 6,
     "metadata": {},
     "output_type": "execute_result"
    }
   ],
   "source": [
    "Image(url='https://raw.githubusercontent.com/tata-antares/tagging_LHCb/master/img/tracks_number.png')"
   ]
  },
  {
   "cell_type": "markdown",
   "metadata": {
    "slideshow": {
     "slide_type": "subslide"
    }
   },
   "source": [
    "### PIDNN distributions after selection"
   ]
  },
  {
   "cell_type": "code",
   "execution_count": 7,
   "metadata": {
    "collapsed": false,
    "slideshow": {
     "slide_type": "fragment"
    }
   },
   "outputs": [
    {
     "data": {
      "text/html": [
       "<img src=\"https://raw.githubusercontent.com/tata-antares/tagging_LHCb/master/img/PID_selected.png\"/>"
      ],
      "text/plain": [
       "<IPython.core.display.Image object>"
      ]
     },
     "execution_count": 7,
     "metadata": {},
     "output_type": "execute_result"
    }
   ],
   "source": [
    "Image(url='https://raw.githubusercontent.com/tata-antares/tagging_LHCb/master/img/PID_selected.png')"
   ]
  },
  {
   "cell_type": "code",
   "execution_count": 8,
   "metadata": {
    "collapsed": false
   },
   "outputs": [
    {
     "data": {
      "text/html": [
       "<img src=\"https://raw.githubusercontent.com/tata-antares/tagging_LHCb/master/img/PID_selected_hist.png\"/>"
      ],
      "text/plain": [
       "<IPython.core.display.Image object>"
      ]
     },
     "execution_count": 8,
     "metadata": {},
     "output_type": "execute_result"
    }
   ],
   "source": [
    "Image(url='https://raw.githubusercontent.com/tata-antares/tagging_LHCb/master/img/PID_selected_hist.png')"
   ]
  },
  {
   "cell_type": "markdown",
   "metadata": {
    "slideshow": {
     "slide_type": "slide"
    }
   },
   "source": [
    "### Training "
   ]
  },
  {
   "cell_type": "markdown",
   "metadata": {
    "slideshow": {
     "slide_type": "subslide"
    }
   },
   "source": [
    "#### Features (sig = signal, part = tagger track):\n",
    "\n",
    "* `cos_diff_phi` = $\\cos(\\phi^{sig} - \\phi^{\\rm part})$\n",
    "* `diff_pt` = $\\max(p_T)^{part} - p_T(B^{sig})$\n",
    "* `partPt`= $p_T^{part}$\n",
    "* `max_PID_e_mu` = $\\max(PIDNN(e), PIDNN(\\mu))^{part}$\n",
    "* `partP` = $p^{part}$\n",
    "* `nnkrec` = Number of reconstructed vertices\n",
    "* `diff_eta` = $(\\eta^{sig} - \\eta^{\\rm part})$\n",
    "* `EOverP` = E/P (from CALO)\n",
    "* `sum_PID_k_mu` = $\\sum\\limits_{i\\in part}(PIDNN(K)+PIDNN(\\mu))$\n",
    "* `ptB` = $p_T^{sig}$"
   ]
  },
  {
   "cell_type": "markdown",
   "metadata": {
    "slideshow": {
     "slide_type": "subslide"
    }
   },
   "source": [
    "* `sum_PID_e_mu` = $\\sum\\limits_{i\\in part}(PIDNN(e)+PIDNN(\\mu))$\n",
    "* `sum_PID_k_e` = $\\sum\\limits_{i\\in part}(PIDNN(K)+PIDNN(e))$\n",
    "* `proj` = $(\\vec{p}^{sig},\\vec{p}^{part})$\n",
    "* `PIDNNe` = $PIDNN(e)$\n",
    "* `PIDNNk` = $PIDNN(K)$\n",
    "* `PIDNNm` = $PIDNN(\\mu)$\n",
    "* `phi` = $\\phi^{sig}$\n",
    "* `IP` = number of IPs in the event"
   ]
  },
  {
   "cell_type": "markdown",
   "metadata": {
    "slideshow": {
     "slide_type": "subslide"
    }
   },
   "source": [
    "* `max_PID_k_mu` = $max(PIDNN(K)+PIDNN(\\mu))$\n",
    "* `IPerr` = error of IP\n",
    "* `IPs` = IP/IPerr\n",
    "* `veloch` = dE/dx track charge from the VELO system\n",
    "* `max_PID_k_e`  = $max(PIDNN(K)+PIDNN(e))$\n",
    "* `diff_phi`  = $(\\phi^{sig} - \\phi^{\\rm part})$\n",
    "* `ghostProb` = ghost probability \n",
    "* `IPPU` =  impact parameter with respect to any other reconstructed primary vertex.\n",
    "* `eta` = pseudorapity of signal particle\n",
    "* `partlcs` = chi2PerDoF for a track "
   ]
  },
  {
   "cell_type": "markdown",
   "metadata": {
    "slideshow": {
     "slide_type": "slide"
    }
   },
   "source": [
    "#### Classifier\n",
    "\n",
    "Try to define B sign using track sign (to define they have the same signs or opposite).\n",
    "\n",
    "`target` = `signB` * `signTrack` > 0\n",
    "\n",
    "* classifier returns \n",
    "$$P(\\text{track same sign as B| B sign}) = $$\n",
    "$$ =P(\\text{B same sign as track| track sign})$$\n",
    "* 2-folding training on the full training sample to use full sample for futher analysis (folding scheme provides not overfitted model, details: http://yandex.github.io/rep/metaml.html#module-rep.metaml.folding)"
   ]
  },
  {
   "cell_type": "markdown",
   "metadata": {
    "slideshow": {
     "slide_type": "slide"
    }
   },
   "source": [
    "#### Calibration of $P(\\text{track same sign as B| B sign})$\n",
    "\n",
    "* use 2-folding logistic calibration for track classifier's prediction\n",
    "* compare with isotonic calibration (bad)\n",
    "* compare with absent calibration (bad, have shift predictions)"
   ]
  },
  {
   "cell_type": "markdown",
   "metadata": {
    "slideshow": {
     "slide_type": "slide"
    }
   },
   "source": [
    "#### Computation of $p(B^+)$ using $P(\\text{track same sign as B| B sign})$\n",
    "\n",
    "Compute $p(B^+)$ using this probabilistic model representation (similar to the previous tagging combination):\n",
    "\n",
    "$$ \\frac{P(B^+)}{P(B^-)} = \\prod_{track, vertex} \\frac{P(\\text{track/vertex}|B^+)} {P(\\text{track/vertex} |B^-)} = P\n",
    "\\qquad $$\n",
    "$$\\Rightarrow\\qquad P(B^+) = \\frac {P}{1+P},   \\qquad \\qquad    [1] $$\n",
    "where\n",
    "\n",
    "$$\n",
    "\\frac{P(B^+)}{P(B^-)} =  \n",
    "\\begin{cases}\n",
    "\\frac{P(\\text{track/vertex same sign as } B| B)}{P(\\text{track/vertex opposite sign as } B| B)}, \\text{if track/vertex}^+ \\\\ \\\\\n",
    "\\frac{P(\\text{track/vertex opposite sign as } B| B)}{P(\\text{track/vertex same sign as } B| B)}, \\text{if track/vertex}^- \n",
    "\\end{cases}\n",
    "$$\n",
    "\n",
    "$$p_{mistag} = min(p(B^+), p(B^-))$$"
   ]
  },
  {
   "cell_type": "markdown",
   "metadata": {
    "slideshow": {
     "slide_type": "slide"
    }
   },
   "source": [
    "#### Intermediate estimation $<D^2>$ for tracking\n",
    "\n",
    "Do calibration of $p(B^+)$ and compute $<D^2>$ :\n",
    "\n",
    "* use Isotonic calibration (generalization of bins fitting by linear function) - piecewise-constant monotonic function\n",
    "* randomly divide events into two parts (1-train, 2-calibrate)\n",
    "* symmetric isotonic fitting on train and $<D^2>$ computation on test\n",
    "* take mean and std for computed $<D^2>$\n",
    "\n",
    "$<D^2>$  formula for sample:\n",
    "$$<D^2> =  \\frac{\\sum_i[2(p^{mistag}_i - 0.5)]^2 * sw_i}{\\sum_i sw_i} = $$\n",
    "$$ =  \\frac{\\sum_i[2(p_i(B^+) - 0.5)]^2 * sw_i}{\\sum_i sw_i}$$\n",
    "\n",
    "Formula is symmetric and it is not necessary to compute mistag probability"
   ]
  },
  {
   "cell_type": "markdown",
   "metadata": {
    "slideshow": {
     "slide_type": "slide"
    }
   },
   "source": [
    "## Vertex OS tagging\n",
    "https://github.com/tata-antares/tagging_LHCb/blob/master/vertex-based-tagging.ipynb\n",
    "\n",
    "\n",
    "### Selections\n",
    "\n",
    "* All selection in c++ code are removed except DaVinci probability cuts\n",
    "\n",
    "\n",
    "### Data for training\n",
    "\n",
    "* `data_sw_passed` - tracks with **B-sWeight > 1**, are used for training\n",
    "* `data_sw_not_passed` - tracks with **B-sWeight <= 1**, are tagged after training"
   ]
  },
  {
   "cell_type": "markdown",
   "metadata": {
    "slideshow": {
     "slide_type": "slide"
    }
   },
   "source": [
    "### Training "
   ]
  },
  {
   "cell_type": "markdown",
   "metadata": {
    "slideshow": {
     "slide_type": "slide"
    }
   },
   "source": [
    "#### Features:\n",
    "\n",
    "* `mult` = multiplicity in the event\n",
    "* `nnkrec` = number of reconstructed vertices \n",
    "* `ptB` = signal B transverse momentum \n",
    "* `vflag` = number of tracks in the vertex\n",
    "* `ipsmean` = mean distance to IP of the tracks\n",
    "* `ptmean`  = mean pt of the tracks\n",
    "* `vcharge` = charge of the vertex weigthed by pt\n",
    "* `svm` = mass of the vertex \n",
    "* `svp` = momentum of the vertex\n",
    "* `BDphiDir` = distance betwen B and vertex direction\n",
    "* `svtau`  = lifetime of the vertex\n",
    "* `docamax` = mean DOCA of the tracks"
   ]
  },
  {
   "cell_type": "markdown",
   "metadata": {
    "slideshow": {
     "slide_type": "slide"
    }
   },
   "source": [
    "#### Classifier\n",
    "\n",
    "Try to define B sign using vertex sign (to define they have the same signs or opposite).\n",
    "\n",
    "`target` = `signB` * `signTrack` > 0\n",
    "\n",
    "* classifier returns \n",
    "$$P(\\text{vertex same sign as B| B sign}) = $$\n",
    "$$ = P(\\text{B same sign as vertex| vertex sign})$$\n",
    "* 2-folding training on the full training sample to use full sample for futher analysis (folding scheme provides not overfitted model, details: http://yandex.github.io/rep/metaml.html#module-rep.metaml.folding)"
   ]
  },
  {
   "cell_type": "markdown",
   "metadata": {
    "slideshow": {
     "slide_type": "slide"
    }
   },
   "source": [
    "#### Calibration of $P(\\text{vertex same sign as B| B sign})$\n",
    "\n",
    "* use 2-folding isotonic calibration for vertex classifier's prediction\n",
    "* compare with logistic calibration (bad)\n",
    "\n",
    "#### Computation of $p(B^+)$ using $P(\\text{vertex same sign as B| B sign})$\n",
    "\n",
    "The same formula as for tracks."
   ]
  },
  {
   "cell_type": "markdown",
   "metadata": {
    "slideshow": {
     "slide_type": "slide"
    }
   },
   "source": [
    "#### Intermediate estimation $<D^2>$ for vertices\n",
    "\n",
    "Do calibration of $p(B^+)$ and compute $<D^2>$ :\n",
    "\n",
    "* use Isotonic calibration (generalization of bins fitting by linear function) - piecewise-constant monotonic function\n",
    "* randomly divide events into two parts (1-train, 2-calibrate)\n",
    "* symmetric isotonic fitting on train and $<D^2>$ computation on test\n",
    "* take mean and std for computed $<D^2>$\n",
    "\n",
    "$<D^2>$  formula for sample:\n",
    "$$<D^2> =  \\frac{\\sum_i[2(p^{mistag}_i - 0.5)]^2 * sw_i}{\\sum_i sw_i} = $$\n",
    "$$ =  \\frac{\\sum_i[2(p_i(B^+) - 0.5)]^2 * sw_i}{\\sum_i sw_i}$$\n",
    "\n",
    "Formula is symmetric and it is not necessary to compute mistag probability"
   ]
  },
  {
   "cell_type": "markdown",
   "metadata": {
    "slideshow": {
     "slide_type": "slide"
    }
   },
   "source": [
    "## Preliminary estimation\n",
    "\n",
    "### $\\epsilon$ calculation\n",
    "\n",
    "$$\\epsilon = <D^2> * \\epsilon_{tag}$$\n",
    "\n",
    "$$\\Delta \\epsilon = \\sqrt{ \\left(\\frac{\\Delta <D^2>}{<D^2>}\\right)^2 + \\left(\\frac{\\Delta \\epsilon_{tag} }{\\epsilon_{tag}} \\right)^2 }$$\n",
    "\n",
    "* Combine track-based and vertex-based tagging using formula [1]\n",
    "* symmetric isotonic calibration on random subsample with $D^2$ calculation\n",
    "* take mean and std for computed $<D^2>$\n",
    "\n",
    "https://github.com/tata-antares/tagging_LHCb/blob/master/combined-tagging.ipynb"
   ]
  },
  {
   "cell_type": "code",
   "execution_count": 9,
   "metadata": {
    "collapsed": false,
    "slideshow": {
     "slide_type": "subslide"
    }
   },
   "outputs": [
    {
     "data": {
      "text/html": [
       "<div style=\"max-height:1000px;max-width:1500px;overflow:auto;\">\n",
       "<table border=\"1\" class=\"dataframe\">\n",
       "  <thead>\n",
       "    <tr style=\"text-align: right;\">\n",
       "      <th></th>\n",
       "      <th>name</th>\n",
       "      <th>$\\epsilon_{tag}, \\%$</th>\n",
       "      <th>$\\Delta \\epsilon_{tag}, \\%$</th>\n",
       "      <th>$D^2$</th>\n",
       "      <th>$\\Delta D^2$</th>\n",
       "      <th>$\\epsilon, \\%$</th>\n",
       "      <th>$\\Delta \\epsilon, \\%$</th>\n",
       "      <th>AUC, with untag</th>\n",
       "    </tr>\n",
       "  </thead>\n",
       "  <tbody>\n",
       "    <tr>\n",
       "      <th>0</th>\n",
       "      <td> Inclusive tagging</td>\n",
       "      <td> 77.79</td>\n",
       "      <td> 0.1023</td>\n",
       "      <td> 0.0345</td>\n",
       "      <td> 0.0005</td>\n",
       "      <td> 2.6833</td>\n",
       "      <td> 0.0358</td>\n",
       "      <td> 57.9258</td>\n",
       "    </tr>\n",
       "  </tbody>\n",
       "</table>\n",
       "</div>"
      ],
      "text/plain": [
       "                name  $\\epsilon_{tag}, \\%$  $\\Delta \\epsilon_{tag}, \\%$  \\\n",
       "0  Inclusive tagging                 77.79                       0.1023   \n",
       "\n",
       "    $D^2$  $\\Delta D^2$  $\\epsilon, \\%$  $\\Delta \\epsilon, \\%$  \\\n",
       "0  0.0345        0.0005          2.6833                 0.0358   \n",
       "\n",
       "   AUC, with untag  \n",
       "0          57.9258  "
      ]
     },
     "execution_count": 9,
     "metadata": {},
     "output_type": "execute_result"
    }
   ],
   "source": [
    "pandas.set_option('display.precision', 5)\n",
    "pandas.read_csv('img/new-tagging.csv').drop(['$\\Delta$ AUC, with untag'], axis=1)"
   ]
  },
  {
   "cell_type": "markdown",
   "metadata": {
    "collapsed": true,
    "slideshow": {
     "slide_type": "slide"
    }
   },
   "source": [
    "## Full estimation of systematic error\n",
    "\n",
    "https://github.com/tata-antares/tagging_LHCb/blob/master/tagging-full-systematic.ipynb\n",
    "\n",
    "* set random state\n",
    "* train the best model (track and vertex taggers with 2-folding with fixed random state)\n",
    "* do calibration for track and vertex taggers with 2-folding with fixed random state\n",
    "* compute $p(B^+)$\n",
    "* do calibration with isotonic 2-folding (random state is fixed)\n",
    "* compute $<D^2>$\n",
    "\n",
    "This procedure is repeated (from the scratch) for 30 different random states and then we compute **mean** and **std** for these 30 values of $<D^2>$."
   ]
  },
  {
   "cell_type": "code",
   "execution_count": 10,
   "metadata": {
    "collapsed": false,
    "slideshow": {
     "slide_type": "subslide"
    }
   },
   "outputs": [
    {
     "data": {
      "text/html": [
       "<div style=\"max-height:1000px;max-width:1500px;overflow:auto;\">\n",
       "<table border=\"1\" class=\"dataframe\">\n",
       "  <thead>\n",
       "    <tr style=\"text-align: right;\">\n",
       "      <th></th>\n",
       "      <th>name</th>\n",
       "      <th>$\\epsilon_{tag}, \\%$</th>\n",
       "      <th>$\\Delta \\epsilon_{tag}, \\%$</th>\n",
       "      <th>$D^2$</th>\n",
       "      <th>$\\Delta D^2$</th>\n",
       "      <th>$\\epsilon, \\%$</th>\n",
       "      <th>$\\Delta \\epsilon, \\%$</th>\n",
       "      <th>AUC, with untag</th>\n",
       "      <th>$\\Delta$ AUC, with untag</th>\n",
       "    </tr>\n",
       "  </thead>\n",
       "  <tbody>\n",
       "    <tr>\n",
       "      <th>0</th>\n",
       "      <td> NEW + full systematic</td>\n",
       "      <td> 77.79</td>\n",
       "      <td> 0.1023</td>\n",
       "      <td> 0.0349</td>\n",
       "      <td> 0.0001</td>\n",
       "      <td> 2.7163</td>\n",
       "      <td> 0.0088</td>\n",
       "      <td> 57.9586</td>\n",
       "      <td> 0.0246</td>\n",
       "    </tr>\n",
       "  </tbody>\n",
       "</table>\n",
       "</div>"
      ],
      "text/plain": [
       "                    name  $\\epsilon_{tag}, \\%$  $\\Delta \\epsilon_{tag}, \\%$  \\\n",
       "0  NEW + full systematic                 77.79                       0.1023   \n",
       "\n",
       "    $D^2$  $\\Delta D^2$  $\\epsilon, \\%$  $\\Delta \\epsilon, \\%$  \\\n",
       "0  0.0349        0.0001          2.7163                 0.0088   \n",
       "\n",
       "   AUC, with untag  $\\Delta$ AUC, with untag  \n",
       "0          57.9586                    0.0246  "
      ]
     },
     "execution_count": 10,
     "metadata": {},
     "output_type": "execute_result"
    }
   ],
   "source": [
    "pandas.set_option('display.precision', 5)\n",
    "pandas.read_csv('img/new-tagging-systematic.csv')"
   ]
  },
  {
   "cell_type": "markdown",
   "metadata": {
    "slideshow": {
     "slide_type": "slide"
    }
   },
   "source": [
    "## Calibration checking"
   ]
  },
  {
   "cell_type": "code",
   "execution_count": 11,
   "metadata": {
    "collapsed": false,
    "slideshow": {
     "slide_type": "fragment"
    }
   },
   "outputs": [
    {
     "data": {
      "text/html": [
       "<img src=\"https://raw.githubusercontent.com/tata-antares/tagging_LHCb/master/img/Bprob_iso_calibrated.png\"/>"
      ],
      "text/plain": [
       "<IPython.core.display.Image object>"
      ]
     },
     "execution_count": 11,
     "metadata": {},
     "output_type": "execute_result"
    }
   ],
   "source": [
    "Image(url='https://raw.githubusercontent.com/tata-antares/tagging_LHCb/master/img/Bprob_iso_calibrated.png')"
   ]
  },
  {
   "cell_type": "markdown",
   "metadata": {
    "slideshow": {
     "slide_type": "subslide"
    }
   },
   "source": [
    "### Isotonic transformation"
   ]
  },
  {
   "cell_type": "code",
   "execution_count": 12,
   "metadata": {
    "collapsed": false,
    "slideshow": {
     "slide_type": "fragment"
    }
   },
   "outputs": [
    {
     "data": {
      "text/html": [
       "<img src=\"https://raw.githubusercontent.com/tata-antares/tagging_LHCb/master/img/iso_transformation.png\"/>"
      ],
      "text/plain": [
       "<IPython.core.display.Image object>"
      ]
     },
     "execution_count": 12,
     "metadata": {},
     "output_type": "execute_result"
    }
   ],
   "source": [
    "Image(url='https://raw.githubusercontent.com/tata-antares/tagging_LHCb/master/img/iso_transformation.png')"
   ]
  },
  {
   "cell_type": "markdown",
   "metadata": {
    "slideshow": {
     "slide_type": "slide"
    }
   },
   "source": [
    "### Check calibration of mistag\n",
    "* axis x: predicted mistag probability \n",
    "$$p_{mistag} = min(p(B^+), p(B^-))$$\n",
    "* axis y: true mistag probability (computed for bin)\n",
    "$$p_{mistag} = \\frac{N_{wrong}} {N_{wrong} + N_{right}}$$\n",
    "\n",
    "$$\\Delta p_{mistag} = \\frac{\\sqrt{N_{wrong} N_{right}}} {(N_{wrong} + N_{right})^{1.5}}$$"
   ]
  },
  {
   "cell_type": "markdown",
   "metadata": {},
   "source": [
    "#### before calibration"
   ]
  },
  {
   "cell_type": "code",
   "execution_count": 13,
   "metadata": {
    "collapsed": false,
    "slideshow": {
     "slide_type": "subslide"
    }
   },
   "outputs": [
    {
     "data": {
      "text/html": [
       "<img src=\"https://raw.githubusercontent.com/tata-antares/tagging_LHCb/master/img/Bprob_calibration_check_uniform.png\"/>"
      ],
      "text/plain": [
       "<IPython.core.display.Image object>"
      ]
     },
     "execution_count": 13,
     "metadata": {},
     "output_type": "execute_result"
    }
   ],
   "source": [
    "Image(url='https://raw.githubusercontent.com/tata-antares/tagging_LHCb/master/img/Bprob_calibration_check_uniform.png')"
   ]
  },
  {
   "cell_type": "code",
   "execution_count": 14,
   "metadata": {
    "collapsed": false,
    "slideshow": {
     "slide_type": "subslide"
    }
   },
   "outputs": [
    {
     "data": {
      "text/html": [
       "<img src=\"https://raw.githubusercontent.com/tata-antares/tagging_LHCb/master/img/Bprob_calibration_check_percentile.png\"/>"
      ],
      "text/plain": [
       "<IPython.core.display.Image object>"
      ]
     },
     "execution_count": 14,
     "metadata": {},
     "output_type": "execute_result"
    }
   ],
   "source": [
    "Image(url='https://raw.githubusercontent.com/tata-antares/tagging_LHCb/master/img/Bprob_calibration_check_percentile.png')"
   ]
  },
  {
   "cell_type": "markdown",
   "metadata": {},
   "source": [
    "#### Symmetric isotonic calibration + random noise * 0.001 (noise for stability of bins)\n"
   ]
  },
  {
   "cell_type": "code",
   "execution_count": 15,
   "metadata": {
    "collapsed": false,
    "slideshow": {
     "slide_type": "subslide"
    }
   },
   "outputs": [
    {
     "data": {
      "text/html": [
       "<img src=\"https://raw.githubusercontent.com/tata-antares/tagging_LHCb/master/img/Bprob_calibration_check_iso_uniform.png\"/>"
      ],
      "text/plain": [
       "<IPython.core.display.Image object>"
      ]
     },
     "execution_count": 15,
     "metadata": {},
     "output_type": "execute_result"
    }
   ],
   "source": [
    "Image(url='https://raw.githubusercontent.com/tata-antares/tagging_LHCb/master/img/Bprob_calibration_check_iso_uniform.png')"
   ]
  },
  {
   "cell_type": "code",
   "execution_count": 16,
   "metadata": {
    "collapsed": false,
    "slideshow": {
     "slide_type": "subslide"
    }
   },
   "outputs": [
    {
     "data": {
      "text/html": [
       "<img src=\"https://raw.githubusercontent.com/tata-antares/tagging_LHCb/master/img/Bprob_calibration_check_iso_percentile.png\"/>"
      ],
      "text/plain": [
       "<IPython.core.display.Image object>"
      ]
     },
     "execution_count": 16,
     "metadata": {},
     "output_type": "execute_result"
    }
   ],
   "source": [
    "Image(url='https://raw.githubusercontent.com/tata-antares/tagging_LHCb/master/img/Bprob_calibration_check_iso_percentile.png')"
   ]
  },
  {
   "cell_type": "markdown",
   "metadata": {
    "slideshow": {
     "slide_type": "slide"
    }
   },
   "source": [
    "# UPDATE 2:\n",
    "\n",
    "#Opposite side tagging (OS) tagging (NEW) + remove cuts on PIDNN for $K, \\mu, e$"
   ]
  },
  {
   "cell_type": "markdown",
   "metadata": {},
   "source": [
    "## Tracking inclusive OS tagging without cuts\n",
    "https://github.com/tata-antares/tagging_LHCb/blob/master/track-based-tagging-PID-less.ipynb\n",
    "\n",
    "\n",
    "### Selections\n",
    "\n",
    "* Input: all possible tracks for all B-events.\n",
    "* (PIDNNp < tr) & (PIDNNpi < tr) & (ghostProb < 0.4), tr=0.6\n",
    "* ((PIDNNk > trk) | (PIDNNm > trm) | (PIDNNe > tre)), trk=0., trm=0., tre=0."
   ]
  },
  {
   "cell_type": "markdown",
   "metadata": {
    "slideshow": {
     "slide_type": "subslide"
    }
   },
   "source": [
    "### B mass before sWeight cut"
   ]
  },
  {
   "cell_type": "code",
   "execution_count": 17,
   "metadata": {
    "collapsed": false
   },
   "outputs": [
    {
     "data": {
      "text/html": [
       "<img src=\"https://raw.githubusercontent.com/tata-antares/tagging_LHCb/master/img/Bmass_less_PID.png\"/>"
      ],
      "text/plain": [
       "<IPython.core.display.Image object>"
      ]
     },
     "execution_count": 17,
     "metadata": {},
     "output_type": "execute_result"
    }
   ],
   "source": [
    "Image(url='https://raw.githubusercontent.com/tata-antares/tagging_LHCb/master/img/Bmass_less_PID.png')"
   ]
  },
  {
   "cell_type": "markdown",
   "metadata": {},
   "source": [
    "### B mass after sWeight cut"
   ]
  },
  {
   "cell_type": "code",
   "execution_count": 18,
   "metadata": {
    "collapsed": false
   },
   "outputs": [
    {
     "data": {
      "text/html": [
       "<img src=\"https://raw.githubusercontent.com/tata-antares/tagging_LHCb/master/img/Bmass_selected_less_PID.png\"/>"
      ],
      "text/plain": [
       "<IPython.core.display.Image object>"
      ]
     },
     "execution_count": 18,
     "metadata": {},
     "output_type": "execute_result"
    }
   ],
   "source": [
    "Image(url='https://raw.githubusercontent.com/tata-antares/tagging_LHCb/master/img/Bmass_selected_less_PID.png')"
   ]
  },
  {
   "cell_type": "markdown",
   "metadata": {},
   "source": [
    "### Number of tracks for events"
   ]
  },
  {
   "cell_type": "code",
   "execution_count": 19,
   "metadata": {
    "collapsed": false
   },
   "outputs": [
    {
     "data": {
      "text/html": [
       "<img src=\"https://raw.githubusercontent.com/tata-antares/tagging_LHCb/master/img/tracks_number_less_PID.png\"/>"
      ],
      "text/plain": [
       "<IPython.core.display.Image object>"
      ]
     },
     "execution_count": 19,
     "metadata": {},
     "output_type": "execute_result"
    }
   ],
   "source": [
    "Image(url='https://raw.githubusercontent.com/tata-antares/tagging_LHCb/master/img/tracks_number_less_PID.png')"
   ]
  },
  {
   "cell_type": "markdown",
   "metadata": {},
   "source": [
    "### PIDNN distributions after selection"
   ]
  },
  {
   "cell_type": "code",
   "execution_count": 26,
   "metadata": {
    "collapsed": false
   },
   "outputs": [
    {
     "data": {
      "text/html": [
       "<img src=\"https://raw.githubusercontent.com/tata-antares/tagging_LHCb/master/img/PID_selected_less_PID.png\"/>"
      ],
      "text/plain": [
       "<IPython.core.display.Image object>"
      ]
     },
     "execution_count": 26,
     "metadata": {},
     "output_type": "execute_result"
    }
   ],
   "source": [
    "Image(url='https://raw.githubusercontent.com/tata-antares/tagging_LHCb/master/img/PID_selected_less_PID.png')"
   ]
  },
  {
   "cell_type": "code",
   "execution_count": 21,
   "metadata": {
    "collapsed": false
   },
   "outputs": [
    {
     "data": {
      "text/html": [
       "<img src=\"https://raw.githubusercontent.com/tata-antares/tagging_LHCb/master/img/PID_selected_hist_less_PID.png\"/>"
      ],
      "text/plain": [
       "<IPython.core.display.Image object>"
      ]
     },
     "execution_count": 21,
     "metadata": {},
     "output_type": "execute_result"
    }
   ],
   "source": [
    "Image(url='https://raw.githubusercontent.com/tata-antares/tagging_LHCb/master/img/PID_selected_hist_less_PID.png')"
   ]
  },
  {
   "cell_type": "markdown",
   "metadata": {},
   "source": [
    "## Preliminary estimation\n",
    "\n",
    "https://github.com/tata-antares/tagging_LHCb/blob/master/combined-tagging-PID-less.ipynb"
   ]
  },
  {
   "cell_type": "code",
   "execution_count": 22,
   "metadata": {
    "collapsed": false
   },
   "outputs": [
    {
     "data": {
      "text/html": [
       "<div style=\"max-height:1000px;max-width:1500px;overflow:auto;\">\n",
       "<table border=\"1\" class=\"dataframe\">\n",
       "  <thead>\n",
       "    <tr style=\"text-align: right;\">\n",
       "      <th></th>\n",
       "      <th>name</th>\n",
       "      <th>$\\epsilon_{tag}, \\%$</th>\n",
       "      <th>$\\Delta \\epsilon_{tag}, \\%$</th>\n",
       "      <th>$D^2$</th>\n",
       "      <th>$\\Delta D^2$</th>\n",
       "      <th>$\\epsilon, \\%$</th>\n",
       "      <th>$\\Delta \\epsilon, \\%$</th>\n",
       "      <th>AUC, with untag</th>\n",
       "    </tr>\n",
       "  </thead>\n",
       "  <tbody>\n",
       "    <tr>\n",
       "      <th>0</th>\n",
       "      <td> Inclusive tagging, PID less</td>\n",
       "      <td> 99.208</td>\n",
       "      <td> 0.1156</td>\n",
       "      <td> 0.0408</td>\n",
       "      <td> 0.0004</td>\n",
       "      <td> 4.05</td>\n",
       "      <td> 0.0356</td>\n",
       "      <td> 61.2362</td>\n",
       "    </tr>\n",
       "  </tbody>\n",
       "</table>\n",
       "</div>"
      ],
      "text/plain": [
       "                          name  $\\epsilon_{tag}, \\%$  \\\n",
       "0  Inclusive tagging, PID less                99.208   \n",
       "\n",
       "   $\\Delta \\epsilon_{tag}, \\%$   $D^2$  $\\Delta D^2$  $\\epsilon, \\%$  \\\n",
       "0                       0.1156  0.0408        0.0004            4.05   \n",
       "\n",
       "   $\\Delta \\epsilon, \\%$  AUC, with untag  \n",
       "0                 0.0356          61.2362  "
      ]
     },
     "execution_count": 22,
     "metadata": {},
     "output_type": "execute_result"
    }
   ],
   "source": [
    "pandas.set_option('display.precision', 5)\n",
    "pandas.read_csv('img/new-tagging-PID-less.csv').drop(['$\\Delta$ AUC, with untag'], axis=1)"
   ]
  },
  {
   "cell_type": "markdown",
   "metadata": {},
   "source": [
    "### Check calibration of mistag"
   ]
  },
  {
   "cell_type": "code",
   "execution_count": 23,
   "metadata": {
    "collapsed": false
   },
   "outputs": [
    {
     "data": {
      "text/html": [
       "<img src=\"https://raw.githubusercontent.com/tata-antares/tagging_LHCb/master/img/Bprob_iso_calibrated_PID_less.png\"/>"
      ],
      "text/plain": [
       "<IPython.core.display.Image object>"
      ]
     },
     "execution_count": 23,
     "metadata": {},
     "output_type": "execute_result"
    }
   ],
   "source": [
    "Image(url='https://raw.githubusercontent.com/tata-antares/tagging_LHCb/master/img/Bprob_iso_calibrated_PID_less.png')"
   ]
  },
  {
   "cell_type": "markdown",
   "metadata": {},
   "source": [
    "#### before calibration"
   ]
  },
  {
   "cell_type": "code",
   "execution_count": 24,
   "metadata": {
    "collapsed": false
   },
   "outputs": [
    {
     "data": {
      "text/html": [
       "<img src=\"https://raw.githubusercontent.com/tata-antares/tagging_LHCb/master/img/Bprob_calibration_check_percentile_PID_less.png\"/>"
      ],
      "text/plain": [
       "<IPython.core.display.Image object>"
      ]
     },
     "execution_count": 24,
     "metadata": {},
     "output_type": "execute_result"
    }
   ],
   "source": [
    "Image(url='https://raw.githubusercontent.com/tata-antares/tagging_LHCb/master/img/Bprob_calibration_check_percentile_PID_less.png')"
   ]
  },
  {
   "cell_type": "markdown",
   "metadata": {},
   "source": [
    "#### Symmetric isotonic calibration + random noise * 0.001 (noise for stability of bins)\n"
   ]
  },
  {
   "cell_type": "code",
   "execution_count": 25,
   "metadata": {
    "collapsed": false
   },
   "outputs": [
    {
     "data": {
      "text/html": [
       "<img src=\"https://raw.githubusercontent.com/tata-antares/tagging_LHCb/master/img/Bprob_calibration_check_iso_percentile_PID_less.png\"/>"
      ],
      "text/plain": [
       "<IPython.core.display.Image object>"
      ]
     },
     "execution_count": 25,
     "metadata": {},
     "output_type": "execute_result"
    }
   ],
   "source": [
    "Image(url='https://raw.githubusercontent.com/tata-antares/tagging_LHCb/master/img/Bprob_calibration_check_iso_percentile_PID_less.png')"
   ]
  },
  {
   "cell_type": "markdown",
   "metadata": {
    "slideshow": {
     "slide_type": "slide"
    }
   },
   "source": [
    "## TODO in progress\n",
    "\n",
    "* convert python models to xml format (for production stage)\n",
    "* add feature idea (Stefania)\n",
    "* get all vertices from DaVinci"
   ]
  }
 ],
 "metadata": {
  "kernelspec": {
   "display_name": "Python 2",
   "language": "python",
   "name": "python2"
  },
  "language_info": {
   "codemirror_mode": {
    "name": "ipython",
    "version": 2
   },
   "file_extension": ".py",
   "mimetype": "text/x-python",
   "name": "python",
   "nbconvert_exporter": "python",
   "pygments_lexer": "ipython2",
   "version": "2.7.3"
  }
 },
 "nbformat": 4,
 "nbformat_minor": 0
}
