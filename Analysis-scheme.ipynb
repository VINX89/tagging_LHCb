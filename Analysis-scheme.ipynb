{
 "cells": [
  {
   "cell_type": "code",
   "execution_count": 1,
   "metadata": {
    "collapsed": true
   },
   "outputs": [],
   "source": [
    "from IPython.display import Image\n",
    "import pandas"
   ]
  },
  {
   "cell_type": "markdown",
   "metadata": {},
   "source": [
    "# Opposite side tagging (OS) tagging (Current version)\n",
    "\n",
    "https://github.com/tata-antares/tagging_LHCb/blob/master/old-tagging.ipynb"
   ]
  },
  {
   "cell_type": "code",
   "execution_count": null,
   "metadata": {
    "collapsed": true
   },
   "outputs": [],
   "source": [
    "pandas.read_csv('img/old-tagging.csv')"
   ]
  },
  {
   "cell_type": "markdown",
   "metadata": {},
   "source": [
    "# Opposite side tagging (OS) tagging (NEW)"
   ]
  },
  {
   "cell_type": "markdown",
   "metadata": {},
   "source": [
    "## Data: \n",
    "\n",
    "* real data $B^+ \\to J\\psi K^+$, $B^- \\to J\\psi K^-$ \n",
    "* apply sPlot to obtain sWeight ~ P(B)\n",
    "* set `event_id` - EventNumber & RunNumber"
   ]
  },
  {
   "cell_type": "markdown",
   "metadata": {},
   "source": [
    "## Tracking inclusive OS tagging\n",
    "https://github.com/tata-antares/tagging_LHCb/blob/master/track-based-tagging.ipynb\n",
    "\n",
    "\n",
    "### Selections\n",
    "\n",
    "* Input: all possible tracks for all B-events.\n",
    "* (PIDNNp < tr) & (PIDNNpi < tr) & (ghostProb < 0.4), tr=0.6\n",
    "* ((PIDNNk > trk) | (PIDNNm > trm) | (PIDNNe > tre)), trk=0.7, trm=0.4, tre=0.6\n",
    "\n",
    "\n",
    "\n",
    "### $\\epsilon_{tag}$ calculation\n",
    "\n",
    "$$N (\\text{passed selection}) = \\sum_{\\text{passed selection}} sw_i$$\n",
    "\n",
    "$$N (\\text{all events}) = \\sum_{\\text{all events}} sw_i,$$\n",
    "\n",
    "where $sw_i$ - sPLot weight\n",
    "\n",
    "$$\\epsilon_{tag} = \\frac{N (\\text{passed selection})} {N (\\text{all events})}$$\n",
    "\n",
    "$$\\Delta\\epsilon_{tag} = \\frac{\\sqrt{N (\\text{passed selection})}} {N (\\text{all events})}$$\n",
    "\n",
    "\n",
    "### Data for training\n",
    "\n",
    "* `data_sw_passed` - tracks with **B-sWeight > 1**, are used for training\n",
    "* `data_sw_not_passed` - tracks with **B-sWeight <= 1**, are tagged after training"
   ]
  },
  {
   "cell_type": "markdown",
   "metadata": {},
   "source": [
    "### B mass before sWeight cut"
   ]
  },
  {
   "cell_type": "code",
   "execution_count": 2,
   "metadata": {
    "collapsed": false
   },
   "outputs": [
    {
     "data": {
      "text/html": [
       "<img src=\"https://raw.githubusercontent.com/tata-antares/tagging_LHCb/master/img/Bmass.png\"/>"
      ],
      "text/plain": [
       "<IPython.core.display.Image object>"
      ]
     },
     "execution_count": 2,
     "metadata": {},
     "output_type": "execute_result"
    }
   ],
   "source": [
    "Image(url='https://raw.githubusercontent.com/tata-antares/tagging_LHCb/master/img/Bmass.png')"
   ]
  },
  {
   "cell_type": "markdown",
   "metadata": {},
   "source": [
    "### B mass after sWeight cut"
   ]
  },
  {
   "cell_type": "code",
   "execution_count": 3,
   "metadata": {
    "collapsed": false
   },
   "outputs": [
    {
     "data": {
      "text/html": [
       "<img src=\"https://raw.githubusercontent.com/tata-antares/tagging_LHCb/master/img/Bmass_selected.png\"/>"
      ],
      "text/plain": [
       "<IPython.core.display.Image object>"
      ]
     },
     "execution_count": 3,
     "metadata": {},
     "output_type": "execute_result"
    }
   ],
   "source": [
    "Image(url='https://raw.githubusercontent.com/tata-antares/tagging_LHCb/master/img/Bmass_selected.png')"
   ]
  },
  {
   "cell_type": "markdown",
   "metadata": {},
   "source": [
    "### Number of tracks for events"
   ]
  },
  {
   "cell_type": "code",
   "execution_count": 4,
   "metadata": {
    "collapsed": false
   },
   "outputs": [
    {
     "data": {
      "text/html": [
       "<img src=\"https://raw.githubusercontent.com/tata-antares/tagging_LHCb/master/img/tracks_number.png\"/>"
      ],
      "text/plain": [
       "<IPython.core.display.Image object>"
      ]
     },
     "execution_count": 4,
     "metadata": {},
     "output_type": "execute_result"
    }
   ],
   "source": [
    "Image(url='https://raw.githubusercontent.com/tata-antares/tagging_LHCb/master/img/tracks_number.png')"
   ]
  },
  {
   "cell_type": "code",
   "execution_count": 5,
   "metadata": {
    "collapsed": false
   },
   "outputs": [
    {
     "data": {
      "text/html": [
       "<img src=\"https://raw.githubusercontent.com/tata-antares/tagging_LHCb/master/img/PID_selected.png\"/>"
      ],
      "text/plain": [
       "<IPython.core.display.Image object>"
      ]
     },
     "execution_count": 5,
     "metadata": {},
     "output_type": "execute_result"
    }
   ],
   "source": [
    "Image(url='https://raw.githubusercontent.com/tata-antares/tagging_LHCb/master/img/PID_selected.png')"
   ]
  },
  {
   "cell_type": "markdown",
   "metadata": {},
   "source": [
    "### PIDNN distributions after selection"
   ]
  },
  {
   "cell_type": "markdown",
   "metadata": {},
   "source": [
    "### Training \n",
    "\n",
    "#### Features:\n",
    "\n",
    "* `cos_diff_phi` = $\\cos(\\phi^{sig} - \\phi^{\\rm part})$\n",
    "* `diff_pt` = $\\max(p_T)^{part} - p_T(B^{sig})$\n",
    "* `partPt`= $p_T^{part}$\n",
    "* `max_PID_e_mu` = $\\max(PIDNN(e), PIDNN(\\mu))^{part}$\n",
    "* `partP` = $p^{part}$\n",
    "* `nnkrec` = Number of reconstructed vertices\n",
    "* `diff_eta` = $\\eta^{sig} - \\eta^{\\rm part})$\n",
    "* `EOverP` = E/P (from CALO)\n",
    "* `sum_PID_k_mu` = $\\sum\\limits_{i\\in part}(PIDNN(K)+PIDNN(\\mu))$\n",
    "* `ptB` = $p_T^{sig}$\n",
    "* `sum_PID_e_mu` = $\\sum\\limits_{i\\in part}(PIDNN(e)+PIDNN(\\mu))$\n",
    "* `sum_PID_k_e` = $\\sum\\limits_{i\\in part}(PIDNN(K)+PIDNN(e))$\n",
    "* `proj` = $(\\vec{p}^{sig},\\vec{p}^{part})$\n",
    "* `PIDNNe` = $PIDNN(e)$\n",
    "* `PIDNNk` = $PIDNN(K)$\n",
    "* `PIDNNm` = $PIDNN(\\mu)$\n",
    "* `phi` = $\\phi^{sig}$\n",
    "* `IP` = $IP$\n",
    "* `max_PID_k_mu` = $max(PIDNN(K)+PIDNN(\\mu))$\n",
    "* `IPerr` = error of IP\n",
    "* `IPs` = No of IPs\n",
    "* `ID` = ID of the track (depends on the track container, where the track comes from)\n",
    "* `veloch` = The dE/dx charge from the VELO system\n",
    "* `max_PID_k_e`  = $max(PIDNN(K)+PIDNN(e))$\n",
    "* `diff_phi`  = $(\\phi^{sig} - \\phi^{\\rm part})$\n",
    "* `ghostProb` = ghost probability (NN)\n",
    "* `IPPU` =  impact parameter with respect to any other reconstructed primary vertex.\n",
    "* `eta` = pseudorapity of signal particle\n",
    "* `partlcs` = chi2PerDoF for a track \n",
    "\n",
    "#### Classifier\n",
    "\n",
    "Try to define B sign using track sign (to define they have the same signs or opposite).\n",
    "\n",
    "`target` = `signB` * `signTrack` > 0\n",
    "\n",
    "* classifier returns $P(\\text{track same sign as B| B sign}) = P(\\text{B same sign as track| track sign})$\n",
    "* 2-folding training on the full training sample to use full sample for futher analysis (folding scheme provides not overfitted model, details: http://yandex.github.io/rep/metaml.html#module-rep.metaml.folding)\n",
    "\n",
    "#### Calibration of $P(\\text{track same sign as B| B sign})$\n",
    "\n",
    "* use 2-folding logistic calibration for track classifier's prediction\n",
    "* compare with isotonic calibration (bad)\n",
    "* compare with absent calibration (bad, have shift predictions)\n",
    "\n",
    "\n",
    "#### Computation of $p(B^+)$ using $P(\\text{track same sign as B| B sign})$\n",
    "\n",
    "Compute $p(B^+)$ using this probabilistic model representation (similar to previous tagging combination):\n",
    "\n",
    "$$ \\frac{P(B^+)}{P(B^-)} = \\prod_{track, vertex} \\frac{P(\\text{track/vertex}|B^+)} {P(\\text{track/vertex} |B^-)} = P\n",
    "\\qquad \\Rightarrow\\qquad P(B^+) = \\frac {P}{1+P},   \\qquad \\qquad    [1] $$\n",
    "where\n",
    "\n",
    "$$\n",
    "\\frac{P(B^+)}{P(B^-)} =  \n",
    "\\begin{cases}\n",
    "\\frac{P(\\text{track/vertex same sign as } B| B)}{P(\\text{track/vertex opposite sign as } B| B)}, \\text{if track/vertex}^+ \\\\ \\\\\n",
    "\\frac{P(\\text{track/vertex opposite sign as } B| B)}{P(\\text{track/vertex same sign as } B| B)}, \\text{if track/vertex}^- \n",
    "\\end{cases}\n",
    "$$\n",
    "\n",
    "#### Intermediate estimation $<D^2>$ for tracking\n",
    "\n",
    "Do calibration of $p(B^+)$ and compute $<D^2>$ :\n",
    "\n",
    "* use Isotonic calibration (generalization of bins fitting by linear function) - piecewise-constant monotonic function\n",
    "* randomly divide events into two parts (1-train, 2-calibrate)\n",
    "* Isotonic fitting on train and $<D^2>$ computation on test\n",
    "* take mean and std for computed $<D^2>$\n",
    "\n",
    "$<D^2>$  formula for sample:\n",
    "$$<D^2> =  \\frac{\\sum_i[2(p^{mistag}_i - 0.5)]^2 * sw_i}{\\sum_i sw_i}\n",
    "=  \\frac{\\sum_i[2(p_i(B^+) - 0.5)]^2 * sw_i}{\\sum_i sw_i}$$\n",
    "\n",
    "Formula is symmetric and it is not necessary to compute mistag probability"
   ]
  },
  {
   "cell_type": "markdown",
   "metadata": {},
   "source": [
    "## Vertex OS tagging\n",
    "https://github.com/tata-antares/tagging_LHCb/blob/master/vertex-based-tagging.ipynb\n",
    "\n",
    "\n",
    "### Selections\n",
    "\n",
    "* All selection in c++ code are removed except DaVinci probability cuts\n",
    "\n",
    "\n",
    "### Data for training\n",
    "\n",
    "* `data_sw_passed` - tracks with **B-sWeight > 1**, are used for training\n",
    "* `data_sw_not_passed` - tracks with **B-sWeight <= 1**, are tagged after training\n",
    "\n",
    "### Training \n",
    "\n",
    "#### Features:\n",
    "\n",
    "* `mult` = multiplicity in the event\n",
    "* `nnkrec` = number of reconstructed vertices \n",
    "* `ptB` = signal B transverse momentum \n",
    "* `vflag` = number of tracks in the vertex\n",
    "* `ipsmean` = mean distance to IP of the tracks\n",
    "* `ptmean`  = mean pt of the tracks\n",
    "* `vcharge` = charge of the vertex weigthed by pt\n",
    "* `svm` = mass of the vertex \n",
    "* `svp` = momentum of the vertex\n",
    "* `BDphiDir` = distance betwen B and vertex direction\n",
    "* `svtau`  = lifetime of the vertex\n",
    "* `docamax` = mean DOCA of the tracks\n",
    "             \n",
    "#### Classifier\n",
    "\n",
    "Try to define B sign using vertex sign (to define they have the same signs or opposite).\n",
    "\n",
    "`target` = `signB` * `signTrack` > 0\n",
    "\n",
    "* classifier returns $P(\\text{vertex same sign as B| B sign}) = P(\\text{B same sign as vertex| vertex sign})$\n",
    "* 2-folding training on the full training sample to use full sample for futher analysis (folding scheme provides not overfitted model, details: http://yandex.github.io/rep/metaml.html#module-rep.metaml.folding)\n",
    "\n",
    "#### Calibration of $P(\\text{vertex same sign as B| B sign})$\n",
    "\n",
    "* use 2-folding isotonic calibration for vertex classifier's prediction\n",
    "* compare with isotonic calibration (bad)\n",
    "\n",
    "#### Computation of $p(B^+)$ using $P(\\text{vertex same sign as B| B sign})$\n",
    "\n",
    "The same formula as for tracks.\n",
    "\n",
    "#### Intermediate estimation $<D^2>$ for vertices\n",
    "\n",
    "Do calibration of $p(B^+)$ and compute $<D^2>$ :\n",
    "\n",
    "* use Isotonic calibration (generalization of bins fitting by linear function) - piecewise-constant monotonic function\n",
    "* randomly divide events into two parts (1-train, 2-calibrate)\n",
    "* Isotonic fitting on train and $<D^2>$ computation on test\n",
    "* take mean and std for computed $<D^2>$\n",
    "\n",
    "$<D^2>$  formula for sample:\n",
    "$$<D^2> =  \\frac{\\sum_i[2(p^{mistag}_i - 0.5)]^2 * sw_i}{\\sum_i sw_i}\n",
    "=  \\frac{\\sum_i[2(p_i(B^+) - 0.5)]^2 * sw_i}{\\sum_i sw_i}$$\n",
    "\n",
    "Formula is symmetric and it is not necessary to compute mistag probability"
   ]
  },
  {
   "cell_type": "markdown",
   "metadata": {},
   "source": [
    "## Preliminary estimation\n",
    "\n",
    "* Combine track-based and vertex-based tagging using formula [1]\n",
    "* Isotonic calibration on random subsample with $D^2$ calculation\n",
    "* take mean and std for computed $<D^2>$\n",
    "\n",
    "https://github.com/tata-antares/tagging_LHCb/blob/master/combined-tagging.ipynb"
   ]
  },
  {
   "cell_type": "code",
   "execution_count": 6,
   "metadata": {
    "collapsed": false
   },
   "outputs": [
    {
     "data": {
      "text/html": [
       "<div style=\"max-height:1000px;max-width:1500px;overflow:auto;\">\n",
       "<table border=\"1\" class=\"dataframe\">\n",
       "  <thead>\n",
       "    <tr style=\"text-align: right;\">\n",
       "      <th></th>\n",
       "      <th>name</th>\n",
       "      <th>$\\epsilon_{tag}, \\%$</th>\n",
       "      <th>$\\Delta \\epsilon_{tag}, \\%$</th>\n",
       "      <th>$D^2$</th>\n",
       "      <th>$\\Delta D^2$</th>\n",
       "      <th>$\\epsilon, \\%$</th>\n",
       "      <th>$\\Delta \\epsilon, \\%$</th>\n",
       "      <th>AUC, with untag</th>\n",
       "      <th>$\\Delta$ AUC, with untag</th>\n",
       "    </tr>\n",
       "  </thead>\n",
       "  <tbody>\n",
       "    <tr>\n",
       "      <th>0</th>\n",
       "      <td> Inclusive tagging</td>\n",
       "      <td> 77.789955</td>\n",
       "      <td> 0.102331</td>\n",
       "      <td> 0.034975</td>\n",
       "      <td> 0.000439</td>\n",
       "      <td> 2.720682</td>\n",
       "      <td> 0.034318</td>\n",
       "      <td> 57.982113</td>\n",
       "      <td> 0</td>\n",
       "    </tr>\n",
       "  </tbody>\n",
       "</table>\n",
       "</div>"
      ],
      "text/plain": [
       "                name  $\\epsilon_{tag}, \\%$  $\\Delta \\epsilon_{tag}, \\%$  \\\n",
       "0  Inclusive tagging             77.789955                     0.102331   \n",
       "\n",
       "      $D^2$  $\\Delta D^2$  $\\epsilon, \\%$  $\\Delta \\epsilon, \\%$  \\\n",
       "0  0.034975      0.000439        2.720682               0.034318   \n",
       "\n",
       "   AUC, with untag  $\\Delta$ AUC, with untag  \n",
       "0        57.982113                         0  "
      ]
     },
     "execution_count": 6,
     "metadata": {},
     "output_type": "execute_result"
    }
   ],
   "source": [
    "pandas.read_csv('img/new-tagging.csv')"
   ]
  },
  {
   "cell_type": "markdown",
   "metadata": {
    "collapsed": true
   },
   "source": [
    "## Full estimation of systematic error\n",
    "\n",
    "https://github.com/tata-antares/tagging_LHCb/blob/master/tagging-full-systematic.ipynb\n",
    "\n",
    "* set random state\n",
    "* train the best model (track and vertex taggers with 2-folding with fixed random state)\n",
    "* do calibration for track and vertex taggers with 2-folding with fixed random state\n",
    "* compute $p(B^+)$\n",
    "* do calibration with isotonic 2-folding (random state is fixed)\n",
    "* compute $<D^2>$\n",
    "\n",
    "This procedure is repeated (from the scratch) for 30 different random states and then we compute **mean** and **std** for these 30 values of $<D^2>$."
   ]
  },
  {
   "cell_type": "code",
   "execution_count": 7,
   "metadata": {
    "collapsed": false
   },
   "outputs": [
    {
     "data": {
      "text/html": [
       "<div style=\"max-height:1000px;max-width:1500px;overflow:auto;\">\n",
       "<table border=\"1\" class=\"dataframe\">\n",
       "  <thead>\n",
       "    <tr style=\"text-align: right;\">\n",
       "      <th></th>\n",
       "      <th>name</th>\n",
       "      <th>$\\epsilon_{tag}, \\%$</th>\n",
       "      <th>$\\Delta \\epsilon_{tag}, \\%$</th>\n",
       "      <th>$D^2$</th>\n",
       "      <th>$\\Delta D^2$</th>\n",
       "      <th>$\\epsilon, \\%$</th>\n",
       "      <th>$\\Delta \\epsilon, \\%$</th>\n",
       "      <th>AUC, with untag</th>\n",
       "      <th>$\\Delta$ AUC, with untag</th>\n",
       "    </tr>\n",
       "  </thead>\n",
       "  <tbody>\n",
       "    <tr>\n",
       "      <th>0</th>\n",
       "      <td> NEW + full systematic</td>\n",
       "      <td> 77.789955</td>\n",
       "      <td> 0.102331</td>\n",
       "      <td> 0.034897</td>\n",
       "      <td> 0.000083</td>\n",
       "      <td> 2.714597</td>\n",
       "      <td> 0.007391</td>\n",
       "      <td> 57.949854</td>\n",
       "      <td> 0.025131</td>\n",
       "    </tr>\n",
       "  </tbody>\n",
       "</table>\n",
       "</div>"
      ],
      "text/plain": [
       "                    name  $\\epsilon_{tag}, \\%$  $\\Delta \\epsilon_{tag}, \\%$  \\\n",
       "0  NEW + full systematic             77.789955                     0.102331   \n",
       "\n",
       "      $D^2$  $\\Delta D^2$  $\\epsilon, \\%$  $\\Delta \\epsilon, \\%$  \\\n",
       "0  0.034897      0.000083        2.714597               0.007391   \n",
       "\n",
       "   AUC, with untag  $\\Delta$ AUC, with untag  \n",
       "0        57.949854                  0.025131  "
      ]
     },
     "execution_count": 7,
     "metadata": {},
     "output_type": "execute_result"
    }
   ],
   "source": [
    "pandas.read_csv('img/new-tagging-systematic.csv')"
   ]
  },
  {
   "cell_type": "markdown",
   "metadata": {},
   "source": [
    "## TODO in progress\n",
    "\n",
    "* convert python models to xml format (for production stage)\n",
    "* add feature idea (Stephania)\n",
    "* get all vertices from DaVinci"
   ]
  }
 ],
 "metadata": {
  "kernelspec": {
   "display_name": "Python 2",
   "language": "python",
   "name": "python2"
  },
  "language_info": {
   "codemirror_mode": {
    "name": "ipython",
    "version": 2
   },
   "file_extension": ".py",
   "mimetype": "text/x-python",
   "name": "python",
   "nbconvert_exporter": "python",
   "pygments_lexer": "ipython2",
   "version": "2.7.3"
  }
 },
 "nbformat": 4,
 "nbformat_minor": 0
}
