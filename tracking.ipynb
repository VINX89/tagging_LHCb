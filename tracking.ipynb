{
 "cells": [
  {
   "cell_type": "code",
   "execution_count": 4,
   "metadata": {
    "collapsed": false
   },
   "outputs": [
    {
     "name": "stdout",
     "output_type": "stream",
     "text": [
      "Populating the interactive namespace from numpy and matplotlib\n"
     ]
    }
   ],
   "source": [
    "%pylab inline"
   ]
  },
  {
   "cell_type": "markdown",
   "metadata": {},
   "source": [
    "##Import"
   ]
  },
  {
   "cell_type": "code",
   "execution_count": 2,
   "metadata": {
    "collapsed": false
   },
   "outputs": [],
   "source": [
    "import pandas\n",
    "import numexpr\n",
    "import numpy\n",
    "from rep_ef.estimators import MatrixNetSkyGridClassifier\n",
    "from rep.metaml import FoldingClassifier\n",
    "from sklearn.ensemble import RandomForestClassifier\n",
    "from sklearn.metrics import roc_curve, roc_auc_score"
   ]
  },
  {
   "cell_type": "code",
   "execution_count": 3,
   "metadata": {
    "collapsed": false
   },
   "outputs": [],
   "source": [
    "def statistics(data):\n",
    "    print 'Events:', len(numpy.unique(data.event)), 'tracks:', len(data)"
   ]
  },
  {
   "cell_type": "markdown",
   "metadata": {},
   "source": [
    "## Reading initial data"
   ]
  },
  {
   "cell_type": "code",
   "execution_count": null,
   "metadata": {
    "collapsed": false
   },
   "outputs": [],
   "source": [
    "data_nan = pandas.read_csv('../../datasets/Tagging/Tracks.csv', sep='\\t')\n",
    "data = data_nan.dropna()\n",
    "len(data_nan), len(data)"
   ]
  },
  {
   "cell_type": "code",
   "execution_count": null,
   "metadata": {
    "collapsed": false
   },
   "outputs": [],
   "source": [
    "data.head()"
   ]
  },
  {
   "cell_type": "code",
   "execution_count": 6,
   "metadata": {
    "collapsed": false
   },
   "outputs": [
    {
     "name": "stdout",
     "output_type": "stream",
     "text": [
      "Events: 1005579 tracks: 27156190\n"
     ]
    }
   ],
   "source": [
    "statistics(data)"
   ]
  },
  {
   "cell_type": "markdown",
   "metadata": {},
   "source": [
    "# Find good tracks to define sign B if you know track sign.\n",
    "\n",
    "`label` = `signB` * `signTrack`\n",
    "* the highest output means that this is same sign B as track\n",
    "* the lowest output means that this is opposite sign B than track"
   ]
  },
  {
   "cell_type": "markdown",
   "metadata": {},
   "source": [
    "## Choose B-events"
   ]
  },
  {
   "cell_type": "code",
   "execution_count": 7,
   "metadata": {
    "collapsed": false
   },
   "outputs": [
    {
     "data": {
      "image/png": "[encoded data removed]",
      "text/plain": [
       "<matplotlib.figure.Figure at 0x592a610>"
      ]
     },
     "metadata": {},
     "output_type": "display_data"
    },
    {
     "data": {
      "image/png": "[encoded data removed]",
      "text/plain": [
       "<matplotlib.figure.Figure at 0x581eb50>"
      ]
     },
     "metadata": {},
     "output_type": "display_data"
    }
   ],
   "source": [
    "hist([gr['Bmass'].values[0] for _, gr in data.groupby('event')], bins=100)\n",
    "title('B mass')\n",
    "show()\n",
    "hist([gr['N_sig_sw'].values[0] for _, gr in data.groupby('event')], bins=100, normed=True)\n",
    "title('sWeights')\n",
    "pass"
   ]
  },
  {
   "cell_type": "code",
   "execution_count": 8,
   "metadata": {
    "collapsed": false
   },
   "outputs": [
    {
     "name": "stdout",
     "output_type": "stream",
     "text": [
      "Events: 614349 tracks: 16043904\n"
     ]
    }
   ],
   "source": [
    "sweight_threshold = 1.\n",
    "data = data[data.N_sig_sw > sweight_threshold]\n",
    "statistics(data)"
   ]
  },
  {
   "cell_type": "code",
   "execution_count": 449,
   "metadata": {
    "collapsed": false
   },
   "outputs": [],
   "source": [
    "data.to_csv('Tracks_Bselected.csv', index=False)"
   ]
  },
  {
   "cell_type": "code",
   "execution_count": 5,
   "metadata": {
    "collapsed": true
   },
   "outputs": [],
   "source": [
    "data = pandas.read_csv('Tracks_Bselected.csv')"
   ]
  },
  {
   "cell_type": "code",
   "execution_count": 7,
   "metadata": {
    "collapsed": false
   },
   "outputs": [],
   "source": [
    "from sklearn.cross_validation import train_test_split\n",
    "id_train, id_test = train_test_split(numpy.unique(data.event), train_size=0.5, random_state=11)"
   ]
  },
  {
   "cell_type": "code",
   "execution_count": 31,
   "metadata": {
    "collapsed": false
   },
   "outputs": [],
   "source": [
    "pandas.DataFrame({'train_id': id_train}).to_csv('events_train.csv', index=False)\n",
    "pandas.DataFrame({'test_id': id_test}).to_csv('events_test.csv', index=False)"
   ]
  },
  {
   "cell_type": "code",
   "execution_count": 111,
   "metadata": {
    "collapsed": true
   },
   "outputs": [],
   "source": [
    "# TEST = pandas.read_csv('Tracks_Bselected.csv')"
   ]
  },
  {
   "cell_type": "code",
   "execution_count": 10,
   "metadata": {
    "collapsed": false
   },
   "outputs": [],
   "source": [
    "data = data.ix[numpy.in1d(data.event.values, id_train), :]"
   ]
  },
  {
   "cell_type": "markdown",
   "metadata": {},
   "source": [
    "## Add diff_pt and cos(diff_phi)"
   ]
  },
  {
   "cell_type": "code",
   "execution_count": 14,
   "metadata": {
    "collapsed": true
   },
   "outputs": [],
   "source": [
    "# add different between max pt in event and pt for each track\n",
    "def add_diff_pt(data):\n",
    "    data['diff_pt'] = 0.\n",
    "    max_pt = group_max(data.event.values.astype(numpy.int64), data.partPt.values)\n",
    "    data['diff_pt'] = max_pt - data['partPt'].values\n",
    "\n",
    "# max is very similar\n",
    "def group_max(groups, data):\n",
    "    print len(groups), len(data)\n",
    "    order = numpy.lexsort((data, groups))\n",
    "    _, _groups = numpy.unique(groups, return_inverse=True)\n",
    "    groups = groups[order] #this is only needed if groups is unsorted\n",
    "    data = data[order]\n",
    "    index = numpy.empty(len(groups), 'bool')\n",
    "    index[-1] = True\n",
    "    index[:-1] = groups[1:] != groups[:-1]\n",
    "    return data[index][_groups]"
   ]
  },
  {
   "cell_type": "code",
   "execution_count": 15,
   "metadata": {
    "collapsed": false
   },
   "outputs": [
    {
     "name": "stdout",
     "output_type": "stream",
     "text": [
      "8027580 8027580\n"
     ]
    }
   ],
   "source": [
    "# add diff pt\n",
    "add_diff_pt(data)\n",
    "# add cos(diff_phi)\n",
    "data['cos_diff_phi'] = numpy.cos(data.diff_phi.values)"
   ]
  },
  {
   "cell_type": "code",
   "execution_count": 16,
   "metadata": {
    "collapsed": false
   },
   "outputs": [
    {
     "data": {
      "image/png": "[encoded data removed]",
      "text/plain": [
       "<matplotlib.figure.Figure at 0x6da4f10>"
      ]
     },
     "metadata": {},
     "output_type": "display_data"
    }
   ],
   "source": [
    "hist(data.diff_pt.values, bins=100)\n",
    "pass"
   ]
  },
  {
   "cell_type": "markdown",
   "metadata": {},
   "source": [
    "## Select protons and pions, ghost prob cut"
   ]
  },
  {
   "cell_type": "code",
   "execution_count": 17,
   "metadata": {
    "collapsed": false
   },
   "outputs": [],
   "source": [
    "threshold_mistag = 0.6\n",
    "initial_cut = '(PIDNNp < {tr}) & (PIDNNpi < {tr}) & (ghostProb < 0.4)'.format(tr=threshold_mistag)\n",
    "data_pid = data.query(initial_cut)"
   ]
  },
  {
   "cell_type": "markdown",
   "metadata": {},
   "source": [
    "## Select muons, kaons, electrons"
   ]
  },
  {
   "cell_type": "code",
   "execution_count": 18,
   "metadata": {
    "collapsed": true
   },
   "outputs": [],
   "source": [
    "threshold_kaon = 0.7 \n",
    "threshold_muon = 0.4\n",
    "threshold_electron = 0.6\n",
    "cut_pid = \"\"\"\n",
    "            ((PIDNNk > {trk}) \n",
    "                | (PIDNNm > {trm}) \n",
    "                | (PIDNNe > {tre})) \"\"\".format(trk=threshold_kaon, trm=threshold_muon,\n",
    "                                               tre=threshold_electron).replace(\"\\n\", \"\")\n",
    "    \n",
    "data_pid = data_pid.query(cut_pid)"
   ]
  },
  {
   "cell_type": "code",
   "execution_count": 19,
   "metadata": {
    "collapsed": false
   },
   "outputs": [
    {
     "name": "stdout",
     "output_type": "stream",
     "text": [
      "Events: 204720 tracks: 372082\n"
     ]
    }
   ],
   "source": [
    "statistics(data_pid)"
   ]
  },
  {
   "cell_type": "code",
   "execution_count": 112,
   "metadata": {
    "collapsed": true
   },
   "outputs": [],
   "source": [
    "data_their = data.query('(K_cut == 1) | (e_cut == 1) | (mu_cut == 1)')\n",
    "N_pass_their = sum([gr['N_sig_sw'].values[0] for _, gr in data_their.groupby('event')])"
   ]
  },
  {
   "cell_type": "markdown",
   "metadata": {},
   "source": [
    "## $\\epsilon_{tag}$"
   ]
  },
  {
   "cell_type": "code",
   "execution_count": 20,
   "metadata": {
    "collapsed": false
   },
   "outputs": [
    {
     "data": {
      "text/plain": [
       "(0.66645794464803998, 0.0014227294962879838)"
      ]
     },
     "execution_count": 20,
     "metadata": {},
     "output_type": "execute_result"
    }
   ],
   "source": [
    "N_pass = sum([gr['N_sig_sw'].values[0] for _, gr in data_pid.groupby('event')])\n",
    "N_all = sum([gr['N_sig_sw'].values[0] for _, gr in data.groupby('event')])\n",
    "eff_tag = 1. * N_pass / N_all\n",
    "eff_delta = sqrt(N_pass) / N_all\n",
    "eff_tag, eff_delta"
   ]
  },
  {
   "cell_type": "code",
   "execution_count": 113,
   "metadata": {
    "collapsed": false
   },
   "outputs": [
    {
     "name": "stdout",
     "output_type": "stream",
     "text": [
      "Events: 76498 tracks: 82157\n"
     ]
    },
    {
     "data": {
      "text/plain": [
       "0.24900852935896284"
      ]
     },
     "execution_count": 113,
     "metadata": {},
     "output_type": "execute_result"
    }
   ],
   "source": [
    "statistics(data_their)\n",
    "N_pass_their / N_all"
   ]
  },
  {
   "cell_type": "markdown",
   "metadata": {},
   "source": [
    "## Define features"
   ]
  },
  {
   "cell_type": "code",
   "execution_count": 21,
   "metadata": {
    "collapsed": false
   },
   "outputs": [
    {
     "data": {
      "text/plain": [
       "['cos_diff_phi',\n",
       " 'K_cut',\n",
       " 'partPt',\n",
       " 'partP',\n",
       " 'nnkrec',\n",
       " 'diff_eta',\n",
       " 'EOverP',\n",
       " 'mu_cut',\n",
       " 'ptB',\n",
       " 'e_cut',\n",
       " 'PIDNNe',\n",
       " 'PIDNNk',\n",
       " 'PIDNNm',\n",
       " 'proj',\n",
       " 'phi',\n",
       " 'diff_pt',\n",
       " 'IP',\n",
       " 'IPerr',\n",
       " 'IPs',\n",
       " 'ID',\n",
       " 'veloch',\n",
       " 'diff_phi',\n",
       " 'ghostProb',\n",
       " 'IPPU',\n",
       " 'eta',\n",
       " 'partlcs']"
      ]
     },
     "execution_count": 21,
     "metadata": {},
     "output_type": "execute_result"
    }
   ],
   "source": [
    "features = list(set(data.columns) - {'run', 'event', 'i', 'signB', 'signTrack', 'N_sig_sw', 'Bmass', 'mult', \n",
    "                                     'PIDNNp', 'PIDNNpi'})\n",
    "features"
   ]
  },
  {
   "cell_type": "markdown",
   "metadata": {},
   "source": [
    "## PID pairs scatters"
   ]
  },
  {
   "cell_type": "code",
   "execution_count": 22,
   "metadata": {
    "collapsed": false
   },
   "outputs": [
    {
     "data": {
      "image/png": "[encoded data removed]",
      "text/plain": [
       "<matplotlib.figure.Figure at 0x11aafc250>"
      ]
     },
     "metadata": {},
     "output_type": "display_data"
    }
   ],
   "source": [
    "scatter(data_pid['PIDNNk'].values, data_pid['PIDNNm'].values, alpha=0.01)\n",
    "xlabel('$K$')\n",
    "ylabel('$\\mu$')\n",
    "ylim(0, 1)\n",
    "xlim(0, 1)\n",
    "pass"
   ]
  },
  {
   "cell_type": "code",
   "execution_count": 23,
   "metadata": {
    "collapsed": false
   },
   "outputs": [
    {
     "data": {
      "image/png": "[encoded data removed]",
      "text/plain": [
       "<matplotlib.figure.Figure at 0x10e506050>"
      ]
     },
     "metadata": {},
     "output_type": "display_data"
    }
   ],
   "source": [
    "scatter(data_pid['PIDNNm'].values, data_pid['PIDNNe'].values, alpha=0.01)\n",
    "xlabel('$\\mu$')\n",
    "ylabel('$e$')\n",
    "ylim(0, 1)\n",
    "xlim(0, 1)\n",
    "pass"
   ]
  },
  {
   "cell_type": "code",
   "execution_count": 24,
   "metadata": {
    "collapsed": false
   },
   "outputs": [
    {
     "data": {
      "image/png": "[encoded data removed]",
      "text/plain": [
       "<matplotlib.figure.Figure at 0x1090559d0>"
      ]
     },
     "metadata": {},
     "output_type": "display_data"
    }
   ],
   "source": [
    "scatter(data_pid['PIDNNk'].values, data_pid['PIDNNe'].values, alpha=0.01)\n",
    "xlabel('$K$')\n",
    "ylabel('$e$')\n",
    "ylim(0, 1)\n",
    "xlim(0, 1)\n",
    "pass"
   ]
  },
  {
   "cell_type": "markdown",
   "metadata": {},
   "source": [
    "### pt"
   ]
  },
  {
   "cell_type": "code",
   "execution_count": 25,
   "metadata": {
    "collapsed": false
   },
   "outputs": [
    {
     "data": {
      "image/png": "[encoded data removed]",
      "text/plain": [
       "<matplotlib.figure.Figure at 0x11a7502d0>"
      ]
     },
     "metadata": {},
     "output_type": "display_data"
    }
   ],
   "source": [
    "hist(data_pid.diff_pt.values, bins=60, normed=True)\n",
    "pass"
   ]
  },
  {
   "cell_type": "markdown",
   "metadata": {},
   "source": [
    "### count of tracks"
   ]
  },
  {
   "cell_type": "code",
   "execution_count": 196,
   "metadata": {
    "collapsed": false
   },
   "outputs": [
    {
     "data": {
      "image/png": "[encoded data removed]",
      "text/plain": [
       "<matplotlib.figure.Figure at 0xa58ee810>"
      ]
     },
     "metadata": {},
     "output_type": "display_data"
    }
   ],
   "source": [
    "hist([len(gr) for num, gr in data_pid.groupby('event')], bins=60)    \n",
    "title('Number of tracks')\n",
    "pass"
   ]
  },
  {
   "cell_type": "markdown",
   "metadata": {},
   "source": [
    "### pid histograms after selections"
   ]
  },
  {
   "cell_type": "code",
   "execution_count": 27,
   "metadata": {
    "collapsed": false
   },
   "outputs": [
    {
     "data": {
      "image/png": "[encoded data removed]",
      "text/plain": [
       "<matplotlib.figure.Figure at 0x11a73da10>"
      ]
     },
     "metadata": {},
     "output_type": "display_data"
    }
   ],
   "source": [
    "hist(data_pid[\"PIDNNm\"].values, bins=60, range=(0, 1), label='$\\mu$')\n",
    "legend()\n",
    "pass"
   ]
  },
  {
   "cell_type": "code",
   "execution_count": 28,
   "metadata": {
    "collapsed": false
   },
   "outputs": [
    {
     "data": {
      "image/png": "[encoded data removed]",
      "text/plain": [
       "<matplotlib.figure.Figure at 0x10e506e50>"
      ]
     },
     "metadata": {},
     "output_type": "display_data"
    }
   ],
   "source": [
    "hist(data_pid[\"PIDNNe\"].values, bins=60, range=(0, 1), label='$e$')\n",
    "legend()\n",
    "pass"
   ]
  },
  {
   "cell_type": "code",
   "execution_count": 29,
   "metadata": {
    "collapsed": false
   },
   "outputs": [
    {
     "data": {
      "image/png": "[encoded data removed]",
      "text/plain": [
       "<matplotlib.figure.Figure at 0x11ab0f410>"
      ]
     },
     "metadata": {},
     "output_type": "display_data"
    }
   ],
   "source": [
    "hist(data_pid[\"PIDNNk\"].values, bins=60, range=(0, 1), label='$K$')\n",
    "legend()\n",
    "pass\n",
    "#numpy.sum(data.PIDNNk > 0.5), len(data)"
   ]
  },
  {
   "cell_type": "markdown",
   "metadata": {},
   "source": [
    "### define `label` = `signB` * `signTrack`\n",
    "\n",
    "* if > 0 (same sign) - label **1**\n",
    "* if < 0 (different sign) - label **0**"
   ]
  },
  {
   "cell_type": "code",
   "execution_count": 30,
   "metadata": {
    "collapsed": false
   },
   "outputs": [],
   "source": [
    "product_sign = (data_pid.signB.values * data_pid.signTrack.values > 0) * 1"
   ]
  },
  {
   "cell_type": "markdown",
   "metadata": {},
   "source": [
    "### 2-folding training"
   ]
  },
  {
   "cell_type": "code",
   "execution_count": 14,
   "metadata": {
    "collapsed": true
   },
   "outputs": [],
   "source": [
    "import cPickle\n",
    "with open('track_forest.pkl', 'r') as f:\n",
    "    est_choose_RT = cPickle.load(f)"
   ]
  },
  {
   "cell_type": "code",
   "execution_count": null,
   "metadata": {
    "collapsed": false
   },
   "outputs": [],
   "source": [
    "base = RandomForestClassifier(n_estimators=300, max_depth=8, min_samples_leaf=100, n_jobs=8)\n",
    "est_choose_RT = FoldingClassifier(base, features=features)\n",
    "est_choose_RT.fit(data_pid, product_sign, data_pid.N_sig_sw)"
   ]
  },
  {
   "cell_type": "code",
   "execution_count": null,
   "metadata": {
    "collapsed": true
   },
   "outputs": [],
   "source": [
    "import cPickle\n",
    "with open('track_forest.pkl', 'w') as f:\n",
    "    cPickle.dump(est_choose_RT, f)"
   ]
  },
  {
   "cell_type": "markdown",
   "metadata": {},
   "source": [
    "----"
   ]
  },
  {
   "cell_type": "markdown",
   "metadata": {},
   "source": [
    "### AUC"
   ]
  },
  {
   "cell_type": "code",
   "execution_count": null,
   "metadata": {
    "collapsed": false
   },
   "outputs": [],
   "source": [
    "probs_RT = est_choose_RT.predict_proba(data_pid)\n",
    "roc_auc_score(product_sign, probs_RT[:, 1], sample_weight=data_pid.N_sig_sw.values)"
   ]
  },
  {
   "cell_type": "markdown",
   "metadata": {},
   "source": [
    "### ROC"
   ]
  },
  {
   "cell_type": "code",
   "execution_count": null,
   "metadata": {
    "collapsed": false
   },
   "outputs": [],
   "source": [
    "fpr, tpr, _ = roc_curve(product_sign, probs_RT[:, 1], sample_weight=data_pid.N_sig_sw.values)\n",
    "plot(fpr, tpr)\n",
    "plot([0, 1], [0, 1])"
   ]
  },
  {
   "cell_type": "code",
   "execution_count": 197,
   "metadata": {
    "collapsed": false
   },
   "outputs": [
    {
     "data": {
      "text/html": [
       "<div style=\"max-height:1000px;max-width:1500px;overflow:auto;\">\n",
       "<table border=\"1\" class=\"dataframe\">\n",
       "  <thead>\n",
       "    <tr style=\"text-align: right;\">\n",
       "      <th></th>\n",
       "      <th>feature</th>\n",
       "      <th>importance</th>\n",
       "    </tr>\n",
       "  </thead>\n",
       "  <tbody>\n",
       "    <tr>\n",
       "      <th>0 </th>\n",
       "      <td>       mu_cut</td>\n",
       "      <td> 1.000000</td>\n",
       "    </tr>\n",
       "    <tr>\n",
       "      <th>1 </th>\n",
       "      <td>          IPs</td>\n",
       "      <td> 0.960485</td>\n",
       "    </tr>\n",
       "    <tr>\n",
       "      <th>2 </th>\n",
       "      <td>        K_cut</td>\n",
       "      <td> 0.889301</td>\n",
       "    </tr>\n",
       "    <tr>\n",
       "      <th>3 </th>\n",
       "      <td>       partPt</td>\n",
       "      <td> 0.752916</td>\n",
       "    </tr>\n",
       "    <tr>\n",
       "      <th>4 </th>\n",
       "      <td>       PIDNNm</td>\n",
       "      <td> 0.740856</td>\n",
       "    </tr>\n",
       "    <tr>\n",
       "      <th>5 </th>\n",
       "      <td>           IP</td>\n",
       "      <td> 0.587023</td>\n",
       "    </tr>\n",
       "    <tr>\n",
       "      <th>6 </th>\n",
       "      <td>      diff_pt</td>\n",
       "      <td> 0.518951</td>\n",
       "    </tr>\n",
       "    <tr>\n",
       "      <th>7 </th>\n",
       "      <td>        IPerr</td>\n",
       "      <td> 0.509170</td>\n",
       "    </tr>\n",
       "    <tr>\n",
       "      <th>8 </th>\n",
       "      <td>         proj</td>\n",
       "      <td> 0.452092</td>\n",
       "    </tr>\n",
       "    <tr>\n",
       "      <th>9 </th>\n",
       "      <td>       PIDNNk</td>\n",
       "      <td> 0.414930</td>\n",
       "    </tr>\n",
       "    <tr>\n",
       "      <th>10</th>\n",
       "      <td>        partP</td>\n",
       "      <td> 0.316599</td>\n",
       "    </tr>\n",
       "    <tr>\n",
       "      <th>11</th>\n",
       "      <td>         IPPU</td>\n",
       "      <td> 0.299142</td>\n",
       "    </tr>\n",
       "    <tr>\n",
       "      <th>12</th>\n",
       "      <td> cos_diff_phi</td>\n",
       "      <td> 0.275250</td>\n",
       "    </tr>\n",
       "    <tr>\n",
       "      <th>13</th>\n",
       "      <td>        e_cut</td>\n",
       "      <td> 0.254359</td>\n",
       "    </tr>\n",
       "    <tr>\n",
       "      <th>14</th>\n",
       "      <td>     diff_eta</td>\n",
       "      <td> 0.232168</td>\n",
       "    </tr>\n",
       "    <tr>\n",
       "      <th>15</th>\n",
       "      <td>       veloch</td>\n",
       "      <td> 0.228101</td>\n",
       "    </tr>\n",
       "    <tr>\n",
       "      <th>16</th>\n",
       "      <td>       PIDNNe</td>\n",
       "      <td> 0.209027</td>\n",
       "    </tr>\n",
       "    <tr>\n",
       "      <th>17</th>\n",
       "      <td>    ghostProb</td>\n",
       "      <td> 0.189629</td>\n",
       "    </tr>\n",
       "    <tr>\n",
       "      <th>18</th>\n",
       "      <td>          eta</td>\n",
       "      <td> 0.188159</td>\n",
       "    </tr>\n",
       "    <tr>\n",
       "      <th>19</th>\n",
       "      <td>      partlcs</td>\n",
       "      <td> 0.178157</td>\n",
       "    </tr>\n",
       "    <tr>\n",
       "      <th>20</th>\n",
       "      <td>          ptB</td>\n",
       "      <td> 0.176628</td>\n",
       "    </tr>\n",
       "    <tr>\n",
       "      <th>21</th>\n",
       "      <td>     diff_phi</td>\n",
       "      <td> 0.166197</td>\n",
       "    </tr>\n",
       "    <tr>\n",
       "      <th>22</th>\n",
       "      <td>          phi</td>\n",
       "      <td> 0.150567</td>\n",
       "    </tr>\n",
       "    <tr>\n",
       "      <th>23</th>\n",
       "      <td>       EOverP</td>\n",
       "      <td> 0.140714</td>\n",
       "    </tr>\n",
       "    <tr>\n",
       "      <th>24</th>\n",
       "      <td>           ID</td>\n",
       "      <td> 0.088097</td>\n",
       "    </tr>\n",
       "    <tr>\n",
       "      <th>25</th>\n",
       "      <td>       nnkrec</td>\n",
       "      <td> 0.029518</td>\n",
       "    </tr>\n",
       "  </tbody>\n",
       "</table>\n",
       "</div>"
      ],
      "text/plain": [
       "         feature  importance\n",
       "0         mu_cut    1.000000\n",
       "1            IPs    0.960485\n",
       "2          K_cut    0.889301\n",
       "3         partPt    0.752916\n",
       "4         PIDNNm    0.740856\n",
       "5             IP    0.587023\n",
       "6        diff_pt    0.518951\n",
       "7          IPerr    0.509170\n",
       "8           proj    0.452092\n",
       "9         PIDNNk    0.414930\n",
       "10         partP    0.316599\n",
       "11          IPPU    0.299142\n",
       "12  cos_diff_phi    0.275250\n",
       "13         e_cut    0.254359\n",
       "14      diff_eta    0.232168\n",
       "15        veloch    0.228101\n",
       "16        PIDNNe    0.209027\n",
       "17     ghostProb    0.189629\n",
       "18           eta    0.188159\n",
       "19       partlcs    0.178157\n",
       "20           ptB    0.176628\n",
       "21      diff_phi    0.166197\n",
       "22           phi    0.150567\n",
       "23        EOverP    0.140714\n",
       "24            ID    0.088097\n",
       "25        nnkrec    0.029518"
      ]
     },
     "execution_count": 197,
     "metadata": {},
     "output_type": "execute_result"
    }
   ],
   "source": [
    "imp = numpy.sum([est.feature_importances_ for est in est_choose_RT.estimators], axis=0)\n",
    "pandas.DataFrame({'importance': -sort(-imp) / max(imp), \n",
    "                  'feature': numpy.array(est_choose_RT.features)[numpy.argsort(-imp)]})"
   ]
  },
  {
   "cell_type": "markdown",
   "metadata": {},
   "source": [
    "## Distributions for output"
   ]
  },
  {
   "cell_type": "code",
   "execution_count": null,
   "metadata": {
    "collapsed": true
   },
   "outputs": [],
   "source": [
    "from rep.utils import Flattener"
   ]
  },
  {
   "cell_type": "code",
   "execution_count": null,
   "metadata": {
    "collapsed": true
   },
   "outputs": [],
   "source": [
    "def run_flat_probs(probs, labels, weights, label=1):\n",
    "    figsize(8, 6)\n",
    "    flat = Flattener(probs[:, 1][labels == label], weights[labels == label])\n",
    "    flat_probs = flat(probs[:, 1])\n",
    "    hist(flat_probs[labels == 1], bins=100, normed=True, histtype='step', \n",
    "         weights=weights[labels == 1], label='same sign')\n",
    "    hist(flat_probs[labels == 0], bins=100, normed=True, histtype='step', \n",
    "         weights=weights[labels == 0], label='opposite sign')\n",
    "    xlabel('predictions')\n",
    "    legend(loc='upper center')\n",
    "    show()\n",
    "    return flat_probs"
   ]
  },
  {
   "cell_type": "code",
   "execution_count": 357,
   "metadata": {
    "collapsed": false
   },
   "outputs": [
    {
     "data": {
      "image/png": "[encoded data removed]",
      "text/plain": [
       "<matplotlib.figure.Figure at 0x110d5e8d0>"
      ]
     },
     "metadata": {},
     "output_type": "display_data"
    },
    {
     "data": {
      "image/png": "[encoded data removed]",
      "text/plain": [
       "<matplotlib.figure.Figure at 0x110b7fad0>"
      ]
     },
     "metadata": {},
     "output_type": "display_data"
    }
   ],
   "source": [
    "flat_kaon_probs = run_flat_probs(probs_RT, product_sign, data_pid.N_sig_sw.values, label=1)\n",
    "flat_lepton_probs = run_flat_probs(probs_RT, product_sign, data_pid.N_sig_sw.values, label=0)"
   ]
  },
  {
   "cell_type": "code",
   "execution_count": 358,
   "metadata": {
    "collapsed": false
   },
   "outputs": [
    {
     "data": {
      "image/png": "[encoded data removed]",
      "text/plain": [
       "<matplotlib.figure.Figure at 0x10b8afc90>"
      ]
     },
     "metadata": {},
     "output_type": "display_data"
    }
   ],
   "source": [
    "hist(probs_RT[:, 1][product_sign == 1], bins=60, alpha=0.3, normed=True)\n",
    "hist(probs_RT[:, 1][product_sign == 0], bins=60, alpha=0.3, normed=True)\n",
    "pass"
   ]
  },
  {
   "cell_type": "markdown",
   "metadata": {},
   "source": [
    "## Select top-good tracks in event"
   ]
  },
  {
   "cell_type": "code",
   "execution_count": 194,
   "metadata": {
    "collapsed": false
   },
   "outputs": [
    {
     "name": "stdout",
     "output_type": "stream",
     "text": [
      "\n"
     ]
    }
   ],
   "source": [
    "## select the better tracks by estimator in event (probability to be necessary sign)\n",
    "def get_best_tracks(data, probs, count=1):\n",
    "    train_prob = data.copy()\n",
    "    train_prob['target'] = (train_prob['signB'].values * train_prob['signTrack'].values > 0) * 1\n",
    "    train_prob.ix[train_prob['target'] == 1, 'prediction'] = probs[train_prob['target'].values == 1]\n",
    "    train_prob.ix[train_prob['target'] == 0, 'prediction'] = 1 - probs[train_prob['target'].values == 0]\n",
    "    \n",
    "    add_tracks = []\n",
    "    others = []\n",
    "    for num, group in train_prob.groupby('event'):    \n",
    "        index = numpy.argsort(group['prediction'].values)[::-1]\n",
    "        add_tracks.append(group.iloc[index[:count], :])\n",
    "        others.append(group.iloc[index[count:], :])\n",
    "    good_tracks = pandas.concat(add_tracks)\n",
    "    other_tracks = pandas.concat(others)\n",
    "    print len(good_tracks), len(other_tracks)\n",
    "    return good_tracks, other_tracks"
   ]
  },
  {
   "cell_type": "code",
   "execution_count": 210,
   "metadata": {
    "collapsed": true
   },
   "outputs": [],
   "source": [
    "## select same sign and oposite sign tracks simultaneously\n",
    "\n",
    "def get_pair_best_tracks(data, probs, count=1):\n",
    "    train_prob = data.copy()\n",
    "    train_prob['target'] = (train_prob['signB'].values * train_prob['signTrack'].values > 0) * 1\n",
    "    train_prob.ix[train_prob['target'] == 1, 'prediction'] = probs[train_prob['target'].values == 1]\n",
    "    train_prob.ix[train_prob['target'] == 0, 'prediction'] = 1 - probs[train_prob['target'].values == 0]\n",
    "    \n",
    "    add_tracks = []\n",
    "    others = []\n",
    "    for num, group in train_prob.groupby('event'):    \n",
    "        group_plus = group[group.target == 1]\n",
    "        group_minus = group[group.target == 0]\n",
    "    \n",
    "        index = numpy.argsort(group_plus['prediction'].values)[::-1]\n",
    "        add_tracks.append(group_plus.iloc[index[:count], :])\n",
    "        others.append(group_plus.iloc[index[count:], :])\n",
    "        index = numpy.argsort(group_minus['prediction'].values)[::-1]\n",
    "        add_tracks.append(group_minus.iloc[index[:count], :])\n",
    "        others.append(group_minus.iloc[index[count:], :])\n",
    "\n",
    "    good_tracks = pandas.concat(add_tracks)\n",
    "    other_tracks = pandas.concat(others)\n",
    "    print len(good_tracks), len(other_tracks)\n",
    "    return good_tracks, other_tracks"
   ]
  },
  {
   "cell_type": "markdown",
   "metadata": {},
   "source": [
    "# Train MN to distinguish same sign vs opposite sign"
   ]
  },
  {
   "cell_type": "code",
   "execution_count": null,
   "metadata": {
    "collapsed": true
   },
   "outputs": [],
   "source": [
    "from rep_ef.estimators import MatrixNetSkyGridClassifier"
   ]
  },
  {
   "cell_type": "code",
   "execution_count": 114,
   "metadata": {
    "collapsed": true
   },
   "outputs": [],
   "source": [
    "data_their_tt, data_their_te = train_test_split_group(data_their['event'], data_their, random_state=11, train_size=0.5)"
   ]
  },
  {
   "cell_type": "code",
   "execution_count": 359,
   "metadata": {
    "collapsed": false
   },
   "outputs": [],
   "source": [
    "from rep.utils import train_test_split_group\n",
    "data_train, data_test, probs_RT_train, _, flat_kaon_probs_train, _, flat_lepton_probs_train, _, product_sign_train, _= \\\n",
    "                                            train_test_split_group(data_pid['event'],\n",
    "                                                                  data_pid, probs_RT,\n",
    "                                                                  flat_kaon_probs, \n",
    "                                                                  flat_lepton_probs, \n",
    "                                                                  product_sign,\n",
    "                                                                  random_state=11, train_size=0.5)"
   ]
  },
  {
   "cell_type": "code",
   "execution_count": null,
   "metadata": {
    "collapsed": false
   },
   "outputs": [],
   "source": [
    "len(data_train), len(data_test)"
   ]
  },
  {
   "cell_type": "markdown",
   "metadata": {},
   "source": [
    "--------------"
   ]
  },
  {
   "cell_type": "code",
   "execution_count": 26,
   "metadata": {
    "collapsed": true
   },
   "outputs": [],
   "source": [
    "with open('mn_full.pkl', 'r') as f:\n",
    "    mn_folding = cPickle.load(f)"
   ]
  },
  {
   "cell_type": "code",
   "execution_count": null,
   "metadata": {
    "collapsed": false
   },
   "outputs": [],
   "source": [
    "mn_base = MatrixNetSkyGridClassifier(connection='skygrid', user_name='antares',\n",
    "                                     iterations=3000, regularization=0.02, sync=False)\n",
    "mn_folding = FoldingClassifier(mn_base, n_folds=2, random_state=11, \n",
    "                               features=features)\n",
    "labels = (data_train['signB'].values * data_train['signTrack'].values > 0) * 1\n",
    "mn_folding.fit(data_train, labels, data_train.N_sig_sw.values)"
   ]
  },
  {
   "cell_type": "code",
   "execution_count": 377,
   "metadata": {
    "collapsed": false
   },
   "outputs": [
    {
     "data": {
      "text/html": [
       "<div style=\"max-height:1000px;max-width:1500px;overflow:auto;\">\n",
       "<table border=\"1\" class=\"dataframe\">\n",
       "  <thead>\n",
       "    <tr style=\"text-align: right;\">\n",
       "      <th></th>\n",
       "      <th>feature</th>\n",
       "      <th>importance</th>\n",
       "    </tr>\n",
       "  </thead>\n",
       "  <tbody>\n",
       "    <tr>\n",
       "      <th>0 </th>\n",
       "      <td>          IPs</td>\n",
       "      <td> 1.000000</td>\n",
       "    </tr>\n",
       "    <tr>\n",
       "      <th>1 </th>\n",
       "      <td>      diff_pt</td>\n",
       "      <td> 0.989973</td>\n",
       "    </tr>\n",
       "    <tr>\n",
       "      <th>2 </th>\n",
       "      <td> cos_diff_phi</td>\n",
       "      <td> 0.912616</td>\n",
       "    </tr>\n",
       "    <tr>\n",
       "      <th>3 </th>\n",
       "      <td>    ghostProb</td>\n",
       "      <td> 0.880011</td>\n",
       "    </tr>\n",
       "    <tr>\n",
       "      <th>4 </th>\n",
       "      <td>       veloch</td>\n",
       "      <td> 0.875979</td>\n",
       "    </tr>\n",
       "    <tr>\n",
       "      <th>5 </th>\n",
       "      <td>          ptB</td>\n",
       "      <td> 0.854597</td>\n",
       "    </tr>\n",
       "    <tr>\n",
       "      <th>6 </th>\n",
       "      <td>          phi</td>\n",
       "      <td> 0.845197</td>\n",
       "    </tr>\n",
       "    <tr>\n",
       "      <th>7 </th>\n",
       "      <td>      partlcs</td>\n",
       "      <td> 0.832147</td>\n",
       "    </tr>\n",
       "    <tr>\n",
       "      <th>8 </th>\n",
       "      <td>         proj</td>\n",
       "      <td> 0.822278</td>\n",
       "    </tr>\n",
       "    <tr>\n",
       "      <th>9 </th>\n",
       "      <td>           IP</td>\n",
       "      <td> 0.780993</td>\n",
       "    </tr>\n",
       "    <tr>\n",
       "      <th>10</th>\n",
       "      <td>       PIDNNk</td>\n",
       "      <td> 0.774153</td>\n",
       "    </tr>\n",
       "    <tr>\n",
       "      <th>11</th>\n",
       "      <td>          eta</td>\n",
       "      <td> 0.759496</td>\n",
       "    </tr>\n",
       "    <tr>\n",
       "      <th>12</th>\n",
       "      <td>     diff_eta</td>\n",
       "      <td> 0.748936</td>\n",
       "    </tr>\n",
       "    <tr>\n",
       "      <th>13</th>\n",
       "      <td>       partPt</td>\n",
       "      <td> 0.742157</td>\n",
       "    </tr>\n",
       "    <tr>\n",
       "      <th>14</th>\n",
       "      <td>     diff_phi</td>\n",
       "      <td> 0.695003</td>\n",
       "    </tr>\n",
       "    <tr>\n",
       "      <th>15</th>\n",
       "      <td>         IPPU</td>\n",
       "      <td> 0.648724</td>\n",
       "    </tr>\n",
       "    <tr>\n",
       "      <th>16</th>\n",
       "      <td>        partP</td>\n",
       "      <td> 0.635870</td>\n",
       "    </tr>\n",
       "    <tr>\n",
       "      <th>17</th>\n",
       "      <td>       PIDNNe</td>\n",
       "      <td> 0.635476</td>\n",
       "    </tr>\n",
       "    <tr>\n",
       "      <th>18</th>\n",
       "      <td>        IPerr</td>\n",
       "      <td> 0.611745</td>\n",
       "    </tr>\n",
       "    <tr>\n",
       "      <th>19</th>\n",
       "      <td>       EOverP</td>\n",
       "      <td> 0.482703</td>\n",
       "    </tr>\n",
       "    <tr>\n",
       "      <th>20</th>\n",
       "      <td>           ID</td>\n",
       "      <td> 0.327791</td>\n",
       "    </tr>\n",
       "    <tr>\n",
       "      <th>21</th>\n",
       "      <td>       mu_cut</td>\n",
       "      <td> 0.285142</td>\n",
       "    </tr>\n",
       "    <tr>\n",
       "      <th>22</th>\n",
       "      <td>        K_cut</td>\n",
       "      <td> 0.263168</td>\n",
       "    </tr>\n",
       "    <tr>\n",
       "      <th>23</th>\n",
       "      <td>       PIDNNm</td>\n",
       "      <td> 0.212865</td>\n",
       "    </tr>\n",
       "    <tr>\n",
       "      <th>24</th>\n",
       "      <td>       nnkrec</td>\n",
       "      <td> 0.146784</td>\n",
       "    </tr>\n",
       "    <tr>\n",
       "      <th>25</th>\n",
       "      <td>        e_cut</td>\n",
       "      <td> 0.073851</td>\n",
       "    </tr>\n",
       "  </tbody>\n",
       "</table>\n",
       "</div>"
      ],
      "text/plain": [
       "         feature  importance\n",
       "0            IPs    1.000000\n",
       "1        diff_pt    0.989973\n",
       "2   cos_diff_phi    0.912616\n",
       "3      ghostProb    0.880011\n",
       "4         veloch    0.875979\n",
       "5            ptB    0.854597\n",
       "6            phi    0.845197\n",
       "7        partlcs    0.832147\n",
       "8           proj    0.822278\n",
       "9             IP    0.780993\n",
       "10        PIDNNk    0.774153\n",
       "11           eta    0.759496\n",
       "12      diff_eta    0.748936\n",
       "13        partPt    0.742157\n",
       "14      diff_phi    0.695003\n",
       "15          IPPU    0.648724\n",
       "16         partP    0.635870\n",
       "17        PIDNNe    0.635476\n",
       "18         IPerr    0.611745\n",
       "19        EOverP    0.482703\n",
       "20            ID    0.327791\n",
       "21        mu_cut    0.285142\n",
       "22         K_cut    0.263168\n",
       "23        PIDNNm    0.212865\n",
       "24        nnkrec    0.146784\n",
       "25         e_cut    0.073851"
      ]
     },
     "execution_count": 377,
     "metadata": {},
     "output_type": "execute_result"
    }
   ],
   "source": [
    "imp = numpy.sum([est.feature_importances_ for est in mn_folding.estimators], axis=0)\n",
    "pandas.DataFrame({'importance': -sort(-imp) / max(imp), \n",
    "                  'feature': numpy.array(mn_folding.features)[numpy.argsort(-imp)]})"
   ]
  },
  {
   "cell_type": "code",
   "execution_count": null,
   "metadata": {
    "collapsed": true
   },
   "outputs": [],
   "source": [
    "with open('mn_full.pkl', 'w') as f:\n",
    "    cPickle.dump(mn_folding, f)"
   ]
  },
  {
   "cell_type": "markdown",
   "metadata": {},
   "source": [
    "---------"
   ]
  },
  {
   "cell_type": "markdown",
   "metadata": {},
   "source": [
    "### Selected part of data"
   ]
  },
  {
   "cell_type": "code",
   "execution_count": null,
   "metadata": {
    "collapsed": false
   },
   "outputs": [],
   "source": [
    "data_selected_forest = data_train[((flat_kaon_probs_train < 0.6) & (product_sign_train == 0)) | \n",
    "                                  ((flat_lepton_probs_train > 0.4) & (product_sign_train == 1))]"
   ]
  },
  {
   "cell_type": "code",
   "execution_count": null,
   "metadata": {
    "collapsed": true
   },
   "outputs": [],
   "source": [
    "part2 = data_train[~(((flat_kaon_probs_train < 0.6) & (product_sign_train == 0)) | \n",
    "                                  ((flat_lepton_probs_train > 0.4) & (product_sign_train == 1)))]"
   ]
  },
  {
   "cell_type": "code",
   "execution_count": null,
   "metadata": {
    "collapsed": false
   },
   "outputs": [],
   "source": [
    "statistics(data_selected_forest)"
   ]
  },
  {
   "cell_type": "code",
   "execution_count": null,
   "metadata": {
    "collapsed": false
   },
   "outputs": [],
   "source": [
    "mn_base = MatrixNetSkyGridClassifier(connection='skygrid', user_name='antares',\n",
    "                                     iterations=3000, regularization=0.02, sync=False)\n",
    "mn_folding_forest = FoldingClassifier(mn_base, n_folds=2, random_state=11, \n",
    "                                      features=features)\n",
    "labels = (data_selected_forest['signB'].values * data_selected_forest['signTrack'].values > 0) * 1\n",
    "mn_folding_forest.fit(data_selected_forest, labels, data_selected_forest.N_sig_sw.values)"
   ]
  },
  {
   "cell_type": "code",
   "execution_count": null,
   "metadata": {
    "collapsed": true
   },
   "outputs": [],
   "source": [
    "with open('mn_forest_select.pkl', 'w') as f:\n",
    "    cPickle.dump(mn_folding_forest, f)"
   ]
  },
  {
   "cell_type": "markdown",
   "metadata": {},
   "source": [
    "----"
   ]
  },
  {
   "cell_type": "code",
   "execution_count": 211,
   "metadata": {
    "collapsed": false
   },
   "outputs": [
    {
     "name": "stdout",
     "output_type": "stream",
     "text": [
      "135513 49959\n",
      "Events: 102360 tracks: 135513\n",
      "Events: 35558 tracks: 49959\n"
     ]
    }
   ],
   "source": [
    "selected_tracks, others_tracks = get_pair_best_tracks(data_train, probs_RT_train[:, 1], count=1)\n",
    "statistics(selected_tracks)\n",
    "statistics(others_tracks)"
   ]
  },
  {
   "cell_type": "code",
   "execution_count": null,
   "metadata": {
    "collapsed": true
   },
   "outputs": [],
   "source": [
    "with open('mn_top.pkl', 'r') as f:\n",
    "    mn_folding_top = cPickle.load(f)"
   ]
  },
  {
   "cell_type": "code",
   "execution_count": 212,
   "metadata": {
    "collapsed": false
   },
   "outputs": [
    {
     "data": {
      "text/plain": [
       "FoldingClassifier(base_estimator=MatrixNetSkyGridClassifier(auto_stop=None, baseline_feature=None,\n",
       "              command_line_params=None, connection='skygrid',\n",
       "              dump_filename=None, features_sample_rate_per_iteration=1.0,\n",
       "              intervals=64, iterations=3000, max_features_per_iteration=6,\n",
       "              regularization=0.02, sync=False, train_features=None,\n",
       "              training_fraction=0.5, user_name='antares'),\n",
       "         features=['cos_diff_phi', 'K_cut', 'partPt', 'partP', 'nnkrec', 'diff_eta', 'EOverP', 'mu_cut', 'ptB', 'e_cut', 'PIDNNe', 'PIDNNk', 'PIDNNm', 'proj', 'phi', 'diff_pt', 'IP', 'IPerr', 'IPs', 'ID', 'veloch', 'diff_phi', 'ghostProb', 'IPPU', 'eta', 'partlcs'],\n",
       "         ipc_profile=None, n_folds=2, random_state=11)"
      ]
     },
     "execution_count": 212,
     "metadata": {},
     "output_type": "execute_result"
    }
   ],
   "source": [
    "mn_base = MatrixNetSkyGridClassifier(connection='skygrid', user_name='antares',\n",
    "                                     iterations=3000, regularization=0.02, sync=False)\n",
    "mn_folding_top = FoldingClassifier(mn_base, n_folds=2, random_state=11, \n",
    "                                   features=features)\n",
    "labels = (selected_tracks['signB'].values * selected_tracks['signTrack'].values > 0) * 1\n",
    "mn_folding_top.fit(selected_tracks, labels, selected_tracks.N_sig_sw.values)"
   ]
  },
  {
   "cell_type": "code",
   "execution_count": 213,
   "metadata": {
    "collapsed": true
   },
   "outputs": [],
   "source": [
    "with open('mn_top.pkl', 'w') as f:\n",
    "    cPickle.dump(mn_folding_top, f)"
   ]
  },
  {
   "cell_type": "code",
   "execution_count": 387,
   "metadata": {
    "collapsed": false
   },
   "outputs": [
    {
     "name": "stdout",
     "output_type": "stream",
     "text": [
      "Default prediction\n"
     ]
    }
   ],
   "source": [
    "res = []\n",
    "for probs in mn_folding_top.staged_predict_proba(selected_tracks):\n",
    "    res.append(roc_auc_score((selected_tracks['signB'].values * selected_tracks['signTrack'].values > 0) * 1, \n",
    "                             probs[:, 1], sample_weight=selected_tracks.N_sig_sw.values))"
   ]
  },
  {
   "cell_type": "code",
   "execution_count": null,
   "metadata": {
    "collapsed": true
   },
   "outputs": [],
   "source": []
  },
  {
   "cell_type": "markdown",
   "metadata": {},
   "source": [
    "--------"
   ]
  },
  {
   "cell_type": "code",
   "execution_count": 360,
   "metadata": {
    "collapsed": false
   },
   "outputs": [
    {
     "name": "stdout",
     "output_type": "stream",
     "text": [
      "KFold prediction using folds column\n",
      "KFold prediction using folds column\n"
     ]
    }
   ],
   "source": [
    "probs_sign = mn_folding.predict_proba(data_train)[:, 1]\n",
    "probs_sign_sel = mn_folding_forest.predict_proba(data_selected_forest)[:, 1]\n",
    "# probs_sign = mn_folding_top.predict_proba(selected_tracks)[:, 1]"
   ]
  },
  {
   "cell_type": "code",
   "execution_count": 361,
   "metadata": {
    "collapsed": true
   },
   "outputs": [],
   "source": [
    "labels = (data_train['signB'].values * data_train['signTrack'].values > 0) * 1\n",
    "labels_sel = (data_selected_forest['signB'].values * data_selected_forest['signTrack'].values > 0) * 1\n",
    "labels_test = (data_test['signB'].values * data_test['signTrack'].values > 0) * 1\n",
    "weights = data_train.N_sig_sw.values\n",
    "weights_sel = data_selected_forest.N_sig_sw.values\n",
    "weights_test = data_test.N_sig_sw.values"
   ]
  },
  {
   "cell_type": "code",
   "execution_count": 362,
   "metadata": {
    "collapsed": false
   },
   "outputs": [
    {
     "data": {
      "image/png": "[encoded data removed]",
      "text/plain": [
       "<matplotlib.figure.Figure at 0x11a63e390>"
      ]
     },
     "metadata": {},
     "output_type": "display_data"
    }
   ],
   "source": [
    "hist(probs_sign[labels == 0], bins=60, normed=True, alpha=0.3)\n",
    "hist(probs_sign[labels == 1], bins=60, normed=True, alpha=0.3)\n",
    "pass"
   ]
  },
  {
   "cell_type": "markdown",
   "metadata": {},
   "source": [
    "## Isotonic calibration to probabity p(track same sign|B)"
   ]
  },
  {
   "cell_type": "code",
   "execution_count": 57,
   "metadata": {
    "collapsed": true
   },
   "outputs": [],
   "source": [
    "from sklearn.isotonic import IsotonicRegression\n",
    "from sklearn.linear_model import LogisticRegression"
   ]
  },
  {
   "cell_type": "code",
   "execution_count": 58,
   "metadata": {
    "collapsed": true
   },
   "outputs": [],
   "source": [
    "from scipy.special import logit"
   ]
  },
  {
   "cell_type": "code",
   "execution_count": 363,
   "metadata": {
    "collapsed": false
   },
   "outputs": [
    {
     "data": {
      "text/plain": [
       "IsotonicRegression(increasing=True, out_of_bounds='clip', y_max=1, y_min=0)"
      ]
     },
     "execution_count": 363,
     "metadata": {},
     "output_type": "execute_result"
    }
   ],
   "source": [
    "calib_track_probs = IsotonicRegression(y_min=0, y_max=1, out_of_bounds='clip')\n",
    "calib_track_probs.fit(probs_sign, labels)"
   ]
  },
  {
   "cell_type": "code",
   "execution_count": 324,
   "metadata": {
    "collapsed": false
   },
   "outputs": [
    {
     "name": "stdout",
     "output_type": "stream",
     "text": [
      "KFold prediction using folds column\n"
     ]
    },
    {
     "data": {
      "text/plain": [
       "IsotonicRegression(increasing=True, out_of_bounds='clip', y_max=1, y_min=0)"
      ]
     },
     "execution_count": 324,
     "metadata": {},
     "output_type": "execute_result"
    }
   ],
   "source": [
    "part2_probs = mn_folding_forest.predict_proba(part2)[:, 1]\n",
    "part2_labels = (part2['signB'].values * part2['signTrack'].values > 0) * 1\n",
    "calib_track_probs_sel = IsotonicRegression(y_min=0, y_max=1, out_of_bounds='clip')\n",
    "calib_track_probs_sel.fit(numpy.concatenate([probs_sign_sel, part2_probs]), numpy.concatenate([labels_sel, part2_labels]))"
   ]
  },
  {
   "cell_type": "code",
   "execution_count": 342,
   "metadata": {
    "collapsed": false
   },
   "outputs": [
    {
     "data": {
      "text/plain": [
       "LogisticRegression(C=100, class_weight=None, dual=False, fit_intercept=True,\n",
       "          intercept_scaling=1, max_iter=100, multi_class='ovr',\n",
       "          penalty='l2', random_state=None, solver='liblinear', tol=0.0001,\n",
       "          verbose=0)"
      ]
     },
     "execution_count": 342,
     "metadata": {},
     "output_type": "execute_result"
    }
   ],
   "source": [
    "calib_track_probs_sel = LogisticRegression(C=100)\n",
    "calib_track_probs_sel.fit(logit(numpy.concatenate([probs_sign_sel, part2_probs])[:, numpy.newaxis]),\n",
    "                          numpy.concatenate([labels_sel, part2_labels]))"
   ]
  },
  {
   "cell_type": "code",
   "execution_count": 321,
   "metadata": {
    "collapsed": false
   },
   "outputs": [
    {
     "name": "stdout",
     "output_type": "stream",
     "text": [
      "KFold prediction using folds column\n",
      "KFold prediction using folds column\n"
     ]
    },
    {
     "data": {
      "text/plain": [
       "IsotonicRegression(increasing=True, out_of_bounds='clip', y_max=1, y_min=0)"
      ]
     },
     "execution_count": 321,
     "metadata": {},
     "output_type": "execute_result"
    }
   ],
   "source": [
    "probs_top1 = mn_folding_top.predict_proba(selected_tracks)[:, 1]\n",
    "probs_top2 = mn_folding_top.predict_proba(others_tracks)[:, 1]\n",
    "labels_top1 = (selected_tracks['signB'].values * selected_tracks['signTrack'].values > 0) * 1\n",
    "labels_top2 = (others_tracks['signB'].values * others_tracks['signTrack'].values > 0) * 1\n",
    "calib_track_probs_top = IsotonicRegression(y_min=0, y_max=1, out_of_bounds='clip')\n",
    "calib_track_probs_top.fit(numpy.concatenate([probs_top1, probs_top2]), numpy.concatenate([labels_top1, labels_top2]))"
   ]
  },
  {
   "cell_type": "code",
   "execution_count": 310,
   "metadata": {
    "collapsed": false
   },
   "outputs": [
    {
     "data": {
      "text/plain": [
       "LogisticRegression(C=100, class_weight=None, dual=False, fit_intercept=True,\n",
       "          intercept_scaling=1, max_iter=100, multi_class='ovr',\n",
       "          penalty='l2', random_state=None, solver='liblinear', tol=0.0001,\n",
       "          verbose=0)"
      ]
     },
     "execution_count": 310,
     "metadata": {},
     "output_type": "execute_result"
    }
   ],
   "source": [
    "calib_track_probs_top = LogisticRegression(C=100)\n",
    "calib_track_probs_top.fit(logit(numpy.concatenate([probs_top1, probs_top2])[:, numpy.newaxis]),\n",
    "                          numpy.concatenate([labels_top1, labels_top2]))"
   ]
  },
  {
   "cell_type": "code",
   "execution_count": 191,
   "metadata": {
    "collapsed": true
   },
   "outputs": [],
   "source": [
    "with open('tr_iso_base.pkl', 'w') as f:\n",
    "    cPickle.dump(calib_track_probs_sel, f)"
   ]
  },
  {
   "cell_type": "code",
   "execution_count": 364,
   "metadata": {
    "collapsed": false
   },
   "outputs": [
    {
     "name": "stdout",
     "output_type": "stream",
     "text": [
      "KFold prediction using folds column\n"
     ]
    },
    {
     "data": {
      "text/plain": [
       "0.54449569809789078"
      ]
     },
     "execution_count": 364,
     "metadata": {},
     "output_type": "execute_result"
    }
   ],
   "source": [
    "est = mn_folding\n",
    "probs_sign_test = est.predict_proba(data_test)[:, 1]\n",
    "roc_auc_score(labels_test, probs_sign_test)"
   ]
  },
  {
   "cell_type": "code",
   "execution_count": 365,
   "metadata": {
    "collapsed": false
   },
   "outputs": [],
   "source": [
    "probs_sign_test_calib = calib_track_probs.transform(probs_sign_test)\n",
    "#calib_track_probs_top.transform(probs_sign_test)\n",
    "#calib_track_probs_sel.predict_proba(logit(probs_sign_test[:, newaxis]))[:, 1]\n",
    "#calib_track_probs_sel.transform(probs_sign_test)\n",
    "#calib_track_probs_top.predict_proba(logit(probs_sign_test[:, newaxis]))[:, 1]"
   ]
  },
  {
   "cell_type": "code",
   "execution_count": 366,
   "metadata": {
    "collapsed": false
   },
   "outputs": [
    {
     "data": {
      "image/png": "[encoded data removed]",
      "text/plain": [
       "<matplotlib.figure.Figure at 0x1085674d0>"
      ]
     },
     "metadata": {},
     "output_type": "display_data"
    }
   ],
   "source": [
    "hist(probs_sign_test[labels_test == 0], bins=60, normed=True, alpha=0.3)\n",
    "hist(probs_sign_test[labels_test == 1], bins=60, normed=True, alpha=0.3)\n",
    "pass"
   ]
  },
  {
   "cell_type": "code",
   "execution_count": 367,
   "metadata": {
    "collapsed": false
   },
   "outputs": [
    {
     "data": {
      "image/png": "[encoded data removed]",
      "text/plain": [
       "<matplotlib.figure.Figure at 0x11307d1d0>"
      ]
     },
     "metadata": {},
     "output_type": "display_data"
    }
   ],
   "source": [
    "hist(probs_sign_test_calib[labels_test == 0], bins=60, normed=True, alpha=0.3)\n",
    "hist(probs_sign_test_calib[labels_test == 1], bins=60, normed=True, alpha=0.3)\n",
    "pass"
   ]
  },
  {
   "cell_type": "markdown",
   "metadata": {},
   "source": [
    "## Compute p(B+)"
   ]
  },
  {
   "cell_type": "code",
   "execution_count": 329,
   "metadata": {
    "collapsed": false
   },
   "outputs": [
    {
     "name": "stdout",
     "output_type": "stream",
     "text": [
      "Events: 102360 tracks: 186610\n"
     ]
    }
   ],
   "source": [
    "statistics(data_test)"
   ]
  },
  {
   "cell_type": "code",
   "execution_count": 330,
   "metadata": {
    "collapsed": false
   },
   "outputs": [],
   "source": [
    "def p_B_compute(data, probs):\n",
    "    data['temp'] = probs\n",
    "    probs_new = []\n",
    "    labels_true = []\n",
    "    weights = []\n",
    "    event_id = []\n",
    "    for _, gr in data.groupby('event'):\n",
    "        p_i = gr['temp'].values\n",
    "        signs = gr['signTrack'].values\n",
    "        p_1 = numpy.prod(p_i[signs == 1] / (1 - p_i[signs == 1]))\n",
    "        p_2 = numpy.prod((1 - p_i[signs == -1]) / p_i[signs == -1])\n",
    "        probs_new.append(p_1 * p_2)\n",
    "        labels_true.append(gr['signB'].values[0])\n",
    "        weights.append(gr['N_sig_sw'].values[0])\n",
    "    probs_new = numpy.array(probs_new)\n",
    "    return labels_true, weights, probs_new / (1. + probs_new)"
   ]
  },
  {
   "cell_type": "code",
   "execution_count": 331,
   "metadata": {
    "collapsed": false
   },
   "outputs": [],
   "source": [
    "# def p_B_compute(data, probs):\n",
    "#     _, data_ids = numpy.unique(data.event, return_inverse=True)\n",
    "#     log_prob = numpy.log(p) - numpy.log(1 - p)\n",
    "#     log_prob *= data.signTrack.values\n",
    "#     result_logprob = numpy.bincount(data_ids, weights=log_prob)\n",
    "#     result_id = numpy.bincount(data_ids, weights=data_ids) / numpy.bincount(data_ids)\n",
    "#     result_weight = numpy.bincount(data_ids, weights=data.N_sig_sw) / numpy.bincount(data_ids)\n",
    "#     return result_id, result_weight, result_we§\n",
    "\n",
    "    \n",
    "    \n",
    "#     data['temp'] = probs\n",
    "#     probs_new = []\n",
    "#     labels_true = []\n",
    "#     weights = []\n",
    "#     event_id = []\n",
    "#     for _, gr in data.groupby('event'):\n",
    "#         p_i = gr['temp'].values\n",
    "#         signs = gr['signTrack'].values\n",
    "#         p_1 = numpy.prod(p_i[signs == 1] / (1 - p_i[signs == 1]))\n",
    "#         p_2 = numpy.prod((1 - p_i[signs == 0]) / p_i[signs == 0])\n",
    "#         probs_new.append(p_1 * p_2)\n",
    "#         labels_true.append(gr['signB'].values[0])\n",
    "#         weights.append(gr['N_sig_sw'].values[0])\n",
    "#     probs_new = numpy.array(probs_new)\n",
    "#     return labels_true, weights, probs_new / (1. + probs_new)"
   ]
  },
  {
   "cell_type": "code",
   "execution_count": 368,
   "metadata": {
    "collapsed": false
   },
   "outputs": [],
   "source": [
    "y_true, sample_weights, pB = p_B_compute(data_test, probs_sign_test_calib)"
   ]
  },
  {
   "cell_type": "code",
   "execution_count": 369,
   "metadata": {
    "collapsed": false
   },
   "outputs": [
    {
     "data": {
      "text/plain": [
       "2"
      ]
     },
     "execution_count": 369,
     "metadata": {},
     "output_type": "execute_result"
    }
   ],
   "source": [
    "sum(numpy.isnan(pB))"
   ]
  },
  {
   "cell_type": "code",
   "execution_count": 370,
   "metadata": {
    "collapsed": true
   },
   "outputs": [],
   "source": [
    "pB[numpy.where(numpy.isnan(pB))] = 0.5"
   ]
  },
  {
   "cell_type": "code",
   "execution_count": 371,
   "metadata": {
    "collapsed": false
   },
   "outputs": [
    {
     "data": {
      "image/png": "[encoded data removed]",
      "text/plain": [
       "<matplotlib.figure.Figure at 0x114af0850>"
      ]
     },
     "metadata": {},
     "output_type": "display_data"
    }
   ],
   "source": [
    "hist(pB[numpy.array(y_true) == 1], bins=60, normed=True, alpha=0.3)\n",
    "hist(pB[numpy.array(y_true) == -1], bins=60, normed=True, alpha=0.3)\n",
    "pass"
   ]
  },
  {
   "cell_type": "code",
   "execution_count": 380,
   "metadata": {
    "collapsed": false
   },
   "outputs": [],
   "source": [
    "from rep.utils import train_test_split\n",
    "from sklearn.metrics import roc_auc_score\n",
    "aucs = []\n",
    "D2 = []\n",
    "isos = []\n",
    "for i in range(100):\n",
    "    p_train, p_test, y_train, y_test, w_train, w_test = train_test_split(pB, y_true, sample_weights, test_size=0.5)\n",
    "    calib_B_probs = IsotonicRegression(y_min=0, y_max=1, out_of_bounds='clip')\n",
    "    calib_B_probs.fit(p_train, (y_train > 0) * 1., w_train)\n",
    "    pB_calib = calib_B_probs.transform(p_test)\n",
    "    event_probs = numpy.max([pB_calib, 1 - pB_calib], axis=0)\n",
    "    alpha = (1 - 2 * (1 - pB_calib))**2\n",
    "    D2.append(numpy.mean(alpha))\n",
    "#     D2.append(sum(alpha * w_test) / sum(w_test))\n",
    "    aucs.append(roc_auc_score(y_test, pB_calib, sample_weight=w_test))\n",
    "    isos.append(calib_B_probs)"
   ]
  },
  {
   "cell_type": "code",
   "execution_count": 382,
   "metadata": {
    "collapsed": false
   },
   "outputs": [
    {
     "data": {
      "text/html": [
       "<div style=\"max-height:1000px;max-width:1500px;overflow:auto;\">\n",
       "<table border=\"1\" class=\"dataframe\">\n",
       "  <thead>\n",
       "    <tr style=\"text-align: right;\">\n",
       "      <th></th>\n",
       "      <th>$\\epsilon_{tag}, \\%$</th>\n",
       "      <th>$\\Delta \\epsilon_{tag}, \\%$</th>\n",
       "      <th>$D^2$</th>\n",
       "      <th>$\\Delta D^2$</th>\n",
       "      <th>$\\epsilon, \\%$</th>\n",
       "      <th>$\\Delta \\epsilon, \\%$</th>\n",
       "    </tr>\n",
       "  </thead>\n",
       "  <tbody>\n",
       "    <tr>\n",
       "      <th>0</th>\n",
       "      <td> 66.645794</td>\n",
       "      <td> 0.142273</td>\n",
       "      <td> 0.029157</td>\n",
       "      <td> 0.000002</td>\n",
       "      <td> 1.943183</td>\n",
       "      <td> 0.00415</td>\n",
       "    </tr>\n",
       "  </tbody>\n",
       "</table>\n",
       "</div>"
      ],
      "text/plain": [
       "   $\\epsilon_{tag}, \\%$  $\\Delta \\epsilon_{tag}, \\%$     $D^2$  $\\Delta D^2$  \\\n",
       "0             66.645794                     0.142273  0.029157      0.000002   \n",
       "\n",
       "   $\\epsilon, \\%$  $\\Delta \\epsilon, \\%$  \n",
       "0        1.943183                0.00415  "
      ]
     },
     "execution_count": 382,
     "metadata": {},
     "output_type": "execute_result"
    }
   ],
   "source": [
    "from collections import OrderedDict\n",
    "result = OrderedDict()\n",
    "result['$\\epsilon_{tag}, \\%$'] = [eff_tag * 100]\n",
    "result['$\\Delta \\epsilon_{tag}, \\%$'] = [eff_delta * 100]\n",
    "result['$D^2$'] = [numpy.mean(D2)]\n",
    "result['$\\Delta D^2$'] = [numpy.var(D2)]\n",
    "result['$\\epsilon, \\%$'] = [numpy.mean(D2) * eff_tag * 100]\n",
    "result['$\\Delta \\epsilon, \\%$'] = [sqrt((numpy.var(D2) / numpy.mean(D2))**2 + (eff_delta / eff_tag)**2) * numpy.mean(D2) * eff_tag * 100]\n",
    "pandas.DataFrame(result)"
   ]
  },
  {
   "cell_type": "code",
   "execution_count": 385,
   "metadata": {
    "collapsed": false
   },
   "outputs": [
    {
     "data": {
      "text/plain": [
       "0.0022082620166974354"
      ]
     },
     "execution_count": 385,
     "metadata": {},
     "output_type": "execute_result"
    }
   ],
   "source": [
    "1. * sum(data.mu_cut == 1) / len(data)"
   ]
  },
  {
   "cell_type": "code",
   "execution_count": 506,
   "metadata": {
    "collapsed": false
   },
   "outputs": [],
   "source": [
    "def compare_bins_iso(s=True):\n",
    "    if s:\n",
    "        a = numpy.linspace(0, 1, 100)\n",
    "        label = 'uniform bins'\n",
    "    else:\n",
    "        a = numpy.percentile(p_train, numpy.linspace(0., 100, 100))\n",
    "        a = numpy.array(list(a) + [1.])\n",
    "        label = 'percentile bins'\n",
    "    a = numpy.unique(a)\n",
    "    bins_index = numpy.searchsorted(numpy.unique(a), p_train)\n",
    "    n_sig = numpy.bincount(bins_index, (y_train > 0)*1, minlength=len(a) - 1)\n",
    "    n_bck = numpy.bincount(bins_index, (y_train < 0)*1, minlength=len(a) - 1)\n",
    "    p_bck = n_bck / (n_bck + n_sig)\n",
    "    p_err = numpy.sqrt(n_sig * n_bck) / (n_sig + n_bck)**1.5\n",
    "    errorbar((a[1:] - a[:-1]) / 2 + a[:-1], p_bck, xerr=(a[1:] - a[:-1]) / 2, yerr=p_err,  fmt='.', label=label)\n",
    "    for i in range(1):\n",
    "        plot(x, 1 - isos[i].transform(x), label='isotonic')\n",
    "    ylim(0, 1)\n",
    "    xlabel('BDT output', fontsize=16)\n",
    "    ylabel('Probability to be wrong tagged', fontsize=16)\n",
    "    legend()\n",
    "\n"
   ]
  },
  {
   "cell_type": "code",
   "execution_count": 507,
   "metadata": {
    "collapsed": false
   },
   "outputs": [
    {
     "data": {
      "image/png": "[encoded data removed]",
      "text/plain": [
       "<matplotlib.figure.Figure at 0x15c01d090>"
      ]
     },
     "metadata": {},
     "output_type": "display_data"
    }
   ],
   "source": [
    "compare_bins_iso()"
   ]
  },
  {
   "cell_type": "code",
   "execution_count": 508,
   "metadata": {
    "collapsed": false
   },
   "outputs": [
    {
     "data": {
      "image/png": "[encoded data removed]",
      "text/plain": [
       "<matplotlib.figure.Figure at 0x110a7d510>"
      ]
     },
     "metadata": {},
     "output_type": "display_data"
    }
   ],
   "source": [
    "compare_bins_iso(False)"
   ]
  },
  {
   "cell_type": "code",
   "execution_count": 430,
   "metadata": {
    "collapsed": false
   },
   "outputs": [
    {
     "data": {
      "image/png": "[encoded data removed]",
      "text/plain": [
       "<matplotlib.figure.Figure at 0x11306a550>"
      ]
     },
     "metadata": {},
     "output_type": "display_data"
    }
   ],
   "source": [
    "x = numpy.linspace(0, 1, 100)\n",
    "for i in range(1):\n",
    "    plot(x, 1 - isos[i].transform(x))\n",
    "xlabel('BDT output', fontsize=16)\n",
    "ylabel('Probability to be wrong tagged', fontsize=16)\n",
    "legend()"
   ]
  },
  {
   "cell_type": "code",
   "execution_count": 190,
   "metadata": {
    "collapsed": true
   },
   "outputs": [],
   "source": [
    "import cPickle\n",
    "with open('tr_iso.pkl', 'w') as f:\n",
    "    cPickle.dump(isos, f)"
   ]
  },
  {
   "cell_type": "code",
   "execution_count": 373,
   "metadata": {
    "collapsed": false
   },
   "outputs": [
    {
     "data": {
      "image/png": "[encoded data removed]",
      "text/plain": [
       "<matplotlib.figure.Figure at 0x10c53a750>"
      ]
     },
     "metadata": {},
     "output_type": "display_data"
    }
   ],
   "source": [
    "hist(numpy.array(D2) * eff_tag * 100, bins=30)\n",
    "pass"
   ]
  },
  {
   "cell_type": "code",
   "execution_count": 374,
   "metadata": {
    "collapsed": false
   },
   "outputs": [
    {
     "data": {
      "image/png": "[encoded data removed]",
      "text/plain": [
       "<matplotlib.figure.Figure at 0x10ba03bd0>"
      ]
     },
     "metadata": {},
     "output_type": "display_data"
    }
   ],
   "source": [
    "hist(event_probs, bins=60)\n",
    "pass"
   ]
  },
  {
   "cell_type": "code",
   "execution_count": 375,
   "metadata": {
    "collapsed": false
   },
   "outputs": [
    {
     "data": {
      "text/plain": [
       "(0.58015353862858732, 4.8144889433357559e-06)"
      ]
     },
     "execution_count": 375,
     "metadata": {},
     "output_type": "execute_result"
    }
   ],
   "source": [
    "numpy.mean(aucs), numpy.var(aucs)"
   ]
  },
  {
   "cell_type": "markdown",
   "metadata": {},
   "source": [
    "## Compute D2"
   ]
  },
  {
   "cell_type": "code",
   "execution_count": 187,
   "metadata": {
    "collapsed": false
   },
   "outputs": [],
   "source": [
    "labels = (pB_calib > 0.5) * 1.\n",
    "labels[labels == 0] = -1"
   ]
  },
  {
   "cell_type": "markdown",
   "metadata": {},
   "source": [
    "## Iso median, selection bounds"
   ]
  },
  {
   "cell_type": "code",
   "execution_count": 341,
   "metadata": {
    "collapsed": false
   },
   "outputs": [
    {
     "data": {
      "text/html": [
       "<div style=\"max-height:1000px;max-width:1500px;overflow:auto;\">\n",
       "<table border=\"1\" class=\"dataframe\">\n",
       "  <thead>\n",
       "    <tr style=\"text-align: right;\">\n",
       "      <th></th>\n",
       "      <th>$\\epsilon_{tag}, \\%$</th>\n",
       "      <th>$\\Delta \\epsilon_{tag}, \\%$</th>\n",
       "      <th>$D^2$</th>\n",
       "      <th>$\\Delta D^2$</th>\n",
       "      <th>$\\epsilon, \\%$</th>\n",
       "      <th>$\\Delta \\epsilon, \\%$</th>\n",
       "    </tr>\n",
       "  </thead>\n",
       "  <tbody>\n",
       "    <tr>\n",
       "      <th>0</th>\n",
       "      <td> 66.645794</td>\n",
       "      <td> 0.142273</td>\n",
       "      <td> 0.029531</td>\n",
       "      <td> 0.000002</td>\n",
       "      <td> 1.968119</td>\n",
       "      <td> 0.004204</td>\n",
       "    </tr>\n",
       "  </tbody>\n",
       "</table>\n",
       "</div>"
      ],
      "text/plain": [
       "   $\\epsilon_{tag}, \\%$  $\\Delta \\epsilon_{tag}, \\%$     $D^2$  $\\Delta D^2$  \\\n",
       "0             66.645794                     0.142273  0.029531      0.000002   \n",
       "\n",
       "   $\\epsilon, \\%$  $\\Delta \\epsilon, \\%$  \n",
       "0        1.968119               0.004204  "
      ]
     },
     "execution_count": 341,
     "metadata": {},
     "output_type": "execute_result"
    }
   ],
   "source": [
    "from collections import OrderedDict\n",
    "result = OrderedDict()\n",
    "result['$\\epsilon_{tag}, \\%$'] = [eff_tag * 100]\n",
    "result['$\\Delta \\epsilon_{tag}, \\%$'] = [eff_delta * 100]\n",
    "result['$D^2$'] = [numpy.mean(D2)]\n",
    "result['$\\Delta D^2$'] = [numpy.var(D2)]\n",
    "result['$\\epsilon, \\%$'] = [numpy.mean(D2) * eff_tag * 100]\n",
    "result['$\\Delta \\epsilon, \\%$'] = [sqrt((numpy.var(D2) / numpy.mean(D2))**2 + (eff_delta / eff_tag)**2) * numpy.mean(D2) * eff_tag * 100]\n",
    "pandas.DataFrame(result)"
   ]
  },
  {
   "cell_type": "markdown",
   "metadata": {},
   "source": [
    "## Log median, selection bounds"
   ]
  },
  {
   "cell_type": "code",
   "execution_count": 355,
   "metadata": {
    "collapsed": false
   },
   "outputs": [
    {
     "data": {
      "text/html": [
       "<div style=\"max-height:1000px;max-width:1500px;overflow:auto;\">\n",
       "<table border=\"1\" class=\"dataframe\">\n",
       "  <thead>\n",
       "    <tr style=\"text-align: right;\">\n",
       "      <th></th>\n",
       "      <th>$\\epsilon_{tag}, \\%$</th>\n",
       "      <th>$\\Delta \\epsilon_{tag}, \\%$</th>\n",
       "      <th>$D^2$</th>\n",
       "      <th>$\\Delta D^2$</th>\n",
       "      <th>$\\epsilon, \\%$</th>\n",
       "      <th>$\\Delta \\epsilon, \\%$</th>\n",
       "    </tr>\n",
       "  </thead>\n",
       "  <tbody>\n",
       "    <tr>\n",
       "      <th>0</th>\n",
       "      <td> 66.645794</td>\n",
       "      <td> 0.142273</td>\n",
       "      <td> 0.028222</td>\n",
       "      <td> 0.000001</td>\n",
       "      <td> 1.880852</td>\n",
       "      <td> 0.004016</td>\n",
       "    </tr>\n",
       "  </tbody>\n",
       "</table>\n",
       "</div>"
      ],
      "text/plain": [
       "   $\\epsilon_{tag}, \\%$  $\\Delta \\epsilon_{tag}, \\%$     $D^2$  $\\Delta D^2$  \\\n",
       "0             66.645794                     0.142273  0.028222      0.000001   \n",
       "\n",
       "   $\\epsilon, \\%$  $\\Delta \\epsilon, \\%$  \n",
       "0        1.880852               0.004016  "
      ]
     },
     "execution_count": 355,
     "metadata": {},
     "output_type": "execute_result"
    }
   ],
   "source": [
    "from collections import OrderedDict\n",
    "result = OrderedDict()\n",
    "result['$\\epsilon_{tag}, \\%$'] = [eff_tag * 100]\n",
    "result['$\\Delta \\epsilon_{tag}, \\%$'] = [eff_delta * 100]\n",
    "result['$D^2$'] = [numpy.mean(D2)]\n",
    "result['$\\Delta D^2$'] = [numpy.var(D2)]\n",
    "result['$\\epsilon, \\%$'] = [numpy.mean(D2) * eff_tag * 100]\n",
    "result['$\\Delta \\epsilon, \\%$'] = [sqrt((numpy.var(D2) / numpy.mean(D2))**2 + (eff_delta / eff_tag)**2) * numpy.mean(D2) * eff_tag * 100]\n",
    "pandas.DataFrame(result)"
   ]
  },
  {
   "cell_type": "markdown",
   "metadata": {},
   "source": [
    "## Iso median, top selection"
   ]
  },
  {
   "cell_type": "code",
   "execution_count": 308,
   "metadata": {
    "collapsed": false
   },
   "outputs": [
    {
     "data": {
      "text/html": [
       "<div style=\"max-height:1000px;max-width:1500px;overflow:auto;\">\n",
       "<table border=\"1\" class=\"dataframe\">\n",
       "  <thead>\n",
       "    <tr style=\"text-align: right;\">\n",
       "      <th></th>\n",
       "      <th>$\\epsilon_{tag}, \\%$</th>\n",
       "      <th>$\\Delta \\epsilon_{tag}, \\%$</th>\n",
       "      <th>$D^2$</th>\n",
       "      <th>$\\Delta D^2$</th>\n",
       "      <th>$\\epsilon, \\%$</th>\n",
       "      <th>$\\Delta \\epsilon, \\%$</th>\n",
       "    </tr>\n",
       "  </thead>\n",
       "  <tbody>\n",
       "    <tr>\n",
       "      <th>0</th>\n",
       "      <td> 66.645794</td>\n",
       "      <td> 0.142273</td>\n",
       "      <td> 0.029017</td>\n",
       "      <td> 0.000002</td>\n",
       "      <td> 1.933875</td>\n",
       "      <td> 0.00413</td>\n",
       "    </tr>\n",
       "  </tbody>\n",
       "</table>\n",
       "</div>"
      ],
      "text/plain": [
       "   $\\epsilon_{tag}, \\%$  $\\Delta \\epsilon_{tag}, \\%$     $D^2$  $\\Delta D^2$  \\\n",
       "0             66.645794                     0.142273  0.029017      0.000002   \n",
       "\n",
       "   $\\epsilon, \\%$  $\\Delta \\epsilon, \\%$  \n",
       "0        1.933875                0.00413  "
      ]
     },
     "execution_count": 308,
     "metadata": {},
     "output_type": "execute_result"
    }
   ],
   "source": [
    "from collections import OrderedDict\n",
    "result = OrderedDict()\n",
    "result['$\\epsilon_{tag}, \\%$'] = [eff_tag * 100]\n",
    "result['$\\Delta \\epsilon_{tag}, \\%$'] = [eff_delta * 100]\n",
    "result['$D^2$'] = [numpy.mean(D2)]\n",
    "result['$\\Delta D^2$'] = [numpy.var(D2)]\n",
    "result['$\\epsilon, \\%$'] = [numpy.mean(D2) * eff_tag * 100]\n",
    "result['$\\Delta \\epsilon, \\%$'] = [sqrt((numpy.var(D2) / numpy.mean(D2))**2 + (eff_delta / eff_tag)**2) * numpy.mean(D2) * eff_tag * 100]\n",
    "pandas.DataFrame(result)"
   ]
  },
  {
   "cell_type": "markdown",
   "metadata": {},
   "source": [
    "## Log median , top selection"
   ]
  },
  {
   "cell_type": "code",
   "execution_count": 320,
   "metadata": {
    "collapsed": false
   },
   "outputs": [
    {
     "data": {
      "text/html": [
       "<div style=\"max-height:1000px;max-width:1500px;overflow:auto;\">\n",
       "<table border=\"1\" class=\"dataframe\">\n",
       "  <thead>\n",
       "    <tr style=\"text-align: right;\">\n",
       "      <th></th>\n",
       "      <th>$\\epsilon_{tag}, \\%$</th>\n",
       "      <th>$\\Delta \\epsilon_{tag}, \\%$</th>\n",
       "      <th>$D^2$</th>\n",
       "      <th>$\\Delta D^2$</th>\n",
       "      <th>$\\epsilon, \\%$</th>\n",
       "      <th>$\\Delta \\epsilon, \\%$</th>\n",
       "    </tr>\n",
       "  </thead>\n",
       "  <tbody>\n",
       "    <tr>\n",
       "      <th>0</th>\n",
       "      <td> 66.645794</td>\n",
       "      <td> 0.142273</td>\n",
       "      <td> 0.029878</td>\n",
       "      <td> 0.000001</td>\n",
       "      <td> 1.991215</td>\n",
       "      <td> 0.004251</td>\n",
       "    </tr>\n",
       "  </tbody>\n",
       "</table>\n",
       "</div>"
      ],
      "text/plain": [
       "   $\\epsilon_{tag}, \\%$  $\\Delta \\epsilon_{tag}, \\%$     $D^2$  $\\Delta D^2$  \\\n",
       "0             66.645794                     0.142273  0.029878      0.000001   \n",
       "\n",
       "   $\\epsilon, \\%$  $\\Delta \\epsilon, \\%$  \n",
       "0        1.991215               0.004251  "
      ]
     },
     "execution_count": 320,
     "metadata": {},
     "output_type": "execute_result"
    }
   ],
   "source": [
    "from collections import OrderedDict\n",
    "result = OrderedDict()\n",
    "result['$\\epsilon_{tag}, \\%$'] = [eff_tag * 100]\n",
    "result['$\\Delta \\epsilon_{tag}, \\%$'] = [eff_delta * 100]\n",
    "result['$D^2$'] = [numpy.mean(D2)]\n",
    "result['$\\Delta D^2$'] = [numpy.var(D2)]\n",
    "result['$\\epsilon, \\%$'] = [numpy.mean(D2) * eff_tag * 100]\n",
    "result['$\\Delta \\epsilon, \\%$'] = [sqrt((numpy.var(D2) / numpy.mean(D2))**2 + (eff_delta / eff_tag)**2) * numpy.mean(D2) * eff_tag * 100]\n",
    "pandas.DataFrame(result)"
   ]
  },
  {
   "cell_type": "markdown",
   "metadata": {},
   "source": [
    "---------------------"
   ]
  },
  {
   "cell_type": "code",
   "execution_count": 376,
   "metadata": {
    "collapsed": false
   },
   "outputs": [
    {
     "data": {
      "text/html": [
       "<div style=\"max-height:1000px;max-width:1500px;overflow:auto;\">\n",
       "<table border=\"1\" class=\"dataframe\">\n",
       "  <thead>\n",
       "    <tr style=\"text-align: right;\">\n",
       "      <th></th>\n",
       "      <th>$\\epsilon_{tag}, \\%$</th>\n",
       "      <th>$\\Delta \\epsilon_{tag}, \\%$</th>\n",
       "      <th>$D^2$</th>\n",
       "      <th>$\\Delta D^2$</th>\n",
       "      <th>$\\epsilon, \\%$</th>\n",
       "      <th>$\\Delta \\epsilon, \\%$</th>\n",
       "    </tr>\n",
       "  </thead>\n",
       "  <tbody>\n",
       "    <tr>\n",
       "      <th>0</th>\n",
       "      <td> 66.645794</td>\n",
       "      <td> 0.142273</td>\n",
       "      <td> 0.029199</td>\n",
       "      <td> 0.000002</td>\n",
       "      <td> 1.946008</td>\n",
       "      <td> 0.004156</td>\n",
       "    </tr>\n",
       "  </tbody>\n",
       "</table>\n",
       "</div>"
      ],
      "text/plain": [
       "   $\\epsilon_{tag}, \\%$  $\\Delta \\epsilon_{tag}, \\%$     $D^2$  $\\Delta D^2$  \\\n",
       "0             66.645794                     0.142273  0.029199      0.000002   \n",
       "\n",
       "   $\\epsilon, \\%$  $\\Delta \\epsilon, \\%$  \n",
       "0        1.946008               0.004156  "
      ]
     },
     "execution_count": 376,
     "metadata": {},
     "output_type": "execute_result"
    }
   ],
   "source": [
    "from collections import OrderedDict\n",
    "result = OrderedDict()\n",
    "result['$\\epsilon_{tag}, \\%$'] = [eff_tag * 100]\n",
    "result['$\\Delta \\epsilon_{tag}, \\%$'] = [eff_delta * 100]\n",
    "result['$D^2$'] = [numpy.mean(D2)]\n",
    "result['$\\Delta D^2$'] = [numpy.var(D2)]\n",
    "result['$\\epsilon, \\%$'] = [numpy.mean(D2) * eff_tag * 100]\n",
    "result['$\\Delta \\epsilon, \\%$'] = [sqrt((numpy.var(D2) / numpy.mean(D2))**2 + (eff_delta / eff_tag)**2) * numpy.mean(D2) * eff_tag * 100]\n",
    "pandas.DataFrame(result)"
   ]
  },
  {
   "cell_type": "code",
   "execution_count": null,
   "metadata": {
    "collapsed": true
   },
   "outputs": [],
   "source": []
  }
 ],
 "metadata": {
  "kernelspec": {
   "display_name": "Python 2",
   "language": "python",
   "name": "python2"
  },
  "language_info": {
   "codemirror_mode": {
    "name": "ipython",
    "version": 2
   },
   "file_extension": ".py",
   "mimetype": "text/x-python",
   "name": "python",
   "nbconvert_exporter": "python",
   "pygments_lexer": "ipython2",
   "version": "2.7.3"
  }
 },
 "nbformat": 4,
 "nbformat_minor": 0
}
