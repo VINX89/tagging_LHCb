{
 "cells": [
  {
   "cell_type": "code",
   "execution_count": 2,
   "metadata": {
    "collapsed": false
   },
   "outputs": [
    {
     "name": "stdout",
     "output_type": "stream",
     "text": [
      "Populating the interactive namespace from numpy and matplotlib\n"
     ]
    }
   ],
   "source": [
    "%pylab inline"
   ]
  },
  {
   "cell_type": "markdown",
   "metadata": {},
   "source": [
    "## Import"
   ]
  },
  {
   "cell_type": "code",
   "execution_count": 3,
   "metadata": {
    "collapsed": false
   },
   "outputs": [],
   "source": [
    "import pandas\n",
    "import numpy\n",
    "\n",
    "from sklearn.ensemble import RandomForestClassifier\n",
    "from sklearn.metrics import roc_curve, roc_auc_score\n",
    "\n",
    "from rep.metaml import FoldingClassifier\n",
    "from rep.data import LabeledDataStorage\n",
    "from rep.report import ClassificationReport\n",
    "from rep.report.metrics import RocAuc"
   ]
  },
  {
   "cell_type": "code",
   "execution_count": 4,
   "metadata": {
    "collapsed": false
   },
   "outputs": [],
   "source": [
    "from utils import get_N_B_events, get_events_number, get_events_statistics"
   ]
  },
  {
   "cell_type": "markdown",
   "metadata": {},
   "source": [
    "## Reading initial data"
   ]
  },
  {
   "cell_type": "code",
   "execution_count": 5,
   "metadata": {
    "collapsed": false
   },
   "outputs": [],
   "source": [
    "import root_numpy\n",
    "data = pandas.DataFrame(root_numpy.root2array('datasets/1016_vtx.root'))"
   ]
  },
  {
   "cell_type": "markdown",
   "metadata": {},
   "source": [
    "## Define label\n",
    "`label` = `signB` * `signVtx` > 0\n",
    "* same sign of B and vtx -> label = 1\n",
    "* opposite sign of B and vtx -> label = 0"
   ]
  },
  {
   "cell_type": "code",
   "execution_count": 6,
   "metadata": {
    "collapsed": false
   },
   "outputs": [],
   "source": [
    "event_id_column = 'event_id'\n",
    "data[event_id_column] = data.runNum.apply(str) + '_' + (data.evtNum.apply(int)).apply(str)\n",
    "# reconstructing sign of B\n",
    "data['signB'] = data.tagAnswer * (2 * data.iscorrect - 1)\n",
    "# assure sign is +1 or -1\n",
    "data['signVtx'] = (data.signVtx.values > 0) * 2 - 1\n",
    "data['label'] = (data.signVtx.values * data.signB.values > 0) * 1"
   ]
  },
  {
   "cell_type": "code",
   "execution_count": 7,
   "metadata": {
    "collapsed": false
   },
   "outputs": [
    {
     "data": {
      "text/html": [
       "<div>\n",
       "<table border=\"1\" class=\"dataframe\">\n",
       "  <thead>\n",
       "    <tr style=\"text-align: right;\">\n",
       "      <th></th>\n",
       "      <th>iscorrect</th>\n",
       "      <th>tagAnswer</th>\n",
       "      <th>signVtx</th>\n",
       "      <th>tagger</th>\n",
       "      <th>evtNum</th>\n",
       "      <th>runNum</th>\n",
       "      <th>nnkrec</th>\n",
       "      <th>mult</th>\n",
       "      <th>ptB</th>\n",
       "      <th>etaB</th>\n",
       "      <th>...</th>\n",
       "      <th>svp</th>\n",
       "      <th>om_muon</th>\n",
       "      <th>om_ele</th>\n",
       "      <th>om_kaon</th>\n",
       "      <th>om_same</th>\n",
       "      <th>om_vtx</th>\n",
       "      <th>N_sig_sw</th>\n",
       "      <th>event_id</th>\n",
       "      <th>signB</th>\n",
       "      <th>label</th>\n",
       "    </tr>\n",
       "  </thead>\n",
       "  <tbody>\n",
       "    <tr>\n",
       "      <th>0</th>\n",
       "      <td>0</td>\n",
       "      <td>1</td>\n",
       "      <td>-1</td>\n",
       "      <td>0</td>\n",
       "      <td>490856995</td>\n",
       "      <td>115839</td>\n",
       "      <td>3</td>\n",
       "      <td>19</td>\n",
       "      <td>-0.382002</td>\n",
       "      <td>-6.307031</td>\n",
       "      <td>...</td>\n",
       "      <td>5.458805</td>\n",
       "      <td>0</td>\n",
       "      <td>0</td>\n",
       "      <td>0</td>\n",
       "      <td>0</td>\n",
       "      <td>0</td>\n",
       "      <td>1.034008</td>\n",
       "      <td>115839_490856995</td>\n",
       "      <td>-1</td>\n",
       "      <td>1</td>\n",
       "    </tr>\n",
       "    <tr>\n",
       "      <th>1</th>\n",
       "      <td>1</td>\n",
       "      <td>1</td>\n",
       "      <td>-1</td>\n",
       "      <td>0</td>\n",
       "      <td>822264706</td>\n",
       "      <td>115839</td>\n",
       "      <td>2</td>\n",
       "      <td>10</td>\n",
       "      <td>2.117417</td>\n",
       "      <td>-2.673835</td>\n",
       "      <td>...</td>\n",
       "      <td>3.035841</td>\n",
       "      <td>0</td>\n",
       "      <td>0</td>\n",
       "      <td>0</td>\n",
       "      <td>0</td>\n",
       "      <td>0</td>\n",
       "      <td>1.091844</td>\n",
       "      <td>115839_822264706</td>\n",
       "      <td>1</td>\n",
       "      <td>0</td>\n",
       "    </tr>\n",
       "    <tr>\n",
       "      <th>2</th>\n",
       "      <td>1</td>\n",
       "      <td>1</td>\n",
       "      <td>-1</td>\n",
       "      <td>0</td>\n",
       "      <td>68238381</td>\n",
       "      <td>115839</td>\n",
       "      <td>4</td>\n",
       "      <td>16</td>\n",
       "      <td>0.788837</td>\n",
       "      <td>-4.426422</td>\n",
       "      <td>...</td>\n",
       "      <td>4.479315</td>\n",
       "      <td>0</td>\n",
       "      <td>0</td>\n",
       "      <td>0</td>\n",
       "      <td>0</td>\n",
       "      <td>0</td>\n",
       "      <td>-0.263734</td>\n",
       "      <td>115839_68238381</td>\n",
       "      <td>1</td>\n",
       "      <td>0</td>\n",
       "    </tr>\n",
       "    <tr>\n",
       "      <th>3</th>\n",
       "      <td>1</td>\n",
       "      <td>1</td>\n",
       "      <td>-1</td>\n",
       "      <td>0</td>\n",
       "      <td>3537659</td>\n",
       "      <td>115839</td>\n",
       "      <td>3</td>\n",
       "      <td>38</td>\n",
       "      <td>0.070327</td>\n",
       "      <td>-4.690033</td>\n",
       "      <td>...</td>\n",
       "      <td>4.092348</td>\n",
       "      <td>0</td>\n",
       "      <td>0</td>\n",
       "      <td>0</td>\n",
       "      <td>0</td>\n",
       "      <td>0</td>\n",
       "      <td>1.062726</td>\n",
       "      <td>115839_3537659</td>\n",
       "      <td>1</td>\n",
       "      <td>0</td>\n",
       "    </tr>\n",
       "    <tr>\n",
       "      <th>4</th>\n",
       "      <td>0</td>\n",
       "      <td>1</td>\n",
       "      <td>-1</td>\n",
       "      <td>0</td>\n",
       "      <td>2079583</td>\n",
       "      <td>115839</td>\n",
       "      <td>2</td>\n",
       "      <td>31</td>\n",
       "      <td>1.172778</td>\n",
       "      <td>-3.726187</td>\n",
       "      <td>...</td>\n",
       "      <td>2.617929</td>\n",
       "      <td>0</td>\n",
       "      <td>0</td>\n",
       "      <td>0</td>\n",
       "      <td>0</td>\n",
       "      <td>0</td>\n",
       "      <td>0.949457</td>\n",
       "      <td>115839_2079583</td>\n",
       "      <td>-1</td>\n",
       "      <td>1</td>\n",
       "    </tr>\n",
       "  </tbody>\n",
       "</table>\n",
       "<p>5 rows × 56 columns</p>\n",
       "</div>"
      ],
      "text/plain": [
       "   iscorrect  tagAnswer  signVtx  tagger     evtNum  runNum  nnkrec  mult  \\\n",
       "0          0          1       -1       0  490856995  115839       3    19   \n",
       "1          1          1       -1       0  822264706  115839       2    10   \n",
       "2          1          1       -1       0   68238381  115839       4    16   \n",
       "3          1          1       -1       0    3537659  115839       3    38   \n",
       "4          0          1       -1       0    2079583  115839       2    31   \n",
       "\n",
       "        ptB      etaB  ...         svp  om_muon  om_ele  om_kaon  om_same  \\\n",
       "0 -0.382002 -6.307031  ...    5.458805        0       0        0        0   \n",
       "1  2.117417 -2.673835  ...    3.035841        0       0        0        0   \n",
       "2  0.788837 -4.426422  ...    4.479315        0       0        0        0   \n",
       "3  0.070327 -4.690033  ...    4.092348        0       0        0        0   \n",
       "4  1.172778 -3.726187  ...    2.617929        0       0        0        0   \n",
       "\n",
       "   om_vtx  N_sig_sw          event_id  signB  label  \n",
       "0       0  1.034008  115839_490856995     -1      1  \n",
       "1       0  1.091844  115839_822264706      1      0  \n",
       "2       0 -0.263734   115839_68238381      1      0  \n",
       "3       0  1.062726    115839_3537659      1      0  \n",
       "4       0  0.949457    115839_2079583     -1      1  \n",
       "\n",
       "[5 rows x 56 columns]"
      ]
     },
     "execution_count": 7,
     "metadata": {},
     "output_type": "execute_result"
    }
   ],
   "source": [
    "data.head()"
   ]
  },
  {
   "cell_type": "code",
   "execution_count": 8,
   "metadata": {
    "collapsed": false
   },
   "outputs": [
    {
     "data": {
      "text/plain": [
       "{'Events': 427102, 'tracks': 427103}"
      ]
     },
     "execution_count": 8,
     "metadata": {},
     "output_type": "execute_result"
    }
   ],
   "source": [
    "get_events_statistics(data)"
   ]
  },
  {
   "cell_type": "code",
   "execution_count": 9,
   "metadata": {
    "collapsed": false
   },
   "outputs": [
    {
     "name": "stdout",
     "output_type": "stream",
     "text": [
      "0.397426963471 0.000731430257878\n"
     ]
    }
   ],
   "source": [
    "N_pass = get_events_number(data)\n",
    "tagging_efficiency = 1. * N_pass / get_N_B_events()\n",
    "tagging_efficiency_delta = sqrt(N_pass) / get_N_B_events()\n",
    "print tagging_efficiency, tagging_efficiency_delta"
   ]
  },
  {
   "cell_type": "code",
   "execution_count": 10,
   "metadata": {
    "collapsed": true
   },
   "outputs": [],
   "source": [
    "Bdata_tracks = pandas.read_csv('models/Bdata_tracks_PID_less.csv')"
   ]
  },
  {
   "cell_type": "code",
   "execution_count": 11,
   "metadata": {
    "collapsed": false
   },
   "outputs": [],
   "source": [
    "Bdata_tracks.index = Bdata_tracks.event_id"
   ]
  },
  {
   "cell_type": "code",
   "execution_count": 12,
   "metadata": {
    "collapsed": false
   },
   "outputs": [],
   "source": [
    "data['initial_pred'] = Bdata_tracks.ix[data.event_id, 'track_relation_prob'].values"
   ]
  },
  {
   "cell_type": "markdown",
   "metadata": {},
   "source": [
    "### Define B-like events for training and others for prediction"
   ]
  },
  {
   "cell_type": "code",
   "execution_count": 13,
   "metadata": {
    "collapsed": false
   },
   "outputs": [
    {
     "data": {
      "text/plain": [
       "{'Events': 247173, 'tracks': 247173}"
      ]
     },
     "execution_count": 13,
     "metadata": {},
     "output_type": "execute_result"
    }
   ],
   "source": [
    "sweight_threshold = 1.\n",
    "data_sw_passed = data[data.N_sig_sw > sweight_threshold]\n",
    "data_sw_not_passed = data[data.N_sig_sw <= sweight_threshold]\n",
    "get_events_statistics(data_sw_passed)"
   ]
  },
  {
   "cell_type": "markdown",
   "metadata": {},
   "source": [
    "### Define features"
   ]
  },
  {
   "cell_type": "code",
   "execution_count": 14,
   "metadata": {
    "collapsed": false
   },
   "outputs": [],
   "source": [
    "features =  ['mult', 'nnkrec', 'ptB', 'vflag', 'ipsmean', 'ptmean', 'vcharge', \n",
    "             'svm', 'svp', 'BDphiDir', 'svtau', 'docamax']"
   ]
  },
  {
   "cell_type": "markdown",
   "metadata": {},
   "source": [
    "## Find good vtx to define sign B\n",
    "\n",
    "trying to guess sign of B based on sign of vtx. If the guess is good, the vtx will be used on next step to train classifier."
   ]
  },
  {
   "cell_type": "markdown",
   "metadata": {},
   "source": [
    "### 2-folding random forest selection for right tagged events"
   ]
  },
  {
   "cell_type": "code",
   "execution_count": 15,
   "metadata": {
    "collapsed": true
   },
   "outputs": [],
   "source": [
    "data_sw_passed_lds = LabeledDataStorage(data_sw_passed, data_sw_passed.label, data_sw_passed.N_sig_sw)"
   ]
  },
  {
   "cell_type": "markdown",
   "metadata": {},
   "source": [
    "## Training on all vtx\n",
    "in this case we don't use preselection with RandomForest"
   ]
  },
  {
   "cell_type": "markdown",
   "metadata": {},
   "source": [
    "### DT full"
   ]
  },
  {
   "cell_type": "code",
   "execution_count": 17,
   "metadata": {
    "collapsed": true
   },
   "outputs": [],
   "source": [
    "from hep_ml.decisiontrain import DecisionTrainClassifier\n",
    "from hep_ml.losses import LogLossFunction"
   ]
  },
  {
   "cell_type": "code",
   "execution_count": 39,
   "metadata": {
    "collapsed": false
   },
   "outputs": [],
   "source": [
    "from hep_ml.losses import HessianLossFunction\n",
    "from hep_ml.commonutils import check_sample_weight\n",
    "from scipy.special import expit\n",
    "\n",
    "class LogLossFunctionTagging(HessianLossFunction):\n",
    "    \"\"\"Logistic loss function (logloss), aka binomial deviance, aka cross-entropy,\n",
    "       aka log-likelihood loss.\n",
    "    \"\"\"  \n",
    "    def fit(self, X, y, sample_weight):\n",
    "        self.sample_weight = check_sample_weight(y, sample_weight=sample_weight,\n",
    "                                                 normalize=True, normalize_by_class=True)\n",
    "        self.initial_pred = numpy.log(X['initial_pred'].values)\n",
    "        self.y_signed = 2 * y - 1\n",
    "        self.minus_y_signed = - self.y_signed\n",
    "        self.y_signed_times_weights = self.y_signed * self.sample_weight\n",
    "        HessianLossFunction.fit(self, X, y, sample_weight=self.sample_weight)\n",
    "        return self\n",
    "\n",
    "    def __call__(self, y_pred):\n",
    "        y_pred = y_pred + self.initial_pred\n",
    "        return numpy.sum(self.sample_weight * numpy.logaddexp(0, self.minus_y_signed * y_pred))\n",
    "\n",
    "    def negative_gradient(self, y_pred):\n",
    "        y_pred = y_pred + self.initial_pred\n",
    "        return self.y_signed_times_weights * expit(self.minus_y_signed * y_pred)\n",
    "\n",
    "    def hessian(self, y_pred):\n",
    "        y_pred = y_pred + self.initial_pred\n",
    "        expits = expit(y_pred)\n",
    "        return self.sample_weight * expits * (1 - expits)\n",
    "\n",
    "    def prepare_tree_params(self, y_pred):\n",
    "        y_pred = y_pred + self.initial_pred\n",
    "        return self.y_signed * expit(self.minus_y_signed * y_pred), self.sample_weight"
   ]
  },
  {
   "cell_type": "code",
   "execution_count": 58,
   "metadata": {
    "collapsed": false
   },
   "outputs": [
    {
     "data": {
      "text/plain": [
       "0.66117292642593384"
      ]
     },
     "execution_count": 58,
     "metadata": {},
     "output_type": "execute_result"
    }
   ],
   "source": []
  },
  {
   "cell_type": "code",
   "execution_count": 40,
   "metadata": {
    "collapsed": false
   },
   "outputs": [
    {
     "name": "stdout",
     "output_type": "stream",
     "text": [
      "CPU times: user 1min 32s, sys: 4 ms, total: 1min 32s\n",
      "Wall time: 1min 32s\n"
     ]
    }
   ],
   "source": [
    "tt_base = DecisionTrainClassifier(learning_rate=0.02, n_estimators=1500, depth=6, \n",
    "                                  max_features=8, loss=LogLossFunctionTagging(regularization=100), train_features=features)\n",
    "tt_folding = FoldingClassifier(tt_base, n_folds=2, random_state=11,\n",
    "                               features=features + ['initial_pred'])\n",
    "%time tt_folding.fit_lds(data_sw_passed_lds)\n",
    "pass"
   ]
  },
  {
   "cell_type": "code",
   "execution_count": 61,
   "metadata": {
    "collapsed": false
   },
   "outputs": [
    {
     "name": "stdout",
     "output_type": "stream",
     "text": [
      "KFold prediction using folds column\n"
     ]
    }
   ],
   "source": []
  },
  {
   "cell_type": "code",
   "execution_count": 62,
   "metadata": {
    "collapsed": true
   },
   "outputs": [],
   "source": [
    "from scipy.special import expit, logit"
   ]
  },
  {
   "cell_type": "code",
   "execution_count": 72,
   "metadata": {
    "collapsed": true
   },
   "outputs": [],
   "source": [
    "data_temp = data_sw_not_passed"
   ]
  },
  {
   "cell_type": "code",
   "execution_count": 73,
   "metadata": {
    "collapsed": false
   },
   "outputs": [
    {
     "name": "stdout",
     "output_type": "stream",
     "text": [
      "0.715624213219\n"
     ]
    }
   ],
   "source": [
    "print roc_auc_score(data_temp.signB.values, data_temp['initial_pred'].values, sample_weight=data_temp.N_sig_sw.values)"
   ]
  },
  {
   "cell_type": "code",
   "execution_count": 75,
   "metadata": {
    "collapsed": false
   },
   "outputs": [
    {
     "name": "stdout",
     "output_type": "stream",
     "text": [
      "KFold prediction using random classifier (length of data passed not equal to length of train)\n",
      "0.68956130743\n"
     ]
    }
   ],
   "source": [
    "p = tt_folding.predict_proba(data_temp)[:, 1]\n",
    "print roc_auc_score(data_temp.signB.values,\n",
    "                    log(data_temp['initial_pred'].values) + logit(p) * data_temp.signB.values,\n",
    "                    sample_weight=data_temp.N_sig_sw.values)"
   ]
  },
  {
   "cell_type": "code",
   "execution_count": 66,
   "metadata": {
    "collapsed": false
   },
   "outputs": [
    {
     "data": {
      "image/png": "[encoded data removed]",
      "text/plain": [
       "<matplotlib.figure.Figure at 0x8290cd0>"
      ]
     },
     "metadata": {},
     "output_type": "display_data"
    }
   ],
   "source": [
    "hist(tt_folding.estimators[0].loss.initial_pred, )\n",
    "pass"
   ]
  },
  {
   "cell_type": "markdown",
   "metadata": {},
   "source": [
    "### Report for all vtx"
   ]
  },
  {
   "cell_type": "code",
   "execution_count": 43,
   "metadata": {
    "collapsed": false
   },
   "outputs": [
    {
     "name": "stdout",
     "output_type": "stream",
     "text": [
      "KFold prediction using folds column\n"
     ]
    }
   ],
   "source": [
    "report = ClassificationReport({'tt': tt_folding}, data_sw_passed_lds)"
   ]
  },
  {
   "cell_type": "code",
   "execution_count": 44,
   "metadata": {
    "collapsed": false
   },
   "outputs": [
    {
     "name": "stdout",
     "output_type": "stream",
     "text": [
      "KFold prediction using folds column\n"
     ]
    },
    {
     "data": {
      "text/html": [],
      "text/plain": [
       "<rep.plotting.FunctionsPlot at 0x1029fa50>"
      ]
     },
     "execution_count": 44,
     "metadata": {},
     "output_type": "execute_result"
    },
    {
     "data": {
      "image/png": "[encoded data removed]",
      "text/plain": [
       "<matplotlib.figure.Figure at 0x127b5d90>"
      ]
     },
     "metadata": {},
     "output_type": "display_data"
    }
   ],
   "source": [
    "report.learning_curve(RocAuc())"
   ]
  },
  {
   "cell_type": "code",
   "execution_count": 45,
   "metadata": {
    "collapsed": false
   },
   "outputs": [
    {
     "data": {
      "text/plain": [
       "OrderedDict([('tt', 0.55419415895346669)])"
      ]
     },
     "execution_count": 45,
     "metadata": {},
     "output_type": "execute_result"
    }
   ],
   "source": [
    "report.compute_metric(RocAuc())"
   ]
  },
  {
   "cell_type": "code",
   "execution_count": 46,
   "metadata": {
    "collapsed": false
   },
   "outputs": [
    {
     "data": {
      "text/html": [],
      "text/plain": [
       "<rep.plotting.FunctionsPlot at 0xf5771d0>"
      ]
     },
     "execution_count": 46,
     "metadata": {},
     "output_type": "execute_result"
    },
    {
     "data": {
      "image/png": "[encoded data removed]",
      "text/plain": [
       "<matplotlib.figure.Figure at 0xf577250>"
      ]
     },
     "metadata": {},
     "output_type": "display_data"
    }
   ],
   "source": [
    "report.roc()"
   ]
  },
  {
   "cell_type": "markdown",
   "metadata": {},
   "source": [
    "--------"
   ]
  },
  {
   "cell_type": "markdown",
   "metadata": {},
   "source": [
    "## Calibrating results $p(\\text{vrt same sign}|B)$ and combining them"
   ]
  },
  {
   "cell_type": "code",
   "execution_count": 47,
   "metadata": {
    "collapsed": true
   },
   "outputs": [],
   "source": [
    "models = []"
   ]
  },
  {
   "cell_type": "code",
   "execution_count": 48,
   "metadata": {
    "collapsed": true
   },
   "outputs": [],
   "source": [
    "from utils import get_result_with_bootstrap_for_given_part"
   ]
  },
  {
   "cell_type": "code",
   "execution_count": 49,
   "metadata": {
    "collapsed": false
   },
   "outputs": [
    {
     "name": "stdout",
     "output_type": "stream",
     "text": [
      "KFold prediction using folds column\n",
      "KFold prediction using random classifier (length of data passed not equal to length of train)\n"
     ]
    },
    {
     "data": {
      "image/png": "[encoded data removed]",
      "text/plain": [
       "<matplotlib.figure.Figure at 0xadbcb90>"
      ]
     },
     "metadata": {},
     "output_type": "display_data"
    },
    {
     "name": "stdout",
     "output_type": "stream",
     "text": [
      "AUC for tagged: 0.594398881774 AUC with untag: 0.546054631136\n",
      "mean AUC after calibration: 0.594058612825 1.23619450273e-06\n"
     ]
    }
   ],
   "source": [
    "models.append(get_result_with_bootstrap_for_given_part(tagging_efficiency, tagging_efficiency_delta, tt_folding, \n",
    "                                                      [data_sw_passed, data_sw_not_passed], \n",
    "                                                      logistic=True, name=\"tt-log\",\n",
    "                                                      sign_part_column='signVtx', part_name='vertex'))"
   ]
  },
  {
   "cell_type": "code",
   "execution_count": 50,
   "metadata": {
    "collapsed": false
   },
   "outputs": [
    {
     "name": "stdout",
     "output_type": "stream",
     "text": [
      "KFold prediction using folds column\n",
      "KFold prediction using random classifier (length of data passed not equal to length of train)\n"
     ]
    },
    {
     "data": {
      "image/png": "[encoded data removed]",
      "text/plain": [
       "<matplotlib.figure.Figure at 0x129a9a50>"
      ]
     },
     "metadata": {},
     "output_type": "display_data"
    },
    {
     "name": "stdout",
     "output_type": "stream",
     "text": [
      "AUC for tagged: 0.594148878677 AUC with untag: 0.546551916187\n",
      "mean AUC after calibration: 0.593875817111 1.55377219749e-06\n"
     ]
    }
   ],
   "source": [
    "models.append(get_result_with_bootstrap_for_given_part(tagging_efficiency, tagging_efficiency_delta, tt_folding, \n",
    "                                                      [data_sw_passed, data_sw_not_passed], \n",
    "                                                      logistic=False, name=\"tt-iso\",\n",
    "                                                      sign_part_column='signVtx', part_name='vertex'))"
   ]
  },
  {
   "cell_type": "markdown",
   "metadata": {},
   "source": [
    "# Comparison of different models"
   ]
  },
  {
   "cell_type": "code",
   "execution_count": 51,
   "metadata": {
    "collapsed": false
   },
   "outputs": [
    {
     "data": {
      "text/html": [
       "<div>\n",
       "<table border=\"1\" class=\"dataframe\">\n",
       "  <thead>\n",
       "    <tr style=\"text-align: right;\">\n",
       "      <th></th>\n",
       "      <th>name</th>\n",
       "      <th>$\\epsilon_{tag}, \\%$</th>\n",
       "      <th>$\\Delta \\epsilon_{tag}, \\%$</th>\n",
       "      <th>$D^2$</th>\n",
       "      <th>$\\Delta D^2$</th>\n",
       "      <th>$\\epsilon, \\%$</th>\n",
       "      <th>$\\Delta \\epsilon, \\%$</th>\n",
       "      <th>AUC, with untag</th>\n",
       "      <th>$\\Delta$ AUC, with untag</th>\n",
       "    </tr>\n",
       "  </thead>\n",
       "  <tbody>\n",
       "    <tr>\n",
       "      <th>0</th>\n",
       "      <td>tt-log</td>\n",
       "      <td>39.742696</td>\n",
       "      <td>0.073143</td>\n",
       "      <td>0.027535</td>\n",
       "      <td>0.000500</td>\n",
       "      <td>1.094329</td>\n",
       "      <td>0.019965</td>\n",
       "      <td>54.605463</td>\n",
       "      <td>0</td>\n",
       "    </tr>\n",
       "    <tr>\n",
       "      <th>0</th>\n",
       "      <td>tt-iso</td>\n",
       "      <td>39.742696</td>\n",
       "      <td>0.073143</td>\n",
       "      <td>0.026088</td>\n",
       "      <td>0.003449</td>\n",
       "      <td>1.036793</td>\n",
       "      <td>0.137068</td>\n",
       "      <td>54.655192</td>\n",
       "      <td>0</td>\n",
       "    </tr>\n",
       "  </tbody>\n",
       "</table>\n",
       "</div>"
      ],
      "text/plain": [
       "     name  $\\epsilon_{tag}, \\%$  $\\Delta \\epsilon_{tag}, \\%$     $D^2$  \\\n",
       "0  tt-log             39.742696                     0.073143  0.027535   \n",
       "0  tt-iso             39.742696                     0.073143  0.026088   \n",
       "\n",
       "   $\\Delta D^2$  $\\epsilon, \\%$  $\\Delta \\epsilon, \\%$  AUC, with untag  \\\n",
       "0      0.000500        1.094329               0.019965        54.605463   \n",
       "0      0.003449        1.036793               0.137068        54.655192   \n",
       "\n",
       "   $\\Delta$ AUC, with untag  \n",
       "0                         0  \n",
       "0                         0  "
      ]
     },
     "execution_count": 51,
     "metadata": {},
     "output_type": "execute_result"
    }
   ],
   "source": [
    "pandas.concat(models)"
   ]
  },
  {
   "cell_type": "code",
   "execution_count": 31,
   "metadata": {
    "collapsed": false
   },
   "outputs": [
    {
     "data": {
      "text/html": [
       "<div>\n",
       "<table border=\"1\" class=\"dataframe\">\n",
       "  <thead>\n",
       "    <tr style=\"text-align: right;\">\n",
       "      <th></th>\n",
       "      <th>name</th>\n",
       "      <th>$\\epsilon_{tag}, \\%$</th>\n",
       "      <th>$\\Delta \\epsilon_{tag}, \\%$</th>\n",
       "      <th>$D^2$</th>\n",
       "      <th>$\\Delta D^2$</th>\n",
       "      <th>$\\epsilon, \\%$</th>\n",
       "      <th>$\\Delta \\epsilon, \\%$</th>\n",
       "      <th>AUC, with untag</th>\n",
       "      <th>$\\Delta$ AUC, with untag</th>\n",
       "    </tr>\n",
       "  </thead>\n",
       "  <tbody>\n",
       "    <tr>\n",
       "      <th>0</th>\n",
       "      <td>tt-log</td>\n",
       "      <td>39.742696</td>\n",
       "      <td>0.073143</td>\n",
       "      <td>0.027504</td>\n",
       "      <td>0.000676</td>\n",
       "      <td>1.093065</td>\n",
       "      <td>0.026943</td>\n",
       "      <td>54.633088</td>\n",
       "      <td>0</td>\n",
       "    </tr>\n",
       "    <tr>\n",
       "      <th>0</th>\n",
       "      <td>tt-iso</td>\n",
       "      <td>39.742696</td>\n",
       "      <td>0.073143</td>\n",
       "      <td>0.030170</td>\n",
       "      <td>0.004600</td>\n",
       "      <td>1.199048</td>\n",
       "      <td>0.182819</td>\n",
       "      <td>54.656729</td>\n",
       "      <td>0</td>\n",
       "    </tr>\n",
       "  </tbody>\n",
       "</table>\n",
       "</div>"
      ],
      "text/plain": [
       "     name  $\\epsilon_{tag}, \\%$  $\\Delta \\epsilon_{tag}, \\%$     $D^2$  \\\n",
       "0  tt-log             39.742696                     0.073143  0.027504   \n",
       "0  tt-iso             39.742696                     0.073143  0.030170   \n",
       "\n",
       "   $\\Delta D^2$  $\\epsilon, \\%$  $\\Delta \\epsilon, \\%$  AUC, with untag  \\\n",
       "0      0.000676        1.093065               0.026943        54.633088   \n",
       "0      0.004600        1.199048               0.182819        54.656729   \n",
       "\n",
       "   $\\Delta$ AUC, with untag  \n",
       "0                         0  \n",
       "0                         0  "
      ]
     },
     "execution_count": 31,
     "metadata": {},
     "output_type": "execute_result"
    }
   ],
   "source": [
    "pandas.concat(models)"
   ]
  },
  {
   "cell_type": "markdown",
   "metadata": {
    "collapsed": true
   },
   "source": [
    "## Implementing the best vertex model\n",
    "\n",
    "and saving its predictions"
   ]
  },
  {
   "cell_type": "code",
   "execution_count": 52,
   "metadata": {
    "collapsed": true
   },
   "outputs": [],
   "source": [
    "from utils import prepare_B_data_for_given_part"
   ]
  },
  {
   "cell_type": "code",
   "execution_count": 53,
   "metadata": {
    "collapsed": false
   },
   "outputs": [
    {
     "name": "stdout",
     "output_type": "stream",
     "text": [
      "KFold prediction using folds column\n",
      "KFold prediction using random classifier (length of data passed not equal to length of train)\n"
     ]
    },
    {
     "data": {
      "image/png": "[encoded data removed]",
      "text/plain": [
       "<matplotlib.figure.Figure at 0xf579a10>"
      ]
     },
     "metadata": {},
     "output_type": "display_data"
    },
    {
     "name": "stdout",
     "output_type": "stream",
     "text": [
      "AUC for tagged: 0.594148878677 AUC with untag: 0.546551916187\n"
     ]
    },
    {
     "data": {
      "image/png": "[encoded data removed]",
      "text/plain": [
       "<matplotlib.figure.Figure at 0xae18090>"
      ]
     },
     "metadata": {},
     "output_type": "display_data"
    }
   ],
   "source": [
    "Bdata_prepared = prepare_B_data_for_given_part(tt_folding, [data_sw_passed, data_sw_not_passed], logistic=False,\n",
    "                                               sign_part_column='signVtx', part_name='vertex')"
   ]
  },
  {
   "cell_type": "code",
   "execution_count": 54,
   "metadata": {
    "collapsed": true
   },
   "outputs": [],
   "source": [
    "Bdata_prepared.to_csv('models/Bdata_vertex_new_loss.csv', header=True, index=False)"
   ]
  },
  {
   "cell_type": "code",
   "execution_count": null,
   "metadata": {
    "collapsed": true
   },
   "outputs": [],
   "source": []
  }
 ],
 "metadata": {
  "kernelspec": {
   "display_name": "Python 2",
   "language": "python",
   "name": "python2"
  },
  "language_info": {
   "codemirror_mode": {
    "name": "ipython",
    "version": 2
   },
   "file_extension": ".py",
   "mimetype": "text/x-python",
   "name": "python",
   "nbconvert_exporter": "python",
   "pygments_lexer": "ipython2",
   "version": "2.7.12"
  }
 },
 "nbformat": 4,
 "nbformat_minor": 0
}
