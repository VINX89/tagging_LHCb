{
 "cells": [
  {
   "cell_type": "code",
   "execution_count": 1,
   "metadata": {
    "collapsed": false
   },
   "outputs": [
    {
     "name": "stdout",
     "output_type": "stream",
     "text": [
      "Populating the interactive namespace from numpy and matplotlib\n"
     ]
    }
   ],
   "source": [
    "%pylab inline"
   ]
  },
  {
   "cell_type": "markdown",
   "metadata": {},
   "source": [
    "## Read prepared B data for track-based and vertex-based tagging"
   ]
  },
  {
   "cell_type": "code",
   "execution_count": 2,
   "metadata": {
    "collapsed": false
   },
   "outputs": [],
   "source": [
    "import pandas\n",
    "Bdata_tracks = pandas.read_csv('models/Bdata_tracks.csv')\n",
    "Bdata_vertex = pandas.read_csv('models/Bdata_vertex.csv')"
   ]
  },
  {
   "cell_type": "code",
   "execution_count": 3,
   "metadata": {
    "collapsed": false
   },
   "outputs": [
    {
     "data": {
      "text/html": [
       "<div style=\"max-height:1000px;max-width:1500px;overflow:auto;\">\n",
       "<table border=\"1\" class=\"dataframe\">\n",
       "  <thead>\n",
       "    <tr style=\"text-align: right;\">\n",
       "      <th></th>\n",
       "      <th>Bsign</th>\n",
       "      <th>Bweight</th>\n",
       "      <th>event_id</th>\n",
       "      <th>track_relation_prob</th>\n",
       "    </tr>\n",
       "  </thead>\n",
       "  <tbody>\n",
       "    <tr>\n",
       "      <th>0</th>\n",
       "      <td> 1</td>\n",
       "      <td> 1.091776</td>\n",
       "      <td> 111761_12239990</td>\n",
       "      <td> 0.959871</td>\n",
       "    </tr>\n",
       "    <tr>\n",
       "      <th>1</th>\n",
       "      <td> 1</td>\n",
       "      <td>-0.417194</td>\n",
       "      <td> 111761_16432326</td>\n",
       "      <td> 2.426043</td>\n",
       "    </tr>\n",
       "    <tr>\n",
       "      <th>2</th>\n",
       "      <td>-1</td>\n",
       "      <td> 1.044602</td>\n",
       "      <td> 111761_29035939</td>\n",
       "      <td> 1.362860</td>\n",
       "    </tr>\n",
       "    <tr>\n",
       "      <th>3</th>\n",
       "      <td>-1</td>\n",
       "      <td> 1.062837</td>\n",
       "      <td> 111761_30938577</td>\n",
       "      <td> 0.543403</td>\n",
       "    </tr>\n",
       "    <tr>\n",
       "      <th>4</th>\n",
       "      <td> 1</td>\n",
       "      <td> 1.076036</td>\n",
       "      <td>  111761_4009818</td>\n",
       "      <td> 0.992681</td>\n",
       "    </tr>\n",
       "  </tbody>\n",
       "</table>\n",
       "</div>"
      ],
      "text/plain": [
       "   Bsign   Bweight         event_id  track_relation_prob\n",
       "0      1  1.091776  111761_12239990             0.959871\n",
       "1      1 -0.417194  111761_16432326             2.426043\n",
       "2     -1  1.044602  111761_29035939             1.362860\n",
       "3     -1  1.062837  111761_30938577             0.543403\n",
       "4      1  1.076036   111761_4009818             0.992681"
      ]
     },
     "execution_count": 3,
     "metadata": {},
     "output_type": "execute_result"
    }
   ],
   "source": [
    "Bdata_tracks.head()"
   ]
  },
  {
   "cell_type": "code",
   "execution_count": 4,
   "metadata": {
    "collapsed": false
   },
   "outputs": [
    {
     "data": {
      "text/html": [
       "<div style=\"max-height:1000px;max-width:1500px;overflow:auto;\">\n",
       "<table border=\"1\" class=\"dataframe\">\n",
       "  <thead>\n",
       "    <tr style=\"text-align: right;\">\n",
       "      <th></th>\n",
       "      <th>Bsign</th>\n",
       "      <th>Bweight</th>\n",
       "      <th>event_id</th>\n",
       "      <th>vertex_relation_prob</th>\n",
       "    </tr>\n",
       "  </thead>\n",
       "  <tbody>\n",
       "    <tr>\n",
       "      <th>0</th>\n",
       "      <td> 1</td>\n",
       "      <td> 1.091776</td>\n",
       "      <td> 111761_12239990</td>\n",
       "      <td> 1.477121</td>\n",
       "    </tr>\n",
       "    <tr>\n",
       "      <th>1</th>\n",
       "      <td> 1</td>\n",
       "      <td>-0.237732</td>\n",
       "      <td> 111761_14379738</td>\n",
       "      <td> 0.266671</td>\n",
       "    </tr>\n",
       "    <tr>\n",
       "      <th>2</th>\n",
       "      <td> 1</td>\n",
       "      <td>-0.442830</td>\n",
       "      <td> 111761_33866816</td>\n",
       "      <td> 1.398243</td>\n",
       "    </tr>\n",
       "    <tr>\n",
       "      <th>3</th>\n",
       "      <td>-1</td>\n",
       "      <td> 0.991477</td>\n",
       "      <td> 111761_43041334</td>\n",
       "      <td> 0.900812</td>\n",
       "    </tr>\n",
       "    <tr>\n",
       "      <th>4</th>\n",
       "      <td>-1</td>\n",
       "      <td> 1.091055</td>\n",
       "      <td> 111761_48273537</td>\n",
       "      <td> 0.810535</td>\n",
       "    </tr>\n",
       "  </tbody>\n",
       "</table>\n",
       "</div>"
      ],
      "text/plain": [
       "   Bsign   Bweight         event_id  vertex_relation_prob\n",
       "0      1  1.091776  111761_12239990              1.477121\n",
       "1      1 -0.237732  111761_14379738              0.266671\n",
       "2      1 -0.442830  111761_33866816              1.398243\n",
       "3     -1  0.991477  111761_43041334              0.900812\n",
       "4     -1  1.091055  111761_48273537              0.810535"
      ]
     },
     "execution_count": 4,
     "metadata": {},
     "output_type": "execute_result"
    }
   ],
   "source": [
    "Bdata_vertex.head()"
   ]
  },
  {
   "cell_type": "markdown",
   "metadata": {},
   "source": [
    "### Merge two datasets"
   ]
  },
  {
   "cell_type": "code",
   "execution_count": 5,
   "metadata": {
    "collapsed": true
   },
   "outputs": [],
   "source": [
    "Bdata = pandas.merge(Bdata_tracks, Bdata_vertex, how='outer', on=['event_id', 'Bsign'])"
   ]
  },
  {
   "cell_type": "code",
   "execution_count": 6,
   "metadata": {
    "collapsed": false
   },
   "outputs": [
    {
     "data": {
      "text/html": [
       "<div style=\"max-height:1000px;max-width:1500px;overflow:auto;\">\n",
       "<table border=\"1\" class=\"dataframe\">\n",
       "  <thead>\n",
       "    <tr style=\"text-align: right;\">\n",
       "      <th></th>\n",
       "      <th>Bsign</th>\n",
       "      <th>Bweight_x</th>\n",
       "      <th>event_id</th>\n",
       "      <th>track_relation_prob</th>\n",
       "      <th>Bweight_y</th>\n",
       "      <th>vertex_relation_prob</th>\n",
       "    </tr>\n",
       "  </thead>\n",
       "  <tbody>\n",
       "    <tr>\n",
       "      <th>0</th>\n",
       "      <td> 1</td>\n",
       "      <td> 1.091776</td>\n",
       "      <td> 111761_12239990</td>\n",
       "      <td> 0.959871</td>\n",
       "      <td> 1.091776</td>\n",
       "      <td> 1.477121</td>\n",
       "    </tr>\n",
       "    <tr>\n",
       "      <th>1</th>\n",
       "      <td> 1</td>\n",
       "      <td>-0.417194</td>\n",
       "      <td> 111761_16432326</td>\n",
       "      <td> 2.426043</td>\n",
       "      <td>      NaN</td>\n",
       "      <td>      NaN</td>\n",
       "    </tr>\n",
       "    <tr>\n",
       "      <th>2</th>\n",
       "      <td>-1</td>\n",
       "      <td> 1.044602</td>\n",
       "      <td> 111761_29035939</td>\n",
       "      <td> 1.362860</td>\n",
       "      <td>      NaN</td>\n",
       "      <td>      NaN</td>\n",
       "    </tr>\n",
       "    <tr>\n",
       "      <th>3</th>\n",
       "      <td>-1</td>\n",
       "      <td> 1.062837</td>\n",
       "      <td> 111761_30938577</td>\n",
       "      <td> 0.543403</td>\n",
       "      <td>      NaN</td>\n",
       "      <td>      NaN</td>\n",
       "    </tr>\n",
       "    <tr>\n",
       "      <th>4</th>\n",
       "      <td> 1</td>\n",
       "      <td> 1.076036</td>\n",
       "      <td>  111761_4009818</td>\n",
       "      <td> 0.992681</td>\n",
       "      <td>      NaN</td>\n",
       "      <td>      NaN</td>\n",
       "    </tr>\n",
       "  </tbody>\n",
       "</table>\n",
       "</div>"
      ],
      "text/plain": [
       "   Bsign  Bweight_x         event_id  track_relation_prob  Bweight_y  \\\n",
       "0      1   1.091776  111761_12239990             0.959871   1.091776   \n",
       "1      1  -0.417194  111761_16432326             2.426043        NaN   \n",
       "2     -1   1.044602  111761_29035939             1.362860        NaN   \n",
       "3     -1   1.062837  111761_30938577             0.543403        NaN   \n",
       "4      1   1.076036   111761_4009818             0.992681        NaN   \n",
       "\n",
       "   vertex_relation_prob  \n",
       "0              1.477121  \n",
       "1                   NaN  \n",
       "2                   NaN  \n",
       "3                   NaN  \n",
       "4                   NaN  "
      ]
     },
     "execution_count": 6,
     "metadata": {},
     "output_type": "execute_result"
    }
   ],
   "source": [
    "Bdata.head()"
   ]
  },
  {
   "cell_type": "markdown",
   "metadata": {},
   "source": [
    "### Obtain one weight column"
   ]
  },
  {
   "cell_type": "code",
   "execution_count": 7,
   "metadata": {
    "collapsed": false
   },
   "outputs": [],
   "source": [
    "Bdata['Bweight'] = Bdata['Bweight_x'].copy()\n",
    "Bdata.ix[numpy.isnan(Bdata['Bweight'].values), 'Bweight'] = Bdata.ix[numpy.isnan(Bdata['Bweight'].values), 'Bweight_y']\n",
    "Bdata = Bdata.drop(['Bweight_x', 'Bweight_y'], axis=1)\n",
    "\n",
    "# for Nan put 1 as non influence factor\n",
    "Bdata.ix[numpy.isnan(Bdata.track_relation_prob.values), 'track_relation_prob'] = 1.\n",
    "Bdata.ix[numpy.isnan(Bdata.vertex_relation_prob.values), 'vertex_relation_prob'] = 1."
   ]
  },
  {
   "cell_type": "code",
   "execution_count": 8,
   "metadata": {
    "collapsed": false
   },
   "outputs": [
    {
     "data": {
      "text/html": [
       "<div style=\"max-height:1000px;max-width:1500px;overflow:auto;\">\n",
       "<table border=\"1\" class=\"dataframe\">\n",
       "  <thead>\n",
       "    <tr style=\"text-align: right;\">\n",
       "      <th></th>\n",
       "      <th>Bsign</th>\n",
       "      <th>event_id</th>\n",
       "      <th>track_relation_prob</th>\n",
       "      <th>vertex_relation_prob</th>\n",
       "      <th>Bweight</th>\n",
       "    </tr>\n",
       "  </thead>\n",
       "  <tbody>\n",
       "    <tr>\n",
       "      <th>0</th>\n",
       "      <td> 1</td>\n",
       "      <td> 111761_12239990</td>\n",
       "      <td> 0.959871</td>\n",
       "      <td> 1.477121</td>\n",
       "      <td> 1.091776</td>\n",
       "    </tr>\n",
       "    <tr>\n",
       "      <th>1</th>\n",
       "      <td> 1</td>\n",
       "      <td> 111761_16432326</td>\n",
       "      <td> 2.426043</td>\n",
       "      <td> 1.000000</td>\n",
       "      <td>-0.417194</td>\n",
       "    </tr>\n",
       "    <tr>\n",
       "      <th>2</th>\n",
       "      <td>-1</td>\n",
       "      <td> 111761_29035939</td>\n",
       "      <td> 1.362860</td>\n",
       "      <td> 1.000000</td>\n",
       "      <td> 1.044602</td>\n",
       "    </tr>\n",
       "    <tr>\n",
       "      <th>3</th>\n",
       "      <td>-1</td>\n",
       "      <td> 111761_30938577</td>\n",
       "      <td> 0.543403</td>\n",
       "      <td> 1.000000</td>\n",
       "      <td> 1.062837</td>\n",
       "    </tr>\n",
       "    <tr>\n",
       "      <th>4</th>\n",
       "      <td> 1</td>\n",
       "      <td>  111761_4009818</td>\n",
       "      <td> 0.992681</td>\n",
       "      <td> 1.000000</td>\n",
       "      <td> 1.076036</td>\n",
       "    </tr>\n",
       "  </tbody>\n",
       "</table>\n",
       "</div>"
      ],
      "text/plain": [
       "   Bsign         event_id  track_relation_prob  vertex_relation_prob   Bweight\n",
       "0      1  111761_12239990             0.959871              1.477121  1.091776\n",
       "1      1  111761_16432326             2.426043              1.000000 -0.417194\n",
       "2     -1  111761_29035939             1.362860              1.000000  1.044602\n",
       "3     -1  111761_30938577             0.543403              1.000000  1.062837\n",
       "4      1   111761_4009818             0.992681              1.000000  1.076036"
      ]
     },
     "execution_count": 8,
     "metadata": {},
     "output_type": "execute_result"
    }
   ],
   "source": [
    "Bdata.head()"
   ]
  },
  {
   "cell_type": "code",
   "execution_count": 9,
   "metadata": {
    "collapsed": true
   },
   "outputs": [],
   "source": [
    "relation_prob = Bdata['track_relation_prob'].values * Bdata['vertex_relation_prob'].values\n",
    "Bprob = relation_prob / (1 + relation_prob)\n",
    "Bweight = Bdata.Bweight.values\n",
    "Bsign = Bdata.Bsign.values"
   ]
  },
  {
   "cell_type": "code",
   "execution_count": 10,
   "metadata": {
    "collapsed": false
   },
   "outputs": [],
   "source": [
    "Bprob[~numpy.isfinite(Bprob)] = 0.5"
   ]
  },
  {
   "cell_type": "markdown",
   "metadata": {},
   "source": [
    "## 2-folding calibration by isotonic"
   ]
  },
  {
   "cell_type": "code",
   "execution_count": 11,
   "metadata": {
    "collapsed": false
   },
   "outputs": [],
   "source": [
    "from utils import calibrate_probs\n",
    "Bprob_calibrated = calibrate_probs(Bsign, Bweight, Bprob)"
   ]
  },
  {
   "cell_type": "code",
   "execution_count": 12,
   "metadata": {
    "collapsed": false
   },
   "outputs": [
    {
     "data": {
      "image/png": "[encoded data removed]",
      "text/plain": [
       "<matplotlib.figure.Figure at 0xc833310>"
      ]
     },
     "metadata": {},
     "output_type": "display_data"
    }
   ],
   "source": [
    "figure(figsize=(15, 5))\n",
    "\n",
    "subplot(1,2,1)\n",
    "hist(Bprob[Bsign == 1], bins=60, alpha=0.2, normed=True, label='$B^+$')\n",
    "hist(Bprob[Bsign == -1], bins=60, alpha=0.2, normed=True, label='$B^-$')\n",
    "legend(), title('B probs')\n",
    "\n",
    "subplot(1,2,2)\n",
    "hist(Bprob_calibrated[Bsign == 1], bins=60, alpha=0.2, normed=True, range=(0, 1), label='$B^+$')\n",
    "hist(Bprob_calibrated[Bsign == -1], bins=60, alpha=0.2, normed=True, range=(0, 1), label='$B^-$')\n",
    "legend(), title('B probs calibrated')\n",
    "plt.savefig('img/Bprob_iso_calibrated.png' , format='png')"
   ]
  },
  {
   "cell_type": "markdown",
   "metadata": {},
   "source": [
    "## AUC score and ROC curve for B+ vs B-"
   ]
  },
  {
   "cell_type": "code",
   "execution_count": null,
   "metadata": {
    "collapsed": false
   },
   "outputs": [
    {
     "name": "stdout",
     "output_type": "stream",
     "text": [
      "AUC for tagged: 0.596247033085 AUC with untag: 0.579510773884\n"
     ]
    },
    {
     "data": {
      "text/plain": [
       "((0, 1), (0, 1))"
      ]
     },
     "execution_count": 13,
     "metadata": {},
     "output_type": "execute_result"
    },
    {
     "data": {
      "image/png": "[encoded data removed]",
      "text/plain": [
       "<matplotlib.figure.Figure at 0xbc2f0d0>"
      ]
     },
     "metadata": {},
     "output_type": "display_data"
    }
   ],
   "source": [
    "from utils import calculate_auc_with_and_without_untag_events\n",
    "from sklearn.metrics import roc_curve\n",
    "\n",
    "auc, auc_full = calculate_auc_with_and_without_untag_events(Bsign, Bprob_calibrated, Bweight)\n",
    "print 'AUC for tagged:', auc, 'AUC with untag:', auc_full\n",
    "\n",
    "fpr, tpr, _ = roc_curve(Bsign, Bprob_calibrated, sample_weight=Bweight)\n",
    "plot(fpr, tpr)\n",
    "plot([0, 1], [0, 1], 'k--')\n",
    "ylim(0, 1), xlim(0, 1)"
   ]
  },
  {
   "cell_type": "markdown",
   "metadata": {},
   "source": [
    "## D2 estimation with bootstrap calibration"
   ]
  },
  {
   "cell_type": "code",
   "execution_count": 16,
   "metadata": {
    "collapsed": false
   },
   "outputs": [
    {
     "name": "stdout",
     "output_type": "stream",
     "text": [
      "AUC 0.59661490309 8.33470968803e-07\n"
     ]
    }
   ],
   "source": [
    "from utils import get_N_B_events, bootstrap_calibrate_prob, result_table\n",
    "\n",
    "N_B_passed = Bweight.sum()\n",
    "tagging_efficiency = N_B_passed / get_N_B_events()\n",
    "tagging_efficiency_delta = numpy.sqrt(N_B_passed) / get_N_B_events()\n",
    "\n",
    "D2, aucs = bootstrap_calibrate_prob(Bsign, Bweight, Bprob)\n",
    "print 'AUC', numpy.mean(aucs), numpy.var(aucs)\n",
    "\n",
    "result = result_table(tagging_efficiency, tagging_efficiency_delta, D2, auc_full, 'Inclusive tagging')"
   ]
  },
  {
   "cell_type": "code",
   "execution_count": 17,
   "metadata": {
    "collapsed": false
   },
   "outputs": [
    {
     "data": {
      "text/html": [
       "<div style=\"max-height:1000px;max-width:1500px;overflow:auto;\">\n",
       "<table border=\"1\" class=\"dataframe\">\n",
       "  <thead>\n",
       "    <tr style=\"text-align: right;\">\n",
       "      <th></th>\n",
       "      <th>name</th>\n",
       "      <th>$\\epsilon_{tag}, \\%$</th>\n",
       "      <th>$\\Delta \\epsilon_{tag}, \\%$</th>\n",
       "      <th>$D^2$</th>\n",
       "      <th>$\\Delta D^2$</th>\n",
       "      <th>$\\epsilon, \\%$</th>\n",
       "      <th>$\\Delta \\epsilon, \\%$</th>\n",
       "      <th>AUC, with untag</th>\n",
       "      <th>$\\Delta$ AUC, with untag</th>\n",
       "    </tr>\n",
       "  </thead>\n",
       "  <tbody>\n",
       "    <tr>\n",
       "      <th>0</th>\n",
       "      <td> Inclusive tagging</td>\n",
       "      <td> 77.789955</td>\n",
       "      <td> 0.102331</td>\n",
       "      <td> 0.034991</td>\n",
       "      <td> 0.000497</td>\n",
       "      <td> 2.72191</td>\n",
       "      <td> 0.038805</td>\n",
       "      <td> 57.951077</td>\n",
       "      <td> 0</td>\n",
       "    </tr>\n",
       "  </tbody>\n",
       "</table>\n",
       "</div>"
      ],
      "text/plain": [
       "                name  $\\epsilon_{tag}, \\%$  $\\Delta \\epsilon_{tag}, \\%$  \\\n",
       "0  Inclusive tagging             77.789955                     0.102331   \n",
       "\n",
       "      $D^2$  $\\Delta D^2$  $\\epsilon, \\%$  $\\Delta \\epsilon, \\%$  \\\n",
       "0  0.034991      0.000497         2.72191               0.038805   \n",
       "\n",
       "   AUC, with untag  $\\Delta$ AUC, with untag  \n",
       "0        57.951077                         0  "
      ]
     },
     "execution_count": 17,
     "metadata": {},
     "output_type": "execute_result"
    }
   ],
   "source": [
    "result"
   ]
  },
  {
   "cell_type": "code",
   "execution_count": 18,
   "metadata": {
    "collapsed": true
   },
   "outputs": [],
   "source": [
    "result.to_csv('img/new-tagging.csv', header=True, index=False)"
   ]
  },
  {
   "cell_type": "markdown",
   "metadata": {},
   "source": [
    "## Some plots"
   ]
  },
  {
   "cell_type": "code",
   "execution_count": 19,
   "metadata": {
    "collapsed": true
   },
   "outputs": [],
   "source": [
    "from utils import calibrate_probs"
   ]
  },
  {
   "cell_type": "code",
   "execution_count": 20,
   "metadata": {
    "collapsed": false
   },
   "outputs": [],
   "source": [
    "from sklearn.cross_validation import train_test_split\n",
    "ind_1, ind_2 = train_test_split(range(len(Bprob)), random_state=13, train_size=0.5)"
   ]
  },
  {
   "cell_type": "code",
   "execution_count": 21,
   "metadata": {
    "collapsed": false
   },
   "outputs": [],
   "source": [
    "Bprob_calibrated, (iso_1, iso_2) = calibrate_probs(Bsign, Bweight, Bprob, return_calibrator=True, random_state=13)"
   ]
  },
  {
   "cell_type": "code",
   "execution_count": 22,
   "metadata": {
    "collapsed": false
   },
   "outputs": [
    {
     "data": {
      "image/png": "[encoded data removed]",
      "text/plain": [
       "<matplotlib.figure.Figure at 0x87ebc90>"
      ]
     },
     "metadata": {},
     "output_type": "display_data"
    }
   ],
   "source": [
    "x = numpy.linspace(0, 1, 100)\n",
    "plot(x, (iso_1.transform(x) + iso_2.transform(x)) / 2, label='isotonic transformation')\n",
    "legend(loc='best')\n",
    "plt.savefig('img/iso_transformation.png' , format='png')"
   ]
  },
  {
   "cell_type": "code",
   "execution_count": 23,
   "metadata": {
    "collapsed": true
   },
   "outputs": [],
   "source": [
    "import numpy\n",
    "def compute_mistag(prob, sign, weight, chosen, uniform=True, label=\"\"):\n",
    "    prob = prob[chosen]\n",
    "    sign = sign[chosen]\n",
    "    weight = weight[chosen]\n",
    "    \n",
    "    p_mistag = numpy.minimum(prob, 1 - prob)\n",
    "    tag = numpy.where(prob > 0.5, 1, -1)\n",
    "    is_correct = (sign * tag > 0) * 1\n",
    "    \n",
    "    if uniform:\n",
    "        bins = [0.05, 0.1, 0.15, 0.2, 0.25, 0.3, 0.35, 0.4]\n",
    "    else:\n",
    "        bins = numpy.percentile(p_mistag, [5, 10, 20, 40, 60])\n",
    "    bins_index = numpy.searchsorted(bins, p_mistag)\n",
    "    right_tagged = numpy.bincount(bins_index, weights=is_correct * weight)\n",
    "    wrong_tagged = numpy.bincount(bins_index, weights=(1 - is_correct) * weight)\n",
    "    p_mistag_true = wrong_tagged / (right_tagged + wrong_tagged)\n",
    "    \n",
    "    bins = [0.] + list(bins) + [0.5]\n",
    "    bins = numpy.array(bins)\n",
    "    bins_centers = (bins[1:] + bins[:-1]) / 2\n",
    "    bins_error = (bins[1:] - bins[:-1]) / 2\n",
    "    p_mistag_true_error = numpy.sqrt(wrong_tagged * right_tagged) / (wrong_tagged + right_tagged)**1.5\n",
    "    errorbar(bins_centers, p_mistag_true, xerr=bins_error, yerr=p_mistag_true_error, fmt='.', label=label)\n",
    "    plot([0, 1], [0, 1], 'k--')\n",
    "    xlim(-0.05, 0.55), ylim(-0.05, 1)\n",
    "    grid()"
   ]
  },
  {
   "cell_type": "code",
   "execution_count": 24,
   "metadata": {
    "collapsed": false
   },
   "outputs": [
    {
     "name": "stderr",
     "output_type": "stream",
     "text": [
      "/moosefs/ipython_env/local/lib/python2.7/site-packages/matplotlib/collections.py:548: FutureWarning: elementwise comparison failed; returning scalar instead, but in the future will perform elementwise comparison\n",
      "  if self._edgecolors == 'face':\n"
     ]
    },
    {
     "data": {
      "image/png": "[encoded data removed]",
      "text/plain": [
       "<matplotlib.figure.Figure at 0xb9b5790>"
      ]
     },
     "metadata": {},
     "output_type": "display_data"
    }
   ],
   "source": [
    "compute_mistag(Bprob, Bsign, Bweight, Bsign > -100, label=\"$B$\")\n",
    "compute_mistag(Bprob, Bsign, Bweight, Bsign == 1, label=\"$B^+$\")\n",
    "compute_mistag(Bprob, Bsign, Bweight, Bsign == -1, label=\"$B^-$\")\n",
    "legend(loc='best')\n",
    "title('B prob, uniform bins')\n",
    "plt.savefig('img/Bprob_calibration_check_uniform.png' , format='png')"
   ]
  },
  {
   "cell_type": "code",
   "execution_count": 25,
   "metadata": {
    "collapsed": false
   },
   "outputs": [
    {
     "data": {
      "image/png": "[encoded data removed]",
      "text/plain": [
       "<matplotlib.figure.Figure at 0xbda1d50>"
      ]
     },
     "metadata": {},
     "output_type": "display_data"
    }
   ],
   "source": [
    "compute_mistag(Bprob, Bsign, Bweight, Bsign > -100, label=\"$B$\", uniform=False)\n",
    "p1 = compute_mistag(Bprob, Bsign, Bweight, Bsign == 1, label=\"$B^+$\", uniform=False)\n",
    "compute_mistag(Bprob, Bsign, Bweight, Bsign == -1, label=\"$B^-$\", uniform=False)\n",
    "legend(loc='best')\n",
    "title('B prob, percentile bins')\n",
    "plt.savefig('img/Bprob_calibration_check_percentile.png' , format='png')"
   ]
  },
  {
   "cell_type": "code",
   "execution_count": 26,
   "metadata": {
    "collapsed": false
   },
   "outputs": [
    {
     "data": {
      "image/png": "[encoded data removed]",
      "text/plain": [
       "<matplotlib.figure.Figure at 0x91b8910>"
      ]
     },
     "metadata": {},
     "output_type": "display_data"
    }
   ],
   "source": [
    "compute_mistag(Bprob_calibrated, Bsign, Bweight, Bsign > -100, label=\"$B$\")\n",
    "compute_mistag(Bprob_calibrated, Bsign, Bweight, Bsign == 1, label=\"$B^+$\")\n",
    "compute_mistag(Bprob_calibrated, Bsign, Bweight, Bsign == -1, label=\"$B^-$\")\n",
    "legend(loc='best')\n",
    "title('B prob isotonic calibrated, uniform bins')\n",
    "plt.savefig('img/Bprob_calibration_check_iso_uniform.png' , format='png')"
   ]
  },
  {
   "cell_type": "code",
   "execution_count": 27,
   "metadata": {
    "collapsed": false
   },
   "outputs": [
    {
     "data": {
      "image/png": "[encoded data removed]",
      "text/plain": [
       "<matplotlib.figure.Figure at 0xc82d7d0>"
      ]
     },
     "metadata": {},
     "output_type": "display_data"
    }
   ],
   "source": [
    "compute_mistag(Bprob_calibrated, Bsign, Bweight, Bsign > -100, label=\"$B$\", uniform=False)\n",
    "p2 = compute_mistag(Bprob_calibrated, Bsign, Bweight, Bsign == 1, label=\"$B^+$\", uniform=False)\n",
    "compute_mistag(Bprob_calibrated, Bsign, Bweight, Bsign == -1, label=\"$B^-$\", uniform=False)\n",
    "legend(loc='best')\n",
    "title('B prob isotonic calibrated, percentile bins')\n",
    "plt.savefig('img/Bprob_calibration_check_iso_percentile.png' , format='png')"
   ]
  }
 ],
 "metadata": {
  "kernelspec": {
   "display_name": "Python 2",
   "language": "python",
   "name": "python2"
  }
 },
 "nbformat": 4,
 "nbformat_minor": 0
}
