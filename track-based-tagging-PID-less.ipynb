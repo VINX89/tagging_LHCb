{
 "cells": [
  {
   "cell_type": "code",
   "execution_count": 2,
   "metadata": {
    "collapsed": false
   },
   "outputs": [
    {
     "name": "stdout",
     "output_type": "stream",
     "text": [
      "Populating the interactive namespace from numpy and matplotlib\n"
     ]
    }
   ],
   "source": [
    "%pylab inline\n",
    "figsize(8, 6)"
   ]
  },
  {
   "cell_type": "markdown",
   "metadata": {},
   "source": [
    "## Import"
   ]
  },
  {
   "cell_type": "code",
   "execution_count": 3,
   "metadata": {
    "collapsed": false
   },
   "outputs": [],
   "source": [
    "import pandas\n",
    "import numpy\n",
    "from rep.metaml import FoldingClassifier\n",
    "from rep.data import LabeledDataStorage\n",
    "from rep.report import ClassificationReport\n",
    "from rep.report.metrics import RocAuc\n",
    "\n",
    "from sklearn.ensemble import RandomForestClassifier\n",
    "from sklearn.metrics import roc_curve, roc_auc_score"
   ]
  },
  {
   "cell_type": "code",
   "execution_count": 4,
   "metadata": {
    "collapsed": true
   },
   "outputs": [],
   "source": [
    "from utils import get_N_B_events, get_events_number, get_events_statistics"
   ]
  },
  {
   "cell_type": "markdown",
   "metadata": {},
   "source": [
    "## Reading initial data"
   ]
  },
  {
   "cell_type": "code",
   "execution_count": 5,
   "metadata": {
    "collapsed": false
   },
   "outputs": [],
   "source": [
    "import root_numpy\n",
    "data_nan = pandas.DataFrame(root_numpy.root2array('datasets/tracks.root', 'tracks'))"
   ]
  },
  {
   "cell_type": "code",
   "execution_count": 6,
   "metadata": {
    "collapsed": false
   },
   "outputs": [
    {
     "data": {
      "text/html": [
       "<div style=\"max-height:1000px;max-width:1500px;overflow:auto;\">\n",
       "<table border=\"1\" class=\"dataframe\">\n",
       "  <thead>\n",
       "    <tr style=\"text-align: right;\">\n",
       "      <th></th>\n",
       "      <th>index</th>\n",
       "      <th>run</th>\n",
       "      <th>event</th>\n",
       "      <th>Bmass</th>\n",
       "      <th>i</th>\n",
       "      <th>mult</th>\n",
       "      <th>partP</th>\n",
       "      <th>partPt</th>\n",
       "      <th>ptB</th>\n",
       "      <th>IPs</th>\n",
       "      <th>...</th>\n",
       "      <th>proj</th>\n",
       "      <th>ID</th>\n",
       "      <th>veloch</th>\n",
       "      <th>signB</th>\n",
       "      <th>signTrack</th>\n",
       "      <th>Dist_phi</th>\n",
       "      <th>N_sig_sw</th>\n",
       "      <th>mu_cut</th>\n",
       "      <th>e_cut</th>\n",
       "      <th>K_cut</th>\n",
       "    </tr>\n",
       "  </thead>\n",
       "  <tbody>\n",
       "    <tr>\n",
       "      <th>0</th>\n",
       "      <td> 0</td>\n",
       "      <td> 115839</td>\n",
       "      <td> 204997902</td>\n",
       "      <td> 5.309576</td>\n",
       "      <td> 0</td>\n",
       "      <td> 13</td>\n",
       "      <td>  3.67156</td>\n",
       "      <td> 0.300418</td>\n",
       "      <td> 4.004197</td>\n",
       "      <td> 0.816143</td>\n",
       "      <td>...</td>\n",
       "      <td>  1.058442</td>\n",
       "      <td>-211</td>\n",
       "      <td> 0.911645</td>\n",
       "      <td> 1</td>\n",
       "      <td>-1</td>\n",
       "      <td> 0.114615</td>\n",
       "      <td> 0.59521</td>\n",
       "      <td> 0</td>\n",
       "      <td> 0</td>\n",
       "      <td> 0</td>\n",
       "    </tr>\n",
       "    <tr>\n",
       "      <th>1</th>\n",
       "      <td> 1</td>\n",
       "      <td> 115839</td>\n",
       "      <td> 204997902</td>\n",
       "      <td> 5.309576</td>\n",
       "      <td> 1</td>\n",
       "      <td> 13</td>\n",
       "      <td>  8.33952</td>\n",
       "      <td> 1.103876</td>\n",
       "      <td> 4.004197</td>\n",
       "      <td> 1.375382</td>\n",
       "      <td>...</td>\n",
       "      <td>  3.121358</td>\n",
       "      <td>-211</td>\n",
       "      <td> 0.796731</td>\n",
       "      <td> 1</td>\n",
       "      <td>-1</td>\n",
       "      <td> 0.051334</td>\n",
       "      <td> 0.59521</td>\n",
       "      <td> 0</td>\n",
       "      <td> 0</td>\n",
       "      <td> 0</td>\n",
       "    </tr>\n",
       "    <tr>\n",
       "      <th>2</th>\n",
       "      <td> 2</td>\n",
       "      <td> 115839</td>\n",
       "      <td> 204997902</td>\n",
       "      <td> 5.309576</td>\n",
       "      <td> 2</td>\n",
       "      <td> 13</td>\n",
       "      <td>  8.37654</td>\n",
       "      <td> 1.182519</td>\n",
       "      <td> 4.004197</td>\n",
       "      <td> 4.338812</td>\n",
       "      <td>...</td>\n",
       "      <td> 10.585135</td>\n",
       "      <td>-211</td>\n",
       "      <td> 0.946629</td>\n",
       "      <td> 1</td>\n",
       "      <td>-1</td>\n",
       "      <td> 1.856516</td>\n",
       "      <td> 0.59521</td>\n",
       "      <td> 0</td>\n",
       "      <td> 0</td>\n",
       "      <td> 0</td>\n",
       "    </tr>\n",
       "    <tr>\n",
       "      <th>3</th>\n",
       "      <td> 3</td>\n",
       "      <td> 115839</td>\n",
       "      <td> 204997902</td>\n",
       "      <td> 5.309576</td>\n",
       "      <td> 3</td>\n",
       "      <td> 13</td>\n",
       "      <td> 25.72961</td>\n",
       "      <td> 0.905010</td>\n",
       "      <td> 4.004197</td>\n",
       "      <td> 2.287509</td>\n",
       "      <td>...</td>\n",
       "      <td>  7.485243</td>\n",
       "      <td> 211</td>\n",
       "      <td> 1.058989</td>\n",
       "      <td> 1</td>\n",
       "      <td> 1</td>\n",
       "      <td> 0.577419</td>\n",
       "      <td> 0.59521</td>\n",
       "      <td> 0</td>\n",
       "      <td> 0</td>\n",
       "      <td> 0</td>\n",
       "    </tr>\n",
       "    <tr>\n",
       "      <th>4</th>\n",
       "      <td> 4</td>\n",
       "      <td> 115839</td>\n",
       "      <td> 204997902</td>\n",
       "      <td> 5.309576</td>\n",
       "      <td> 4</td>\n",
       "      <td> 13</td>\n",
       "      <td>  3.70597</td>\n",
       "      <td> 0.516123</td>\n",
       "      <td> 4.004197</td>\n",
       "      <td> 0.562424</td>\n",
       "      <td>...</td>\n",
       "      <td>  5.617354</td>\n",
       "      <td> 211</td>\n",
       "      <td> 1.042135</td>\n",
       "      <td> 1</td>\n",
       "      <td> 1</td>\n",
       "      <td> 1.314513</td>\n",
       "      <td> 0.59521</td>\n",
       "      <td> 0</td>\n",
       "      <td> 0</td>\n",
       "      <td> 0</td>\n",
       "    </tr>\n",
       "  </tbody>\n",
       "</table>\n",
       "<p>5 rows × 36 columns</p>\n",
       "</div>"
      ],
      "text/plain": [
       "   index     run      event     Bmass  i  mult     partP    partPt       ptB  \\\n",
       "0      0  115839  204997902  5.309576  0    13   3.67156  0.300418  4.004197   \n",
       "1      1  115839  204997902  5.309576  1    13   8.33952  1.103876  4.004197   \n",
       "2      2  115839  204997902  5.309576  2    13   8.37654  1.182519  4.004197   \n",
       "3      3  115839  204997902  5.309576  3    13  25.72961  0.905010  4.004197   \n",
       "4      4  115839  204997902  5.309576  4    13   3.70597  0.516123  4.004197   \n",
       "\n",
       "        IPs    ...          proj   ID    veloch  signB  signTrack  Dist_phi  \\\n",
       "0  0.816143    ...      1.058442 -211  0.911645      1         -1  0.114615   \n",
       "1  1.375382    ...      3.121358 -211  0.796731      1         -1  0.051334   \n",
       "2  4.338812    ...     10.585135 -211  0.946629      1         -1  1.856516   \n",
       "3  2.287509    ...      7.485243  211  1.058989      1          1  0.577419   \n",
       "4  0.562424    ...      5.617354  211  1.042135      1          1  1.314513   \n",
       "\n",
       "   N_sig_sw  mu_cut  e_cut  K_cut  \n",
       "0   0.59521       0      0      0  \n",
       "1   0.59521       0      0      0  \n",
       "2   0.59521       0      0      0  \n",
       "3   0.59521       0      0      0  \n",
       "4   0.59521       0      0      0  \n",
       "\n",
       "[5 rows x 36 columns]"
      ]
     },
     "execution_count": 6,
     "metadata": {},
     "output_type": "execute_result"
    }
   ],
   "source": [
    "data_nan.head()"
   ]
  },
  {
   "cell_type": "code",
   "execution_count": 7,
   "metadata": {
    "collapsed": true
   },
   "outputs": [],
   "source": [
    "event_id_column = 'event_id'\n",
    "data_nan[event_id_column] = data_nan.run.apply(str) + '_' + data_nan.event.apply(str)"
   ]
  },
  {
   "cell_type": "code",
   "execution_count": 8,
   "metadata": {
    "collapsed": false
   },
   "outputs": [
    {
     "data": {
      "text/plain": [
       "{'Events': 1005757, 'tracks': 27156193}"
      ]
     },
     "execution_count": 8,
     "metadata": {},
     "output_type": "execute_result"
    }
   ],
   "source": [
    "get_events_statistics(data_nan)"
   ]
  },
  {
   "cell_type": "code",
   "execution_count": 9,
   "metadata": {
    "collapsed": false
   },
   "outputs": [
    {
     "data": {
      "text/plain": [
       "742867.7142562866"
      ]
     },
     "execution_count": 9,
     "metadata": {},
     "output_type": "execute_result"
    }
   ],
   "source": [
    "get_N_B_events()"
   ]
  },
  {
   "cell_type": "markdown",
   "metadata": {},
   "source": [
    "## Remove rows with NAN from data"
   ]
  },
  {
   "cell_type": "code",
   "execution_count": 10,
   "metadata": {
    "collapsed": false
   },
   "outputs": [
    {
     "data": {
      "text/plain": [
       "(27156193, 27156190, {'Events': 1005757, 'tracks': 27156190})"
      ]
     },
     "execution_count": 10,
     "metadata": {},
     "output_type": "execute_result"
    }
   ],
   "source": [
    "data = data_nan.dropna()\n",
    "len(data_nan), len(data), get_events_statistics(data)"
   ]
  },
  {
   "cell_type": "markdown",
   "metadata": {},
   "source": [
    "## Add diff_pt and cos(diff_phi)"
   ]
  },
  {
   "cell_type": "code",
   "execution_count": 11,
   "metadata": {
    "collapsed": true
   },
   "outputs": [],
   "source": [
    "# add different between max pt in event and pt for each track\n",
    "def add_diff_pt(data):\n",
    "    max_pt = group_max(data[event_id_column].values.astype(str), data.partPt.values)\n",
    "    data['diff_pt'] = max_pt - data['partPt'].values\n",
    "\n",
    "# max is computing max over tracks in the same event for saome data\n",
    "def group_max(groups, data):\n",
    "    # computing unique integer id for each group\n",
    "    assert len(groups) == len(data)\n",
    "    _, event_id = numpy.unique(groups, return_inverse=True)\n",
    "    max_over_event = numpy.zeros(max(event_id) + 1) - numpy.inf\n",
    "    numpy.maximum.at(max_over_event, event_id, data)\n",
    "    return max_over_event[event_id]"
   ]
  },
  {
   "cell_type": "code",
   "execution_count": 12,
   "metadata": {
    "collapsed": false
   },
   "outputs": [],
   "source": [
    "# add diff pt\n",
    "add_diff_pt(data)\n",
    "# add cos(diff_phi)\n",
    "data['cos_diff_phi'] = numpy.cos(data.diff_phi.values)"
   ]
  },
  {
   "cell_type": "markdown",
   "metadata": {},
   "source": [
    "## Add max, sum among PIDs"
   ]
  },
  {
   "cell_type": "code",
   "execution_count": 13,
   "metadata": {
    "collapsed": false
   },
   "outputs": [],
   "source": [
    "from itertools import combinations\n",
    "PIDs = {'k': data.PIDNNk.values,\n",
    "        'e': data.PIDNNe.values,\n",
    "        'mu': data.PIDNNm.values,\n",
    "       }\n",
    "for (pid_name1, pid_values1), (pid_name2, pid_values2) in combinations(PIDs.items(), 2):\n",
    "    data['max_PID_{}_{}'.format(pid_name1, pid_name2)] = numpy.maximum(pid_values1, pid_values2)\n",
    "    data['sum_PID_{}_{}'.format(pid_name1, pid_name2)] = pid_values1 + pid_values2"
   ]
  },
  {
   "cell_type": "markdown",
   "metadata": {},
   "source": [
    "## define `label` = `signB` * `signTrack`\n",
    "\n",
    "* if > 0 (same sign) - label **1**\n",
    "* if < 0 (different sign) - label **0**"
   ]
  },
  {
   "cell_type": "code",
   "execution_count": 14,
   "metadata": {
    "collapsed": true
   },
   "outputs": [],
   "source": [
    "data['label'] = (data.signB.values * data.signTrack.values > 0) * 1"
   ]
  },
  {
   "cell_type": "code",
   "execution_count": 15,
   "metadata": {
    "collapsed": false
   },
   "outputs": [
    {
     "data": {
      "text/plain": [
       "'index,run,event,Bmass,i,mult,partP,partPt,ptB,IPs,IP,IPerr,partlcs,EOverP,ghostProb,IPPU,nnkrec,PIDNNk,PIDNNpi,PIDNNp,PIDNNm,PIDNNe,diff_eta,diff_phi,phi,eta,proj,ID,veloch,signB,signTrack,Dist_phi,N_sig_sw,mu_cut,e_cut,K_cut,event_id,diff_pt,cos_diff_phi,max_PID_mu_k,sum_PID_mu_k,max_PID_mu_e,sum_PID_mu_e,max_PID_k_e,sum_PID_k_e,label'"
      ]
     },
     "execution_count": 15,
     "metadata": {},
     "output_type": "execute_result"
    }
   ],
   "source": [
    "','.join(data.columns)"
   ]
  },
  {
   "cell_type": "markdown",
   "metadata": {},
   "source": [
    "## Filter out protons and pions, apply ghost prob cut"
   ]
  },
  {
   "cell_type": "code",
   "execution_count": 16,
   "metadata": {
    "collapsed": false
   },
   "outputs": [],
   "source": [
    "initial_cut = '(ghostProb < 0.4)'\n",
    "data = data.query(initial_cut)"
   ]
  },
  {
   "cell_type": "code",
   "execution_count": 17,
   "metadata": {
    "collapsed": false
   },
   "outputs": [
    {
     "data": {
      "text/plain": [
       "{'Events': 1005751, 'tracks': 25567912}"
      ]
     },
     "execution_count": 17,
     "metadata": {},
     "output_type": "execute_result"
    }
   ],
   "source": [
    "get_events_statistics(data)"
   ]
  },
  {
   "cell_type": "markdown",
   "metadata": {},
   "source": [
    "## Leave not muons, kaons, electrons"
   ]
  },
  {
   "cell_type": "code",
   "execution_count": 18,
   "metadata": {
    "collapsed": false
   },
   "outputs": [],
   "source": [
    "threshold_kaon = 0.\n",
    "threshold_muon = 0.\n",
    "threshold_electron = 0.\n",
    "threshold_pion = 0.\n",
    "cut_pid = \" ( (PIDNNk > {trk}) | (PIDNNm > {trm}) | (PIDNNe > {tre}) | (PIDNNpi > {trpi})) \"\n",
    "cut_pid = cut_pid.format(trk=threshold_kaon, trm=threshold_muon, tre=threshold_electron, trpi=threshold_pion)\n",
    "    \n",
    "data = data.query(cut_pid)"
   ]
  },
  {
   "cell_type": "code",
   "execution_count": 19,
   "metadata": {
    "collapsed": false
   },
   "outputs": [
    {
     "data": {
      "text/plain": [
       "{'Events': 1005751, 'tracks': 25531030}"
      ]
     },
     "execution_count": 19,
     "metadata": {},
     "output_type": "execute_result"
    }
   ],
   "source": [
    "get_events_statistics(data)"
   ]
  },
  {
   "cell_type": "markdown",
   "metadata": {},
   "source": [
    "## Calculating tagging efficiency ($\\epsilon_{tag}$)\n",
    "\n",
    "$$N (\\text{passed selection}) = \\sum_{\\text{passed selection}} sw_i$$\n",
    "\n",
    "$$N (\\text{all events}) = \\sum_{\\text{all events}} sw_i,$$\n",
    "\n",
    "where $sw_i$ - sPLot weight (sWeight for signal)\n",
    "\n",
    "$$\\epsilon_{tag} = \\frac{N (\\text{passed selection})} {N (\\text{all events})}$$\n",
    "\n",
    "$$\\Delta\\epsilon_{tag} = \\frac{\\sqrt{N (\\text{passed selection})}} {N (\\text{all events})}$$"
   ]
  },
  {
   "cell_type": "code",
   "execution_count": 20,
   "metadata": {
    "collapsed": false
   },
   "outputs": [
    {
     "data": {
      "text/plain": [
       "(0.9998594749632361, 0.0011601489232199002)"
      ]
     },
     "execution_count": 20,
     "metadata": {},
     "output_type": "execute_result"
    }
   ],
   "source": [
    "N_B_passed = float(get_events_number(data))\n",
    "tagging_efficiency = N_B_passed / get_N_B_events()\n",
    "tagging_efficiency_delta = sqrt(N_B_passed) / get_N_B_events()\n",
    "tagging_efficiency, tagging_efficiency_delta"
   ]
  },
  {
   "cell_type": "code",
   "execution_count": 21,
   "metadata": {
    "collapsed": false
   },
   "outputs": [
    {
     "data": {
      "image/png": "[encoded data removed]",
      "text/plain": [
       "<matplotlib.figure.Figure at 0x5c2b2d0>"
      ]
     },
     "metadata": {},
     "output_type": "display_data"
    }
   ],
   "source": [
    "hist(data.diff_pt.values, bins=100)\n",
    "pass"
   ]
  },
  {
   "cell_type": "markdown",
   "metadata": {},
   "source": [
    "## Choose most probable B-events"
   ]
  },
  {
   "cell_type": "code",
   "execution_count": 22,
   "metadata": {
    "collapsed": false
   },
   "outputs": [
    {
     "data": {
      "image/png": "[encoded data removed]",
      "text/plain": [
       "<matplotlib.figure.Figure at 0x4def04410>"
      ]
     },
     "metadata": {},
     "output_type": "display_data"
    }
   ],
   "source": [
    "_, take_indices = numpy.unique(data[event_id_column], return_index=True)\n",
    "\n",
    "figure(figsize=[15, 5])\n",
    "\n",
    "subplot(1, 2, 1)\n",
    "hist(data.Bmass.values[take_indices], bins=100)\n",
    "title('B mass hist')\n",
    "xlabel('mass')\n",
    "\n",
    "subplot(1, 2, 2)\n",
    "hist(data.N_sig_sw.values[take_indices], bins=100, normed=True)\n",
    "title('sWeights hist')\n",
    "xlabel('signal sWeights')\n",
    "plt.savefig('img/Bmass_less_PID.png' , format='png')"
   ]
  },
  {
   "cell_type": "markdown",
   "metadata": {},
   "source": [
    "### Define B-like events for training \n",
    "\n",
    "Events with low sWeight still will be used only to test quality."
   ]
  },
  {
   "cell_type": "code",
   "execution_count": 23,
   "metadata": {
    "collapsed": false
   },
   "outputs": [
    {
     "data": {
      "text/plain": [
       "{'Events': 614418, 'tracks': 15266383}"
      ]
     },
     "execution_count": 23,
     "metadata": {},
     "output_type": "execute_result"
    }
   ],
   "source": [
    "sweight_threshold = 1.\n",
    "data_sw_passed = data[data.N_sig_sw > sweight_threshold]\n",
    "data_sw_not_passed = data[data.N_sig_sw <= sweight_threshold]\n",
    "get_events_statistics(data_sw_passed)"
   ]
  },
  {
   "cell_type": "code",
   "execution_count": 24,
   "metadata": {
    "collapsed": false
   },
   "outputs": [
    {
     "data": {
      "image/png": "[encoded data removed]",
      "text/plain": [
       "<matplotlib.figure.Figure at 0x5c2b450>"
      ]
     },
     "metadata": {},
     "output_type": "display_data"
    }
   ],
   "source": [
    "_, take_indices = numpy.unique(data_sw_passed[event_id_column], return_index=True)\n",
    "\n",
    "figure(figsize=[15, 5])\n",
    "subplot(1, 2, 1)\n",
    "hist(data_sw_passed.Bmass.values[take_indices], bins=100)\n",
    "title('B mass hist for sWeight > 1 selection')\n",
    "xlabel('mass')\n",
    "\n",
    "subplot(1, 2, 2)\n",
    "hist(data_sw_passed.N_sig_sw.values[take_indices], bins=100, normed=True)\n",
    "title('sWeights hist for sWeight > 1 selection')\n",
    "xlabel('signal sWeights')\n",
    "plt.savefig('img/Bmass_selected_less_PID.png' , format='png')"
   ]
  },
  {
   "cell_type": "code",
   "execution_count": 25,
   "metadata": {
    "collapsed": false
   },
   "outputs": [
    {
     "data": {
      "image/png": "[encoded data removed]",
      "text/plain": [
       "<matplotlib.figure.Figure at 0x9197c8d0>"
      ]
     },
     "metadata": {},
     "output_type": "display_data"
    }
   ],
   "source": [
    "hist(data_sw_passed.diff_pt.values, bins=100)\n",
    "pass"
   ]
  },
  {
   "cell_type": "markdown",
   "metadata": {},
   "source": [
    "# Main idea: \n",
    "## find tracks, which can help reconstruct the sign of B if you know track sign.\n",
    "\n",
    "`label` = `signB` * `signTrack`\n",
    "* the highest output means that this is same sign B as track\n",
    "* the lowest output means that this is opposite sign B than track"
   ]
  },
  {
   "cell_type": "markdown",
   "metadata": {},
   "source": [
    "## Define features"
   ]
  },
  {
   "cell_type": "code",
   "execution_count": 26,
   "metadata": {
    "collapsed": false
   },
   "outputs": [
    {
     "data": {
      "text/plain": [
       "['cos_diff_phi',\n",
       " 'diff_pt',\n",
       " 'partPt',\n",
       " 'partP',\n",
       " 'nnkrec',\n",
       " 'diff_eta',\n",
       " 'index',\n",
       " 'EOverP',\n",
       " 'ptB',\n",
       " 'sum_PID_mu_k',\n",
       " 'proj',\n",
       " 'PIDNNe',\n",
       " 'sum_PID_k_e',\n",
       " 'PIDNNk',\n",
       " 'sum_PID_mu_e',\n",
       " 'PIDNNm',\n",
       " 'phi',\n",
       " 'IP',\n",
       " 'IPerr',\n",
       " 'IPs',\n",
       " 'veloch',\n",
       " 'max_PID_k_e',\n",
       " 'ghostProb',\n",
       " 'IPPU',\n",
       " 'eta',\n",
       " 'max_PID_mu_e',\n",
       " 'max_PID_mu_k',\n",
       " 'partlcs']"
      ]
     },
     "execution_count": 26,
     "metadata": {},
     "output_type": "execute_result"
    }
   ],
   "source": [
    "features = list(set(data.columns) - {'run', 'event', 'i', 'signB', 'signTrack', 'N_sig_sw', 'Bmass', 'mult', \n",
    "                                     'PIDNNp', 'PIDNNpi', 'label', 'thetaMin', 'Dist_phi', event_id_column, \n",
    "                                     'mu_cut', 'e_cut', 'K_cut', 'ID', 'diff_phi'})\n",
    "features"
   ]
  },
  {
   "cell_type": "markdown",
   "metadata": {},
   "source": [
    "## PID pairs scatters"
   ]
  },
  {
   "cell_type": "code",
   "execution_count": 27,
   "metadata": {
    "collapsed": false
   },
   "outputs": [
    {
     "name": "stderr",
     "output_type": "stream",
     "text": [
      "/moosefs/ipython_env/local/lib/python2.7/site-packages/matplotlib/collections.py:548: FutureWarning: elementwise comparison failed; returning scalar instead, but in the future will perform elementwise comparison\n",
      "  if self._edgecolors == 'face':\n"
     ]
    },
    {
     "data": {
      "image/png": "[encoded data removed]",
      "text/plain": [
       "<matplotlib.figure.Figure at 0x4def0a990>"
      ]
     },
     "metadata": {},
     "output_type": "display_data"
    }
   ],
   "source": [
    "figure(figsize=[15, 4])\n",
    "bins = 60\n",
    "step = 3\n",
    "for i, (feature1, feature2) in enumerate(combinations(['PIDNNk', 'PIDNNm', 'PIDNNe'], 2)):\n",
    "    subplot(1, 3, i + 1)\n",
    "    Z, (x, y) = numpy.histogramdd(data_sw_passed[[feature1, feature2]].values, bins=bins, range=([0, 1], [0, 1]))\n",
    "    pcolor(log(Z), vmin=0)\n",
    "    xlabel(feature1)\n",
    "    ylabel(feature2)\n",
    "    xticks(arange(bins, step), x[::step]), yticks(arange(bins, step), y[::step])\n",
    "plt.savefig('img/PID_selected_hist_less_PID.png' , format='png')"
   ]
  },
  {
   "cell_type": "markdown",
   "metadata": {},
   "source": [
    "## pt"
   ]
  },
  {
   "cell_type": "code",
   "execution_count": 28,
   "metadata": {
    "collapsed": false
   },
   "outputs": [
    {
     "data": {
      "image/png": "[encoded data removed]",
      "text/plain": [
       "<matplotlib.figure.Figure at 0x5adf4d0>"
      ]
     },
     "metadata": {},
     "output_type": "display_data"
    }
   ],
   "source": [
    "hist(data_sw_passed.diff_pt.values, bins=60, normed=True)\n",
    "pass"
   ]
  },
  {
   "cell_type": "markdown",
   "metadata": {},
   "source": [
    "## count of tracks"
   ]
  },
  {
   "cell_type": "code",
   "execution_count": 29,
   "metadata": {
    "collapsed": false
   },
   "outputs": [
    {
     "data": {
      "image/png": "[encoded data removed]",
      "text/plain": [
       "<matplotlib.figure.Figure at 0x4df240810>"
      ]
     },
     "metadata": {},
     "output_type": "display_data"
    }
   ],
   "source": [
    "_, n_tracks = numpy.unique(data_sw_passed[event_id_column], return_counts=True)\n",
    "hist(n_tracks, bins=60)    \n",
    "title('Number of tracks')\n",
    "plt.savefig('img/tracks_number_less_PID.png' , format='png')"
   ]
  },
  {
   "cell_type": "markdown",
   "metadata": {},
   "source": [
    "## PIDs histograms"
   ]
  },
  {
   "cell_type": "code",
   "execution_count": 30,
   "metadata": {
    "collapsed": false
   },
   "outputs": [
    {
     "data": {
      "image/png": "[encoded data removed]",
      "text/plain": [
       "<matplotlib.figure.Figure at 0x914cd690>"
      ]
     },
     "metadata": {},
     "output_type": "display_data"
    }
   ],
   "source": [
    "figure(figsize=[15, 4])\n",
    "for i, column in enumerate(['PIDNNm', 'PIDNNe', 'PIDNNk']):\n",
    "    subplot(1, 3, i + 1)\n",
    "    hist(data_sw_passed[column].values, bins=60, range=(0, 1), label=column)\n",
    "    legend()"
   ]
  },
  {
   "cell_type": "markdown",
   "metadata": {},
   "source": [
    "----"
   ]
  },
  {
   "cell_type": "markdown",
   "metadata": {},
   "source": [
    "## Train to distinguish same sign vs opposite sign"
   ]
  },
  {
   "cell_type": "code",
   "execution_count": 32,
   "metadata": {
    "collapsed": true
   },
   "outputs": [],
   "source": [
    "from hep_ml.decisiontrain import DecisionTrainClassifier\n",
    "from hep_ml.losses import LogLossFunction"
   ]
  },
  {
   "cell_type": "code",
   "execution_count": 33,
   "metadata": {
    "collapsed": true
   },
   "outputs": [],
   "source": [
    "data_sw_passed_lds = LabeledDataStorage(data_sw_passed, data_sw_passed.label, data_sw_passed.N_sig_sw.values)"
   ]
  },
  {
   "cell_type": "markdown",
   "metadata": {},
   "source": [
    "### DT"
   ]
  },
  {
   "cell_type": "code",
   "execution_count": null,
   "metadata": {
    "collapsed": false
   },
   "outputs": [],
   "source": [
    "tt_base = DecisionTrainClassifier(learning_rate=0.02, n_estimators=3000, depth=6, pretransform_needed=True, \n",
    "                                  max_features=15, loss=LogLossFunction(regularization=100))\n",
    "tt_folding = FoldingClassifier(tt_base, n_folds=2, random_state=11, ipc_profile='ssh-ipy', features=features)\n",
    "%time tt_folding.fit_lds(data_sw_passed_lds)\n",
    "pass"
   ]
  },
  {
   "cell_type": "code",
   "execution_count": 44,
   "metadata": {
    "collapsed": true
   },
   "outputs": [],
   "source": [
    "import cPickle\n",
    "with open('models/dt_full.pkl', 'w') as f:\n",
    "    cPickle.dump(tt_folding, f)"
   ]
  },
  {
   "cell_type": "code",
   "execution_count": 41,
   "metadata": {
    "collapsed": false
   },
   "outputs": [
    {
     "name": "stdout",
     "output_type": "stream",
     "text": [
      "KFold prediction using folds column\n"
     ]
    }
   ],
   "source": [
    "comparison_report = ClassificationReport({'tt': tt_folding}, data_sw_passed_lds)"
   ]
  },
  {
   "cell_type": "code",
   "execution_count": 42,
   "metadata": {
    "collapsed": false
   },
   "outputs": [
    {
     "data": {
      "text/plain": [
       "OrderedDict([('tt', 0.51347264111511892)])"
      ]
     },
     "execution_count": 42,
     "metadata": {},
     "output_type": "execute_result"
    }
   ],
   "source": [
    "comparison_report.compute_metric(RocAuc())"
   ]
  },
  {
   "cell_type": "code",
   "execution_count": 43,
   "metadata": {
    "collapsed": false
   },
   "outputs": [
    {
     "data": {
      "text/html": [],
      "text/plain": [
       "<rep.plotting.FunctionsPlot at 0x4e04a0b90>"
      ]
     },
     "execution_count": 43,
     "metadata": {},
     "output_type": "execute_result"
    },
    {
     "data": {
      "image/png": "[encoded data removed]",
      "text/plain": [
       "<matplotlib.figure.Figure at 0x4e04a0350>"
      ]
     },
     "metadata": {},
     "output_type": "display_data"
    }
   ],
   "source": [
    "comparison_report.roc()"
   ]
  },
  {
   "cell_type": "code",
   "execution_count": null,
   "metadata": {
    "collapsed": true
   },
   "outputs": [],
   "source": [
    "lc = comparison_report.learning_curve(RocAuc(), steps=100)"
   ]
  },
  {
   "cell_type": "code",
   "execution_count": 54,
   "metadata": {
    "collapsed": false
   },
   "outputs": [
    {
     "data": {
      "text/html": [],
      "text/plain": [
       "<rep.plotting.FunctionsPlot at 0x4df51e190>"
      ]
     },
     "execution_count": 54,
     "metadata": {},
     "output_type": "execute_result"
    },
    {
     "data": {
      "image/png": "[encoded data removed]",
      "text/plain": [
       "<matplotlib.figure.Figure at 0x4df51ee10>"
      ]
     },
     "metadata": {},
     "output_type": "display_data"
    }
   ],
   "source": [
    "lc"
   ]
  },
  {
   "cell_type": "markdown",
   "metadata": {},
   "source": [
    "---------"
   ]
  },
  {
   "cell_type": "markdown",
   "metadata": {},
   "source": [
    "# Calibration"
   ]
  },
  {
   "cell_type": "code",
   "execution_count": 45,
   "metadata": {
    "collapsed": true
   },
   "outputs": [],
   "source": [
    "from utils import get_result_with_bootstrap_for_given_part"
   ]
  },
  {
   "cell_type": "code",
   "execution_count": 46,
   "metadata": {
    "collapsed": true
   },
   "outputs": [],
   "source": [
    "models = []"
   ]
  },
  {
   "cell_type": "code",
   "execution_count": 47,
   "metadata": {
    "collapsed": false
   },
   "outputs": [
    {
     "name": "stdout",
     "output_type": "stream",
     "text": [
      "KFold prediction using folds column\n",
      "KFold prediction using folds column\n"
     ]
    },
    {
     "data": {
      "image/png": "[encoded data removed]",
      "text/plain": [
       "<matplotlib.figure.Figure at 0x4e047db10>"
      ]
     },
     "metadata": {},
     "output_type": "display_data"
    },
    {
     "name": "stdout",
     "output_type": "stream",
     "text": [
      "AUC for tagged: 0.644379485696 AUC with untag: 0.644367124206\n",
      "mean AUC after calibration: 0.644287351802 4.59788893848e-07\n"
     ]
    }
   ],
   "source": [
    "models.append(get_result_with_bootstrap_for_given_part(tagging_efficiency, tagging_efficiency_delta, tt_folding, \n",
    "                                                      [data_sw_passed, data_sw_not_passed], 'tt-iso', logistic=False))"
   ]
  },
  {
   "cell_type": "code",
   "execution_count": 48,
   "metadata": {
    "collapsed": false
   },
   "outputs": [
    {
     "name": "stdout",
     "output_type": "stream",
     "text": [
      "KFold prediction using folds column\n",
      "KFold prediction using folds column\n"
     ]
    },
    {
     "data": {
      "image/png": "[encoded data removed]",
      "text/plain": [
       "<matplotlib.figure.Figure at 0x4e0623190>"
      ]
     },
     "metadata": {},
     "output_type": "display_data"
    },
    {
     "name": "stdout",
     "output_type": "stream",
     "text": [
      "AUC for tagged: 0.644658933001 AUC with untag: 0.644646490593\n",
      "mean AUC after calibration: 0.644730371792 5.9939456893e-07\n"
     ]
    }
   ],
   "source": [
    "models.append(get_result_with_bootstrap_for_given_part(tagging_efficiency, tagging_efficiency_delta, tt_folding, \n",
    "                                                      [data_sw_passed, data_sw_not_passed], 'tt-log', logistic=True))"
   ]
  },
  {
   "cell_type": "markdown",
   "metadata": {},
   "source": [
    "## Comparison table of different models"
   ]
  },
  {
   "cell_type": "code",
   "execution_count": 49,
   "metadata": {
    "collapsed": false
   },
   "outputs": [
    {
     "data": {
      "text/html": [
       "<div style=\"max-height:1000px;max-width:1500px;overflow:auto;\">\n",
       "<table border=\"1\" class=\"dataframe\">\n",
       "  <thead>\n",
       "    <tr style=\"text-align: right;\">\n",
       "      <th></th>\n",
       "      <th>$\\epsilon_{tag}, \\%$</th>\n",
       "      <th>$\\Delta \\epsilon_{tag}, \\%$</th>\n",
       "      <th>$D^2$</th>\n",
       "      <th>$\\Delta D^2$</th>\n",
       "      <th>$\\epsilon, \\%$</th>\n",
       "      <th>$\\Delta \\epsilon, \\%$</th>\n",
       "      <th>AUC, with untag</th>\n",
       "      <th>$\\Delta$ AUC, with untag</th>\n",
       "    </tr>\n",
       "    <tr>\n",
       "      <th>name</th>\n",
       "      <th></th>\n",
       "      <th></th>\n",
       "      <th></th>\n",
       "      <th></th>\n",
       "      <th></th>\n",
       "      <th></th>\n",
       "      <th></th>\n",
       "      <th></th>\n",
       "    </tr>\n",
       "  </thead>\n",
       "  <tbody>\n",
       "    <tr>\n",
       "      <th>tt-iso</th>\n",
       "      <td> 99.9859475</td>\n",
       "      <td> 0.1160149</td>\n",
       "      <td> 0.0631616</td>\n",
       "      <td> 0.0004725</td>\n",
       "      <td> 6.3152692</td>\n",
       "      <td> 0.0478097</td>\n",
       "      <td> 64.4367124</td>\n",
       "      <td> 0</td>\n",
       "    </tr>\n",
       "    <tr>\n",
       "      <th>tt-log</th>\n",
       "      <td> 99.9859475</td>\n",
       "      <td> 0.1160149</td>\n",
       "      <td> 0.0632214</td>\n",
       "      <td> 0.0005475</td>\n",
       "      <td> 6.3212527</td>\n",
       "      <td> 0.0552297</td>\n",
       "      <td> 64.4646491</td>\n",
       "      <td> 0</td>\n",
       "    </tr>\n",
       "  </tbody>\n",
       "</table>\n",
       "</div>"
      ],
      "text/plain": [
       "        $\\epsilon_{tag}, \\%$  $\\Delta \\epsilon_{tag}, \\%$      $D^2$  \\\n",
       "name                                                                   \n",
       "tt-iso            99.9859475                    0.1160149  0.0631616   \n",
       "tt-log            99.9859475                    0.1160149  0.0632214   \n",
       "\n",
       "        $\\Delta D^2$  $\\epsilon, \\%$  $\\Delta \\epsilon, \\%$  AUC, with untag  \\\n",
       "name                                                                           \n",
       "tt-iso     0.0004725       6.3152692              0.0478097       64.4367124   \n",
       "tt-log     0.0005475       6.3212527              0.0552297       64.4646491   \n",
       "\n",
       "        $\\Delta$ AUC, with untag  \n",
       "name                              \n",
       "tt-iso                         0  \n",
       "tt-log                         0  "
      ]
     },
     "execution_count": 49,
     "metadata": {},
     "output_type": "execute_result"
    }
   ],
   "source": [
    "pandas.set_option('display.precision', 8)\n",
    "result = pandas.concat(models)\n",
    "result.index = result.name\n",
    "result.drop('name', axis=1)"
   ]
  },
  {
   "cell_type": "markdown",
   "metadata": {},
   "source": [
    "--------------------------"
   ]
  },
  {
   "cell_type": "markdown",
   "metadata": {},
   "source": [
    "## Implementing best tracking"
   ]
  },
  {
   "cell_type": "code",
   "execution_count": 50,
   "metadata": {
    "collapsed": true
   },
   "outputs": [],
   "source": [
    "from utils import prepare_B_data_for_given_part"
   ]
  },
  {
   "cell_type": "code",
   "execution_count": 51,
   "metadata": {
    "collapsed": false
   },
   "outputs": [
    {
     "name": "stdout",
     "output_type": "stream",
     "text": [
      "KFold prediction using folds column\n",
      "KFold prediction using folds column\n"
     ]
    },
    {
     "data": {
      "image/png": "[encoded data removed]",
      "text/plain": [
       "<matplotlib.figure.Figure at 0x1760510>"
      ]
     },
     "metadata": {},
     "output_type": "display_data"
    },
    {
     "name": "stdout",
     "output_type": "stream",
     "text": [
      "AUC for tagged: 0.644658933001 AUC with untag: 0.644646490593\n"
     ]
    },
    {
     "data": {
      "image/png": "[encoded data removed]",
      "text/plain": [
       "<matplotlib.figure.Figure at 0x91976650>"
      ]
     },
     "metadata": {},
     "output_type": "display_data"
    }
   ],
   "source": [
    "Bdata_prepared = prepare_B_data_for_given_part(tt_folding, [data_sw_passed, data_sw_not_passed], logistic=True)"
   ]
  },
  {
   "cell_type": "code",
   "execution_count": 52,
   "metadata": {
    "collapsed": true
   },
   "outputs": [],
   "source": [
    "Bdata_prepared.to_csv('models/Bdata_tracks_PID_less.csv', header=True, index=False)"
   ]
  }
 ],
 "metadata": {
  "kernelspec": {
   "display_name": "Python 2",
   "language": "python",
   "name": "python2"
  },
  "language_info": {
   "codemirror_mode": {
    "name": "ipython",
    "version": 2
   },
   "file_extension": ".py",
   "mimetype": "text/x-python",
   "name": "python",
   "nbconvert_exporter": "python",
   "pygments_lexer": "ipython2",
   "version": "2.7.3"
  }
 },
 "nbformat": 4,
 "nbformat_minor": 0
}
