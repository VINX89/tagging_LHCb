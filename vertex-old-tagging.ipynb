{
 "cells": [
  {
   "cell_type": "code",
   "execution_count": 1,
   "metadata": {
    "collapsed": false
   },
   "outputs": [
    {
     "name": "stdout",
     "output_type": "stream",
     "text": [
      "Populating the interactive namespace from numpy and matplotlib\n"
     ]
    }
   ],
   "source": [
    "%pylab inline"
   ]
  },
  {
   "cell_type": "markdown",
   "metadata": {},
   "source": [
    "##Import"
   ]
  },
  {
   "cell_type": "code",
   "execution_count": 2,
   "metadata": {
    "collapsed": false
   },
   "outputs": [],
   "source": [
    "import pandas\n",
    "import numexpr\n",
    "import numpy\n",
    "from rep_ef.estimators import MatrixNetSkyGridClassifier\n",
    "from rep.metaml import FoldingClassifier\n",
    "from sklearn.ensemble import RandomForestClassifier\n",
    "from sklearn.metrics import roc_curve, roc_auc_score"
   ]
  },
  {
   "cell_type": "code",
   "execution_count": 3,
   "metadata": {
    "collapsed": false
   },
   "outputs": [],
   "source": [
    "%run utils.py"
   ]
  },
  {
   "cell_type": "markdown",
   "metadata": {},
   "source": [
    "## Reading initial data"
   ]
  },
  {
   "cell_type": "code",
   "execution_count": 4,
   "metadata": {
    "collapsed": false
   },
   "outputs": [],
   "source": [
    "import root_numpy\n",
    "data = pandas.DataFrame(root_numpy.root2array('datasets/nnet_vtx.root'))"
   ]
  },
  {
   "cell_type": "code",
   "execution_count": 4,
   "metadata": {
    "collapsed": true
   },
   "outputs": [],
   "source": [
    "# import root_numpy\n",
    "# data = pandas.DataFrame(root_numpy.root2array('datasets/vtx1.root'))"
   ]
  },
  {
   "cell_type": "markdown",
   "metadata": {},
   "source": [
    "## Define label\n",
    "`label` = `signB` * `signVtx`\n",
    "* the highest output means that this is same sign B as vtx (right tagged) - label 1\n",
    "* the lowest output means that this is opposite sign B than vtx (wrong tagged) - label 0"
   ]
  },
  {
   "cell_type": "code",
   "execution_count": 5,
   "metadata": {
    "collapsed": true
   },
   "outputs": [],
   "source": [
    "data['label'] = data.iscorrect\n",
    "data['event'] = data.evtNum "
   ]
  },
  {
   "cell_type": "code",
   "execution_count": 6,
   "metadata": {
    "collapsed": false
   },
   "outputs": [
    {
     "data": {
      "text/html": [
       "<div style=\"max-height:1000px;max-width:1500px;overflow:auto;\">\n",
       "<table border=\"1\" class=\"dataframe\">\n",
       "  <thead>\n",
       "    <tr style=\"text-align: right;\">\n",
       "      <th></th>\n",
       "      <th>iscorrect</th>\n",
       "      <th>tagger</th>\n",
       "      <th>evtNum</th>\n",
       "      <th>runNum</th>\n",
       "      <th>nnkrec</th>\n",
       "      <th>mult</th>\n",
       "      <th>ptB</th>\n",
       "      <th>etaB</th>\n",
       "      <th>partP</th>\n",
       "      <th>partPt</th>\n",
       "      <th>...</th>\n",
       "      <th>BDphiDir</th>\n",
       "      <th>svp</th>\n",
       "      <th>om_muon</th>\n",
       "      <th>om_ele</th>\n",
       "      <th>om_kaon</th>\n",
       "      <th>om_same</th>\n",
       "      <th>om_vtx</th>\n",
       "      <th>N_sig_sw</th>\n",
       "      <th>label</th>\n",
       "      <th>event</th>\n",
       "    </tr>\n",
       "  </thead>\n",
       "  <tbody>\n",
       "    <tr>\n",
       "      <th>0</th>\n",
       "      <td> 1</td>\n",
       "      <td> 0</td>\n",
       "      <td> 490856995</td>\n",
       "      <td> 115839</td>\n",
       "      <td> 3</td>\n",
       "      <td> 19</td>\n",
       "      <td>-0.382002</td>\n",
       "      <td>-6.307031</td>\n",
       "      <td> 1.673492</td>\n",
       "      <td> 0.032547</td>\n",
       "      <td>...</td>\n",
       "      <td>-1.014496</td>\n",
       "      <td> 5.458805</td>\n",
       "      <td> 0</td>\n",
       "      <td> 0</td>\n",
       "      <td> 0</td>\n",
       "      <td> 0</td>\n",
       "      <td> 0</td>\n",
       "      <td> 1.034008</td>\n",
       "      <td> 1</td>\n",
       "      <td> 490856995</td>\n",
       "    </tr>\n",
       "    <tr>\n",
       "      <th>1</th>\n",
       "      <td> 1</td>\n",
       "      <td> 0</td>\n",
       "      <td>  68238381</td>\n",
       "      <td> 115839</td>\n",
       "      <td> 4</td>\n",
       "      <td> 16</td>\n",
       "      <td> 0.788837</td>\n",
       "      <td>-4.426422</td>\n",
       "      <td> 2.556391</td>\n",
       "      <td> 0.068375</td>\n",
       "      <td>...</td>\n",
       "      <td>-1.098808</td>\n",
       "      <td> 4.479315</td>\n",
       "      <td> 0</td>\n",
       "      <td> 0</td>\n",
       "      <td> 0</td>\n",
       "      <td> 0</td>\n",
       "      <td> 0</td>\n",
       "      <td>-0.263734</td>\n",
       "      <td> 1</td>\n",
       "      <td>  68238381</td>\n",
       "    </tr>\n",
       "    <tr>\n",
       "      <th>2</th>\n",
       "      <td> 0</td>\n",
       "      <td> 0</td>\n",
       "      <td>   3537659</td>\n",
       "      <td> 115839</td>\n",
       "      <td> 3</td>\n",
       "      <td> 38</td>\n",
       "      <td> 0.070327</td>\n",
       "      <td>-4.690033</td>\n",
       "      <td> 3.843373</td>\n",
       "      <td> 0.622620</td>\n",
       "      <td>...</td>\n",
       "      <td>-0.011526</td>\n",
       "      <td> 4.092348</td>\n",
       "      <td> 0</td>\n",
       "      <td> 0</td>\n",
       "      <td> 0</td>\n",
       "      <td> 0</td>\n",
       "      <td> 0</td>\n",
       "      <td> 1.062726</td>\n",
       "      <td> 0</td>\n",
       "      <td>   3537659</td>\n",
       "    </tr>\n",
       "    <tr>\n",
       "      <th>3</th>\n",
       "      <td> 0</td>\n",
       "      <td> 0</td>\n",
       "      <td> 828473522</td>\n",
       "      <td> 115839</td>\n",
       "      <td> 3</td>\n",
       "      <td> 51</td>\n",
       "      <td> 0.206689</td>\n",
       "      <td>-5.277009</td>\n",
       "      <td> 1.386402</td>\n",
       "      <td>-0.496672</td>\n",
       "      <td>...</td>\n",
       "      <td>-0.151818</td>\n",
       "      <td> 2.874062</td>\n",
       "      <td> 0</td>\n",
       "      <td> 0</td>\n",
       "      <td> 0</td>\n",
       "      <td> 0</td>\n",
       "      <td> 0</td>\n",
       "      <td> 0.249383</td>\n",
       "      <td> 0</td>\n",
       "      <td> 828473522</td>\n",
       "    </tr>\n",
       "    <tr>\n",
       "      <th>4</th>\n",
       "      <td> 0</td>\n",
       "      <td> 0</td>\n",
       "      <td> 186799080</td>\n",
       "      <td> 115839</td>\n",
       "      <td> 3</td>\n",
       "      <td> 45</td>\n",
       "      <td> 1.195913</td>\n",
       "      <td>-4.579178</td>\n",
       "      <td> 2.385584</td>\n",
       "      <td>-0.135151</td>\n",
       "      <td>...</td>\n",
       "      <td>-2.699381</td>\n",
       "      <td> 2.975542</td>\n",
       "      <td> 0</td>\n",
       "      <td> 0</td>\n",
       "      <td> 0</td>\n",
       "      <td> 0</td>\n",
       "      <td> 0</td>\n",
       "      <td> 0.981713</td>\n",
       "      <td> 0</td>\n",
       "      <td> 186799080</td>\n",
       "    </tr>\n",
       "  </tbody>\n",
       "</table>\n",
       "<p>5 rows × 53 columns</p>\n",
       "</div>"
      ],
      "text/plain": [
       "   iscorrect  tagger     evtNum  runNum  nnkrec  mult       ptB      etaB  \\\n",
       "0          1       0  490856995  115839       3    19 -0.382002 -6.307031   \n",
       "1          1       0   68238381  115839       4    16  0.788837 -4.426422   \n",
       "2          0       0    3537659  115839       3    38  0.070327 -4.690033   \n",
       "3          0       0  828473522  115839       3    51  0.206689 -5.277009   \n",
       "4          0       0  186799080  115839       3    45  1.195913 -4.579178   \n",
       "\n",
       "      partP    partPt    ...     BDphiDir       svp  om_muon  om_ele  om_kaon  \\\n",
       "0  1.673492  0.032547    ...    -1.014496  5.458805        0       0        0   \n",
       "1  2.556391  0.068375    ...    -1.098808  4.479315        0       0        0   \n",
       "2  3.843373  0.622620    ...    -0.011526  4.092348        0       0        0   \n",
       "3  1.386402 -0.496672    ...    -0.151818  2.874062        0       0        0   \n",
       "4  2.385584 -0.135151    ...    -2.699381  2.975542        0       0        0   \n",
       "\n",
       "   om_same  om_vtx  N_sig_sw  label      event  \n",
       "0        0       0  1.034008      1  490856995  \n",
       "1        0       0 -0.263734      1   68238381  \n",
       "2        0       0  1.062726      0    3537659  \n",
       "3        0       0  0.249383      0  828473522  \n",
       "4        0       0  0.981713      0  186799080  \n",
       "\n",
       "[5 rows x 53 columns]"
      ]
     },
     "execution_count": 6,
     "metadata": {},
     "output_type": "execute_result"
    }
   ],
   "source": [
    "data.head()"
   ]
  },
  {
   "cell_type": "code",
   "execution_count": 7,
   "metadata": {
    "collapsed": true
   },
   "outputs": [],
   "source": [
    "features = ['mult', 'nnkrec', 'ptB', 'vflag', 'ipsmean', 'ptmean', 'vcharge', \n",
    "            'svm', 'svp', 'BDphiDir', 'svtau', 'docamax']"
   ]
  },
  {
   "cell_type": "code",
   "execution_count": 8,
   "metadata": {
    "collapsed": false
   },
   "outputs": [
    {
     "data": {
      "text/plain": [
       "{'Events': 201421, 'tracks': 201431}"
      ]
     },
     "execution_count": 8,
     "metadata": {},
     "output_type": "execute_result"
    }
   ],
   "source": [
    "statistics(data)"
   ]
  },
  {
   "cell_type": "code",
   "execution_count": 9,
   "metadata": {
    "collapsed": false
   },
   "outputs": [],
   "source": [
    "N_all = 742632.88650423975 "
   ]
  },
  {
   "cell_type": "code",
   "execution_count": 10,
   "metadata": {
    "collapsed": false
   },
   "outputs": [
    {
     "data": {
      "text/plain": [
       "(0.18203126835163155, 0.00049509199905288309)"
      ]
     },
     "execution_count": 10,
     "metadata": {},
     "output_type": "execute_result"
    }
   ],
   "source": [
    "N_pass = sum([gr['N_sig_sw'].values[0] for _, gr in data.groupby('event')])\n",
    "eff_tag = 1. * N_pass / N_all\n",
    "eff_delta = sqrt(N_pass) / N_all\n",
    "eff_tag, eff_delta"
   ]
  },
  {
   "cell_type": "markdown",
   "metadata": {},
   "source": [
    "### define B-like events for training and others for prediction"
   ]
  },
  {
   "cell_type": "code",
   "execution_count": 11,
   "metadata": {
    "collapsed": false
   },
   "outputs": [
    {
     "data": {
      "text/plain": [
       "{'Events': 157233, 'tracks': 157236}"
      ]
     },
     "execution_count": 11,
     "metadata": {},
     "output_type": "execute_result"
    }
   ],
   "source": [
    "sweight_threshold = 0.\n",
    "data_sw_pass = data[data.N_sig_sw > sweight_threshold]\n",
    "data_sw_not_pass = data[data.N_sig_sw <= sweight_threshold]\n",
    "statistics(data_sw_pass)"
   ]
  },
  {
   "cell_type": "markdown",
   "metadata": {},
   "source": [
    "### MN full"
   ]
  },
  {
   "cell_type": "code",
   "execution_count": 12,
   "metadata": {
    "collapsed": false
   },
   "outputs": [
    {
     "data": {
      "text/plain": [
       "FoldingClassifier(base_estimator=MatrixNetSkyGridClassifier(auto_stop=None, baseline_feature=None,\n",
       "              command_line_params=None, connection='skygrid',\n",
       "              dump_filename=None, features_sample_rate_per_iteration=1.0,\n",
       "              intervals=64, iterations=3000, max_features_per_iteration=6,\n",
       "              regularization=0.02, sync=False, train_features=None,\n",
       "              training_fraction=0.5, user_name='antares'),\n",
       "         features=['mult', 'nnkrec', 'ptB', 'vflag', 'ipsmean', 'ptmean', 'vcharge', 'svm', 'svp', 'BDphiDir', 'svtau', 'docamax'],\n",
       "         ipc_profile=None, n_folds=2, random_state=11)"
      ]
     },
     "execution_count": 12,
     "metadata": {},
     "output_type": "execute_result"
    }
   ],
   "source": [
    "from rep_ef.estimators import MatrixNetSkyGridClassifier\n",
    "mn_base = MatrixNetSkyGridClassifier(connection='skygrid', user_name='antares',\n",
    "                                     iterations=3000, regularization=0.02, sync=False)\n",
    "\n",
    "mn_folding = FoldingClassifier(mn_base, n_folds=2, random_state=11, \n",
    "                               features=features)\n",
    "mn_folding.fit(data_sw_pass, data_sw_pass.label, data_sw_pass.N_sig_sw)"
   ]
  },
  {
   "cell_type": "code",
   "execution_count": 13,
   "metadata": {
    "collapsed": false
   },
   "outputs": [
    {
     "name": "stdout",
     "output_type": "stream",
     "text": [
      "KFold prediction using folds column\n"
     ]
    },
    {
     "data": {
      "text/plain": [
       "0.56817442178726196"
      ]
     },
     "execution_count": 13,
     "metadata": {},
     "output_type": "execute_result"
    }
   ],
   "source": [
    "probs_RT = mn_folding.predict_proba(data_sw_pass)[:, 1]\n",
    "roc_auc_score(data_sw_pass.label.values, probs_RT, sample_weight=data_sw_pass.N_sig_sw.values)"
   ]
  },
  {
   "cell_type": "markdown",
   "metadata": {},
   "source": [
    "### XGB full"
   ]
  },
  {
   "cell_type": "code",
   "execution_count": 14,
   "metadata": {
    "collapsed": false
   },
   "outputs": [
    {
     "data": {
      "text/plain": [
       "FoldingClassifier(base_estimator=XGBoostClassifier(base_score=0.5, colsample=1.0, eta=0.01, features=None,\n",
       "         gamma=None, max_depth=3, min_child_weight=1.0, missing=-999.0,\n",
       "         n_estimators=500, nthreads=4, num_feature=None, random_state=0,\n",
       "         scale_pos_weight=1.0, subsample=0.3, verbose=0),\n",
       "         features=['mult', 'nnkrec', 'ptB', 'vflag', 'ipsmean', 'ptmean', 'vcharge', 'svm', 'svp', 'BDphiDir', 'svtau', 'docamax'],\n",
       "         ipc_profile=None, n_folds=2, random_state=11)"
      ]
     },
     "execution_count": 14,
     "metadata": {},
     "output_type": "execute_result"
    }
   ],
   "source": [
    "from rep.estimators import XGBoostClassifier\n",
    "xgb_base = XGBoostClassifier(colsample=1.0, eta=0.01, nthreads=4, \n",
    "                             n_estimators=500, subsample=0.3, max_depth=3) \n",
    "xgb_folding = FoldingClassifier(xgb_base, n_folds=2, random_state=11, \n",
    "                                features=features)\n",
    "xgb_folding.fit(data_sw_pass, data_sw_pass.label, data_sw_pass.N_sig_sw)"
   ]
  },
  {
   "cell_type": "code",
   "execution_count": 15,
   "metadata": {
    "collapsed": false
   },
   "outputs": [
    {
     "name": "stdout",
     "output_type": "stream",
     "text": [
      "KFold prediction using folds column\n"
     ]
    },
    {
     "data": {
      "text/plain": [
       "0.56895875930786133"
      ]
     },
     "execution_count": 15,
     "metadata": {},
     "output_type": "execute_result"
    }
   ],
   "source": [
    "probs_RT = xgb_folding.predict_proba(data_sw_pass)[:, 1]\n",
    "roc_auc_score(data_sw_pass.label.values, probs_RT, sample_weight=data_sw_pass.N_sig_sw.values)"
   ]
  },
  {
   "cell_type": "markdown",
   "metadata": {},
   "source": [
    "--------"
   ]
  },
  {
   "cell_type": "markdown",
   "metadata": {},
   "source": [
    "## Isotonic calibration to probabity p(vrt same sign|B)"
   ]
  },
  {
   "cell_type": "code",
   "execution_count": 16,
   "metadata": {
    "collapsed": true
   },
   "outputs": [],
   "source": [
    "models = []"
   ]
  },
  {
   "cell_type": "markdown",
   "metadata": {},
   "source": [
    "### MN"
   ]
  },
  {
   "cell_type": "code",
   "execution_count": 17,
   "metadata": {
    "collapsed": false
   },
   "outputs": [
    {
     "name": "stdout",
     "output_type": "stream",
     "text": [
      "KFold prediction using folds column\n",
      "KFold prediction using folds column\n"
     ]
    }
   ],
   "source": [
    "D2, alpha, aucs, iso_calibs = calibration(mn_folding, \n",
    "                                          [data_sw_pass, data_sw_not_pass], \n",
    "                                          steps=30)"
   ]
  },
  {
   "cell_type": "code",
   "execution_count": 18,
   "metadata": {
    "collapsed": false
   },
   "outputs": [
    {
     "name": "stdout",
     "output_type": "stream",
     "text": [
      "AUC 0.571638856332 2.70392543927e-06\n"
     ]
    }
   ],
   "source": [
    "print 'AUC', numpy.mean(aucs), numpy.var(aucs)"
   ]
  },
  {
   "cell_type": "code",
   "execution_count": 19,
   "metadata": {
    "collapsed": false
   },
   "outputs": [],
   "source": [
    "models.append(result_table(eff_tag, eff_delta, D2, 'mn'))"
   ]
  },
  {
   "cell_type": "markdown",
   "metadata": {},
   "source": [
    "### XGB"
   ]
  },
  {
   "cell_type": "code",
   "execution_count": 20,
   "metadata": {
    "collapsed": false
   },
   "outputs": [
    {
     "name": "stdout",
     "output_type": "stream",
     "text": [
      "KFold prediction using folds column\n",
      "KFold prediction using folds column\n"
     ]
    }
   ],
   "source": [
    "D2, alpha, aucs, iso_calibs = calibration(xgb_folding, \n",
    "                                          [data_sw_pass, data_sw_not_pass], \n",
    "                                          steps=30)"
   ]
  },
  {
   "cell_type": "code",
   "execution_count": 21,
   "metadata": {
    "collapsed": false
   },
   "outputs": [
    {
     "name": "stdout",
     "output_type": "stream",
     "text": [
      "AUC 0.572830247879 2.68774957026e-06\n"
     ]
    }
   ],
   "source": [
    "print 'AUC', numpy.mean(aucs), numpy.var(aucs)"
   ]
  },
  {
   "cell_type": "code",
   "execution_count": 22,
   "metadata": {
    "collapsed": false
   },
   "outputs": [],
   "source": [
    "models.append(result_table(eff_tag, eff_delta, D2, 'xgb'))"
   ]
  },
  {
   "cell_type": "code",
   "execution_count": 23,
   "metadata": {
    "collapsed": false
   },
   "outputs": [
    {
     "data": {
      "text/html": [
       "<div style=\"max-height:1000px;max-width:1500px;overflow:auto;\">\n",
       "<table border=\"1\" class=\"dataframe\">\n",
       "  <thead>\n",
       "    <tr style=\"text-align: right;\">\n",
       "      <th></th>\n",
       "      <th>name</th>\n",
       "      <th>$\\epsilon_{tag}, \\%$</th>\n",
       "      <th>$\\Delta \\epsilon_{tag}, \\%$</th>\n",
       "      <th>$D^2$</th>\n",
       "      <th>$\\Delta D^2$</th>\n",
       "      <th>$\\epsilon, \\%$</th>\n",
       "      <th>$\\Delta \\epsilon, \\%$</th>\n",
       "    </tr>\n",
       "  </thead>\n",
       "  <tbody>\n",
       "    <tr>\n",
       "      <th>0</th>\n",
       "      <td>  mn</td>\n",
       "      <td> 18.203127</td>\n",
       "      <td> 0.049509</td>\n",
       "      <td> 0.051586</td>\n",
       "      <td> 0.000001</td>\n",
       "      <td> 0.939027</td>\n",
       "      <td> 0.002554</td>\n",
       "    </tr>\n",
       "    <tr>\n",
       "      <th>0</th>\n",
       "      <td> xgb</td>\n",
       "      <td> 18.203127</td>\n",
       "      <td> 0.049509</td>\n",
       "      <td> 0.050944</td>\n",
       "      <td> 0.000001</td>\n",
       "      <td> 0.927345</td>\n",
       "      <td> 0.002522</td>\n",
       "    </tr>\n",
       "  </tbody>\n",
       "</table>\n",
       "</div>"
      ],
      "text/plain": [
       "  name  $\\epsilon_{tag}, \\%$  $\\Delta \\epsilon_{tag}, \\%$     $D^2$  \\\n",
       "0   mn             18.203127                     0.049509  0.051586   \n",
       "0  xgb             18.203127                     0.049509  0.050944   \n",
       "\n",
       "   $\\Delta D^2$  $\\epsilon, \\%$  $\\Delta \\epsilon, \\%$  \n",
       "0      0.000001        0.939027               0.002554  \n",
       "0      0.000001        0.927345               0.002522  "
      ]
     },
     "execution_count": 23,
     "metadata": {},
     "output_type": "execute_result"
    }
   ],
   "source": [
    "pandas.concat(models)"
   ]
  }
 ],
 "metadata": {
  "kernelspec": {
   "display_name": "Python 2",
   "language": "python",
   "name": "python2"
  },
  "language_info": {
   "codemirror_mode": {
    "name": "ipython",
    "version": 2
   },
   "file_extension": ".py",
   "mimetype": "text/x-python",
   "name": "python",
   "nbconvert_exporter": "python",
   "pygments_lexer": "ipython2",
   "version": "2.7.3"
  }
 },
 "nbformat": 4,
 "nbformat_minor": 0
}
