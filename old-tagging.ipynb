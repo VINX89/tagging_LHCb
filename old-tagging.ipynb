{
 "cells": [
  {
   "cell_type": "code",
   "execution_count": 2,
   "metadata": {
    "collapsed": false,
    "scrolled": true
   },
   "outputs": [
    {
     "name": "stdout",
     "output_type": "stream",
     "text": [
      "Populating the interactive namespace from numpy and matplotlib\n"
     ]
    }
   ],
   "source": [
    "%pylab inline"
   ]
  },
  {
   "cell_type": "markdown",
   "metadata": {},
   "source": [
    "##Import"
   ]
  },
  {
   "cell_type": "code",
   "execution_count": 3,
   "metadata": {
    "collapsed": false
   },
   "outputs": [],
   "source": [
    "import pandas\n",
    "import numexpr\n",
    "import numpy\n",
    "from rep_ef.estimators import MatrixNetSkyGridClassifier\n",
    "from rep.metaml import FoldingClassifier\n",
    "from sklearn.ensemble import RandomForestClassifier\n",
    "from sklearn.metrics import roc_curve, roc_auc_score"
   ]
  },
  {
   "cell_type": "code",
   "execution_count": 4,
   "metadata": {
    "collapsed": false
   },
   "outputs": [],
   "source": [
    "%run utils.py"
   ]
  },
  {
   "cell_type": "markdown",
   "metadata": {},
   "source": [
    "## Reading initial data"
   ]
  },
  {
   "cell_type": "code",
   "execution_count": 5,
   "metadata": {
    "collapsed": false
   },
   "outputs": [],
   "source": [
    "import root_numpy\n",
    "data_ele = pandas.DataFrame(root_numpy.root2array('datasets/old_tagging/nnet_ele.root'))\n",
    "data_muon = pandas.DataFrame(root_numpy.root2array('datasets/old_tagging/nnet_muon.root'))\n",
    "data_kaon = pandas.DataFrame(root_numpy.root2array('datasets/old_tagging/nnet_kaon.root'))\n",
    "data_vtx = pandas.DataFrame(root_numpy.root2array('datasets/old_tagging/nnet_vtx.root'))"
   ]
  },
  {
   "cell_type": "code",
   "execution_count": 6,
   "metadata": {
    "collapsed": false
   },
   "outputs": [
    {
     "data": {
      "text/plain": [
       "Index([u'iscorrect', u'tagAnswer', u'signVtx', u'tagger', u'evtNum', u'runNum', u'nnkrec', u'mult', u'ptB', u'etaB', u'partP', u'partPt', u'IPPU', u'PIDm', u'PIDe', u'PIDk', u'PIDpk', u'eOverP', u'veloch', u'PIDNNe', u'PIDNNm', u'PIDNNpi', u'PIDNNk', u'PIDNNp', u'IPs', u'IPssign', u'partlcs', u'partTheta', u'partPhi', u'ghostProb', u'nndr', u'nndeta', u'nndphi', u'nndq', u'vflag', u'ptmean', u'ipsmean', u'ipsmean2', u'ptsum', u'docamax', u'maxprobf', u'vratio', u'vcharge', u'svtau', u'svm', u'BDphiDir', u'svp', u'om_muon', u'om_ele', u'om_kaon', u'om_same', u'om_vtx', u'N_sig_sw'], dtype='object')"
      ]
     },
     "execution_count": 6,
     "metadata": {},
     "output_type": "execute_result"
    }
   ],
   "source": [
    "data_ele.columns"
   ]
  },
  {
   "cell_type": "code",
   "execution_count": 7,
   "metadata": {
    "collapsed": true
   },
   "outputs": [],
   "source": [
    "datasets = {'$e$': data_ele, '$\\mu$': data_muon, '$K$': data_kaon, 'vtx': data_vtx}"
   ]
  },
  {
   "cell_type": "code",
   "execution_count": 8,
   "metadata": {
    "collapsed": false
   },
   "outputs": [],
   "source": [
    "for data in datasets.values():\n",
    "    data['label'] = data.iscorrect\n",
    "    data_type = numpy.ones(len(data))\n",
    "    data_type[data.iscorrect.values == 0] = -1\n",
    "    data['signB'] = data.tagAnswer.values * data_type\n",
    "    data['unique'] = data.runNum.apply(str) + '_' + data.evtNum.apply(str)"
   ]
  },
  {
   "cell_type": "code",
   "execution_count": 9,
   "metadata": {
    "collapsed": true
   },
   "outputs": [],
   "source": [
    "features_vtx = ['mult', 'nnkrec', 'ptB', 'vflag', 'ipsmean', 'ptmean', 'vcharge', \n",
    "                'svm', 'svp', 'BDphiDir', 'svtau', 'docamax']\n",
    "features_tr = ['mult', 'partPt', 'partP', 'ptB', 'IPs', 'partlcs', 'ghostProb', 'IPPU', 'eOverP', \n",
    "                 'PIDNNpi', 'PIDNNp', \n",
    "                 'nnkrec', 'partTheta', #u'partPhi',\n",
    "                 'veloch']\n",
    "features = {'$e$': features_tr + ['PIDNNe'], '$\\mu$': features_tr + ['PIDNNm'], \n",
    "            '$K$': features_tr + ['PIDNNk'], 'vtx': features_vtx}"
   ]
  },
  {
   "cell_type": "code",
   "execution_count": 10,
   "metadata": {
    "collapsed": false
   },
   "outputs": [],
   "source": [
    "# data_track = pandas.read_csv('datasets/Tracks.csv', sep='\\t')\n",
    "# data_track['unique'] = data_track.run.apply(str) + '_' + data_track.event.apply(str)\n",
    "# N_all = get_events_number(data_track)"
   ]
  },
  {
   "cell_type": "code",
   "execution_count": 11,
   "metadata": {
    "collapsed": false
   },
   "outputs": [
    {
     "data": {
      "text/plain": [
       "742867.7142562866"
      ]
     },
     "execution_count": 11,
     "metadata": {},
     "output_type": "execute_result"
    }
   ],
   "source": [
    "N_all"
   ]
  },
  {
   "cell_type": "code",
   "execution_count": 12,
   "metadata": {
    "collapsed": true
   },
   "outputs": [],
   "source": [
    "from collections import OrderedDict\n",
    "result = OrderedDict()"
   ]
  },
  {
   "cell_type": "code",
   "execution_count": 13,
   "metadata": {
    "collapsed": false
   },
   "outputs": [],
   "source": [
    "eff_tag = []\n",
    "eff_delta = []\n",
    "\n",
    "for key, data in datasets.items():\n",
    "    N_pass = get_events_number(data)\n",
    "    eff_tag.append(1. * N_pass / N_all)\n",
    "    eff_delta.append(sqrt(N_pass) / N_all)\n",
    "result['$\\epsilon_{tag}$'] = eff_tag\n",
    "result['$\\Delta\\epsilon_{tag}$'] = eff_delta"
   ]
  },
  {
   "cell_type": "code",
   "execution_count": 14,
   "metadata": {
    "collapsed": false
   },
   "outputs": [
    {
     "data": {
      "text/html": [
       "<div style=\"max-height:1000px;max-width:1500px;overflow:auto;\">\n",
       "<table border=\"1\" class=\"dataframe\">\n",
       "  <thead>\n",
       "    <tr style=\"text-align: right;\">\n",
       "      <th></th>\n",
       "      <th>$\\epsilon_{tag}$</th>\n",
       "      <th>$\\Delta\\epsilon_{tag}$</th>\n",
       "    </tr>\n",
       "  </thead>\n",
       "  <tbody>\n",
       "    <tr>\n",
       "      <th>vtx</th>\n",
       "      <td> 0.181978</td>\n",
       "      <td> 0.000495</td>\n",
       "    </tr>\n",
       "    <tr>\n",
       "      <th>$K$</th>\n",
       "      <td> 0.170796</td>\n",
       "      <td> 0.000479</td>\n",
       "    </tr>\n",
       "    <tr>\n",
       "      <th>$e$</th>\n",
       "      <td> 0.016424</td>\n",
       "      <td> 0.000149</td>\n",
       "    </tr>\n",
       "    <tr>\n",
       "      <th>$\\mu$</th>\n",
       "      <td> 0.054385</td>\n",
       "      <td> 0.000271</td>\n",
       "    </tr>\n",
       "  </tbody>\n",
       "</table>\n",
       "</div>"
      ],
      "text/plain": [
       "       $\\epsilon_{tag}$  $\\Delta\\epsilon_{tag}$\n",
       "vtx            0.181978                0.000495\n",
       "$K$            0.170796                0.000479\n",
       "$e$            0.016424                0.000149\n",
       "$\\mu$          0.054385                0.000271"
      ]
     },
     "execution_count": 14,
     "metadata": {},
     "output_type": "execute_result"
    }
   ],
   "source": [
    "eff_table = pandas.DataFrame(result, index=datasets.keys())\n",
    "eff_table"
   ]
  },
  {
   "cell_type": "markdown",
   "metadata": {},
   "source": [
    "### define B-like events for training and others for prediction"
   ]
  },
  {
   "cell_type": "code",
   "execution_count": 15,
   "metadata": {
    "collapsed": false
   },
   "outputs": [],
   "source": [
    "sweight_threshold = 0.\n",
    "data_sw_pass = [data[data.N_sig_sw > sweight_threshold] for data in datasets.values()]\n",
    "data_sw_not_pass = [data[data.N_sig_sw <= sweight_threshold] for data in datasets.values()]"
   ]
  },
  {
   "cell_type": "code",
   "execution_count": 16,
   "metadata": {
    "collapsed": false
   },
   "outputs": [
    {
     "name": "stdout",
     "output_type": "stream",
     "text": [
      "{'tracks': 157236, 'Events': 157236}\n",
      "{'tracks': 143163, 'Events': 143163}\n",
      "{'tracks': 13324, 'Events': 13324}\n",
      "{'tracks': 45398, 'Events': 45398}\n"
     ]
    }
   ],
   "source": [
    "for data in data_sw_pass:\n",
    "    print statistics(data)"
   ]
  },
  {
   "cell_type": "code",
   "execution_count": 17,
   "metadata": {
    "collapsed": false
   },
   "outputs": [
    {
     "name": "stdout",
     "output_type": "stream",
     "text": [
      "{'tracks': 44195, 'Events': 44194}\n",
      "{'tracks': 33409, 'Events': 33408}\n",
      "{'tracks': 2305, 'Events': 2305}\n",
      "{'tracks': 10236, 'Events': 10236}\n"
     ]
    }
   ],
   "source": [
    "for data in data_sw_not_pass:\n",
    "    print statistics(data)"
   ]
  },
  {
   "cell_type": "code",
   "execution_count": 18,
   "metadata": {
    "collapsed": true
   },
   "outputs": [],
   "source": [
    "import cPickle\n",
    "with open('models/old-tagging.pkl', 'r') as f:\n",
    "    estimators = cPickle.load(f)"
   ]
  },
  {
   "cell_type": "code",
   "execution_count": 17,
   "metadata": {
    "collapsed": true
   },
   "outputs": [],
   "source": [
    "estimators = OrderedDict()"
   ]
  },
  {
   "cell_type": "markdown",
   "metadata": {},
   "source": [
    "### TMVA"
   ]
  },
  {
   "cell_type": "code",
   "execution_count": 18,
   "metadata": {
    "collapsed": true
   },
   "outputs": [],
   "source": [
    "from rep.estimators import TMVAClassifier"
   ]
  },
  {
   "cell_type": "code",
   "execution_count": 21,
   "metadata": {
    "collapsed": false
   },
   "outputs": [],
   "source": [
    "from rep.estimators import TMVAClassifier\n",
    "from rep.metaml import FoldingClassifier\n",
    "\n",
    "tmva_base_muon = TMVAClassifier(method='kMLP', factory_options='Transformations=I;D;N', sigmoid_function='identity',\n",
    "                                NeuronType='tanh', NCycles=280, HiddenLayers='N+5', TrainingMethod='BFGS', \n",
    "                                UseRegulator=True, EstimatorType='CE')\n",
    "\n",
    "tmva_base_ele = TMVAClassifier(method='kMLP', factory_options='Transformations=I;D;N', sigmoid_function='identity',\n",
    "                               NeuronType='sigmoid', NCycles=180, HiddenLayers='N+5', TrainingMethod='BFGS', \n",
    "                               UseRegulator=True)\n",
    "\n",
    "tmva_base_kaon_vtx = TMVAClassifier(method='kMLP', factory_options='Transformations=I;D;N', \n",
    "                                    sigmoid_function='identity',\n",
    "                                    NeuronType='tanh', NCycles=180, HiddenLayers='N+5', TrainingMethod='BFGS', \n",
    "                                    UseRegulator=True, EstimatorType='CE')\n",
    "\n",
    "\n",
    "for n, (key, data) in enumerate(datasets.items()):\n",
    "    if 'e' in key:\n",
    "        tmva_base = tmva_base_ele\n",
    "    elif 'mu' in key:\n",
    "        tmva_base = tmva_base_muon\n",
    "    else:\n",
    "        tmva_base = tmva_base_kaon_vtx\n",
    "    estimators[key + '_tmva'] = FoldingClassifier(tmva_base, n_folds=2, random_state=11, ipc_profile='ssh-ipy',\n",
    "                                                  features=features[key])\n",
    "    estimators[key + '_tmva'].fit(data_sw_pass[n], data_sw_pass[n]['label'], data_sw_pass[n]['N_sig_sw'])"
   ]
  },
  {
   "cell_type": "markdown",
   "metadata": {},
   "source": [
    "### XGB full"
   ]
  },
  {
   "cell_type": "code",
   "execution_count": 24,
   "metadata": {
    "collapsed": false
   },
   "outputs": [],
   "source": [
    "from rep.estimators import XGBoostClassifier\n",
    "from rep.metaml import FoldingClassifier\n",
    "\n",
    "xgb_base = XGBoostClassifier(colsample=1.0, eta=0.01, nthreads=4, \n",
    "                             n_estimators=500, subsample=0.3, max_depth=3) \n",
    "\n",
    "xgb_base_ele = XGBoostClassifier(colsample=1.0, eta=0.01, nthreads=4, \n",
    "                                 n_estimators=200, subsample=0.3, max_depth=5) \n",
    "\n",
    "for n, (key, data) in enumerate(datasets.items()):\n",
    "    if 'e' in key:\n",
    "        estimators[key] = FoldingClassifier(xgb_base_ele, n_folds=2, random_state=11, ipc_profile='ssh-ipy',\n",
    "                                            features=features[key])\n",
    "    else:\n",
    "        estimators[key] = FoldingClassifier(xgb_base, n_folds=2, random_state=11,  ipc_profile='ssh-ipy',\n",
    "                                            features=features[key])\n",
    "    estimators[key].fit(data_sw_pass[n], data_sw_pass[n]['label'], data_sw_pass[n]['N_sig_sw'])"
   ]
  },
  {
   "cell_type": "code",
   "execution_count": 25,
   "metadata": {
    "collapsed": false
   },
   "outputs": [],
   "source": [
    "import cPickle\n",
    "with open('models/old-tagging.pkl', 'w') as f:\n",
    "    cPickle.dump(estimators, f)"
   ]
  },
  {
   "cell_type": "code",
   "execution_count": 26,
   "metadata": {
    "collapsed": false
   },
   "outputs": [
    {
     "name": "stdout",
     "output_type": "stream",
     "text": [
      "KFold prediction using folds column\n",
      "vtx 0.568958759308\n",
      "KFold prediction using folds column\n",
      "vtx_tmva 0.546857893467\n",
      "KFold prediction using folds column\n",
      "$K$ 0.56590282917\n",
      "KFold prediction using folds column\n",
      "$K$_tmva 0.502311706543\n",
      "KFold prediction using folds column\n",
      "$e$ 0.588206410408\n",
      "KFold prediction using folds column\n",
      "$e$_tmva 0.569432735443\n",
      "KFold prediction using folds column\n",
      "$\\mu$ 0.617253959179\n",
      "KFold prediction using folds column\n",
      "$\\mu$_tmva 0.527068436146\n"
     ]
    }
   ],
   "source": [
    "for n, (key, _) in enumerate(datasets.items()):\n",
    "    for suffix in ['', '_tmva']:\n",
    "        name = key +  suffix\n",
    "        probs = estimators[name].predict_proba(data_sw_pass[n])[:, 1]\n",
    "        print name, roc_auc_score(data_sw_pass[n]['label'].values, \n",
    "                                  probs, sample_weight=data_sw_pass[n]['N_sig_sw'].values)"
   ]
  },
  {
   "cell_type": "markdown",
   "metadata": {},
   "source": [
    "--------"
   ]
  },
  {
   "cell_type": "markdown",
   "metadata": {},
   "source": [
    "## Isotonic calibration to probabity"
   ]
  },
  {
   "cell_type": "code",
   "execution_count": 18,
   "metadata": {
    "collapsed": true
   },
   "outputs": [],
   "source": [
    "models = []"
   ]
  },
  {
   "cell_type": "code",
   "execution_count": 43,
   "metadata": {
    "collapsed": false
   },
   "outputs": [
    {
     "name": "stdout",
     "output_type": "stream",
     "text": [
      "KFold prediction using folds column\n",
      "KFold prediction using folds column\n",
      "AUC vtx 0.573024580876 3.41085196024e-06\n",
      "KFold prediction using folds column\n",
      "KFold prediction using folds column\n",
      "AUC vtx_tmva 0.549871043364 2.77694964456e-06\n",
      "KFold prediction using folds column\n",
      "KFold prediction using folds column\n",
      "AUC $K$ 0.567480067412 3.15623644159e-06\n",
      "KFold prediction using folds column\n",
      "KFold prediction using folds column\n",
      "AUC $K$_tmva 0.500768006841 3.93768445142e-06\n",
      "KFold prediction using folds column\n",
      "KFold prediction using folds column\n",
      "AUC $e$ 0.589286228021 4.0688018122e-05\n",
      "KFold prediction using folds column\n",
      "KFold prediction using folds column\n",
      "AUC $e$_tmva 0.568686070045 4.13437932639e-05\n",
      "KFold prediction using folds column\n",
      "KFold prediction using folds column\n",
      "AUC $\\mu$ 0.622995575269 7.11986402714e-06\n",
      "KFold prediction using folds column\n",
      "KFold prediction using folds column\n",
      "AUC $\\mu$_tmva 0.526363231738 1.17001143194e-05\n"
     ]
    }
   ],
   "source": [
    "for n, (key, _) in enumerate(datasets.items()):\n",
    "    for suffix in ['', '_tmva']:\n",
    "        name = key +  suffix\n",
    "        D2, aucs, iso_calibs, omega = calibration(estimators[name], [data_sw_pass[n], data_sw_not_pass[n]], steps=30)\n",
    "        print 'AUC', name, numpy.mean(aucs), numpy.var(aucs)\n",
    "        eff_tag, eff_delta = numpy.array(eff_table[eff_table.index == key])[0]\n",
    "        models.append(result_table(eff_tag, eff_delta, D2, name, omega))"
   ]
  },
  {
   "cell_type": "code",
   "execution_count": 44,
   "metadata": {
    "collapsed": false
   },
   "outputs": [
    {
     "data": {
      "text/html": [
       "<div style=\"max-height:1000px;max-width:1500px;overflow:auto;\">\n",
       "<table border=\"1\" class=\"dataframe\">\n",
       "  <thead>\n",
       "    <tr style=\"text-align: right;\">\n",
       "      <th></th>\n",
       "      <th>name</th>\n",
       "      <th>$\\epsilon_{tag}, \\%$</th>\n",
       "      <th>$\\Delta \\epsilon_{tag}, \\%$</th>\n",
       "      <th>$w$</th>\n",
       "      <th>$\\Delta w$</th>\n",
       "      <th>$D^2$</th>\n",
       "      <th>$\\Delta D^2$</th>\n",
       "      <th>$\\epsilon, \\%$</th>\n",
       "      <th>$\\Delta \\epsilon, \\%$</th>\n",
       "    </tr>\n",
       "  </thead>\n",
       "  <tbody>\n",
       "    <tr>\n",
       "      <th>0</th>\n",
       "      <td>        vtx</td>\n",
       "      <td> 18.197761</td>\n",
       "      <td> 0.049494</td>\n",
       "      <td> 0.406307</td>\n",
       "      <td> 0.000001</td>\n",
       "      <td> 0.050872</td>\n",
       "      <td> 0.000001</td>\n",
       "      <td> 0.925753</td>\n",
       "      <td> 0.002518</td>\n",
       "    </tr>\n",
       "    <tr>\n",
       "      <th>0</th>\n",
       "      <td>   vtx_tmva</td>\n",
       "      <td> 18.197761</td>\n",
       "      <td> 0.049494</td>\n",
       "      <td> 0.407047</td>\n",
       "      <td> 0.000002</td>\n",
       "      <td> 0.041699</td>\n",
       "      <td> 0.000001</td>\n",
       "      <td> 0.758823</td>\n",
       "      <td> 0.002064</td>\n",
       "    </tr>\n",
       "    <tr>\n",
       "      <th>0</th>\n",
       "      <td>        $K$</td>\n",
       "      <td> 17.079611</td>\n",
       "      <td> 0.047949</td>\n",
       "      <td> 0.398604</td>\n",
       "      <td> 0.000003</td>\n",
       "      <td> 0.054858</td>\n",
       "      <td> 0.000002</td>\n",
       "      <td> 0.936952</td>\n",
       "      <td> 0.002631</td>\n",
       "    </tr>\n",
       "    <tr>\n",
       "      <th>0</th>\n",
       "      <td>   $K$_tmva</td>\n",
       "      <td> 17.079611</td>\n",
       "      <td> 0.047949</td>\n",
       "      <td> 0.396201</td>\n",
       "      <td> 0.000009</td>\n",
       "      <td> 0.044024</td>\n",
       "      <td> 0.000007</td>\n",
       "      <td> 0.751917</td>\n",
       "      <td> 0.002114</td>\n",
       "    </tr>\n",
       "    <tr>\n",
       "      <th>0</th>\n",
       "      <td>        $e$</td>\n",
       "      <td>  1.642418</td>\n",
       "      <td> 0.014869</td>\n",
       "      <td> 0.301235</td>\n",
       "      <td> 0.000018</td>\n",
       "      <td> 0.179806</td>\n",
       "      <td> 0.000051</td>\n",
       "      <td> 0.295317</td>\n",
       "      <td> 0.002675</td>\n",
       "    </tr>\n",
       "    <tr>\n",
       "      <th>0</th>\n",
       "      <td>   $e$_tmva</td>\n",
       "      <td>  1.642418</td>\n",
       "      <td> 0.014869</td>\n",
       "      <td> 0.301671</td>\n",
       "      <td> 0.000022</td>\n",
       "      <td> 0.172269</td>\n",
       "      <td> 0.000057</td>\n",
       "      <td> 0.282938</td>\n",
       "      <td> 0.002563</td>\n",
       "    </tr>\n",
       "    <tr>\n",
       "      <th>0</th>\n",
       "      <td>      $\\mu$</td>\n",
       "      <td>  5.438510</td>\n",
       "      <td> 0.027057</td>\n",
       "      <td> 0.314152</td>\n",
       "      <td> 0.000004</td>\n",
       "      <td> 0.171016</td>\n",
       "      <td> 0.000014</td>\n",
       "      <td> 0.930072</td>\n",
       "      <td> 0.004628</td>\n",
       "    </tr>\n",
       "    <tr>\n",
       "      <th>0</th>\n",
       "      <td> $\\mu$_tmva</td>\n",
       "      <td>  5.438510</td>\n",
       "      <td> 0.027057</td>\n",
       "      <td> 0.321807</td>\n",
       "      <td> 0.000083</td>\n",
       "      <td> 0.131924</td>\n",
       "      <td> 0.000191</td>\n",
       "      <td> 0.717471</td>\n",
       "      <td> 0.003718</td>\n",
       "    </tr>\n",
       "    <tr>\n",
       "      <th>0</th>\n",
       "      <td>        vtx</td>\n",
       "      <td> 18.197761</td>\n",
       "      <td> 0.049494</td>\n",
       "      <td> 0.405799</td>\n",
       "      <td> 0.000001</td>\n",
       "      <td> 0.051116</td>\n",
       "      <td> 0.000001</td>\n",
       "      <td> 0.930195</td>\n",
       "      <td> 0.002530</td>\n",
       "    </tr>\n",
       "    <tr>\n",
       "      <th>0</th>\n",
       "      <td>   vtx_tmva</td>\n",
       "      <td> 18.197761</td>\n",
       "      <td> 0.049494</td>\n",
       "      <td> 0.406970</td>\n",
       "      <td> 0.000002</td>\n",
       "      <td> 0.041712</td>\n",
       "      <td> 0.000001</td>\n",
       "      <td> 0.759057</td>\n",
       "      <td> 0.002065</td>\n",
       "    </tr>\n",
       "    <tr>\n",
       "      <th>0</th>\n",
       "      <td>        $K$</td>\n",
       "      <td> 17.079611</td>\n",
       "      <td> 0.047949</td>\n",
       "      <td> 0.398485</td>\n",
       "      <td> 0.000002</td>\n",
       "      <td> 0.054833</td>\n",
       "      <td> 0.000002</td>\n",
       "      <td> 0.936526</td>\n",
       "      <td> 0.002629</td>\n",
       "    </tr>\n",
       "    <tr>\n",
       "      <th>0</th>\n",
       "      <td>   $K$_tmva</td>\n",
       "      <td> 17.079611</td>\n",
       "      <td> 0.047949</td>\n",
       "      <td> 0.395931</td>\n",
       "      <td> 0.000013</td>\n",
       "      <td> 0.044159</td>\n",
       "      <td> 0.000009</td>\n",
       "      <td> 0.754222</td>\n",
       "      <td> 0.002123</td>\n",
       "    </tr>\n",
       "    <tr>\n",
       "      <th>0</th>\n",
       "      <td>        $e$</td>\n",
       "      <td>  1.642418</td>\n",
       "      <td> 0.014869</td>\n",
       "      <td> 0.302955</td>\n",
       "      <td> 0.000020</td>\n",
       "      <td> 0.176984</td>\n",
       "      <td> 0.000041</td>\n",
       "      <td> 0.290683</td>\n",
       "      <td> 0.002632</td>\n",
       "    </tr>\n",
       "    <tr>\n",
       "      <th>0</th>\n",
       "      <td>   $e$_tmva</td>\n",
       "      <td>  1.642418</td>\n",
       "      <td> 0.014869</td>\n",
       "      <td> 0.302551</td>\n",
       "      <td> 0.000018</td>\n",
       "      <td> 0.170955</td>\n",
       "      <td> 0.000047</td>\n",
       "      <td> 0.280780</td>\n",
       "      <td> 0.002543</td>\n",
       "    </tr>\n",
       "    <tr>\n",
       "      <th>0</th>\n",
       "      <td>      $\\mu$</td>\n",
       "      <td>  5.438510</td>\n",
       "      <td> 0.027057</td>\n",
       "      <td> 0.314624</td>\n",
       "      <td> 0.000005</td>\n",
       "      <td> 0.169554</td>\n",
       "      <td> 0.000010</td>\n",
       "      <td> 0.922123</td>\n",
       "      <td> 0.004588</td>\n",
       "    </tr>\n",
       "    <tr>\n",
       "      <th>0</th>\n",
       "      <td> $\\mu$_tmva</td>\n",
       "      <td>  5.438510</td>\n",
       "      <td> 0.027057</td>\n",
       "      <td> 0.324642</td>\n",
       "      <td> 0.000045</td>\n",
       "      <td> 0.127780</td>\n",
       "      <td> 0.000103</td>\n",
       "      <td> 0.694934</td>\n",
       "      <td> 0.003502</td>\n",
       "    </tr>\n",
       "  </tbody>\n",
       "</table>\n",
       "</div>"
      ],
      "text/plain": [
       "         name  $\\epsilon_{tag}, \\%$  $\\Delta \\epsilon_{tag}, \\%$       $w$  \\\n",
       "0         vtx             18.197761                     0.049494  0.406307   \n",
       "0    vtx_tmva             18.197761                     0.049494  0.407047   \n",
       "0         $K$             17.079611                     0.047949  0.398604   \n",
       "0    $K$_tmva             17.079611                     0.047949  0.396201   \n",
       "0         $e$              1.642418                     0.014869  0.301235   \n",
       "0    $e$_tmva              1.642418                     0.014869  0.301671   \n",
       "0       $\\mu$              5.438510                     0.027057  0.314152   \n",
       "0  $\\mu$_tmva              5.438510                     0.027057  0.321807   \n",
       "0         vtx             18.197761                     0.049494  0.405799   \n",
       "0    vtx_tmva             18.197761                     0.049494  0.406970   \n",
       "0         $K$             17.079611                     0.047949  0.398485   \n",
       "0    $K$_tmva             17.079611                     0.047949  0.395931   \n",
       "0         $e$              1.642418                     0.014869  0.302955   \n",
       "0    $e$_tmva              1.642418                     0.014869  0.302551   \n",
       "0       $\\mu$              5.438510                     0.027057  0.314624   \n",
       "0  $\\mu$_tmva              5.438510                     0.027057  0.324642   \n",
       "\n",
       "   $\\Delta w$     $D^2$  $\\Delta D^2$  $\\epsilon, \\%$  $\\Delta \\epsilon, \\%$  \n",
       "0    0.000001  0.050872      0.000001        0.925753               0.002518  \n",
       "0    0.000002  0.041699      0.000001        0.758823               0.002064  \n",
       "0    0.000003  0.054858      0.000002        0.936952               0.002631  \n",
       "0    0.000009  0.044024      0.000007        0.751917               0.002114  \n",
       "0    0.000018  0.179806      0.000051        0.295317               0.002675  \n",
       "0    0.000022  0.172269      0.000057        0.282938               0.002563  \n",
       "0    0.000004  0.171016      0.000014        0.930072               0.004628  \n",
       "0    0.000083  0.131924      0.000191        0.717471               0.003718  \n",
       "0    0.000001  0.051116      0.000001        0.930195               0.002530  \n",
       "0    0.000002  0.041712      0.000001        0.759057               0.002065  \n",
       "0    0.000002  0.054833      0.000002        0.936526               0.002629  \n",
       "0    0.000013  0.044159      0.000009        0.754222               0.002123  \n",
       "0    0.000020  0.176984      0.000041        0.290683               0.002632  \n",
       "0    0.000018  0.170955      0.000047        0.280780               0.002543  \n",
       "0    0.000005  0.169554      0.000010        0.922123               0.004588  \n",
       "0    0.000045  0.127780      0.000103        0.694934               0.003502  "
      ]
     },
     "execution_count": 44,
     "metadata": {},
     "output_type": "execute_result"
    }
   ],
   "source": [
    "pandas.concat(models)"
   ]
  },
  {
   "cell_type": "markdown",
   "metadata": {},
   "source": [
    "# Combination of all taggers"
   ]
  },
  {
   "cell_type": "code",
   "execution_count": 19,
   "metadata": {
    "collapsed": true
   },
   "outputs": [],
   "source": [
    "from scipy.special import logit\n",
    "from rep.utils import train_test_split\n",
    "from sklearn import clone\n",
    "from sklearn.isotonic import IsotonicRegression\n",
    "\n",
    "calib_iso = IsotonicRegression(y_min=0, y_max=1, out_of_bounds='clip')\n",
    "\n",
    "def calibrate_output(estimator, datasets, est_calib):\n",
    "    data = pandas.concat(datasets)\n",
    "    probs = union(*[estimator.predict_proba(dataset)[:, 1] for dataset in datasets])\n",
    "    ind = range(len(probs))\n",
    "    ind_1, ind_2 = train_test_split(ind)\n",
    "    est_calib_1, est_calib_2 = clone(est_calib), clone(est_calib)\n",
    "    probs_1 = probs[ind_1]\n",
    "    probs_2 = probs[ind_2]\n",
    "    data.index = ind\n",
    "    est_calib_1.fit(probs_1, data.ix[ind_1, 'label'], data.ix[ind_1, 'N_sig_sw'])\n",
    "    est_calib_2.fit(probs_2, data.ix[ind_2, 'label'], data.ix[ind_2, 'N_sig_sw'])\n",
    "    probs_result = numpy.zeros(len(probs))\n",
    "    probs_result[ind_1] = est_calib_2.transform(probs_1)\n",
    "    probs_result[ind_2] = est_calib_1.transform(probs_2)\n",
    "    return data, probs_result"
   ]
  },
  {
   "cell_type": "code",
   "execution_count": 20,
   "metadata": {
    "collapsed": true
   },
   "outputs": [],
   "source": [
    "def combine_taggers(data):\n",
    "    pb = numpy.ones(len(data))\n",
    "    pnb = numpy.ones(len(data))\n",
    "    for n in range(4):\n",
    "        mask = data['tag_{}'.format(n)].values != -99\n",
    "        prob = data['prob_{}'.format(n)][mask].values\n",
    "        tag = data['tag_{}'.format(n)][mask].values\n",
    "        pb_n = numpy.ones(len(data)) \n",
    "        pnb_n = numpy.ones(len(data)) \n",
    "        pb_n[mask] = (1 + tag) / 2 - tag * prob \n",
    "        pb *= pb_n\n",
    "        pnb_n[mask] = (1 - tag) / 2 + tag * prob\n",
    "        pnb *= pnb_n\n",
    "    probs = pb / (pb + pnb)\n",
    "    tag_result = numpy.ones(len(probs))\n",
    "    tag_result[probs > 0.5] = -1\n",
    "    return tag_result, 1 - probs, data.weight.values, data.signB.values"
   ]
  },
  {
   "cell_type": "code",
   "execution_count": 40,
   "metadata": {
    "collapsed": true
   },
   "outputs": [],
   "source": [
    "def calibrate_B_prob(probs, labels, weights, steps=30):\n",
    "    iso_calibs = []\n",
    "    D2 = []\n",
    "    omega = []\n",
    "    aucs = []\n",
    "    labels = (labels > 0) * 1\n",
    "    for step in range(steps):\n",
    "        train_probs, test_probs, train_labels, test_labels, train_weights, test_weights = train_test_split(\n",
    "            probs, labels, weights, train_size=0.5)\n",
    "        iso_est = IsotonicRegression(y_min=0, y_max=1, out_of_bounds='clip')\n",
    "        iso_est.fit(train_probs, train_labels, train_weights)\n",
    "        iso_calibs.append(iso_est)\n",
    "        probs_calib = iso_est.transform(test_probs)\n",
    "        alpha = (1 - 2 * (1 - probs_calib))**2\n",
    "        D2.append(sum(alpha * test_weights) / sum(test_weights))\n",
    "        omega.append(sum((1 - probs_calib) * test_weights) / sum(test_weights))\n",
    "        aucs.append(roc_auc_score(test_labels, probs_calib, sample_weight=test_weights))\n",
    "    hist(probs_calib[test_labels == 1], alpha=0.4, bins=70)\n",
    "    hist(probs_calib[test_labels == 0], alpha=0.4, bins=70)\n",
    "    show()\n",
    "    return D2, aucs, iso_calibs, omega"
   ]
  },
  {
   "cell_type": "code",
   "execution_count": 41,
   "metadata": {
    "collapsed": false
   },
   "outputs": [],
   "source": [
    "def combine(model_suffix=\"\", model_name=\"\"):\n",
    "    data_with_predictions = []\n",
    "    for n, (key, _) in enumerate(datasets.items()):\n",
    "        name = key + model_suffix\n",
    "        data, probs = calibrate_output(estimators[name], [data_sw_pass[n], data_sw_not_pass[n]], calib_iso)\n",
    "        ids = numpy.array(data.unique)\n",
    "        print roc_auc_score((data.signB.values * data.tagAnswer.values > 0) * 1, probs, \n",
    "                            sample_weight=data.N_sig_sw.values)\n",
    "        data_with_predictions.append(pandas.DataFrame({'prob_{}'.format(n): probs, \n",
    "                                                       'tag_{}'.format(n): data.tagAnswer.values,\n",
    "                                                       'weight': data.N_sig_sw.values,\n",
    "                                                       'signB': data.signB.values}, index=ids))\n",
    "    data_combined = pandas.DataFrame({'event': numpy.unique(numpy.concatenate([d.index.values for d in data_with_predictions]))})\n",
    "    data_combined.index = data_combined.event\n",
    "    for n in range(4):\n",
    "        data_combined['prob_{}'.format(n)] = -99\n",
    "        data_combined['tag_{}'.format(n)] = -99\n",
    "    for n, d in enumerate(data_with_predictions):\n",
    "        data_combined.ix[d.index, 'prob_{}'.format(n)] = d['prob_{}'.format(n)]\n",
    "        data_combined.ix[d.index, 'tag_{}'.format(n)] = d['tag_{}'.format(n)]\n",
    "        data_combined.ix[d.index, 'weight'] = d['weight']\n",
    "        data_combined.ix[d.index, 'signB'] = d['signB']\n",
    "    tag, probs, weight, Bsign = combine_taggers(data_combined)\n",
    "    hist(probs[Bsign ==1], alpha=0.4, bins=70)\n",
    "    hist(probs[Bsign ==-1], alpha=0.4, bins=70)\n",
    "    show()\n",
    "    fpr, tpr, _ = roc_curve(Bsign, probs, sample_weight=weight)\n",
    "    plot(fpr, tpr)\n",
    "    plot([0, 1], [0, 1])\n",
    "    show()\n",
    "    print 'AUC', roc_auc_score(Bsign, probs, sample_weight=weight)\n",
    "    eff_tag_combined = sum(weight) / N_all\n",
    "    eff_delta_combined = numpy.sqrt(sum(weight)) / N_all\n",
    "    D2 = sum(weight * (1 - 2*probs)**2) / sum(weight) \n",
    "    table = result_table(eff_tag_combined, eff_delta_combined, D2, 'w/o calib ' + model_name)\n",
    "    D2, aucs, _, omega = calibrate_B_prob(probs, Bsign, weight)\n",
    "    print numpy.mean(aucs), numpy.var(aucs)\n",
    "    table_calib = result_table(eff_tag_combined, eff_delta_combined, D2, model_name, omega)\n",
    "    return [table, table_calib]"
   ]
  },
  {
   "cell_type": "code",
   "execution_count": 42,
   "metadata": {
    "collapsed": false,
    "scrolled": false
   },
   "outputs": [
    {
     "name": "stdout",
     "output_type": "stream",
     "text": [
      "KFold prediction using folds column\n",
      "KFold prediction using folds column\n",
      "0.572040200233\n",
      "KFold prediction using folds column\n",
      "KFold prediction using folds column\n",
      "0.566978514194\n",
      "KFold prediction using folds column\n",
      "KFold prediction using folds column\n",
      "0.586112439632\n",
      "KFold prediction using folds column\n",
      "KFold prediction using folds column\n",
      "0.619908332825\n"
     ]
    },
    {
     "data": {
      "image/png": "[encoded data removed]",
      "text/plain": [
       "<matplotlib.figure.Figure at 0xf932a10>"
      ]
     },
     "metadata": {},
     "output_type": "display_data"
    },
    {
     "data": {
      "image/png": "[encoded data removed]",
      "text/plain": [
       "<matplotlib.figure.Figure at 0x12c0add0>"
      ]
     },
     "metadata": {},
     "output_type": "display_data"
    },
    {
     "name": "stdout",
     "output_type": "stream",
     "text": [
      "AUC 0.659420286458\n"
     ]
    },
    {
     "data": {
      "image/png": "[encoded data removed]",
      "text/plain": [
       "<matplotlib.figure.Figure at 0x8d71bd0>"
      ]
     },
     "metadata": {},
     "output_type": "display_data"
    },
    {
     "name": "stdout",
     "output_type": "stream",
     "text": [
      "0.659124899309 1.08331796253e-06\n",
      "KFold prediction using folds column\n",
      "KFold prediction using folds column\n",
      "0.550144612789\n",
      "KFold prediction using folds column\n",
      "KFold prediction using folds column\n",
      "0.500772356987\n",
      "KFold prediction using folds column\n",
      "KFold prediction using folds column\n",
      "0.567062854767\n",
      "KFold prediction using folds column\n",
      "KFold prediction using folds column\n",
      "0.526184797287\n"
     ]
    },
    {
     "data": {
      "image/png": "[encoded data removed]",
      "text/plain": [
       "<matplotlib.figure.Figure at 0x8385050>"
      ]
     },
     "metadata": {},
     "output_type": "display_data"
    },
    {
     "data": {
      "image/png": "[encoded data removed]",
      "text/plain": [
       "<matplotlib.figure.Figure at 0x5bfb350>"
      ]
     },
     "metadata": {},
     "output_type": "display_data"
    },
    {
     "name": "stdout",
     "output_type": "stream",
     "text": [
      "AUC 0.64957093144\n"
     ]
    },
    {
     "data": {
      "image/png": "[encoded data removed]",
      "text/plain": [
       "<matplotlib.figure.Figure at 0xf940c10>"
      ]
     },
     "metadata": {},
     "output_type": "display_data"
    },
    {
     "name": "stdout",
     "output_type": "stream",
     "text": [
      "0.649244141925 1.52538544995e-06\n"
     ]
    }
   ],
   "source": [
    "results = []\n",
    "results = results + combine(\"\", \"xgb_combined\")\n",
    "results = results + combine(\"_tmva\", \"tmva_combined\")"
   ]
  },
  {
   "cell_type": "code",
   "execution_count": 43,
   "metadata": {
    "collapsed": false
   },
   "outputs": [
    {
     "data": {
      "text/html": [
       "<div style=\"max-height:1000px;max-width:1500px;overflow:auto;\">\n",
       "<table border=\"1\" class=\"dataframe\">\n",
       "  <thead>\n",
       "    <tr style=\"text-align: right;\">\n",
       "      <th></th>\n",
       "      <th>$D^2$</th>\n",
       "      <th>$\\Delta D^2$</th>\n",
       "      <th>$\\Delta \\epsilon, \\%$</th>\n",
       "      <th>$\\Delta \\epsilon_{tag}, \\%$</th>\n",
       "      <th>$\\Delta w$</th>\n",
       "      <th>$\\epsilon, \\%$</th>\n",
       "      <th>$\\epsilon_{tag}, \\%$</th>\n",
       "      <th>$w$</th>\n",
       "      <th>name</th>\n",
       "    </tr>\n",
       "  </thead>\n",
       "  <tbody>\n",
       "    <tr>\n",
       "      <th>0</th>\n",
       "      <td> 0.105638</td>\n",
       "      <td> 0.000000</td>\n",
       "      <td> 0.007012</td>\n",
       "      <td> 0.066382</td>\n",
       "      <td>      NaN</td>\n",
       "      <td> 3.458053</td>\n",
       "      <td> 32.734997</td>\n",
       "      <td>      NaN</td>\n",
       "      <td>  w/o calib xgb_combined</td>\n",
       "    </tr>\n",
       "    <tr>\n",
       "      <th>0</th>\n",
       "      <td> 0.070458</td>\n",
       "      <td> 0.000003</td>\n",
       "      <td> 0.004678</td>\n",
       "      <td> 0.066382</td>\n",
       "      <td> 0.000006</td>\n",
       "      <td> 2.306438</td>\n",
       "      <td> 32.734997</td>\n",
       "      <td> 0.488732</td>\n",
       "      <td>            xgb_combined</td>\n",
       "    </tr>\n",
       "    <tr>\n",
       "      <th>0</th>\n",
       "      <td> 0.090335</td>\n",
       "      <td> 0.000000</td>\n",
       "      <td> 0.005997</td>\n",
       "      <td> 0.066382</td>\n",
       "      <td>      NaN</td>\n",
       "      <td> 2.957131</td>\n",
       "      <td> 32.734997</td>\n",
       "      <td>      NaN</td>\n",
       "      <td> w/o calib tmva_combined</td>\n",
       "    </tr>\n",
       "    <tr>\n",
       "      <th>0</th>\n",
       "      <td> 0.061946</td>\n",
       "      <td> 0.000010</td>\n",
       "      <td> 0.004125</td>\n",
       "      <td> 0.066382</td>\n",
       "      <td> 0.000015</td>\n",
       "      <td> 2.027798</td>\n",
       "      <td> 32.734997</td>\n",
       "      <td> 0.489087</td>\n",
       "      <td>           tmva_combined</td>\n",
       "    </tr>\n",
       "  </tbody>\n",
       "</table>\n",
       "</div>"
      ],
      "text/plain": [
       "      $D^2$  $\\Delta D^2$  $\\Delta \\epsilon, \\%$  $\\Delta \\epsilon_{tag}, \\%$  \\\n",
       "0  0.105638      0.000000               0.007012                     0.066382   \n",
       "0  0.070458      0.000003               0.004678                     0.066382   \n",
       "0  0.090335      0.000000               0.005997                     0.066382   \n",
       "0  0.061946      0.000010               0.004125                     0.066382   \n",
       "\n",
       "   $\\Delta w$  $\\epsilon, \\%$  $\\epsilon_{tag}, \\%$       $w$  \\\n",
       "0         NaN        3.458053             32.734997       NaN   \n",
       "0    0.000006        2.306438             32.734997  0.488732   \n",
       "0         NaN        2.957131             32.734997       NaN   \n",
       "0    0.000015        2.027798             32.734997  0.489087   \n",
       "\n",
       "                      name  \n",
       "0   w/o calib xgb_combined  \n",
       "0             xgb_combined  \n",
       "0  w/o calib tmva_combined  \n",
       "0            tmva_combined  "
      ]
     },
     "execution_count": 43,
     "metadata": {},
     "output_type": "execute_result"
    }
   ],
   "source": [
    "pandas.concat(results)"
   ]
  },
  {
   "cell_type": "code",
   "execution_count": null,
   "metadata": {
    "collapsed": true
   },
   "outputs": [],
   "source": []
  }
 ],
 "metadata": {
  "kernelspec": {
   "display_name": "Python 2",
   "language": "python",
   "name": "python2"
  }
 },
 "nbformat": 4,
 "nbformat_minor": 0
}
