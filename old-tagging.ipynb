{
 "cells": [
  {
   "cell_type": "code",
   "execution_count": 1,
   "metadata": {
    "collapsed": false,
    "scrolled": true
   },
   "outputs": [
    {
     "name": "stdout",
     "output_type": "stream",
     "text": [
      "Populating the interactive namespace from numpy and matplotlib\n"
     ]
    }
   ],
   "source": [
    "%pylab inline"
   ]
  },
  {
   "cell_type": "markdown",
   "metadata": {},
   "source": [
    "##Import"
   ]
  },
  {
   "cell_type": "code",
   "execution_count": 2,
   "metadata": {
    "collapsed": false
   },
   "outputs": [],
   "source": [
    "from collections import OrderedDict\n",
    "import numpy\n",
    "import pandas\n",
    "\n",
    "from sklearn.ensemble import RandomForestClassifier\n",
    "from sklearn.metrics import roc_curve, roc_auc_score\n",
    "\n",
    "from rep.metaml import FoldingClassifier\n",
    "from rep_ef.estimators import MatrixNetSkyGridClassifier"
   ]
  },
  {
   "cell_type": "code",
   "execution_count": 3,
   "metadata": {
    "collapsed": false
   },
   "outputs": [],
   "source": [
    "from utils import get_N_B_events, predict_by_estimator, bootstrap_calibrate_prob\n",
    "from utils import get_events_number, get_events_statistics, result_table"
   ]
  },
  {
   "cell_type": "markdown",
   "metadata": {},
   "source": [
    "## Reading initial data"
   ]
  },
  {
   "cell_type": "code",
   "execution_count": 4,
   "metadata": {
    "collapsed": false
   },
   "outputs": [],
   "source": [
    "import root_numpy\n",
    "data_ele = pandas.DataFrame(root_numpy.root2array('datasets/old_tagging/nnet_ele.root'))\n",
    "data_muon = pandas.DataFrame(root_numpy.root2array('datasets/old_tagging/nnet_muon.root'))\n",
    "data_kaon = pandas.DataFrame(root_numpy.root2array('datasets/old_tagging/nnet_kaon.root'))\n",
    "data_vtx = pandas.DataFrame(root_numpy.root2array('datasets/old_tagging/nnet_vtx.root'))"
   ]
  },
  {
   "cell_type": "code",
   "execution_count": 5,
   "metadata": {
    "collapsed": false
   },
   "outputs": [
    {
     "data": {
      "text/plain": [
       "Index([u'iscorrect', u'tagAnswer', u'signVtx', u'tagger', u'evtNum', u'runNum', u'nnkrec', u'mult', u'ptB', u'etaB', u'partP', u'partPt', u'IPPU', u'PIDm', u'PIDe', u'PIDk', u'PIDpk', u'eOverP', u'veloch', u'PIDNNe', u'PIDNNm', u'PIDNNpi', u'PIDNNk', u'PIDNNp', u'IPs', u'IPssign', u'partlcs', u'partTheta', u'partPhi', u'ghostProb', u'nndr', u'nndeta', u'nndphi', u'nndq', u'vflag', u'ptmean', u'ipsmean', u'ipsmean2', u'ptsum', u'docamax', u'maxprobf', u'vratio', u'vcharge', u'svtau', u'svm', u'BDphiDir', u'svp', u'om_muon', u'om_ele', u'om_kaon', u'om_same', u'om_vtx', u'N_sig_sw'], dtype='object')"
      ]
     },
     "execution_count": 5,
     "metadata": {},
     "output_type": "execute_result"
    }
   ],
   "source": [
    "data_ele.columns"
   ]
  },
  {
   "cell_type": "code",
   "execution_count": 6,
   "metadata": {
    "collapsed": true
   },
   "outputs": [],
   "source": [
    "datasets = {'$e$': data_ele, '$\\mu$': data_muon, '$K$': data_kaon, 'vtx': data_vtx}"
   ]
  },
  {
   "cell_type": "code",
   "execution_count": 7,
   "metadata": {
    "collapsed": false
   },
   "outputs": [],
   "source": [
    "for name, data in datasets.items():\n",
    "    data['label'] = data.iscorrect\n",
    "    # reconstructing sign of B using tagger answer and iscorrect (simulation fail)\n",
    "    data['signB'] = data.tagAnswer * (2 * data.iscorrect - 1)\n",
    "    data['event_id'] = data.runNum.apply(str) + '_' + data.evtNum.apply(str)"
   ]
  },
  {
   "cell_type": "markdown",
   "metadata": {},
   "source": [
    "## Features used in training"
   ]
  },
  {
   "cell_type": "code",
   "execution_count": 8,
   "metadata": {
    "collapsed": true
   },
   "outputs": [],
   "source": [
    "features_vtx = ['mult', 'nnkrec', 'ptB', 'vflag', 'ipsmean', 'ptmean', 'vcharge', \n",
    "                'svm', 'svp', 'BDphiDir', 'svtau', 'docamax']\n",
    "\n",
    "features_ele = ['mult', 'partPt', 'partP', 'ptB', 'IPs', 'partlcs', 'eOverP', 'ghostProb', 'IPPU']\n",
    "features_muon = ['mult', 'partPt', 'partP', 'ptB', 'IPs', 'partlcs', 'PIDNNm', 'ghostProb', 'IPPU']\n",
    "features_kaon = ['mult', 'partP', 'partPt', 'nnkrec', 'ptB', 'IPs', 'partlcs', \n",
    "                'PIDNNk', 'PIDNNpi', 'PIDNNp', 'ghostProb', 'IPPU']\n",
    "\n",
    "features_tr = ['mult', 'partPt', 'partP', 'ptB', 'IPs', 'partlcs', 'ghostProb', 'IPPU', 'eOverP', \n",
    "               'PIDNNpi', 'PIDNNp', 'PIDNNk', 'PIDNNm', 'PIDNNe', 'nnkrec', 'partTheta', 'partPhi',\n",
    "               'veloch']\n",
    "                                    \n",
    "features_tmva = {'$e$': features_ele, '$\\mu$': features_muon,\n",
    "                 '$K$': features_kaon, 'vtx': features_vtx}\n",
    "\n",
    "features_xgb = {'$e$': features_tr, '$\\mu$': features_tr,\n",
    "                '$K$': features_tr, 'vtx': features_vtx}"
   ]
  },
  {
   "cell_type": "code",
   "execution_count": 9,
   "metadata": {
    "collapsed": false
   },
   "outputs": [
    {
     "data": {
      "text/plain": [
       "742867.7142562866"
      ]
     },
     "execution_count": 9,
     "metadata": {},
     "output_type": "execute_result"
    }
   ],
   "source": [
    "get_N_B_events()"
   ]
  },
  {
   "cell_type": "code",
   "execution_count": 10,
   "metadata": {
    "collapsed": false
   },
   "outputs": [],
   "source": [
    "result = OrderedDict()"
   ]
  },
  {
   "cell_type": "markdown",
   "metadata": {},
   "source": [
    "## Calculate $1 - \\text{untag_efficiency}$ for each datasets"
   ]
  },
  {
   "cell_type": "code",
   "execution_count": 11,
   "metadata": {
    "collapsed": false
   },
   "outputs": [],
   "source": [
    "tagging_efficiecies = []\n",
    "tagging_efficiecies_delta = []\n",
    "\n",
    "for key, data in datasets.items():\n",
    "    N_B_passed = get_events_number(data)\n",
    "    tagging_efficiecies.append(1. * N_B_passed / get_N_B_events())\n",
    "    tagging_efficiecies_delta.append(sqrt(N_B_passed) / get_N_B_events())\n",
    "result['$\\epsilon_{tag}$'] = tagging_efficiecies\n",
    "result['$\\Delta\\epsilon_{tag}$'] = tagging_efficiecies_delta"
   ]
  },
  {
   "cell_type": "code",
   "execution_count": 12,
   "metadata": {
    "collapsed": false
   },
   "outputs": [
    {
     "data": {
      "text/html": [
       "<div style=\"max-height:1000px;max-width:1500px;overflow:auto;\">\n",
       "<table border=\"1\" class=\"dataframe\">\n",
       "  <thead>\n",
       "    <tr style=\"text-align: right;\">\n",
       "      <th></th>\n",
       "      <th>$\\epsilon_{tag}$</th>\n",
       "      <th>$\\Delta\\epsilon_{tag}$</th>\n",
       "    </tr>\n",
       "  </thead>\n",
       "  <tbody>\n",
       "    <tr>\n",
       "      <th>vtx</th>\n",
       "      <td> 0.181978</td>\n",
       "      <td> 0.000495</td>\n",
       "    </tr>\n",
       "    <tr>\n",
       "      <th>$K$</th>\n",
       "      <td> 0.170796</td>\n",
       "      <td> 0.000479</td>\n",
       "    </tr>\n",
       "    <tr>\n",
       "      <th>$e$</th>\n",
       "      <td> 0.016424</td>\n",
       "      <td> 0.000149</td>\n",
       "    </tr>\n",
       "    <tr>\n",
       "      <th>$\\mu$</th>\n",
       "      <td> 0.054385</td>\n",
       "      <td> 0.000271</td>\n",
       "    </tr>\n",
       "  </tbody>\n",
       "</table>\n",
       "</div>"
      ],
      "text/plain": [
       "       $\\epsilon_{tag}$  $\\Delta\\epsilon_{tag}$\n",
       "vtx            0.181978                0.000495\n",
       "$K$            0.170796                0.000479\n",
       "$e$            0.016424                0.000149\n",
       "$\\mu$          0.054385                0.000271"
      ]
     },
     "execution_count": 12,
     "metadata": {},
     "output_type": "execute_result"
    }
   ],
   "source": [
    "tagging_efficiencies_table = pandas.DataFrame(result, index=datasets.keys())\n",
    "tagging_efficiencies_table"
   ]
  },
  {
   "cell_type": "markdown",
   "metadata": {},
   "source": [
    "### Define B-like events for training and others for prediction\n",
    "using the threshold on sweight for splitting"
   ]
  },
  {
   "cell_type": "code",
   "execution_count": 13,
   "metadata": {
    "collapsed": false
   },
   "outputs": [],
   "source": [
    "sweight_threshold = 0.\n",
    "\n",
    "data_sw_passed = dict([(key, data[data.N_sig_sw > sweight_threshold]) for key, data in datasets.items()])\n",
    "data_sw_not_passed = dict([(key, data[data.N_sig_sw <= sweight_threshold]) for key, data in datasets.items()])"
   ]
  },
  {
   "cell_type": "code",
   "execution_count": 14,
   "metadata": {
    "collapsed": false
   },
   "outputs": [
    {
     "name": "stdout",
     "output_type": "stream",
     "text": [
      "vtx {'tracks': 157236, 'Events': 157236}\n",
      "$K$ {'tracks': 143163, 'Events': 143163}\n",
      "$e$ {'tracks': 13324, 'Events': 13324}\n",
      "$\\mu$ {'tracks': 45398, 'Events': 45398}\n"
     ]
    }
   ],
   "source": [
    "for key, data in data_sw_passed.items():\n",
    "    print key, get_events_statistics(data)"
   ]
  },
  {
   "cell_type": "code",
   "execution_count": 15,
   "metadata": {
    "collapsed": false
   },
   "outputs": [
    {
     "name": "stdout",
     "output_type": "stream",
     "text": [
      "vtx {'tracks': 44195, 'Events': 44194}\n",
      "$K$ {'tracks': 33409, 'Events': 33408}\n",
      "$e$ {'tracks': 2305, 'Events': 2305}\n",
      "$\\mu$ {'tracks': 10236, 'Events': 10236}\n"
     ]
    }
   ],
   "source": [
    "for key, data in data_sw_not_passed.items():\n",
    "    print key, get_events_statistics(data)"
   ]
  },
  {
   "cell_type": "code",
   "execution_count": 16,
   "metadata": {
    "collapsed": true
   },
   "outputs": [],
   "source": [
    "estimators = OrderedDict()"
   ]
  },
  {
   "cell_type": "markdown",
   "metadata": {},
   "source": [
    "### TMVA"
   ]
  },
  {
   "cell_type": "code",
   "execution_count": 17,
   "metadata": {
    "collapsed": true
   },
   "outputs": [],
   "source": [
    "from rep.estimators import TMVAClassifier"
   ]
  },
  {
   "cell_type": "code",
   "execution_count": 18,
   "metadata": {
    "collapsed": false
   },
   "outputs": [],
   "source": [
    "from rep.estimators import TMVAClassifier\n",
    "from rep.metaml import FoldingClassifier\n",
    "\n",
    "tmva_base_muon = TMVAClassifier(method='kMLP', factory_options='Transformations=I', sigmoid_function='identity',\n",
    "                                NeuronType='tanh', NCycles=280, HiddenLayers='N+5', TrainingMethod='BFGS', TestRate=5,\n",
    "                                UseRegulator=True, EstimatorType='CE')\n",
    "\n",
    "tmva_base_ele = TMVAClassifier(method='kMLP', factory_options='Transformations=I', sigmoid_function='identity',\n",
    "                               NeuronType='sigmoid', NCycles=180, HiddenLayers='N+5', TrainingMethod='BFGS', \n",
    "                               UseRegulator=True)\n",
    "\n",
    "tmva_base_kaon_vtx = TMVAClassifier(method='kMLP', factory_options='Transformations=I', \n",
    "                                    sigmoid_function='identity',\n",
    "                                    NeuronType='tanh', NCycles=180, HiddenLayers='N+5', TrainingMethod='BFGS', \n",
    "                                    UseRegulator=True, EstimatorType='CE')\n",
    "\n",
    "\n",
    "for key, data in data_sw_passed.items():\n",
    "    if 'e' in key:\n",
    "        tmva_base = tmva_base_ele\n",
    "    elif 'mu' in key:\n",
    "        tmva_base = tmva_base_muon\n",
    "    else:\n",
    "        tmva_base = tmva_base_kaon_vtx\n",
    "    estimators[key + '_tmva'] = FoldingClassifier(tmva_base, n_folds=2, random_state=11, ipc_profile='ssh-ipy',\n",
    "                                                  features=features_tmva[key])\n",
    "    estimators[key + '_tmva'].fit(data, data['label'], data['N_sig_sw'])"
   ]
  },
  {
   "cell_type": "markdown",
   "metadata": {},
   "source": [
    "### XGBoost"
   ]
  },
  {
   "cell_type": "code",
   "execution_count": 19,
   "metadata": {
    "collapsed": false
   },
   "outputs": [],
   "source": [
    "from rep.estimators import XGBoostClassifier\n",
    "from rep.metaml import FoldingClassifier\n",
    "\n",
    "xgb_base_ele = XGBoostClassifier(colsample=1.0, eta=0.01, nthreads=4, \n",
    "                                 n_estimators=200, subsample=0.3, max_depth=5) \n",
    "\n",
    "xgb_base_other = XGBoostClassifier(colsample=1.0, eta=0.01, nthreads=4, \n",
    "                                   n_estimators=500, subsample=0.3, max_depth=3) \n",
    "\n",
    "for key, data in data_sw_passed.items():\n",
    "    if 'e' in key:\n",
    "        xgb_base = xgb_base_ele\n",
    "    else:\n",
    "        xgb_base = xgb_base_other\n",
    "        \n",
    "    estimators[key + '_xgboost'] = FoldingClassifier(xgb_base, n_folds=2, random_state=11, ipc_profile='ssh-ipy',\n",
    "                                                     features=features_xgb[key])\n",
    "    estimators[key + '_xgboost'].fit(data, data['label'], data['N_sig_sw'])"
   ]
  },
  {
   "cell_type": "code",
   "execution_count": 20,
   "metadata": {
    "collapsed": false
   },
   "outputs": [],
   "source": [
    "import cPickle\n",
    "with open('models/old-tagging.pkl', 'w') as f:\n",
    "    cPickle.dump(estimators, f)"
   ]
  },
  {
   "cell_type": "code",
   "execution_count": 21,
   "metadata": {
    "collapsed": false
   },
   "outputs": [
    {
     "name": "stdout",
     "output_type": "stream",
     "text": [
      "KFold prediction using folds column\n",
      "vtx_xgboost AUC: 0.568958759308\n",
      "KFold prediction using folds column\n",
      "vtx_tmva AUC: 0.546857893467\n",
      "KFold prediction using folds column\n",
      "$K$_xgboost AUC: 0.566317558289\n",
      "KFold prediction using folds column\n",
      "$K$_tmva AUC: 0.545140028\n",
      "KFold prediction using folds column\n",
      "$e$_xgboost AUC: 0.588713169098\n",
      "KFold prediction using folds column\n",
      "$e$_tmva AUC: 0.578032553196\n",
      "KFold prediction using folds column\n",
      "$\\mu$_xgboost AUC: 0.616870701313\n",
      "KFold prediction using folds column\n",
      "$\\mu$_tmva AUC: 0.60550391674\n"
     ]
    }
   ],
   "source": [
    "for key, _ in datasets.items():\n",
    "    for suffix in ['_xgboost', '_tmva']:\n",
    "        name = key + suffix\n",
    "        probs = estimators[name].predict_proba(data_sw_passed[key])[:, 1]\n",
    "        print name, 'AUC:', roc_auc_score(data_sw_passed[key]['label'].values, \n",
    "                                          probs, sample_weight=data_sw_passed[key]['N_sig_sw'].values)"
   ]
  },
  {
   "cell_type": "markdown",
   "metadata": {},
   "source": [
    "--------"
   ]
  },
  {
   "cell_type": "markdown",
   "metadata": {},
   "source": [
    "## Calculate quality for each tagger (ele, muon, kaon, vtx)\n",
    "\n",
    "using isotonic calibration with bootstrap"
   ]
  },
  {
   "cell_type": "code",
   "execution_count": 22,
   "metadata": {
    "collapsed": true
   },
   "outputs": [],
   "source": [
    "models = []"
   ]
  },
  {
   "cell_type": "code",
   "execution_count": 23,
   "metadata": {
    "collapsed": false
   },
   "outputs": [
    {
     "name": "stdout",
     "output_type": "stream",
     "text": [
      "KFold prediction using folds column\n",
      "KFold prediction using folds column\n",
      "vtx_xgboost AUC: 0.571984686454 AUC delta 0.00194738399544\n",
      "KFold prediction using folds column\n",
      "KFold prediction using folds column\n",
      "vtx_tmva AUC: 0.549553102255 AUC delta 0.00180471154176\n",
      "KFold prediction using folds column\n",
      "KFold prediction using folds column\n",
      "$K$_xgboost AUC: 0.567998558283 AUC delta 0.00130036192652\n",
      "KFold prediction using folds column\n",
      "KFold prediction using folds column\n",
      "$K$_tmva AUC: 0.54444070061 AUC delta 0.00201123697597\n",
      "KFold prediction using folds column\n",
      "KFold prediction using folds column\n",
      "$e$_xgboost AUC: 0.589169506232 AUC delta 0.0052482638659\n",
      "KFold prediction using folds column\n",
      "KFold prediction using folds column\n",
      "$e$_tmva AUC: 0.578294150035 AUC delta 0.00604454670907\n",
      "KFold prediction using folds column\n",
      "KFold prediction using folds column\n",
      "$\\mu$_xgboost AUC: 0.622159639994 AUC delta 0.0035700769756\n",
      "KFold prediction using folds column\n",
      "KFold prediction using folds column\n",
      "$\\mu$_tmva AUC: 0.606719684601 AUC delta 0.00321494327989\n"
     ]
    }
   ],
   "source": [
    "for key, _ in datasets.items():\n",
    "    for suffix in ['_xgboost', '_tmva']:\n",
    "        name = key +  suffix\n",
    "        data_predicted, probs = predict_by_estimator(estimators[name], [data_sw_passed[key], data_sw_not_passed[key]])\n",
    "        D2, aucs = bootstrap_calibrate_prob(data_predicted.label.values, data_predicted.N_sig_sw.values,\n",
    "                                            probs, n_calibrations=30)\n",
    "        print name, 'AUC:', numpy.mean(aucs), 'AUC delta', numpy.std(aucs)\n",
    "        tagging_efficiency, tagging_efficiency_delta = \\\n",
    "            numpy.array(tagging_efficiencies_table[tagging_efficiencies_table.index == key])[0]\n",
    "        models.append(result_table(tagging_efficiency, tagging_efficiency_delta, D2, 0., name))"
   ]
  },
  {
   "cell_type": "code",
   "execution_count": 24,
   "metadata": {
    "collapsed": false
   },
   "outputs": [
    {
     "data": {
      "text/html": [
       "<div style=\"max-height:1000px;max-width:1500px;overflow:auto;\">\n",
       "<table border=\"1\" class=\"dataframe\">\n",
       "  <thead>\n",
       "    <tr style=\"text-align: right;\">\n",
       "      <th></th>\n",
       "      <th>name</th>\n",
       "      <th>$\\epsilon_{tag}, \\%$</th>\n",
       "      <th>$\\Delta \\epsilon_{tag}, \\%$</th>\n",
       "      <th>$D^2$</th>\n",
       "      <th>$\\Delta D^2$</th>\n",
       "      <th>$\\epsilon, \\%$</th>\n",
       "      <th>$\\Delta \\epsilon, \\%$</th>\n",
       "      <th>AUC, with untag</th>\n",
       "      <th>$\\Delta$ AUC, with untag</th>\n",
       "    </tr>\n",
       "  </thead>\n",
       "  <tbody>\n",
       "    <tr>\n",
       "      <th>0</th>\n",
       "      <td>   vtx_xgboost</td>\n",
       "      <td> 18.197761</td>\n",
       "      <td> 0.049494</td>\n",
       "      <td> 0.051041</td>\n",
       "      <td> 0.001204</td>\n",
       "      <td> 0.928835</td>\n",
       "      <td> 0.022048</td>\n",
       "      <td> 0</td>\n",
       "      <td> 0</td>\n",
       "    </tr>\n",
       "    <tr>\n",
       "      <th>0</th>\n",
       "      <td>      vtx_tmva</td>\n",
       "      <td> 18.197761</td>\n",
       "      <td> 0.049494</td>\n",
       "      <td> 0.041750</td>\n",
       "      <td> 0.001080</td>\n",
       "      <td> 0.759760</td>\n",
       "      <td> 0.019759</td>\n",
       "      <td> 0</td>\n",
       "      <td> 0</td>\n",
       "    </tr>\n",
       "    <tr>\n",
       "      <th>0</th>\n",
       "      <td>   $K$_xgboost</td>\n",
       "      <td> 17.079611</td>\n",
       "      <td> 0.047949</td>\n",
       "      <td> 0.055012</td>\n",
       "      <td> 0.001113</td>\n",
       "      <td> 0.939581</td>\n",
       "      <td> 0.019186</td>\n",
       "      <td> 0</td>\n",
       "      <td> 0</td>\n",
       "    </tr>\n",
       "    <tr>\n",
       "      <th>0</th>\n",
       "      <td>      $K$_tmva</td>\n",
       "      <td> 17.079611</td>\n",
       "      <td> 0.047949</td>\n",
       "      <td> 0.047596</td>\n",
       "      <td> 0.001197</td>\n",
       "      <td> 0.812917</td>\n",
       "      <td> 0.020575</td>\n",
       "      <td> 0</td>\n",
       "      <td> 0</td>\n",
       "    </tr>\n",
       "    <tr>\n",
       "      <th>0</th>\n",
       "      <td>   $e$_xgboost</td>\n",
       "      <td>  1.642418</td>\n",
       "      <td> 0.014869</td>\n",
       "      <td> 0.177646</td>\n",
       "      <td> 0.006891</td>\n",
       "      <td> 0.291768</td>\n",
       "      <td> 0.011621</td>\n",
       "      <td> 0</td>\n",
       "      <td> 0</td>\n",
       "    </tr>\n",
       "    <tr>\n",
       "      <th>0</th>\n",
       "      <td>      $e$_tmva</td>\n",
       "      <td>  1.642418</td>\n",
       "      <td> 0.014869</td>\n",
       "      <td> 0.172428</td>\n",
       "      <td> 0.006744</td>\n",
       "      <td> 0.283198</td>\n",
       "      <td> 0.011369</td>\n",
       "      <td> 0</td>\n",
       "      <td> 0</td>\n",
       "    </tr>\n",
       "    <tr>\n",
       "      <th>0</th>\n",
       "      <td> $\\mu$_xgboost</td>\n",
       "      <td>  5.438510</td>\n",
       "      <td> 0.027057</td>\n",
       "      <td> 0.170483</td>\n",
       "      <td> 0.003694</td>\n",
       "      <td> 0.927175</td>\n",
       "      <td> 0.020614</td>\n",
       "      <td> 0</td>\n",
       "      <td> 0</td>\n",
       "    </tr>\n",
       "    <tr>\n",
       "      <th>0</th>\n",
       "      <td>    $\\mu$_tmva</td>\n",
       "      <td>  5.438510</td>\n",
       "      <td> 0.027057</td>\n",
       "      <td> 0.165106</td>\n",
       "      <td> 0.004528</td>\n",
       "      <td> 0.897930</td>\n",
       "      <td> 0.025030</td>\n",
       "      <td> 0</td>\n",
       "      <td> 0</td>\n",
       "    </tr>\n",
       "  </tbody>\n",
       "</table>\n",
       "</div>"
      ],
      "text/plain": [
       "            name  $\\epsilon_{tag}, \\%$  $\\Delta \\epsilon_{tag}, \\%$     $D^2$  \\\n",
       "0    vtx_xgboost             18.197761                     0.049494  0.051041   \n",
       "0       vtx_tmva             18.197761                     0.049494  0.041750   \n",
       "0    $K$_xgboost             17.079611                     0.047949  0.055012   \n",
       "0       $K$_tmva             17.079611                     0.047949  0.047596   \n",
       "0    $e$_xgboost              1.642418                     0.014869  0.177646   \n",
       "0       $e$_tmva              1.642418                     0.014869  0.172428   \n",
       "0  $\\mu$_xgboost              5.438510                     0.027057  0.170483   \n",
       "0     $\\mu$_tmva              5.438510                     0.027057  0.165106   \n",
       "\n",
       "   $\\Delta D^2$  $\\epsilon, \\%$  $\\Delta \\epsilon, \\%$  AUC, with untag  \\\n",
       "0      0.001204        0.928835               0.022048                0   \n",
       "0      0.001080        0.759760               0.019759                0   \n",
       "0      0.001113        0.939581               0.019186                0   \n",
       "0      0.001197        0.812917               0.020575                0   \n",
       "0      0.006891        0.291768               0.011621                0   \n",
       "0      0.006744        0.283198               0.011369                0   \n",
       "0      0.003694        0.927175               0.020614                0   \n",
       "0      0.004528        0.897930               0.025030                0   \n",
       "\n",
       "   $\\Delta$ AUC, with untag  \n",
       "0                         0  \n",
       "0                         0  \n",
       "0                         0  \n",
       "0                         0  \n",
       "0                         0  \n",
       "0                         0  \n",
       "0                         0  \n",
       "0                         0  "
      ]
     },
     "execution_count": 24,
     "metadata": {},
     "output_type": "execute_result"
    }
   ],
   "source": [
    "pandas.concat(models)"
   ]
  },
  {
   "cell_type": "markdown",
   "metadata": {},
   "source": [
    "---------------------"
   ]
  },
  {
   "cell_type": "markdown",
   "metadata": {},
   "source": [
    "# Combination of all taggers"
   ]
  },
  {
   "cell_type": "code",
   "execution_count": 25,
   "metadata": {
    "collapsed": false
   },
   "outputs": [],
   "source": [
    "from utils import predict_by_estimator, bootstrap_calibrate_prob, calculate_auc_with_and_without_untag_events\n",
    "from utils import calibrate_probs"
   ]
  },
  {
   "cell_type": "code",
   "execution_count": 26,
   "metadata": {
    "collapsed": true
   },
   "outputs": [],
   "source": [
    "def combine_taggers(tagger_outputs, tagger_keys):\n",
    "    \"\"\"\n",
    "    Copy-pasted formulas (5.1), (5.2) from [TODO link].\n",
    "    Formulas by themselves are not readable, please refer to context.\n",
    "    \n",
    "    :param tagger_outputs: output of tagger for tracks. \n",
    "     There are 4 taggers, each having \n",
    "     tag_n - tagger output. \n",
    "     prob_n - probability of right tagged.\n",
    "    \"\"\"\n",
    "    pb = []\n",
    "    pnb = []\n",
    "    for key in tagger_keys:\n",
    "        prob = tagger_outputs['prob_{}'.format(key)].values\n",
    "        tag = tagger_outputs['tag_{}'.format(key)].values\n",
    "        pb.append((1 + tag) / 2 - tag * prob)\n",
    "        pnb.append((1 - tag) / 2 + tag * prob)\n",
    "    pb = numpy.prod(pb, axis=0)\n",
    "    pnb = numpy.prod(pnb, axis=0)\n",
    "    probs_wrong = pb / (pb + pnb)\n",
    "    tag_result = numpy.ones(len(probs_wrong))\n",
    "    tag_result[probs_wrong > 0.5] = -1\n",
    "    return tag_result, 1 - probs_wrong, tagger_outputs.weight.values, tagger_outputs.signB.values"
   ]
  },
  {
   "cell_type": "code",
   "execution_count": 27,
   "metadata": {
    "collapsed": false
   },
   "outputs": [],
   "source": [
    "def run_combine(model_suffix=\"\", model_name=\"\", logistic=False):\n",
    "    \"\"\"\n",
    "    :param suffix: suffix used for taggers\n",
    "    :param model_name: name for model after combining classifiers\n",
    "    \"\"\"\n",
    "    data_with_predictions = {}\n",
    "    # computing calibrated predictions of each tagger\n",
    "    for key in datasets.keys():\n",
    "        name = key + model_suffix\n",
    "        data, probs = predict_by_estimator(estimators[name], [data_sw_passed[key], data_sw_not_passed[key]])\n",
    "        probs_calibrated = calibrate_probs(data.label.values, data.N_sig_sw.values, probs, logistic=logistic)\n",
    "            \n",
    "        ids = numpy.array(data['event_id'])\n",
    "        data_with_predictions[key] = pandas.DataFrame({'prob_{}'.format(key): probs_calibrated, \n",
    "                                                       'tag_{}'.format(key): data.tagAnswer.values,\n",
    "                                                       'weight': data.N_sig_sw.values,\n",
    "                                                       'signB': data.signB.values}, index=ids)\n",
    "    # collecting all together, \n",
    "    # setting tag_n = -99 if untagged\n",
    "    data_combined = pandas.DataFrame({'event_id': numpy.unique(numpy.concatenate([d.index.values for d in \n",
    "                                                                                 data_with_predictions.values()]))})\n",
    "    data_combined.index = data_combined.event_id\n",
    "    tagger_keys = datasets.keys()\n",
    "    for key in tagger_keys:\n",
    "        data_combined['prob_{}'.format(key)] = 0.5\n",
    "        data_combined['tag_{}'.format(key)] = 1\n",
    "    for key, d in data_with_predictions.items():\n",
    "        data_combined.ix[d.index, 'prob_{}'.format(key)] = d['prob_{}'.format(key)]\n",
    "        data_combined.ix[d.index, 'tag_{}'.format(key)] = d['tag_{}'.format(key)]\n",
    "        data_combined.ix[d.index, 'weight'] = d['weight']\n",
    "        data_combined.ix[d.index, 'signB'] = d['signB']\n",
    "    \n",
    "    # getting predictions\n",
    "    tags, Bprobs, Bweights, Bsign = combine_taggers(data_combined, tagger_keys)\n",
    "\n",
    "    auc, auc_full = calculate_auc_with_and_without_untag_events(Bsign, Bprobs, Bweights)\n",
    "    print 'AUC for tagged:', auc, 'AUC with untag:', auc_full\n",
    "    \n",
    "    hist(Bprobs[Bsign == 1], alpha=0.4, bins=70, weights=Bweights[Bsign == 1], label='$B^+$')\n",
    "    hist(Bprobs[Bsign == -1], alpha=0.4, bins=70, weights=Bweights[Bsign == -1], label='$B^-$')\n",
    "    legend(), title('B probs'), show()\n",
    "    \n",
    "    fpr, tpr, _ = roc_curve(Bsign, Bprobs, sample_weight=Bweights)\n",
    "    plot(fpr, tpr), plot([0, 1], [0, 1]), show()\n",
    "\n",
    "    tagging_efficiency_combined = sum(Bweights) / get_N_B_events()\n",
    "    tagging_efficiency_combined_delta = numpy.sqrt(sum(Bweights)) / get_N_B_events()\n",
    "    \n",
    "    D2, aucs = bootstrap_calibrate_prob(Bsign, Bweights, Bprobs)\n",
    "    print 'Average AUC', numpy.mean(aucs), numpy.std(aucs)\n",
    "    \n",
    "    return result_table(tagging_efficiency_combined, tagging_efficiency_combined_delta, D2, auc_full, model_name)"
   ]
  },
  {
   "cell_type": "code",
   "execution_count": 28,
   "metadata": {
    "collapsed": false,
    "scrolled": false
   },
   "outputs": [
    {
     "name": "stdout",
     "output_type": "stream",
     "text": [
      "KFold prediction using folds column\n",
      "KFold prediction using folds column\n",
      "KFold prediction using folds column\n",
      "KFold prediction using folds column\n",
      "KFold prediction using folds column\n",
      "KFold prediction using folds column\n",
      "KFold prediction using folds column\n",
      "KFold prediction using folds column\n",
      "AUC for tagged: 0.659639946039 AUC with untag: 0.566958915922\n"
     ]
    },
    {
     "data": {
      "image/png": "[encoded data removed]",
      "text/plain": [
       "<matplotlib.figure.Figure at 0x99a00d0>"
      ]
     },
     "metadata": {},
     "output_type": "display_data"
    },
    {
     "data": {
      "image/png": "[encoded data removed]",
      "text/plain": [
       "<matplotlib.figure.Figure at 0xf344990>"
      ]
     },
     "metadata": {},
     "output_type": "display_data"
    },
    {
     "name": "stdout",
     "output_type": "stream",
     "text": [
      "Average AUC 0.659859421181 0.00112034944951\n",
      "KFold prediction using folds column\n",
      "KFold prediction using folds column\n",
      "KFold prediction using folds column\n",
      "KFold prediction using folds column\n",
      "KFold prediction using folds column\n",
      "KFold prediction using folds column\n",
      "KFold prediction using folds column\n",
      "KFold prediction using folds column\n",
      "AUC for tagged: 0.653980885649 AUC with untag: 0.565845722383\n"
     ]
    },
    {
     "data": {
      "image/png": "[encoded data removed]",
      "text/plain": [
       "<matplotlib.figure.Figure at 0x8cdf090>"
      ]
     },
     "metadata": {},
     "output_type": "display_data"
    },
    {
     "data": {
      "image/png": "[encoded data removed]",
      "text/plain": [
       "<matplotlib.figure.Figure at 0x5dc9e10>"
      ]
     },
     "metadata": {},
     "output_type": "display_data"
    },
    {
     "name": "stdout",
     "output_type": "stream",
     "text": [
      "Average AUC 0.654287174435 0.000829235452093\n",
      "KFold prediction using folds column\n",
      "KFold prediction using folds column\n",
      "KFold prediction using folds column\n",
      "KFold prediction using folds column\n",
      "KFold prediction using folds column\n",
      "KFold prediction using folds column\n",
      "KFold prediction using folds column\n",
      "KFold prediction using folds column\n",
      "AUC for tagged: 0.659818032966 AUC with untag: 0.566731910257\n"
     ]
    },
    {
     "data": {
      "image/png": "[encoded data removed]",
      "text/plain": [
       "<matplotlib.figure.Figure at 0x7ab0810>"
      ]
     },
     "metadata": {},
     "output_type": "display_data"
    },
    {
     "data": {
      "image/png": "[encoded data removed]",
      "text/plain": [
       "<matplotlib.figure.Figure at 0x104228d0>"
      ]
     },
     "metadata": {},
     "output_type": "display_data"
    },
    {
     "name": "stdout",
     "output_type": "stream",
     "text": [
      "Average AUC 0.659911124536 0.00115539615541\n"
     ]
    }
   ],
   "source": [
    "results = [run_combine(\"_xgboost\", \"iso-xgb_combined\"), \n",
    "           run_combine(\"_tmva\", \"iso-tmva_combined\"),\n",
    "           run_combine(\"_xgboost\", \"log-xgb_combined\", logistic=True)]"
   ]
  },
  {
   "cell_type": "code",
   "execution_count": 29,
   "metadata": {
    "collapsed": false
   },
   "outputs": [
    {
     "name": "stdout",
     "output_type": "stream",
     "text": [
      "KFold prediction using folds column\n",
      "KFold prediction using folds column\n",
      "KFold prediction using folds column\n",
      "KFold prediction using folds column\n",
      "KFold prediction using folds column\n",
      "KFold prediction using folds column\n",
      "KFold prediction using folds column\n",
      "KFold prediction using folds column\n",
      "AUC for tagged: 0.653946397447 AUC with untag: 0.565877531634\n"
     ]
    },
    {
     "data": {
      "image/png": "[encoded data removed]",
      "text/plain": [
       "<matplotlib.figure.Figure at 0x1042fb10>"
      ]
     },
     "metadata": {},
     "output_type": "display_data"
    },
    {
     "data": {
      "image/png": "[encoded data removed]",
      "text/plain": [
       "<matplotlib.figure.Figure at 0x5db3410>"
      ]
     },
     "metadata": {},
     "output_type": "display_data"
    },
    {
     "name": "stdout",
     "output_type": "stream",
     "text": [
      "Average AUC 0.653961198272 0.0013066507299\n"
     ]
    }
   ],
   "source": [
    "results.append(run_combine(\"_tmva\", \"log-tmva_combined\", logistic=True))"
   ]
  },
  {
   "cell_type": "code",
   "execution_count": 30,
   "metadata": {
    "collapsed": false
   },
   "outputs": [
    {
     "data": {
      "text/html": [
       "<div style=\"max-height:1000px;max-width:1500px;overflow:auto;\">\n",
       "<table border=\"1\" class=\"dataframe\">\n",
       "  <thead>\n",
       "    <tr style=\"text-align: right;\">\n",
       "      <th></th>\n",
       "      <th>name</th>\n",
       "      <th>$\\epsilon_{tag}, \\%$</th>\n",
       "      <th>$\\Delta \\epsilon_{tag}, \\%$</th>\n",
       "      <th>$D^2$</th>\n",
       "      <th>$\\Delta D^2$</th>\n",
       "      <th>$\\epsilon, \\%$</th>\n",
       "      <th>$\\Delta \\epsilon, \\%$</th>\n",
       "      <th>AUC, with untag</th>\n",
       "      <th>$\\Delta$ AUC, with untag</th>\n",
       "    </tr>\n",
       "  </thead>\n",
       "  <tbody>\n",
       "    <tr>\n",
       "      <th>0</th>\n",
       "      <td>  iso-xgb_combined</td>\n",
       "      <td> 32.734997</td>\n",
       "      <td> 0.066382</td>\n",
       "      <td> 0.070254</td>\n",
       "      <td> 0.001431</td>\n",
       "      <td> 2.299776</td>\n",
       "      <td> 0.047059</td>\n",
       "      <td> 56.695892</td>\n",
       "      <td> 0</td>\n",
       "    </tr>\n",
       "    <tr>\n",
       "      <th>0</th>\n",
       "      <td> iso-tmva_combined</td>\n",
       "      <td> 32.734997</td>\n",
       "      <td> 0.066382</td>\n",
       "      <td> 0.067655</td>\n",
       "      <td> 0.002165</td>\n",
       "      <td> 2.214680</td>\n",
       "      <td> 0.071023</td>\n",
       "      <td> 56.584572</td>\n",
       "      <td> 0</td>\n",
       "    </tr>\n",
       "    <tr>\n",
       "      <th>0</th>\n",
       "      <td>  log-xgb_combined</td>\n",
       "      <td> 32.734997</td>\n",
       "      <td> 0.066382</td>\n",
       "      <td> 0.074060</td>\n",
       "      <td> 0.001004</td>\n",
       "      <td> 2.424358</td>\n",
       "      <td> 0.033222</td>\n",
       "      <td> 56.673191</td>\n",
       "      <td> 0</td>\n",
       "    </tr>\n",
       "    <tr>\n",
       "      <th>0</th>\n",
       "      <td> log-tmva_combined</td>\n",
       "      <td> 32.734997</td>\n",
       "      <td> 0.066382</td>\n",
       "      <td> 0.068125</td>\n",
       "      <td> 0.000907</td>\n",
       "      <td> 2.230081</td>\n",
       "      <td> 0.030019</td>\n",
       "      <td> 56.587753</td>\n",
       "      <td> 0</td>\n",
       "    </tr>\n",
       "  </tbody>\n",
       "</table>\n",
       "</div>"
      ],
      "text/plain": [
       "                name  $\\epsilon_{tag}, \\%$  $\\Delta \\epsilon_{tag}, \\%$  \\\n",
       "0   iso-xgb_combined             32.734997                     0.066382   \n",
       "0  iso-tmva_combined             32.734997                     0.066382   \n",
       "0   log-xgb_combined             32.734997                     0.066382   \n",
       "0  log-tmva_combined             32.734997                     0.066382   \n",
       "\n",
       "      $D^2$  $\\Delta D^2$  $\\epsilon, \\%$  $\\Delta \\epsilon, \\%$  \\\n",
       "0  0.070254      0.001431        2.299776               0.047059   \n",
       "0  0.067655      0.002165        2.214680               0.071023   \n",
       "0  0.074060      0.001004        2.424358               0.033222   \n",
       "0  0.068125      0.000907        2.230081               0.030019   \n",
       "\n",
       "   AUC, with untag  $\\Delta$ AUC, with untag  \n",
       "0        56.695892                         0  \n",
       "0        56.584572                         0  \n",
       "0        56.673191                         0  \n",
       "0        56.587753                         0  "
      ]
     },
     "execution_count": 30,
     "metadata": {},
     "output_type": "execute_result"
    }
   ],
   "source": [
    "pandas.concat(results)"
   ]
  }
 ],
 "metadata": {
  "kernelspec": {
   "display_name": "Python 2",
   "language": "python",
   "name": "python2"
  },
  "language_info": {
   "codemirror_mode": {
    "name": "ipython",
    "version": 2
   },
   "file_extension": ".py",
   "mimetype": "text/x-python",
   "name": "python",
   "nbconvert_exporter": "python",
   "pygments_lexer": "ipython2",
   "version": "2.7.3"
  }
 },
 "nbformat": 4,
 "nbformat_minor": 0
}
