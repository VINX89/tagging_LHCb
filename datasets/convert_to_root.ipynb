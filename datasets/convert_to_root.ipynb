{
 "cells": [
  {
   "cell_type": "code",
   "execution_count": 2,
   "metadata": {
    "collapsed": false
   },
   "outputs": [
    {
     "name": "stdout",
     "output_type": "stream",
     "text": [
      "Populating the interactive namespace from numpy and matplotlib\n"
     ]
    }
   ],
   "source": [
    "%pylab inline"
   ]
  },
  {
   "cell_type": "code",
   "execution_count": 2,
   "metadata": {
    "collapsed": true
   },
   "outputs": [],
   "source": [
    "import root_numpy\n",
    "import pandas\n",
    "from utils import shrink_floats\n",
    "import numpy"
   ]
  },
  {
   "cell_type": "code",
   "execution_count": null,
   "metadata": {
    "collapsed": false
   },
   "outputs": [],
   "source": [
    "for folder in ['Bu_JPsiK', 'Bd_JPsiKstar', 'Bd_JPsiKs']:\n",
    "    for f in ['Tracks', 'Vertices', 'Vertices_Mike']:\n",
    "        pd = pandas.read_csv('datasets/MC/csv/{}/{}.csv'.format(folder, f), sep='\\t')\n",
    "        shrink_floats(pd)\n",
    "        root_numpy.array2root(pd.to_records(index=False), 'datasets/MC/csv/{}/{}.root'.format(folder, f),  \n",
    "                              mode='recreate')"
   ]
  },
  {
   "cell_type": "code",
   "execution_count": 3,
   "metadata": {
    "collapsed": false
   },
   "outputs": [],
   "source": [
    "for folder in ['Bu_JPsiK', ]:\n",
    "    for f in ['Tracks', 'Vertices', 'Vertices_Mike']:\n",
    "        pd = pandas.read_csv('datasets/data/csv/WG/{}/{}.csv'.format(folder, f), sep='\\t')\n",
    "        shrink_floats(pd)\n",
    "        root_numpy.array2root(pd.to_records(index=False), 'datasets/data/csv/WG/{}/{}.root'.format(folder, f),  \n",
    "                              mode='recreate')"
   ]
  },
  {
   "cell_type": "code",
   "execution_count": null,
   "metadata": {
    "collapsed": true
   },
   "outputs": [],
   "source": []
  }
 ],
 "metadata": {
  "kernelspec": {
   "display_name": "Python 2",
   "language": "python",
   "name": "python2"
  },
  "language_info": {
   "codemirror_mode": {
    "name": "ipython",
    "version": 2
   },
   "file_extension": ".py",
   "mimetype": "text/x-python",
   "name": "python",
   "nbconvert_exporter": "python",
   "pygments_lexer": "ipython2",
   "version": "2.7.12"
  }
 },
 "nbformat": 4,
 "nbformat_minor": 0
}
