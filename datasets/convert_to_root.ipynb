{
 "cells": [
  {
   "cell_type": "code",
   "execution_count": 1,
   "metadata": {
    "collapsed": false
   },
   "outputs": [
    {
     "name": "stdout",
     "output_type": "stream",
     "text": [
      "Populating the interactive namespace from numpy and matplotlib\n"
     ]
    }
   ],
   "source": [
    "%pylab inline"
   ]
  },
  {
   "cell_type": "code",
   "execution_count": 2,
   "metadata": {
    "collapsed": true
   },
   "outputs": [],
   "source": [
    "import sys\n",
    "sys.path.insert(0, \"../\")"
   ]
  },
  {
   "cell_type": "code",
   "execution_count": 3,
   "metadata": {
    "collapsed": false
   },
   "outputs": [],
   "source": [
    "import root_numpy\n",
    "import pandas\n",
    "from utils import shrink_floats\n",
    "import numpy"
   ]
  },
  {
   "cell_type": "code",
   "execution_count": 4,
   "metadata": {
    "collapsed": true
   },
   "outputs": [],
   "source": [
    "from rep.utils import train_test_split_group"
   ]
  },
  {
   "cell_type": "code",
   "execution_count": 5,
   "metadata": {
    "collapsed": false
   },
   "outputs": [],
   "source": [
    "for folder in ['Bu_JPsiK', 'Bd_JPsiKstar', 'Bd_JPsiKs']:\n",
    "    for f in ['Tracks', 'Vertices', 'Vertices_Mike']:\n",
    "        pd = pandas.read_csv('MC/csv/WG/{}/2012/{}.csv'.format(folder, f), sep='\\t')\n",
    "        shrink_floats(pd)\n",
    "#         event_id = pd.run.apply(str) + '_' + pd.event.apply(int).apply(str)\n",
    "#         group_column = numpy.unique(event_id, return_inverse=True)[1]\n",
    "#         pd1, pd2 = train_test_split_group(group_column, pd, random_state=42)\n",
    "#         pd = pandas.concat([pd1, pd2])\n",
    "        root_numpy.array2root(pd.to_records(index=False), 'MC/csv/WG/{}/2012/{}.root'.format(folder, f),  \n",
    "                              mode='recreate')"
   ]
  },
  {
   "cell_type": "code",
   "execution_count": null,
   "metadata": {
    "collapsed": true
   },
   "outputs": [],
   "source": [
    "for folder in ['Bu_JPsiK', 'Bd_JPsiKstar', 'Bd_JPsiKs']:\n",
    "    for f in ['Tracks', 'Vertices', 'Vertices_Mike']:\n",
    "        pd = pandas.read_csv('data/csv/WG/{}/2012/{}.csv'.format(folder, f), sep='\\t')\n",
    "        shrink_floats(pd)\n",
    "#         event_id = pd.run.apply(str) + '_' + pd.event.apply(int).apply(str)\n",
    "#         group_column = numpy.unique(event_id, return_inverse=True)[1]\n",
    "#         pd1, pd2 = train_test_split_group(group_column, pd, random_state=42)\n",
    "#         pd = pandas.concat([pd1, pd2])\n",
    "        root_numpy.array2root(pd.to_records(index=False), 'data/csv/WG/{}/2012/{}.root'.format(folder, f),  \n",
    "                              mode='recreate')"
   ]
  },
  {
   "cell_type": "code",
   "execution_count": 6,
   "metadata": {
    "collapsed": true
   },
   "outputs": [],
   "source": [
    "import root_numpy"
   ]
  },
  {
   "cell_type": "code",
   "execution_count": 18,
   "metadata": {
    "collapsed": true
   },
   "outputs": [],
   "source": [
    "data = root_numpy.root2array('data/csv/WG/Bu_JPsiK/2012/Tracks.root', branches=['signB', 'signTrack', 'run', 'event'])"
   ]
  },
  {
   "cell_type": "code",
   "execution_count": 20,
   "metadata": {
    "collapsed": true
   },
   "outputs": [],
   "source": [
    "data = pandas.DataFrame(data)"
   ]
  },
  {
   "cell_type": "code",
   "execution_count": 21,
   "metadata": {
    "collapsed": false
   },
   "outputs": [],
   "source": [
    "event_id = data['run'].apply(str) + '_' + data['event'].apply(int).apply(str)"
   ]
  },
  {
   "cell_type": "code",
   "execution_count": 22,
   "metadata": {
    "collapsed": true
   },
   "outputs": [],
   "source": [
    "data['id'] = event_id"
   ]
  },
  {
   "cell_type": "code",
   "execution_count": 29,
   "metadata": {
    "collapsed": false
   },
   "outputs": [],
   "source": [
    "w = []\n",
    "z = []\n",
    "for _, gr in data.groupby('id'):\n",
    "    w.append(set(gr['signB']))\n",
    "    z.append(set(gr['id']))"
   ]
  },
  {
   "cell_type": "code",
   "execution_count": null,
   "metadata": {
    "collapsed": false
   },
   "outputs": [],
   "source": [
    "for i, j in zip(w, z):\n",
    "    if len(i) != 1:\n",
    "        print i, z"
   ]
  },
  {
   "cell_type": "code",
   "execution_count": 15,
   "metadata": {
    "collapsed": false
   },
   "outputs": [],
   "source": [
    "x = data['signB']\n",
    "y = data['signTrack']"
   ]
  },
  {
   "cell_type": "code",
   "execution_count": 16,
   "metadata": {
    "collapsed": false
   },
   "outputs": [
    {
     "data": {
      "text/plain": [
       "{-1, 1}"
      ]
     },
     "execution_count": 16,
     "metadata": {},
     "output_type": "execute_result"
    }
   ],
   "source": [
    "set(x)"
   ]
  },
  {
   "cell_type": "code",
   "execution_count": 17,
   "metadata": {
    "collapsed": false
   },
   "outputs": [
    {
     "data": {
      "text/plain": [
       "{-1.0, 1.0}"
      ]
     },
     "execution_count": 17,
     "metadata": {},
     "output_type": "execute_result"
    }
   ],
   "source": [
    "set(y)"
   ]
  },
  {
   "cell_type": "code",
   "execution_count": null,
   "metadata": {
    "collapsed": true
   },
   "outputs": [],
   "source": []
  }
 ],
 "metadata": {
  "kernelspec": {
   "display_name": "Python 2",
   "language": "python",
   "name": "python2"
  },
  "language_info": {
   "codemirror_mode": {
    "name": "ipython",
    "version": 2
   },
   "file_extension": ".py",
   "mimetype": "text/x-python",
   "name": "python",
   "nbconvert_exporter": "python",
   "pygments_lexer": "ipython2",
   "version": "2.7.12"
  }
 },
 "nbformat": 4,
 "nbformat_minor": 0
}
