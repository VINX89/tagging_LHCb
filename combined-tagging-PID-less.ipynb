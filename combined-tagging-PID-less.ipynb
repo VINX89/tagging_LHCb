{
 "cells": [
  {
   "cell_type": "code",
   "execution_count": 1,
   "metadata": {
    "collapsed": false
   },
   "outputs": [
    {
     "name": "stdout",
     "output_type": "stream",
     "text": [
      "Populating the interactive namespace from numpy and matplotlib\n"
     ]
    }
   ],
   "source": [
    "%pylab inline"
   ]
  },
  {
   "cell_type": "markdown",
   "metadata": {},
   "source": [
    "## Read prepared B data for track-based and vertex-based tagging"
   ]
  },
  {
   "cell_type": "code",
   "execution_count": 2,
   "metadata": {
    "collapsed": false
   },
   "outputs": [],
   "source": [
    "import pandas\n",
    "Bdata_tracks = pandas.read_csv('models/Bdata_tracks_PID_less.csv')\n",
    "Bdata_vertex = pandas.read_csv('models/Bdata_vertex.csv')"
   ]
  },
  {
   "cell_type": "code",
   "execution_count": 3,
   "metadata": {
    "collapsed": false
   },
   "outputs": [
    {
     "data": {
      "text/html": [
       "<div style=\"max-height:1000px;max-width:1500px;overflow:auto;\">\n",
       "<table border=\"1\" class=\"dataframe\">\n",
       "  <thead>\n",
       "    <tr style=\"text-align: right;\">\n",
       "      <th></th>\n",
       "      <th>Bsign</th>\n",
       "      <th>Bweight</th>\n",
       "      <th>event_id</th>\n",
       "      <th>track_relation_prob</th>\n",
       "    </tr>\n",
       "  </thead>\n",
       "  <tbody>\n",
       "    <tr>\n",
       "      <th>0</th>\n",
       "      <td> 1</td>\n",
       "      <td> 1.091776</td>\n",
       "      <td> 111761_12239990</td>\n",
       "      <td> 0.717134</td>\n",
       "    </tr>\n",
       "    <tr>\n",
       "      <th>1</th>\n",
       "      <td> 1</td>\n",
       "      <td>-0.237732</td>\n",
       "      <td> 111761_14379738</td>\n",
       "      <td> 0.985940</td>\n",
       "    </tr>\n",
       "    <tr>\n",
       "      <th>2</th>\n",
       "      <td> 1</td>\n",
       "      <td>-0.417194</td>\n",
       "      <td> 111761_16432326</td>\n",
       "      <td> 1.942387</td>\n",
       "    </tr>\n",
       "    <tr>\n",
       "      <th>3</th>\n",
       "      <td>-1</td>\n",
       "      <td> 1.044602</td>\n",
       "      <td> 111761_29035939</td>\n",
       "      <td> 1.773770</td>\n",
       "    </tr>\n",
       "    <tr>\n",
       "      <th>4</th>\n",
       "      <td>-1</td>\n",
       "      <td> 1.062837</td>\n",
       "      <td> 111761_30938577</td>\n",
       "      <td> 0.579509</td>\n",
       "    </tr>\n",
       "  </tbody>\n",
       "</table>\n",
       "</div>"
      ],
      "text/plain": [
       "   Bsign   Bweight         event_id  track_relation_prob\n",
       "0      1  1.091776  111761_12239990             0.717134\n",
       "1      1 -0.237732  111761_14379738             0.985940\n",
       "2      1 -0.417194  111761_16432326             1.942387\n",
       "3     -1  1.044602  111761_29035939             1.773770\n",
       "4     -1  1.062837  111761_30938577             0.579509"
      ]
     },
     "execution_count": 3,
     "metadata": {},
     "output_type": "execute_result"
    }
   ],
   "source": [
    "Bdata_tracks.head()"
   ]
  },
  {
   "cell_type": "code",
   "execution_count": 4,
   "metadata": {
    "collapsed": false
   },
   "outputs": [
    {
     "data": {
      "text/html": [
       "<div style=\"max-height:1000px;max-width:1500px;overflow:auto;\">\n",
       "<table border=\"1\" class=\"dataframe\">\n",
       "  <thead>\n",
       "    <tr style=\"text-align: right;\">\n",
       "      <th></th>\n",
       "      <th>Bsign</th>\n",
       "      <th>Bweight</th>\n",
       "      <th>event_id</th>\n",
       "      <th>vertex_relation_prob</th>\n",
       "    </tr>\n",
       "  </thead>\n",
       "  <tbody>\n",
       "    <tr>\n",
       "      <th>0</th>\n",
       "      <td> 1</td>\n",
       "      <td> 1.091776</td>\n",
       "      <td> 111761_12239990</td>\n",
       "      <td> 1.477121</td>\n",
       "    </tr>\n",
       "    <tr>\n",
       "      <th>1</th>\n",
       "      <td> 1</td>\n",
       "      <td>-0.237732</td>\n",
       "      <td> 111761_14379738</td>\n",
       "      <td> 0.266671</td>\n",
       "    </tr>\n",
       "    <tr>\n",
       "      <th>2</th>\n",
       "      <td> 1</td>\n",
       "      <td>-0.442830</td>\n",
       "      <td> 111761_33866816</td>\n",
       "      <td> 1.398243</td>\n",
       "    </tr>\n",
       "    <tr>\n",
       "      <th>3</th>\n",
       "      <td>-1</td>\n",
       "      <td> 0.991477</td>\n",
       "      <td> 111761_43041334</td>\n",
       "      <td> 0.900812</td>\n",
       "    </tr>\n",
       "    <tr>\n",
       "      <th>4</th>\n",
       "      <td>-1</td>\n",
       "      <td> 1.091055</td>\n",
       "      <td> 111761_48273537</td>\n",
       "      <td> 0.810535</td>\n",
       "    </tr>\n",
       "  </tbody>\n",
       "</table>\n",
       "</div>"
      ],
      "text/plain": [
       "   Bsign   Bweight         event_id  vertex_relation_prob\n",
       "0      1  1.091776  111761_12239990              1.477121\n",
       "1      1 -0.237732  111761_14379738              0.266671\n",
       "2      1 -0.442830  111761_33866816              1.398243\n",
       "3     -1  0.991477  111761_43041334              0.900812\n",
       "4     -1  1.091055  111761_48273537              0.810535"
      ]
     },
     "execution_count": 4,
     "metadata": {},
     "output_type": "execute_result"
    }
   ],
   "source": [
    "Bdata_vertex.head()"
   ]
  },
  {
   "cell_type": "markdown",
   "metadata": {},
   "source": [
    "### Merge two datasets"
   ]
  },
  {
   "cell_type": "code",
   "execution_count": 5,
   "metadata": {
    "collapsed": true
   },
   "outputs": [],
   "source": [
    "Bdata = pandas.merge(Bdata_tracks, Bdata_vertex, how='outer', on=['event_id', 'Bsign'])"
   ]
  },
  {
   "cell_type": "code",
   "execution_count": 6,
   "metadata": {
    "collapsed": false
   },
   "outputs": [
    {
     "data": {
      "text/html": [
       "<div style=\"max-height:1000px;max-width:1500px;overflow:auto;\">\n",
       "<table border=\"1\" class=\"dataframe\">\n",
       "  <thead>\n",
       "    <tr style=\"text-align: right;\">\n",
       "      <th></th>\n",
       "      <th>Bsign</th>\n",
       "      <th>Bweight_x</th>\n",
       "      <th>event_id</th>\n",
       "      <th>track_relation_prob</th>\n",
       "      <th>Bweight_y</th>\n",
       "      <th>vertex_relation_prob</th>\n",
       "    </tr>\n",
       "  </thead>\n",
       "  <tbody>\n",
       "    <tr>\n",
       "      <th>0</th>\n",
       "      <td> 1</td>\n",
       "      <td> 1.091776</td>\n",
       "      <td> 111761_12239990</td>\n",
       "      <td> 0.717134</td>\n",
       "      <td> 1.091776</td>\n",
       "      <td> 1.477121</td>\n",
       "    </tr>\n",
       "    <tr>\n",
       "      <th>1</th>\n",
       "      <td> 1</td>\n",
       "      <td>-0.237732</td>\n",
       "      <td> 111761_14379738</td>\n",
       "      <td> 0.985940</td>\n",
       "      <td>-0.237732</td>\n",
       "      <td> 0.266671</td>\n",
       "    </tr>\n",
       "    <tr>\n",
       "      <th>2</th>\n",
       "      <td> 1</td>\n",
       "      <td>-0.417194</td>\n",
       "      <td> 111761_16432326</td>\n",
       "      <td> 1.942387</td>\n",
       "      <td>      NaN</td>\n",
       "      <td>      NaN</td>\n",
       "    </tr>\n",
       "    <tr>\n",
       "      <th>3</th>\n",
       "      <td>-1</td>\n",
       "      <td> 1.044602</td>\n",
       "      <td> 111761_29035939</td>\n",
       "      <td> 1.773770</td>\n",
       "      <td>      NaN</td>\n",
       "      <td>      NaN</td>\n",
       "    </tr>\n",
       "    <tr>\n",
       "      <th>4</th>\n",
       "      <td>-1</td>\n",
       "      <td> 1.062837</td>\n",
       "      <td> 111761_30938577</td>\n",
       "      <td> 0.579509</td>\n",
       "      <td>      NaN</td>\n",
       "      <td>      NaN</td>\n",
       "    </tr>\n",
       "  </tbody>\n",
       "</table>\n",
       "</div>"
      ],
      "text/plain": [
       "   Bsign  Bweight_x         event_id  track_relation_prob  Bweight_y  \\\n",
       "0      1   1.091776  111761_12239990             0.717134   1.091776   \n",
       "1      1  -0.237732  111761_14379738             0.985940  -0.237732   \n",
       "2      1  -0.417194  111761_16432326             1.942387        NaN   \n",
       "3     -1   1.044602  111761_29035939             1.773770        NaN   \n",
       "4     -1   1.062837  111761_30938577             0.579509        NaN   \n",
       "\n",
       "   vertex_relation_prob  \n",
       "0              1.477121  \n",
       "1              0.266671  \n",
       "2                   NaN  \n",
       "3                   NaN  \n",
       "4                   NaN  "
      ]
     },
     "execution_count": 6,
     "metadata": {},
     "output_type": "execute_result"
    }
   ],
   "source": [
    "Bdata.head()"
   ]
  },
  {
   "cell_type": "markdown",
   "metadata": {},
   "source": [
    "### Obtain one weight column"
   ]
  },
  {
   "cell_type": "code",
   "execution_count": 7,
   "metadata": {
    "collapsed": false
   },
   "outputs": [],
   "source": [
    "Bdata['Bweight'] = Bdata['Bweight_x'].copy()\n",
    "Bdata.ix[numpy.isnan(Bdata['Bweight'].values), 'Bweight'] = Bdata.ix[numpy.isnan(Bdata['Bweight'].values), 'Bweight_y']\n",
    "Bdata = Bdata.drop(['Bweight_x', 'Bweight_y'], axis=1)\n",
    "\n",
    "# for Nan put 1 as non influence factor\n",
    "Bdata.ix[numpy.isnan(Bdata.track_relation_prob.values), 'track_relation_prob'] = 1.\n",
    "Bdata.ix[numpy.isnan(Bdata.vertex_relation_prob.values), 'vertex_relation_prob'] = 1."
   ]
  },
  {
   "cell_type": "code",
   "execution_count": 8,
   "metadata": {
    "collapsed": false
   },
   "outputs": [
    {
     "data": {
      "text/html": [
       "<div style=\"max-height:1000px;max-width:1500px;overflow:auto;\">\n",
       "<table border=\"1\" class=\"dataframe\">\n",
       "  <thead>\n",
       "    <tr style=\"text-align: right;\">\n",
       "      <th></th>\n",
       "      <th>Bsign</th>\n",
       "      <th>event_id</th>\n",
       "      <th>track_relation_prob</th>\n",
       "      <th>vertex_relation_prob</th>\n",
       "      <th>Bweight</th>\n",
       "    </tr>\n",
       "  </thead>\n",
       "  <tbody>\n",
       "    <tr>\n",
       "      <th>0</th>\n",
       "      <td> 1</td>\n",
       "      <td> 111761_12239990</td>\n",
       "      <td> 0.717134</td>\n",
       "      <td> 1.477121</td>\n",
       "      <td> 1.091776</td>\n",
       "    </tr>\n",
       "    <tr>\n",
       "      <th>1</th>\n",
       "      <td> 1</td>\n",
       "      <td> 111761_14379738</td>\n",
       "      <td> 0.985940</td>\n",
       "      <td> 0.266671</td>\n",
       "      <td>-0.237732</td>\n",
       "    </tr>\n",
       "    <tr>\n",
       "      <th>2</th>\n",
       "      <td> 1</td>\n",
       "      <td> 111761_16432326</td>\n",
       "      <td> 1.942387</td>\n",
       "      <td> 1.000000</td>\n",
       "      <td>-0.417194</td>\n",
       "    </tr>\n",
       "    <tr>\n",
       "      <th>3</th>\n",
       "      <td>-1</td>\n",
       "      <td> 111761_29035939</td>\n",
       "      <td> 1.773770</td>\n",
       "      <td> 1.000000</td>\n",
       "      <td> 1.044602</td>\n",
       "    </tr>\n",
       "    <tr>\n",
       "      <th>4</th>\n",
       "      <td>-1</td>\n",
       "      <td> 111761_30938577</td>\n",
       "      <td> 0.579509</td>\n",
       "      <td> 1.000000</td>\n",
       "      <td> 1.062837</td>\n",
       "    </tr>\n",
       "  </tbody>\n",
       "</table>\n",
       "</div>"
      ],
      "text/plain": [
       "   Bsign         event_id  track_relation_prob  vertex_relation_prob   Bweight\n",
       "0      1  111761_12239990             0.717134              1.477121  1.091776\n",
       "1      1  111761_14379738             0.985940              0.266671 -0.237732\n",
       "2      1  111761_16432326             1.942387              1.000000 -0.417194\n",
       "3     -1  111761_29035939             1.773770              1.000000  1.044602\n",
       "4     -1  111761_30938577             0.579509              1.000000  1.062837"
      ]
     },
     "execution_count": 8,
     "metadata": {},
     "output_type": "execute_result"
    }
   ],
   "source": [
    "Bdata.head()"
   ]
  },
  {
   "cell_type": "code",
   "execution_count": 9,
   "metadata": {
    "collapsed": true
   },
   "outputs": [],
   "source": [
    "relation_prob = Bdata['track_relation_prob'].values * Bdata['vertex_relation_prob'].values\n",
    "Bprob = relation_prob / (1 + relation_prob)\n",
    "Bweight = Bdata.Bweight.values\n",
    "Bsign = Bdata.Bsign.values"
   ]
  },
  {
   "cell_type": "code",
   "execution_count": null,
   "metadata": {
    "collapsed": false
   },
   "outputs": [],
   "source": [
    "Bprob[~numpy.isfinite(Bprob)] = 0.5"
   ]
  },
  {
   "cell_type": "markdown",
   "metadata": {},
   "source": [
    "## 2-folding calibration by isotonic"
   ]
  },
  {
   "cell_type": "code",
   "execution_count": null,
   "metadata": {
    "collapsed": false
   },
   "outputs": [],
   "source": [
    "from utils import calibrate_probs\n",
    "Bprob_calibrated, (iso_reg1, iso_reg2) = calibrate_probs(Bsign, Bweight, Bprob,\n",
    "                                                         symmetrize=True, return_calibrator=True)"
   ]
  },
  {
   "cell_type": "markdown",
   "metadata": {},
   "source": [
    "#### Add some small noise in prediction for stability"
   ]
  },
  {
   "cell_type": "code",
   "execution_count": null,
   "metadata": {
    "collapsed": true
   },
   "outputs": [],
   "source": [
    "Bprob_calibrated = Bprob_calibrated + numpy.random.normal(size=len(Bprob_calibrated)) * 0.001"
   ]
  },
  {
   "cell_type": "code",
   "execution_count": null,
   "metadata": {
    "collapsed": false
   },
   "outputs": [],
   "source": [
    "figure(figsize=(15, 5))\n",
    "\n",
    "subplot(1,2,1)\n",
    "hist(Bprob[Bsign == 1], bins=60, alpha=0.2, normed=True, label='$B^+$')\n",
    "hist(Bprob[Bsign == -1], bins=60, alpha=0.2, normed=True, label='$B^-$')\n",
    "legend(), title('B probs')\n",
    "\n",
    "subplot(1,2,2)\n",
    "hist(Bprob_calibrated[Bsign == 1], bins=60, alpha=0.2, normed=True, range=(0, 1), label='$B^+$')\n",
    "hist(Bprob_calibrated[Bsign == -1], bins=60, alpha=0.2, normed=True, range=(0, 1), label='$B^-$')\n",
    "legend(), title('B probs calibrated')\n",
    "\n",
    "plt.savefig('img/Bprob_iso_calibrated_PID_less.png' , format='png')"
   ]
  },
  {
   "cell_type": "markdown",
   "metadata": {},
   "source": [
    "## AUC score and ROC curve for B+ vs B-"
   ]
  },
  {
   "cell_type": "code",
   "execution_count": null,
   "metadata": {
    "collapsed": false
   },
   "outputs": [],
   "source": [
    "from utils import calculate_auc_with_and_without_untag_events\n",
    "from sklearn.metrics import roc_curve\n",
    "\n",
    "auc, auc_full = calculate_auc_with_and_without_untag_events(Bsign, Bprob_calibrated, Bweight)\n",
    "print 'AUC for tagged:', auc, 'AUC with untag:', auc_full\n",
    "\n",
    "fpr, tpr, _ = roc_curve(Bsign, Bprob_calibrated, sample_weight=Bweight)\n",
    "plot(fpr, tpr)\n",
    "plot([0, 1], [0, 1], 'k--')\n",
    "ylim(0, 1), xlim(0, 1)"
   ]
  },
  {
   "cell_type": "markdown",
   "metadata": {},
   "source": [
    "## Symmetry $B^+$ vs $B^-$ checking"
   ]
  },
  {
   "cell_type": "markdown",
   "metadata": {},
   "source": [
    "### before calibration"
   ]
  },
  {
   "cell_type": "code",
   "execution_count": null,
   "metadata": {
    "collapsed": false
   },
   "outputs": [],
   "source": [
    "figsize(12, 8)\n",
    "for sign in [-1, 1]:\n",
    "    hist(sign * (Bprob[Bsign == sign] - 0.5), bins=101, normed=True, alpha=0.2, \n",
    "         weights=Bweight[Bsign == sign], range=(-0.5, 0.5))"
   ]
  },
  {
   "cell_type": "markdown",
   "metadata": {},
   "source": [
    "#### KS distance"
   ]
  },
  {
   "cell_type": "code",
   "execution_count": null,
   "metadata": {
    "collapsed": true
   },
   "outputs": [],
   "source": [
    "fpr, tpr, _ = roc_curve(Bsign, (Bprob - 0.5) * Bsign, sample_weight=Bweight)"
   ]
  },
  {
   "cell_type": "code",
   "execution_count": null,
   "metadata": {
    "collapsed": true
   },
   "outputs": [],
   "source": [
    "'KS distance', max(abs(fpr - tpr))"
   ]
  },
  {
   "cell_type": "code",
   "execution_count": null,
   "metadata": {
    "collapsed": false
   },
   "outputs": [],
   "source": [
    "figsize(6, 5)\n",
    "plot(fpr, tpr), grid()\n",
    "xlim(0, 1), ylim(0, 1)"
   ]
  },
  {
   "cell_type": "markdown",
   "metadata": {},
   "source": [
    "### after calibration"
   ]
  },
  {
   "cell_type": "code",
   "execution_count": null,
   "metadata": {
    "collapsed": false
   },
   "outputs": [],
   "source": [
    "figsize(12, 8)\n",
    "for sign in [-1, 1]:\n",
    "    hist(sign * (Bprob_calibrated[Bsign == sign] - 0.5), bins=101, normed=True, alpha=0.2,\n",
    "         weights=Bweight[Bsign == sign], range=(-0.5, 0.5))"
   ]
  },
  {
   "cell_type": "markdown",
   "metadata": {},
   "source": [
    "#### KS distance"
   ]
  },
  {
   "cell_type": "code",
   "execution_count": null,
   "metadata": {
    "collapsed": true
   },
   "outputs": [],
   "source": [
    "fpr, tpr, _ = roc_curve(Bsign, (Bprob_calibrated - 0.5) * Bsign, sample_weight=Bweight)"
   ]
  },
  {
   "cell_type": "code",
   "execution_count": null,
   "metadata": {
    "collapsed": true
   },
   "outputs": [],
   "source": [
    "'KS distance', max(abs(fpr - tpr))"
   ]
  },
  {
   "cell_type": "code",
   "execution_count": null,
   "metadata": {
    "collapsed": false
   },
   "outputs": [],
   "source": [
    "figsize(6, 5)\n",
    "plot(fpr, tpr), grid()\n",
    "xlim(0, 1), ylim(0, 1)"
   ]
  },
  {
   "cell_type": "markdown",
   "metadata": {},
   "source": [
    "## D2 estimation with bootstrap calibration"
   ]
  },
  {
   "cell_type": "code",
   "execution_count": null,
   "metadata": {
    "collapsed": false
   },
   "outputs": [],
   "source": [
    "from utils import get_N_B_events, bootstrap_calibrate_prob, result_table\n",
    "\n",
    "N_B_passed = Bweight.sum()\n",
    "tagging_efficiency = N_B_passed / get_N_B_events()\n",
    "tagging_efficiency_delta = numpy.sqrt(N_B_passed) / get_N_B_events()\n",
    "\n",
    "D2, aucs = bootstrap_calibrate_prob(Bsign, Bweight, Bprob, symmetrize=True)\n",
    "print 'AUC', numpy.mean(aucs), numpy.var(aucs)\n",
    "\n",
    "result = result_table(tagging_efficiency, tagging_efficiency_delta, D2, auc_full, 'Inclusive tagging, PID less')"
   ]
  },
  {
   "cell_type": "code",
   "execution_count": 26,
   "metadata": {
    "collapsed": false
   },
   "outputs": [
    {
     "data": {
      "text/html": [
       "<div style=\"max-height:1000px;max-width:1500px;overflow:auto;\">\n",
       "<table border=\"1\" class=\"dataframe\">\n",
       "  <thead>\n",
       "    <tr style=\"text-align: right;\">\n",
       "      <th></th>\n",
       "      <th>name</th>\n",
       "      <th>$\\epsilon_{tag}, \\%$</th>\n",
       "      <th>$\\Delta \\epsilon_{tag}, \\%$</th>\n",
       "      <th>$D^2$</th>\n",
       "      <th>$\\Delta D^2$</th>\n",
       "      <th>$\\epsilon, \\%$</th>\n",
       "      <th>$\\Delta \\epsilon, \\%$</th>\n",
       "      <th>AUC, with untag</th>\n",
       "      <th>$\\Delta$ AUC, with untag</th>\n",
       "    </tr>\n",
       "  </thead>\n",
       "  <tbody>\n",
       "    <tr>\n",
       "      <th>0</th>\n",
       "      <td> Inclusive tagging, PID less</td>\n",
       "      <td> 97.098272</td>\n",
       "      <td> 0.114327</td>\n",
       "      <td> 0.03837</td>\n",
       "      <td> 0.000312</td>\n",
       "      <td> 3.725613</td>\n",
       "      <td> 0.030594</td>\n",
       "      <td> 60.581104</td>\n",
       "      <td> 0</td>\n",
       "    </tr>\n",
       "  </tbody>\n",
       "</table>\n",
       "</div>"
      ],
      "text/plain": [
       "                          name  $\\epsilon_{tag}, \\%$  \\\n",
       "0  Inclusive tagging, PID less             97.098272   \n",
       "\n",
       "   $\\Delta \\epsilon_{tag}, \\%$    $D^2$  $\\Delta D^2$  $\\epsilon, \\%$  \\\n",
       "0                     0.114327  0.03837      0.000312        3.725613   \n",
       "\n",
       "   $\\Delta \\epsilon, \\%$  AUC, with untag  $\\Delta$ AUC, with untag  \n",
       "0               0.030594        60.581104                         0  "
      ]
     },
     "execution_count": 26,
     "metadata": {},
     "output_type": "execute_result"
    }
   ],
   "source": [
    "result"
   ]
  },
  {
   "cell_type": "code",
   "execution_count": null,
   "metadata": {
    "collapsed": true
   },
   "outputs": [],
   "source": [
    "result.to_csv('img/new-tagging-PID-less.csv', header=True, index=False)"
   ]
  },
  {
   "cell_type": "markdown",
   "metadata": {},
   "source": [
    "## Some plots"
   ]
  },
  {
   "cell_type": "markdown",
   "metadata": {},
   "source": [
    "### Isotonic transformation, and its reverse (too check symmetry)"
   ]
  },
  {
   "cell_type": "code",
   "execution_count": 27,
   "metadata": {
    "collapsed": false
   },
   "outputs": [
    {
     "data": {
      "image/png": "[encoded data removed]",
      "text/plain": [
       "<matplotlib.figure.Figure at 0x16322590>"
      ]
     },
     "metadata": {},
     "output_type": "display_data"
    }
   ],
   "source": [
    "x = numpy.linspace(0, 1, 100)\n",
    "plot(x, -(iso_reg1.transform((1-x)) + iso_reg2.transform((1-x))) / 2 + 1, label='isotonic transformation reverse')\n",
    "plot(x, (iso_reg1.transform(x) + iso_reg2.transform(x)) / 2, label='isotonic transformation')\n",
    "legend(loc='best')\n",
    "plot([0, 1], [0, 1], \"k--\")\n",
    "xlabel('B prob'), ylabel('B prob calibrated')\n",
    "plt.savefig('img/iso_transformation_PID_less.png' , format='png')"
   ]
  },
  {
   "cell_type": "markdown",
   "metadata": {},
   "source": [
    "### Mistag checking"
   ]
  },
  {
   "cell_type": "code",
   "execution_count": 30,
   "metadata": {
    "collapsed": true
   },
   "outputs": [],
   "source": [
    "from utils import get_N_B_events, compute_mistag"
   ]
  },
  {
   "cell_type": "code",
   "execution_count": null,
   "metadata": {
    "collapsed": true
   },
   "outputs": [],
   "source": [
    "bins = [0.15, 0.2, 0.25, 0.3, 0.35, 0.4, 0.45]\n",
    "percentile_bins = [10, 20, 30, 40, 50, 60, 70, 80, 90]"
   ]
  },
  {
   "cell_type": "markdown",
   "metadata": {},
   "source": [
    "### before calibration"
   ]
  },
  {
   "cell_type": "code",
   "execution_count": 31,
   "metadata": {
    "collapsed": false
   },
   "outputs": [
    {
     "name": "stderr",
     "output_type": "stream",
     "text": [
      "/moosefs/ipython_env/local/lib/python2.7/site-packages/matplotlib/collections.py:548: FutureWarning: elementwise comparison failed; returning scalar instead, but in the future will perform elementwise comparison\n",
      "  if self._edgecolors == 'face':\n"
     ]
    },
    {
     "data": {
      "image/png": "[encoded data removed]",
      "text/plain": [
       "<matplotlib.figure.Figure at 0xaa0dc90>"
      ]
     },
     "metadata": {},
     "output_type": "display_data"
    }
   ],
   "source": [
    "figsize(12, 10)\n",
    "compute_mistag(Bprob, Bsign, Bweight, Bsign > -100, label=\"$B$\", bins=bins)\n",
    "compute_mistag(Bprob, Bsign, Bweight, Bsign == 1, label=\"$B^+$\", bins=bins)\n",
    "compute_mistag(Bprob, Bsign, Bweight, Bsign == -1, label=\"$B^-$\", bins=bins)\n",
    "legend(loc='best')\n",
    "title('B prob, uniform bins'), xlabel('mistag probability'), ylabel('true mistag probability')\n",
    "plt.savefig('img/Bprob_calibration_check_uniform_PID_less.png' , format='png')"
   ]
  },
  {
   "cell_type": "code",
   "execution_count": 32,
   "metadata": {
    "collapsed": false
   },
   "outputs": [
    {
     "data": {
      "image/png": "[encoded data removed]",
      "text/plain": [
       "<matplotlib.figure.Figure at 0x1630fc50>"
      ]
     },
     "metadata": {},
     "output_type": "display_data"
    }
   ],
   "source": [
    "compute_mistag(Bprob, Bsign, Bweight, Bsign > -100, label=\"$B$\", uniform=False, bins=percentile_bins)\n",
    "p1 = compute_mistag(Bprob, Bsign, Bweight, Bsign == 1, label=\"$B^+$\", uniform=False, bins=percentile_bins)\n",
    "compute_mistag(Bprob, Bsign, Bweight, Bsign == -1, label=\"$B^-$\", uniform=False, bins=percentile_bins)\n",
    "legend(loc='best')\n",
    "title('B prob, percentile bins'), xlabel('mistag probability'), ylabel('true mistag probability')\n",
    "plt.savefig('img/Bprob_calibration_check_percentile_PID_less.png' , format='png')"
   ]
  },
  {
   "cell_type": "markdown",
   "metadata": {},
   "source": [
    "### after calibration"
   ]
  },
  {
   "cell_type": "code",
   "execution_count": 33,
   "metadata": {
    "collapsed": false
   },
   "outputs": [
    {
     "data": {
      "image/png": "[encoded data removed]",
      "text/plain": [
       "<matplotlib.figure.Figure at 0x162e6550>"
      ]
     },
     "metadata": {},
     "output_type": "display_data"
    }
   ],
   "source": [
    "compute_mistag(Bprob_calibrated, Bsign, Bweight, Bsign > -100, label=\"$B$\", bins=bins)\n",
    "compute_mistag(Bprob_calibrated, Bsign, Bweight, Bsign == 1, label=\"$B^+$\", bins=bins)\n",
    "compute_mistag(Bprob_calibrated, Bsign, Bweight, Bsign == -1, label=\"$B^-$\", bins=bins)\n",
    "legend(loc='best')\n",
    "title('B prob isotonic calibrated, uniform bins'), xlabel('mistag probability'), ylabel('true mistag probability')\n",
    "plt.savefig('img/Bprob_calibration_check_iso_uniform_PID_less.png' , format='png')"
   ]
  },
  {
   "cell_type": "code",
   "execution_count": 34,
   "metadata": {
    "collapsed": false
   },
   "outputs": [
    {
     "data": {
      "image/png": "[encoded data removed]",
      "text/plain": [
       "<matplotlib.figure.Figure at 0x8fcd550>"
      ]
     },
     "metadata": {},
     "output_type": "display_data"
    }
   ],
   "source": [
    "figsize(12, 10)\n",
    "compute_mistag(Bprob_calibrated, Bsign, Bweight, Bsign > -100, label=\"$B$\", uniform=False,\n",
    "               bins=percentile_bins)\n",
    "compute_mistag(Bprob_calibrated, Bsign, Bweight, Bsign == 1, label=\"$B^+$\", uniform=False, \n",
    "               bins=percentile_bins)\n",
    "compute_mistag(Bprob_calibrated, Bsign, Bweight, Bsign == -1, label=\"$B^-$\", uniform=False, \n",
    "               bins=percentile_bins)\n",
    "legend(loc='best'),  xlabel('mistag probability'), ylabel('true mistag probability')\n",
    "title('B prob isotonic calibrated, uniform bins')\n",
    "plt.savefig('img/Bprob_calibration_check_iso_percentile_PID_less.png' , format='png')"
   ]
  },
  {
   "cell_type": "code",
   "execution_count": 36,
   "metadata": {
    "collapsed": false
   },
   "outputs": [
    {
     "name": "stdout",
     "output_type": "stream",
     "text": [
      "4.06493637748\n",
      "3.71649379971\n"
     ]
    }
   ],
   "source": [
    "print numpy.average((2*(Bprob - 0.5))**2, weights=Bweight) * tagging_efficiency * 100\n",
    "print numpy.average((2*(Bprob_calibrated - 0.5))**2, weights=Bweight) * Bweight.sum() / get_N_B_events() * 100 "
   ]
  }
 ],
 "metadata": {
  "kernelspec": {
   "display_name": "Python 2",
   "language": "python",
   "name": "python2"
  },
  "language_info": {
   "codemirror_mode": {
    "name": "ipython",
    "version": 2
   },
   "file_extension": ".py",
   "mimetype": "text/x-python",
   "name": "python",
   "nbconvert_exporter": "python",
   "pygments_lexer": "ipython2",
   "version": "2.7.3"
  }
 },
 "nbformat": 4,
 "nbformat_minor": 0
}
