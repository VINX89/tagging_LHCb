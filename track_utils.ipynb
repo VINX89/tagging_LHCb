{
 "cells": [
  {
   "cell_type": "markdown",
   "metadata": {},
   "source": [
    "# Calibration p(track same sign|B)\n",
    "\n",
    "* use 2-folding to calibrate all data\n",
    "* return all data (tracks), its probs, its calibrated probs"
   ]
  },
  {
   "cell_type": "code",
   "execution_count": null,
   "metadata": {
    "collapsed": true
   },
   "outputs": [],
   "source": [
    "from scipy.special import logit\n",
    "from rep.utils import train_test_split\n",
    "from sklearn import clone\n",
    "\n",
    "def calibrate_track_prob(estimator, datasets, est_calib, logistic=False, tag_selection=False):\n",
    "    data = pandas.concat(datasets)\n",
    "    probs = union(*[estimator.predict_proba(dataset)[:, 1] for dataset in datasets])\n",
    "    if tag_selection:\n",
    "        probs = probs[data.tag.values == True]\n",
    "        data = data[data.tag]\n",
    "    ind = range(len(probs))\n",
    "    ind_1, ind_2 = train_test_split(ind)\n",
    "    est_calib_1, est_calib_2 = clone(est_calib), clone(est_calib)\n",
    "    probs_1 = probs[ind_1]\n",
    "    probs_2 = probs[ind_2]\n",
    "    data.index = ind\n",
    "    if logistic:\n",
    "        probs_1 = logit(probs_1)[:, numpy.newaxis]\n",
    "        probs_2 = logit(probs_2)[:, numpy.newaxis]\n",
    "        est_calib_1.fit(probs_1, data.ix[ind_1, 'label'])\n",
    "        est_calib_2.fit(probs_2, data.ix[ind_2, 'label'])        \n",
    "    else:\n",
    "        est_calib_1.fit(probs_1, data.ix[ind_1, 'label'], data.ix[ind_1, 'N_sig_sw'])\n",
    "        est_calib_2.fit(probs_2, data.ix[ind_2, 'label'], data.ix[ind_2, 'N_sig_sw'])\n",
    "    probs_result = numpy.zeros(len(probs))\n",
    "    if logistic:\n",
    "        probs_result[ind_1] = est_calib_2.predict_proba(probs_1)[:, 1]\n",
    "        probs_result[ind_2] = est_calib_1.predict_proba(probs_2)[:, 1]\n",
    "    else:\n",
    "        probs_result[ind_1] = est_calib_2.transform(probs_1)\n",
    "        probs_result[ind_2] = est_calib_1.transform(probs_2)\n",
    "    return data, probs, probs_result"
   ]
  },
  {
   "cell_type": "markdown",
   "metadata": {},
   "source": [
    "# Compute $p(B^+)$\n",
    "\n",
    "Compute $p(B^+)$ using this representation:\n",
    "\n",
    "$$ \\frac{P(B^+)}{P(B^-)} = \\prod_{track} \\frac{P(track|B^+)} {P(track|B^-)} = P$$\n",
    "$$ P(B^+) = \\frac {P}{1+P}, $$\n",
    "where\n",
    "$$ P(track^+|B^+) = P(\\text{track same sign as B}| B) $$\n",
    "$$ P(track^+|B^-) = 1 - P(\\text{track same sign as B}| B)$$\n",
    "$$ P(track^-|B^+) = 1 - P(\\text{track same sign as B}| B) $$\n",
    "$$ P(track^-|B^-) = P(\\text{track same sign as B}| B)$$"
   ]
  },
  {
   "cell_type": "code",
   "execution_count": null,
   "metadata": {
    "collapsed": true
   },
   "outputs": [],
   "source": [
    "from scipy.special import expit\n",
    "\n",
    "def compute_B_prob_using_track_prob(data, probs):\n",
    "    result_event, data_ids = numpy.unique(data.unique, return_inverse=True)\n",
    "    log_probs = numpy.log(probs) - numpy.log(1 - probs)\n",
    "    log_probs *= data.signTrack.values\n",
    "    result_logprob = numpy.bincount(data_ids, weights=log_probs)\n",
    "    result_label = numpy.bincount(data_ids, weights=data.signB) / numpy.bincount(data_ids)\n",
    "    result_weight = numpy.bincount(data_ids, weights=data.N_sig_sw) / numpy.bincount(data_ids)\n",
    "    return result_label, result_weight, expit(result_logprob), result_event"
   ]
  },
  {
   "cell_type": "markdown",
   "metadata": {},
   "source": [
    "# Compute p(B+) calibrated\n",
    "\n",
    "* use Isotonic calibration\n",
    "* randomly divide events into two parts (1-train, 2-calibrate and D2 compute)\n",
    "* take mean D2 and std"
   ]
  },
  {
   "cell_type": "code",
   "execution_count": null,
   "metadata": {
    "collapsed": true
   },
   "outputs": [],
   "source": [
    "def calibrate_B_prob(labels, weights, probs, steps=30):\n",
    "    iso_calibs = []\n",
    "    aucs = []\n",
    "    D2 = []\n",
    "    omega = []\n",
    "    labels = (labels > 0) * 1\n",
    "    for step in range(steps):\n",
    "        train_probs, test_probs, train_labels, test_labels, train_weights, test_weights = train_test_split(\n",
    "            probs, labels, weights, train_size=0.5)\n",
    "        iso_est = IsotonicRegression(y_min=0, y_max=1, out_of_bounds='clip')\n",
    "        iso_est.fit(train_probs, train_labels, train_weights)\n",
    "        iso_calibs.append(iso_est)\n",
    "        aucs.append(roc_auc_score(test_labels, test_probs, sample_weight=test_weights))\n",
    "        probs_calib = iso_est.transform(test_probs)\n",
    "        alpha = (1 - 2 * (1 - probs_calib))**2\n",
    "        D2.append(sum(alpha * test_weights) / sum(test_weights))\n",
    "        omega.append(sum((1 - probs_calib) * test_weights) / sum(test_weights))\n",
    "    return D2, aucs, iso_calibs, omega"
   ]
  }
 ],
 "metadata": {
  "kernelspec": {
   "display_name": "Python 2",
   "language": "python",
   "name": "python2"
  },
  "language_info": {
   "codemirror_mode": {
    "name": "ipython",
    "version": 2
   },
   "file_extension": ".py",
   "mimetype": "text/x-python",
   "name": "python",
   "nbconvert_exporter": "python",
   "pygments_lexer": "ipython2",
   "version": "2.7.3"
  }
 },
 "nbformat": 4,
 "nbformat_minor": 0
}
