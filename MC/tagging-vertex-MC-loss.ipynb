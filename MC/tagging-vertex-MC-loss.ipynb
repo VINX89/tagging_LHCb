{
 "cells": [
  {
   "cell_type": "code",
   "execution_count": 1,
   "metadata": {
    "collapsed": false
   },
   "outputs": [
    {
     "name": "stdout",
     "output_type": "stream",
     "text": [
      "Populating the interactive namespace from numpy and matplotlib\n"
     ]
    }
   ],
   "source": [
    "%pylab inline"
   ]
  },
  {
   "cell_type": "code",
   "execution_count": null,
   "metadata": {
    "collapsed": true
   },
   "outputs": [],
   "source": [
    "import sys\n",
    "sys.path.insert(0, \"../\")"
   ]
  },
  {
   "cell_type": "markdown",
   "metadata": {},
   "source": [
    "## Import"
   ]
  },
  {
   "cell_type": "code",
   "execution_count": 2,
   "metadata": {
    "collapsed": false
   },
   "outputs": [],
   "source": [
    "import pandas\n",
    "import numpy\n",
    "\n",
    "from sklearn.ensemble import RandomForestClassifier\n",
    "from sklearn.metrics import roc_curve, roc_auc_score\n",
    "\n",
    "from rep.metaml import FoldingClassifier\n",
    "from rep.data import LabeledDataStorage\n",
    "from rep.report import ClassificationReport\n",
    "from rep.report.metrics import RocAuc"
   ]
  },
  {
   "cell_type": "code",
   "execution_count": 3,
   "metadata": {
    "collapsed": false
   },
   "outputs": [],
   "source": [
    "from utils import get_events_number, get_events_statistics"
   ]
  },
  {
   "cell_type": "markdown",
   "metadata": {},
   "source": [
    "## Reading initial data"
   ]
  },
  {
   "cell_type": "code",
   "execution_count": 4,
   "metadata": {
    "collapsed": false
   },
   "outputs": [],
   "source": [
    "import root_numpy\n",
    "data = pandas.DataFrame(root_numpy.root2array('datasets/MC/csv/Bu_JPsiK/Vertices_Mike.root', selection='vcharge > 0.2'))"
   ]
  },
  {
   "cell_type": "markdown",
   "metadata": {},
   "source": [
    "## Define label\n",
    "`label` = `signB` * `signVtx` > 0\n",
    "* same sign of B and vtx -> label = 1\n",
    "* opposite sign of B and vtx -> label = 0"
   ]
  },
  {
   "cell_type": "code",
   "execution_count": 5,
   "metadata": {
    "collapsed": false
   },
   "outputs": [],
   "source": [
    "event_id_column = 'event_id'\n",
    "event_id = data.run.apply(str) + '_' + data.event.apply(str)\n",
    "data['group_column'] = numpy.unique(event_id, return_inverse=True)[1]\n",
    "\n",
    "# all weights are 1, because this is MC\n",
    "data['N_sig_sw'] = 1\n",
    "data[event_id_column] = event_id"
   ]
  },
  {
   "cell_type": "code",
   "execution_count": 6,
   "metadata": {
    "collapsed": false
   },
   "outputs": [
    {
     "data": {
      "text/html": [
       "<div>\n",
       "<table border=\"1\" class=\"dataframe\">\n",
       "  <thead>\n",
       "    <tr style=\"text-align: right;\">\n",
       "      <th></th>\n",
       "      <th>run</th>\n",
       "      <th>event</th>\n",
       "      <th>No</th>\n",
       "      <th>mult</th>\n",
       "      <th>nnkrec</th>\n",
       "      <th>Bmass</th>\n",
       "      <th>ptB</th>\n",
       "      <th>vflag</th>\n",
       "      <th>ptmean</th>\n",
       "      <th>ipsmean</th>\n",
       "      <th>...</th>\n",
       "      <th>W_M_svtau</th>\n",
       "      <th>M_pointtheta</th>\n",
       "      <th>W_M_pointtheta</th>\n",
       "      <th>docamax</th>\n",
       "      <th>signB</th>\n",
       "      <th>signVtx</th>\n",
       "      <th>N_sig_sw</th>\n",
       "      <th>BOosc</th>\n",
       "      <th>group_column</th>\n",
       "      <th>event_id</th>\n",
       "    </tr>\n",
       "  </thead>\n",
       "  <tbody>\n",
       "    <tr>\n",
       "      <th>0</th>\n",
       "      <td>2517778</td>\n",
       "      <td>1110822</td>\n",
       "      <td>0</td>\n",
       "      <td>1</td>\n",
       "      <td>4</td>\n",
       "      <td>5.27306</td>\n",
       "      <td>5.05964</td>\n",
       "      <td>2</td>\n",
       "      <td>0.851762</td>\n",
       "      <td>55.706501</td>\n",
       "      <td>...</td>\n",
       "      <td>7.349960</td>\n",
       "      <td>0.046197</td>\n",
       "      <td>0.044500</td>\n",
       "      <td>0.000000</td>\n",
       "      <td>1</td>\n",
       "      <td>-1</td>\n",
       "      <td>1</td>\n",
       "      <td>1</td>\n",
       "      <td>320473</td>\n",
       "      <td>2517778_1110822</td>\n",
       "    </tr>\n",
       "    <tr>\n",
       "      <th>1</th>\n",
       "      <td>2517778</td>\n",
       "      <td>1110824</td>\n",
       "      <td>0</td>\n",
       "      <td>1</td>\n",
       "      <td>4</td>\n",
       "      <td>5.27489</td>\n",
       "      <td>11.70600</td>\n",
       "      <td>2</td>\n",
       "      <td>1.564780</td>\n",
       "      <td>8.629360</td>\n",
       "      <td>...</td>\n",
       "      <td>166.444000</td>\n",
       "      <td>0.067733</td>\n",
       "      <td>0.012434</td>\n",
       "      <td>0.000000</td>\n",
       "      <td>1</td>\n",
       "      <td>1</td>\n",
       "      <td>1</td>\n",
       "      <td>0</td>\n",
       "      <td>320474</td>\n",
       "      <td>2517778_1110824</td>\n",
       "    </tr>\n",
       "    <tr>\n",
       "      <th>2</th>\n",
       "      <td>2517778</td>\n",
       "      <td>1110869</td>\n",
       "      <td>0</td>\n",
       "      <td>1</td>\n",
       "      <td>1</td>\n",
       "      <td>5.27815</td>\n",
       "      <td>2.78838</td>\n",
       "      <td>2</td>\n",
       "      <td>1.764510</td>\n",
       "      <td>5.588500</td>\n",
       "      <td>...</td>\n",
       "      <td>128503.000000</td>\n",
       "      <td>0.190129</td>\n",
       "      <td>0.017458</td>\n",
       "      <td>0.000000</td>\n",
       "      <td>1</td>\n",
       "      <td>-1</td>\n",
       "      <td>1</td>\n",
       "      <td>0</td>\n",
       "      <td>320475</td>\n",
       "      <td>2517778_1110869</td>\n",
       "    </tr>\n",
       "    <tr>\n",
       "      <th>3</th>\n",
       "      <td>2517778</td>\n",
       "      <td>1110880</td>\n",
       "      <td>0</td>\n",
       "      <td>1</td>\n",
       "      <td>2</td>\n",
       "      <td>5.28571</td>\n",
       "      <td>8.92569</td>\n",
       "      <td>6</td>\n",
       "      <td>0.881253</td>\n",
       "      <td>6.912300</td>\n",
       "      <td>...</td>\n",
       "      <td>227.988007</td>\n",
       "      <td>0.029884</td>\n",
       "      <td>0.003415</td>\n",
       "      <td>0.085911</td>\n",
       "      <td>1</td>\n",
       "      <td>1</td>\n",
       "      <td>1</td>\n",
       "      <td>0</td>\n",
       "      <td>320476</td>\n",
       "      <td>2517778_1110880</td>\n",
       "    </tr>\n",
       "    <tr>\n",
       "      <th>4</th>\n",
       "      <td>2517778</td>\n",
       "      <td>1110894</td>\n",
       "      <td>0</td>\n",
       "      <td>1</td>\n",
       "      <td>3</td>\n",
       "      <td>5.27156</td>\n",
       "      <td>10.75980</td>\n",
       "      <td>4</td>\n",
       "      <td>0.926523</td>\n",
       "      <td>12.084800</td>\n",
       "      <td>...</td>\n",
       "      <td>57.450001</td>\n",
       "      <td>0.035372</td>\n",
       "      <td>0.010057</td>\n",
       "      <td>0.014691</td>\n",
       "      <td>-1</td>\n",
       "      <td>1</td>\n",
       "      <td>1</td>\n",
       "      <td>0</td>\n",
       "      <td>320477</td>\n",
       "      <td>2517778_1110894</td>\n",
       "    </tr>\n",
       "  </tbody>\n",
       "</table>\n",
       "<p>5 rows × 26 columns</p>\n",
       "</div>"
      ],
      "text/plain": [
       "       run    event  No  mult  nnkrec    Bmass       ptB  vflag    ptmean  \\\n",
       "0  2517778  1110822   0     1       4  5.27306   5.05964      2  0.851762   \n",
       "1  2517778  1110824   0     1       4  5.27489  11.70600      2  1.564780   \n",
       "2  2517778  1110869   0     1       1  5.27815   2.78838      2  1.764510   \n",
       "3  2517778  1110880   0     1       2  5.28571   8.92569      6  0.881253   \n",
       "4  2517778  1110894   0     1       3  5.27156  10.75980      4  0.926523   \n",
       "\n",
       "     ipsmean       ...             W_M_svtau  M_pointtheta  W_M_pointtheta  \\\n",
       "0  55.706501       ...              7.349960      0.046197        0.044500   \n",
       "1   8.629360       ...            166.444000      0.067733        0.012434   \n",
       "2   5.588500       ...         128503.000000      0.190129        0.017458   \n",
       "3   6.912300       ...            227.988007      0.029884        0.003415   \n",
       "4  12.084800       ...             57.450001      0.035372        0.010057   \n",
       "\n",
       "    docamax  signB  signVtx  N_sig_sw  BOosc  group_column         event_id  \n",
       "0  0.000000      1       -1         1      1        320473  2517778_1110822  \n",
       "1  0.000000      1        1         1      0        320474  2517778_1110824  \n",
       "2  0.000000      1       -1         1      0        320475  2517778_1110869  \n",
       "3  0.085911      1        1         1      0        320476  2517778_1110880  \n",
       "4  0.014691     -1        1         1      0        320477  2517778_1110894  \n",
       "\n",
       "[5 rows x 26 columns]"
      ]
     },
     "execution_count": 6,
     "metadata": {},
     "output_type": "execute_result"
    }
   ],
   "source": [
    "data.head()"
   ]
  },
  {
   "cell_type": "code",
   "execution_count": 7,
   "metadata": {
    "collapsed": false
   },
   "outputs": [
    {
     "data": {
      "text/plain": [
       "{'Events': 550720, 'parts': 552781}"
      ]
     },
     "execution_count": 7,
     "metadata": {},
     "output_type": "execute_result"
    }
   ],
   "source": [
    "get_events_statistics(data)"
   ]
  },
  {
   "cell_type": "code",
   "execution_count": 8,
   "metadata": {
    "collapsed": false
   },
   "outputs": [
    {
     "data": {
      "text/plain": [
       "1488891.0"
      ]
     },
     "execution_count": 8,
     "metadata": {},
     "output_type": "execute_result"
    }
   ],
   "source": [
    "import json\n",
    "with open('models/JPsiKMC.json', 'r') as f:\n",
    "    N_B_events = json.load(f)['N_B_events']\n",
    "N_B_events"
   ]
  },
  {
   "cell_type": "code",
   "execution_count": 9,
   "metadata": {
    "collapsed": false
   },
   "outputs": [
    {
     "name": "stdout",
     "output_type": "stream",
     "text": [
      "0.369886042699 0.000498428101082\n"
     ]
    }
   ],
   "source": [
    "N_pass = get_events_number(data)\n",
    "tagging_efficiency = 1. * N_pass / N_B_events\n",
    "tagging_efficiency_delta = sqrt(N_pass) / N_B_events\n",
    "print tagging_efficiency, tagging_efficiency_delta"
   ]
  },
  {
   "cell_type": "code",
   "execution_count": 10,
   "metadata": {
    "collapsed": true
   },
   "outputs": [],
   "source": [
    "Bdata_tracks = pandas.read_csv('models/Bdata_tracks_MC.csv')"
   ]
  },
  {
   "cell_type": "code",
   "execution_count": 11,
   "metadata": {
    "collapsed": false
   },
   "outputs": [],
   "source": [
    "Bdata_tracks.index = Bdata_tracks.event_id"
   ]
  },
  {
   "cell_type": "code",
   "execution_count": 12,
   "metadata": {
    "collapsed": false
   },
   "outputs": [],
   "source": [
    "data['initial_pred'] = Bdata_tracks.ix[data.event_id, 'track_relation_prob'].values"
   ]
  },
  {
   "cell_type": "code",
   "execution_count": 13,
   "metadata": {
    "collapsed": false
   },
   "outputs": [],
   "source": [
    "data.ix[numpy.isnan(data['initial_pred'].values), 'initial_pred'] = 1. "
   ]
  },
  {
   "cell_type": "markdown",
   "metadata": {},
   "source": [
    "### Define features"
   ]
  },
  {
   "cell_type": "code",
   "execution_count": 19,
   "metadata": {
    "collapsed": false
   },
   "outputs": [
    {
     "data": {
      "text/plain": [
       "Index([u'run', u'event', u'No', u'mult', u'nnkrec', u'Bmass', u'ptB', u'vflag',\n",
       "       u'ptmean', u'ipsmean', u'vcharge', u'svm', u'svp', u'M_BDphiDir',\n",
       "       u'W_M_BDphiDir', u'M_svtau', u'W_M_svtau', u'M_pointtheta',\n",
       "       u'W_M_pointtheta', u'docamax', u'signB', u'signVtx', u'N_sig_sw',\n",
       "       u'BOosc', u'group_column', u'event_id', u'initial_pred'],\n",
       "      dtype='object')"
      ]
     },
     "execution_count": 19,
     "metadata": {},
     "output_type": "execute_result"
    }
   ],
   "source": [
    "data.columns"
   ]
  },
  {
   "cell_type": "code",
   "execution_count": 20,
   "metadata": {
    "collapsed": false
   },
   "outputs": [],
   "source": [
    "features =  ['mult', 'nnkrec', 'ptB', 'ipsmean', 'ptmean', 'vcharge', \n",
    "             'svm', 'svp', 'M_BDphiDir', 'M_svtau', 'docamax']"
   ]
  },
  {
   "cell_type": "code",
   "execution_count": 15,
   "metadata": {
    "collapsed": true
   },
   "outputs": [],
   "source": [
    "data_lds = LabeledDataStorage(data, 1 * (data.signB * data.signVtx > 0), data.N_sig_sw)"
   ]
  },
  {
   "cell_type": "markdown",
   "metadata": {},
   "source": [
    "## Training"
   ]
  },
  {
   "cell_type": "code",
   "execution_count": 16,
   "metadata": {
    "collapsed": true
   },
   "outputs": [],
   "source": [
    "from hep_ml.decisiontrain import DecisionTrainClassifier\n",
    "from hep_ml.losses import LogLossFunction"
   ]
  },
  {
   "cell_type": "code",
   "execution_count": 17,
   "metadata": {
    "collapsed": false
   },
   "outputs": [],
   "source": [
    "from hep_ml.losses import HessianLossFunction\n",
    "from hep_ml.commonutils import check_sample_weight\n",
    "from scipy.special import expit\n",
    "\n",
    "class LogLossFunctionTagging(HessianLossFunction):\n",
    "    \"\"\"Logistic loss function (logloss), aka binomial deviance, aka cross-entropy,\n",
    "       aka log-likelihood loss.\n",
    "    \"\"\"  \n",
    "    def fit(self, X, y, sample_weight):\n",
    "        self.sample_weight = check_sample_weight(y, sample_weight=sample_weight,\n",
    "                                                 normalize=True, normalize_by_class=True)\n",
    "        self.initial_pred = numpy.log(X['initial_pred'].values)\n",
    "        self.y_signed = 2 * y - 1\n",
    "        self.minus_y_signed = - self.y_signed\n",
    "        self.y_signed_times_weights = self.y_signed * self.sample_weight\n",
    "        HessianLossFunction.fit(self, X, y, sample_weight=self.sample_weight)\n",
    "        return self\n",
    "\n",
    "    def __call__(self, y_pred):\n",
    "        y_pred = y_pred + self.initial_pred\n",
    "        return numpy.sum(self.sample_weight * numpy.logaddexp(0, self.minus_y_signed * y_pred))\n",
    "\n",
    "    def negative_gradient(self, y_pred):\n",
    "        y_pred = y_pred + self.initial_pred\n",
    "        return self.y_signed_times_weights * expit(self.minus_y_signed * y_pred)\n",
    "\n",
    "    def hessian(self, y_pred):\n",
    "        y_pred = y_pred + self.initial_pred\n",
    "        expits = expit(y_pred)\n",
    "        return self.sample_weight * expits * (1 - expits)\n",
    "\n",
    "    def prepare_tree_params(self, y_pred):\n",
    "        y_pred = y_pred + self.initial_pred\n",
    "        return self.y_signed * expit(self.minus_y_signed * y_pred), self.sample_weight"
   ]
  },
  {
   "cell_type": "code",
   "execution_count": 45,
   "metadata": {
    "collapsed": false
   },
   "outputs": [
    {
     "name": "stdout",
     "output_type": "stream",
     "text": [
      "CPU times: user 4min 34s, sys: 472 ms, total: 4min 35s\n",
      "Wall time: 3min 36s\n"
     ]
    }
   ],
   "source": [
    "tt_base = DecisionTrainClassifier(learning_rate=0.02, n_estimators=3000, depth=6, \n",
    "                                  max_features=8,\n",
    "                                  loss=LogLossFunctionTagging(regularization=100), train_features=features)\n",
    "tt_folding = FoldingClassifier(tt_base, n_folds=2, random_state=11,\n",
    "                               features=features + ['initial_pred'])\n",
    "%time tt_folding.fit_lds(data_lds)\n",
    "pass"
   ]
  },
  {
   "cell_type": "code",
   "execution_count": 46,
   "metadata": {
    "collapsed": true
   },
   "outputs": [],
   "source": [
    "from scipy.special import expit, logit"
   ]
  },
  {
   "cell_type": "code",
   "execution_count": 47,
   "metadata": {
    "collapsed": false
   },
   "outputs": [
    {
     "name": "stdout",
     "output_type": "stream",
     "text": [
      "KFold prediction using folds column\n"
     ]
    },
    {
     "data": {
      "text/plain": [
       "0.68290766983758322"
      ]
     },
     "execution_count": 47,
     "metadata": {},
     "output_type": "execute_result"
    }
   ],
   "source": [
    "p = tt_folding.predict_proba(data)[:, 1]\n",
    "roc_auc_score(data.signB.values,\n",
    "              log(data['initial_pred'].values) + logit(p) * data.signB.values,\n",
    "              sample_weight=data.N_sig_sw.values)"
   ]
  },
  {
   "cell_type": "markdown",
   "metadata": {},
   "source": [
    "### Report for all vtx"
   ]
  },
  {
   "cell_type": "code",
   "execution_count": 48,
   "metadata": {
    "collapsed": false
   },
   "outputs": [
    {
     "name": "stdout",
     "output_type": "stream",
     "text": [
      "KFold prediction using folds column\n"
     ]
    }
   ],
   "source": [
    "report = ClassificationReport({'tt': tt_folding}, data_lds)"
   ]
  },
  {
   "cell_type": "code",
   "execution_count": 49,
   "metadata": {
    "collapsed": false
   },
   "outputs": [
    {
     "name": "stdout",
     "output_type": "stream",
     "text": [
      "KFold prediction using folds column\n"
     ]
    },
    {
     "data": {
      "text/html": [],
      "text/plain": [
       "<rep.plotting.FunctionsPlot at 0x7ff39a8e91d0>"
      ]
     },
     "execution_count": 49,
     "metadata": {},
     "output_type": "execute_result"
    },
    {
     "data": {
      "image/png": "[encoded data removed]",
      "text/plain": [
       "<matplotlib.figure.Figure at 0x7ff39a1e83d0>"
      ]
     },
     "metadata": {},
     "output_type": "display_data"
    }
   ],
   "source": [
    "report.learning_curve(RocAuc())"
   ]
  },
  {
   "cell_type": "code",
   "execution_count": 50,
   "metadata": {
    "collapsed": false
   },
   "outputs": [
    {
     "data": {
      "text/plain": [
       "OrderedDict([('tt', 0.57122015644127921)])"
      ]
     },
     "execution_count": 50,
     "metadata": {},
     "output_type": "execute_result"
    }
   ],
   "source": [
    "report.compute_metric(RocAuc())"
   ]
  },
  {
   "cell_type": "code",
   "execution_count": 51,
   "metadata": {
    "collapsed": false
   },
   "outputs": [
    {
     "data": {
      "text/html": [],
      "text/plain": [
       "<rep.plotting.FunctionsPlot at 0x7ff39acb3950>"
      ]
     },
     "execution_count": 51,
     "metadata": {},
     "output_type": "execute_result"
    },
    {
     "data": {
      "image/png": "[encoded data removed]",
      "text/plain": [
       "<matplotlib.figure.Figure at 0x7ff39ac4a990>"
      ]
     },
     "metadata": {},
     "output_type": "display_data"
    }
   ],
   "source": [
    "report.roc()"
   ]
  },
  {
   "cell_type": "code",
   "execution_count": 53,
   "metadata": {
    "collapsed": false
   },
   "outputs": [],
   "source": [
    "tt_folding.estimators[0].estimators = tt_folding.estimators[0].estimators[:2500]\n",
    "tt_folding.estimators[1].estimators = tt_folding.estimators[1].estimators[:2500]"
   ]
  },
  {
   "cell_type": "markdown",
   "metadata": {},
   "source": [
    "--------"
   ]
  },
  {
   "cell_type": "markdown",
   "metadata": {},
   "source": [
    "## Calibrating results $p(\\text{vrt same sign}|B)$ and combining them"
   ]
  },
  {
   "cell_type": "code",
   "execution_count": 29,
   "metadata": {
    "collapsed": true
   },
   "outputs": [],
   "source": [
    "models = []"
   ]
  },
  {
   "cell_type": "code",
   "execution_count": 30,
   "metadata": {
    "collapsed": true
   },
   "outputs": [],
   "source": [
    "from utils import get_result_with_bootstrap_for_given_part"
   ]
  },
  {
   "cell_type": "code",
   "execution_count": 32,
   "metadata": {
    "collapsed": true
   },
   "outputs": [],
   "source": [
    "data['label'] =  1 * (data.signB * data.signVtx > 0)"
   ]
  },
  {
   "cell_type": "code",
   "execution_count": null,
   "metadata": {
    "collapsed": false
   },
   "outputs": [
    {
     "name": "stdout",
     "output_type": "stream",
     "text": [
      "KFold prediction using folds column\n"
     ]
    },
    {
     "data": {
      "image/png": "[encoded data removed]",
      "text/plain": [
       "<matplotlib.figure.Figure at 0x7ff39acbaa10>"
      ]
     },
     "metadata": {},
     "output_type": "display_data"
    },
    {
     "name": "stdout",
     "output_type": "stream",
     "text": [
      "AUC for tagged: 0.605187162372 AUC with untag: 0.546709330325\n"
     ]
    }
   ],
   "source": [
    "result = get_result_with_bootstrap_for_given_part(tagging_efficiency, tagging_efficiency_delta, tt_folding, \n",
    "                                                  [data], 'tt-log', logistic=True, N_B_events=N_B_events, \n",
    "                                                  n_calibrations=30, sign_part_column='signVtx', part_name='vertex')\n",
    "result"
   ]
  },
  {
   "cell_type": "code",
   "execution_count": 33,
   "metadata": {
    "collapsed": false
   },
   "outputs": [
    {
     "name": "stdout",
     "output_type": "stream",
     "text": [
      "KFold prediction using folds column\n"
     ]
    },
    {
     "data": {
      "image/png": "[encoded data removed]",
      "text/plain": [
       "<matplotlib.figure.Figure at 0x7ff399fd6790>"
      ]
     },
     "metadata": {},
     "output_type": "display_data"
    },
    {
     "name": "stdout",
     "output_type": "stream",
     "text": [
      "AUC for tagged: 0.60511096162 AUC with untag: 0.546616378757\n"
     ]
    },
    {
     "data": {
      "image/png": "[encoded data removed]",
      "text/plain": [
       "<matplotlib.figure.Figure at 0x7ff399fd6ad0>"
      ]
     },
     "metadata": {},
     "output_type": "display_data"
    },
    {
     "name": "stdout",
     "output_type": "stream",
     "text": [
      "mean AUC after calibration: 0.604944329219 2.68784269792e-09\n"
     ]
    },
    {
     "data": {
      "text/html": [
       "<div>\n",
       "<table border=\"1\" class=\"dataframe\">\n",
       "  <thead>\n",
       "    <tr style=\"text-align: right;\">\n",
       "      <th></th>\n",
       "      <th>name</th>\n",
       "      <th>$\\epsilon_{tag}, \\%$</th>\n",
       "      <th>$\\Delta \\epsilon_{tag}, \\%$</th>\n",
       "      <th>$D^2$</th>\n",
       "      <th>$\\Delta D^2$</th>\n",
       "      <th>$\\epsilon, \\%$</th>\n",
       "      <th>$\\Delta \\epsilon, \\%$</th>\n",
       "      <th>AUC, with untag</th>\n",
       "      <th>$\\Delta$ AUC, with untag</th>\n",
       "    </tr>\n",
       "  </thead>\n",
       "  <tbody>\n",
       "    <tr>\n",
       "      <th>0</th>\n",
       "      <td>tt-log</td>\n",
       "      <td>36.988604</td>\n",
       "      <td>0.049843</td>\n",
       "      <td>0.038955</td>\n",
       "      <td>0.000025</td>\n",
       "      <td>1.440907</td>\n",
       "      <td>0.002147</td>\n",
       "      <td>54.661638</td>\n",
       "      <td>0</td>\n",
       "    </tr>\n",
       "  </tbody>\n",
       "</table>\n",
       "</div>"
      ],
      "text/plain": [
       "     name  $\\epsilon_{tag}, \\%$  $\\Delta \\epsilon_{tag}, \\%$     $D^2$  \\\n",
       "0  tt-log             36.988604                     0.049843  0.038955   \n",
       "\n",
       "   $\\Delta D^2$  $\\epsilon, \\%$  $\\Delta \\epsilon, \\%$  AUC, with untag  \\\n",
       "0      0.000025        1.440907               0.002147        54.661638   \n",
       "\n",
       "   $\\Delta$ AUC, with untag  \n",
       "0                         0  "
      ]
     },
     "execution_count": 33,
     "metadata": {},
     "output_type": "execute_result"
    }
   ],
   "source": [
    "result = get_result_with_bootstrap_for_given_part(tagging_efficiency, tagging_efficiency_delta, tt_folding, \n",
    "                                                  [data], 'tt-log', logistic=True, N_B_events=N_B_events, \n",
    "                                                  n_calibrations=30, sign_part_column='signVtx', part_name='vertex')\n",
    "result"
   ]
  },
  {
   "cell_type": "markdown",
   "metadata": {
    "collapsed": true
   },
   "source": [
    "## Implementing the best vertex model\n",
    "\n",
    "and saving its predictions"
   ]
  },
  {
   "cell_type": "code",
   "execution_count": 34,
   "metadata": {
    "collapsed": true
   },
   "outputs": [],
   "source": [
    "from utils import prepare_B_data_for_given_part"
   ]
  },
  {
   "cell_type": "code",
   "execution_count": 36,
   "metadata": {
    "collapsed": false
   },
   "outputs": [
    {
     "name": "stdout",
     "output_type": "stream",
     "text": [
      "KFold prediction using folds column\n"
     ]
    },
    {
     "data": {
      "image/png": "[encoded data removed]",
      "text/plain": [
       "<matplotlib.figure.Figure at 0x7ff39aad3e50>"
      ]
     },
     "metadata": {},
     "output_type": "display_data"
    },
    {
     "name": "stdout",
     "output_type": "stream",
     "text": [
      "AUC for tagged: 0.60511096162 AUC with untag: 0.546616378757\n"
     ]
    },
    {
     "data": {
      "image/png": "[encoded data removed]",
      "text/plain": [
       "<matplotlib.figure.Figure at 0x7ff39a8d8b10>"
      ]
     },
     "metadata": {},
     "output_type": "display_data"
    }
   ],
   "source": [
    "Bdata_prepared = prepare_B_data_for_given_part(tt_folding, [data], N_B_events, logistic=True,\n",
    "                                               sign_part_column='signVtx', part_name='vertex')"
   ]
  },
  {
   "cell_type": "code",
   "execution_count": 37,
   "metadata": {
    "collapsed": true
   },
   "outputs": [],
   "source": [
    "Bdata_prepared.to_csv('models/Bdata_vertex_MC_loss.csv', header=True, index=False)"
   ]
  }
 ],
 "metadata": {
  "kernelspec": {
   "display_name": "Python 2",
   "language": "python",
   "name": "python2"
  },
  "language_info": {
   "codemirror_mode": {
    "name": "ipython",
    "version": 2
   },
   "file_extension": ".py",
   "mimetype": "text/x-python",
   "name": "python",
   "nbconvert_exporter": "python",
   "pygments_lexer": "ipython2",
   "version": "2.7.12"
  }
 },
 "nbformat": 4,
 "nbformat_minor": 0
}
