{
 "cells": [
  {
   "cell_type": "code",
   "execution_count": 1,
   "metadata": {
    "collapsed": false
   },
   "outputs": [
    {
     "name": "stdout",
     "output_type": "stream",
     "text": [
      "Populating the interactive namespace from numpy and matplotlib\n"
     ]
    }
   ],
   "source": [
    "%pylab inline"
   ]
  },
  {
   "cell_type": "code",
   "execution_count": 4,
   "metadata": {
    "collapsed": true
   },
   "outputs": [],
   "source": [
    "import sys\n",
    "sys.path.insert(0, \"../../\")"
   ]
  },
  {
   "cell_type": "markdown",
   "metadata": {},
   "source": [
    "# Import"
   ]
  },
  {
   "cell_type": "code",
   "execution_count": 5,
   "metadata": {
    "collapsed": false
   },
   "outputs": [
    {
     "name": "stderr",
     "output_type": "stream",
     "text": [
      "/mnt/mfs/miniconda/envs/rep_py2/lib/python2.7/site-packages/sklearn/cross_validation.py:44: DeprecationWarning: This module was deprecated in version 0.18 in favor of the model_selection module into which all the refactored classes and functions are moved. Also note that the interface of the new CV iterators are different from that of this module. This module will be removed in 0.20.\n",
      "  \"This module will be removed in 0.20.\", DeprecationWarning)\n"
     ]
    }
   ],
   "source": [
    "import pandas\n",
    "import root_numpy\n",
    "from folding_group import FoldingGroupClassifier\n",
    "from decisiontrain import DecisionTrainClassifier\n",
    "from rep.estimators import SklearnClassifier"
   ]
  },
  {
   "cell_type": "markdown",
   "metadata": {},
   "source": [
    "# Read $B^\\pm \\to J\\psi K^\\pm$ MC samples"
   ]
  },
  {
   "cell_type": "code",
   "execution_count": 6,
   "metadata": {
    "collapsed": false
   },
   "outputs": [],
   "source": [
    "data = pandas.DataFrame(root_numpy.root2array('../../datasets/MC/csv/WG/Bu_JPsiK/2012/Tracks.root'))"
   ]
  },
  {
   "cell_type": "code",
   "execution_count": 7,
   "metadata": {
    "collapsed": false
   },
   "outputs": [
    {
     "data": {
      "text/plain": [
       "Index([u'run', u'event', u'Bmass', u'time', u'i', u'mult', u'partP', u'partPt',\n",
       "       u'ptB', u'IPs', u'IP', u'IPerr', u'partlcs', u'EOverP', u'ghostProb',\n",
       "       u'IPPU', u'nnkrec', u'PIDNNk', u'PIDNNpi', u'PIDNNp', u'PIDNNm',\n",
       "       u'PIDNNe', u'diff_eta', u'diff_phi', u'phi', u'eta', u'proj', u'ID',\n",
       "       u'veloch', u'signB', u'signTrack', u'Dist_phi', u'N_sig_sw', u'mu_cut',\n",
       "       u'e_cut', u'K_cut', u'MCID', u'OS_SS', u'xFlag', u'K_MCID', u'BOosc'],\n",
       "      dtype='object')"
      ]
     },
     "execution_count": 7,
     "metadata": {},
     "output_type": "execute_result"
    }
   ],
   "source": [
    "data.columns"
   ]
  },
  {
   "cell_type": "code",
   "execution_count": 8,
   "metadata": {
    "collapsed": false
   },
   "outputs": [
    {
     "name": "stderr",
     "output_type": "stream",
     "text": [
      "/mnt/mfs/miniconda/envs/rep_py2/lib/python2.7/site-packages/pandas/core/indexing.py:296: SettingWithCopyWarning: \n",
      "A value is trying to be set on a copy of a slice from a DataFrame.\n",
      "Try using .loc[row_indexer,col_indexer] = value instead\n",
      "\n",
      "See the caveats in the documentation: http://pandas.pydata.org/pandas-docs/stable/indexing.html#indexing-view-versus-copy\n",
      "  self.obj[key] = _infer_fill_value(value)\n",
      "/mnt/mfs/miniconda/envs/rep_py2/lib/python2.7/site-packages/pandas/core/indexing.py:476: SettingWithCopyWarning: \n",
      "A value is trying to be set on a copy of a slice from a DataFrame.\n",
      "Try using .loc[row_indexer,col_indexer] = value instead\n",
      "\n",
      "See the caveats in the documentation: http://pandas.pydata.org/pandas-docs/stable/indexing.html#indexing-view-versus-copy\n",
      "  self.obj[item] = s\n"
     ]
    },
    {
     "name": "stdout",
     "output_type": "stream",
     "text": [
      "Initial statistics: {'parts': 33632195, 'Events': 1488891}\n",
      "after  (ghostProb < 0.4)  selection, statistics: {'parts': 32813556, 'Events': 1488885}\n",
      "after   ( (PIDNNk > 0.0) | (PIDNNm > 0.0) | (PIDNNe > 0.0) | (PIDNNpi > 0.0) | (PIDNNp > 0.0))   selection, statistics: {'parts': 32808324, 'Events': 1488885}\n"
     ]
    }
   ],
   "source": [
    "from utils import data_tracks_preprocessing\n",
    "data = data_tracks_preprocessing(data)"
   ]
  },
  {
   "cell_type": "code",
   "execution_count": 9,
   "metadata": {
    "collapsed": false
   },
   "outputs": [
    {
     "data": {
      "text/plain": [
       "32808324"
      ]
     },
     "execution_count": 9,
     "metadata": {},
     "output_type": "execute_result"
    }
   ],
   "source": [
    "len(data)"
   ]
  },
  {
   "cell_type": "code",
   "execution_count": 10,
   "metadata": {
    "collapsed": false
   },
   "outputs": [
    {
     "data": {
      "text/plain": [
       "Index([u'run', u'event', u'Bmass', u'time', u'i', u'mult', u'partP', u'partPt',\n",
       "       u'ptB', u'IPs', u'IP', u'IPerr', u'partlcs', u'EOverP', u'ghostProb',\n",
       "       u'IPPU', u'nnkrec', u'PIDNNk', u'PIDNNpi', u'PIDNNp', u'PIDNNm',\n",
       "       u'PIDNNe', u'diff_eta', u'diff_phi', u'phi', u'eta', u'proj', u'ID',\n",
       "       u'veloch', u'signB', u'signTrack', u'Dist_phi', u'N_sig_sw', u'mu_cut',\n",
       "       u'e_cut', u'K_cut', u'MCID', u'OS_SS', u'xFlag', u'K_MCID', u'BOosc',\n",
       "       u'group_column', u'event_id', u'diff_pt', u'cos_diff_phi',\n",
       "       u'max_PID_mu_k', u'sum_PID_mu_k', u'max_PID_mu_e', u'sum_PID_mu_e',\n",
       "       u'max_PID_k_e', u'sum_PID_k_e', u'label'],\n",
       "      dtype='object')"
      ]
     },
     "execution_count": 10,
     "metadata": {},
     "output_type": "execute_result"
    }
   ],
   "source": [
    "data.columns"
   ]
  },
  {
   "cell_type": "code",
   "execution_count": 11,
   "metadata": {
    "collapsed": false
   },
   "outputs": [
    {
     "data": {
      "text/plain": [
       "(array([  4249707.,   1092978.,    753902.,    654771.,    662661.,\n",
       "           767377.,   1036587.,   1637378.,   3119303.,  14261317.]),\n",
       " array([ 0.        ,  0.09999873,  0.19999746,  0.29999619,  0.39999492,\n",
       "         0.49999365,  0.59999238,  0.69999111,  0.79998984,  0.89998857,\n",
       "         0.9999873 ]),\n",
       " <a list of 10 Patch objects>)"
      ]
     },
     "execution_count": 11,
     "metadata": {},
     "output_type": "execute_result"
    },
    {
     "data": {
      "image/png": "[encoded data removed]",
      "text/plain": [
       "<matplotlib.figure.Figure at 0x7f78b56f1a90>"
      ]
     },
     "metadata": {},
     "output_type": "display_data"
    }
   ],
   "source": [
    "hist(data.PIDNNpi[data.PIDNNm < 0].values)"
   ]
  },
  {
   "cell_type": "code",
   "execution_count": 12,
   "metadata": {
    "collapsed": false
   },
   "outputs": [
    {
     "data": {
      "text/plain": [
       "(array([ 21738245.,   2550815.,   1128360.,    698935.,    511239.,\n",
       "           419523.,    355208.,    309259.,    277349.,    247048.]),\n",
       " array([ 0.        ,  0.03999998,  0.07999996,  0.11999994,  0.15999992,\n",
       "         0.1999999 ,  0.23999988,  0.27999986,  0.31999984,  0.35999982,\n",
       "         0.3999998 ]),\n",
       " <a list of 10 Patch objects>)"
      ]
     },
     "execution_count": 12,
     "metadata": {},
     "output_type": "execute_result"
    },
    {
     "data": {
      "image/png": "[encoded data removed]",
      "text/plain": [
       "<matplotlib.figure.Figure at 0x7f78a3aafb10>"
      ]
     },
     "metadata": {},
     "output_type": "display_data"
    }
   ],
   "source": [
    "hist(data.ghostProb[data.PIDNNm < 0].values)"
   ]
  },
  {
   "cell_type": "code",
   "execution_count": 13,
   "metadata": {
    "collapsed": true
   },
   "outputs": [],
   "source": [
    "features = ['diff_phi', 'partPt', 'partP', 'nnkrec', 'diff_eta', 'EOverP', \n",
    "            'ptB', 'proj', 'PIDNNe', 'PIDNNk', 'PIDNNm', 'PIDNNpi', 'PIDNNp',\n",
    "            'phi', 'IP', 'IPerr', 'veloch', 'ghostProb', 'IPPU', 'eta', 'partlcs', u'signB', u'signTrack',\n",
    "            'group_column']"
   ]
  },
  {
   "cell_type": "code",
   "execution_count": 14,
   "metadata": {
    "collapsed": false
   },
   "outputs": [],
   "source": [
    "x = numpy.unique(data.group_column)"
   ]
  },
  {
   "cell_type": "code",
   "execution_count": 15,
   "metadata": {
    "collapsed": true
   },
   "outputs": [],
   "source": [
    "from rep.utils import train_test_split_group\n",
    "data_new = data[features]"
   ]
  },
  {
   "cell_type": "code",
   "execution_count": 16,
   "metadata": {
    "collapsed": false
   },
   "outputs": [],
   "source": [
    "data, _ = train_test_split_group(data.group_column, data_new, train_size=500000)"
   ]
  },
  {
   "cell_type": "code",
   "execution_count": 17,
   "metadata": {
    "collapsed": false
   },
   "outputs": [
    {
     "data": {
      "text/plain": [
       "11022371"
      ]
     },
     "execution_count": 17,
     "metadata": {},
     "output_type": "execute_result"
    }
   ],
   "source": [
    "len(data)"
   ]
  },
  {
   "cell_type": "code",
   "execution_count": 18,
   "metadata": {
    "collapsed": false
   },
   "outputs": [
    {
     "data": {
      "text/plain": [
       "diff_phi        float32\n",
       "partPt          float32\n",
       "partP           float32\n",
       "nnkrec            int32\n",
       "diff_eta        float32\n",
       "EOverP          float32\n",
       "ptB             float32\n",
       "proj            float32\n",
       "PIDNNe          float32\n",
       "PIDNNk          float32\n",
       "PIDNNm          float32\n",
       "PIDNNpi         float32\n",
       "PIDNNp          float32\n",
       "phi             float32\n",
       "IP              float32\n",
       "IPerr           float32\n",
       "veloch          float32\n",
       "ghostProb       float32\n",
       "IPPU            float32\n",
       "eta             float32\n",
       "partlcs         float32\n",
       "signB             int32\n",
       "signTrack       float32\n",
       "group_column      int64\n",
       "dtype: object"
      ]
     },
     "execution_count": 18,
     "metadata": {},
     "output_type": "execute_result"
    }
   ],
   "source": [
    "data.dtypes"
   ]
  },
  {
   "cell_type": "code",
   "execution_count": 19,
   "metadata": {
    "collapsed": false
   },
   "outputs": [],
   "source": [
    "root_numpy.array2root(data.to_records(index=False), \"tagging.root\", mode='recreate')"
   ]
  }
 ],
 "metadata": {
  "kernelspec": {
   "display_name": "Python 2",
   "language": "python",
   "name": "python2"
  },
  "language_info": {
   "codemirror_mode": {
    "name": "ipython",
    "version": 2
   },
   "file_extension": ".py",
   "mimetype": "text/x-python",
   "name": "python",
   "nbconvert_exporter": "python",
   "pygments_lexer": "ipython2",
   "version": "2.7.12"
  }
 },
 "nbformat": 4,
 "nbformat_minor": 0
}
