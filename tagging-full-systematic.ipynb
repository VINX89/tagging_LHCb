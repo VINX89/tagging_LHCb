{
 "cells": [
  {
   "cell_type": "code",
   "execution_count": 1,
   "metadata": {
    "collapsed": false
   },
   "outputs": [
    {
     "name": "stdout",
     "output_type": "stream",
     "text": [
      "Populating the interactive namespace from numpy and matplotlib\n"
     ]
    }
   ],
   "source": [
    "%pylab inline\n",
    "figsize(8, 6)"
   ]
  },
  {
   "cell_type": "markdown",
   "metadata": {},
   "source": [
    "##Import"
   ]
  },
  {
   "cell_type": "code",
   "execution_count": 2,
   "metadata": {
    "collapsed": false
   },
   "outputs": [],
   "source": [
    "import pandas\n",
    "import numexpr\n",
    "import numpy\n",
    "from rep_ef.estimators import MatrixNetSkyGridClassifier\n",
    "from rep.metaml import FoldingClassifier\n",
    "from rep.data import LabeledDataStorage\n",
    "from rep.report import ClassificationReport\n",
    "from rep.report.metrics import RocAuc\n",
    "\n",
    "from sklearn.ensemble import RandomForestClassifier\n",
    "from sklearn.metrics import roc_curve, roc_auc_score"
   ]
  },
  {
   "cell_type": "code",
   "execution_count": 3,
   "metadata": {
    "collapsed": true
   },
   "outputs": [],
   "source": [
    "from utils import get_N_B_events, get_events_number, get_events_statistics"
   ]
  },
  {
   "cell_type": "markdown",
   "metadata": {},
   "source": [
    "# Reading tagging data"
   ]
  },
  {
   "cell_type": "markdown",
   "metadata": {},
   "source": [
    "## track data"
   ]
  },
  {
   "cell_type": "code",
   "execution_count": 4,
   "metadata": {
    "collapsed": false
   },
   "outputs": [],
   "source": [
    "data_track_nan = pandas.read_csv('datasets/Tracks.csv', sep='\\t')"
   ]
  },
  {
   "cell_type": "code",
   "execution_count": 5,
   "metadata": {
    "collapsed": false
   },
   "outputs": [
    {
     "data": {
      "text/html": [
       "<div style=\"max-height:1000px;max-width:1500px;overflow:auto;\">\n",
       "<table border=\"1\" class=\"dataframe\">\n",
       "  <thead>\n",
       "    <tr style=\"text-align: right;\">\n",
       "      <th></th>\n",
       "      <th>run</th>\n",
       "      <th>event</th>\n",
       "      <th>Bmass</th>\n",
       "      <th>i</th>\n",
       "      <th>mult</th>\n",
       "      <th>partP</th>\n",
       "      <th>partPt</th>\n",
       "      <th>ptB</th>\n",
       "      <th>IPs</th>\n",
       "      <th>IP</th>\n",
       "      <th>...</th>\n",
       "      <th>proj</th>\n",
       "      <th>ID</th>\n",
       "      <th>veloch</th>\n",
       "      <th>signB</th>\n",
       "      <th>signTrack</th>\n",
       "      <th>Dist_phi</th>\n",
       "      <th>N_sig_sw</th>\n",
       "      <th>mu_cut</th>\n",
       "      <th>e_cut</th>\n",
       "      <th>K_cut</th>\n",
       "    </tr>\n",
       "  </thead>\n",
       "  <tbody>\n",
       "    <tr>\n",
       "      <th>0</th>\n",
       "      <td> 115839</td>\n",
       "      <td> 204997902</td>\n",
       "      <td> 5.309576</td>\n",
       "      <td> 0</td>\n",
       "      <td> 13</td>\n",
       "      <td>  3.67156</td>\n",
       "      <td> 0.300418</td>\n",
       "      <td> 4.004197</td>\n",
       "      <td> 0.816143</td>\n",
       "      <td> 0.056365</td>\n",
       "      <td>...</td>\n",
       "      <td>  1.058442</td>\n",
       "      <td>-211</td>\n",
       "      <td> 0.911645</td>\n",
       "      <td> 1</td>\n",
       "      <td>-1</td>\n",
       "      <td> 0.114615</td>\n",
       "      <td> 0.59521</td>\n",
       "      <td> 0</td>\n",
       "      <td> 0</td>\n",
       "      <td> 0</td>\n",
       "    </tr>\n",
       "    <tr>\n",
       "      <th>1</th>\n",
       "      <td> 115839</td>\n",
       "      <td> 204997902</td>\n",
       "      <td> 5.309576</td>\n",
       "      <td> 1</td>\n",
       "      <td> 13</td>\n",
       "      <td>  8.33952</td>\n",
       "      <td> 1.103876</td>\n",
       "      <td> 4.004197</td>\n",
       "      <td> 1.375382</td>\n",
       "      <td> 0.033095</td>\n",
       "      <td>...</td>\n",
       "      <td>  3.121358</td>\n",
       "      <td>-211</td>\n",
       "      <td> 0.796731</td>\n",
       "      <td> 1</td>\n",
       "      <td>-1</td>\n",
       "      <td> 0.051334</td>\n",
       "      <td> 0.59521</td>\n",
       "      <td> 0</td>\n",
       "      <td> 0</td>\n",
       "      <td> 0</td>\n",
       "    </tr>\n",
       "    <tr>\n",
       "      <th>2</th>\n",
       "      <td> 115839</td>\n",
       "      <td> 204997902</td>\n",
       "      <td> 5.309576</td>\n",
       "      <td> 2</td>\n",
       "      <td> 13</td>\n",
       "      <td>  8.37654</td>\n",
       "      <td> 1.182519</td>\n",
       "      <td> 4.004197</td>\n",
       "      <td> 4.338812</td>\n",
       "      <td> 0.077636</td>\n",
       "      <td>...</td>\n",
       "      <td> 10.585135</td>\n",
       "      <td>-211</td>\n",
       "      <td> 0.946629</td>\n",
       "      <td> 1</td>\n",
       "      <td>-1</td>\n",
       "      <td> 1.856516</td>\n",
       "      <td> 0.59521</td>\n",
       "      <td> 0</td>\n",
       "      <td> 0</td>\n",
       "      <td> 0</td>\n",
       "    </tr>\n",
       "    <tr>\n",
       "      <th>3</th>\n",
       "      <td> 115839</td>\n",
       "      <td> 204997902</td>\n",
       "      <td> 5.309576</td>\n",
       "      <td> 3</td>\n",
       "      <td> 13</td>\n",
       "      <td> 25.72961</td>\n",
       "      <td> 0.905010</td>\n",
       "      <td> 4.004197</td>\n",
       "      <td> 2.287509</td>\n",
       "      <td> 0.086603</td>\n",
       "      <td>...</td>\n",
       "      <td>  7.485243</td>\n",
       "      <td> 211</td>\n",
       "      <td> 1.058989</td>\n",
       "      <td> 1</td>\n",
       "      <td> 1</td>\n",
       "      <td> 0.577419</td>\n",
       "      <td> 0.59521</td>\n",
       "      <td> 0</td>\n",
       "      <td> 0</td>\n",
       "      <td> 0</td>\n",
       "    </tr>\n",
       "    <tr>\n",
       "      <th>4</th>\n",
       "      <td> 115839</td>\n",
       "      <td> 204997902</td>\n",
       "      <td> 5.309576</td>\n",
       "      <td> 4</td>\n",
       "      <td> 13</td>\n",
       "      <td>  3.70597</td>\n",
       "      <td> 0.516123</td>\n",
       "      <td> 4.004197</td>\n",
       "      <td> 0.562424</td>\n",
       "      <td> 0.015694</td>\n",
       "      <td>...</td>\n",
       "      <td>  5.617354</td>\n",
       "      <td> 211</td>\n",
       "      <td> 1.042135</td>\n",
       "      <td> 1</td>\n",
       "      <td> 1</td>\n",
       "      <td> 1.314513</td>\n",
       "      <td> 0.59521</td>\n",
       "      <td> 0</td>\n",
       "      <td> 0</td>\n",
       "      <td> 0</td>\n",
       "    </tr>\n",
       "  </tbody>\n",
       "</table>\n",
       "<p>5 rows × 35 columns</p>\n",
       "</div>"
      ],
      "text/plain": [
       "      run      event     Bmass  i  mult     partP    partPt       ptB  \\\n",
       "0  115839  204997902  5.309576  0    13   3.67156  0.300418  4.004197   \n",
       "1  115839  204997902  5.309576  1    13   8.33952  1.103876  4.004197   \n",
       "2  115839  204997902  5.309576  2    13   8.37654  1.182519  4.004197   \n",
       "3  115839  204997902  5.309576  3    13  25.72961  0.905010  4.004197   \n",
       "4  115839  204997902  5.309576  4    13   3.70597  0.516123  4.004197   \n",
       "\n",
       "        IPs        IP    ...          proj   ID    veloch  signB  signTrack  \\\n",
       "0  0.816143  0.056365    ...      1.058442 -211  0.911645      1         -1   \n",
       "1  1.375382  0.033095    ...      3.121358 -211  0.796731      1         -1   \n",
       "2  4.338812  0.077636    ...     10.585135 -211  0.946629      1         -1   \n",
       "3  2.287509  0.086603    ...      7.485243  211  1.058989      1          1   \n",
       "4  0.562424  0.015694    ...      5.617354  211  1.042135      1          1   \n",
       "\n",
       "   Dist_phi  N_sig_sw  mu_cut  e_cut  K_cut  \n",
       "0  0.114615   0.59521       0      0      0  \n",
       "1  0.051334   0.59521       0      0      0  \n",
       "2  1.856516   0.59521       0      0      0  \n",
       "3  0.577419   0.59521       0      0      0  \n",
       "4  1.314513   0.59521       0      0      0  \n",
       "\n",
       "[5 rows x 35 columns]"
      ]
     },
     "execution_count": 5,
     "metadata": {},
     "output_type": "execute_result"
    }
   ],
   "source": [
    "data_track_nan.head()"
   ]
  },
  {
   "cell_type": "code",
   "execution_count": 6,
   "metadata": {
    "collapsed": true
   },
   "outputs": [],
   "source": [
    "event_id_column = 'event_id'\n",
    "data_track_nan[event_id_column] = data_track_nan.run.apply(str) + '_' + data_track_nan.event.apply(str)"
   ]
  },
  {
   "cell_type": "code",
   "execution_count": 7,
   "metadata": {
    "collapsed": false
   },
   "outputs": [
    {
     "data": {
      "text/plain": [
       "{'Events': 1005757, 'tracks': 27156193}"
      ]
     },
     "execution_count": 7,
     "metadata": {},
     "output_type": "execute_result"
    }
   ],
   "source": [
    "get_events_statistics(data_track_nan)"
   ]
  },
  {
   "cell_type": "code",
   "execution_count": 8,
   "metadata": {
    "collapsed": false
   },
   "outputs": [
    {
     "data": {
      "text/plain": [
       "742867.7142562866"
      ]
     },
     "execution_count": 8,
     "metadata": {},
     "output_type": "execute_result"
    }
   ],
   "source": [
    "get_N_B_events()"
   ]
  },
  {
   "cell_type": "markdown",
   "metadata": {},
   "source": [
    "## Remove rows with NAN from data"
   ]
  },
  {
   "cell_type": "code",
   "execution_count": 9,
   "metadata": {
    "collapsed": false
   },
   "outputs": [
    {
     "data": {
      "text/plain": [
       "(27156193, 27156190, {'Events': 1005757, 'tracks': 27156190})"
      ]
     },
     "execution_count": 9,
     "metadata": {},
     "output_type": "execute_result"
    }
   ],
   "source": [
    "data_track = data_track_nan.dropna()\n",
    "len(data_track_nan), len(data_track), get_events_statistics(data_track)"
   ]
  },
  {
   "cell_type": "markdown",
   "metadata": {},
   "source": [
    "### Add diff_pt and cos(diff_phi)"
   ]
  },
  {
   "cell_type": "code",
   "execution_count": 10,
   "metadata": {
    "collapsed": true
   },
   "outputs": [],
   "source": [
    "# add different between max pt in event and pt for each track\n",
    "def add_diff_pt(data):\n",
    "    max_pt = group_max(data[event_id_column].values.astype(str), data.partPt.values)\n",
    "    data['diff_pt'] = max_pt - data['partPt'].values\n",
    "\n",
    "# max is computing max over tracks in the same event for saome data\n",
    "def group_max(groups, data):\n",
    "    # computing unique integer id for each group\n",
    "    assert len(groups) == len(data)\n",
    "    _, event_id = numpy.unique(groups, return_inverse=True)\n",
    "    max_over_event = numpy.zeros(max(event_id) + 1) - numpy.inf\n",
    "    numpy.maximum.at(max_over_event, event_id, data)\n",
    "    return max_over_event[event_id]"
   ]
  },
  {
   "cell_type": "code",
   "execution_count": 11,
   "metadata": {
    "collapsed": false
   },
   "outputs": [],
   "source": [
    "# add diff pt\n",
    "add_diff_pt(data_track)\n",
    "# add cos(diff_phi)\n",
    "data_track['cos_diff_phi'] = numpy.cos(data_track.diff_phi.values)"
   ]
  },
  {
   "cell_type": "markdown",
   "metadata": {},
   "source": [
    "### Add max, sum among PIDs"
   ]
  },
  {
   "cell_type": "code",
   "execution_count": 12,
   "metadata": {
    "collapsed": true
   },
   "outputs": [],
   "source": [
    "from itertools import combinations\n",
    "PIDs = {'k': data_track.PIDNNk.values,\n",
    "        'e': data_track.PIDNNe.values,\n",
    "        'mu': data_track.PIDNNm.values,\n",
    "       }\n",
    "for (pid_name1, pid_values1), (pid_name2, pid_values2) in combinations(PIDs.items(), 2):\n",
    "    data_track['max_PID_{}_{}'.format(pid_name1, pid_name2)] = numpy.maximum(pid_values1, pid_values2)\n",
    "    data_track['sum_PID_{}_{}'.format(pid_name1, pid_name2)] = pid_values1 + pid_values2"
   ]
  },
  {
   "cell_type": "markdown",
   "metadata": {},
   "source": [
    "## define `label` = `signB` * `signTrack`\n",
    "\n",
    "* if > 0 (same sign) - label **1**\n",
    "* if < 0 (different sign) - label **0**"
   ]
  },
  {
   "cell_type": "code",
   "execution_count": 13,
   "metadata": {
    "collapsed": false
   },
   "outputs": [],
   "source": [
    "data_track['label'] = (data_track.signB.values * data_track.signTrack.values > 0) * 1"
   ]
  },
  {
   "cell_type": "markdown",
   "metadata": {},
   "source": [
    "### Filter out protons and pions, apply ghost prob cut"
   ]
  },
  {
   "cell_type": "code",
   "execution_count": 14,
   "metadata": {
    "collapsed": false
   },
   "outputs": [],
   "source": [
    "threshold_mistag = 0.6\n",
    "initial_cut = '(PIDNNp < {tr}) & (PIDNNpi < {tr}) & (ghostProb < 0.4)'.format(tr=threshold_mistag)\n",
    "data_track = data_track.query(initial_cut)"
   ]
  },
  {
   "cell_type": "markdown",
   "metadata": {},
   "source": [
    "### Leave muons, kaons, electrons"
   ]
  },
  {
   "cell_type": "code",
   "execution_count": 15,
   "metadata": {
    "collapsed": true
   },
   "outputs": [],
   "source": [
    "threshold_kaon = 0.7 \n",
    "threshold_muon = 0.4\n",
    "threshold_electron = 0.6\n",
    "cut_pid = \"\"\"\n",
    "            ((PIDNNk > {trk}) \n",
    "                | (PIDNNm > {trm}) \n",
    "                | (PIDNNe > {tre})) \"\"\".format(trk=threshold_kaon, trm=threshold_muon,\n",
    "                                               tre=threshold_electron).replace(\"\\n\", \"\")\n",
    "    \n",
    "data_track = data_track.query(cut_pid)"
   ]
  },
  {
   "cell_type": "code",
   "execution_count": 16,
   "metadata": {
    "collapsed": false
   },
   "outputs": [
    {
     "data": {
      "text/plain": [
       "{'Events': 657874, 'tracks': 1191986}"
      ]
     },
     "execution_count": 16,
     "metadata": {},
     "output_type": "execute_result"
    }
   ],
   "source": [
    "get_events_statistics(data_track)"
   ]
  },
  {
   "cell_type": "markdown",
   "metadata": {},
   "source": [
    "## vertex data"
   ]
  },
  {
   "cell_type": "code",
   "execution_count": 17,
   "metadata": {
    "collapsed": false
   },
   "outputs": [],
   "source": [
    "import root_numpy\n",
    "data_vertex = pandas.DataFrame(root_numpy.root2array('datasets/1016_vtx.root'))\n",
    "\n",
    "data_vertex[event_id_column] = data_vertex.runNum.apply(str) + '_' + (data_vertex.evtNum.apply(int)).apply(str)\n",
    "# reconstructing sign of B\n",
    "data_vertex['signB'] = data_vertex.tagAnswer * (2 * data_vertex.iscorrect - 1)\n",
    "# assure sign is +1 or -1\n",
    "data_vertex['signVtx'] = (data_vertex.signVtx.values > 0) * 2 - 1\n",
    "data_vertex['label'] = (data_vertex.signVtx.values * data_vertex.signB.values > 0) * 1"
   ]
  },
  {
   "cell_type": "markdown",
   "metadata": {},
   "source": [
    "## Calculating tagging efficiency ($\\epsilon_{tag}$)\n",
    "\n",
    "$$N (\\text{passed selection}) = \\sum_{\\text{passed selection}} sw_i$$\n",
    "\n",
    "$$N (\\text{all events}) = \\sum_{\\text{all events}} sw_i,$$\n",
    "\n",
    "where $sw_i$ - sPLot weight\n",
    "\n",
    "$$\\epsilon_{tag} = \\frac{N (\\text{passed selection})} {N (\\text{all events})}$$\n",
    "\n",
    "$$\\Delta\\epsilon_{tag} = \\frac{\\sqrt{N (\\text{passed selection})}} {N (\\text{all events})}$$"
   ]
  },
  {
   "cell_type": "markdown",
   "metadata": {},
   "source": [
    "## Choose most probable B-events"
   ]
  },
  {
   "cell_type": "code",
   "execution_count": 18,
   "metadata": {
    "collapsed": false
   },
   "outputs": [
    {
     "name": "stdout",
     "output_type": "stream",
     "text": [
      "The history saving thread hit an unexpected error (OperationalError('database is locked',)).History will not be written to the database.\n"
     ]
    },
    {
     "data": {
      "text/plain": [
       "({'Events': 409381, 'tracks': 743076}, {'Events': 247173, 'tracks': 247173})"
      ]
     },
     "execution_count": 18,
     "metadata": {},
     "output_type": "execute_result"
    }
   ],
   "source": [
    "sweight_threshold = 1.\n",
    "data_track_sw_passed = data_track[data_track.N_sig_sw > sweight_threshold]\n",
    "data_track_sw_not_passed = data_track[data_track.N_sig_sw <= sweight_threshold]\n",
    "\n",
    "data_vertex_sw_passed = data_vertex[data_vertex.N_sig_sw > sweight_threshold]\n",
    "data_vertex_sw_not_passed = data_vertex[data_vertex.N_sig_sw <= sweight_threshold]\n",
    "get_events_statistics(data_track_sw_passed), get_events_statistics(data_vertex_sw_passed)"
   ]
  },
  {
   "cell_type": "code",
   "execution_count": 19,
   "metadata": {
    "collapsed": true
   },
   "outputs": [],
   "source": [
    "data_track_sw_passed_lds = LabeledDataStorage(data_track_sw_passed, data_track_sw_passed.label,\n",
    "                                              data_track_sw_passed.N_sig_sw.values)\n",
    "data_vertex_sw_passed_lds = LabeledDataStorage(data_vertex_sw_passed, data_vertex_sw_passed.label,\n",
    "                                               data_vertex_sw_passed.N_sig_sw.values)"
   ]
  },
  {
   "cell_type": "markdown",
   "metadata": {},
   "source": [
    "# Main idea: \n",
    "## find tracks/vertices, which can help reconstruct the sign of B if you know track sign.\n",
    "\n",
    "`label` = `signB` * `signTrack`\n",
    "* the highest output means that this is same sign B as track/vertex\n",
    "* the lowest output means that this is opposite sign B as track/vertex"
   ]
  },
  {
   "cell_type": "markdown",
   "metadata": {},
   "source": [
    "## Define features"
   ]
  },
  {
   "cell_type": "code",
   "execution_count": 20,
   "metadata": {
    "collapsed": false
   },
   "outputs": [
    {
     "data": {
      "text/plain": [
       "['cos_diff_phi',\n",
       " 'diff_pt',\n",
       " 'partPt',\n",
       " 'partP',\n",
       " 'nnkrec',\n",
       " 'diff_eta',\n",
       " 'EOverP',\n",
       " 'ptB',\n",
       " 'sum_PID_mu_k',\n",
       " 'proj',\n",
       " 'PIDNNe',\n",
       " 'sum_PID_k_e',\n",
       " 'PIDNNk',\n",
       " 'sum_PID_mu_e',\n",
       " 'PIDNNm',\n",
       " 'phi',\n",
       " 'IP',\n",
       " 'IPerr',\n",
       " 'IPs',\n",
       " 'ID',\n",
       " 'veloch',\n",
       " 'max_PID_k_e',\n",
       " 'diff_phi',\n",
       " 'ghostProb',\n",
       " 'IPPU',\n",
       " 'eta',\n",
       " 'max_PID_mu_e',\n",
       " 'max_PID_mu_k',\n",
       " 'partlcs']"
      ]
     },
     "execution_count": 20,
     "metadata": {},
     "output_type": "execute_result"
    }
   ],
   "source": [
    "features_track = list(set(data_track.columns) - {'run', 'event', 'i', 'signB', 'signTrack', 'N_sig_sw', \n",
    "                                                 'Bmass', 'mult', \n",
    "                                                 'PIDNNp', 'PIDNNpi', 'label', 'thetaMin',\n",
    "                                                 'Dist_phi', event_id_column, \n",
    "                                                 'mu_cut', 'e_cut', 'K_cut'})\n",
    "features_track"
   ]
  },
  {
   "cell_type": "code",
   "execution_count": 21,
   "metadata": {
    "collapsed": true
   },
   "outputs": [],
   "source": [
    "features_vertex =  ['mult', 'nnkrec', 'ptB', 'vflag', 'ipsmean', 'ptmean', 'vcharge', \n",
    "                     'svm', 'svp', 'BDphiDir', 'svtau', 'docamax']"
   ]
  },
  {
   "cell_type": "markdown",
   "metadata": {},
   "source": [
    "----"
   ]
  },
  {
   "cell_type": "markdown",
   "metadata": {},
   "source": [
    "# Training to distinguish same sign vs opposite sign"
   ]
  },
  {
   "cell_type": "code",
   "execution_count": 22,
   "metadata": {
    "collapsed": true
   },
   "outputs": [],
   "source": [
    "from rep_ef.estimators import MatrixNetSkyGridClassifier\n",
    "from hep_ml.decisiontrain import DecisionTrainClassifier\n",
    "from hep_ml.losses import LogLossFunction"
   ]
  },
  {
   "cell_type": "markdown",
   "metadata": {},
   "source": [
    "### DT, MN base"
   ]
  },
  {
   "cell_type": "code",
   "execution_count": 23,
   "metadata": {
    "collapsed": true
   },
   "outputs": [],
   "source": [
    "from sklearn.isotonic import IsotonicRegression\n",
    "from sklearn.linear_model import LogisticRegression\n",
    "\n",
    "tt_base = DecisionTrainClassifier(learning_rate=0.02, n_estimators=1500, depth=6, pretransform_needed=True, \n",
    "                                  max_features=15, loss=LogLossFunction(regularization=100))\n",
    "mn_base = MatrixNetSkyGridClassifier(connection='skygrid', user_name='antares',\n",
    "                                     iterations=1000, regularization=0.02, sync=False)"
   ]
  },
  {
   "cell_type": "code",
   "execution_count": 24,
   "metadata": {
    "collapsed": true
   },
   "outputs": [],
   "source": [
    "from utils import prepare_B_data_for_given_part, calibrate_probs, calculate_auc_with_and_without_untag_events"
   ]
  },
  {
   "cell_type": "code",
   "execution_count": 25,
   "metadata": {
    "collapsed": false
   },
   "outputs": [],
   "source": [
    "def tagging(base_estimator_track, base_estimator_vertex,\n",
    "            track_logistic=False, vertex_logistic=False, random_state=None):\n",
    "    # track training\n",
    "    folding_track = FoldingClassifier(base_estimator_track, n_folds=2, \n",
    "                                      random_state=random_state, ipc_profile='ssh-ipy',\n",
    "                                      features=features_track)\n",
    "    folding_track.fit_lds(data_track_sw_passed_lds)\n",
    "\n",
    "    # compute B data from track data\n",
    "    Bdata_tracks = prepare_B_data_for_given_part(folding_track, \n",
    "                                                [data_track_sw_passed, data_track_sw_not_passed], \n",
    "                                                 logistic=track_logistic, random_state=random_state)\n",
    "\n",
    "    # vertex training \n",
    "    folding_vertex = FoldingClassifier(base_estimator_vertex, n_folds=2, random_state=random_state, \n",
    "                                       features=features_vertex)\n",
    "    folding_vertex.fit_lds(data_vertex_sw_passed_lds)\n",
    "    \n",
    "    Bdata_vertex = prepare_B_data_for_given_part(folding_vertex, \n",
    "                                                  [data_vertex_sw_passed, data_vertex_sw_not_passed], \n",
    "                                                  logistic=vertex_logistic,\n",
    "                                                  sign_part_column='signVtx', part_name='vertex',\n",
    "                                                 random_state=random_state)\n",
    "    \n",
    "    # Combine track and vertex\n",
    "    Bdata = pandas.merge(Bdata_tracks, Bdata_vertex, how='outer', on=['event_id', 'Bsign'])\n",
    "    \n",
    "    Bdata['Bweight'] = Bdata['Bweight_x'].copy()\n",
    "    Bdata.ix[numpy.isnan(Bdata['Bweight'].values), 'Bweight'] = Bdata.ix[numpy.isnan(Bdata['Bweight'].values), 'Bweight_y']\n",
    "    Bdata = Bdata.drop(['Bweight_x', 'Bweight_y'], axis=1)\n",
    "\n",
    "    # for Nan put 1 as non influence factor\n",
    "    Bdata.ix[numpy.isnan(Bdata.track_relation_prob.values), 'track_relation_prob'] = 1.\n",
    "    Bdata.ix[numpy.isnan(Bdata.vertex_relation_prob.values), 'vertex_relation_prob'] = 1.\n",
    "    \n",
    "    relation_prob = Bdata['track_relation_prob'].values * Bdata['vertex_relation_prob'].values\n",
    "    Bprob = relation_prob / (1 + relation_prob)\n",
    "    Bweight = Bdata.Bweight.values\n",
    "    Bsign = Bdata.Bsign.values\n",
    "    \n",
    "    Bprob[~numpy.isfinite(Bprob)] = 0.5\n",
    "    Bprob_calibrated = calibrate_probs(Bsign, Bweight, Bprob, random_state=random_state)\n",
    "    \n",
    "    figure(figsize=(15, 5))\n",
    "\n",
    "    subplot(1,2,1)\n",
    "    hist(Bprob[Bsign == 1], bins=60, alpha=0.2, normed=True, label='$B^+$')\n",
    "    hist(Bprob[Bsign == -1], bins=60, alpha=0.2, normed=True, label='$B^-$')\n",
    "    legend(), title('B probs')\n",
    "\n",
    "    subplot(1,2,2)\n",
    "    hist(Bprob_calibrated[Bsign == 1], bins=60, alpha=0.2, normed=True, range=(0, 1), label='$B^+$')\n",
    "    hist(Bprob_calibrated[Bsign == -1], bins=60, alpha=0.2, normed=True, range=(0, 1), label='$B^-$')\n",
    "    legend(), title('B probs calibrated')\n",
    "    \n",
    "    auc, auc_full = calculate_auc_with_and_without_untag_events(Bsign, Bprob_calibrated, Bweight)\n",
    "    print 'AUC for tagged:', auc, 'AUC with untag:', auc_full\n",
    "    \n",
    "    N_B_passed = Bweight.sum()\n",
    "    tagging_efficiency = N_B_passed / get_N_B_events()\n",
    "    tagging_efficiency_delta = numpy.sqrt(N_B_passed) / get_N_B_events()\n",
    "\n",
    "    D2 = numpy.average( (2*(Bprob_calibrated - 0.5))**2, weights=Bweight)\n",
    "    return tagging_efficiency, tagging_efficiency_delta, D2, auc_full"
   ]
  },
  {
   "cell_type": "markdown",
   "metadata": {},
   "source": [
    "--------"
   ]
  },
  {
   "cell_type": "markdown",
   "metadata": {},
   "source": [
    "## Compute full scheme for different random states to obtain quality with full systematic"
   ]
  },
  {
   "cell_type": "code",
   "execution_count": 26,
   "metadata": {
    "collapsed": true
   },
   "outputs": [],
   "source": [
    "numpy.random.seed(13)"
   ]
  },
  {
   "cell_type": "code",
   "execution_count": 27,
   "metadata": {
    "collapsed": false
   },
   "outputs": [],
   "source": [
    "random_states = numpy.random.randint(1, high=10e3, size=30)"
   ]
  },
  {
   "cell_type": "code",
   "execution_count": 28,
   "metadata": {
    "collapsed": false
   },
   "outputs": [
    {
     "data": {
      "text/plain": [
       "array([ 339,   75, 7697,  867, 5877,  154, 8941, 4027, 9115, 6783, 1463,\n",
       "       2278, 4940, 6294, 1428, 7308, 1014,   76, 4098, 2707, 5401, 8204,\n",
       "       7465,  845, 5435, 5655, 2422, 8680, 3556, 8582])"
      ]
     },
     "execution_count": 28,
     "metadata": {},
     "output_type": "execute_result"
    }
   ],
   "source": [
    "random_states"
   ]
  },
  {
   "cell_type": "code",
   "execution_count": null,
   "metadata": {
    "collapsed": false
   },
   "outputs": [
    {
     "name": "stdout",
     "output_type": "stream",
     "text": [
      "KFold prediction using folds column\n",
      "KFold prediction using folds column\n"
     ]
    },
    {
     "data": {
      "image/png": "[encoded data removed]",
      "text/plain": [
       "<matplotlib.figure.Figure at 0x1bf126ad0>"
      ]
     },
     "metadata": {},
     "output_type": "display_data"
    },
    {
     "name": "stdout",
     "output_type": "stream",
     "text": [
      "AUC for tagged: 0.588518481545 AUC with untag: 0.563451243311\n"
     ]
    },
    {
     "data": {
      "image/png": "[encoded data removed]",
      "text/plain": [
       "<matplotlib.figure.Figure at 0x1b9491a90>"
      ]
     },
     "metadata": {},
     "output_type": "display_data"
    },
    {
     "name": "stdout",
     "output_type": "stream",
     "text": [
      "KFold prediction using folds column\n",
      "KFold prediction using folds column\n"
     ]
    },
    {
     "data": {
      "image/png": "[encoded data removed]",
      "text/plain": [
       "<matplotlib.figure.Figure at 0x1be7a8e50>"
      ]
     },
     "metadata": {},
     "output_type": "display_data"
    },
    {
     "name": "stdout",
     "output_type": "stream",
     "text": [
      "AUC for tagged: 0.594460771145 AUC with untag: 0.546679680759\n"
     ]
    },
    {
     "data": {
      "image/png": "[encoded data removed]",
      "text/plain": [
       "<matplotlib.figure.Figure at 0x1cc2a98d0>"
      ]
     },
     "metadata": {},
     "output_type": "display_data"
    }
   ],
   "source": [
    "D2_step = []\n",
    "tagging_efficiency_step = []\n",
    "tagging_efficiency_delta_step = []\n",
    "auc_step = []\n",
    "\n",
    "for step, random_state in zip(range(len(random_states)), random_states):\n",
    "    tagging_efficiency, tagging_efficiency_delta, D2, auc = tagging(tt_base, mn_base, track_logistic=True,\n",
    "                                                                    vertex_logistic=False,\n",
    "                                                                    random_state=random_state)\n",
    "    D2_step.append(D2)\n",
    "    tagging_efficiency_step.append(tagging_efficiency)\n",
    "    tagging_efficiency_delta_step.append(tagging_efficiency_delta)\n",
    "    auc_step.append(auc)"
   ]
  },
  {
   "cell_type": "markdown",
   "metadata": {},
   "source": [
    "# Result quality with full systematic error"
   ]
  },
  {
   "cell_type": "code",
   "execution_count": 43,
   "metadata": {
    "collapsed": true
   },
   "outputs": [],
   "source": [
    "from utils import result_table"
   ]
  },
  {
   "cell_type": "code",
   "execution_count": 44,
   "metadata": {
    "collapsed": false
   },
   "outputs": [
    {
     "data": {
      "text/html": [
       "<div style=\"max-height:1000px;max-width:1500px;overflow:auto;\">\n",
       "<table border=\"1\" class=\"dataframe\">\n",
       "  <thead>\n",
       "    <tr style=\"text-align: right;\">\n",
       "      <th></th>\n",
       "      <th>name</th>\n",
       "      <th>$\\epsilon_{tag}, \\%$</th>\n",
       "      <th>$\\Delta \\epsilon_{tag}, \\%$</th>\n",
       "      <th>$D^2$</th>\n",
       "      <th>$\\Delta D^2$</th>\n",
       "      <th>$\\epsilon, \\%$</th>\n",
       "      <th>$\\Delta \\epsilon, \\%$</th>\n",
       "      <th>AUC, with untag</th>\n",
       "      <th>$\\Delta$ AUC, with untag</th>\n",
       "    </tr>\n",
       "  </thead>\n",
       "  <tbody>\n",
       "    <tr>\n",
       "      <th>0</th>\n",
       "      <td> NEW + full systematic</td>\n",
       "      <td> 77.789955</td>\n",
       "      <td> 0.102331</td>\n",
       "      <td> 0.034947</td>\n",
       "      <td> 0.000092</td>\n",
       "      <td> 2.718553</td>\n",
       "      <td> 0.007974</td>\n",
       "      <td> 57.960277</td>\n",
       "      <td> 0.025926</td>\n",
       "    </tr>\n",
       "  </tbody>\n",
       "</table>\n",
       "</div>"
      ],
      "text/plain": [
       "                    name  $\\epsilon_{tag}, \\%$  $\\Delta \\epsilon_{tag}, \\%$  \\\n",
       "0  NEW + full systematic             77.789955                     0.102331   \n",
       "\n",
       "      $D^2$  $\\Delta D^2$  $\\epsilon, \\%$  $\\Delta \\epsilon, \\%$  \\\n",
       "0  0.034947      0.000092        2.718553               0.007974   \n",
       "\n",
       "   AUC, with untag  $\\Delta$ AUC, with untag  \n",
       "0        57.960277                  0.025926  "
      ]
     },
     "execution_count": 44,
     "metadata": {},
     "output_type": "execute_result"
    }
   ],
   "source": [
    "result = result_table(numpy.mean(tagging_efficiency_step), numpy.mean(tagging_efficiency_delta_step),\n",
    "                      D2_step, auc_step, name='NEW + full systematic')\n",
    "result"
   ]
  },
  {
   "cell_type": "code",
   "execution_count": 45,
   "metadata": {
    "collapsed": true
   },
   "outputs": [],
   "source": [
    "result = result_table(numpy.mean(tagging_efficiency_step), numpy.mean(tagging_efficiency_delta_step),\n",
    "                      D2_step, auc_step, name='NEW + full systematic')\n",
    "result.to_csv('img/new-tagging-systematic.csv', header=True, index=False)"
   ]
  }
 ],
 "metadata": {
  "kernelspec": {
   "display_name": "Python 2",
   "language": "python",
   "name": "python2"
  },
  "language_info": {
   "codemirror_mode": {
    "name": "ipython",
    "version": 2
   },
   "file_extension": ".py",
   "mimetype": "text/x-python",
   "name": "python",
   "nbconvert_exporter": "python",
   "pygments_lexer": "ipython2",
   "version": "2.7.3"
  }
 },
 "nbformat": 4,
 "nbformat_minor": 0
}
