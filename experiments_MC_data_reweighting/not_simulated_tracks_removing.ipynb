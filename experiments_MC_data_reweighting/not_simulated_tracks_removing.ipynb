{
 "cells": [
  {
   "cell_type": "markdown",
   "metadata": {},
   "source": [
    "# Idea"
   ]
  },
  {
   "cell_type": "markdown",
   "metadata": {},
   "source": [
    "## Результат (ожидаемый)\n",
    "\n",
    "* обучение происходит на своем родном канале на симулированных данных\n",
    "* учитываются различия симуляции и данных (см. ниже алгоритм)\n",
    "* оценка качества (как и калибровка) будут несмещенными\n",
    "* качество лучше, чем baseline\n",
    "\n",
    "## Алгоритм\n",
    "\n",
    "* используем инклюзивный подход\n",
    "* учим при помощи классификатора перевзвешивание различия данных (удаляем треки из симуляции, которые не появляются в данных и удаляем из данных треки, которые не умеем симулировать):\n",
    "\n",
    "    - классификатор предсказывает $p(MC)$ и $p(RD)$\n",
    "    \n",
    "    - для симуляции при $p(MC)>0.5$\n",
    "    \n",
    "        $$w_{MC}=\\frac{p(RD)}{p(MC)},$$\n",
    "       иначе\n",
    "        $$w_{MC}=1$$\n",
    "    - для данных при $p(MC)<0.5$\n",
    "        $$w_{RD}=\\frac{p(MC)}{p(RD)},$$\n",
    "       иначе\n",
    "        $$w_{RD}=1$$\n",
    "    - нормируем веса в событии\n",
    "    - в формуле комбинирования возводим в степень $w * sign$"
   ]
  },
  {
   "cell_type": "code",
   "execution_count": 260,
   "metadata": {
    "collapsed": false
   },
   "outputs": [
    {
     "name": "stdout",
     "output_type": "stream",
     "text": [
      "Populating the interactive namespace from numpy and matplotlib\n"
     ]
    }
   ],
   "source": [
    "%pylab inline\n",
    "figsize(8, 6)"
   ]
  },
  {
   "cell_type": "code",
   "execution_count": 261,
   "metadata": {
    "collapsed": true
   },
   "outputs": [],
   "source": [
    "import sys\n",
    "sys.path.insert(0, \"../\")"
   ]
  },
  {
   "cell_type": "markdown",
   "metadata": {},
   "source": [
    "## Import"
   ]
  },
  {
   "cell_type": "code",
   "execution_count": 262,
   "metadata": {
    "collapsed": false
   },
   "outputs": [],
   "source": [
    "import pandas\n",
    "import numpy\n",
    "from folding_group import FoldingGroupClassifier\n",
    "from rep.data import LabeledDataStorage\n",
    "from rep.report import ClassificationReport\n",
    "from rep.report.metrics import RocAuc\n",
    "from sklearn.metrics import roc_curve, roc_auc_score\n",
    "from decisiontrain import DecisionTrainClassifier\n",
    "from rep.estimators import SklearnClassifier"
   ]
  },
  {
   "cell_type": "markdown",
   "metadata": {},
   "source": [
    "## Reading initial data"
   ]
  },
  {
   "cell_type": "code",
   "execution_count": 4,
   "metadata": {
    "collapsed": false
   },
   "outputs": [],
   "source": [
    "import root_numpy\n",
    "MC = pandas.DataFrame(root_numpy.root2array('../datasets/MC/csv/WG/Bu_JPsiK/2012/Tracks.root', stop=5000000))\n",
    "data = pandas.DataFrame(root_numpy.root2array('../datasets/data/csv/WG/Bu_JPsiK/2012/Tracks.root', stop=5000000))"
   ]
  },
  {
   "cell_type": "code",
   "execution_count": 5,
   "metadata": {
    "collapsed": false
   },
   "outputs": [
    {
     "data": {
      "text/html": [
       "<div>\n",
       "<table border=\"1\" class=\"dataframe\">\n",
       "  <thead>\n",
       "    <tr style=\"text-align: right;\">\n",
       "      <th></th>\n",
       "      <th>run</th>\n",
       "      <th>event</th>\n",
       "      <th>Bmass</th>\n",
       "      <th>time</th>\n",
       "      <th>i</th>\n",
       "      <th>mult</th>\n",
       "      <th>partP</th>\n",
       "      <th>partPt</th>\n",
       "      <th>ptB</th>\n",
       "      <th>IPs</th>\n",
       "      <th>...</th>\n",
       "      <th>signTrack</th>\n",
       "      <th>Dist_phi</th>\n",
       "      <th>N_sig_sw</th>\n",
       "      <th>mu_cut</th>\n",
       "      <th>e_cut</th>\n",
       "      <th>K_cut</th>\n",
       "      <th>OS_SS</th>\n",
       "      <th>xFlag</th>\n",
       "      <th>K_MCID</th>\n",
       "      <th>BOosc</th>\n",
       "    </tr>\n",
       "  </thead>\n",
       "  <tbody>\n",
       "    <tr>\n",
       "      <th>0</th>\n",
       "      <td>132623</td>\n",
       "      <td>227572384.0</td>\n",
       "      <td>5.280417</td>\n",
       "      <td>2.739783</td>\n",
       "      <td>0</td>\n",
       "      <td>16</td>\n",
       "      <td>2.975773</td>\n",
       "      <td>0.125786</td>\n",
       "      <td>6.62858</td>\n",
       "      <td>0.346570</td>\n",
       "      <td>...</td>\n",
       "      <td>1.0</td>\n",
       "      <td>1.714190</td>\n",
       "      <td>1.12428</td>\n",
       "      <td>0</td>\n",
       "      <td>0</td>\n",
       "      <td>0</td>\n",
       "      <td>0.0</td>\n",
       "      <td>-0.000563</td>\n",
       "      <td>0</td>\n",
       "      <td>-1878611067</td>\n",
       "    </tr>\n",
       "    <tr>\n",
       "      <th>1</th>\n",
       "      <td>132623</td>\n",
       "      <td>227572384.0</td>\n",
       "      <td>5.280417</td>\n",
       "      <td>2.739783</td>\n",
       "      <td>1</td>\n",
       "      <td>16</td>\n",
       "      <td>2.113523</td>\n",
       "      <td>0.626089</td>\n",
       "      <td>6.62858</td>\n",
       "      <td>1.647396</td>\n",
       "      <td>...</td>\n",
       "      <td>1.0</td>\n",
       "      <td>0.118375</td>\n",
       "      <td>1.12428</td>\n",
       "      <td>0</td>\n",
       "      <td>0</td>\n",
       "      <td>0</td>\n",
       "      <td>0.0</td>\n",
       "      <td>1.000000</td>\n",
       "      <td>0</td>\n",
       "      <td>-1878611067</td>\n",
       "    </tr>\n",
       "    <tr>\n",
       "      <th>2</th>\n",
       "      <td>132623</td>\n",
       "      <td>227572384.0</td>\n",
       "      <td>5.280417</td>\n",
       "      <td>2.739783</td>\n",
       "      <td>2</td>\n",
       "      <td>16</td>\n",
       "      <td>3.391397</td>\n",
       "      <td>0.237943</td>\n",
       "      <td>6.62858</td>\n",
       "      <td>2.565533</td>\n",
       "      <td>...</td>\n",
       "      <td>-1.0</td>\n",
       "      <td>2.131909</td>\n",
       "      <td>1.12428</td>\n",
       "      <td>0</td>\n",
       "      <td>0</td>\n",
       "      <td>0</td>\n",
       "      <td>0.0</td>\n",
       "      <td>1.000000</td>\n",
       "      <td>0</td>\n",
       "      <td>-1878611067</td>\n",
       "    </tr>\n",
       "    <tr>\n",
       "      <th>3</th>\n",
       "      <td>132623</td>\n",
       "      <td>227572384.0</td>\n",
       "      <td>5.280417</td>\n",
       "      <td>2.739783</td>\n",
       "      <td>3</td>\n",
       "      <td>16</td>\n",
       "      <td>12.321827</td>\n",
       "      <td>0.512020</td>\n",
       "      <td>6.62858</td>\n",
       "      <td>2.054170</td>\n",
       "      <td>...</td>\n",
       "      <td>-1.0</td>\n",
       "      <td>1.768889</td>\n",
       "      <td>1.12428</td>\n",
       "      <td>0</td>\n",
       "      <td>0</td>\n",
       "      <td>0</td>\n",
       "      <td>0.0</td>\n",
       "      <td>0.000000</td>\n",
       "      <td>0</td>\n",
       "      <td>-1878611067</td>\n",
       "    </tr>\n",
       "    <tr>\n",
       "      <th>4</th>\n",
       "      <td>132623</td>\n",
       "      <td>227572384.0</td>\n",
       "      <td>5.280417</td>\n",
       "      <td>2.739783</td>\n",
       "      <td>4</td>\n",
       "      <td>16</td>\n",
       "      <td>47.236053</td>\n",
       "      <td>1.710158</td>\n",
       "      <td>6.62858</td>\n",
       "      <td>0.995251</td>\n",
       "      <td>...</td>\n",
       "      <td>1.0</td>\n",
       "      <td>1.990477</td>\n",
       "      <td>1.12428</td>\n",
       "      <td>0</td>\n",
       "      <td>0</td>\n",
       "      <td>0</td>\n",
       "      <td>0.0</td>\n",
       "      <td>-0.000000</td>\n",
       "      <td>0</td>\n",
       "      <td>-1878611067</td>\n",
       "    </tr>\n",
       "  </tbody>\n",
       "</table>\n",
       "<p>5 rows × 40 columns</p>\n",
       "</div>"
      ],
      "text/plain": [
       "      run        event     Bmass      time  i  mult      partP    partPt  \\\n",
       "0  132623  227572384.0  5.280417  2.739783  0    16   2.975773  0.125786   \n",
       "1  132623  227572384.0  5.280417  2.739783  1    16   2.113523  0.626089   \n",
       "2  132623  227572384.0  5.280417  2.739783  2    16   3.391397  0.237943   \n",
       "3  132623  227572384.0  5.280417  2.739783  3    16  12.321827  0.512020   \n",
       "4  132623  227572384.0  5.280417  2.739783  4    16  47.236053  1.710158   \n",
       "\n",
       "       ptB       IPs     ...      signTrack  Dist_phi  N_sig_sw  mu_cut  \\\n",
       "0  6.62858  0.346570     ...            1.0  1.714190   1.12428       0   \n",
       "1  6.62858  1.647396     ...            1.0  0.118375   1.12428       0   \n",
       "2  6.62858  2.565533     ...           -1.0  2.131909   1.12428       0   \n",
       "3  6.62858  2.054170     ...           -1.0  1.768889   1.12428       0   \n",
       "4  6.62858  0.995251     ...            1.0  1.990477   1.12428       0   \n",
       "\n",
       "   e_cut  K_cut  OS_SS     xFlag  K_MCID       BOosc  \n",
       "0      0      0    0.0 -0.000563       0 -1878611067  \n",
       "1      0      0    0.0  1.000000       0 -1878611067  \n",
       "2      0      0    0.0  1.000000       0 -1878611067  \n",
       "3      0      0    0.0  0.000000       0 -1878611067  \n",
       "4      0      0    0.0 -0.000000       0 -1878611067  \n",
       "\n",
       "[5 rows x 40 columns]"
      ]
     },
     "execution_count": 5,
     "metadata": {},
     "output_type": "execute_result"
    }
   ],
   "source": [
    "data.head()"
   ]
  },
  {
   "cell_type": "code",
   "execution_count": 6,
   "metadata": {
    "collapsed": false
   },
   "outputs": [
    {
     "data": {
      "text/html": [
       "<div>\n",
       "<table border=\"1\" class=\"dataframe\">\n",
       "  <thead>\n",
       "    <tr style=\"text-align: right;\">\n",
       "      <th></th>\n",
       "      <th>run</th>\n",
       "      <th>event</th>\n",
       "      <th>Bmass</th>\n",
       "      <th>time</th>\n",
       "      <th>i</th>\n",
       "      <th>mult</th>\n",
       "      <th>partP</th>\n",
       "      <th>partPt</th>\n",
       "      <th>ptB</th>\n",
       "      <th>IPs</th>\n",
       "      <th>...</th>\n",
       "      <th>Dist_phi</th>\n",
       "      <th>N_sig_sw</th>\n",
       "      <th>mu_cut</th>\n",
       "      <th>e_cut</th>\n",
       "      <th>K_cut</th>\n",
       "      <th>MCID</th>\n",
       "      <th>OS_SS</th>\n",
       "      <th>xFlag</th>\n",
       "      <th>K_MCID</th>\n",
       "      <th>BOosc</th>\n",
       "    </tr>\n",
       "  </thead>\n",
       "  <tbody>\n",
       "    <tr>\n",
       "      <th>0</th>\n",
       "      <td>2517778</td>\n",
       "      <td>1110804.0</td>\n",
       "      <td>5.272273</td>\n",
       "      <td>0.41804</td>\n",
       "      <td>0</td>\n",
       "      <td>12</td>\n",
       "      <td>10.10731</td>\n",
       "      <td>1.275867</td>\n",
       "      <td>3.046546</td>\n",
       "      <td>45.846935</td>\n",
       "      <td>...</td>\n",
       "      <td>0.318931</td>\n",
       "      <td>0.0</td>\n",
       "      <td>0</td>\n",
       "      <td>0</td>\n",
       "      <td>1</td>\n",
       "      <td>-321.0</td>\n",
       "      <td>0.0</td>\n",
       "      <td>0.0</td>\n",
       "      <td>-1</td>\n",
       "      <td>0</td>\n",
       "    </tr>\n",
       "    <tr>\n",
       "      <th>1</th>\n",
       "      <td>2517778</td>\n",
       "      <td>1110804.0</td>\n",
       "      <td>5.272273</td>\n",
       "      <td>0.41804</td>\n",
       "      <td>1</td>\n",
       "      <td>12</td>\n",
       "      <td>12.52366</td>\n",
       "      <td>0.513155</td>\n",
       "      <td>3.046546</td>\n",
       "      <td>4.899704</td>\n",
       "      <td>...</td>\n",
       "      <td>1.151553</td>\n",
       "      <td>0.0</td>\n",
       "      <td>0</td>\n",
       "      <td>0</td>\n",
       "      <td>0</td>\n",
       "      <td>211.0</td>\n",
       "      <td>0.0</td>\n",
       "      <td>0.0</td>\n",
       "      <td>-1</td>\n",
       "      <td>0</td>\n",
       "    </tr>\n",
       "    <tr>\n",
       "      <th>2</th>\n",
       "      <td>2517778</td>\n",
       "      <td>1110804.0</td>\n",
       "      <td>5.272273</td>\n",
       "      <td>0.41804</td>\n",
       "      <td>2</td>\n",
       "      <td>12</td>\n",
       "      <td>4.71373</td>\n",
       "      <td>0.597545</td>\n",
       "      <td>3.046546</td>\n",
       "      <td>3.352034</td>\n",
       "      <td>...</td>\n",
       "      <td>0.544899</td>\n",
       "      <td>0.0</td>\n",
       "      <td>0</td>\n",
       "      <td>0</td>\n",
       "      <td>0</td>\n",
       "      <td>-211.0</td>\n",
       "      <td>-1.0</td>\n",
       "      <td>-1.0</td>\n",
       "      <td>-1</td>\n",
       "      <td>0</td>\n",
       "    </tr>\n",
       "    <tr>\n",
       "      <th>3</th>\n",
       "      <td>2517778</td>\n",
       "      <td>1110804.0</td>\n",
       "      <td>5.272273</td>\n",
       "      <td>0.41804</td>\n",
       "      <td>3</td>\n",
       "      <td>12</td>\n",
       "      <td>4.68713</td>\n",
       "      <td>0.243792</td>\n",
       "      <td>3.046546</td>\n",
       "      <td>102.329247</td>\n",
       "      <td>...</td>\n",
       "      <td>0.395680</td>\n",
       "      <td>0.0</td>\n",
       "      <td>0</td>\n",
       "      <td>0</td>\n",
       "      <td>0</td>\n",
       "      <td>-211.0</td>\n",
       "      <td>0.0</td>\n",
       "      <td>0.0</td>\n",
       "      <td>-1</td>\n",
       "      <td>0</td>\n",
       "    </tr>\n",
       "    <tr>\n",
       "      <th>4</th>\n",
       "      <td>2517778</td>\n",
       "      <td>1110804.0</td>\n",
       "      <td>5.272273</td>\n",
       "      <td>0.41804</td>\n",
       "      <td>4</td>\n",
       "      <td>12</td>\n",
       "      <td>3.21920</td>\n",
       "      <td>0.612911</td>\n",
       "      <td>3.046546</td>\n",
       "      <td>1.016178</td>\n",
       "      <td>...</td>\n",
       "      <td>0.269237</td>\n",
       "      <td>0.0</td>\n",
       "      <td>0</td>\n",
       "      <td>0</td>\n",
       "      <td>0</td>\n",
       "      <td>211.0</td>\n",
       "      <td>-1.0</td>\n",
       "      <td>-1.0</td>\n",
       "      <td>-1</td>\n",
       "      <td>0</td>\n",
       "    </tr>\n",
       "  </tbody>\n",
       "</table>\n",
       "<p>5 rows × 41 columns</p>\n",
       "</div>"
      ],
      "text/plain": [
       "       run      event     Bmass     time  i  mult     partP    partPt  \\\n",
       "0  2517778  1110804.0  5.272273  0.41804  0    12  10.10731  1.275867   \n",
       "1  2517778  1110804.0  5.272273  0.41804  1    12  12.52366  0.513155   \n",
       "2  2517778  1110804.0  5.272273  0.41804  2    12   4.71373  0.597545   \n",
       "3  2517778  1110804.0  5.272273  0.41804  3    12   4.68713  0.243792   \n",
       "4  2517778  1110804.0  5.272273  0.41804  4    12   3.21920  0.612911   \n",
       "\n",
       "        ptB         IPs  ...    Dist_phi  N_sig_sw  mu_cut  e_cut  K_cut  \\\n",
       "0  3.046546   45.846935  ...    0.318931       0.0       0      0      1   \n",
       "1  3.046546    4.899704  ...    1.151553       0.0       0      0      0   \n",
       "2  3.046546    3.352034  ...    0.544899       0.0       0      0      0   \n",
       "3  3.046546  102.329247  ...    0.395680       0.0       0      0      0   \n",
       "4  3.046546    1.016178  ...    0.269237       0.0       0      0      0   \n",
       "\n",
       "    MCID  OS_SS  xFlag  K_MCID  BOosc  \n",
       "0 -321.0    0.0    0.0      -1      0  \n",
       "1  211.0    0.0    0.0      -1      0  \n",
       "2 -211.0   -1.0   -1.0      -1      0  \n",
       "3 -211.0    0.0    0.0      -1      0  \n",
       "4  211.0   -1.0   -1.0      -1      0  \n",
       "\n",
       "[5 rows x 41 columns]"
      ]
     },
     "execution_count": 6,
     "metadata": {},
     "output_type": "execute_result"
    }
   ],
   "source": [
    "MC.head()"
   ]
  },
  {
   "cell_type": "markdown",
   "metadata": {},
   "source": [
    "### Data preprocessing: \n",
    "\n",
    "Add necessary features:\n",
    "- #### define `label` = `signB` * `signTrack`\n",
    "\n",
    "    * if > 0 (same sign) - label **1**\n",
    "    * if < 0 (different sign) - label **0**\n",
    "\n",
    "- #### diff pt, min/max PID\n",
    "\n",
    "Apply selections:\n",
    "\n",
    "- **remove ghost tracks**\n",
    "- **loose selection on PID**"
   ]
  },
  {
   "cell_type": "code",
   "execution_count": 7,
   "metadata": {
    "collapsed": false
   },
   "outputs": [
    {
     "name": "stdout",
     "output_type": "stream",
     "text": [
      "Initial statistics: {'parts': 5000000, 'Events': 178954}\n",
      "after  (ghostProb < 0.4)  selection, statistics: {'parts': 4685305, 'Events': 178947}\n",
      "after   ( (PIDNNk > 0.0) | (PIDNNm > 0.0) | (PIDNNe > 0.0) | (PIDNNpi > 0.0) | (PIDNNp > 0.0))   selection, statistics: {'parts': 4677546, 'Events': 178947}\n"
     ]
    },
    {
     "name": "stderr",
     "output_type": "stream",
     "text": [
      "/mnt/mfs/miniconda/envs/rep_py2/lib/python2.7/site-packages/pandas/core/indexing.py:296: SettingWithCopyWarning: \n",
      "A value is trying to be set on a copy of a slice from a DataFrame.\n",
      "Try using .loc[row_indexer,col_indexer] = value instead\n",
      "\n",
      "See the caveats in the documentation: http://pandas.pydata.org/pandas-docs/stable/indexing.html#indexing-view-versus-copy\n",
      "  self.obj[key] = _infer_fill_value(value)\n",
      "/mnt/mfs/miniconda/envs/rep_py2/lib/python2.7/site-packages/pandas/core/indexing.py:476: SettingWithCopyWarning: \n",
      "A value is trying to be set on a copy of a slice from a DataFrame.\n",
      "Try using .loc[row_indexer,col_indexer] = value instead\n",
      "\n",
      "See the caveats in the documentation: http://pandas.pydata.org/pandas-docs/stable/indexing.html#indexing-view-versus-copy\n",
      "  self.obj[item] = s\n"
     ]
    },
    {
     "name": "stdout",
     "output_type": "stream",
     "text": [
      "Initial statistics: {'parts': 4997009, 'Events': 218087}\n",
      "after  (ghostProb < 0.4)  selection, statistics: {'parts': 4873085, 'Events': 218086}\n",
      "after   ( (PIDNNk > 0.0) | (PIDNNm > 0.0) | (PIDNNe > 0.0) | (PIDNNpi > 0.0) | (PIDNNp > 0.0))   selection, statistics: {'parts': 4872280, 'Events': 218086}\n"
     ]
    }
   ],
   "source": [
    "from utils import data_tracks_preprocessing\n",
    "data = data_tracks_preprocessing(data, N_sig_sw=True)\n",
    "MC = data_tracks_preprocessing(MC)"
   ]
  },
  {
   "cell_type": "code",
   "execution_count": 8,
   "metadata": {
    "collapsed": false
   },
   "outputs": [
    {
     "data": {
      "text/plain": [
       "'run, event, Bmass, time, i, mult, partP, partPt, ptB, IPs, IP, IPerr, partlcs, EOverP, ghostProb, IPPU, nnkrec, PIDNNk, PIDNNpi, PIDNNp, PIDNNm, PIDNNe, diff_eta, diff_phi, phi, eta, proj, ID, veloch, signB, signTrack, Dist_phi, N_sig_sw, mu_cut, e_cut, K_cut, OS_SS, xFlag, K_MCID, BOosc, group_column, event_id, diff_pt, cos_diff_phi, max_PID_mu_k, sum_PID_mu_k, max_PID_mu_e, sum_PID_mu_e, max_PID_k_e, sum_PID_k_e, label'"
      ]
     },
     "execution_count": 8,
     "metadata": {},
     "output_type": "execute_result"
    }
   ],
   "source": [
    "', '.join(data.columns)"
   ]
  },
  {
   "cell_type": "code",
   "execution_count": 9,
   "metadata": {
    "collapsed": false
   },
   "outputs": [
    {
     "name": "stdout",
     "output_type": "stream",
     "text": [
      "2370741 2306805\n",
      "2462725 2409555\n"
     ]
    }
   ],
   "source": [
    "print sum(data.signB == 1), sum(data.signB == -1)\n",
    "print sum(MC.signB == 1), sum(MC.signB == -1)"
   ]
  },
  {
   "cell_type": "markdown",
   "metadata": {},
   "source": [
    "#### Define mask for non-B events"
   ]
  },
  {
   "cell_type": "code",
   "execution_count": 10,
   "metadata": {
    "collapsed": true
   },
   "outputs": [],
   "source": [
    "mask_sw_positive = (data.N_sig_sw.values > 1) * 1"
   ]
  },
  {
   "cell_type": "code",
   "execution_count": 11,
   "metadata": {
    "collapsed": false
   },
   "outputs": [
    {
     "data": {
      "text/html": [
       "<div>\n",
       "<table border=\"1\" class=\"dataframe\">\n",
       "  <thead>\n",
       "    <tr style=\"text-align: right;\">\n",
       "      <th></th>\n",
       "      <th>run</th>\n",
       "      <th>event</th>\n",
       "      <th>Bmass</th>\n",
       "      <th>time</th>\n",
       "      <th>i</th>\n",
       "      <th>mult</th>\n",
       "      <th>partP</th>\n",
       "      <th>partPt</th>\n",
       "      <th>ptB</th>\n",
       "      <th>IPs</th>\n",
       "      <th>...</th>\n",
       "      <th>event_id</th>\n",
       "      <th>diff_pt</th>\n",
       "      <th>cos_diff_phi</th>\n",
       "      <th>max_PID_mu_k</th>\n",
       "      <th>sum_PID_mu_k</th>\n",
       "      <th>max_PID_mu_e</th>\n",
       "      <th>sum_PID_mu_e</th>\n",
       "      <th>max_PID_k_e</th>\n",
       "      <th>sum_PID_k_e</th>\n",
       "      <th>label</th>\n",
       "    </tr>\n",
       "  </thead>\n",
       "  <tbody>\n",
       "    <tr>\n",
       "      <th>0</th>\n",
       "      <td>132623</td>\n",
       "      <td>227572384.0</td>\n",
       "      <td>5.280417</td>\n",
       "      <td>2.739783</td>\n",
       "      <td>0</td>\n",
       "      <td>16</td>\n",
       "      <td>2.975773</td>\n",
       "      <td>0.125786</td>\n",
       "      <td>6.62858</td>\n",
       "      <td>0.346570</td>\n",
       "      <td>...</td>\n",
       "      <td>132623_227572384</td>\n",
       "      <td>3.636832</td>\n",
       "      <td>-0.878069</td>\n",
       "      <td>0.003009</td>\n",
       "      <td>-999.997009</td>\n",
       "      <td>8.195478e-01</td>\n",
       "      <td>-999.180481</td>\n",
       "      <td>0.819548</td>\n",
       "      <td>0.822557</td>\n",
       "      <td>False</td>\n",
       "    </tr>\n",
       "    <tr>\n",
       "      <th>1</th>\n",
       "      <td>132623</td>\n",
       "      <td>227572384.0</td>\n",
       "      <td>5.280417</td>\n",
       "      <td>2.739783</td>\n",
       "      <td>1</td>\n",
       "      <td>16</td>\n",
       "      <td>2.113523</td>\n",
       "      <td>0.626089</td>\n",
       "      <td>6.62858</td>\n",
       "      <td>1.647396</td>\n",
       "      <td>...</td>\n",
       "      <td>132623_227572384</td>\n",
       "      <td>3.136530</td>\n",
       "      <td>0.769140</td>\n",
       "      <td>0.073602</td>\n",
       "      <td>-999.926392</td>\n",
       "      <td>8.000000e-08</td>\n",
       "      <td>-1000.000000</td>\n",
       "      <td>0.073602</td>\n",
       "      <td>0.073602</td>\n",
       "      <td>False</td>\n",
       "    </tr>\n",
       "    <tr>\n",
       "      <th>2</th>\n",
       "      <td>132623</td>\n",
       "      <td>227572384.0</td>\n",
       "      <td>5.280417</td>\n",
       "      <td>2.739783</td>\n",
       "      <td>2</td>\n",
       "      <td>16</td>\n",
       "      <td>3.391397</td>\n",
       "      <td>0.237943</td>\n",
       "      <td>6.62858</td>\n",
       "      <td>2.565533</td>\n",
       "      <td>...</td>\n",
       "      <td>132623_227572384</td>\n",
       "      <td>3.524675</td>\n",
       "      <td>-0.906972</td>\n",
       "      <td>0.007654</td>\n",
       "      <td>0.012911</td>\n",
       "      <td>7.654380e-03</td>\n",
       "      <td>0.007655</td>\n",
       "      <td>0.005256</td>\n",
       "      <td>0.005257</td>\n",
       "      <td>True</td>\n",
       "    </tr>\n",
       "    <tr>\n",
       "      <th>3</th>\n",
       "      <td>132623</td>\n",
       "      <td>227572384.0</td>\n",
       "      <td>5.280417</td>\n",
       "      <td>2.739783</td>\n",
       "      <td>3</td>\n",
       "      <td>16</td>\n",
       "      <td>12.321827</td>\n",
       "      <td>0.512020</td>\n",
       "      <td>6.62858</td>\n",
       "      <td>2.054170</td>\n",
       "      <td>...</td>\n",
       "      <td>132623_227572384</td>\n",
       "      <td>3.250599</td>\n",
       "      <td>-0.902918</td>\n",
       "      <td>0.000420</td>\n",
       "      <td>-999.999573</td>\n",
       "      <td>9.117000e-05</td>\n",
       "      <td>-999.999939</td>\n",
       "      <td>0.000420</td>\n",
       "      <td>0.000511</td>\n",
       "      <td>True</td>\n",
       "    </tr>\n",
       "    <tr>\n",
       "      <th>4</th>\n",
       "      <td>132623</td>\n",
       "      <td>227572384.0</td>\n",
       "      <td>5.280417</td>\n",
       "      <td>2.739783</td>\n",
       "      <td>4</td>\n",
       "      <td>16</td>\n",
       "      <td>47.236053</td>\n",
       "      <td>1.710158</td>\n",
       "      <td>6.62858</td>\n",
       "      <td>0.995251</td>\n",
       "      <td>...</td>\n",
       "      <td>132623_227572384</td>\n",
       "      <td>2.052460</td>\n",
       "      <td>-0.975305</td>\n",
       "      <td>0.968372</td>\n",
       "      <td>-999.031616</td>\n",
       "      <td>4.750000e-06</td>\n",
       "      <td>-1000.000000</td>\n",
       "      <td>0.968372</td>\n",
       "      <td>0.968377</td>\n",
       "      <td>False</td>\n",
       "    </tr>\n",
       "  </tbody>\n",
       "</table>\n",
       "<p>5 rows × 51 columns</p>\n",
       "</div>"
      ],
      "text/plain": [
       "      run        event     Bmass      time  i  mult      partP    partPt  \\\n",
       "0  132623  227572384.0  5.280417  2.739783  0    16   2.975773  0.125786   \n",
       "1  132623  227572384.0  5.280417  2.739783  1    16   2.113523  0.626089   \n",
       "2  132623  227572384.0  5.280417  2.739783  2    16   3.391397  0.237943   \n",
       "3  132623  227572384.0  5.280417  2.739783  3    16  12.321827  0.512020   \n",
       "4  132623  227572384.0  5.280417  2.739783  4    16  47.236053  1.710158   \n",
       "\n",
       "       ptB       IPs  ...            event_id   diff_pt  cos_diff_phi  \\\n",
       "0  6.62858  0.346570  ...    132623_227572384  3.636832     -0.878069   \n",
       "1  6.62858  1.647396  ...    132623_227572384  3.136530      0.769140   \n",
       "2  6.62858  2.565533  ...    132623_227572384  3.524675     -0.906972   \n",
       "3  6.62858  2.054170  ...    132623_227572384  3.250599     -0.902918   \n",
       "4  6.62858  0.995251  ...    132623_227572384  2.052460     -0.975305   \n",
       "\n",
       "   max_PID_mu_k  sum_PID_mu_k  max_PID_mu_e  sum_PID_mu_e  max_PID_k_e  \\\n",
       "0      0.003009   -999.997009  8.195478e-01   -999.180481     0.819548   \n",
       "1      0.073602   -999.926392  8.000000e-08  -1000.000000     0.073602   \n",
       "2      0.007654      0.012911  7.654380e-03      0.007655     0.005256   \n",
       "3      0.000420   -999.999573  9.117000e-05   -999.999939     0.000420   \n",
       "4      0.968372   -999.031616  4.750000e-06  -1000.000000     0.968372   \n",
       "\n",
       "   sum_PID_k_e  label  \n",
       "0     0.822557  False  \n",
       "1     0.073602  False  \n",
       "2     0.005257   True  \n",
       "3     0.000511   True  \n",
       "4     0.968377  False  \n",
       "\n",
       "[5 rows x 51 columns]"
      ]
     },
     "execution_count": 11,
     "metadata": {},
     "output_type": "execute_result"
    }
   ],
   "source": [
    "data.head()"
   ]
  },
  {
   "cell_type": "code",
   "execution_count": 12,
   "metadata": {
    "collapsed": false
   },
   "outputs": [],
   "source": [
    "data['group_column'] = numpy.unique(data.event_id, return_inverse=True)[1]\n",
    "MC['group_column'] = numpy.unique(MC.event_id, return_inverse=True)[1]\n",
    "data.index = numpy.arange(len(data))\n",
    "MC.index = numpy.arange(len(MC))"
   ]
  },
  {
   "cell_type": "markdown",
   "metadata": {},
   "source": [
    "## Define features"
   ]
  },
  {
   "cell_type": "code",
   "execution_count": 13,
   "metadata": {
    "collapsed": false
   },
   "outputs": [],
   "source": [
    "# features = ['cos_diff_phi', 'diff_pt', 'partPt', 'partP', 'nnkrec', 'diff_eta', 'EOverP', \n",
    "#             'ptB', 'sum_PID_mu_k', 'proj', 'PIDNNe', 'sum_PID_k_e', 'PIDNNk', 'sum_PID_mu_e', 'PIDNNm',\n",
    "#             'phi', 'IP', 'IPerr', 'IPs', 'veloch', 'max_PID_k_e', 'ghostProb', \n",
    "#             'IPPU', 'eta', 'max_PID_mu_e', 'max_PID_mu_k', 'partlcs']"
   ]
  },
  {
   "cell_type": "code",
   "execution_count": 14,
   "metadata": {
    "collapsed": true
   },
   "outputs": [],
   "source": [
    "features = ['cos_diff_phi', 'partPt', 'partP', 'nnkrec', 'diff_eta', 'EOverP', \n",
    "            'ptB', 'sum_PID_mu_k', 'proj', 'PIDNNe', 'sum_PID_k_e', 'PIDNNk', 'sum_PID_mu_e', 'PIDNNm',\n",
    "            'phi', 'IP', 'IPerr', 'IPs', 'veloch', 'max_PID_k_e', 'ghostProb', \n",
    "            'IPPU', 'eta', 'max_PID_mu_e', 'max_PID_mu_k', 'partlcs']"
   ]
  },
  {
   "cell_type": "markdown",
   "metadata": {},
   "source": [
    "# Test that B-events similar in MC and data"
   ]
  },
  {
   "cell_type": "code",
   "execution_count": 53,
   "metadata": {
    "collapsed": false
   },
   "outputs": [],
   "source": [
    "b_ids_data = numpy.unique(data.group_column.values, return_index=True)[1]\n",
    "b_ids_MC = numpy.unique(MC.group_column.values, return_index=True)[1]"
   ]
  },
  {
   "cell_type": "code",
   "execution_count": 54,
   "metadata": {
    "collapsed": false
   },
   "outputs": [],
   "source": [
    "Bdata = data.iloc[b_ids_data].copy()\n",
    "BMC = MC.iloc[b_ids_MC].copy()\n",
    "\n",
    "Bdata['Beta'] = Bdata.diff_eta + Bdata.eta\n",
    "BMC['Beta'] = BMC.diff_eta + BMC.eta\n",
    "\n",
    "Bdata['Bphi'] = Bdata.diff_phi + Bdata.phi\n",
    "BMC['Bphi'] = BMC.diff_phi + BMC.phi"
   ]
  },
  {
   "cell_type": "code",
   "execution_count": 56,
   "metadata": {
    "collapsed": true
   },
   "outputs": [],
   "source": [
    "Bfeatures = ['Beta', 'Bphi', 'ptB']"
   ]
  },
  {
   "cell_type": "code",
   "execution_count": 57,
   "metadata": {
    "collapsed": false
   },
   "outputs": [
    {
     "data": {
      "image/png": "[encoded data removed]",
      "text/plain": [
       "<matplotlib.figure.Figure at 0x7fe31abcbc10>"
      ]
     },
     "metadata": {},
     "output_type": "display_data"
    }
   ],
   "source": [
    "hist(Bdata['ptB'].values, normed=True, alpha=0.5, bins=60, \n",
    "     weights=Bdata['N_sig_sw'].values)\n",
    "hist(BMC['ptB'].values, normed=True, alpha=0.5, bins=60);"
   ]
  },
  {
   "cell_type": "code",
   "execution_count": 58,
   "metadata": {
    "collapsed": false
   },
   "outputs": [
    {
     "data": {
      "image/png": "[encoded data removed]",
      "text/plain": [
       "<matplotlib.figure.Figure at 0x7fe31ae056d0>"
      ]
     },
     "metadata": {},
     "output_type": "display_data"
    }
   ],
   "source": [
    "hist(Bdata['Beta'].values, normed=True, alpha=0.5, bins=60, \n",
    "     weights=Bdata['N_sig_sw'].values)\n",
    "hist(BMC['Beta'].values, normed=True, alpha=0.5, bins=60);"
   ]
  },
  {
   "cell_type": "code",
   "execution_count": 59,
   "metadata": {
    "collapsed": false
   },
   "outputs": [
    {
     "data": {
      "image/png": "[encoded data removed]",
      "text/plain": [
       "<matplotlib.figure.Figure at 0x7fe324351d90>"
      ]
     },
     "metadata": {},
     "output_type": "display_data"
    }
   ],
   "source": [
    "hist(Bdata['Bphi'].values, normed=True, alpha=0.5, bins=60, \n",
    "     weights=Bdata['N_sig_sw'].values)\n",
    "hist(BMC['Bphi'].values, normed=True, alpha=0.5, bins=60);"
   ]
  },
  {
   "cell_type": "code",
   "execution_count": 60,
   "metadata": {
    "collapsed": true
   },
   "outputs": [],
   "source": [
    "tt_base = DecisionTrainClassifier(learning_rate=0.02, n_estimators=1000,\n",
    "                                  n_threads=16)"
   ]
  },
  {
   "cell_type": "code",
   "execution_count": 61,
   "metadata": {
    "collapsed": false
   },
   "outputs": [],
   "source": [
    "data_vs_MC_B = pandas.concat([Bdata, BMC])\n",
    "label_data_vs_MC_B = [0] * len(Bdata) + [1] * len(BMC)\n",
    "weights_data_vs_MC_B = numpy.concatenate([Bdata.N_sig_sw.values * (Bdata.N_sig_sw.values > 1) * 1, \n",
    "                                          numpy.ones(len(BMC))])\n",
    "weights_data_vs_MC_B_all = numpy.concatenate([Bdata.N_sig_sw.values, numpy.ones(len(BMC))])"
   ]
  },
  {
   "cell_type": "code",
   "execution_count": 62,
   "metadata": {
    "collapsed": false
   },
   "outputs": [
    {
     "name": "stdout",
     "output_type": "stream",
     "text": [
      "CPU times: user 54.7 s, sys: 330 ms, total: 55.1 s\n",
      "Wall time: 5.65 s\n"
     ]
    }
   ],
   "source": [
    "tt_B = FoldingGroupClassifier(SklearnClassifier(tt_base), n_folds=2, random_state=321, \n",
    "                              train_features=Bfeatures, group_feature='group_column')\n",
    "%time tt_B.fit(data_vs_MC_B, label_data_vs_MC_B, sample_weight=weights_data_vs_MC_B)\n",
    "pass"
   ]
  },
  {
   "cell_type": "code",
   "execution_count": 63,
   "metadata": {
    "collapsed": false
   },
   "outputs": [
    {
     "name": "stdout",
     "output_type": "stream",
     "text": [
      "KFold prediction using folds column\n"
     ]
    },
    {
     "data": {
      "text/plain": [
       "0.53348108961515373"
      ]
     },
     "execution_count": 63,
     "metadata": {},
     "output_type": "execute_result"
    }
   ],
   "source": [
    "roc_auc_score(label_data_vs_MC_B, tt_B.predict_proba(data_vs_MC_B)[:, 1], sample_weight=weights_data_vs_MC_B)"
   ]
  },
  {
   "cell_type": "code",
   "execution_count": 64,
   "metadata": {
    "collapsed": false
   },
   "outputs": [
    {
     "name": "stdout",
     "output_type": "stream",
     "text": [
      "KFold prediction using folds column\n"
     ]
    },
    {
     "data": {
      "text/plain": [
       "0.51020867906251355"
      ]
     },
     "execution_count": 64,
     "metadata": {},
     "output_type": "execute_result"
    }
   ],
   "source": [
    "roc_auc_score(label_data_vs_MC_B, tt_B.predict_proba(data_vs_MC_B)[:, 1], sample_weight=weights_data_vs_MC_B_all)"
   ]
  },
  {
   "cell_type": "code",
   "execution_count": 65,
   "metadata": {
    "collapsed": false
   },
   "outputs": [],
   "source": [
    "from hep_ml.reweight import GBReweighter, FoldingReweighter"
   ]
  },
  {
   "cell_type": "code",
   "execution_count": 66,
   "metadata": {
    "collapsed": false
   },
   "outputs": [
    {
     "data": {
      "text/plain": [
       "FoldingReweighter(base_reweighter=GBReweighter(gb_args=None, learning_rate=0.2, loss_regularization=5.0,\n",
       "       max_depth=3, min_samples_leaf=200, n_estimators=40),\n",
       "         n_folds=2, random_state=3444, verbose=True)"
      ]
     },
     "execution_count": 66,
     "metadata": {},
     "output_type": "execute_result"
    }
   ],
   "source": [
    "reweighterB = FoldingReweighter(GBReweighter(), random_state=3444)\n",
    "reweighterB.fit(BMC[Bfeatures], Bdata[Bfeatures], target_weight=Bdata.N_sig_sw)"
   ]
  },
  {
   "cell_type": "code",
   "execution_count": 67,
   "metadata": {
    "collapsed": false
   },
   "outputs": [
    {
     "name": "stdout",
     "output_type": "stream",
     "text": [
      "KFold prediction using folds column\n"
     ]
    }
   ],
   "source": [
    "BMC_weights = reweighterB.predict_weights(BMC[Bfeatures])"
   ]
  },
  {
   "cell_type": "code",
   "execution_count": 68,
   "metadata": {
    "collapsed": false
   },
   "outputs": [
    {
     "data": {
      "image/png": "[encoded data removed]",
      "text/plain": [
       "<matplotlib.figure.Figure at 0x7fe31abe5810>"
      ]
     },
     "metadata": {},
     "output_type": "display_data"
    }
   ],
   "source": [
    "hist(Bdata['ptB'].values, normed=True, alpha=0.5, bins=60, \n",
    "     weights=Bdata['N_sig_sw'].values)\n",
    "hist(BMC['ptB'].values, normed=True, alpha=0.5, bins=60, weights=BMC_weights);"
   ]
  },
  {
   "cell_type": "code",
   "execution_count": 69,
   "metadata": {
    "collapsed": true
   },
   "outputs": [],
   "source": [
    "weights_data_vs_MC_B_w = numpy.concatenate([Bdata.N_sig_sw.values * (Bdata.N_sig_sw.values > 1) * 1, \n",
    "                                            BMC_weights])\n",
    "weights_data_vs_MC_B_all_w = numpy.concatenate([Bdata.N_sig_sw.values, BMC_weights])"
   ]
  },
  {
   "cell_type": "code",
   "execution_count": 70,
   "metadata": {
    "collapsed": false
   },
   "outputs": [
    {
     "name": "stdout",
     "output_type": "stream",
     "text": [
      "CPU times: user 51.6 s, sys: 201 ms, total: 51.8 s\n",
      "Wall time: 5.42 s\n",
      "KFold prediction using folds column\n"
     ]
    },
    {
     "data": {
      "text/plain": [
       "0.50118693500779943"
      ]
     },
     "execution_count": 70,
     "metadata": {},
     "output_type": "execute_result"
    }
   ],
   "source": [
    "tt_B = FoldingGroupClassifier(SklearnClassifier(tt_base), n_folds=2, random_state=321, \n",
    "                              train_features=Bfeatures, group_feature='group_column')\n",
    "%time tt_B.fit(data_vs_MC_B, label_data_vs_MC_B, sample_weight=weights_data_vs_MC_B_w)\n",
    "\n",
    "roc_auc_score(label_data_vs_MC_B, tt_B.predict_proba(data_vs_MC_B)[:, 1], sample_weight=weights_data_vs_MC_B_all_w)"
   ]
  },
  {
   "cell_type": "code",
   "execution_count": 71,
   "metadata": {
    "collapsed": false
   },
   "outputs": [],
   "source": [
    "MC['N_sig_sw'] = BMC_weights[numpy.unique(MC.group_column.values, return_inverse=True)[1]]"
   ]
  },
  {
   "cell_type": "markdown",
   "metadata": {},
   "source": [
    "## Test that number of tracks is independent on Track description"
   ]
  },
  {
   "cell_type": "code",
   "execution_count": 73,
   "metadata": {
    "collapsed": true
   },
   "outputs": [],
   "source": [
    "def compute_target_number_of_tracks(X):\n",
    "    ids = numpy.unique(X.group_column, return_inverse=True)[1]\n",
    "    number_of_tracks = numpy.bincount(X.group_column)\n",
    "    target = number_of_tracks[ids]\n",
    "    return target"
   ]
  },
  {
   "cell_type": "code",
   "execution_count": 74,
   "metadata": {
    "collapsed": true
   },
   "outputs": [],
   "source": [
    "from decisiontrain import DecisionTrainRegressor\n",
    "from rep.estimators import SklearnRegressor\n",
    "from rep.metaml import FoldingRegressor"
   ]
  },
  {
   "cell_type": "code",
   "execution_count": 75,
   "metadata": {
    "collapsed": false
   },
   "outputs": [],
   "source": [
    "tt_base_reg = DecisionTrainRegressor(learning_rate=0.02, n_estimators=1000,\n",
    "                                     n_threads=16)"
   ]
  },
  {
   "cell_type": "code",
   "execution_count": 76,
   "metadata": {
    "collapsed": false
   },
   "outputs": [
    {
     "name": "stdout",
     "output_type": "stream",
     "text": [
      "CPU times: user 7min 33s, sys: 2.91 s, total: 7min 35s\n",
      "Wall time: 1min 21s\n"
     ]
    }
   ],
   "source": [
    "%%time\n",
    "tt_data_NT = FoldingRegressor(SklearnRegressor(tt_base_reg), n_folds=2, random_state=321, \n",
    "                              features=features)\n",
    "tt_data_NT.fit(data, compute_target_number_of_tracks(data), sample_weight=data.N_sig_sw.values * mask_sw_positive)"
   ]
  },
  {
   "cell_type": "code",
   "execution_count": 77,
   "metadata": {
    "collapsed": false
   },
   "outputs": [
    {
     "name": "stdout",
     "output_type": "stream",
     "text": [
      "KFold prediction using folds column\n"
     ]
    },
    {
     "data": {
      "text/plain": [
       "11.052412646370819"
      ]
     },
     "execution_count": 77,
     "metadata": {},
     "output_type": "execute_result"
    }
   ],
   "source": [
    "from sklearn.metrics import mean_squared_error\n",
    "mean_squared_error(compute_target_number_of_tracks(data), tt_data_NT.predict(data),\n",
    "                   sample_weight=data.N_sig_sw.values) ** 0.5"
   ]
  },
  {
   "cell_type": "code",
   "execution_count": 83,
   "metadata": {
    "collapsed": false
   },
   "outputs": [
    {
     "data": {
      "text/plain": [
       "11.874056134687182"
      ]
     },
     "execution_count": 83,
     "metadata": {},
     "output_type": "execute_result"
    }
   ],
   "source": [
    "mean_squared_error(compute_target_number_of_tracks(data), \n",
    "                   [numpy.mean(compute_target_number_of_tracks(data))] * len(data), \n",
    "                   sample_weight=data.N_sig_sw.values) ** 0.5"
   ]
  },
  {
   "cell_type": "code",
   "execution_count": 92,
   "metadata": {
    "collapsed": false
   },
   "outputs": [
    {
     "name": "stdout",
     "output_type": "stream",
     "text": [
      "CPU times: user 8min 13s, sys: 3.68 s, total: 8min 17s\n",
      "Wall time: 1min 27s\n"
     ]
    }
   ],
   "source": [
    "%%time\n",
    "tt_MC_NT = FoldingRegressor(SklearnRegressor(tt_base_reg), n_folds=2, random_state=321, \n",
    "                            features=features)\n",
    "tt_MC_NT.fit(MC, compute_target_number_of_tracks(MC), sample_weight=MC.N_sig_sw.values)"
   ]
  },
  {
   "cell_type": "code",
   "execution_count": 93,
   "metadata": {
    "collapsed": false
   },
   "outputs": [
    {
     "name": "stdout",
     "output_type": "stream",
     "text": [
      "KFold prediction using folds column\n"
     ]
    },
    {
     "data": {
      "text/plain": [
       "10.703249676132344"
      ]
     },
     "execution_count": 93,
     "metadata": {},
     "output_type": "execute_result"
    }
   ],
   "source": [
    "mean_squared_error(compute_target_number_of_tracks(MC),\n",
    "                   tt_MC_NT.predict(MC), sample_weight=MC.N_sig_sw.values) ** 0.5"
   ]
  },
  {
   "cell_type": "code",
   "execution_count": 94,
   "metadata": {
    "collapsed": false
   },
   "outputs": [
    {
     "data": {
      "text/plain": [
       "11.280995798543337"
      ]
     },
     "execution_count": 94,
     "metadata": {},
     "output_type": "execute_result"
    }
   ],
   "source": [
    "mean_squared_error(compute_target_number_of_tracks(MC),\n",
    "                   [numpy.mean(compute_target_number_of_tracks(MC))] * len(MC),\n",
    "                   sample_weight=MC.N_sig_sw.values) ** 0.5"
   ]
  },
  {
   "cell_type": "code",
   "execution_count": 95,
   "metadata": {
    "collapsed": false
   },
   "outputs": [
    {
     "data": {
      "text/html": [
       "<div>\n",
       "<table border=\"1\" class=\"dataframe\">\n",
       "  <thead>\n",
       "    <tr style=\"text-align: right;\">\n",
       "      <th></th>\n",
       "      <th>effect</th>\n",
       "    </tr>\n",
       "  </thead>\n",
       "  <tbody>\n",
       "    <tr>\n",
       "      <th>IPerr</th>\n",
       "      <td>0.507937</td>\n",
       "    </tr>\n",
       "    <tr>\n",
       "      <th>EOverP</th>\n",
       "      <td>0.686508</td>\n",
       "    </tr>\n",
       "    <tr>\n",
       "      <th>PIDNNe</th>\n",
       "      <td>0.777778</td>\n",
       "    </tr>\n",
       "    <tr>\n",
       "      <th>IPPU</th>\n",
       "      <td>0.888889</td>\n",
       "    </tr>\n",
       "    <tr>\n",
       "      <th>ghostProb</th>\n",
       "      <td>1.000000</td>\n",
       "    </tr>\n",
       "  </tbody>\n",
       "</table>\n",
       "</div>"
      ],
      "text/plain": [
       "             effect\n",
       "IPerr      0.507937\n",
       "EOverP     0.686508\n",
       "PIDNNe     0.777778\n",
       "IPPU       0.888889\n",
       "ghostProb  1.000000"
      ]
     },
     "execution_count": 95,
     "metadata": {},
     "output_type": "execute_result"
    }
   ],
   "source": [
    "tt_MC_NT.get_feature_importances().sort_values(by='effect')[-5:]"
   ]
  },
  {
   "cell_type": "markdown",
   "metadata": {},
   "source": [
    "## Define base estimator and B weights, labels"
   ]
  },
  {
   "cell_type": "code",
   "execution_count": 96,
   "metadata": {
    "collapsed": false
   },
   "outputs": [],
   "source": [
    "tt_base = DecisionTrainClassifier(learning_rate=0.02, n_estimators=1000,\n",
    "                                  n_threads=16)"
   ]
  },
  {
   "cell_type": "code",
   "execution_count": 97,
   "metadata": {
    "collapsed": false
   },
   "outputs": [],
   "source": [
    "B_signs = data['signB'].groupby(data['group_column']).aggregate(numpy.mean)\n",
    "B_weights = data['N_sig_sw'].groupby(data['group_column']).aggregate(numpy.mean)"
   ]
  },
  {
   "cell_type": "code",
   "execution_count": 98,
   "metadata": {
    "collapsed": true
   },
   "outputs": [],
   "source": [
    "B_signs_MC = MC['signB'].groupby(MC['group_column']).aggregate(numpy.mean)\n",
    "B_weights_MC = MC['N_sig_sw'].groupby(MC['group_column']).aggregate(numpy.mean)"
   ]
  },
  {
   "cell_type": "markdown",
   "metadata": {},
   "source": [
    "### B probability computation"
   ]
  },
  {
   "cell_type": "code",
   "execution_count": 99,
   "metadata": {
    "collapsed": true
   },
   "outputs": [],
   "source": [
    "from scipy.special import logit, expit\n",
    "def compute_Bprobs(X, track_proba, weights=None, normed_weights=False):\n",
    "    if weights is None:\n",
    "        weights = numpy.ones(len(X))\n",
    "    _, data_ids = numpy.unique(X['group_column'], return_inverse=True)\n",
    "    \n",
    "    track_proba[~numpy.isfinite(track_proba)] = 0.5\n",
    "    track_proba[numpy.isnan(track_proba)] = 0.5\n",
    "    \n",
    "    if normed_weights:\n",
    "        weights_per_events = numpy.bincount(data_ids, weights=weights)\n",
    "        weights /= weights_per_events[data_ids]\n",
    "    predictions = numpy.bincount(data_ids, weights=logit(track_proba) * X['signTrack'] * weights)\n",
    "    return expit(predictions)"
   ]
  },
  {
   "cell_type": "markdown",
   "metadata": {},
   "source": [
    "## Inclusive tagging: training on data"
   ]
  },
  {
   "cell_type": "code",
   "execution_count": 100,
   "metadata": {
    "collapsed": false
   },
   "outputs": [
    {
     "name": "stdout",
     "output_type": "stream",
     "text": [
      "CPU times: user 8min 41s, sys: 3.49 s, total: 8min 44s\n",
      "Wall time: 1min 24s\n"
     ]
    }
   ],
   "source": [
    "tt_data = FoldingGroupClassifier(SklearnClassifier(tt_base), n_folds=2, random_state=321, \n",
    "                                 train_features=features, group_feature='group_column')\n",
    "%time tt_data.fit(data, data.label, sample_weight=data.N_sig_sw.values * mask_sw_positive)\n",
    "pass"
   ]
  },
  {
   "cell_type": "code",
   "execution_count": 101,
   "metadata": {
    "collapsed": false
   },
   "outputs": [
    {
     "name": "stdout",
     "output_type": "stream",
     "text": [
      "KFold prediction using random classifier (length of data passed not equal to length of train)\n",
      "KFold prediction using folds column\n"
     ]
    },
    {
     "data": {
      "text/html": [
       "<div>\n",
       "<table border=\"1\" class=\"dataframe\">\n",
       "  <thead>\n",
       "    <tr style=\"text-align: right;\">\n",
       "      <th></th>\n",
       "      <th>dataset</th>\n",
       "      <th>quality</th>\n",
       "    </tr>\n",
       "  </thead>\n",
       "  <tbody>\n",
       "    <tr>\n",
       "      <th>0</th>\n",
       "      <td>MC</td>\n",
       "      <td>0.649913</td>\n",
       "    </tr>\n",
       "    <tr>\n",
       "      <th>1</th>\n",
       "      <td>data</td>\n",
       "      <td>0.640670</td>\n",
       "    </tr>\n",
       "  </tbody>\n",
       "</table>\n",
       "</div>"
      ],
      "text/plain": [
       "  dataset   quality\n",
       "0      MC  0.649913\n",
       "1    data  0.640670"
      ]
     },
     "execution_count": 101,
     "metadata": {},
     "output_type": "execute_result"
    }
   ],
   "source": [
    "pandas.DataFrame({'dataset': ['MC', 'data'], \n",
    "                  'quality': [roc_auc_score(\n",
    "                B_signs_MC, compute_Bprobs(MC, tt_data.predict_proba(MC)[:, 1]), sample_weight=B_weights_MC),\n",
    "                             roc_auc_score(\n",
    "                B_signs, compute_Bprobs(data, tt_data.predict_proba(data)[:, 1]), sample_weight=B_weights)]})"
   ]
  },
  {
   "cell_type": "markdown",
   "metadata": {},
   "source": [
    "## Inclusive tagging: training on MC"
   ]
  },
  {
   "cell_type": "code",
   "execution_count": 102,
   "metadata": {
    "collapsed": false
   },
   "outputs": [
    {
     "name": "stdout",
     "output_type": "stream",
     "text": [
      "CPU times: user 8min 17s, sys: 3.28 s, total: 8min 21s\n",
      "Wall time: 1min 8s\n"
     ]
    }
   ],
   "source": [
    "tt_MC = FoldingGroupClassifier(SklearnClassifier(tt_base), n_folds=2, random_state=321, \n",
    "                               train_features=features, group_feature='group_column')\n",
    "%time tt_MC.fit(MC, MC.label)\n",
    "pass"
   ]
  },
  {
   "cell_type": "code",
   "execution_count": 103,
   "metadata": {
    "collapsed": false
   },
   "outputs": [
    {
     "name": "stdout",
     "output_type": "stream",
     "text": [
      "KFold prediction using folds column\n",
      "KFold prediction using random classifier (length of data passed not equal to length of train)\n"
     ]
    },
    {
     "data": {
      "text/html": [
       "<div>\n",
       "<table border=\"1\" class=\"dataframe\">\n",
       "  <thead>\n",
       "    <tr style=\"text-align: right;\">\n",
       "      <th></th>\n",
       "      <th>dataset</th>\n",
       "      <th>quality</th>\n",
       "    </tr>\n",
       "  </thead>\n",
       "  <tbody>\n",
       "    <tr>\n",
       "      <th>0</th>\n",
       "      <td>MC</td>\n",
       "      <td>0.658694</td>\n",
       "    </tr>\n",
       "    <tr>\n",
       "      <th>1</th>\n",
       "      <td>data</td>\n",
       "      <td>0.641292</td>\n",
       "    </tr>\n",
       "  </tbody>\n",
       "</table>\n",
       "</div>"
      ],
      "text/plain": [
       "  dataset   quality\n",
       "0      MC  0.658694\n",
       "1    data  0.641292"
      ]
     },
     "execution_count": 103,
     "metadata": {},
     "output_type": "execute_result"
    }
   ],
   "source": [
    "pandas.DataFrame({'dataset': ['MC', 'data'], \n",
    "                  'quality': [roc_auc_score(\n",
    "                B_signs_MC, compute_Bprobs(MC, tt_MC.predict_proba(MC)[:, 1]), sample_weight=B_weights_MC),\n",
    "                             roc_auc_score(\n",
    "                B_signs, compute_Bprobs(data, tt_MC.predict_proba(data)[:, 1]), sample_weight=B_weights)]})"
   ]
  },
  {
   "cell_type": "markdown",
   "metadata": {},
   "source": [
    "## New method"
   ]
  },
  {
   "cell_type": "markdown",
   "metadata": {},
   "source": [
    "### Reweighting with classifier"
   ]
  },
  {
   "cell_type": "markdown",
   "metadata": {},
   "source": [
    "combine data and MC together to train a classifier"
   ]
  },
  {
   "cell_type": "code",
   "execution_count": 236,
   "metadata": {
    "collapsed": false
   },
   "outputs": [],
   "source": [
    "combined_data_MC = pandas.concat([data, MC])\n",
    "combined_label = numpy.array([0] * len(data) + [1] * len(MC))\n",
    "\n",
    "combined_weights_data = data.N_sig_sw.values #/ numpy.bincount(data.group_column)[data.group_column.values]\n",
    "combined_weights_data_passed = combined_weights_data * mask_sw_positive\n",
    "combined_weights_MC = MC.N_sig_sw.values# / numpy.bincount(MC.group_column)[MC.group_column.values]\n",
    "combined_weights = numpy.concatenate([combined_weights_data_passed, \n",
    "                                      1. * combined_weights_MC / sum(combined_weights_MC) * sum(combined_weights_data_passed)])\n",
    "combined_weights_all = numpy.concatenate([combined_weights_data, \n",
    "                                          1. * combined_weights_MC / sum(combined_weights_MC) * sum(combined_weights_data)])"
   ]
  },
  {
   "cell_type": "markdown",
   "metadata": {},
   "source": [
    "#### train classifier to distinguish data and MC"
   ]
  },
  {
   "cell_type": "code",
   "execution_count": 276,
   "metadata": {
    "collapsed": false
   },
   "outputs": [
    {
     "name": "stdout",
     "output_type": "stream",
     "text": [
      "CPU times: user 19min 28s, sys: 15.9 s, total: 19min 44s\n",
      "Wall time: 3min 30s\n"
     ]
    }
   ],
   "source": [
    "%%time \n",
    "tt_base_large = DecisionTrainClassifier(learning_rate=0.3, n_estimators=1000,\n",
    "                                        n_threads=20)\n",
    "tt_data_vs_MC = FoldingGroupClassifier(SklearnClassifier(tt_base_large), n_folds=2, random_state=321, \n",
    "                                       train_features=features + ['label'], group_feature='group_column')\n",
    "tt_data_vs_MC.fit(combined_data_MC, combined_label, sample_weight=combined_weights)"
   ]
  },
  {
   "cell_type": "code",
   "execution_count": 277,
   "metadata": {
    "collapsed": false
   },
   "outputs": [
    {
     "name": "stdout",
     "output_type": "stream",
     "text": [
      "KFold prediction using folds column\n"
     ]
    }
   ],
   "source": [
    "a = []\n",
    "for n, p in enumerate(tt_data_vs_MC.staged_predict_proba(combined_data_MC)):\n",
    "    a.append(roc_auc_score(combined_label, p[:, 1], sample_weight=combined_weights))"
   ]
  },
  {
   "cell_type": "code",
   "execution_count": 278,
   "metadata": {
    "collapsed": false
   },
   "outputs": [
    {
     "data": {
      "text/plain": [
       "[<matplotlib.lines.Line2D at 0x7fe31afea9d0>]"
      ]
     },
     "execution_count": 278,
     "metadata": {},
     "output_type": "execute_result"
    },
    {
     "data": {
      "image/png": "[encoded data removed]",
      "text/plain": [
       "<matplotlib.figure.Figure at 0x7fe31f0ad290>"
      ]
     },
     "metadata": {},
     "output_type": "display_data"
    }
   ],
   "source": [
    "plot(a)"
   ]
  },
  {
   "cell_type": "markdown",
   "metadata": {},
   "source": [
    "quality"
   ]
  },
  {
   "cell_type": "code",
   "execution_count": 279,
   "metadata": {
    "collapsed": false
   },
   "outputs": [
    {
     "name": "stdout",
     "output_type": "stream",
     "text": [
      "KFold prediction using folds column\n"
     ]
    },
    {
     "data": {
      "text/plain": [
       "0.82004320823796661"
      ]
     },
     "execution_count": 279,
     "metadata": {},
     "output_type": "execute_result"
    }
   ],
   "source": [
    "combined_p = tt_data_vs_MC.predict_proba(combined_data_MC)[:, 1]\n",
    "roc_auc_score(combined_label, combined_p, sample_weight=combined_weights)"
   ]
  },
  {
   "cell_type": "code",
   "execution_count": 280,
   "metadata": {
    "collapsed": false
   },
   "outputs": [
    {
     "data": {
      "text/plain": [
       "0.81490294553177545"
      ]
     },
     "execution_count": 280,
     "metadata": {},
     "output_type": "execute_result"
    }
   ],
   "source": [
    "roc_auc_score(combined_label, combined_p, sample_weight=combined_weights_all)"
   ]
  },
  {
   "cell_type": "markdown",
   "metadata": {},
   "source": [
    "calibrate probabilities (due to reweighting rule where probabilities are used)"
   ]
  },
  {
   "cell_type": "code",
   "execution_count": 281,
   "metadata": {
    "collapsed": false
   },
   "outputs": [
    {
     "data": {
      "image/png": "[encoded data removed]",
      "text/plain": [
       "<matplotlib.figure.Figure at 0x7fe2ff6f8cd0>"
      ]
     },
     "metadata": {},
     "output_type": "display_data"
    }
   ],
   "source": [
    "from utils import calibrate_probs, plot_calibration\n",
    "combined_p_calib = calibrate_probs(combined_label, combined_weights, combined_p)[0]\n",
    "\n",
    "plot_calibration(combined_p, combined_label, weight=combined_weights)\n",
    "plot_calibration(combined_p_calib, combined_label, weight=combined_weights)"
   ]
  },
  {
   "cell_type": "markdown",
   "metadata": {},
   "source": [
    "#### compute MC and data track weights"
   ]
  },
  {
   "cell_type": "code",
   "execution_count": 282,
   "metadata": {
    "collapsed": false
   },
   "outputs": [],
   "source": [
    "# reweight data predicted as data to MC\n",
    "used_probs = combined_p_calib\n",
    "data_probs_to_be_MC = used_probs[combined_label == 0]\n",
    "MC_probs_to_be_MC = used_probs[combined_label == 1]\n",
    "\n",
    "track_weights_data = numpy.ones(len(data))\n",
    "# take data with probability to be data\n",
    "mask_data = data_probs_to_be_MC < 0.5\n",
    "track_weights_data[mask_data] = (data_probs_to_be_MC[mask_data]) / (1 - data_probs_to_be_MC[mask_data])\n",
    "\n",
    "# reweight MC predicted as MC to data\n",
    "track_weights_MC = numpy.ones(len(MC))\n",
    "mask_MC = MC_probs_to_be_MC > 0.5\n",
    "track_weights_MC[mask_MC] = (1 - MC_probs_to_be_MC[mask_MC]) / (MC_probs_to_be_MC[mask_MC])\n",
    "\n",
    "# simple approach, reweight only MC\n",
    "track_weights_only_MC = (1 - MC_probs_to_be_MC) / MC_probs_to_be_MC"
   ]
  },
  {
   "cell_type": "code",
   "execution_count": 283,
   "metadata": {
    "collapsed": true
   },
   "outputs": [],
   "source": [
    "# data_ids = numpy.unique(data['group_column'], return_inverse=True)[1]\n",
    "# MC_ids = numpy.unique(MC['group_column'], return_inverse=True)[1]\n",
    "\n",
    "# # event_weight_data = (numpy.bincount(data_ids, weights=data.N_sig_sw) / numpy.bincount(data_ids))[data_ids]\n",
    "# # event_weight_MC = (numpy.bincount(MC_ids, weights=MC.N_sig_sw) / numpy.bincount(MC_ids))[MC_ids]\n",
    "\n",
    "# # normalize weights for tracks in a way that sum w_track = 1 per event\n",
    "# track_weights_data /= numpy.bincount(data_ids, weights=track_weights_data)[data_ids]\n",
    "# track_weights_MC /= numpy.bincount(MC_ids, weights=track_weights_MC)[MC_ids]"
   ]
  },
  {
   "cell_type": "markdown",
   "metadata": {},
   "source": [
    "#### reweighting plotting"
   ]
  },
  {
   "cell_type": "code",
   "execution_count": 284,
   "metadata": {
    "collapsed": false
   },
   "outputs": [
    {
     "data": {
      "text/plain": [
       "<matplotlib.legend.Legend at 0x7fe31f249310>"
      ]
     },
     "execution_count": 284,
     "metadata": {},
     "output_type": "execute_result"
    },
    {
     "data": {
      "image/png": "[encoded data removed]",
      "text/plain": [
       "<matplotlib.figure.Figure at 0x7fe31f0eccd0>"
      ]
     },
     "metadata": {},
     "output_type": "display_data"
    }
   ],
   "source": [
    "hist(combined_p_calib[combined_label == 1], label='MC', normed=True, alpha=0.4, bins=60,\n",
    "     weights=combined_weights_MC)\n",
    "hist(combined_p_calib[combined_label == 0], label='data', normed=True, alpha=0.4, bins=60, \n",
    "     weights=combined_weights_data);\n",
    "legend(loc='best')"
   ]
  },
  {
   "cell_type": "code",
   "execution_count": 285,
   "metadata": {
    "collapsed": false
   },
   "outputs": [
    {
     "data": {
      "text/plain": [
       "<matplotlib.legend.Legend at 0x7fe317509e10>"
      ]
     },
     "execution_count": 285,
     "metadata": {},
     "output_type": "execute_result"
    },
    {
     "data": {
      "image/png": "[encoded data removed]",
      "text/plain": [
       "<matplotlib.figure.Figure at 0x7fe31afd3a50>"
      ]
     },
     "metadata": {},
     "output_type": "display_data"
    }
   ],
   "source": [
    "hist(track_weights_MC, normed=True, alpha=0.4, bins=60, label='MC')\n",
    "hist(track_weights_data, normed=True, alpha=0.4, bins=60, label='RD');\n",
    "legend(loc='best')"
   ]
  },
  {
   "cell_type": "code",
   "execution_count": 286,
   "metadata": {
    "collapsed": false
   },
   "outputs": [
    {
     "data": {
      "text/plain": [
       "(0.48831590598212582, 0.52141568467765975)"
      ]
     },
     "execution_count": 286,
     "metadata": {},
     "output_type": "execute_result"
    }
   ],
   "source": [
    "numpy.mean(track_weights_data), numpy.mean(track_weights_MC)"
   ]
  },
  {
   "cell_type": "code",
   "execution_count": 287,
   "metadata": {
    "collapsed": false
   },
   "outputs": [
    {
     "data": {
      "text/plain": [
       "<matplotlib.legend.Legend at 0x7fe31f086a10>"
      ]
     },
     "execution_count": 287,
     "metadata": {},
     "output_type": "execute_result"
    },
    {
     "data": {
      "image/png": "[encoded data removed]",
      "text/plain": [
       "<matplotlib.figure.Figure at 0x7fe317438d10>"
      ]
     },
     "metadata": {},
     "output_type": "display_data"
    }
   ],
   "source": [
    "hist(combined_p_calib[combined_label == 1], label='MC', normed=True, alpha=0.4, bins=60, \n",
    "     weights=track_weights_MC * MC.N_sig_sw.values)\n",
    "hist(combined_p_calib[combined_label == 0], label='data', normed=True, alpha=0.4, bins=60, \n",
    "     weights=track_weights_data * data.N_sig_sw.values);\n",
    "legend(loc='best')"
   ]
  },
  {
   "cell_type": "code",
   "execution_count": 288,
   "metadata": {
    "collapsed": false
   },
   "outputs": [
    {
     "data": {
      "text/plain": [
       "0.49389963524852626"
      ]
     },
     "execution_count": 288,
     "metadata": {},
     "output_type": "execute_result"
    }
   ],
   "source": [
    "roc_auc_score(combined_label, combined_p_calib,\n",
    "              sample_weight=numpy.concatenate([track_weights_data * data.N_sig_sw.values,\n",
    "                                               track_weights_MC * MC.N_sig_sw.values]))"
   ]
  },
  {
   "cell_type": "markdown",
   "metadata": {},
   "source": [
    "### Check reweighting rule"
   ]
  },
  {
   "cell_type": "markdown",
   "metadata": {},
   "source": [
    "train classifier to distinguish data vs MC with provided weights"
   ]
  },
  {
   "cell_type": "code",
   "execution_count": 289,
   "metadata": {
    "collapsed": false
   },
   "outputs": [
    {
     "name": "stdout",
     "output_type": "stream",
     "text": [
      "CPU times: user 16min 12s, sys: 13.2 s, total: 16min 25s\n",
      "Wall time: 3min 30s\n"
     ]
    }
   ],
   "source": [
    "%%time \n",
    "tt_check = FoldingGroupClassifier(SklearnClassifier(tt_base), n_folds=2, random_state=433, \n",
    "                                  train_features=features + ['label'], group_feature='group_column')\n",
    "tt_check.fit(combined_data_MC, combined_label, \n",
    "             sample_weight=numpy.concatenate([track_weights_data * data.N_sig_sw.values * mask_sw_positive, \n",
    "                                              track_weights_MC * MC.N_sig_sw.values]))"
   ]
  },
  {
   "cell_type": "code",
   "execution_count": 290,
   "metadata": {
    "collapsed": false
   },
   "outputs": [
    {
     "name": "stdout",
     "output_type": "stream",
     "text": [
      "KFold prediction using folds column\n"
     ]
    },
    {
     "data": {
      "text/plain": [
       "0.53335248890854536"
      ]
     },
     "execution_count": 290,
     "metadata": {},
     "output_type": "execute_result"
    }
   ],
   "source": [
    "roc_auc_score(combined_label, tt_check.predict_proba(combined_data_MC)[:, 1],\n",
    "              sample_weight=numpy.concatenate([track_weights_data * data.N_sig_sw.values * mask_sw_positive, \n",
    "                                              track_weights_MC * MC.N_sig_sw.values]))\n",
    "# * sum(track_weights_data * mask_sw_positive) / sum(track_weights_MC)"
   ]
  },
  {
   "cell_type": "code",
   "execution_count": 291,
   "metadata": {
    "collapsed": false
   },
   "outputs": [
    {
     "name": "stdout",
     "output_type": "stream",
     "text": [
      "KFold prediction using folds column\n"
     ]
    },
    {
     "data": {
      "text/plain": [
       "0.53546922584908141"
      ]
     },
     "execution_count": 291,
     "metadata": {},
     "output_type": "execute_result"
    }
   ],
   "source": [
    "roc_auc_score(combined_label, tt_check.predict_proba(combined_data_MC)[:, 1],\n",
    "              sample_weight=numpy.concatenate([track_weights_data * data.N_sig_sw.values, \n",
    "                                              track_weights_MC * MC.N_sig_sw.values]))\n",
    "# * sum(track_weights_data) / sum(track_weights_MC)"
   ]
  },
  {
   "cell_type": "markdown",
   "metadata": {},
   "source": [
    "### Classifier trained on MC"
   ]
  },
  {
   "cell_type": "code",
   "execution_count": 292,
   "metadata": {
    "collapsed": false
   },
   "outputs": [
    {
     "name": "stdout",
     "output_type": "stream",
     "text": [
      "CPU times: user 8min 24s, sys: 3.56 s, total: 8min 27s\n",
      "Wall time: 1min 26s\n"
     ]
    }
   ],
   "source": [
    "tt_reweighted_MC = FoldingGroupClassifier(SklearnClassifier(tt_base), n_folds=2, random_state=321, \n",
    "                                          train_features=features, group_feature='group_column')\n",
    "%time tt_reweighted_MC.fit(MC, MC.label, sample_weight=track_weights_MC * MC.N_sig_sw.values)\n",
    "pass"
   ]
  },
  {
   "cell_type": "code",
   "execution_count": 293,
   "metadata": {
    "collapsed": false
   },
   "outputs": [
    {
     "name": "stdout",
     "output_type": "stream",
     "text": [
      "KFold prediction using folds column\n",
      "KFold prediction using random classifier (length of data passed not equal to length of train)\n"
     ]
    },
    {
     "data": {
      "text/html": [
       "<div>\n",
       "<table border=\"1\" class=\"dataframe\">\n",
       "  <thead>\n",
       "    <tr style=\"text-align: right;\">\n",
       "      <th></th>\n",
       "      <th>dataset</th>\n",
       "      <th>quality</th>\n",
       "    </tr>\n",
       "  </thead>\n",
       "  <tbody>\n",
       "    <tr>\n",
       "      <th>0</th>\n",
       "      <td>MC</td>\n",
       "      <td>0.613022</td>\n",
       "    </tr>\n",
       "    <tr>\n",
       "      <th>1</th>\n",
       "      <td>data</td>\n",
       "      <td>0.611099</td>\n",
       "    </tr>\n",
       "  </tbody>\n",
       "</table>\n",
       "</div>"
      ],
      "text/plain": [
       "  dataset   quality\n",
       "0      MC  0.613022\n",
       "1    data  0.611099"
      ]
     },
     "execution_count": 293,
     "metadata": {},
     "output_type": "execute_result"
    }
   ],
   "source": [
    "pandas.DataFrame({'dataset': ['MC', 'data'], \n",
    "                  'quality': [roc_auc_score(\n",
    "                B_signs_MC, \n",
    "                compute_Bprobs(MC, tt_reweighted_MC.predict_proba(MC)[:, 1], \n",
    "                               weights=track_weights_MC, normed_weights=False),\n",
    "                sample_weight=B_weights_MC),\n",
    "                             roc_auc_score(\n",
    "                B_signs, \n",
    "                compute_Bprobs(data, tt_reweighted_MC.predict_proba(data)[:, 1], \n",
    "                               weights=track_weights_data, normed_weights=False),\n",
    "                sample_weight=B_weights)]})"
   ]
  },
  {
   "cell_type": "code",
   "execution_count": 254,
   "metadata": {
    "collapsed": false
   },
   "outputs": [
    {
     "name": "stdout",
     "output_type": "stream",
     "text": [
      "KFold prediction using folds column\n",
      "KFold prediction using random classifier (length of data passed not equal to length of train)\n"
     ]
    },
    {
     "data": {
      "text/html": [
       "<div>\n",
       "<table border=\"1\" class=\"dataframe\">\n",
       "  <thead>\n",
       "    <tr style=\"text-align: right;\">\n",
       "      <th></th>\n",
       "      <th>dataset</th>\n",
       "      <th>quality</th>\n",
       "    </tr>\n",
       "  </thead>\n",
       "  <tbody>\n",
       "    <tr>\n",
       "      <th>0</th>\n",
       "      <td>MC</td>\n",
       "      <td>0.607195</td>\n",
       "    </tr>\n",
       "    <tr>\n",
       "      <th>1</th>\n",
       "      <td>data</td>\n",
       "      <td>0.611895</td>\n",
       "    </tr>\n",
       "  </tbody>\n",
       "</table>\n",
       "</div>"
      ],
      "text/plain": [
       "  dataset   quality\n",
       "0      MC  0.607195\n",
       "1    data  0.611895"
      ]
     },
     "execution_count": 254,
     "metadata": {},
     "output_type": "execute_result"
    }
   ],
   "source": [
    "pandas.DataFrame({'dataset': ['MC', 'data'], \n",
    "                  'quality': [roc_auc_score(\n",
    "                B_signs_MC, \n",
    "                compute_Bprobs(MC, tt_reweighted_MC.predict_proba(MC)[:, 1], \n",
    "                               weights=track_weights_MC, normed_weights=False),\n",
    "                sample_weight=B_weights_MC),\n",
    "                             roc_auc_score(\n",
    "                B_signs, \n",
    "                compute_Bprobs(data, tt_reweighted_MC.predict_proba(data)[:, 1], \n",
    "                               weights=track_weights_data, normed_weights=False),\n",
    "                sample_weight=B_weights)]})"
   ]
  },
  {
   "cell_type": "markdown",
   "metadata": {},
   "source": [
    "### Classifier trained on data"
   ]
  },
  {
   "cell_type": "code",
   "execution_count": 294,
   "metadata": {
    "collapsed": false
   },
   "outputs": [
    {
     "name": "stdout",
     "output_type": "stream",
     "text": [
      "CPU times: user 8min, sys: 2.96 s, total: 8min 2s\n",
      "Wall time: 1min 20s\n"
     ]
    }
   ],
   "source": [
    "%%time \n",
    "tt_reweighted_data = FoldingGroupClassifier(SklearnClassifier(tt_base), n_folds=2, random_state=321, \n",
    "                                            train_features=features, group_feature='group_column')\n",
    "tt_reweighted_data.fit(data, data.label, \n",
    "                       sample_weight=track_weights_data * data.N_sig_sw.values * mask_sw_positive)\n",
    "pass"
   ]
  },
  {
   "cell_type": "code",
   "execution_count": 295,
   "metadata": {
    "collapsed": false
   },
   "outputs": [
    {
     "name": "stdout",
     "output_type": "stream",
     "text": [
      "KFold prediction using random classifier (length of data passed not equal to length of train)\n",
      "KFold prediction using folds column\n"
     ]
    },
    {
     "data": {
      "text/html": [
       "<div>\n",
       "<table border=\"1\" class=\"dataframe\">\n",
       "  <thead>\n",
       "    <tr style=\"text-align: right;\">\n",
       "      <th></th>\n",
       "      <th>dataset</th>\n",
       "      <th>quality</th>\n",
       "    </tr>\n",
       "  </thead>\n",
       "  <tbody>\n",
       "    <tr>\n",
       "      <th>0</th>\n",
       "      <td>MC</td>\n",
       "      <td>0.606442</td>\n",
       "    </tr>\n",
       "    <tr>\n",
       "      <th>1</th>\n",
       "      <td>data</td>\n",
       "      <td>0.609192</td>\n",
       "    </tr>\n",
       "  </tbody>\n",
       "</table>\n",
       "</div>"
      ],
      "text/plain": [
       "  dataset   quality\n",
       "0      MC  0.606442\n",
       "1    data  0.609192"
      ]
     },
     "execution_count": 295,
     "metadata": {},
     "output_type": "execute_result"
    }
   ],
   "source": [
    "pandas.DataFrame({'dataset': ['MC', 'data'], \n",
    "                  'quality': [roc_auc_score(\n",
    "                B_signs_MC, \n",
    "                compute_Bprobs(MC, tt_reweighted_data.predict_proba(MC)[:, 1], \n",
    "                               weights=track_weights_MC, normed_weights=False),\n",
    "                sample_weight=B_weights_MC),\n",
    "                             roc_auc_score(\n",
    "                B_signs, \n",
    "                compute_Bprobs(data, tt_reweighted_data.predict_proba(data)[:, 1], \n",
    "                               weights=track_weights_data, normed_weights=False),\n",
    "                sample_weight=B_weights)]})"
   ]
  },
  {
   "cell_type": "code",
   "execution_count": 256,
   "metadata": {
    "collapsed": false
   },
   "outputs": [
    {
     "name": "stdout",
     "output_type": "stream",
     "text": [
      "KFold prediction using random classifier (length of data passed not equal to length of train)\n",
      "KFold prediction using folds column\n"
     ]
    },
    {
     "data": {
      "text/html": [
       "<div>\n",
       "<table border=\"1\" class=\"dataframe\">\n",
       "  <thead>\n",
       "    <tr style=\"text-align: right;\">\n",
       "      <th></th>\n",
       "      <th>dataset</th>\n",
       "      <th>quality</th>\n",
       "    </tr>\n",
       "  </thead>\n",
       "  <tbody>\n",
       "    <tr>\n",
       "      <th>0</th>\n",
       "      <td>MC</td>\n",
       "      <td>0.604353</td>\n",
       "    </tr>\n",
       "    <tr>\n",
       "      <th>1</th>\n",
       "      <td>data</td>\n",
       "      <td>0.606769</td>\n",
       "    </tr>\n",
       "  </tbody>\n",
       "</table>\n",
       "</div>"
      ],
      "text/plain": [
       "  dataset   quality\n",
       "0      MC  0.604353\n",
       "1    data  0.606769"
      ]
     },
     "execution_count": 256,
     "metadata": {},
     "output_type": "execute_result"
    }
   ],
   "source": [
    "pandas.DataFrame({'dataset': ['MC', 'data'], \n",
    "                  'quality': [roc_auc_score(\n",
    "                B_signs_MC, \n",
    "                compute_Bprobs(MC, tt_reweighted_data.predict_proba(MC)[:, 1], \n",
    "                               weights=track_weights_MC, normed_weights=False),\n",
    "                sample_weight=B_weights_MC),\n",
    "                             roc_auc_score(\n",
    "                B_signs, \n",
    "                compute_Bprobs(data, tt_reweighted_data.predict_proba(data)[:, 1], \n",
    "                               weights=track_weights_data, normed_weights=False),\n",
    "                sample_weight=B_weights)]})"
   ]
  },
  {
   "cell_type": "markdown",
   "metadata": {},
   "source": [
    "------------------------"
   ]
  },
  {
   "cell_type": "code",
   "execution_count": 58,
   "metadata": {
    "collapsed": false
   },
   "outputs": [
    {
     "data": {
      "text/plain": [
       "(7.3125750470561259, 18.005772961549471)"
      ]
     },
     "execution_count": 58,
     "metadata": {},
     "output_type": "execute_result"
    }
   ],
   "source": [
    "numpy.mean(mc_sum_weights_per_event), numpy.mean(data_sum_weights_per_event)"
   ]
  },
  {
   "cell_type": "code",
   "execution_count": 74,
   "metadata": {
    "collapsed": false
   },
   "outputs": [],
   "source": [
    "_, data_ids = numpy.unique(data['group_column'], return_inverse=True)\n",
    "mc_sum_weights_per_event = numpy.bincount(MC.group_column.values, weights=track_weights_MC)\n",
    "data_sum_weights_per_event = numpy.bincount(data_ids, weights=track_weights_data)"
   ]
  },
  {
   "cell_type": "code",
   "execution_count": 77,
   "metadata": {
    "collapsed": false
   },
   "outputs": [
    {
     "data": {
      "image/png": "[encoded data removed]",
      "text/plain": [
       "<matplotlib.figure.Figure at 0x7fa2623b3b90>"
      ]
     },
     "metadata": {},
     "output_type": "display_data"
    }
   ],
   "source": [
    "hist(mc_sum_weights_per_event, bins=60, normed=True, alpha=0.5)\n",
    "hist(data_sum_weights_per_event, bins=60, normed=True, alpha=0.5, weights=B_weights);"
   ]
  },
  {
   "cell_type": "code",
   "execution_count": 268,
   "metadata": {
    "collapsed": false
   },
   "outputs": [
    {
     "ename": "NameError",
     "evalue": "name 'mc_sum_weights_per_event' is not defined",
     "output_type": "error",
     "traceback": [
      "\u001b[0;31m---------------------------------------------------------------------------\u001b[0m",
      "\u001b[0;31mNameError\u001b[0m                                 Traceback (most recent call last)",
      "\u001b[0;32m<ipython-input-268-fb3aa430ab0d>\u001b[0m in \u001b[0;36m<module>\u001b[0;34m()\u001b[0m\n\u001b[0;32m----> 1\u001b[0;31m \u001b[0mhist\u001b[0m\u001b[0;34m(\u001b[0m\u001b[0mmc_sum_weights_per_event\u001b[0m\u001b[0;34m,\u001b[0m \u001b[0mbins\u001b[0m\u001b[0;34m=\u001b[0m\u001b[0;36m60\u001b[0m\u001b[0;34m,\u001b[0m \u001b[0mnormed\u001b[0m\u001b[0;34m=\u001b[0m\u001b[0mTrue\u001b[0m\u001b[0;34m,\u001b[0m \u001b[0malpha\u001b[0m\u001b[0;34m=\u001b[0m\u001b[0;36m0.5\u001b[0m\u001b[0;34m)\u001b[0m\u001b[0;34m\u001b[0m\u001b[0m\n\u001b[0m\u001b[1;32m      2\u001b[0m \u001b[0mhist\u001b[0m\u001b[0;34m(\u001b[0m\u001b[0mdata_sum_weights_per_event\u001b[0m\u001b[0;34m,\u001b[0m \u001b[0mbins\u001b[0m\u001b[0;34m=\u001b[0m\u001b[0;36m60\u001b[0m\u001b[0;34m,\u001b[0m \u001b[0mnormed\u001b[0m\u001b[0;34m=\u001b[0m\u001b[0mTrue\u001b[0m\u001b[0;34m,\u001b[0m \u001b[0malpha\u001b[0m\u001b[0;34m=\u001b[0m\u001b[0;36m0.5\u001b[0m\u001b[0;34m,\u001b[0m \u001b[0mweights\u001b[0m\u001b[0;34m=\u001b[0m\u001b[0mB_weights\u001b[0m\u001b[0;34m)\u001b[0m\u001b[0;34m;\u001b[0m\u001b[0;34m\u001b[0m\u001b[0m\n",
      "\u001b[0;31mNameError\u001b[0m: name 'mc_sum_weights_per_event' is not defined"
     ]
    }
   ],
   "source": [
    "hist(mc_sum_weights_per_event, bins=60, normed=True, alpha=0.5)\n",
    "hist(data_sum_weights_per_event, bins=60, normed=True, alpha=0.5, weights=B_weights);"
   ]
  },
  {
   "cell_type": "code",
   "execution_count": 55,
   "metadata": {
    "collapsed": false
   },
   "outputs": [
    {
     "data": {
      "image/png": "[encoded data removed]",
      "text/plain": [
       "<matplotlib.figure.Figure at 0x7fa262932950>"
      ]
     },
     "metadata": {},
     "output_type": "display_data"
    }
   ],
   "source": [
    "hist(numpy.bincount(MC.group_column), bins=81, normed=True, alpha=0.5, range=(0, 80))\n",
    "hist(numpy.bincount(data.group_column), bins=81, normed=True, alpha=0.5, range=(0, 80));"
   ]
  },
  {
   "cell_type": "code",
   "execution_count": 261,
   "metadata": {
    "collapsed": false
   },
   "outputs": [
    {
     "data": {
      "text/plain": [
       "<matplotlib.text.Text at 0x7fecc88f0e50>"
      ]
     },
     "execution_count": 261,
     "metadata": {},
     "output_type": "execute_result"
    },
    {
     "data": {
      "image/png": "[encoded data removed]",
      "text/plain": [
       "<matplotlib.figure.Figure at 0x7fecc8eb5f90>"
      ]
     },
     "metadata": {},
     "output_type": "display_data"
    }
   ],
   "source": [
    "hist(expit(p_tt_mc) - expit(p_data), bins=60, weights=B_weights, normed=True, label='standard approach',\n",
    "     alpha=0.5);\n",
    "hist(expit(p_data_w_MC) - expit(p_data_w), bins=60, weights=B_weights, normed=True, label='compensate method',\n",
    "     alpha=0.5);\n",
    "legend()\n",
    "xlabel('$p_{MC}-p_{data}$')"
   ]
  },
  {
   "cell_type": "markdown",
   "metadata": {},
   "source": [
    "## Calibration"
   ]
  },
  {
   "cell_type": "code",
   "execution_count": 200,
   "metadata": {
    "collapsed": true
   },
   "outputs": [],
   "source": [
    "from utils import compute_mistag"
   ]
  },
  {
   "cell_type": "code",
   "execution_count": 87,
   "metadata": {
    "collapsed": false
   },
   "outputs": [
    {
     "data": {
      "text/plain": [
       "(0.2, 0.5)"
      ]
     },
     "execution_count": 87,
     "metadata": {},
     "output_type": "execute_result"
    },
    {
     "data": {
      "image/png": "[encoded data removed]",
      "text/plain": [
       "<matplotlib.figure.Figure at 0x7fecf71f0b50>"
      ]
     },
     "metadata": {},
     "output_type": "display_data"
    }
   ],
   "source": [
    "bins_perc = [10, 20, 30, 40, 50, 60, 70, 80, 90]\n",
    "compute_mistag(expit(p_data), B_signs, B_weights, chosen=numpy.ones(len(B_signs), dtype=bool),\n",
    "               bins=bins_perc,\n",
    "               uniform=False, label='data')\n",
    "\n",
    "compute_mistag(expit(p_tt_mc), B_signs, B_weights, chosen=numpy.ones(len(B_signs), dtype=bool),\n",
    "               bins=bins_perc,\n",
    "               uniform=False, label='MC')\n",
    "\n",
    "compute_mistag(expit(p_data_w), B_signs, B_weights, chosen=numpy.ones(len(B_signs), dtype=bool),\n",
    "               bins=bins_perc,\n",
    "               uniform=False, label='new')\n",
    "\n",
    "legend(loc='best')\n",
    "xlim(0.3, 0.5)\n",
    "ylim(0.2, 0.5)"
   ]
  },
  {
   "cell_type": "code",
   "execution_count": 82,
   "metadata": {
    "collapsed": false
   },
   "outputs": [
    {
     "ename": "AssertionError",
     "evalue": "",
     "output_type": "error",
     "traceback": [
      "\u001b[0;31m---------------------------------------------------------------------------\u001b[0m",
      "\u001b[0;31mAssertionError\u001b[0m                            Traceback (most recent call last)",
      "\u001b[0;32m<ipython-input-82-837d582196bd>\u001b[0m in \u001b[0;36m<module>\u001b[0;34m()\u001b[0m\n\u001b[1;32m      2\u001b[0m compute_mistag(expit(p_data), B_signs, B_weights, chosen=numpy.ones(len(B_signs), dtype=bool),\n\u001b[1;32m      3\u001b[0m                \u001b[0mbins\u001b[0m\u001b[0;34m=\u001b[0m\u001b[0mbins_edg\u001b[0m\u001b[0;34m,\u001b[0m\u001b[0;34m\u001b[0m\u001b[0m\n\u001b[0;32m----> 4\u001b[0;31m                uniform=True, label='data')\n\u001b[0m\u001b[1;32m      5\u001b[0m \u001b[0;34m\u001b[0m\u001b[0m\n\u001b[1;32m      6\u001b[0m compute_mistag(expit(p_tt_mc), B_signs, B_weights, chosen=numpy.ones(len(B_signs), dtype=bool),\n",
      "\u001b[0;32m/mnt/mfs/notebook/analyses/tagging_LHCb/utils.pyc\u001b[0m in \u001b[0;36mcompute_mistag\u001b[0;34m(Bprobs, Bsign, Bweight, chosen, uniform, bins, label)\u001b[0m\n\u001b[1;32m    858\u001b[0m     \u001b[0mbins_error\u001b[0m \u001b[0;34m=\u001b[0m \u001b[0;34m(\u001b[0m\u001b[0mbins\u001b[0m\u001b[0;34m[\u001b[0m\u001b[0;36m1\u001b[0m\u001b[0;34m:\u001b[0m\u001b[0;34m]\u001b[0m \u001b[0;34m-\u001b[0m \u001b[0mbins\u001b[0m\u001b[0;34m[\u001b[0m\u001b[0;34m:\u001b[0m\u001b[0;34m-\u001b[0m\u001b[0;36m1\u001b[0m\u001b[0;34m]\u001b[0m\u001b[0;34m)\u001b[0m \u001b[0;34m/\u001b[0m \u001b[0;36m2\u001b[0m\u001b[0;34m\u001b[0m\u001b[0m\n\u001b[1;32m    859\u001b[0m     \u001b[0mp_mistag_true_error\u001b[0m \u001b[0;34m=\u001b[0m \u001b[0mnumpy\u001b[0m\u001b[0;34m.\u001b[0m\u001b[0msqrt\u001b[0m\u001b[0;34m(\u001b[0m\u001b[0mwrong_tagged\u001b[0m \u001b[0;34m*\u001b[0m \u001b[0mright_tagged\u001b[0m\u001b[0;34m)\u001b[0m \u001b[0;34m/\u001b[0m \u001b[0;34m(\u001b[0m\u001b[0mwrong_tagged\u001b[0m \u001b[0;34m+\u001b[0m \u001b[0mright_tagged\u001b[0m\u001b[0;34m)\u001b[0m\u001b[0;34m**\u001b[0m\u001b[0;36m1.5\u001b[0m\u001b[0;34m\u001b[0m\u001b[0m\n\u001b[0;32m--> 860\u001b[0;31m     \u001b[0mplt\u001b[0m\u001b[0;34m.\u001b[0m\u001b[0merrorbar\u001b[0m\u001b[0;34m(\u001b[0m\u001b[0mbins_centers\u001b[0m\u001b[0;34m,\u001b[0m \u001b[0mp_mistag_true\u001b[0m\u001b[0;34m,\u001b[0m \u001b[0mxerr\u001b[0m\u001b[0;34m=\u001b[0m\u001b[0mbins_error\u001b[0m\u001b[0;34m,\u001b[0m \u001b[0myerr\u001b[0m\u001b[0;34m=\u001b[0m\u001b[0mp_mistag_true_error\u001b[0m\u001b[0;34m,\u001b[0m \u001b[0mfmt\u001b[0m\u001b[0;34m=\u001b[0m\u001b[0;34m'.'\u001b[0m\u001b[0;34m,\u001b[0m \u001b[0mlabel\u001b[0m\u001b[0;34m=\u001b[0m\u001b[0mlabel\u001b[0m\u001b[0;34m,\u001b[0m \u001b[0mlinewidth\u001b[0m\u001b[0;34m=\u001b[0m\u001b[0;36m2\u001b[0m\u001b[0;34m)\u001b[0m\u001b[0;34m\u001b[0m\u001b[0m\n\u001b[0m\u001b[1;32m    861\u001b[0m     \u001b[0mplt\u001b[0m\u001b[0;34m.\u001b[0m\u001b[0mplot\u001b[0m\u001b[0;34m(\u001b[0m\u001b[0;34m[\u001b[0m\u001b[0;36m0\u001b[0m\u001b[0;34m,\u001b[0m \u001b[0;36m1\u001b[0m\u001b[0;34m]\u001b[0m\u001b[0;34m,\u001b[0m \u001b[0;34m[\u001b[0m\u001b[0;36m0\u001b[0m\u001b[0;34m,\u001b[0m \u001b[0;36m1\u001b[0m\u001b[0;34m]\u001b[0m\u001b[0;34m,\u001b[0m \u001b[0;34m'k--'\u001b[0m\u001b[0;34m)\u001b[0m\u001b[0;34m\u001b[0m\u001b[0m\n\u001b[1;32m    862\u001b[0m     \u001b[0mplt\u001b[0m\u001b[0;34m.\u001b[0m\u001b[0mxlim\u001b[0m\u001b[0;34m(\u001b[0m\u001b[0;34m-\u001b[0m\u001b[0;36m0.05\u001b[0m\u001b[0;34m,\u001b[0m \u001b[0;36m0.55\u001b[0m\u001b[0;34m)\u001b[0m\u001b[0;34m,\u001b[0m \u001b[0mplt\u001b[0m\u001b[0;34m.\u001b[0m\u001b[0mylim\u001b[0m\u001b[0;34m(\u001b[0m\u001b[0;34m-\u001b[0m\u001b[0;36m0.05\u001b[0m\u001b[0;34m,\u001b[0m \u001b[0;36m0.55\u001b[0m\u001b[0;34m)\u001b[0m\u001b[0;34m\u001b[0m\u001b[0m\n",
      "\u001b[0;32m/mnt/mfs/miniconda/envs/rep_py2/lib/python2.7/site-packages/matplotlib/pyplot.pyc\u001b[0m in \u001b[0;36merrorbar\u001b[0;34m(x, y, yerr, xerr, fmt, ecolor, elinewidth, capsize, barsabove, lolims, uplims, xlolims, xuplims, errorevery, capthick, hold, data, **kwargs)\u001b[0m\n\u001b[1;32m   2828\u001b[0m                           \u001b[0mxlolims\u001b[0m\u001b[0;34m=\u001b[0m\u001b[0mxlolims\u001b[0m\u001b[0;34m,\u001b[0m \u001b[0mxuplims\u001b[0m\u001b[0;34m=\u001b[0m\u001b[0mxuplims\u001b[0m\u001b[0;34m,\u001b[0m\u001b[0;34m\u001b[0m\u001b[0m\n\u001b[1;32m   2829\u001b[0m                           \u001b[0merrorevery\u001b[0m\u001b[0;34m=\u001b[0m\u001b[0merrorevery\u001b[0m\u001b[0;34m,\u001b[0m \u001b[0mcapthick\u001b[0m\u001b[0;34m=\u001b[0m\u001b[0mcapthick\u001b[0m\u001b[0;34m,\u001b[0m \u001b[0mdata\u001b[0m\u001b[0;34m=\u001b[0m\u001b[0mdata\u001b[0m\u001b[0;34m,\u001b[0m\u001b[0;34m\u001b[0m\u001b[0m\n\u001b[0;32m-> 2830\u001b[0;31m                           **kwargs)\n\u001b[0m\u001b[1;32m   2831\u001b[0m     \u001b[0;32mfinally\u001b[0m\u001b[0;34m:\u001b[0m\u001b[0;34m\u001b[0m\u001b[0m\n\u001b[1;32m   2832\u001b[0m         \u001b[0max\u001b[0m\u001b[0;34m.\u001b[0m\u001b[0mhold\u001b[0m\u001b[0;34m(\u001b[0m\u001b[0mwashold\u001b[0m\u001b[0;34m)\u001b[0m\u001b[0;34m\u001b[0m\u001b[0m\n",
      "\u001b[0;32m/mnt/mfs/miniconda/envs/rep_py2/lib/python2.7/site-packages/matplotlib/__init__.pyc\u001b[0m in \u001b[0;36minner\u001b[0;34m(ax, *args, **kwargs)\u001b[0m\n\u001b[1;32m   1810\u001b[0m                     warnings.warn(msg % (label_namer, func.__name__),\n\u001b[1;32m   1811\u001b[0m                                   RuntimeWarning, stacklevel=2)\n\u001b[0;32m-> 1812\u001b[0;31m             \u001b[0;32mreturn\u001b[0m \u001b[0mfunc\u001b[0m\u001b[0;34m(\u001b[0m\u001b[0max\u001b[0m\u001b[0;34m,\u001b[0m \u001b[0;34m*\u001b[0m\u001b[0margs\u001b[0m\u001b[0;34m,\u001b[0m \u001b[0;34m**\u001b[0m\u001b[0mkwargs\u001b[0m\u001b[0;34m)\u001b[0m\u001b[0;34m\u001b[0m\u001b[0m\n\u001b[0m\u001b[1;32m   1813\u001b[0m         \u001b[0mpre_doc\u001b[0m \u001b[0;34m=\u001b[0m \u001b[0minner\u001b[0m\u001b[0;34m.\u001b[0m\u001b[0m__doc__\u001b[0m\u001b[0;34m\u001b[0m\u001b[0m\n\u001b[1;32m   1814\u001b[0m         \u001b[0;32mif\u001b[0m \u001b[0mpre_doc\u001b[0m \u001b[0;32mis\u001b[0m \u001b[0mNone\u001b[0m\u001b[0;34m:\u001b[0m\u001b[0;34m\u001b[0m\u001b[0m\n",
      "\u001b[0;32m/mnt/mfs/miniconda/envs/rep_py2/lib/python2.7/site-packages/matplotlib/axes/_axes.pyc\u001b[0m in \u001b[0;36merrorbar\u001b[0;34m(self, x, y, yerr, xerr, fmt, ecolor, elinewidth, capsize, barsabove, lolims, uplims, xlolims, xuplims, errorevery, capthick, **kwargs)\u001b[0m\n\u001b[1;32m   2911\u001b[0m             \u001b[0mnoxlims\u001b[0m \u001b[0;34m=\u001b[0m \u001b[0;34m~\u001b[0m\u001b[0;34m(\u001b[0m\u001b[0mxlolims\u001b[0m \u001b[0;34m|\u001b[0m \u001b[0mxuplims\u001b[0m\u001b[0;34m)\u001b[0m\u001b[0;34m\u001b[0m\u001b[0m\n\u001b[1;32m   2912\u001b[0m             \u001b[0;32mif\u001b[0m \u001b[0mnoxlims\u001b[0m\u001b[0;34m.\u001b[0m\u001b[0many\u001b[0m\u001b[0;34m(\u001b[0m\u001b[0;34m)\u001b[0m\u001b[0;34m:\u001b[0m\u001b[0;34m\u001b[0m\u001b[0m\n\u001b[0;32m-> 2913\u001b[0;31m                 \u001b[0myo\u001b[0m\u001b[0;34m,\u001b[0m \u001b[0m_\u001b[0m \u001b[0;34m=\u001b[0m \u001b[0mxywhere\u001b[0m\u001b[0;34m(\u001b[0m\u001b[0my\u001b[0m\u001b[0;34m,\u001b[0m \u001b[0mright\u001b[0m\u001b[0;34m,\u001b[0m \u001b[0mnoxlims\u001b[0m \u001b[0;34m&\u001b[0m \u001b[0meverymask\u001b[0m\u001b[0;34m)\u001b[0m\u001b[0;34m\u001b[0m\u001b[0m\n\u001b[0m\u001b[1;32m   2914\u001b[0m                 \u001b[0mlo\u001b[0m\u001b[0;34m,\u001b[0m \u001b[0mro\u001b[0m \u001b[0;34m=\u001b[0m \u001b[0mxywhere\u001b[0m\u001b[0;34m(\u001b[0m\u001b[0mleft\u001b[0m\u001b[0;34m,\u001b[0m \u001b[0mright\u001b[0m\u001b[0;34m,\u001b[0m \u001b[0mnoxlims\u001b[0m \u001b[0;34m&\u001b[0m \u001b[0meverymask\u001b[0m\u001b[0;34m)\u001b[0m\u001b[0;34m\u001b[0m\u001b[0m\n\u001b[1;32m   2915\u001b[0m                 \u001b[0mbarcols\u001b[0m\u001b[0;34m.\u001b[0m\u001b[0mappend\u001b[0m\u001b[0;34m(\u001b[0m\u001b[0mself\u001b[0m\u001b[0;34m.\u001b[0m\u001b[0mhlines\u001b[0m\u001b[0;34m(\u001b[0m\u001b[0myo\u001b[0m\u001b[0;34m,\u001b[0m \u001b[0mlo\u001b[0m\u001b[0;34m,\u001b[0m \u001b[0mro\u001b[0m\u001b[0;34m,\u001b[0m \u001b[0;34m**\u001b[0m\u001b[0mlines_kw\u001b[0m\u001b[0;34m)\u001b[0m\u001b[0;34m)\u001b[0m\u001b[0;34m\u001b[0m\u001b[0m\n",
      "\u001b[0;32m/mnt/mfs/miniconda/envs/rep_py2/lib/python2.7/site-packages/matplotlib/axes/_axes.pyc\u001b[0m in \u001b[0;36mxywhere\u001b[0;34m(xs, ys, mask)\u001b[0m\n\u001b[1;32m   2859\u001b[0m             \u001b[0mys\u001b[0m \u001b[0mare\u001b[0m \u001b[0;32mnot\u001b[0m \u001b[0marrays\u001b[0m\u001b[0;34m\u001b[0m\u001b[0m\n\u001b[1;32m   2860\u001b[0m             \"\"\"\n\u001b[0;32m-> 2861\u001b[0;31m             \u001b[0;32massert\u001b[0m \u001b[0mlen\u001b[0m\u001b[0;34m(\u001b[0m\u001b[0mxs\u001b[0m\u001b[0;34m)\u001b[0m \u001b[0;34m==\u001b[0m \u001b[0mlen\u001b[0m\u001b[0;34m(\u001b[0m\u001b[0mys\u001b[0m\u001b[0;34m)\u001b[0m\u001b[0;34m\u001b[0m\u001b[0m\n\u001b[0m\u001b[1;32m   2862\u001b[0m             \u001b[0;32massert\u001b[0m \u001b[0mlen\u001b[0m\u001b[0;34m(\u001b[0m\u001b[0mxs\u001b[0m\u001b[0;34m)\u001b[0m \u001b[0;34m==\u001b[0m \u001b[0mlen\u001b[0m\u001b[0;34m(\u001b[0m\u001b[0mmask\u001b[0m\u001b[0;34m)\u001b[0m\u001b[0;34m\u001b[0m\u001b[0m\n\u001b[1;32m   2863\u001b[0m             \u001b[0mxs\u001b[0m \u001b[0;34m=\u001b[0m \u001b[0;34m[\u001b[0m\u001b[0mthisx\u001b[0m \u001b[0;32mfor\u001b[0m \u001b[0mthisx\u001b[0m\u001b[0;34m,\u001b[0m \u001b[0mb\u001b[0m \u001b[0;32min\u001b[0m \u001b[0mzip\u001b[0m\u001b[0;34m(\u001b[0m\u001b[0mxs\u001b[0m\u001b[0;34m,\u001b[0m \u001b[0mmask\u001b[0m\u001b[0;34m)\u001b[0m \u001b[0;32mif\u001b[0m \u001b[0mb\u001b[0m\u001b[0;34m]\u001b[0m\u001b[0;34m\u001b[0m\u001b[0m\n",
      "\u001b[0;31mAssertionError\u001b[0m: "
     ]
    },
    {
     "data": {
      "image/png": "[encoded data removed]",
      "text/plain": [
       "<matplotlib.figure.Figure at 0x7fecf7709210>"
      ]
     },
     "metadata": {},
     "output_type": "display_data"
    }
   ],
   "source": [
    "bins_edg = numpy.linspace(0.3, 0.9, 10)\n",
    "compute_mistag(expit(p_data), B_signs, B_weights, chosen=numpy.ones(len(B_signs), dtype=bool),\n",
    "               bins=bins_edg,\n",
    "               uniform=True, label='data')\n",
    "\n",
    "compute_mistag(expit(p_tt_mc), B_signs, B_weights, chosen=numpy.ones(len(B_signs), dtype=bool),\n",
    "               bins=bins_edg,\n",
    "               uniform=True, label='MC')\n",
    "\n",
    "compute_mistag(expit(p_data_w), B_signs, B_weights, chosen=numpy.ones(len(B_signs), dtype=bool),\n",
    "               bins=bins_edg,\n",
    "               uniform=True, label='new')\n",
    "\n",
    "legend(loc='best')"
   ]
  },
  {
   "cell_type": "code",
   "execution_count": null,
   "metadata": {
    "collapsed": true
   },
   "outputs": [],
   "source": []
  }
 ],
 "metadata": {
  "kernelspec": {
   "display_name": "Python 2",
   "language": "python",
   "name": "python2"
  },
  "language_info": {
   "codemirror_mode": {
    "name": "ipython",
    "version": 2
   },
   "file_extension": ".py",
   "mimetype": "text/x-python",
   "name": "python",
   "nbconvert_exporter": "python",
   "pygments_lexer": "ipython2",
   "version": "2.7.12"
  }
 },
 "nbformat": 4,
 "nbformat_minor": 0
}
