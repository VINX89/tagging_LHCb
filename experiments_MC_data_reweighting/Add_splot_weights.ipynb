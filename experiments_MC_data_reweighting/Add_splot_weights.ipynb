{
 "cells": [
  {
   "cell_type": "code",
   "execution_count": 1,
   "metadata": {
    "collapsed": true
   },
   "outputs": [],
   "source": [
    "import pandas\n",
    "import root_numpy\n",
    "import numpy"
   ]
  },
  {
   "cell_type": "code",
   "execution_count": 2,
   "metadata": {
    "collapsed": true
   },
   "outputs": [],
   "source": [
    "channel = 'Bu_JPsiK'"
   ]
  },
  {
   "cell_type": "code",
   "execution_count": 3,
   "metadata": {
    "collapsed": false
   },
   "outputs": [
    {
     "name": "stderr",
     "output_type": "stream",
     "text": [
      "/mnt/mfs/miniconda/envs/rep_py2/lib/python2.7/site-packages/IPython/core/interactiveshell.py:2717: DtypeWarning: Columns (36) have mixed types. Specify dtype option on import or set low_memory=False.\n",
      "  interactivity=interactivity, compiler=compiler, result=result)\n"
     ]
    }
   ],
   "source": [
    "data = pandas.read_csv('../datasets/data/csv/WG/{}/2012/Tracks.csv'.format(channel), sep='\\t')"
   ]
  },
  {
   "cell_type": "code",
   "execution_count": 6,
   "metadata": {
    "collapsed": false
   },
   "outputs": [],
   "source": [
    "data = data.query('(Bmass < 5.4) & (Bmass > 5.16)')\n",
    "data.loc[~numpy.isfinite(data['IPs'].values), 'IPs'] = -999\n",
    "data.loc[~numpy.isfinite(data['IPerr'].values), 'IPerr'] = -999"
   ]
  },
  {
   "cell_type": "code",
   "execution_count": 7,
   "metadata": {
    "collapsed": true
   },
   "outputs": [],
   "source": [
    "event_id = data.run.apply(str) + '_' + data.event.apply(int).apply(str)\n",
    "data['event_id'] = event_id"
   ]
  },
  {
   "cell_type": "code",
   "execution_count": 10,
   "metadata": {
    "collapsed": false
   },
   "outputs": [],
   "source": [
    "splot = pandas.read_csv('../datasets/data/csv/WG/{}/2012/sPlot_{}.csv'.format(channel, channel),\n",
    "                        sep=' ', header=None).drop([8], axis=1)\n",
    "splot.columns = ['run', 'evTop', 'evBottom', 'Bmass', 'Nbkg_tot_sw', 'L_Nbkg_tot', 'Nsig_tot_sw', 'L_Nsig_tot']\n",
    "event_id_column = 'event_id'\n",
    "\n",
    "splot[event_id_column] = splot.run.apply(str) + '_' + (splot.evTop * 1e6 + splot.evBottom).apply(int).apply(str)\n",
    "index = numpy.unique(splot[event_id_column], return_index=True)[1]\n",
    "splot.index = numpy.arange(len(splot))\n",
    "splot = splot.ix[index, :]"
   ]
  },
  {
   "cell_type": "code",
   "execution_count": 11,
   "metadata": {
    "collapsed": true
   },
   "outputs": [],
   "source": [
    "splot.index = splot[event_id_column]\n",
    "data.index = data[event_id_column]\n",
    "\n",
    "splot.index = splot[event_id_column]\n",
    "data.index = data[event_id_column]\n",
    "\n",
    "start = 0\n",
    "end = 1000000\n",
    "sweight = []\n",
    "for batch in range(33):\n",
    "    if end > len(data):\n",
    "        end = len(data)\n",
    "    sweight.append(splot.loc[data.index[start:end], 'Nsig_tot_sw'].values)\n",
    "    start = end\n",
    "    end += 1000000\n",
    "    \n",
    "sweight = numpy.concatenate(sweight)\n",
    "data.N_sig_sw = sweight"
   ]
  },
  {
   "cell_type": "code",
   "execution_count": 12,
   "metadata": {
    "collapsed": true
   },
   "outputs": [],
   "source": [
    "data = data.drop('event_id', axis=1)"
   ]
  },
  {
   "cell_type": "code",
   "execution_count": 14,
   "metadata": {
    "collapsed": true
   },
   "outputs": [],
   "source": [
    "import sys\n",
    "sys.path.insert(0, \"../\")"
   ]
  },
  {
   "cell_type": "code",
   "execution_count": 15,
   "metadata": {
    "collapsed": false
   },
   "outputs": [],
   "source": [
    "from utils import shrink_floats"
   ]
  },
  {
   "cell_type": "code",
   "execution_count": 16,
   "metadata": {
    "collapsed": true
   },
   "outputs": [],
   "source": [
    "shrink_floats(data)"
   ]
  },
  {
   "cell_type": "code",
   "execution_count": 17,
   "metadata": {
    "collapsed": false
   },
   "outputs": [
    {
     "name": "stderr",
     "output_type": "stream",
     "text": [
      "/mnt/mfs/miniconda/envs/rep_py2/lib/python2.7/site-packages/root_numpy/_tree.py:449: UserWarning: converter for dtype('O') is not implemented (skipping)\n",
      "  _librootnumpy.array2root(arr, filename, treename, mode)\n"
     ]
    }
   ],
   "source": [
    "root_numpy.array2root(data.to_records(index=False), '../datasets/data/csv/WG/{}/2012/Tracks.root'.format(channel),\n",
    "                      mode='recreate')"
   ]
  },
  {
   "cell_type": "code",
   "execution_count": 18,
   "metadata": {
    "collapsed": false
   },
   "outputs": [
    {
     "data": {
      "text/html": [
       "<div>\n",
       "<table border=\"1\" class=\"dataframe\">\n",
       "  <thead>\n",
       "    <tr style=\"text-align: right;\">\n",
       "      <th></th>\n",
       "      <th>run</th>\n",
       "      <th>event</th>\n",
       "      <th>Bmass</th>\n",
       "      <th>time</th>\n",
       "      <th>i</th>\n",
       "      <th>mult</th>\n",
       "      <th>partP</th>\n",
       "      <th>partPt</th>\n",
       "      <th>ptB</th>\n",
       "      <th>IPs</th>\n",
       "      <th>...</th>\n",
       "      <th>Dist_phi</th>\n",
       "      <th>N_sig_sw</th>\n",
       "      <th>mu_cut</th>\n",
       "      <th>e_cut</th>\n",
       "      <th>K_cut</th>\n",
       "      <th>MCID</th>\n",
       "      <th>OS_SS</th>\n",
       "      <th>xFlag</th>\n",
       "      <th>K_MCID</th>\n",
       "      <th>BOosc</th>\n",
       "    </tr>\n",
       "    <tr>\n",
       "      <th>event_id</th>\n",
       "      <th></th>\n",
       "      <th></th>\n",
       "      <th></th>\n",
       "      <th></th>\n",
       "      <th></th>\n",
       "      <th></th>\n",
       "      <th></th>\n",
       "      <th></th>\n",
       "      <th></th>\n",
       "      <th></th>\n",
       "      <th></th>\n",
       "      <th></th>\n",
       "      <th></th>\n",
       "      <th></th>\n",
       "      <th></th>\n",
       "      <th></th>\n",
       "      <th></th>\n",
       "      <th></th>\n",
       "      <th></th>\n",
       "      <th></th>\n",
       "      <th></th>\n",
       "    </tr>\n",
       "  </thead>\n",
       "  <tbody>\n",
       "    <tr>\n",
       "      <th>132623_227572381</th>\n",
       "      <td>132623</td>\n",
       "      <td>227572384.0</td>\n",
       "      <td>5.280417</td>\n",
       "      <td>2.739783</td>\n",
       "      <td>0</td>\n",
       "      <td>16</td>\n",
       "      <td>2.975773</td>\n",
       "      <td>0.125786</td>\n",
       "      <td>6.62858</td>\n",
       "      <td>0.346570</td>\n",
       "      <td>...</td>\n",
       "      <td>1.714190</td>\n",
       "      <td>1.12428</td>\n",
       "      <td>0</td>\n",
       "      <td>0</td>\n",
       "      <td>0</td>\n",
       "      <td>-0</td>\n",
       "      <td>0.0</td>\n",
       "      <td>-0.000563</td>\n",
       "      <td>0</td>\n",
       "      <td>-1878611067</td>\n",
       "    </tr>\n",
       "    <tr>\n",
       "      <th>132623_227572381</th>\n",
       "      <td>132623</td>\n",
       "      <td>227572384.0</td>\n",
       "      <td>5.280417</td>\n",
       "      <td>2.739783</td>\n",
       "      <td>1</td>\n",
       "      <td>16</td>\n",
       "      <td>2.113523</td>\n",
       "      <td>0.626089</td>\n",
       "      <td>6.62858</td>\n",
       "      <td>1.647396</td>\n",
       "      <td>...</td>\n",
       "      <td>0.118375</td>\n",
       "      <td>1.12428</td>\n",
       "      <td>0</td>\n",
       "      <td>0</td>\n",
       "      <td>0</td>\n",
       "      <td>-0</td>\n",
       "      <td>0.0</td>\n",
       "      <td>1.000000</td>\n",
       "      <td>0</td>\n",
       "      <td>-1878611067</td>\n",
       "    </tr>\n",
       "    <tr>\n",
       "      <th>132623_227572381</th>\n",
       "      <td>132623</td>\n",
       "      <td>227572384.0</td>\n",
       "      <td>5.280417</td>\n",
       "      <td>2.739783</td>\n",
       "      <td>2</td>\n",
       "      <td>16</td>\n",
       "      <td>3.391397</td>\n",
       "      <td>0.237943</td>\n",
       "      <td>6.62858</td>\n",
       "      <td>2.565533</td>\n",
       "      <td>...</td>\n",
       "      <td>2.131909</td>\n",
       "      <td>1.12428</td>\n",
       "      <td>0</td>\n",
       "      <td>0</td>\n",
       "      <td>0</td>\n",
       "      <td>-1.63e-05</td>\n",
       "      <td>0.0</td>\n",
       "      <td>1.000000</td>\n",
       "      <td>0</td>\n",
       "      <td>-1878611067</td>\n",
       "    </tr>\n",
       "    <tr>\n",
       "      <th>132623_227572381</th>\n",
       "      <td>132623</td>\n",
       "      <td>227572384.0</td>\n",
       "      <td>5.280417</td>\n",
       "      <td>2.739783</td>\n",
       "      <td>3</td>\n",
       "      <td>16</td>\n",
       "      <td>12.321827</td>\n",
       "      <td>0.512020</td>\n",
       "      <td>6.62858</td>\n",
       "      <td>2.054170</td>\n",
       "      <td>...</td>\n",
       "      <td>1.768889</td>\n",
       "      <td>1.12428</td>\n",
       "      <td>0</td>\n",
       "      <td>0</td>\n",
       "      <td>0</td>\n",
       "      <td>7e-08</td>\n",
       "      <td>0.0</td>\n",
       "      <td>0.000000</td>\n",
       "      <td>0</td>\n",
       "      <td>-1878611067</td>\n",
       "    </tr>\n",
       "    <tr>\n",
       "      <th>132623_227572381</th>\n",
       "      <td>132623</td>\n",
       "      <td>227572384.0</td>\n",
       "      <td>5.280417</td>\n",
       "      <td>2.739783</td>\n",
       "      <td>4</td>\n",
       "      <td>16</td>\n",
       "      <td>47.236053</td>\n",
       "      <td>1.710158</td>\n",
       "      <td>6.62858</td>\n",
       "      <td>0.995251</td>\n",
       "      <td>...</td>\n",
       "      <td>1.990477</td>\n",
       "      <td>1.12428</td>\n",
       "      <td>0</td>\n",
       "      <td>0</td>\n",
       "      <td>0</td>\n",
       "      <td>-9.90309e+16</td>\n",
       "      <td>0.0</td>\n",
       "      <td>-0.000000</td>\n",
       "      <td>0</td>\n",
       "      <td>-1878611067</td>\n",
       "    </tr>\n",
       "  </tbody>\n",
       "</table>\n",
       "<p>5 rows × 41 columns</p>\n",
       "</div>"
      ],
      "text/plain": [
       "                     run        event     Bmass      time  i  mult      partP  \\\n",
       "event_id                                                                        \n",
       "132623_227572381  132623  227572384.0  5.280417  2.739783  0    16   2.975773   \n",
       "132623_227572381  132623  227572384.0  5.280417  2.739783  1    16   2.113523   \n",
       "132623_227572381  132623  227572384.0  5.280417  2.739783  2    16   3.391397   \n",
       "132623_227572381  132623  227572384.0  5.280417  2.739783  3    16  12.321827   \n",
       "132623_227572381  132623  227572384.0  5.280417  2.739783  4    16  47.236053   \n",
       "\n",
       "                    partPt      ptB       IPs     ...      Dist_phi  N_sig_sw  \\\n",
       "event_id                                          ...                           \n",
       "132623_227572381  0.125786  6.62858  0.346570     ...      1.714190   1.12428   \n",
       "132623_227572381  0.626089  6.62858  1.647396     ...      0.118375   1.12428   \n",
       "132623_227572381  0.237943  6.62858  2.565533     ...      2.131909   1.12428   \n",
       "132623_227572381  0.512020  6.62858  2.054170     ...      1.768889   1.12428   \n",
       "132623_227572381  1.710158  6.62858  0.995251     ...      1.990477   1.12428   \n",
       "\n",
       "                  mu_cut  e_cut  K_cut         MCID  OS_SS     xFlag  K_MCID  \\\n",
       "event_id                                                                       \n",
       "132623_227572381       0      0      0           -0    0.0 -0.000563       0   \n",
       "132623_227572381       0      0      0           -0    0.0  1.000000       0   \n",
       "132623_227572381       0      0      0    -1.63e-05    0.0  1.000000       0   \n",
       "132623_227572381       0      0      0        7e-08    0.0  0.000000       0   \n",
       "132623_227572381       0      0      0 -9.90309e+16    0.0 -0.000000       0   \n",
       "\n",
       "                       BOosc  \n",
       "event_id                      \n",
       "132623_227572381 -1878611067  \n",
       "132623_227572381 -1878611067  \n",
       "132623_227572381 -1878611067  \n",
       "132623_227572381 -1878611067  \n",
       "132623_227572381 -1878611067  \n",
       "\n",
       "[5 rows x 41 columns]"
      ]
     },
     "execution_count": 18,
     "metadata": {},
     "output_type": "execute_result"
    }
   ],
   "source": [
    "data.head()"
   ]
  },
  {
   "cell_type": "code",
   "execution_count": null,
   "metadata": {
    "collapsed": true
   },
   "outputs": [],
   "source": []
  }
 ],
 "metadata": {
  "kernelspec": {
   "display_name": "Python 2",
   "language": "python",
   "name": "python2"
  },
  "language_info": {
   "codemirror_mode": {
    "name": "ipython",
    "version": 2
   },
   "file_extension": ".py",
   "mimetype": "text/x-python",
   "name": "python",
   "nbconvert_exporter": "python",
   "pygments_lexer": "ipython2",
   "version": "2.7.12"
  }
 },
 "nbformat": 4,
 "nbformat_minor": 1
}
