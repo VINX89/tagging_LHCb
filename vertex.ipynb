{
 "cells": [
  {
   "cell_type": "code",
   "execution_count": 1,
   "metadata": {
    "collapsed": false
   },
   "outputs": [
    {
     "name": "stdout",
     "output_type": "stream",
     "text": [
      "Populating the interactive namespace from numpy and matplotlib\n"
     ]
    }
   ],
   "source": [
    "%pylab inline"
   ]
  },
  {
   "cell_type": "markdown",
   "metadata": {},
   "source": [
    "##Import"
   ]
  },
  {
   "cell_type": "code",
   "execution_count": 2,
   "metadata": {
    "collapsed": false
   },
   "outputs": [],
   "source": [
    "import pandas\n",
    "import numexpr\n",
    "import numpy\n",
    "from rep_ef.estimators import MatrixNetSkyGridClassifier\n",
    "from rep.metaml import FoldingClassifier\n",
    "from sklearn.ensemble import RandomForestClassifier\n",
    "from sklearn.metrics import roc_curve, roc_auc_score"
   ]
  },
  {
   "cell_type": "code",
   "execution_count": 3,
   "metadata": {
    "collapsed": false
   },
   "outputs": [],
   "source": [
    "def statistics(data):\n",
    "    print 'Events:', len(numpy.unique(data.event)), 'vrt:', len(data)"
   ]
  },
  {
   "cell_type": "markdown",
   "metadata": {},
   "source": [
    "## Reading initial data"
   ]
  },
  {
   "cell_type": "code",
   "execution_count": 4,
   "metadata": {
    "collapsed": false
   },
   "outputs": [
    {
     "data": {
      "text/plain": [
       "(610050, 610050)"
      ]
     },
     "execution_count": 4,
     "metadata": {},
     "output_type": "execute_result"
    }
   ],
   "source": [
    "data_nan = pandas.read_csv('../../datasets/Tagging/Vertices.csv', sep='\\t')\n",
    "data = data_nan.dropna()\n",
    "len(data_nan), len(data)"
   ]
  },
  {
   "cell_type": "code",
   "execution_count": 5,
   "metadata": {
    "collapsed": false
   },
   "outputs": [
    {
     "data": {
      "text/html": [
       "<div style=\"max-height:1000px;max-width:1500px;overflow:auto;\">\n",
       "<table border=\"1\" class=\"dataframe\">\n",
       "  <thead>\n",
       "    <tr style=\"text-align: right;\">\n",
       "      <th></th>\n",
       "      <th>run</th>\n",
       "      <th>event</th>\n",
       "      <th>No</th>\n",
       "      <th>mult</th>\n",
       "      <th>nnkrec</th>\n",
       "      <th>Bmass</th>\n",
       "      <th>ptB</th>\n",
       "      <th>vflag</th>\n",
       "      <th>ptmean</th>\n",
       "      <th>ipsmean</th>\n",
       "      <th>vcharge</th>\n",
       "      <th>svm</th>\n",
       "      <th>svp</th>\n",
       "      <th>BDphiDir</th>\n",
       "      <th>svtau</th>\n",
       "      <th>docamax</th>\n",
       "      <th>signB</th>\n",
       "      <th>signVtx</th>\n",
       "      <th>N_sig_sw</th>\n",
       "      <th>v_cut</th>\n",
       "    </tr>\n",
       "  </thead>\n",
       "  <tbody>\n",
       "    <tr>\n",
       "      <th>0</th>\n",
       "      <td> 115839</td>\n",
       "      <td> 490856995</td>\n",
       "      <td> 0</td>\n",
       "      <td> 19</td>\n",
       "      <td> 3</td>\n",
       "      <td> 5.27051</td>\n",
       "      <td> 0.682494</td>\n",
       "      <td> 5</td>\n",
       "      <td> 0.612396</td>\n",
       "      <td>  2.82952</td>\n",
       "      <td> 0.369395</td>\n",
       "      <td> 8.090450</td>\n",
       "      <td> 234.8170</td>\n",
       "      <td>-1.014500</td>\n",
       "      <td> 0.848175</td>\n",
       "      <td> 0.011098</td>\n",
       "      <td>-1</td>\n",
       "      <td>-1</td>\n",
       "      <td> 1.034010</td>\n",
       "      <td> 0</td>\n",
       "    </tr>\n",
       "    <tr>\n",
       "      <th>1</th>\n",
       "      <td> 115839</td>\n",
       "      <td> 822264706</td>\n",
       "      <td> 0</td>\n",
       "      <td> 10</td>\n",
       "      <td> 2</td>\n",
       "      <td> 5.28157</td>\n",
       "      <td> 8.309650</td>\n",
       "      <td> 2</td>\n",
       "      <td> 0.438413</td>\n",
       "      <td>  4.65750</td>\n",
       "      <td> 0.426932</td>\n",
       "      <td> 0.483020</td>\n",
       "      <td>  20.8185</td>\n",
       "      <td> 0.390429</td>\n",
       "      <td> 4.783480</td>\n",
       "      <td> 0.000000</td>\n",
       "      <td>-1</td>\n",
       "      <td> 1</td>\n",
       "      <td> 1.091840</td>\n",
       "      <td> 0</td>\n",
       "    </tr>\n",
       "    <tr>\n",
       "      <th>2</th>\n",
       "      <td> 115839</td>\n",
       "      <td> 831865829</td>\n",
       "      <td> 0</td>\n",
       "      <td> 50</td>\n",
       "      <td> 6</td>\n",
       "      <td> 5.21344</td>\n",
       "      <td> 1.150550</td>\n",
       "      <td> 2</td>\n",
       "      <td> 0.560779</td>\n",
       "      <td>  5.98035</td>\n",
       "      <td> 1.133610</td>\n",
       "      <td> 1.332900</td>\n",
       "      <td>  33.1151</td>\n",
       "      <td>-0.039351</td>\n",
       "      <td> 0.837979</td>\n",
       "      <td> 0.000000</td>\n",
       "      <td>-1</td>\n",
       "      <td>-1</td>\n",
       "      <td>-0.442372</td>\n",
       "      <td> 0</td>\n",
       "    </tr>\n",
       "    <tr>\n",
       "      <th>3</th>\n",
       "      <td> 115839</td>\n",
       "      <td> 835954815</td>\n",
       "      <td> 0</td>\n",
       "      <td> 21</td>\n",
       "      <td> 2</td>\n",
       "      <td> 5.27418</td>\n",
       "      <td> 5.809860</td>\n",
       "      <td> 2</td>\n",
       "      <td> 0.574965</td>\n",
       "      <td> 15.80120</td>\n",
       "      <td> 0.207937</td>\n",
       "      <td> 0.508337</td>\n",
       "      <td>  32.2970</td>\n",
       "      <td> 0.013839</td>\n",
       "      <td> 9.961430</td>\n",
       "      <td> 0.000000</td>\n",
       "      <td> 1</td>\n",
       "      <td> 1</td>\n",
       "      <td> 1.071050</td>\n",
       "      <td> 0</td>\n",
       "    </tr>\n",
       "    <tr>\n",
       "      <th>4</th>\n",
       "      <td> 115839</td>\n",
       "      <td>  68238381</td>\n",
       "      <td> 0</td>\n",
       "      <td> 16</td>\n",
       "      <td> 4</td>\n",
       "      <td> 5.23794</td>\n",
       "      <td> 2.200840</td>\n",
       "      <td> 5</td>\n",
       "      <td> 0.818976</td>\n",
       "      <td>  4.17709</td>\n",
       "      <td> 0.402122</td>\n",
       "      <td> 6.816220</td>\n",
       "      <td>  88.1742</td>\n",
       "      <td>-1.098810</td>\n",
       "      <td> 1.092720</td>\n",
       "      <td> 0.009995</td>\n",
       "      <td>-1</td>\n",
       "      <td> 1</td>\n",
       "      <td>-0.263734</td>\n",
       "      <td> 0</td>\n",
       "    </tr>\n",
       "  </tbody>\n",
       "</table>\n",
       "</div>"
      ],
      "text/plain": [
       "      run      event  No  mult  nnkrec    Bmass       ptB  vflag    ptmean  \\\n",
       "0  115839  490856995   0    19       3  5.27051  0.682494      5  0.612396   \n",
       "1  115839  822264706   0    10       2  5.28157  8.309650      2  0.438413   \n",
       "2  115839  831865829   0    50       6  5.21344  1.150550      2  0.560779   \n",
       "3  115839  835954815   0    21       2  5.27418  5.809860      2  0.574965   \n",
       "4  115839   68238381   0    16       4  5.23794  2.200840      5  0.818976   \n",
       "\n",
       "    ipsmean   vcharge       svm       svp  BDphiDir     svtau   docamax  \\\n",
       "0   2.82952  0.369395  8.090450  234.8170 -1.014500  0.848175  0.011098   \n",
       "1   4.65750  0.426932  0.483020   20.8185  0.390429  4.783480  0.000000   \n",
       "2   5.98035  1.133610  1.332900   33.1151 -0.039351  0.837979  0.000000   \n",
       "3  15.80120  0.207937  0.508337   32.2970  0.013839  9.961430  0.000000   \n",
       "4   4.17709  0.402122  6.816220   88.1742 -1.098810  1.092720  0.009995   \n",
       "\n",
       "   signB  signVtx  N_sig_sw  v_cut  \n",
       "0     -1       -1  1.034010      0  \n",
       "1     -1        1  1.091840      0  \n",
       "2     -1       -1 -0.442372      0  \n",
       "3      1        1  1.071050      0  \n",
       "4     -1        1 -0.263734      0  "
      ]
     },
     "execution_count": 5,
     "metadata": {},
     "output_type": "execute_result"
    }
   ],
   "source": [
    "data.head()"
   ]
  },
  {
   "cell_type": "code",
   "execution_count": 6,
   "metadata": {
    "collapsed": false
   },
   "outputs": [
    {
     "name": "stdout",
     "output_type": "stream",
     "text": [
      "Events: 609984 vrt: 610050\n"
     ]
    }
   ],
   "source": [
    "statistics(data)"
   ]
  },
  {
   "cell_type": "markdown",
   "metadata": {},
   "source": [
    "# Find vrt \n",
    "\n",
    "`label` = `signB` * `signVtx`\n",
    "* the highest output means that this is same sign B as track\n",
    "* the lowest output means that this is opposite sign B than track"
   ]
  },
  {
   "cell_type": "markdown",
   "metadata": {},
   "source": [
    "## Choose B-events"
   ]
  },
  {
   "cell_type": "code",
   "execution_count": 7,
   "metadata": {
    "collapsed": false
   },
   "outputs": [
    {
     "data": {
      "image/png": "[encoded data removed]",
      "text/plain": [
       "<matplotlib.figure.Figure at 0x640a610>"
      ]
     },
     "metadata": {},
     "output_type": "display_data"
    },
    {
     "data": {
      "image/png": "[encoded data removed]",
      "text/plain": [
       "<matplotlib.figure.Figure at 0x6ceb710>"
      ]
     },
     "metadata": {},
     "output_type": "display_data"
    }
   ],
   "source": [
    "hist(data.Bmass.values, bins=100)\n",
    "title('B mass')\n",
    "show()\n",
    "hist(data.N_sig_sw.values, bins=100, normed=True)\n",
    "title('sWeights')\n",
    "pass"
   ]
  },
  {
   "cell_type": "code",
   "execution_count": 8,
   "metadata": {
    "collapsed": false
   },
   "outputs": [
    {
     "name": "stdout",
     "output_type": "stream",
     "text": [
      "Events: 353423 vrt: 353443\n"
     ]
    }
   ],
   "source": [
    "sweight_threshold = 1.\n",
    "data = data[data.N_sig_sw > sweight_threshold]\n",
    "statistics(data)"
   ]
  },
  {
   "cell_type": "code",
   "execution_count": 11,
   "metadata": {
    "collapsed": false
   },
   "outputs": [],
   "source": [
    "train_events_id = pandas.read_csv('events_train.csv')['train_id']\n",
    "test_events_id = pandas.read_csv('events_test.csv')['test_id']\n",
    "set(numpy.unique(data.event)).issubset(set(numpy.concatenate([train_events_id, test_events_id]) ))"
   ]
  },
  {
   "cell_type": "code",
   "execution_count": 14,
   "metadata": {
    "collapsed": true
   },
   "outputs": [],
   "source": [
    "data = data.ix[numpy.in1d(data.event.values, train_events_id), :]"
   ]
  },
  {
   "cell_type": "code",
   "execution_count": 16,
   "metadata": {
    "collapsed": false
   },
   "outputs": [
    {
     "name": "stdout",
     "output_type": "stream",
     "text": [
      "Events: 176769 vrt: 176781\n"
     ]
    }
   ],
   "source": [
    "statistics(data)"
   ]
  },
  {
   "cell_type": "markdown",
   "metadata": {},
   "source": [
    "## Define features"
   ]
  },
  {
   "cell_type": "code",
   "execution_count": 15,
   "metadata": {
    "collapsed": false
   },
   "outputs": [
    {
     "data": {
      "text/plain": [
       "['vflag',\n",
       " 'svm',\n",
       " 'BDphiDir',\n",
       " 'vcharge',\n",
       " 'svp',\n",
       " 'v_cut',\n",
       " 'docamax',\n",
       " 'ptB',\n",
       " 'svtau',\n",
       " 'ptmean',\n",
       " 'nnkrec',\n",
       " 'ipsmean']"
      ]
     },
     "execution_count": 15,
     "metadata": {},
     "output_type": "execute_result"
    }
   ],
   "source": [
    "features = list(set(data.columns) - {'run', 'event', 'No', 'signB', 'signVtx', 'N_sig_sw', 'Bmass', 'mult', \n",
    "                                     'PIDNNp', 'PIDNNpi'})\n",
    "features"
   ]
  },
  {
   "cell_type": "markdown",
   "metadata": {},
   "source": [
    "### define `label` = `signB` * `signTrack`\n",
    "\n",
    "* if > 0 (same sign) - label **1**\n",
    "* if < 0 (different sign) - label **0**"
   ]
  },
  {
   "cell_type": "code",
   "execution_count": 17,
   "metadata": {
    "collapsed": false
   },
   "outputs": [],
   "source": [
    "product_sign = (data.signB.values * data.signVtx.values > 0) * 1"
   ]
  },
  {
   "cell_type": "markdown",
   "metadata": {},
   "source": [
    "### 2-folding training"
   ]
  },
  {
   "cell_type": "code",
   "execution_count": 18,
   "metadata": {
    "collapsed": true
   },
   "outputs": [],
   "source": [
    "import cPickle\n",
    "with open('vtx_forest.pkl', 'r') as f:\n",
    "    est_choose_RT = cPickle.load(f)"
   ]
  },
  {
   "cell_type": "code",
   "execution_count": 24,
   "metadata": {
    "collapsed": false
   },
   "outputs": [
    {
     "data": {
      "text/plain": [
       "FoldingClassifier(base_estimator=RandomForestClassifier(bootstrap=True, class_weight=None, criterion='gini',\n",
       "            max_depth=8, max_features='auto', max_leaf_nodes=None,\n",
       "            min_samples_leaf=20, min_samples_split=2,\n",
       "            min_weight_fraction_leaf=0.0, n_estimators=300, n_jobs=8,\n",
       "            oob_score=False, random_state=None, verbose=0,\n",
       "            warm_start=False),\n",
       "         features=['vflag', 'svm', 'BDphiDir', 'vcharge', 'svp', 'v_cut', 'docamax', 'ptB', 'svtau', 'ptmean', 'nnkrec', 'ipsmean'],\n",
       "         ipc_profile=None, n_folds=2, random_state=13)"
      ]
     },
     "execution_count": 24,
     "metadata": {},
     "output_type": "execute_result"
    }
   ],
   "source": [
    "base = RandomForestClassifier(n_estimators=300, max_depth=8, min_samples_leaf=20, n_jobs=8)\n",
    "est_choose_RT = FoldingClassifier(base, features=features, random_state=13)\n",
    "est_choose_RT.fit(data, product_sign, data.N_sig_sw)"
   ]
  },
  {
   "cell_type": "code",
   "execution_count": 25,
   "metadata": {
    "collapsed": true
   },
   "outputs": [],
   "source": [
    "import cPickle\n",
    "with open('vtx_forest.pkl', 'w') as f:\n",
    "    cPickle.dump(est_choose_RT, f)"
   ]
  },
  {
   "cell_type": "markdown",
   "metadata": {},
   "source": [
    "----"
   ]
  },
  {
   "cell_type": "markdown",
   "metadata": {},
   "source": [
    "### AUC"
   ]
  },
  {
   "cell_type": "code",
   "execution_count": 26,
   "metadata": {
    "collapsed": false
   },
   "outputs": [
    {
     "name": "stdout",
     "output_type": "stream",
     "text": [
      "KFold prediction using folds column\n"
     ]
    },
    {
     "data": {
      "text/plain": [
       "0.53730752705361895"
      ]
     },
     "execution_count": 26,
     "metadata": {},
     "output_type": "execute_result"
    }
   ],
   "source": [
    "probs_RT = est_choose_RT.predict_proba(data)\n",
    "roc_auc_score(product_sign, probs_RT[:, 1], sample_weight=data.N_sig_sw.values)"
   ]
  },
  {
   "cell_type": "markdown",
   "metadata": {},
   "source": [
    "### ROC"
   ]
  },
  {
   "cell_type": "code",
   "execution_count": 27,
   "metadata": {
    "collapsed": false
   },
   "outputs": [
    {
     "data": {
      "text/plain": [
       "[<matplotlib.lines.Line2D at 0x6be0dd0>]"
      ]
     },
     "execution_count": 27,
     "metadata": {},
     "output_type": "execute_result"
    },
    {
     "data": {
      "image/png": "[encoded data removed]",
      "text/plain": [
       "<matplotlib.figure.Figure at 0x6be04d0>"
      ]
     },
     "metadata": {},
     "output_type": "display_data"
    }
   ],
   "source": [
    "fpr, tpr, _ = roc_curve(product_sign, probs_RT[:, 1], sample_weight=data.N_sig_sw.values)\n",
    "plot(fpr, tpr)\n",
    "plot([0, 1], [0, 1])"
   ]
  },
  {
   "cell_type": "code",
   "execution_count": 28,
   "metadata": {
    "collapsed": false
   },
   "outputs": [
    {
     "data": {
      "text/html": [
       "<div style=\"max-height:1000px;max-width:1500px;overflow:auto;\">\n",
       "<table border=\"1\" class=\"dataframe\">\n",
       "  <thead>\n",
       "    <tr style=\"text-align: right;\">\n",
       "      <th></th>\n",
       "      <th>feature</th>\n",
       "      <th>importance</th>\n",
       "    </tr>\n",
       "  </thead>\n",
       "  <tbody>\n",
       "    <tr>\n",
       "      <th>0 </th>\n",
       "      <td>  vcharge</td>\n",
       "      <td> 1.000000</td>\n",
       "    </tr>\n",
       "    <tr>\n",
       "      <th>1 </th>\n",
       "      <td>   ptmean</td>\n",
       "      <td> 0.548558</td>\n",
       "    </tr>\n",
       "    <tr>\n",
       "      <th>2 </th>\n",
       "      <td>      svm</td>\n",
       "      <td> 0.526753</td>\n",
       "    </tr>\n",
       "    <tr>\n",
       "      <th>3 </th>\n",
       "      <td>  ipsmean</td>\n",
       "      <td> 0.448831</td>\n",
       "    </tr>\n",
       "    <tr>\n",
       "      <th>4 </th>\n",
       "      <td>      svp</td>\n",
       "      <td> 0.429169</td>\n",
       "    </tr>\n",
       "    <tr>\n",
       "      <th>5 </th>\n",
       "      <td>    svtau</td>\n",
       "      <td> 0.421517</td>\n",
       "    </tr>\n",
       "    <tr>\n",
       "      <th>6 </th>\n",
       "      <td> BDphiDir</td>\n",
       "      <td> 0.406156</td>\n",
       "    </tr>\n",
       "    <tr>\n",
       "      <th>7 </th>\n",
       "      <td>      ptB</td>\n",
       "      <td> 0.382805</td>\n",
       "    </tr>\n",
       "    <tr>\n",
       "      <th>8 </th>\n",
       "      <td>  docamax</td>\n",
       "      <td> 0.271211</td>\n",
       "    </tr>\n",
       "    <tr>\n",
       "      <th>9 </th>\n",
       "      <td>    vflag</td>\n",
       "      <td> 0.101556</td>\n",
       "    </tr>\n",
       "    <tr>\n",
       "      <th>10</th>\n",
       "      <td>   nnkrec</td>\n",
       "      <td> 0.088603</td>\n",
       "    </tr>\n",
       "    <tr>\n",
       "      <th>11</th>\n",
       "      <td>    v_cut</td>\n",
       "      <td> 0.033625</td>\n",
       "    </tr>\n",
       "  </tbody>\n",
       "</table>\n",
       "</div>"
      ],
      "text/plain": [
       "     feature  importance\n",
       "0    vcharge    1.000000\n",
       "1     ptmean    0.548558\n",
       "2        svm    0.526753\n",
       "3    ipsmean    0.448831\n",
       "4        svp    0.429169\n",
       "5      svtau    0.421517\n",
       "6   BDphiDir    0.406156\n",
       "7        ptB    0.382805\n",
       "8    docamax    0.271211\n",
       "9      vflag    0.101556\n",
       "10    nnkrec    0.088603\n",
       "11     v_cut    0.033625"
      ]
     },
     "execution_count": 28,
     "metadata": {},
     "output_type": "execute_result"
    }
   ],
   "source": [
    "imp = numpy.sum([est.feature_importances_ for est in est_choose_RT.estimators], axis=0)\n",
    "pandas.DataFrame({'importance': -sort(-imp) / max(imp), \n",
    "                  'feature': numpy.array(est_choose_RT.features)[numpy.argsort(-imp)]})"
   ]
  },
  {
   "cell_type": "markdown",
   "metadata": {},
   "source": [
    "## Distributions for output"
   ]
  },
  {
   "cell_type": "code",
   "execution_count": 29,
   "metadata": {
    "collapsed": true
   },
   "outputs": [],
   "source": [
    "from rep.utils import Flattener"
   ]
  },
  {
   "cell_type": "code",
   "execution_count": 30,
   "metadata": {
    "collapsed": true
   },
   "outputs": [],
   "source": [
    "def run_flat_probs(probs, labels, weights, label=1):\n",
    "    figsize(8, 6)\n",
    "    flat = Flattener(probs[:, 1][labels == label], weights[labels == label])\n",
    "    flat_probs = flat(probs[:, 1])\n",
    "    hist(flat_probs[labels == 1], bins=100, normed=True, histtype='step', \n",
    "         weights=weights[labels == 1], label='same sign')\n",
    "    hist(flat_probs[labels == 0], bins=100, normed=True, histtype='step', \n",
    "         weights=weights[labels == 0], label='opposite sign')\n",
    "    xlabel('predictions')\n",
    "    legend(loc='upper center')\n",
    "    show()\n",
    "    return flat_probs"
   ]
  },
  {
   "cell_type": "code",
   "execution_count": 114,
   "metadata": {
    "collapsed": false
   },
   "outputs": [
    {
     "data": {
      "image/png": "[encoded data removed]",
      "text/plain": [
       "<matplotlib.figure.Figure at 0x642c1d0>"
      ]
     },
     "metadata": {},
     "output_type": "display_data"
    },
    {
     "data": {
      "image/png": "[encoded data removed]",
      "text/plain": [
       "<matplotlib.figure.Figure at 0x7112610>"
      ]
     },
     "metadata": {},
     "output_type": "display_data"
    }
   ],
   "source": [
    "flat_ss_probs = run_flat_probs(probs_RT, product_sign, data.N_sig_sw.values, label=1)\n",
    "flat_os_probs = run_flat_probs(probs_RT, product_sign, data.N_sig_sw.values, label=0)"
   ]
  },
  {
   "cell_type": "code",
   "execution_count": 115,
   "metadata": {
    "collapsed": false
   },
   "outputs": [
    {
     "data": {
      "image/png": "[encoded data removed]",
      "text/plain": [
       "<matplotlib.figure.Figure at 0x640aa10>"
      ]
     },
     "metadata": {},
     "output_type": "display_data"
    }
   ],
   "source": [
    "hist(probs_RT[product_sign == 1][:, 1], bins=60, normed=True, alpha=0.4)\n",
    "hist(probs_RT[product_sign == 0][:, 1], bins=60, normed=True, alpha=0.4)\n",
    "pass"
   ]
  },
  {
   "cell_type": "markdown",
   "metadata": {},
   "source": [
    "## Select good svr"
   ]
  },
  {
   "cell_type": "code",
   "execution_count": 89,
   "metadata": {
    "collapsed": true
   },
   "outputs": [],
   "source": [
    "from rep_ef.estimators import MatrixNetSkyGridClassifier"
   ]
  },
  {
   "cell_type": "code",
   "execution_count": 117,
   "metadata": {
    "collapsed": false
   },
   "outputs": [],
   "source": [
    "from rep.utils import train_test_split_group\n",
    "data_train, data_test_gl, flat_ss_probs, _ , flat_os_probs, _, labels_train, labels_test_gl = \\\n",
    "                                                                train_test_split_group(data['event'],\n",
    "                                                                                    data, flat_ss_probs,\n",
    "                                                                                    flat_os_probs, product_sign,\n",
    "                                                                                    random_state=11, train_size=0.5)"
   ]
  },
  {
   "cell_type": "code",
   "execution_count": 118,
   "metadata": {
    "collapsed": false
   },
   "outputs": [],
   "source": [
    "data_selected_forest = data_train[((flat_ss_probs < 0.1) & (labels_train == 0)) | \n",
    "                                  ((flat_os_probs > 0.8) & (labels_train == 1))]"
   ]
  },
  {
   "cell_type": "code",
   "execution_count": 119,
   "metadata": {
    "collapsed": false
   },
   "outputs": [
    {
     "name": "stdout",
     "output_type": "stream",
     "text": [
      "Events: 16053 vrt: 16053\n"
     ]
    }
   ],
   "source": [
    "statistics(data_selected_forest)"
   ]
  },
  {
   "cell_type": "markdown",
   "metadata": {},
   "source": [
    "--------------"
   ]
  },
  {
   "cell_type": "code",
   "execution_count": 23,
   "metadata": {
    "collapsed": true
   },
   "outputs": [],
   "source": [
    "with open('vtx_mn_selected.pkl', 'r') as f:\n",
    "    mn_folding = cPickle.load(f)"
   ]
  },
  {
   "cell_type": "code",
   "execution_count": 120,
   "metadata": {
    "collapsed": false
   },
   "outputs": [
    {
     "data": {
      "text/plain": [
       "FoldingClassifier(base_estimator=MatrixNetSkyGridClassifier(auto_stop=None, baseline_feature=None,\n",
       "              command_line_params=None, connection='skygrid',\n",
       "              dump_filename=None, features_sample_rate_per_iteration=1.0,\n",
       "              intervals=64, iterations=3000, max_features_per_iteration=6,\n",
       "              regularization=0.02, sync=False, train_features=None,\n",
       "              training_fraction=0.5, user_name='antares'),\n",
       "         features=['vflag', 'svm', 'BDphiDir', 'vcharge', 'svp', 'v_cut', 'docamax', 'ptB', 'svtau', 'ptmean', 'nnkrec', 'ipsmean'],\n",
       "         ipc_profile=None, n_folds=2, random_state=11)"
      ]
     },
     "execution_count": 120,
     "metadata": {},
     "output_type": "execute_result"
    }
   ],
   "source": [
    "mn_base = MatrixNetSkyGridClassifier(connection='skygrid', user_name='antares',\n",
    "                                     iterations=3000, regularization=0.02, sync=False)\n",
    "mn_folding = FoldingClassifier(mn_base, n_folds=2, random_state=11, \n",
    "                               features=features)\n",
    "labels_sel = (data_selected_forest['signB'].values * data_selected_forest['signVtx'].values > 0) * 1\n",
    "mn_folding.fit(data_selected_forest, labels_sel, data_selected_forest.N_sig_sw.values)"
   ]
  },
  {
   "cell_type": "code",
   "execution_count": 121,
   "metadata": {
    "collapsed": true
   },
   "outputs": [],
   "source": [
    "with open('vtx_mn_selected.pkl', 'w') as f:\n",
    "    cPickle.dump(mn_folding, f)"
   ]
  },
  {
   "cell_type": "markdown",
   "metadata": {},
   "source": [
    "---------"
   ]
  },
  {
   "cell_type": "code",
   "execution_count": null,
   "metadata": {
    "collapsed": true
   },
   "outputs": [],
   "source": [
    "with open('vtx_mn.pkl', 'r') as f:\n",
    "    mn_folding_all = cPickle.load(f)"
   ]
  },
  {
   "cell_type": "code",
   "execution_count": 39,
   "metadata": {
    "collapsed": false
   },
   "outputs": [
    {
     "data": {
      "text/plain": [
       "FoldingClassifier(base_estimator=MatrixNetSkyGridClassifier(auto_stop=None, baseline_feature=None,\n",
       "              command_line_params=None, connection='skygrid',\n",
       "              dump_filename=None, features_sample_rate_per_iteration=1.0,\n",
       "              intervals=64, iterations=3000, max_features_per_iteration=6,\n",
       "              regularization=0.02, sync=False, train_features=None,\n",
       "              training_fraction=0.5, user_name='antares'),\n",
       "         features=['vflag', 'svm', 'BDphiDir', 'vcharge', 'svp', 'v_cut', 'docamax', 'ptB', 'svtau', 'ptmean', 'nnkrec', 'ipsmean'],\n",
       "         ipc_profile=None, n_folds=2, random_state=11)"
      ]
     },
     "execution_count": 39,
     "metadata": {},
     "output_type": "execute_result"
    }
   ],
   "source": [
    "mn_folding_all = FoldingClassifier(mn_base, n_folds=2, random_state=11, \n",
    "                                   features=features)\n",
    "mn_folding_all.fit(data_train, labels_train, data_train.N_sig_sw.values)"
   ]
  },
  {
   "cell_type": "code",
   "execution_count": 40,
   "metadata": {
    "collapsed": false
   },
   "outputs": [],
   "source": [
    "with open('vtx_mn.pkl', 'w') as f:\n",
    "    cPickle.dump(mn_folding_all, f)"
   ]
  },
  {
   "cell_type": "markdown",
   "metadata": {},
   "source": [
    "--------"
   ]
  },
  {
   "cell_type": "markdown",
   "metadata": {},
   "source": [
    "## Isotonic calibration to probabity p(vrt same sign|B)"
   ]
  },
  {
   "cell_type": "code",
   "execution_count": 42,
   "metadata": {
    "collapsed": true
   },
   "outputs": [],
   "source": [
    "from sklearn.isotonic import IsotonicRegression"
   ]
  },
  {
   "cell_type": "code",
   "execution_count": 103,
   "metadata": {
    "collapsed": false
   },
   "outputs": [
    {
     "name": "stdout",
     "output_type": "stream",
     "text": [
      "KFold prediction using folds column\n",
      "KFold prediction using folds column\n",
      "KFold prediction using folds column\n",
      "KFold prediction using folds column\n",
      "KFold prediction using folds column\n",
      "KFold prediction using folds column\n",
      "KFold prediction using folds column\n",
      "KFold prediction using folds column\n",
      "KFold prediction using folds column\n",
      "KFold prediction using folds column\n",
      "KFold prediction using folds column\n",
      "KFold prediction using folds column\n",
      "KFold prediction using folds column\n",
      "KFold prediction using folds column\n",
      "KFold prediction using folds column\n",
      "KFold prediction using folds column\n",
      "KFold prediction using folds column\n",
      "KFold prediction using folds column\n",
      "KFold prediction using folds column\n",
      "KFold prediction using folds column\n",
      "KFold prediction using folds column\n",
      "KFold prediction using folds column\n",
      "KFold prediction using folds column\n",
      "KFold prediction using folds column\n",
      "KFold prediction using folds column\n",
      "KFold prediction using folds column\n",
      "KFold prediction using folds column\n",
      "KFold prediction using folds column\n",
      "KFold prediction using folds column\n",
      "KFold prediction using folds column\n",
      "KFold prediction using folds column\n",
      "KFold prediction using folds column\n",
      "KFold prediction using folds column\n",
      "KFold prediction using folds column\n",
      "KFold prediction using folds column\n",
      "KFold prediction using folds column\n",
      "KFold prediction using folds column\n",
      "KFold prediction using folds column\n",
      "KFold prediction using folds column\n",
      "KFold prediction using folds column\n",
      "KFold prediction using folds column\n",
      "KFold prediction using folds column\n",
      "KFold prediction using folds column\n",
      "KFold prediction using folds column\n",
      "KFold prediction using folds column\n",
      "KFold prediction using folds column\n",
      "KFold prediction using folds column\n",
      "KFold prediction using folds column\n",
      "KFold prediction using folds column\n",
      "KFold prediction using folds column\n",
      "KFold prediction using folds column\n",
      "KFold prediction using folds column\n",
      "KFold prediction using folds column\n",
      "KFold prediction using folds column\n",
      "KFold prediction using folds column\n",
      "KFold prediction using folds column\n",
      "KFold prediction using folds column\n",
      "KFold prediction using folds column\n",
      "KFold prediction using folds column\n",
      "KFold prediction using folds column\n",
      "KFold prediction using folds column\n",
      "KFold prediction using folds column\n",
      "KFold prediction using folds column\n",
      "KFold prediction using folds column\n",
      "KFold prediction using folds column\n",
      "KFold prediction using folds column\n",
      "KFold prediction using folds column\n",
      "KFold prediction using folds column\n",
      "KFold prediction using folds column\n",
      "KFold prediction using folds column\n",
      "KFold prediction using folds column\n",
      "KFold prediction using folds column\n",
      "KFold prediction using folds column\n",
      "KFold prediction using folds column\n",
      "KFold prediction using folds column\n",
      "KFold prediction using folds column\n",
      "KFold prediction using folds column\n",
      "KFold prediction using folds column\n",
      "KFold prediction using folds column\n",
      "KFold prediction using folds column\n",
      "KFold prediction using folds column\n",
      "KFold prediction using folds column\n",
      "KFold prediction using folds column\n",
      "KFold prediction using folds column\n",
      "KFold prediction using folds column\n",
      "KFold prediction using folds column\n",
      "KFold prediction using folds column\n",
      "KFold prediction using folds column\n",
      "KFold prediction using folds column\n",
      "KFold prediction using folds column\n",
      "KFold prediction using folds column\n",
      "KFold prediction using folds column\n",
      "KFold prediction using folds column\n",
      "KFold prediction using folds column\n",
      "KFold prediction using folds column\n",
      "KFold prediction using folds column\n",
      "KFold prediction using folds column\n",
      "KFold prediction using folds column\n",
      "KFold prediction using folds column\n",
      "KFold prediction using folds column\n",
      "KFold prediction using folds column\n",
      "KFold prediction using folds column\n",
      "KFold prediction using folds column\n",
      "KFold prediction using folds column\n",
      "KFold prediction using folds column\n",
      "KFold prediction using folds column\n",
      "KFold prediction using folds column\n",
      "KFold prediction using folds column\n",
      "KFold prediction using folds column\n",
      "KFold prediction using folds column\n",
      "KFold prediction using folds column\n",
      "KFold prediction using folds column\n",
      "KFold prediction using folds column\n",
      "KFold prediction using folds column\n",
      "KFold prediction using folds column\n",
      "KFold prediction using folds column\n",
      "KFold prediction using folds column\n",
      "KFold prediction using folds column\n",
      "KFold prediction using folds column\n",
      "KFold prediction using folds column\n",
      "KFold prediction using folds column\n",
      "KFold prediction using folds column\n",
      "KFold prediction using folds column\n",
      "KFold prediction using folds column\n",
      "KFold prediction using folds column\n",
      "KFold prediction using folds column\n",
      "KFold prediction using folds column\n",
      "KFold prediction using folds column\n",
      "KFold prediction using folds column\n",
      "KFold prediction using folds column\n",
      "KFold prediction using folds column\n",
      "KFold prediction using folds column\n",
      "KFold prediction using folds column\n",
      "KFold prediction using folds column\n",
      "KFold prediction using folds column\n",
      "KFold prediction using folds column\n",
      "KFold prediction using folds column\n",
      "KFold prediction using folds column\n",
      "KFold prediction using folds column\n",
      "KFold prediction using folds column\n",
      "KFold prediction using folds column\n",
      "KFold prediction using folds column\n",
      "KFold prediction using folds column\n",
      "KFold prediction using folds column\n",
      "KFold prediction using folds column\n",
      "KFold prediction using folds column\n",
      "KFold prediction using folds column\n",
      "KFold prediction using folds column\n",
      "KFold prediction using folds column\n",
      "KFold prediction using folds column\n",
      "KFold prediction using folds column\n",
      "KFold prediction using folds column\n",
      "KFold prediction using folds column\n",
      "KFold prediction using folds column\n",
      "KFold prediction using folds column\n",
      "KFold prediction using folds column\n",
      "KFold prediction using folds column\n",
      "KFold prediction using folds column\n",
      "KFold prediction using folds column\n",
      "KFold prediction using folds column\n",
      "KFold prediction using folds column\n",
      "KFold prediction using folds column\n",
      "KFold prediction using folds column\n",
      "KFold prediction using folds column\n",
      "KFold prediction using folds column\n",
      "KFold prediction using folds column\n",
      "KFold prediction using folds column\n",
      "KFold prediction using folds column\n",
      "KFold prediction using folds column\n",
      "KFold prediction using folds column\n",
      "KFold prediction using folds column\n",
      "KFold prediction using folds column\n",
      "KFold prediction using folds column\n",
      "KFold prediction using folds column\n",
      "KFold prediction using folds column\n",
      "KFold prediction using folds column\n",
      "KFold prediction using folds column\n",
      "KFold prediction using folds column\n",
      "KFold prediction using folds column\n",
      "KFold prediction using folds column\n",
      "KFold prediction using folds column\n",
      "KFold prediction using folds column\n",
      "KFold prediction using folds column\n",
      "KFold prediction using folds column\n",
      "KFold prediction using folds column\n",
      "KFold prediction using folds column\n",
      "KFold prediction using folds column\n",
      "KFold prediction using folds column\n",
      "KFold prediction using folds column\n",
      "KFold prediction using folds column\n",
      "KFold prediction using folds column\n",
      "KFold prediction using folds column\n",
      "KFold prediction using folds column\n",
      "KFold prediction using folds column\n",
      "KFold prediction using folds column\n",
      "KFold prediction using folds column\n",
      "KFold prediction using folds column\n",
      "KFold prediction using folds column\n",
      "KFold prediction using folds column\n",
      "KFold prediction using folds column\n"
     ]
    }
   ],
   "source": [
    "iso_calibs = []\n",
    "aucs = []\n",
    "D2 = []\n",
    "est = mn_folding\n",
    "for k in range(100):\n",
    "    data_calib, data_test, labels_calib, labels_test = train_test_split_group(data_test_gl['event'],\n",
    "                                                                              data_test_gl, \n",
    "                                                                              labels_test_gl, \n",
    "                                                                              train_size=0.5)\n",
    "    probs_sign_sel = est.predict_proba(data_calib)[:, 1]\n",
    "    calib_probs_sel = IsotonicRegression(y_min=0, y_max=1, out_of_bounds='clip')\n",
    "    calib_probs_sel.fit(probs_sign_sel, labels_calib)\n",
    "    iso_calibs.append(calib_probs_sel)\n",
    "    probs_sign_test = mn_folding.predict_proba(data_test)[:, 1]\n",
    "    w_test = data_test.N_sig_sw.values\n",
    "    aucs.append(roc_auc_score(labels_test, probs_sign_test, sample_weight=w_test))\n",
    "    probs_sign_test_calib = calib_probs_sel.transform(probs_sign_test)\n",
    "    alpha = (1 - 2 * (1 - probs_sign_test_calib))**2\n",
    "    D2.append(sum(alpha * w_test) / sum(w_test))"
   ]
  },
  {
   "cell_type": "code",
   "execution_count": 104,
   "metadata": {
    "collapsed": false
   },
   "outputs": [
    {
     "name": "stdout",
     "output_type": "stream",
     "text": [
      "0.544597252323 3.5559580865e-06\n"
     ]
    }
   ],
   "source": [
    "print numpy.mean(aucs), numpy.var(aucs)"
   ]
  },
  {
   "cell_type": "code",
   "execution_count": 105,
   "metadata": {
    "collapsed": false
   },
   "outputs": [
    {
     "data": {
      "text/plain": [
       "[<matplotlib.lines.Line2D at 0xc2f0850>]"
      ]
     },
     "execution_count": 105,
     "metadata": {},
     "output_type": "execute_result"
    },
    {
     "data": {
      "image/png": "[encoded data removed]",
      "text/plain": [
       "<matplotlib.figure.Figure at 0x6bf1850>"
      ]
     },
     "metadata": {},
     "output_type": "display_data"
    }
   ],
   "source": [
    "x = numpy.linspace(0, 1, 100)\n",
    "plot(x, calib_probs.transform(x))\n",
    "plot(x, calib_probs_sel.transform(x))"
   ]
  },
  {
   "cell_type": "code",
   "execution_count": 106,
   "metadata": {
    "collapsed": false
   },
   "outputs": [
    {
     "data": {
      "image/png": "[encoded data removed]",
      "text/plain": [
       "<matplotlib.figure.Figure at 0x864da10>"
      ]
     },
     "metadata": {},
     "output_type": "display_data"
    }
   ],
   "source": [
    "hist(probs_sign_test[labels_test == 1], bins=60, alpha=0.4, normed=True)\n",
    "hist(probs_sign_test[labels_test == 0], bins=60, alpha=0.4, normed=True)\n",
    "pass"
   ]
  },
  {
   "cell_type": "code",
   "execution_count": 107,
   "metadata": {
    "collapsed": false
   },
   "outputs": [
    {
     "data": {
      "image/png": "[encoded data removed]",
      "text/plain": [
       "<matplotlib.figure.Figure at 0x74f6190>"
      ]
     },
     "metadata": {},
     "output_type": "display_data"
    }
   ],
   "source": [
    "hist(probs_sign_test_calib[labels_test == 1], bins=60, normed=True, alpha=0.4)\n",
    "hist(probs_sign_test_calib[labels_test == 0], bins=60, normed=True, alpha=0.4)\n",
    "pass"
   ]
  },
  {
   "cell_type": "code",
   "execution_count": 135,
   "metadata": {
    "collapsed": false
   },
   "outputs": [
    {
     "data": {
      "text/plain": [
       "0.87505303351718289"
      ]
     },
     "execution_count": 135,
     "metadata": {},
     "output_type": "execute_result"
    }
   ],
   "source": [
    "sum(labels_test == 1) * 1. / sum(labels_test == 0 )"
   ]
  },
  {
   "cell_type": "code",
   "execution_count": 111,
   "metadata": {
    "collapsed": false
   },
   "outputs": [
    {
     "data": {
      "text/plain": [
       "(0.011633884674103636, 5.0381047745462486e-07)"
      ]
     },
     "execution_count": 111,
     "metadata": {},
     "output_type": "execute_result"
    }
   ],
   "source": [
    "numpy.mean(D2), numpy.var(D2)"
   ]
  },
  {
   "cell_type": "markdown",
   "metadata": {},
   "source": [
    "## Compute D2"
   ]
  },
  {
   "cell_type": "code",
   "execution_count": 108,
   "metadata": {
    "collapsed": false
   },
   "outputs": [
    {
     "data": {
      "text/plain": [
       "(0.76783638849084002, 5.0381047745462486e-07)"
      ]
     },
     "execution_count": 108,
     "metadata": {},
     "output_type": "execute_result"
    }
   ],
   "source": [
    "numpy.mean(D2), numpy.var(D2)"
   ]
  },
  {
   "cell_type": "code",
   "execution_count": 109,
   "metadata": {
    "collapsed": true
   },
   "outputs": [],
   "source": [
    "with open('vtx_iso.pkl', 'w') as f:\n",
    "    cPickle.dump(iso_calibs, f)"
   ]
  },
  {
   "cell_type": "markdown",
   "metadata": {},
   "source": [
    "---------------------"
   ]
  }
 ],
 "metadata": {
  "kernelspec": {
   "display_name": "Python 2",
   "language": "python",
   "name": "python2"
  },
  "language_info": {
   "codemirror_mode": {
    "name": "ipython",
    "version": 2
   },
   "file_extension": ".py",
   "mimetype": "text/x-python",
   "name": "python",
   "nbconvert_exporter": "python",
   "pygments_lexer": "ipython2",
   "version": "2.7.3"
  }
 },
 "nbformat": 4,
 "nbformat_minor": 0
}
