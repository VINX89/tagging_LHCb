{
 "cells": [
  {
   "cell_type": "code",
   "execution_count": 1,
   "metadata": {
    "collapsed": false
   },
   "outputs": [
    {
     "name": "stdout",
     "output_type": "stream",
     "text": [
      "Populating the interactive namespace from numpy and matplotlib\n"
     ]
    }
   ],
   "source": [
    "%pylab inline"
   ]
  },
  {
   "cell_type": "markdown",
   "metadata": {},
   "source": [
    "##Import"
   ]
  },
  {
   "cell_type": "code",
   "execution_count": 2,
   "metadata": {
    "collapsed": false
   },
   "outputs": [],
   "source": [
    "import pandas\n",
    "import numexpr\n",
    "import numpy\n",
    "from rep_ef.estimators import MatrixNetSkyGridClassifier\n",
    "from rep.metaml import FoldingClassifier\n",
    "from sklearn.ensemble import RandomForestClassifier\n",
    "from sklearn.metrics import roc_curve, roc_auc_score"
   ]
  },
  {
   "cell_type": "code",
   "execution_count": 3,
   "metadata": {
    "collapsed": false
   },
   "outputs": [],
   "source": [
    "%run utils.py"
   ]
  },
  {
   "cell_type": "markdown",
   "metadata": {},
   "source": [
    "## Reading initial data"
   ]
  },
  {
   "cell_type": "code",
   "execution_count": 5,
   "metadata": {
    "collapsed": false
   },
   "outputs": [],
   "source": [
    "data = pandas.read_csv('../../datasets/Tagging/Vertices.csv', sep='\\t')"
   ]
  },
  {
   "cell_type": "markdown",
   "metadata": {},
   "source": [
    "## Define label\n",
    "`label` = `signB` * `signVtx`\n",
    "* the highest output means that this is same sign B as vtx (right tagged) - label 1\n",
    "* the lowest output means that this is opposite sign B than vtx (wrong tagged) - label 0"
   ]
  },
  {
   "cell_type": "code",
   "execution_count": 6,
   "metadata": {
    "collapsed": false
   },
   "outputs": [
    {
     "ename": "AttributeError",
     "evalue": "'DataFrame' object has no attribute 'signB'",
     "output_type": "error",
     "traceback": [
      "\u001b[1;31m---------------------------------------------------------------------------\u001b[0m",
      "\u001b[1;31mAttributeError\u001b[0m                            Traceback (most recent call last)",
      "\u001b[1;32m<ipython-input-6-e1836818ffce>\u001b[0m in \u001b[0;36m<module>\u001b[1;34m()\u001b[0m\n\u001b[1;32m----> 1\u001b[1;33m \u001b[0mdata\u001b[0m\u001b[1;33m[\u001b[0m\u001b[1;34m'label'\u001b[0m\u001b[1;33m]\u001b[0m \u001b[1;33m=\u001b[0m \u001b[1;33m(\u001b[0m\u001b[0mdata\u001b[0m\u001b[1;33m.\u001b[0m\u001b[0msignB\u001b[0m\u001b[1;33m.\u001b[0m\u001b[0mvalues\u001b[0m \u001b[1;33m*\u001b[0m \u001b[0mdata\u001b[0m\u001b[1;33m.\u001b[0m\u001b[0msignVtx\u001b[0m\u001b[1;33m.\u001b[0m\u001b[0mvalues\u001b[0m \u001b[1;33m>\u001b[0m \u001b[1;36m0\u001b[0m\u001b[1;33m)\u001b[0m \u001b[1;33m*\u001b[0m \u001b[1;36m1\u001b[0m\u001b[1;33m\u001b[0m\u001b[0m\n\u001b[0m",
      "\u001b[1;32m/moosefs/ipython_env/local/lib/python2.7/site-packages/pandas/core/generic.pyc\u001b[0m in \u001b[0;36m__getattr__\u001b[1;34m(self, name)\u001b[0m\n\u001b[0;32m   1841\u001b[0m                 \u001b[1;32mreturn\u001b[0m \u001b[0mself\u001b[0m\u001b[1;33m[\u001b[0m\u001b[0mname\u001b[0m\u001b[1;33m]\u001b[0m\u001b[1;33m\u001b[0m\u001b[0m\n\u001b[0;32m   1842\u001b[0m             raise AttributeError(\"'%s' object has no attribute '%s'\" %\n\u001b[1;32m-> 1843\u001b[1;33m                                  (type(self).__name__, name))\n\u001b[0m\u001b[0;32m   1844\u001b[0m \u001b[1;33m\u001b[0m\u001b[0m\n\u001b[0;32m   1845\u001b[0m     \u001b[1;32mdef\u001b[0m \u001b[0m__setattr__\u001b[0m\u001b[1;33m(\u001b[0m\u001b[0mself\u001b[0m\u001b[1;33m,\u001b[0m \u001b[0mname\u001b[0m\u001b[1;33m,\u001b[0m \u001b[0mvalue\u001b[0m\u001b[1;33m)\u001b[0m\u001b[1;33m:\u001b[0m\u001b[1;33m\u001b[0m\u001b[0m\n",
      "\u001b[1;31mAttributeError\u001b[0m: 'DataFrame' object has no attribute 'signB'"
     ]
    }
   ],
   "source": [
    "data['label'] = (data.signB.values * data.signVtx.values > 0) * 1"
   ]
  },
  {
   "cell_type": "code",
   "execution_count": 6,
   "metadata": {
    "collapsed": false
   },
   "outputs": [
    {
     "data": {
      "text/html": [
       "<div style=\"max-height:1000px;max-width:1500px;overflow:auto;\">\n",
       "<table border=\"1\" class=\"dataframe\">\n",
       "  <thead>\n",
       "    <tr style=\"text-align: right;\">\n",
       "      <th></th>\n",
       "      <th>run</th>\n",
       "      <th>event</th>\n",
       "      <th>No</th>\n",
       "      <th>mult</th>\n",
       "      <th>nnkrec</th>\n",
       "      <th>Bmass</th>\n",
       "      <th>ptB</th>\n",
       "      <th>vflag</th>\n",
       "      <th>ptmean</th>\n",
       "      <th>ipsmean</th>\n",
       "      <th>...</th>\n",
       "      <th>svm</th>\n",
       "      <th>svp</th>\n",
       "      <th>BDphiDir</th>\n",
       "      <th>svtau</th>\n",
       "      <th>docamax</th>\n",
       "      <th>signB</th>\n",
       "      <th>signVtx</th>\n",
       "      <th>N_sig_sw</th>\n",
       "      <th>v_cut</th>\n",
       "      <th>label</th>\n",
       "    </tr>\n",
       "  </thead>\n",
       "  <tbody>\n",
       "    <tr>\n",
       "      <th>0</th>\n",
       "      <td> 115839</td>\n",
       "      <td> 490856995</td>\n",
       "      <td> 0</td>\n",
       "      <td> 19</td>\n",
       "      <td> 3</td>\n",
       "      <td> 5.27051</td>\n",
       "      <td> 0.682494</td>\n",
       "      <td> 5</td>\n",
       "      <td> 0.612396</td>\n",
       "      <td>  2.82952</td>\n",
       "      <td>...</td>\n",
       "      <td> 8.090450</td>\n",
       "      <td> 234.8170</td>\n",
       "      <td>-1.014500</td>\n",
       "      <td> 0.848175</td>\n",
       "      <td> 0.011098</td>\n",
       "      <td>-1</td>\n",
       "      <td>-1</td>\n",
       "      <td> 1.034010</td>\n",
       "      <td> 0</td>\n",
       "      <td> 1</td>\n",
       "    </tr>\n",
       "    <tr>\n",
       "      <th>1</th>\n",
       "      <td> 115839</td>\n",
       "      <td> 822264706</td>\n",
       "      <td> 0</td>\n",
       "      <td> 10</td>\n",
       "      <td> 2</td>\n",
       "      <td> 5.28157</td>\n",
       "      <td> 8.309650</td>\n",
       "      <td> 2</td>\n",
       "      <td> 0.438413</td>\n",
       "      <td>  4.65750</td>\n",
       "      <td>...</td>\n",
       "      <td> 0.483020</td>\n",
       "      <td>  20.8185</td>\n",
       "      <td> 0.390429</td>\n",
       "      <td> 4.783480</td>\n",
       "      <td> 0.000000</td>\n",
       "      <td>-1</td>\n",
       "      <td> 1</td>\n",
       "      <td> 1.091840</td>\n",
       "      <td> 0</td>\n",
       "      <td> 0</td>\n",
       "    </tr>\n",
       "    <tr>\n",
       "      <th>2</th>\n",
       "      <td> 115839</td>\n",
       "      <td> 831865829</td>\n",
       "      <td> 0</td>\n",
       "      <td> 50</td>\n",
       "      <td> 6</td>\n",
       "      <td> 5.21344</td>\n",
       "      <td> 1.150550</td>\n",
       "      <td> 2</td>\n",
       "      <td> 0.560779</td>\n",
       "      <td>  5.98035</td>\n",
       "      <td>...</td>\n",
       "      <td> 1.332900</td>\n",
       "      <td>  33.1151</td>\n",
       "      <td>-0.039351</td>\n",
       "      <td> 0.837979</td>\n",
       "      <td> 0.000000</td>\n",
       "      <td>-1</td>\n",
       "      <td>-1</td>\n",
       "      <td>-0.442372</td>\n",
       "      <td> 0</td>\n",
       "      <td> 1</td>\n",
       "    </tr>\n",
       "    <tr>\n",
       "      <th>3</th>\n",
       "      <td> 115839</td>\n",
       "      <td> 835954815</td>\n",
       "      <td> 0</td>\n",
       "      <td> 21</td>\n",
       "      <td> 2</td>\n",
       "      <td> 5.27418</td>\n",
       "      <td> 5.809860</td>\n",
       "      <td> 2</td>\n",
       "      <td> 0.574965</td>\n",
       "      <td> 15.80120</td>\n",
       "      <td>...</td>\n",
       "      <td> 0.508337</td>\n",
       "      <td>  32.2970</td>\n",
       "      <td> 0.013839</td>\n",
       "      <td> 9.961430</td>\n",
       "      <td> 0.000000</td>\n",
       "      <td> 1</td>\n",
       "      <td> 1</td>\n",
       "      <td> 1.071050</td>\n",
       "      <td> 0</td>\n",
       "      <td> 1</td>\n",
       "    </tr>\n",
       "    <tr>\n",
       "      <th>4</th>\n",
       "      <td> 115839</td>\n",
       "      <td>  68238381</td>\n",
       "      <td> 0</td>\n",
       "      <td> 16</td>\n",
       "      <td> 4</td>\n",
       "      <td> 5.23794</td>\n",
       "      <td> 2.200840</td>\n",
       "      <td> 5</td>\n",
       "      <td> 0.818976</td>\n",
       "      <td>  4.17709</td>\n",
       "      <td>...</td>\n",
       "      <td> 6.816220</td>\n",
       "      <td>  88.1742</td>\n",
       "      <td>-1.098810</td>\n",
       "      <td> 1.092720</td>\n",
       "      <td> 0.009995</td>\n",
       "      <td>-1</td>\n",
       "      <td> 1</td>\n",
       "      <td>-0.263734</td>\n",
       "      <td> 0</td>\n",
       "      <td> 0</td>\n",
       "    </tr>\n",
       "  </tbody>\n",
       "</table>\n",
       "<p>5 rows × 21 columns</p>\n",
       "</div>"
      ],
      "text/plain": [
       "      run      event  No  mult  nnkrec    Bmass       ptB  vflag    ptmean  \\\n",
       "0  115839  490856995   0    19       3  5.27051  0.682494      5  0.612396   \n",
       "1  115839  822264706   0    10       2  5.28157  8.309650      2  0.438413   \n",
       "2  115839  831865829   0    50       6  5.21344  1.150550      2  0.560779   \n",
       "3  115839  835954815   0    21       2  5.27418  5.809860      2  0.574965   \n",
       "4  115839   68238381   0    16       4  5.23794  2.200840      5  0.818976   \n",
       "\n",
       "    ipsmean    ...          svm       svp  BDphiDir     svtau   docamax  \\\n",
       "0   2.82952    ...     8.090450  234.8170 -1.014500  0.848175  0.011098   \n",
       "1   4.65750    ...     0.483020   20.8185  0.390429  4.783480  0.000000   \n",
       "2   5.98035    ...     1.332900   33.1151 -0.039351  0.837979  0.000000   \n",
       "3  15.80120    ...     0.508337   32.2970  0.013839  9.961430  0.000000   \n",
       "4   4.17709    ...     6.816220   88.1742 -1.098810  1.092720  0.009995   \n",
       "\n",
       "   signB  signVtx  N_sig_sw  v_cut  label  \n",
       "0     -1       -1  1.034010      0      1  \n",
       "1     -1        1  1.091840      0      0  \n",
       "2     -1       -1 -0.442372      0      1  \n",
       "3      1        1  1.071050      0      1  \n",
       "4     -1        1 -0.263734      0      0  \n",
       "\n",
       "[5 rows x 21 columns]"
      ]
     },
     "execution_count": 6,
     "metadata": {},
     "output_type": "execute_result"
    }
   ],
   "source": [
    "data.head()"
   ]
  },
  {
   "cell_type": "code",
   "execution_count": 7,
   "metadata": {
    "collapsed": false
   },
   "outputs": [
    {
     "data": {
      "text/plain": [
       "{'Events': 609984, 'tracks': 610050}"
      ]
     },
     "execution_count": 7,
     "metadata": {},
     "output_type": "execute_result"
    }
   ],
   "source": [
    "statistics(data)"
   ]
  },
  {
   "cell_type": "code",
   "execution_count": 8,
   "metadata": {
    "collapsed": false
   },
   "outputs": [],
   "source": [
    "N_all = 742632.88650423975 "
   ]
  },
  {
   "cell_type": "code",
   "execution_count": 9,
   "metadata": {
    "collapsed": false
   },
   "outputs": [
    {
     "data": {
      "text/plain": [
       "(0.56906249670983988, 0.00087537248932607946)"
      ]
     },
     "execution_count": 9,
     "metadata": {},
     "output_type": "execute_result"
    }
   ],
   "source": [
    "N_pass = sum([gr['N_sig_sw'].values[0] for _, gr in data.groupby('event')])\n",
    "eff_tag = 1. * N_pass / N_all\n",
    "eff_delta = sqrt(N_pass) / N_all\n",
    "eff_tag, eff_delta"
   ]
  },
  {
   "cell_type": "markdown",
   "metadata": {},
   "source": [
    "### define B-like events for training and others for prediction"
   ]
  },
  {
   "cell_type": "code",
   "execution_count": 10,
   "metadata": {
    "collapsed": false
   },
   "outputs": [
    {
     "data": {
      "text/plain": [
       "{'Events': 353423, 'tracks': 353443}"
      ]
     },
     "execution_count": 10,
     "metadata": {},
     "output_type": "execute_result"
    }
   ],
   "source": [
    "sweight_threshold = 1.\n",
    "data_sw_pass = data[data.N_sig_sw > sweight_threshold]\n",
    "data_sw_not_pass = data[data.N_sig_sw <= sweight_threshold]\n",
    "statistics(data_sw_pass)"
   ]
  },
  {
   "cell_type": "markdown",
   "metadata": {},
   "source": [
    "# Find good vtx to define sign B"
   ]
  },
  {
   "cell_type": "markdown",
   "metadata": {},
   "source": [
    "### Define features"
   ]
  },
  {
   "cell_type": "code",
   "execution_count": 11,
   "metadata": {
    "collapsed": false
   },
   "outputs": [
    {
     "data": {
      "text/plain": [
       "['vflag',\n",
       " 'svm',\n",
       " 'BDphiDir',\n",
       " 'vcharge',\n",
       " 'svp',\n",
       " 'v_cut',\n",
       " 'docamax',\n",
       " 'ptB',\n",
       " 'svtau',\n",
       " 'ptmean',\n",
       " 'nnkrec',\n",
       " 'ipsmean']"
      ]
     },
     "execution_count": 11,
     "metadata": {},
     "output_type": "execute_result"
    }
   ],
   "source": [
    "features = list(set(data.columns) - {'run', 'event', 'No', 'signB', 'signVtx', 'N_sig_sw', 'Bmass', 'mult', \n",
    "                                     'PIDNNp', 'PIDNNpi', 'label'})\n",
    "features"
   ]
  },
  {
   "cell_type": "markdown",
   "metadata": {},
   "source": [
    "### 2-folding random forest selection for right tagged events"
   ]
  },
  {
   "cell_type": "code",
   "execution_count": 12,
   "metadata": {
    "collapsed": false
   },
   "outputs": [
    {
     "data": {
      "text/plain": [
       "FoldingClassifier(base_estimator=RandomForestClassifier(bootstrap=True, class_weight=None, criterion='gini',\n",
       "            max_depth=8, max_features='auto', max_leaf_nodes=None,\n",
       "            min_samples_leaf=50, min_samples_split=2,\n",
       "            min_weight_fraction_leaf=0.0, n_estimators=300, n_jobs=8,\n",
       "            oob_score=False, random_state=None, verbose=0,\n",
       "            warm_start=False),\n",
       "         features=['vflag', 'svm', 'BDphiDir', 'vcharge', 'svp', 'v_cut', 'docamax', 'ptB', 'svtau', 'ptmean', 'nnkrec', 'ipsmean'],\n",
       "         ipc_profile=None, n_folds=2, random_state=13)"
      ]
     },
     "execution_count": 12,
     "metadata": {},
     "output_type": "execute_result"
    }
   ],
   "source": [
    "base = RandomForestClassifier(n_estimators=300, max_depth=8, min_samples_leaf=50, n_jobs=8)\n",
    "est_choose_RT = FoldingClassifier(base, features=features, random_state=13)\n",
    "est_choose_RT.fit(data_sw_pass, data_sw_pass.label, data_sw_pass.N_sig_sw)"
   ]
  },
  {
   "cell_type": "markdown",
   "metadata": {},
   "source": [
    "### AUC"
   ]
  },
  {
   "cell_type": "code",
   "execution_count": 13,
   "metadata": {
    "collapsed": false
   },
   "outputs": [
    {
     "name": "stdout",
     "output_type": "stream",
     "text": [
      "KFold prediction using folds column\n"
     ]
    },
    {
     "data": {
      "text/plain": [
       "0.54004502188541548"
      ]
     },
     "execution_count": 13,
     "metadata": {},
     "output_type": "execute_result"
    }
   ],
   "source": [
    "probs_RT = est_choose_RT.predict_proba(data_sw_pass)[:, 1]\n",
    "roc_auc_score(data_sw_pass.label.values, probs_RT, sample_weight=data_sw_pass.N_sig_sw.values)"
   ]
  },
  {
   "cell_type": "markdown",
   "metadata": {},
   "source": [
    "### ROC"
   ]
  },
  {
   "cell_type": "code",
   "execution_count": 14,
   "metadata": {
    "collapsed": false
   },
   "outputs": [
    {
     "data": {
      "text/plain": [
       "[<matplotlib.lines.Line2D at 0xa8a70d0>]"
      ]
     },
     "execution_count": 14,
     "metadata": {},
     "output_type": "execute_result"
    },
    {
     "data": {
      "image/png": "[encoded data removed]",
      "text/plain": [
       "<matplotlib.figure.Figure at 0xa8a7150>"
      ]
     },
     "metadata": {},
     "output_type": "display_data"
    }
   ],
   "source": [
    "fpr, tpr, _ = roc_curve(data_sw_pass.label.values, probs_RT, sample_weight=data_sw_pass.N_sig_sw.values)\n",
    "plot(fpr, tpr)\n",
    "plot([0, 1], [0, 1])"
   ]
  },
  {
   "cell_type": "code",
   "execution_count": 15,
   "metadata": {
    "collapsed": false
   },
   "outputs": [
    {
     "data": {
      "text/html": [
       "<div style=\"max-height:1000px;max-width:1500px;overflow:auto;\">\n",
       "<table border=\"1\" class=\"dataframe\">\n",
       "  <thead>\n",
       "    <tr style=\"text-align: right;\">\n",
       "      <th></th>\n",
       "      <th>feature</th>\n",
       "      <th>importance</th>\n",
       "    </tr>\n",
       "  </thead>\n",
       "  <tbody>\n",
       "    <tr>\n",
       "      <th>0 </th>\n",
       "      <td>  vcharge</td>\n",
       "      <td> 1.000000</td>\n",
       "    </tr>\n",
       "    <tr>\n",
       "      <th>1 </th>\n",
       "      <td>   ptmean</td>\n",
       "      <td> 0.458140</td>\n",
       "    </tr>\n",
       "    <tr>\n",
       "      <th>2 </th>\n",
       "      <td>      svm</td>\n",
       "      <td> 0.438448</td>\n",
       "    </tr>\n",
       "    <tr>\n",
       "      <th>3 </th>\n",
       "      <td>  ipsmean</td>\n",
       "      <td> 0.358734</td>\n",
       "    </tr>\n",
       "    <tr>\n",
       "      <th>4 </th>\n",
       "      <td> BDphiDir</td>\n",
       "      <td> 0.312262</td>\n",
       "    </tr>\n",
       "    <tr>\n",
       "      <th>5 </th>\n",
       "      <td>      svp</td>\n",
       "      <td> 0.304238</td>\n",
       "    </tr>\n",
       "    <tr>\n",
       "      <th>6 </th>\n",
       "      <td>    svtau</td>\n",
       "      <td> 0.293690</td>\n",
       "    </tr>\n",
       "    <tr>\n",
       "      <th>7 </th>\n",
       "      <td>      ptB</td>\n",
       "      <td> 0.262408</td>\n",
       "    </tr>\n",
       "    <tr>\n",
       "      <th>8 </th>\n",
       "      <td>  docamax</td>\n",
       "      <td> 0.254775</td>\n",
       "    </tr>\n",
       "    <tr>\n",
       "      <th>9 </th>\n",
       "      <td>    vflag</td>\n",
       "      <td> 0.128696</td>\n",
       "    </tr>\n",
       "    <tr>\n",
       "      <th>10</th>\n",
       "      <td>   nnkrec</td>\n",
       "      <td> 0.062842</td>\n",
       "    </tr>\n",
       "    <tr>\n",
       "      <th>11</th>\n",
       "      <td>    v_cut</td>\n",
       "      <td> 0.022353</td>\n",
       "    </tr>\n",
       "  </tbody>\n",
       "</table>\n",
       "</div>"
      ],
      "text/plain": [
       "     feature  importance\n",
       "0    vcharge    1.000000\n",
       "1     ptmean    0.458140\n",
       "2        svm    0.438448\n",
       "3    ipsmean    0.358734\n",
       "4   BDphiDir    0.312262\n",
       "5        svp    0.304238\n",
       "6      svtau    0.293690\n",
       "7        ptB    0.262408\n",
       "8    docamax    0.254775\n",
       "9      vflag    0.128696\n",
       "10    nnkrec    0.062842\n",
       "11     v_cut    0.022353"
      ]
     },
     "execution_count": 15,
     "metadata": {},
     "output_type": "execute_result"
    }
   ],
   "source": [
    "imp = numpy.sum([est.feature_importances_ for est in est_choose_RT.estimators], axis=0)\n",
    "pandas.DataFrame({'importance': -sort(-imp) / max(imp), \n",
    "                  'feature': numpy.array(est_choose_RT.features)[numpy.argsort(-imp)]})"
   ]
  },
  {
   "cell_type": "markdown",
   "metadata": {},
   "source": [
    "## Distributions for output"
   ]
  },
  {
   "cell_type": "code",
   "execution_count": 16,
   "metadata": {
    "collapsed": false
   },
   "outputs": [
    {
     "name": "stdout",
     "output_type": "stream",
     "text": [
      "KFold prediction using folds column\n"
     ]
    },
    {
     "data": {
      "image/png": "[encoded data removed]",
      "text/plain": [
       "<matplotlib.figure.Figure at 0xa733650>"
      ]
     },
     "metadata": {},
     "output_type": "display_data"
    },
    {
     "data": {
      "image/png": "[encoded data removed]",
      "text/plain": [
       "<matplotlib.figure.Figure at 0xa754610>"
      ]
     },
     "metadata": {},
     "output_type": "display_data"
    }
   ],
   "source": [
    "probs = est_choose_RT.predict_proba(data_sw_pass)\n",
    "flat_ss = run_flat_probs(probs, data_sw_pass.label.values, data_sw_pass.N_sig_sw.values, label=1)\n",
    "flat_os = run_flat_probs(probs, data_sw_pass.label.values, data_sw_pass.N_sig_sw.values, label=0)"
   ]
  },
  {
   "cell_type": "code",
   "execution_count": 17,
   "metadata": {
    "collapsed": false
   },
   "outputs": [
    {
     "data": {
      "image/png": "[encoded data removed]",
      "text/plain": [
       "<matplotlib.figure.Figure at 0xc522850>"
      ]
     },
     "metadata": {},
     "output_type": "display_data"
    }
   ],
   "source": [
    "hist(probs[data_sw_pass.label.values == 1][:, 1], bins=60, normed=True, alpha=0.4)\n",
    "hist(probs[data_sw_pass.label.values == 0][:, 1], bins=60, normed=True, alpha=0.4)\n",
    "pass"
   ]
  },
  {
   "cell_type": "markdown",
   "metadata": {},
   "source": [
    "## Select good svr"
   ]
  },
  {
   "cell_type": "code",
   "execution_count": 19,
   "metadata": {
    "collapsed": false
   },
   "outputs": [],
   "source": [
    "mask = ((flat_ss(probs[:, 1]) < 0.6) & (data_sw_pass.label == 0)) | ((flat_os(probs[:, 1]) > 0.4) & (data_sw_pass.label == 1))\n",
    "data_sw_pass_selected = data_sw_pass[mask]\n",
    "data_sw_pass_not_selected = data_sw_pass[~mask]"
   ]
  },
  {
   "cell_type": "code",
   "execution_count": 20,
   "metadata": {
    "collapsed": false
   },
   "outputs": [
    {
     "data": {
      "text/plain": [
       "{'Events': 230407, 'tracks': 230414}"
      ]
     },
     "execution_count": 20,
     "metadata": {},
     "output_type": "execute_result"
    }
   ],
   "source": [
    "statistics(data_sw_pass_selected)"
   ]
  },
  {
   "cell_type": "code",
   "execution_count": 21,
   "metadata": {
    "collapsed": false
   },
   "outputs": [
    {
     "data": {
      "text/plain": [
       "FoldingClassifier(base_estimator=MatrixNetSkyGridClassifier(auto_stop=None, baseline_feature=None,\n",
       "              command_line_params=None, connection='skygrid',\n",
       "              dump_filename=None, features_sample_rate_per_iteration=1.0,\n",
       "              intervals=64, iterations=3000, max_features_per_iteration=6,\n",
       "              regularization=0.02, sync=False, train_features=None,\n",
       "              training_fraction=0.5, user_name='antares'),\n",
       "         features=['vflag', 'svm', 'BDphiDir', 'vcharge', 'svp', 'v_cut', 'docamax', 'ptB', 'svtau', 'ptmean', 'nnkrec', 'ipsmean'],\n",
       "         ipc_profile=None, n_folds=2, random_state=11)"
      ]
     },
     "execution_count": 21,
     "metadata": {},
     "output_type": "execute_result"
    }
   ],
   "source": [
    "from rep_ef.estimators import MatrixNetSkyGridClassifier\n",
    "mn_base = MatrixNetSkyGridClassifier(connection='skygrid', user_name='antares',\n",
    "                                     iterations=3000, regularization=0.02, sync=False)\n",
    "mn_folding_rf = FoldingClassifier(mn_base, n_folds=2, random_state=11, \n",
    "                                  features=features)\n",
    "mn_folding_rf.fit(data_sw_pass_selected, data_sw_pass_selected.label, data_sw_pass_selected.N_sig_sw)"
   ]
  },
  {
   "cell_type": "markdown",
   "metadata": {},
   "source": [
    "-----------"
   ]
  },
  {
   "cell_type": "markdown",
   "metadata": {},
   "source": [
    "### MN full"
   ]
  },
  {
   "cell_type": "code",
   "execution_count": 22,
   "metadata": {
    "collapsed": false
   },
   "outputs": [
    {
     "data": {
      "text/plain": [
       "FoldingClassifier(base_estimator=MatrixNetSkyGridClassifier(auto_stop=None, baseline_feature=None,\n",
       "              command_line_params=None, connection='skygrid',\n",
       "              dump_filename=None, features_sample_rate_per_iteration=1.0,\n",
       "              intervals=64, iterations=3000, max_features_per_iteration=6,\n",
       "              regularization=0.02, sync=False, train_features=None,\n",
       "              training_fraction=0.5, user_name='antares'),\n",
       "         features=['vflag', 'svm', 'BDphiDir', 'vcharge', 'svp', 'v_cut', 'docamax', 'ptB', 'svtau', 'ptmean', 'nnkrec', 'ipsmean'],\n",
       "         ipc_profile=None, n_folds=2, random_state=11)"
      ]
     },
     "execution_count": 22,
     "metadata": {},
     "output_type": "execute_result"
    }
   ],
   "source": [
    "from rep_ef.estimators import MatrixNetSkyGridClassifier\n",
    "mn_base = MatrixNetSkyGridClassifier(connection='skygrid', user_name='antares',\n",
    "                                     iterations=3000, regularization=0.02, sync=False)\n",
    "\n",
    "mn_folding = FoldingClassifier(mn_base, n_folds=2, random_state=11, \n",
    "                               features=features)\n",
    "mn_folding.fit(data_sw_pass, data_sw_pass.label, data_sw_pass.N_sig_sw)"
   ]
  },
  {
   "cell_type": "code",
   "execution_count": 23,
   "metadata": {
    "collapsed": false
   },
   "outputs": [
    {
     "name": "stdout",
     "output_type": "stream",
     "text": [
      "KFold prediction using folds column\n"
     ]
    },
    {
     "data": {
      "text/plain": [
       "0.53776509747631951"
      ]
     },
     "execution_count": 23,
     "metadata": {},
     "output_type": "execute_result"
    }
   ],
   "source": [
    "probs_RT = mn_folding.predict_proba(data_sw_pass)[:, 1]\n",
    "roc_auc_score(data_sw_pass.label.values, probs_RT, sample_weight=data_sw_pass.N_sig_sw.values)"
   ]
  },
  {
   "cell_type": "markdown",
   "metadata": {},
   "source": [
    "### XGB full"
   ]
  },
  {
   "cell_type": "code",
   "execution_count": 24,
   "metadata": {
    "collapsed": false
   },
   "outputs": [
    {
     "data": {
      "text/plain": [
       "FoldingClassifier(base_estimator=XGBoostClassifier(base_score=0.5, colsample=1.0, eta=0.01, features=None,\n",
       "         gamma=None, max_depth=3, min_child_weight=1.0, missing=-999.0,\n",
       "         n_estimators=500, nthreads=4, num_feature=None, random_state=0,\n",
       "         scale_pos_weight=1.0, subsample=0.3, verbose=0),\n",
       "         features=['vflag', 'svm', 'BDphiDir', 'vcharge', 'svp', 'v_cut', 'docamax', 'ptB', 'svtau', 'ptmean', 'nnkrec', 'ipsmean'],\n",
       "         ipc_profile=None, n_folds=2, random_state=11)"
      ]
     },
     "execution_count": 24,
     "metadata": {},
     "output_type": "execute_result"
    }
   ],
   "source": [
    "from rep.estimators import XGBoostClassifier\n",
    "xgb_base = XGBoostClassifier(colsample=1.0, eta=0.01, nthreads=4, \n",
    "                             n_estimators=500, subsample=0.3, max_depth=3) \n",
    "xgb_folding = FoldingClassifier(xgb_base, n_folds=2, random_state=11, \n",
    "                                features=features)\n",
    "xgb_folding.fit(data_sw_pass, data_sw_pass.label, data_sw_pass.N_sig_sw)"
   ]
  },
  {
   "cell_type": "code",
   "execution_count": 25,
   "metadata": {
    "collapsed": false
   },
   "outputs": [
    {
     "name": "stdout",
     "output_type": "stream",
     "text": [
      "KFold prediction using folds column\n"
     ]
    },
    {
     "data": {
      "text/plain": [
       "0.53867676768348827"
      ]
     },
     "execution_count": 25,
     "metadata": {},
     "output_type": "execute_result"
    }
   ],
   "source": [
    "probs_RT = xgb_folding.predict_proba(data_sw_pass)[:, 1]\n",
    "roc_auc_score(data_sw_pass.label.values, probs_RT, sample_weight=data_sw_pass.N_sig_sw.values)"
   ]
  },
  {
   "cell_type": "markdown",
   "metadata": {},
   "source": [
    "--------"
   ]
  },
  {
   "cell_type": "markdown",
   "metadata": {},
   "source": [
    "## Isotonic calibration to probabity p(vrt same sign|B)"
   ]
  },
  {
   "cell_type": "code",
   "execution_count": 26,
   "metadata": {
    "collapsed": true
   },
   "outputs": [],
   "source": [
    "models = []"
   ]
  },
  {
   "cell_type": "markdown",
   "metadata": {},
   "source": [
    "### MN + rf selection"
   ]
  },
  {
   "cell_type": "code",
   "execution_count": 27,
   "metadata": {
    "collapsed": false
   },
   "outputs": [
    {
     "name": "stdout",
     "output_type": "stream",
     "text": [
      "KFold prediction using folds column\n",
      "KFold prediction using folds column\n",
      "KFold prediction using folds column\n"
     ]
    }
   ],
   "source": [
    "temp_p0 = est_choose_RT.predict_proba(data_sw_pass_selected)[:, 1]\n",
    "temp_p1 = est_choose_RT.predict_proba(data_sw_pass_not_selected)[:, 1]\n",
    "temp_p2 = est_choose_RT.predict_proba(data_sw_not_pass)[:, 1]"
   ]
  },
  {
   "cell_type": "code",
   "execution_count": 28,
   "metadata": {
    "collapsed": true
   },
   "outputs": [],
   "source": [
    "data_sw_not_pass['tag'] = (flat_os(temp_p2) > 0.4) | (flat_ss(temp_p2) < 0.6)\n",
    "data_sw_pass_not_selected['tag'] = (flat_os(temp_p1) > 0.4) | (flat_ss(temp_p1) < 0.6)\n",
    "data_sw_pass_selected['tag'] = (flat_os(temp_p0) > 0.4) | (flat_ss(temp_p0) < 0.6)"
   ]
  },
  {
   "cell_type": "code",
   "execution_count": 29,
   "metadata": {
    "collapsed": false
   },
   "outputs": [
    {
     "name": "stdout",
     "output_type": "stream",
     "text": [
      "KFold prediction using folds column\n",
      "KFold prediction using folds column\n",
      "KFold prediction using folds column\n"
     ]
    }
   ],
   "source": [
    "D2, alpha, aucs, iso_calibs = calibration(mn_folding_rf, \n",
    "                                          [data_sw_pass_selected, data_sw_pass_not_selected, data_sw_not_pass], \n",
    "                                          steps=30)"
   ]
  },
  {
   "cell_type": "code",
   "execution_count": 30,
   "metadata": {
    "collapsed": false
   },
   "outputs": [
    {
     "name": "stdout",
     "output_type": "stream",
     "text": [
      "AUC 0.54438025994 8.68026076791e-07\n"
     ]
    }
   ],
   "source": [
    "print 'AUC', numpy.mean(aucs), numpy.var(aucs)"
   ]
  },
  {
   "cell_type": "code",
   "execution_count": 31,
   "metadata": {
    "collapsed": false
   },
   "outputs": [],
   "source": [
    "N_pass_rf = sum([gr['N_sig_sw'].values[0] for _, gr in data_sw_not_pass[data_sw_not_pass.tag].groupby('event')])\n",
    "N_pass_rf += sum([gr['N_sig_sw'].values[0] for _, gr in data_sw_pass_selected.groupby('event')])\n",
    "models.append(result_table(1. * N_pass_rf / N_all, sqrt(N_pass_rf) / N_all, D2, 'rf+mn'))"
   ]
  },
  {
   "cell_type": "markdown",
   "metadata": {},
   "source": [
    "### MN"
   ]
  },
  {
   "cell_type": "code",
   "execution_count": 32,
   "metadata": {
    "collapsed": false
   },
   "outputs": [
    {
     "name": "stderr",
     "output_type": "stream",
     "text": [
      "/mnt/mfs/ipython_env/lib/python2.7/site-packages/IPython/kernel/__main__.py:2: SettingWithCopyWarning: A value is trying to be set on a copy of a slice from a DataFrame.\n",
      "Try using .loc[row_index,col_indexer] = value instead\n",
      "  from IPython.kernel.zmq import kernelapp as app\n"
     ]
    }
   ],
   "source": [
    "data_sw_pass['tag'] = True\n",
    "data_sw_not_pass['tag'] = True"
   ]
  },
  {
   "cell_type": "code",
   "execution_count": 33,
   "metadata": {
    "collapsed": false
   },
   "outputs": [
    {
     "name": "stdout",
     "output_type": "stream",
     "text": [
      "KFold prediction using folds column\n",
      "KFold prediction using folds column\n"
     ]
    }
   ],
   "source": [
    "D2, alpha, aucs, iso_calibs = calibration(mn_folding, \n",
    "                                          [data_sw_pass, data_sw_not_pass], \n",
    "                                          steps=30)"
   ]
  },
  {
   "cell_type": "code",
   "execution_count": 34,
   "metadata": {
    "collapsed": false
   },
   "outputs": [
    {
     "name": "stdout",
     "output_type": "stream",
     "text": [
      "AUC 0.539277549159 9.16863308511e-07\n"
     ]
    }
   ],
   "source": [
    "print 'AUC', numpy.mean(aucs), numpy.var(aucs)"
   ]
  },
  {
   "cell_type": "code",
   "execution_count": 35,
   "metadata": {
    "collapsed": false
   },
   "outputs": [],
   "source": [
    "models.append(result_table(eff_tag, eff_delta, D2, 'mn'))"
   ]
  },
  {
   "cell_type": "markdown",
   "metadata": {},
   "source": [
    "### XGB"
   ]
  },
  {
   "cell_type": "code",
   "execution_count": 36,
   "metadata": {
    "collapsed": false
   },
   "outputs": [
    {
     "name": "stderr",
     "output_type": "stream",
     "text": [
      "/mnt/mfs/ipython_env/lib/python2.7/site-packages/IPython/kernel/__main__.py:1: SettingWithCopyWarning: A value is trying to be set on a copy of a slice from a DataFrame.\n",
      "Try using .loc[row_index,col_indexer] = value instead\n",
      "  if __name__ == '__main__':\n",
      "/mnt/mfs/ipython_env/lib/python2.7/site-packages/IPython/kernel/__main__.py:2: SettingWithCopyWarning: A value is trying to be set on a copy of a slice from a DataFrame.\n",
      "Try using .loc[row_index,col_indexer] = value instead\n",
      "  from IPython.kernel.zmq import kernelapp as app\n"
     ]
    }
   ],
   "source": [
    "data_sw_pass['tag'] = True\n",
    "data_sw_not_pass['tag'] = True"
   ]
  },
  {
   "cell_type": "code",
   "execution_count": 37,
   "metadata": {
    "collapsed": false
   },
   "outputs": [
    {
     "name": "stdout",
     "output_type": "stream",
     "text": [
      "KFold prediction using folds column\n",
      "KFold prediction using folds column\n"
     ]
    }
   ],
   "source": [
    "D2, alpha, aucs, iso_calibs = calibration(xgb_folding, \n",
    "                                          [data_sw_pass, data_sw_not_pass], \n",
    "                                          steps=30)"
   ]
  },
  {
   "cell_type": "code",
   "execution_count": 38,
   "metadata": {
    "collapsed": false
   },
   "outputs": [
    {
     "name": "stdout",
     "output_type": "stream",
     "text": [
      "AUC 0.539871871981 6.75843456841e-07\n"
     ]
    }
   ],
   "source": [
    "print 'AUC', numpy.mean(aucs), numpy.var(aucs)"
   ]
  },
  {
   "cell_type": "code",
   "execution_count": 39,
   "metadata": {
    "collapsed": false
   },
   "outputs": [],
   "source": [
    "models.append(result_table(eff_tag, eff_delta, D2, 'xgb'))"
   ]
  },
  {
   "cell_type": "markdown",
   "metadata": {},
   "source": [
    "### MN + forest pretrain"
   ]
  },
  {
   "cell_type": "code",
   "execution_count": 41,
   "metadata": {
    "collapsed": false
   },
   "outputs": [
    {
     "name": "stdout",
     "output_type": "stream",
     "text": [
      "KFold prediction using folds column\n",
      "KFold prediction using folds column\n",
      "KFold prediction using folds column\n"
     ]
    }
   ],
   "source": [
    "D2, alpha, aucs, iso_calibs = calibration(mn_folding_rf, \n",
    "                                          [data_sw_pass_selected, data_sw_pass_not_selected, data_sw_not_pass], \n",
    "                                          steps=30)"
   ]
  },
  {
   "cell_type": "code",
   "execution_count": 42,
   "metadata": {
    "collapsed": false
   },
   "outputs": [
    {
     "name": "stdout",
     "output_type": "stream",
     "text": [
      "AUC 0.544403357402 7.41125421868e-07\n"
     ]
    }
   ],
   "source": [
    "print 'AUC', numpy.mean(aucs), numpy.var(aucs)"
   ]
  },
  {
   "cell_type": "code",
   "execution_count": 43,
   "metadata": {
    "collapsed": true
   },
   "outputs": [],
   "source": [
    "models.append(result_table(eff_tag, eff_delta, D2, 'rf-mn'))"
   ]
  },
  {
   "cell_type": "markdown",
   "metadata": {},
   "source": [
    "# Results"
   ]
  },
  {
   "cell_type": "code",
   "execution_count": 44,
   "metadata": {
    "collapsed": false
   },
   "outputs": [
    {
     "data": {
      "text/html": [
       "<div style=\"max-height:1000px;max-width:1500px;overflow:auto;\">\n",
       "<table border=\"1\" class=\"dataframe\">\n",
       "  <thead>\n",
       "    <tr style=\"text-align: right;\">\n",
       "      <th></th>\n",
       "      <th>name</th>\n",
       "      <th>$\\epsilon_{tag}, \\%$</th>\n",
       "      <th>$\\Delta \\epsilon_{tag}, \\%$</th>\n",
       "      <th>$D^2$</th>\n",
       "      <th>$\\Delta D^2$</th>\n",
       "      <th>$\\epsilon, \\%$</th>\n",
       "      <th>$\\Delta \\epsilon, \\%$</th>\n",
       "    </tr>\n",
       "  </thead>\n",
       "  <tbody>\n",
       "    <tr>\n",
       "      <th>0</th>\n",
       "      <td> rf+mn</td>\n",
       "      <td> 39.15696</td>\n",
       "      <td> 0.072614</td>\n",
       "      <td> 0.009733</td>\n",
       "      <td> 8.803167e-08</td>\n",
       "      <td> 0.381096</td>\n",
       "      <td> 0.000707</td>\n",
       "    </tr>\n",
       "    <tr>\n",
       "      <th>0</th>\n",
       "      <td>    mn</td>\n",
       "      <td> 56.90625</td>\n",
       "      <td> 0.087537</td>\n",
       "      <td> 0.009786</td>\n",
       "      <td> 8.165022e-08</td>\n",
       "      <td> 0.556875</td>\n",
       "      <td> 0.000857</td>\n",
       "    </tr>\n",
       "    <tr>\n",
       "      <th>0</th>\n",
       "      <td>   xgb</td>\n",
       "      <td> 56.90625</td>\n",
       "      <td> 0.087537</td>\n",
       "      <td> 0.009697</td>\n",
       "      <td> 5.815497e-08</td>\n",
       "      <td> 0.551846</td>\n",
       "      <td> 0.000849</td>\n",
       "    </tr>\n",
       "    <tr>\n",
       "      <th>0</th>\n",
       "      <td> rf-mn</td>\n",
       "      <td> 56.90625</td>\n",
       "      <td> 0.087537</td>\n",
       "      <td> 0.009775</td>\n",
       "      <td> 1.044949e-07</td>\n",
       "      <td> 0.556247</td>\n",
       "      <td> 0.000856</td>\n",
       "    </tr>\n",
       "  </tbody>\n",
       "</table>\n",
       "</div>"
      ],
      "text/plain": [
       "    name  $\\epsilon_{tag}, \\%$  $\\Delta \\epsilon_{tag}, \\%$     $D^2$  \\\n",
       "0  rf+mn              39.15696                     0.072614  0.009733   \n",
       "0     mn              56.90625                     0.087537  0.009786   \n",
       "0    xgb              56.90625                     0.087537  0.009697   \n",
       "0  rf-mn              56.90625                     0.087537  0.009775   \n",
       "\n",
       "   $\\Delta D^2$  $\\epsilon, \\%$  $\\Delta \\epsilon, \\%$  \n",
       "0  8.803167e-08        0.381096               0.000707  \n",
       "0  8.165022e-08        0.556875               0.000857  \n",
       "0  5.815497e-08        0.551846               0.000849  \n",
       "0  1.044949e-07        0.556247               0.000856  "
      ]
     },
     "execution_count": 44,
     "metadata": {},
     "output_type": "execute_result"
    }
   ],
   "source": [
    "pandas.concat(models)"
   ]
  },
  {
   "cell_type": "code",
   "execution_count": null,
   "metadata": {
    "collapsed": true
   },
   "outputs": [],
   "source": []
  }
 ],
 "metadata": {
  "kernelspec": {
   "display_name": "Python 2",
   "language": "python",
   "name": "python2"
  },
  "language_info": {
   "codemirror_mode": {
    "name": "ipython",
    "version": 2
   },
   "file_extension": ".py",
   "mimetype": "text/x-python",
   "name": "python",
   "nbconvert_exporter": "python",
   "pygments_lexer": "ipython2",
   "version": "2.7.3"
  }
 },
 "nbformat": 4,
 "nbformat_minor": 0
}
