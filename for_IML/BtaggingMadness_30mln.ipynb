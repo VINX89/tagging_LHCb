{
 "cells": [
  {
   "cell_type": "markdown",
   "metadata": {},
   "source": [
    "## Немного безумия\n",
    "\n",
    "смотрим, работают ли attention models"
   ]
  },
  {
   "cell_type": "code",
   "execution_count": 1,
   "metadata": {
    "collapsed": true
   },
   "outputs": [],
   "source": [
    "%matplotlib inline\n",
    "from matplotlib import pyplot as plt"
   ]
  },
  {
   "cell_type": "code",
   "execution_count": 2,
   "metadata": {
    "collapsed": true
   },
   "outputs": [],
   "source": [
    "import numpy\n",
    "import root_numpy\n",
    "# import pandas - no pandas today \n",
    "from astropy.table import Table\n",
    "from sklearn.metrics import roc_auc_score\n",
    "from scipy.special import logit"
   ]
  },
  {
   "cell_type": "code",
   "execution_count": 3,
   "metadata": {
    "collapsed": true
   },
   "outputs": [],
   "source": [
    "# theano imports\n",
    "import theano\n",
    "from theano import tensor as T\n",
    "from theano.tensor.nnet import softplus\n",
    "from theano.tensor.extra_ops import bincount"
   ]
  },
  {
   "cell_type": "code",
   "execution_count": 4,
   "metadata": {
    "collapsed": true
   },
   "outputs": [],
   "source": [
    "features = [\n",
    "    # track itself\n",
    "    'eta', 'partPt', 'partP',\n",
    "    # track and B\n",
    "    'cos_diff_phi', 'proj', 'diff_eta', 'ptB', 'R_separation', 'proj_T', 'proj_T2',\n",
    "    # PID\n",
    "    'PIDNNe',  'PIDNNk',  'PIDNNm', 'ghostProb', \n",
    "    # IP\n",
    "    'IP', 'IPerr', 'IPs', 'IPPU', \n",
    "    # Other\n",
    "    'veloch', 'partlcs', 'EOverP', \n",
    "    # deleted as probably inappropriate:\n",
    "    # 'phi',  \n",
    "    # 'diff_pt', 'nnkrec',\n",
    "    # 'max_PID_mu_e', 'max_PID_mu_k', 'sum_PID_k_e', 'sum_PID_mu_e', 'max_PID_k_e', 'sum_PID_mu_k', \n",
    "]"
   ]
  },
  {
   "cell_type": "code",
   "execution_count": 5,
   "metadata": {
    "collapsed": false
   },
   "outputs": [],
   "source": [
    "# data = Table(root_numpy.root2array('../datasets/MC/csv/WG/Bu_JPsiK/2012/Tracks.root', stop=3000))\n",
    "data = Table(root_numpy.root2array('../datasets/MC/csv/WG/Bu_JPsiK/2012/Tracks.root', stop=30000000))\n",
    "\n",
    "data['label'] = (data['signB'] * data['signTrack']) > 0\n",
    "\n",
    "data['cos_diff_phi'] = numpy.cos(data['diff_phi'])\n",
    "data['diff_pt'] = data['ptB'] - data['partPt']\n",
    "data['R_separation'] = numpy.sqrt(data['diff_eta'] ** 2 + (1 - data['cos_diff_phi']) ** 2)\n",
    "# projection in transverse plane\n",
    "data['proj_T'] = data['cos_diff_phi'] * data['partPt']\n",
    "data['proj_T2'] = data['cos_diff_phi'] * data['partPt'] * data['ptB']\n",
    "\n",
    "data = data[data['ghostProb'] < 0.4]\n",
    "data = data[numpy.isfinite(data['IPs'])]"
   ]
  },
  {
   "cell_type": "code",
   "execution_count": 6,
   "metadata": {
    "collapsed": false
   },
   "outputs": [],
   "source": [
    "groups = data['run'] + data['event'].astype(int) * (data['run'].max() + 1)\n",
    "_, data['group_column'] = numpy.unique(groups, return_inverse=True)\n",
    "data = data.group_by('group_column')"
   ]
  },
  {
   "cell_type": "code",
   "execution_count": 7,
   "metadata": {
    "collapsed": true
   },
   "outputs": [],
   "source": [
    "import sys\n",
    "sys.path.insert(0, '../')"
   ]
  },
  {
   "cell_type": "markdown",
   "metadata": {},
   "source": [
    "## Вспомогательные функции"
   ]
  },
  {
   "cell_type": "code",
   "execution_count": 8,
   "metadata": {
    "collapsed": true
   },
   "outputs": [],
   "source": [
    "def compute_weights(data, attention):\n",
    "    \"\"\"\n",
    "    Weights are normalized over events. Higher convenience - higher weights\n",
    "    \"\"\"\n",
    "    assert len(numpy.shape(attention)) == 1\n",
    "    weights = numpy.exp(attention)\n",
    "    sum_weights = numpy.bincount(data['group_column'], weights=weights)\n",
    "    return weights / (sum_weights[data['group_column']] + 1)"
   ]
  },
  {
   "cell_type": "code",
   "execution_count": 9,
   "metadata": {
    "collapsed": true
   },
   "outputs": [],
   "source": [
    "def compute_auc_with_attention(data, track_proba, track_attention):\n",
    "    assert track_proba.shape == (len(data), 2)\n",
    "    assert len(track_attention) == len(data)\n",
    "    tracks_weights = compute_weights(data, track_attention)\n",
    "    event_predictions = numpy.bincount(\n",
    "        data['group_column'], weights=logit(track_proba[:, 1]) * data['signTrack'] * tracks_weights)\n",
    "    B_signs = data['signB'].group_by(data['group_column']).groups.aggregate(numpy.mean)\n",
    "    return roc_auc_score(B_signs, event_predictions)"
   ]
  },
  {
   "cell_type": "markdown",
   "metadata": {},
   "source": [
    "## Просто поезд + inclusive"
   ]
  },
  {
   "cell_type": "code",
   "execution_count": 10,
   "metadata": {
    "collapsed": false
   },
   "outputs": [
    {
     "name": "stderr",
     "output_type": "stream",
     "text": [
      "/mnt/mfs/miniconda/envs/rep_py2/lib/python2.7/site-packages/sklearn/cross_validation.py:44: DeprecationWarning: This module was deprecated in version 0.18 in favor of the model_selection module into which all the refactored classes and functions are moved. Also note that the interface of the new CV iterators are different from that of this module. This module will be removed in 0.20.\n",
      "  \"This module will be removed in 0.20.\", DeprecationWarning)\n"
     ]
    }
   ],
   "source": [
    "from folding_group import FoldingGroupClassifier\n",
    "from decisiontrain import DecisionTrainClassifier"
   ]
  },
  {
   "cell_type": "code",
   "execution_count": 11,
   "metadata": {
    "collapsed": true
   },
   "outputs": [],
   "source": [
    "base_clf = DecisionTrainClassifier(n_estimators=1000, learning_rate=0.03, n_threads=len(features), \n",
    "                                   train_features=features, max_features=0.9)"
   ]
  },
  {
   "cell_type": "code",
   "execution_count": 12,
   "metadata": {
    "collapsed": false
   },
   "outputs": [
    {
     "name": "stdout",
     "output_type": "stream",
     "text": [
      "CPU times: user 45min 53s, sys: 8min 24s, total: 54min 18s\n",
      "Wall time: 8min 20s\n"
     ]
    }
   ],
   "source": [
    "%%time\n",
    "dt = FoldingGroupClassifier(base_clf, n_folds=2, group_feature='group_column')\n",
    "_ = dt.fit(data[features + ['group_column']].to_pandas(), data['label'])"
   ]
  },
  {
   "cell_type": "code",
   "execution_count": 13,
   "metadata": {
    "collapsed": false
   },
   "outputs": [
    {
     "name": "stdout",
     "output_type": "stream",
     "text": [
      "KFold prediction using folds column\n"
     ]
    },
    {
     "data": {
      "text/plain": [
       "0.66057126874375682"
      ]
     },
     "execution_count": 13,
     "metadata": {},
     "output_type": "execute_result"
    }
   ],
   "source": [
    "# raw quality\n",
    "B_signs = data['signB'].group_by(data['group_column']).groups.aggregate(numpy.mean)\n",
    "track_proba = dt.predict_proba(data.to_pandas())\n",
    "predictions = numpy.bincount(data['group_column'], weights=logit(track_proba[:, 1]) * data['signTrack'])\n",
    "roc_auc_score(B_signs, predictions)"
   ]
  },
  {
   "cell_type": "code",
   "execution_count": 14,
   "metadata": {
    "collapsed": false
   },
   "outputs": [
    {
     "name": "stdout",
     "output_type": "stream",
     "text": [
      "KFold prediction using folds column\n"
     ]
    },
    {
     "data": {
      "text/plain": [
       "0.66281719228620928"
      ]
     },
     "execution_count": 14,
     "metadata": {},
     "output_type": "execute_result"
    }
   ],
   "source": [
    "compute_auc_with_attention(data, \n",
    "                           track_proba=dt.predict_proba(data.to_pandas()), \n",
    "                           track_attention=numpy.zeros(len(data)) - 2)"
   ]
  },
  {
   "cell_type": "code",
   "execution_count": 15,
   "metadata": {
    "collapsed": false
   },
   "outputs": [
    {
     "name": "stdout",
     "output_type": "stream",
     "text": [
      "KFold prediction using folds column\n"
     ]
    },
    {
     "data": {
      "text/plain": [
       "0.66281719228620928"
      ]
     },
     "execution_count": 15,
     "metadata": {},
     "output_type": "execute_result"
    }
   ],
   "source": [
    "compute_auc_with_attention(data, \n",
    "                           track_proba=dt.predict_proba(data.to_pandas()), \n",
    "                           track_attention=numpy.zeros(len(data)) - 2)"
   ]
  },
  {
   "cell_type": "code",
   "execution_count": 16,
   "metadata": {
    "collapsed": false
   },
   "outputs": [
    {
     "name": "stdout",
     "output_type": "stream",
     "text": [
      "CPU times: user 47min 23s, sys: 9min 8s, total: 56min 31s\n",
      "Wall time: 9min 24s\n"
     ]
    }
   ],
   "source": [
    "%%time\n",
    "_n_tracks = numpy.bincount(data['group_column'])[data['group_column']] \n",
    "_weights = (_n_tracks > 5) & (_n_tracks < 40)\n",
    "dt_on_filtered = FoldingGroupClassifier(base_clf, n_folds=2, group_feature='group_column')\n",
    "_ = dt_on_filtered.fit(data[features + ['group_column']].to_pandas(), data['label'], sample_weight=_weights)"
   ]
  },
  {
   "cell_type": "code",
   "execution_count": 17,
   "metadata": {
    "collapsed": false
   },
   "outputs": [
    {
     "name": "stdout",
     "output_type": "stream",
     "text": [
      "KFold prediction using folds column\n"
     ]
    },
    {
     "data": {
      "text/plain": [
       "0.66283443034982881"
      ]
     },
     "execution_count": 17,
     "metadata": {},
     "output_type": "execute_result"
    }
   ],
   "source": [
    "# on filtered dataset\n",
    "compute_auc_with_attention(data, \n",
    "                           track_proba=dt_on_filtered.predict_proba(data.to_pandas()),\n",
    "                           track_attention=numpy.zeros(len(data)) - 2)"
   ]
  },
  {
   "cell_type": "code",
   "execution_count": 18,
   "metadata": {
    "collapsed": false
   },
   "outputs": [
    {
     "data": {
      "text/plain": [
       "[(0.010999999999999999, 'eta'),\n",
       " (0.010999999999999999, 'partlcs'),\n",
       " (0.035000000000000003, 'diff_eta'),\n",
       " (0.037000000000000005, 'proj_T2'),\n",
       " (0.037999999999999999, 'cos_diff_phi'),\n",
       " (0.037999999999999999, 'ptB'),\n",
       " (0.044999999999999998, 'IPerr'),\n",
       " (0.047, 'veloch'),\n",
       " (0.055999999999999994, 'EOverP'),\n",
       " (0.056000000000000001, 'ghostProb'),\n",
       " (0.059999999999999998, 'IPPU'),\n",
       " (0.066000000000000003, 'partP'),\n",
       " (0.072000000000000008, 'proj_T'),\n",
       " (0.08299999999999999, 'R_separation'),\n",
       " (0.109, 'PIDNNe'),\n",
       " (0.13800000000000001, 'PIDNNm'),\n",
       " (0.189, 'IP'),\n",
       " (0.20499999999999999, 'IPs'),\n",
       " (0.215, 'proj'),\n",
       " (0.23399999999999999, 'PIDNNk'),\n",
       " (0.255, 'partPt')]"
      ]
     },
     "execution_count": 18,
     "metadata": {},
     "output_type": "execute_result"
    }
   ],
   "source": [
    "sorted(zip(dt.estimators[0].feature_importances_ + dt.estimators[1].feature_importances_, features))"
   ]
  },
  {
   "cell_type": "code",
   "execution_count": 19,
   "metadata": {
    "collapsed": false
   },
   "outputs": [
    {
     "data": {
      "text/plain": [
       "[(0.010999999999999999, 'eta'),\n",
       " (0.010999999999999999, 'partlcs'),\n",
       " (0.035000000000000003, 'diff_eta'),\n",
       " (0.037000000000000005, 'proj_T2'),\n",
       " (0.037999999999999999, 'cos_diff_phi'),\n",
       " (0.037999999999999999, 'ptB'),\n",
       " (0.044999999999999998, 'IPerr'),\n",
       " (0.047, 'veloch'),\n",
       " (0.055999999999999994, 'EOverP'),\n",
       " (0.056000000000000001, 'ghostProb'),\n",
       " (0.059999999999999998, 'IPPU'),\n",
       " (0.066000000000000003, 'partP'),\n",
       " (0.072000000000000008, 'proj_T'),\n",
       " (0.08299999999999999, 'R_separation'),\n",
       " (0.109, 'PIDNNe'),\n",
       " (0.13800000000000001, 'PIDNNm'),\n",
       " (0.189, 'IP'),\n",
       " (0.20499999999999999, 'IPs'),\n",
       " (0.215, 'proj'),\n",
       " (0.23399999999999999, 'PIDNNk'),\n",
       " (0.255, 'partPt')]"
      ]
     },
     "execution_count": 19,
     "metadata": {},
     "output_type": "execute_result"
    }
   ],
   "source": [
    "sorted(zip(dt.estimators[0].feature_importances_ + dt.estimators[1].feature_importances_, features))"
   ]
  },
  {
   "cell_type": "markdown",
   "metadata": {},
   "source": [
    "# Длинный поезд"
   ]
  },
  {
   "cell_type": "code",
   "execution_count": 20,
   "metadata": {
    "collapsed": true
   },
   "outputs": [],
   "source": [
    "long_dt = FoldingGroupClassifier(\n",
    "    DecisionTrainClassifier(n_estimators=3000, learning_rate=0.02, max_features=0.9,\n",
    "                            n_threads=len(features), train_features=features), \n",
    "    n_folds=2, group_feature='group_column')"
   ]
  },
  {
   "cell_type": "code",
   "execution_count": 21,
   "metadata": {
    "collapsed": false
   },
   "outputs": [],
   "source": [
    "_ = long_dt.fit(data[features + ['group_column']].to_pandas(), \n",
    "                data['label'], \n",
    "                sample_weight=compute_weights(data, numpy.zeros(len(data)) - 2.))"
   ]
  },
  {
   "cell_type": "code",
   "execution_count": 22,
   "metadata": {
    "collapsed": false
   },
   "outputs": [
    {
     "name": "stdout",
     "output_type": "stream",
     "text": [
      "KFold prediction using folds column\n",
      "0.649884278779\n",
      "0.660581502153\n",
      "0.662401725219\n",
      "0.663233151088\n",
      "0.663442556187\n",
      "0.663394922291\n"
     ]
    }
   ],
   "source": [
    "for i, p in enumerate(long_dt.staged_predict_proba(data.to_pandas()), 1):\n",
    "    if i % 5 == 0:\n",
    "        print compute_auc_with_attention(data, track_proba=p, track_attention=numpy.zeros(len(data)) - 2.)"
   ]
  },
  {
   "cell_type": "markdown",
   "metadata": {},
   "source": [
    "## Если просто взвесить обучающую выборку\n",
    "\n",
    "то есть отнормировать веса треков внутри одного события, получаем существенный прирост, если их использовать во время предсказания.\n",
    "\n",
    "При этом использование весов в тренировке - это странно"
   ]
  },
  {
   "cell_type": "code",
   "execution_count": 23,
   "metadata": {
    "collapsed": false
   },
   "outputs": [],
   "source": [
    "weights = compute_weights(data, attention=numpy.zeros(len(data)))"
   ]
  },
  {
   "cell_type": "code",
   "execution_count": 24,
   "metadata": {
    "collapsed": true
   },
   "outputs": [],
   "source": [
    "dt_simpleweights = FoldingGroupClassifier(base_clf, n_folds=2, group_feature='group_column')\n",
    "dt_simpleweights.fit(data[features + ['group_column']].to_pandas(), data['label'], sample_weight=weights);"
   ]
  },
  {
   "cell_type": "code",
   "execution_count": 25,
   "metadata": {
    "collapsed": false
   },
   "outputs": [
    {
     "name": "stdout",
     "output_type": "stream",
     "text": [
      "KFold prediction using folds column\n"
     ]
    },
    {
     "data": {
      "text/plain": [
       "0.66260082020698474"
      ]
     },
     "execution_count": 25,
     "metadata": {},
     "output_type": "execute_result"
    }
   ],
   "source": [
    "compute_auc_with_attention(data, \n",
    "                           track_proba=dt_simpleweights.predict_proba(data.to_pandas()), \n",
    "                           track_attention=numpy.zeros(len(data)))"
   ]
  },
  {
   "cell_type": "markdown",
   "metadata": {},
   "source": [
    "## Посмотрим на качество в зависимости от числа треков"
   ]
  },
  {
   "cell_type": "code",
   "execution_count": 26,
   "metadata": {
    "collapsed": true
   },
   "outputs": [],
   "source": [
    "n_tracks = numpy.bincount(data['group_column'])"
   ]
  },
  {
   "cell_type": "code",
   "execution_count": 27,
   "metadata": {
    "collapsed": false
   },
   "outputs": [
    {
     "data": {
      "text/plain": [
       "<matplotlib.text.Text at 0x7fab13ffe7d0>"
      ]
     },
     "execution_count": 27,
     "metadata": {},
     "output_type": "execute_result"
    },
    {
     "data": {
      "image/png": "[encoded data removed]",
      "text/plain": [
       "<matplotlib.figure.Figure at 0x7fab2ca346d0>"
      ]
     },
     "metadata": {},
     "output_type": "display_data"
    }
   ],
   "source": [
    "plt.plot(numpy.bincount(n_tracks) * numpy.arange(max(n_tracks) + 1))\n",
    "plt.xlabel('n_tracks in event')\n",
    "plt.ylabel('n_tracks in total')"
   ]
  },
  {
   "cell_type": "code",
   "execution_count": 28,
   "metadata": {
    "collapsed": false
   },
   "outputs": [],
   "source": [
    "# plt.plot(* zip(*(\n",
    "#         [i, roc_auc_score(B_signs[n_tracks == i], predictions[n_tracks == i])]\n",
    "#         for i in range(2, 60)\n",
    "# )))"
   ]
  },
  {
   "cell_type": "markdown",
   "metadata": {},
   "source": [
    "# Попытаемся отличить правильно предсказанные."
   ]
  },
  {
   "cell_type": "code",
   "execution_count": 29,
   "metadata": {
    "collapsed": false
   },
   "outputs": [],
   "source": [
    "correctness = logit(track_proba[:, 1]) * (2 * data['label'] - 1)"
   ]
  },
  {
   "cell_type": "code",
   "execution_count": 30,
   "metadata": {
    "collapsed": false
   },
   "outputs": [
    {
     "name": "stdout",
     "output_type": "stream",
     "text": [
      "KFold prediction using folds column\n",
      "50 KFold prediction using folds column\n",
      "0.661690653583\n",
      "KFold prediction using folds column\n",
      "60 KFold prediction using folds column\n",
      "0.662061552908\n",
      "KFold prediction using folds column\n",
      "70 KFold prediction using folds column\n",
      "0.660748379403\n",
      "KFold prediction using folds column\n",
      "80 KFold prediction using folds column\n",
      "0.658654955968\n"
     ]
    }
   ],
   "source": [
    "for percentile in [50, 60, 70, 80]:\n",
    "    dt_attention = FoldingGroupClassifier(base_clf, n_folds=2, group_feature='group_column')\n",
    "    dt_attention.fit(data[features + ['group_column']].to_pandas(), \n",
    "                     correctness > numpy.percentile(correctness, percentile))\n",
    "\n",
    "    attention = logit(dt_attention.predict_proba(data[features + ['group_column']].to_pandas())[:, 1])\n",
    "    if percentile == 70:\n",
    "        stable_attention = attention.copy()\n",
    "    attention_weights = compute_weights(data, attention)\n",
    "\n",
    "    dt_classifier = FoldingGroupClassifier(base_clf, n_folds=2, group_feature='group_column')\n",
    "    dt_classifier.fit(data[features + ['group_column']].to_pandas(), \n",
    "                      data['label'], sample_weight=attention_weights)\n",
    "\n",
    "    print percentile, compute_auc_with_attention(data, dt_classifier.predict_proba(data.to_pandas()), attention)"
   ]
  },
  {
   "cell_type": "markdown",
   "metadata": {},
   "source": [
    "## Дополнительная проверка верности корректировки веса\n",
    "пробуем, работает ли линейная корректировка веса.\n",
    "\n",
    "Да, при этом сдвиг является важным, то есть наличие нормализации порядка $e^2$"
   ]
  },
  {
   "cell_type": "code",
   "execution_count": 31,
   "metadata": {
    "collapsed": false
   },
   "outputs": [
    {
     "name": "stdout",
     "output_type": "stream",
     "text": [
      "KFold prediction using folds column\n",
      "-3 \t0.5 \t0.661327839454\n",
      "-3 \t0.675 \t0.660745030809\n",
      "-3 \t0.85 \t0.660142538988\n",
      "-3 \t1.025 \t0.659531619479\n",
      "-3 \t1.2 \t0.658919313248\n",
      "-2 \t0.5 \t0.661714029974\n",
      "-2 \t0.675 \t0.661178247078\n",
      "-2 \t0.85 \t0.660612026943\n",
      "-2 \t1.025 \t0.660030440896\n",
      "-2 \t1.2 \t0.65944330229\n",
      "-1 \t0.5 \t0.661618636182\n",
      "-1 \t0.675 \t0.661125887542\n",
      "-1 \t0.85 \t0.660594533625\n",
      "-1 \t1.025 \t0.660042541154\n",
      "-1 \t1.2 \t0.659482073589\n",
      "0 \t0.5 \t0.661381131178\n",
      "0 \t0.675 \t0.660903309288\n",
      "0 \t0.85 \t0.660383418451\n",
      "0 \t1.025 \t0.659840838786\n",
      "0 \t1.2 \t0.659288848443\n"
     ]
    }
   ],
   "source": [
    "_proba = dt.predict_proba(data.to_pandas())\n",
    "for alpha in [-3, -2, -1, 0]:\n",
    "    for beta in numpy.linspace(0.5, 1.2, 5):\n",
    "        print alpha, '\\t', beta, '\\t', compute_auc_with_attention(data, _proba, alpha + beta * stable_attention)"
   ]
  },
  {
   "cell_type": "markdown",
   "metadata": {},
   "source": [
    "## Дополнительная  проверка \n",
    "того, что взаимное обучение attention и классификатора работает. \n"
   ]
  },
  {
   "cell_type": "code",
   "execution_count": 32,
   "metadata": {
    "collapsed": false
   },
   "outputs": [
    {
     "name": "stdout",
     "output_type": "stream",
     "text": [
      "KFold prediction using folds column\n",
      "KFold prediction using folds column\n",
      "0.662609360691\n",
      "KFold prediction using folds column\n",
      "KFold prediction using folds column\n",
      "0.660602583854\n",
      "KFold prediction using folds column\n",
      "KFold prediction using folds column\n",
      "0.660905334811\n",
      "KFold prediction using folds column\n",
      "KFold prediction using folds column\n",
      "0.660813626497\n",
      "KFold prediction using folds column\n",
      "KFold prediction using folds column\n",
      "0.660784447699\n",
      "KFold prediction using folds column\n",
      "KFold prediction using folds column\n",
      "0.660819333451\n",
      "KFold prediction using folds column\n",
      "KFold prediction using folds column\n",
      "0.660824832463\n",
      "KFold prediction using folds column\n",
      "KFold prediction using folds column\n",
      "0.660780437217\n",
      "KFold prediction using folds column\n",
      "KFold prediction using folds column\n",
      "0.660655642292\n",
      "KFold prediction using folds column\n",
      "KFold prediction using folds column\n",
      "0.660558555326\n"
     ]
    }
   ],
   "source": [
    "# lazy start\n",
    "_attention = numpy.zeros(len(data))\n",
    "_correctness = numpy.zeros(len(data))\n",
    "\n",
    "for iteration in range(5):\n",
    "    dt_classifier = FoldingGroupClassifier(base_clf, n_folds=2, group_feature='group_column')\n",
    "    dt_classifier.fit(data[features + ['group_column']].to_pandas(),\n",
    "                      data['label'], sample_weight=compute_weights(data, _attention))\n",
    "    \n",
    "    _correctness = logit(dt_classifier.predict_proba(data.to_pandas())[:, 1]) * (2 * data['label'] - 1)\n",
    "    \n",
    "    print compute_auc_with_attention(data, dt_classifier.predict_proba(data.to_pandas()), _attention)\n",
    "    \n",
    "    dt_attention = FoldingGroupClassifier(base_clf, n_folds=2, group_feature='group_column')\n",
    "    dt_attention.fit(data[features + ['group_column']].to_pandas(),\n",
    "                     _correctness > numpy.percentile(_correctness, 70))\n",
    "    \n",
    "    _attention = logit(dt_attention.predict_proba(data.to_pandas())[:, 1])\n",
    "    \n",
    "    print compute_auc_with_attention(data, dt_classifier.predict_proba(data.to_pandas()), _attention)"
   ]
  },
  {
   "cell_type": "markdown",
   "metadata": {},
   "source": [
    "## Дополнительная проверка \n",
    "что обучение с приоритезацией работает. Оставялем везде по два-три трека\n",
    "\n",
    "- не работает"
   ]
  },
  {
   "cell_type": "code",
   "execution_count": 33,
   "metadata": {
    "collapsed": true
   },
   "outputs": [],
   "source": [
    "# TODO fast orders\n",
    "# from astropy.table import Column\n",
    "\n",
    "# def compute_orders(indices, predictions):\n",
    "#     '''less is better'''\n",
    "#     assert len(indices) == len(predictions)\n",
    "#     result = numpy.zeros(len(predictions))\n",
    "#     for index in numpy.unique(indices):\n",
    "#         result[indices == index] = numpy.argsort(numpy.argsort( - predictions[indices == index]))\n",
    "#     return result\n",
    "        "
   ]
  },
  {
   "cell_type": "code",
   "execution_count": 34,
   "metadata": {
    "collapsed": true
   },
   "outputs": [],
   "source": [
    "# orders = compute_orders(data['group_column'], correctness)"
   ]
  },
  {
   "cell_type": "code",
   "execution_count": 35,
   "metadata": {
    "collapsed": false
   },
   "outputs": [],
   "source": [
    "# for percentile in [60, 70, 80]:\n",
    "#     for n_tracks in [3, 5, 7]:\n",
    "#         # lazy start\n",
    "#         _attention = numpy.zeros(len(data))\n",
    "\n",
    "#         dt_classifier = FoldingGroupClassifier(base_clf, n_folds=2, group_feature='group_column')\n",
    "#         dt_classifier.fit(data[features + ['group_column']].to_pandas(),\n",
    "#                           data['label'], sample_weight=compute_weights(data, _attention))\n",
    "\n",
    "#         _correctness = logit(dt_classifier.predict_proba(data.to_pandas())[:, 1]) * (2 * data['label'] - 1)\n",
    "\n",
    "#         dt_attention = FoldingGroupClassifier(base_clf, n_folds=2, group_feature='group_column')\n",
    "#         dt_attention.fit(data[features + ['group_column']].to_pandas(),\n",
    "#                          (_correctness > numpy.percentile(_correctness, percentile)) * (orders < n_tracks) )\n",
    "\n",
    "#         _attention = logit(dt_attention.predict_proba(data.to_pandas())[:, 1])\n",
    "\n",
    "#         print n_tracks, '\\t', percentile, '\\t', \\\n",
    "#             compute_auc_with_attention(data, dt_classifier.predict_proba(data.to_pandas()), _attention)"
   ]
  },
  {
   "cell_type": "markdown",
   "metadata": {},
   "source": [
    "## Небольшое сравнение importance для моделей attention и classifier"
   ]
  },
  {
   "cell_type": "code",
   "execution_count": 36,
   "metadata": {
    "collapsed": false
   },
   "outputs": [
    {
     "data": {
      "text/plain": [
       "[(0.0030000000000000001, 'eta'),\n",
       " (0.0030000000000000001, 'partlcs'),\n",
       " (0.0070000000000000001, 'diff_eta'),\n",
       " (0.014999999999999999, 'proj_T2'),\n",
       " (0.017999999999999999, 'cos_diff_phi'),\n",
       " (0.02, 'IPPU'),\n",
       " (0.021000000000000001, 'veloch'),\n",
       " (0.023, 'EOverP'),\n",
       " (0.023, 'ghostProb'),\n",
       " (0.023, 'ptB'),\n",
       " (0.029000000000000001, 'IPerr'),\n",
       " (0.029000000000000001, 'partP'),\n",
       " (0.043999999999999997, 'proj_T'),\n",
       " (0.044999999999999998, 'R_separation'),\n",
       " (0.049000000000000002, 'PIDNNe'),\n",
       " (0.085000000000000006, 'PIDNNm'),\n",
       " (0.087999999999999995, 'IP'),\n",
       " (0.098000000000000004, 'IPs'),\n",
       " (0.115, 'proj'),\n",
       " (0.128, 'PIDNNk'),\n",
       " (0.13400000000000001, 'partPt')]"
      ]
     },
     "execution_count": 36,
     "metadata": {},
     "output_type": "execute_result"
    }
   ],
   "source": [
    "sorted(zip(dt_classifier.estimators[0].feature_importances_, features))"
   ]
  },
  {
   "cell_type": "code",
   "execution_count": 37,
   "metadata": {
    "collapsed": false
   },
   "outputs": [
    {
     "data": {
      "text/plain": [
       "[(0.0, 'partlcs'),\n",
       " (0.001, 'cos_diff_phi'),\n",
       " (0.0040000000000000001, 'eta'),\n",
       " (0.014, 'veloch'),\n",
       " (0.014999999999999999, 'diff_eta'),\n",
       " (0.017000000000000001, 'ghostProb'),\n",
       " (0.017000000000000001, 'proj_T2'),\n",
       " (0.019, 'IPPU'),\n",
       " (0.024, 'IPerr'),\n",
       " (0.024, 'PIDNNm'),\n",
       " (0.028000000000000001, 'partP'),\n",
       " (0.032000000000000001, 'EOverP'),\n",
       " (0.033000000000000002, 'R_separation'),\n",
       " (0.042999999999999997, 'ptB'),\n",
       " (0.047, 'proj_T'),\n",
       " (0.059999999999999998, 'IPs'),\n",
       " (0.063, 'PIDNNe'),\n",
       " (0.12, 'partPt'),\n",
       " (0.123, 'PIDNNk'),\n",
       " (0.156, 'proj'),\n",
       " (0.16, 'IP')]"
      ]
     },
     "execution_count": 37,
     "metadata": {},
     "output_type": "execute_result"
    }
   ],
   "source": [
    "sorted(zip(dt_attention.estimators[0].feature_importances_, features))"
   ]
  },
  {
   "cell_type": "markdown",
   "metadata": {},
   "source": [
    "# Математическая модель дальнейших действий\n",
    "\n",
    "$$ d(B+) = \\sum_{\\text{track}} d(B+ | \\text{track is tagging}) 1_\\text{track is tagging} $$"
   ]
  },
  {
   "cell_type": "code",
   "execution_count": 38,
   "metadata": {
    "collapsed": true
   },
   "outputs": [],
   "source": [
    "def loss_function(b_signs, event_indices, d_tracksign, d_is_tagging):\n",
    "    track_contributions = T.exp(d_is_tagging)\n",
    "    track_contributions /= (T.extra_ops.bincount(event_indices, track_contributions) + 1)[event_indices]\n",
    "    d_B = bincount(event_indices, d_tracksign * track_contributions)\n",
    "    return T.mean(T.exp(- b_signs * d_B))\n",
    "    # return T.mean(b_signs * d_B)"
   ]
  },
  {
   "cell_type": "code",
   "execution_count": 39,
   "metadata": {
    "collapsed": false
   },
   "outputs": [],
   "source": [
    "from sklearn.base import BaseEstimator\n",
    "class AttentionLoss(BaseEstimator):\n",
    "    def __init__(self):\n",
    "        pass\n",
    "\n",
    "    def fit(self, X, y, sample_weight=None):\n",
    "        # self.sample_weight = numpy.require(sample_weight, dtype='float32')\n",
    "        self.sample_weight = numpy.ones(len(X))\n",
    "        self.y_signed = numpy.require(2 * y - 1, dtype='float32')\n",
    "        \n",
    "        _, first_positions, event_indices = numpy.unique(X['group_column'].values, return_index=True, return_inverse=True)\n",
    "        self.b_signs = numpy.array(X['signB'].values)[first_positions]\n",
    "        \n",
    "        d_is_tagging_var = T.vector()\n",
    "        self.Loss = loss_function(\n",
    "            self.b_signs, event_indices, \n",
    "            d_tracksign=numpy.array(X['trackpredictions'].values),\n",
    "            d_is_tagging=d_is_tagging_var\n",
    "        )\n",
    "        self.grad = theano.function([d_is_tagging_var], - T.grad(self.Loss, d_is_tagging_var))\n",
    "        \n",
    "        return self\n",
    "\n",
    "    def prepare_tree_params(self, pred):\n",
    "        _grad = numpy.sign(self.grad(pred))\n",
    "        return _grad / numpy.std(_grad), self.sample_weight"
   ]
  },
  {
   "cell_type": "code",
   "execution_count": 40,
   "metadata": {
    "collapsed": false
   },
   "outputs": [
    {
     "name": "stdout",
     "output_type": "stream",
     "text": [
      "KFold prediction using folds column\n"
     ]
    }
   ],
   "source": [
    "data2 = data.copy()\n",
    "data2['trackpredictions'] = logit(dt.predict_proba(data.to_pandas())[:, 1])"
   ]
  },
  {
   "cell_type": "code",
   "execution_count": 41,
   "metadata": {
    "collapsed": false
   },
   "outputs": [],
   "source": [
    "# _base = DecisionTrainClassifier(loss=AttentionLoss(), n_estimators=1000, \n",
    "#                                 learning_rate=0.03, n_threads=16, train_features=features)\n",
    "\n",
    "# _features = features + ['group_column', 'signB', 'trackpredictions']\n",
    "# dt_grouping = FoldingGroupClassifier(_base, n_folds=2, group_feature='group_column', train_features=_features)\n",
    "\n",
    "# dt_grouping.fit(data2[_features].to_pandas(), \n",
    "#                 data2['label']);"
   ]
  },
  {
   "cell_type": "code",
   "execution_count": 42,
   "metadata": {
    "collapsed": false
   },
   "outputs": [],
   "source": [
    "# attention = logit(dt_grouping.predict_proba(data2.to_pandas())[:, 1])"
   ]
  },
  {
   "cell_type": "code",
   "execution_count": 43,
   "metadata": {
    "collapsed": true
   },
   "outputs": [],
   "source": [
    "from rep.metaml import FoldingRegressor\n",
    "from decisiontrain import DecisionTrainRegressor"
   ]
  },
  {
   "cell_type": "code",
   "execution_count": 44,
   "metadata": {
    "collapsed": true
   },
   "outputs": [],
   "source": [
    "simple_weights = compute_weights(data, attention=numpy.zeros(len(data)))"
   ]
  },
  {
   "cell_type": "code",
   "execution_count": 45,
   "metadata": {
    "collapsed": true
   },
   "outputs": [],
   "source": [
    "# Пробуем тренировку на перцентиль. Пока что самый стабильный вариант\n",
    "# folding = FoldingRegressor(DecisionTrainRegressor(n_estimators=1000))\n",
    "# folding.fit(data2[features].to_pandas(), correctness > numpy.percentile(correctness, 70), sample_weight=simple_weights);"
   ]
  },
  {
   "cell_type": "code",
   "execution_count": 46,
   "metadata": {
    "collapsed": false
   },
   "outputs": [],
   "source": [
    "# Тренировка на корректность работает плохо\n",
    "# folding = FoldingRegressor(DecisionTrainRegressor(n_estimators=1000))\n",
    "# folding.fit(data2[features].to_pandas(), correctness / numpy.std(correctness), sample_weight=simple_weights);"
   ]
  },
  {
   "cell_type": "code",
   "execution_count": 47,
   "metadata": {
    "collapsed": false
   },
   "outputs": [],
   "source": [
    "# Пробуем тренировку на порядок. Лучше, чем ничего, хуже, чем перцентиль\n",
    "# folding = FoldingRegressor(DecisionTrainRegressor(n_estimators=1000))\n",
    "# folding.fit(data2[features].to_pandas(), 1.4 ** - orders, sample_weight=simple_weights);"
   ]
  },
  {
   "cell_type": "code",
   "execution_count": 48,
   "metadata": {
    "collapsed": false
   },
   "outputs": [],
   "source": [
    "# Пробуем тренировку на ranktransform от \n",
    "folding = FoldingRegressor(DecisionTrainRegressor(n_estimators=1000))\n",
    "folding.fit(data2[features].to_pandas(), \n",
    "            numpy.argsort(numpy.argsort(correctness)) / float(len(correctness)) - 0.5, \n",
    "            sample_weight=simple_weights);"
   ]
  },
  {
   "cell_type": "code",
   "execution_count": 49,
   "metadata": {
    "collapsed": false
   },
   "outputs": [],
   "source": [
    "# Пробуем тренировку на знак\n",
    "# folding = FoldingRegressor(DecisionTrainRegressor(n_estimators=1000))\n",
    "# folding.fit(data2[features].to_pandas(), numpy.sign(correctness), sample_weight=simple_weights);"
   ]
  },
  {
   "cell_type": "code",
   "execution_count": 50,
   "metadata": {
    "collapsed": false
   },
   "outputs": [],
   "source": [
    "# _correctness"
   ]
  },
  {
   "cell_type": "code",
   "execution_count": 51,
   "metadata": {
    "collapsed": false
   },
   "outputs": [
    {
     "name": "stdout",
     "output_type": "stream",
     "text": [
      "KFold prediction using folds column\n"
     ]
    }
   ],
   "source": [
    "attention = folding.predict(data2.to_pandas())"
   ]
  },
  {
   "cell_type": "code",
   "execution_count": 52,
   "metadata": {
    "collapsed": false
   },
   "outputs": [
    {
     "data": {
      "image/png": "[encoded data removed]",
      "text/plain": [
       "<matplotlib.figure.Figure at 0x7fab1e823850>"
      ]
     },
     "metadata": {},
     "output_type": "display_data"
    }
   ],
   "source": [
    "plt.hist(attention, bins=40);"
   ]
  },
  {
   "cell_type": "code",
   "execution_count": 53,
   "metadata": {
    "collapsed": false
   },
   "outputs": [
    {
     "name": "stdout",
     "output_type": "stream",
     "text": [
      "KFold prediction using folds column\n"
     ]
    },
    {
     "data": {
      "text/plain": [
       "0.66199750556606518"
      ]
     },
     "execution_count": 53,
     "metadata": {},
     "output_type": "execute_result"
    }
   ],
   "source": [
    "compute_auc_with_attention(data, track_proba=dt.predict_proba(data2.to_pandas()), \n",
    "                           track_attention=attention - 1.5\n",
    "                           )"
   ]
  },
  {
   "cell_type": "code",
   "execution_count": 54,
   "metadata": {
    "collapsed": false
   },
   "outputs": [
    {
     "name": "stdout",
     "output_type": "stream",
     "text": [
      "KFold prediction using folds column\n"
     ]
    },
    {
     "data": {
      "text/plain": [
       "0.66273768778635234"
      ]
     },
     "execution_count": 54,
     "metadata": {},
     "output_type": "execute_result"
    }
   ],
   "source": [
    "compute_auc_with_attention(data, track_proba=dt.predict_proba(data2.to_pandas()), \n",
    "                           track_attention=compute_weights(data, attention) - 2\n",
    "                           )"
   ]
  },
  {
   "cell_type": "code",
   "execution_count": 55,
   "metadata": {
    "collapsed": false
   },
   "outputs": [
    {
     "name": "stdout",
     "output_type": "stream",
     "text": [
      "KFold prediction using folds column\n"
     ]
    },
    {
     "data": {
      "text/plain": [
       "0.66267978988955112"
      ]
     },
     "execution_count": 55,
     "metadata": {},
     "output_type": "execute_result"
    }
   ],
   "source": [
    "compute_auc_with_attention(data, track_proba=dt.predict_proba(data2.to_pandas()), track_attention=attention * 0 - 3)"
   ]
  },
  {
   "cell_type": "code",
   "execution_count": 56,
   "metadata": {
    "collapsed": false
   },
   "outputs": [
    {
     "name": "stdout",
     "output_type": "stream",
     "text": [
      "KFold prediction using folds column\n"
     ]
    },
    {
     "data": {
      "text/plain": [
       "0.66032964554767171"
      ]
     },
     "execution_count": 56,
     "metadata": {},
     "output_type": "execute_result"
    }
   ],
   "source": [
    "compute_auc_with_attention(data[:10**6], \n",
    "                           track_proba=dt.predict_proba(data2.to_pandas())[:10 ** 6], \n",
    "                           track_attention=attention[:10 ** 6] * 0 - 3)"
   ]
  },
  {
   "cell_type": "markdown",
   "metadata": {},
   "source": [
    "# Идея: dropout_loss\n",
    "\n",
    "лосс-функция по типу exploss для тренировки обычного классификатора.\n",
    "\n",
    "- оптимальным всегда оказывался вариант с p=0 \n",
    "    - на 3 миллионах выиграл у всего остального\n",
    "- назначение весов (равномерных) почему-то не такое, как везде"
   ]
  },
  {
   "cell_type": "code",
   "execution_count": 12,
   "metadata": {
    "collapsed": true
   },
   "outputs": [],
   "source": [
    "from sklearn.base import BaseEstimator\n",
    "class DropoutLoss(BaseEstimator):\n",
    "    def __init__(self, p=0.0):\n",
    "        self.p = p\n",
    "\n",
    "    def fit(self, X, y, sample_weight=None):\n",
    "        self.sample_weight = numpy.require(sample_weight, dtype='float32') \n",
    "        self.y_signed = numpy.require(2 * y - 1, dtype='float32')\n",
    "        \n",
    "        _, first_positions, self.event_indices = numpy.unique(X['group_column'].values, return_index=True, return_inverse=True)\n",
    "        # self.b_signs = numpy.array(X['signB'].values)[first_positions]\n",
    "        # track_z = - w(track) * sign(track) * sign(B)\n",
    "        self.track_z = - self.sample_weight * self.y_signed\n",
    "        \n",
    "        self.event_losses = numpy.ones(len(first_positions))\n",
    "        \n",
    "        # just in case \n",
    "        self.sample_weight **= 0.0\n",
    "        \n",
    "        return self\n",
    "\n",
    "    def prepare_tree_params(self, pred):\n",
    "        # normally, prediction is weight1 * pred1 * sign1 + weight2 * pred2 * sign2 ...\n",
    "        # loss is exp( - isloss * decision)\n",
    "        # in case of dropout\n",
    "        track_exponents = numpy.exp(pred * self.track_z)\n",
    "        track_multipliers = self.p + (1 - self.p) * track_exponents\n",
    "        self.event_losses[:] = 1\n",
    "        numpy.multiply.at(self.event_losses, self.event_indices, track_multipliers)\n",
    "        grad = - self.event_losses[self.event_indices] / track_multipliers * track_exponents * self.track_z\n",
    "        \n",
    "        return grad, self.sample_weight"
   ]
  },
  {
   "cell_type": "code",
   "execution_count": 58,
   "metadata": {
    "collapsed": false
   },
   "outputs": [],
   "source": [
    "# x = numpy.bincount(data['group_column'], weights=logit(_p[:, 1]) * (2 * data['label'] - 1) )"
   ]
  },
  {
   "cell_type": "code",
   "execution_count": 59,
   "metadata": {
    "collapsed": false
   },
   "outputs": [],
   "source": [
    "# plt.hist(x, range=[-2, 2], bins=21);"
   ]
  },
  {
   "cell_type": "code",
   "execution_count": 60,
   "metadata": {
    "collapsed": false
   },
   "outputs": [
    {
     "name": "stdout",
     "output_type": "stream",
     "text": [
      "None\n",
      "KFold prediction using folds column\n",
      "0.635161136287 0.658377172378 0.663936039235 0.665960318105 0.666877294068 -0.1\n",
      "None\n",
      "KFold prediction using folds column\n",
      "0.636615909766 0.65919663933 0.664267018983 0.66611973827 0.667091338142 0.0\n",
      "None\n",
      "KFold prediction using folds column\n",
      "0.63799787623 0.659486301935 0.664300595436 0.666120291879 0.667045452773 0.1\n",
      "None\n",
      "KFold prediction using folds column\n",
      "0.610217993953 0.636684892954 0.64743116016 0.651641956678 0.653798197951 -0.1\n",
      "None\n",
      "KFold prediction using folds column\n",
      "0.610174493123 0.636754846124 0.647443622341 0.651526328129 0.653749644457 0.0\n",
      "None\n",
      "KFold prediction using folds column\n",
      "0.610405353867 0.636824226617 0.647576410593 0.651747492804 0.653873407736 0.1\n"
     ]
    }
   ],
   "source": [
    "for p in [0.0]:\n",
    "    _dropout_dt = DecisionTrainClassifier(loss=DropoutLoss(p=p), n_estimators=1000, \n",
    "                                          learning_rate=0.03, n_threads=16, train_features=features)\n",
    "    _features = features + ['group_column']\n",
    "    dt_dropout = FoldingGroupClassifier(_dropout_dt, n_folds=2, group_feature='group_column', train_features=_features)\n",
    "    dt_dropout.fit(data[_features].to_pandas(), data['label'])\n",
    "    print None\n",
    "    for i, _p in enumerate(dt_dropout.staged_predict_proba(data.to_pandas()), 1):\n",
    "        if i % 2 == 0:\n",
    "            print compute_auc_with_attention(data, track_proba=_p, track_attention=numpy.zeros(len(data)) - 2),\n",
    "    print p"
   ]
  },
  {
   "cell_type": "markdown",
   "metadata": {},
   "source": [
    "## Проверка на AdaLoss\n",
    "\n",
    "вдруг оно и просто так работает?"
   ]
  },
  {
   "cell_type": "code",
   "execution_count": null,
   "metadata": {
    "collapsed": true
   },
   "outputs": [],
   "source": [
    "from hep_ml.losses import AdaLossFunction"
   ]
  },
  {
   "cell_type": "code",
   "execution_count": null,
   "metadata": {
    "collapsed": true
   },
   "outputs": [],
   "source": [
    "_base_ada = DecisionTrainClassifier(loss=AdaLossFunction(), n_estimators=2000, \n",
    "                                   learning_rate=0.06, n_threads=16, train_features=features)\n",
    "dt_exploss = FoldingGroupClassifier(_base_ada, n_folds=2, group_feature='group_column', train_features=features + ['group_column'])\n",
    "_ = dt_exploss.fit(data[features + ['group_column']].to_pandas(), data['label'], \n",
    "                   sample_weight=compute_weights(data, numpy.zeros(len(data)) - 2. ) )"
   ]
  },
  {
   "cell_type": "code",
   "execution_count": null,
   "metadata": {
    "collapsed": false
   },
   "outputs": [],
   "source": [
    "for i, _p in enumerate(dt_exploss.staged_predict_proba(data.to_pandas()), 1):\n",
    "    if i % 3 == 0:\n",
    "        print compute_auc_with_attention(data, track_proba=_p, track_attention=numpy.zeros(len(data)) - 2)"
   ]
  },
  {
   "cell_type": "code",
   "execution_count": null,
   "metadata": {
    "collapsed": false
   },
   "outputs": [],
   "source": [
    "from scipy.special import logit, expit\n",
    "\n",
    "print compute_auc_with_attention(data, track_proba=expit(logit(_p)) , track_attention=numpy.zeros(len(data)) - 2)\n",
    "print compute_auc_with_attention(data, track_proba=expit(logit(_p) * 2.) , track_attention=numpy.zeros(len(data)) - 2)\n",
    "print compute_auc_with_attention(data, track_proba=expit(logit(_p) * 0.5) , track_attention=numpy.zeros(len(data)) - 2)"
   ]
  },
  {
   "cell_type": "markdown",
   "metadata": {},
   "source": [
    "## GroupLogLoss\n",
    "\n",
    "требуется сравнить с ExpLoss"
   ]
  },
  {
   "cell_type": "code",
   "execution_count": 13,
   "metadata": {
    "collapsed": true
   },
   "outputs": [],
   "source": [
    "from sklearn.base import BaseEstimator\n",
    "class GroupLogLoss(BaseEstimator):\n",
    "    def __init__(self):\n",
    "        pass\n",
    "\n",
    "    def fit(self, X, y, sample_weight=None):\n",
    "        self.sample_weight = numpy.require(sample_weight, dtype='float32')\n",
    "        self.y_signed = numpy.require(2 * y - 1, dtype='float32')\n",
    "        \n",
    "        _, first_positions, self.event_indices = numpy.unique(X['group_column'].values, \n",
    "                                                              return_index=True, return_inverse=True)\n",
    "        self.track_z = - self.sample_weight * self.y_signed\n",
    "        d = T.vector()\n",
    "        d_b = bincount(self.event_indices, weights=self.track_z * d)\n",
    "        self.Loss = T.sum(T.nnet.softplus(d_b)) * 2\n",
    "        self.grad = theano.function([d], -T.grad(self.Loss, d))\n",
    "        return self\n",
    "\n",
    "    def prepare_tree_params(self, pred):\n",
    "        return self.grad(pred), self.sample_weight"
   ]
  },
  {
   "cell_type": "code",
   "execution_count": 17,
   "metadata": {
    "collapsed": false
   },
   "outputs": [],
   "source": [
    "_base_dt_log = DecisionTrainClassifier(loss=GroupLogLoss(), n_estimators=2000, \n",
    "                                       learning_rate=0.05, n_threads=len(features), train_features=features)\n",
    "dt_logloss = FoldingGroupClassifier(_base_dt_log, n_folds=2, group_feature='group_column', \n",
    "                                    train_features=features + ['group_column'])\n",
    "\n",
    "_ = dt_logloss.fit(data[features + ['group_column']].to_pandas(), data['label'], \n",
    "#                    sample_weight=compute_weights(data, numpy.zeros(len(data)) - 2. ) \n",
    "                  )"
   ]
  },
  {
   "cell_type": "code",
   "execution_count": 18,
   "metadata": {
    "collapsed": false
   },
   "outputs": [
    {
     "name": "stdout",
     "output_type": "stream",
     "text": [
      "KFold prediction using folds column\n",
      "0.598972140837\n",
      "0.619825794458\n",
      "0.638208229708\n",
      "0.649180258034\n",
      "0.65518004934\n",
      "0.658841436115\n",
      "0.661151485349\n",
      "0.662837189058\n",
      "0.664041256527\n",
      "0.664855213926\n",
      "0.665501497501\n",
      "0.666057203555\n",
      "0.666498396829\n",
      "0.666853495154\n",
      "0.667119081171\n",
      "0.667394152907\n",
      "0.667537496838\n",
      "0.66764924179\n",
      "0.667723081574\n",
      "0.667794033835\n"
     ]
    }
   ],
   "source": [
    "for i, _p in enumerate(dt_logloss.staged_predict_proba(data.to_pandas()), 1):\n",
    "    if i % 1 == 0:\n",
    "        print compute_auc_with_attention(data, track_proba=_p, track_attention=numpy.zeros(len(data)) - 2)"
   ]
  },
  {
   "cell_type": "code",
   "execution_count": null,
   "metadata": {
    "collapsed": false
   },
   "outputs": [],
   "source": [
    "assert 0 == 1"
   ]
  },
  {
   "cell_type": "code",
   "execution_count": null,
   "metadata": {
    "collapsed": false
   },
   "outputs": [],
   "source": [
    "# фильтрация ничего не дала\n",
    "# _n_tracks = numpy.bincount(data['group_column'])[data['group_column']] \n",
    "# _weights = (_n_tracks > 5) & (_n_tracks < 40)\n",
    "# dt_logloss_filtered = FoldingGroupClassifier(_base_dt_log, n_folds=2, group_feature='group_column', \n",
    "#                                     train_features=features + ['group_column'])\n",
    "\n",
    "# _ = dt_logloss_filtered.fit(data[features + ['group_column']].to_pandas(), data['label'], \n",
    "#                             sample_weight=_weights)"
   ]
  },
  {
   "cell_type": "code",
   "execution_count": null,
   "metadata": {
    "collapsed": false
   },
   "outputs": [],
   "source": [
    "# for i, _p in enumerate(dt_logloss_filtered.staged_predict_proba(data.to_pandas()), 1):\n",
    "#     if i % 2 == 0:\n",
    "#         print compute_auc_with_attention(data, track_proba=_p, track_attention=numpy.zeros(len(data)) - 2)"
   ]
  },
  {
   "cell_type": "markdown",
   "metadata": {},
   "source": [
    "## (Концепция) одновременного обучения бустингов"
   ]
  },
  {
   "cell_type": "code",
   "execution_count": null,
   "metadata": {
    "collapsed": true
   },
   "outputs": [],
   "source": [
    "# два лосса. Дообучили один - переобучили второй и обратно\n",
    "# требует метода \"дообучи\""
   ]
  },
  {
   "cell_type": "markdown",
   "metadata": {},
   "source": [
    "# Вначале просто запускаем нейросеть"
   ]
  },
  {
   "cell_type": "code",
   "execution_count": null,
   "metadata": {
    "collapsed": true
   },
   "outputs": [],
   "source": [
    "from hep_ml.nnet import MLPClassifier"
   ]
  },
  {
   "cell_type": "code",
   "execution_count": null,
   "metadata": {
    "collapsed": false
   },
   "outputs": [],
   "source": [
    "nn2 = FoldingGroupClassifier(MLPClassifier(layers=[30, 20], epochs=500, scaler='iron'), n_folds=2, group_feature='group_column')\n",
    "nn2.fit(data[features + ['group_column']].to_pandas(), data['label'], sample_weight=weights);"
   ]
  },
  {
   "cell_type": "code",
   "execution_count": null,
   "metadata": {
    "collapsed": false
   },
   "outputs": [],
   "source": [
    "track_proba = nn2.predict_proba(data.to_pandas())\n",
    "predictions = numpy.bincount(data['group_column'], weights=logit(track_proba[:, 1]) * data['signTrack'] )\n",
    "roc_auc_score(B_signs, predictions)"
   ]
  },
  {
   "cell_type": "markdown",
   "metadata": {},
   "source": [
    "## Для сравнения возьмем простой MLP из keras"
   ]
  },
  {
   "cell_type": "code",
   "execution_count": null,
   "metadata": {
    "collapsed": false
   },
   "outputs": [],
   "source": [
    "from keras.utils.np_utils import to_categorical\n",
    "from keras.models import Sequential\n",
    "from keras.layers import Dense, Dropout, BatchNormalization\n",
    "from keras.optimizers import RMSprop"
   ]
  },
  {
   "cell_type": "code",
   "execution_count": null,
   "metadata": {
    "collapsed": false
   },
   "outputs": [],
   "source": [
    "# train-test splitting macnually\n",
    "\n",
    "N = len(data) // 2\n",
    "\n",
    "train = data[data['group_column'] < numpy.median(data['group_column'])]\n",
    "test = data[data['group_column'] >= numpy.median(data['group_column'])]\n",
    "_, test['group_column'] = numpy.unique(test['group_column'], return_inverse=True)\n",
    "_, train['group_column'] = numpy.unique(train['group_column'], return_inverse=True)\n",
    "B_signs_test = test.group_by('group_column')['signB'].groups.aggregate(numpy.mean)"
   ]
  },
  {
   "cell_type": "code",
   "execution_count": null,
   "metadata": {
    "collapsed": false
   },
   "outputs": [],
   "source": [
    "model = Sequential()\n",
    "model.add(BatchNormalization(input_shape=(len(features),)))\n",
    "model.add(Dense(200, activation='relu'))\n",
    "model.add(Dropout(0.1))\n",
    "model.add(Dense(200, activation='tanh'))\n",
    "model.add(Dropout(0.2))\n",
    "model.add(Dense(2, activation='softmax'))\n",
    "\n",
    "model.compile(loss='categorical_crossentropy',\n",
    "              optimizer=RMSprop(lr=1e-4),\n",
    "              metrics=['accuracy', ])\n",
    "\n",
    "for _ in range(7):\n",
    "    model.fit(\n",
    "        train[features].to_pandas().values, \n",
    "        to_categorical(train['label']), \n",
    "        nb_epoch=1, verbose=2, \n",
    "        validation_data=[test[features].to_pandas().values, to_categorical(test['label'])]\n",
    "    )\n",
    "    \n",
    "    track_proba = model.predict_proba(test[features].to_pandas().values, verbose=2)\n",
    "    predictions = numpy.bincount(test['group_column'], \n",
    "                                 weights=(logit(track_proba[:, 1]) * test['signTrack']))\n",
    "    print roc_auc_score(B_signs_test, predictions)\n",
    "    "
   ]
  },
  {
   "cell_type": "markdown",
   "metadata": {},
   "source": [
    "# Выводы про нейросетки\n",
    "\n",
    "не особенно тянут. Выше 0.612 не получилось ни с теми, ни с другими.\n",
    "\n",
    "После iron transform получилось 0.622"
   ]
  },
  {
   "cell_type": "markdown",
   "metadata": {},
   "source": [
    "## TODO хотелось бы одновременно обучать две нейросетки"
   ]
  },
  {
   "cell_type": "code",
   "execution_count": null,
   "metadata": {
    "collapsed": false
   },
   "outputs": [],
   "source": [
    "from hep_ml.nnet import MLPClassifier, MLPBase, AbstractNeuralNetworkBase"
   ]
  },
  {
   "cell_type": "code",
   "execution_count": null,
   "metadata": {
    "collapsed": true
   },
   "outputs": [],
   "source": [
    "AbstractNeuralNetworkBase??"
   ]
  },
  {
   "cell_type": "code",
   "execution_count": null,
   "metadata": {
    "collapsed": true
   },
   "outputs": [],
   "source": [
    "def prepare(self):\n",
    "    activation = lambda x: x\n",
    "    for i, layer in list(enumerate(self.layers_))[1:]:\n",
    "        W = self._create_matrix_parameter('W' + str(i), self.layers_[i - 1], self.layers_[i])\n",
    "        # act=activation and W_=W are tricks to avoid lambda-capturing\n",
    "        if i == 1:\n",
    "            activation = lambda x, act=activation, W_=W: T.dot(act(x), W_)\n",
    "        else:\n",
    "            activation = lambda x, act=activation, W_=W: T.dot(T.tanh(act(x)), W_)\n",
    "\n",
    "    return activation"
   ]
  }
 ],
 "metadata": {
  "kernelspec": {
   "display_name": "Python 2",
   "language": "python",
   "name": "python2"
  },
  "language_info": {
   "codemirror_mode": {
    "name": "ipython",
    "version": 2
   },
   "file_extension": ".py",
   "mimetype": "text/x-python",
   "name": "python",
   "nbconvert_exporter": "python",
   "pygments_lexer": "ipython2",
   "version": "2.7.12"
  }
 },
 "nbformat": 4,
 "nbformat_minor": 0
}
