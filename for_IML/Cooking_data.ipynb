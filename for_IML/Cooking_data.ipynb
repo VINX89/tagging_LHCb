{
 "cells": [
  {
   "cell_type": "code",
   "execution_count": 1,
   "metadata": {
    "collapsed": true
   },
   "outputs": [],
   "source": [
    "import numpy\n",
    "import root_numpy\n",
    "# import pandas - no pandas today \n",
    "from astropy.table import Table\n",
    "from sklearn.metrics import roc_auc_score\n",
    "from scipy.special import logit"
   ]
  },
  {
   "cell_type": "code",
   "execution_count": 2,
   "metadata": {
    "collapsed": true
   },
   "outputs": [],
   "source": [
    "features = [\n",
    "    # track itself\n",
    "    'eta', 'partPt', 'partP',\n",
    "    # track and B\n",
    "    'cos_diff_phi', 'proj', 'diff_eta', 'ptB', 'R_separation', 'proj_T', 'proj_T2',\n",
    "    # PID\n",
    "    'PIDNNe',  'PIDNNk',  'PIDNNm', 'ghostProb', \n",
    "    # IP\n",
    "    'IP', 'IPerr', 'IPs', 'IPPU', \n",
    "    # Other\n",
    "    'veloch', 'partlcs', 'EOverP', \n",
    "    # deleted as probably inappropriate:\n",
    "    # 'phi',  \n",
    "    # 'diff_pt', 'nnkrec',\n",
    "    # 'max_PID_mu_e', 'max_PID_mu_k', 'sum_PID_k_e', 'sum_PID_mu_e', 'max_PID_k_e', 'sum_PID_mu_k', \n",
    "]"
   ]
  },
  {
   "cell_type": "code",
   "execution_count": 3,
   "metadata": {
    "collapsed": false
   },
   "outputs": [],
   "source": [
    "data = Table(root_numpy.root2array('../datasets/MC/csv/WG/Bu_JPsiK/2012/Tracks.root'))\n",
    "# data = Table(root_numpy.root2array('../datasets/MC/csv/WG/Bu_JPsiK/2012/Tracks.root', stop=30000000))\n",
    "\n",
    "# data['label'] = (data['signB'] * data['signTrack']) > 0\n",
    "\n",
    "# data['cos_diff_phi'] = numpy.cos(data['diff_phi'])\n",
    "# data['diff_pt'] = data['ptB'] - data['partPt']\n",
    "# data['R_separation'] = numpy.sqrt(data['diff_eta'] ** 2 + (1 - data['cos_diff_phi']) ** 2)\n",
    "# # projection in transverse plane\n",
    "# data['proj_T'] = data['cos_diff_phi'] * data['partPt']\n",
    "# data['proj_T2'] = data['cos_diff_phi'] * data['partPt'] * data['ptB']\n",
    "\n",
    "# data = data[data['ghostProb'] < 0.4]\n",
    "\n",
    "# deleting NaNs\n",
    "data = data[numpy.isfinite(data['IPs'])]"
   ]
  },
  {
   "cell_type": "code",
   "execution_count": 4,
   "metadata": {
    "collapsed": true
   },
   "outputs": [],
   "source": [
    "def add_event_id(data):\n",
    "    groups = data['run'] + data['event'].astype(int) * (data['run'].max() + 1)\n",
    "    lookup, groups = numpy.unique(groups, return_inverse=True)\n",
    "    permutation = numpy.random.RandomState(42).permutation(len(lookup))\n",
    "    data['event_id'] = permutation[groups]"
   ]
  },
  {
   "cell_type": "code",
   "execution_count": 5,
   "metadata": {
    "collapsed": true
   },
   "outputs": [],
   "source": [
    "add_event_id(data)"
   ]
  },
  {
   "cell_type": "code",
   "execution_count": 6,
   "metadata": {
    "collapsed": false
   },
   "outputs": [],
   "source": [
    "data = data.group_by('event_id')"
   ]
  },
  {
   "cell_type": "code",
   "execution_count": 7,
   "metadata": {
    "collapsed": false
   },
   "outputs": [],
   "source": [
    "root_numpy.array2root(numpy.array(data), './Bcharged_MC.root')"
   ]
  },
  {
   "cell_type": "markdown",
   "metadata": {},
   "source": [
    "------------------------\n",
    "### Prepare data"
   ]
  },
  {
   "cell_type": "code",
   "execution_count": null,
   "metadata": {
    "collapsed": true
   },
   "outputs": [],
   "source": [
    "real_data = Table(root_numpy.root2array('../datasets/data/csv/WG/Bu_JPsiK/2012/Tracks.root'))"
   ]
  },
  {
   "cell_type": "code",
   "execution_count": null,
   "metadata": {
    "collapsed": true
   },
   "outputs": [],
   "source": [
    "add_event_id(real_data)"
   ]
  },
  {
   "cell_type": "code",
   "execution_count": null,
   "metadata": {
    "collapsed": true
   },
   "outputs": [],
   "source": [
    "real_data = real_data.group_by('event_id')"
   ]
  },
  {
   "cell_type": "code",
   "execution_count": null,
   "metadata": {
    "collapsed": true
   },
   "outputs": [],
   "source": [
    "root_numpy.array2root(numpy.array(real_data), './Bcharged_data.root')"
   ]
  }
 ],
 "metadata": {
  "kernelspec": {
   "display_name": "Python 2",
   "language": "python",
   "name": "python2"
  },
  "language_info": {
   "codemirror_mode": {
    "name": "ipython",
    "version": 2
   },
   "file_extension": ".py",
   "mimetype": "text/x-python",
   "name": "python",
   "nbconvert_exporter": "python",
   "pygments_lexer": "ipython2",
   "version": "2.7.12"
  }
 },
 "nbformat": 4,
 "nbformat_minor": 1
}
