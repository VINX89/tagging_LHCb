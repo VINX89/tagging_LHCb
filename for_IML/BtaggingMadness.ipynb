{
 "cells": [
  {
   "cell_type": "markdown",
   "metadata": {},
   "source": [
    "## Немного безумия\n",
    "\n",
    "смотрим, работают ли attention models и другие модели"
   ]
  },
  {
   "cell_type": "code",
   "execution_count": 1,
   "metadata": {
    "collapsed": true
   },
   "outputs": [],
   "source": [
    "%matplotlib inline\n",
    "from matplotlib import pyplot as plt"
   ]
  },
  {
   "cell_type": "code",
   "execution_count": 2,
   "metadata": {
    "collapsed": false
   },
   "outputs": [
    {
     "name": "stderr",
     "output_type": "stream",
     "text": [
      "/mnt/mfs/miniconda/envs/rep_py2/lib/python2.7/site-packages/sklearn/cross_validation.py:44: DeprecationWarning: This module was deprecated in version 0.18 in favor of the model_selection module into which all the refactored classes and functions are moved. Also note that the interface of the new CV iterators are different from that of this module. This module will be removed in 0.20.\n",
      "  \"This module will be removed in 0.20.\", DeprecationWarning)\n"
     ]
    }
   ],
   "source": [
    "import numpy\n",
    "import root_numpy\n",
    "# import pandas - no pandas today \n",
    "from astropy.table import Table\n",
    "from sklearn.metrics import roc_auc_score\n",
    "from scipy.special import logit\n",
    "from decisiontrain import DecisionTrainClassifier\n",
    "from collections import OrderedDict"
   ]
  },
  {
   "cell_type": "code",
   "execution_count": 3,
   "metadata": {
    "collapsed": true
   },
   "outputs": [],
   "source": [
    "# theano imports\n",
    "import theano\n",
    "from theano import tensor as T\n",
    "from theano.tensor.nnet import softplus\n",
    "from theano.tensor.extra_ops import bincount"
   ]
  },
  {
   "cell_type": "code",
   "execution_count": 4,
   "metadata": {
    "collapsed": true
   },
   "outputs": [],
   "source": [
    "import sys\n",
    "sys.path.insert(0, '../')\n",
    "from folding_group import FoldingGroupClassifier"
   ]
  },
  {
   "cell_type": "code",
   "execution_count": 5,
   "metadata": {
    "collapsed": true
   },
   "outputs": [],
   "source": [
    "features = [\n",
    "    # track itself\n",
    "    'eta', 'partPt', 'partP',\n",
    "    # track and B\n",
    "    'cos_diff_phi', 'proj', 'diff_eta', 'ptB', 'R_separation', 'proj_T', 'proj_T2',\n",
    "    # PID\n",
    "    'PIDNNe',  'PIDNNk',  'PIDNNm', 'ghostProb', \n",
    "    # IP\n",
    "    'IP', 'IPerr', 'IPs', 'IPPU', \n",
    "    # Other\n",
    "    'veloch', 'partlcs', 'EOverP', \n",
    "    # deleted as probably inappropriate:\n",
    "    # 'phi',  \n",
    "    # 'diff_pt', 'nnkrec',\n",
    "    # 'max_PID_mu_e', 'max_PID_mu_k', 'sum_PID_k_e', 'sum_PID_mu_e', 'max_PID_k_e', 'sum_PID_mu_k', \n",
    "]"
   ]
  },
  {
   "cell_type": "code",
   "execution_count": 6,
   "metadata": {
    "collapsed": false
   },
   "outputs": [],
   "source": [
    "data = Table(root_numpy.root2array('./Bcharged_MC.root', stop=20000000))\n",
    "\n",
    "def preprocess(data):\n",
    "    data['label'] = (data['signB'] * data['signTrack']) > 0\n",
    "\n",
    "    data['cos_diff_phi'] = numpy.cos(data['diff_phi'])\n",
    "    data['diff_pt'] = data['ptB'] - data['partPt']\n",
    "    data['R_separation'] = numpy.sqrt(data['diff_eta'] ** 2 + (1 - data['cos_diff_phi']) ** 2)\n",
    "    # projection in transverse plane\n",
    "    data['proj_T'] = data['cos_diff_phi'] * data['partPt']\n",
    "    data['proj_T2'] = data['cos_diff_phi'] * data['partPt'] * data['ptB']\n",
    "\n",
    "    data = data[data['ghostProb'] < 0.4]\n",
    "    data = data[numpy.isfinite(data['IPs'])]\n",
    "    \n",
    "    data.rename_column('N_sig_sw', 'sweight')\n",
    "    # for real data, weight is also added\n",
    "    data = data[features + ['event_id', 'label', 'signTrack', 'signB', 'sweight']]"
   ]
  },
  {
   "cell_type": "code",
   "execution_count": 7,
   "metadata": {
    "collapsed": false
   },
   "outputs": [],
   "source": [
    "preprocess(data)"
   ]
  },
  {
   "cell_type": "code",
   "execution_count": 8,
   "metadata": {
    "collapsed": false
   },
   "outputs": [],
   "source": [
    "_, data['event_id'] = numpy.unique(data['event_id'], return_inverse=True)"
   ]
  },
  {
   "cell_type": "code",
   "execution_count": 9,
   "metadata": {
    "collapsed": false
   },
   "outputs": [],
   "source": [
    "N = 10 * 10 ** 6\n",
    "check_data = data[N:].copy()\n",
    "data = data[:N].copy()\n",
    "_, check_data['event_id'] = numpy.unique(check_data['event_id'], return_inverse=True)\n",
    "_, data['event_id'] = numpy.unique(data['event_id'], return_inverse=True)"
   ]
  },
  {
   "cell_type": "markdown",
   "metadata": {},
   "source": [
    "## Вспомогательные функции"
   ]
  },
  {
   "cell_type": "code",
   "execution_count": 10,
   "metadata": {
    "collapsed": true
   },
   "outputs": [],
   "source": [
    "def compute_weights(data, attention):\n",
    "    \"\"\"\n",
    "    Weights are normalized over events. Higher convenience - higher weights\n",
    "    \"\"\"\n",
    "    assert len(numpy.shape(attention)) == 1\n",
    "    weights = numpy.exp(attention)\n",
    "    sum_weights = numpy.bincount(data['event_id'], weights=weights)\n",
    "    return weights / (sum_weights[data['event_id']] + 1)"
   ]
  },
  {
   "cell_type": "code",
   "execution_count": 11,
   "metadata": {
    "collapsed": true
   },
   "outputs": [],
   "source": [
    "def compute_simple_auc(data, track_proba):\n",
    "    assert track_proba.shape == (len(data), 2)\n",
    "    event_predictions = numpy.bincount(\n",
    "        data['event_id'], weights=logit(track_proba[:, 1]) * data['signTrack'])\n",
    "    B_signs = data['signB'].group_by(data['event_id']).groups.aggregate(numpy.mean)\n",
    "    return roc_auc_score(B_signs, event_predictions)"
   ]
  },
  {
   "cell_type": "code",
   "execution_count": 12,
   "metadata": {
    "collapsed": true
   },
   "outputs": [],
   "source": [
    "def compute_auc_with_attention(data, track_proba, track_attention):\n",
    "    assert track_proba.shape == (len(data), 2)\n",
    "    assert len(track_attention) == len(data)\n",
    "    tracks_weights = compute_weights(data, track_attention)\n",
    "    event_predictions = numpy.bincount(\n",
    "        data['event_id'], weights=logit(track_proba[:, 1]) * data['signTrack'] * tracks_weights)\n",
    "    B_signs = data['signB'].group_by(data['event_id']).groups.aggregate(numpy.mean)\n",
    "    return roc_auc_score(B_signs, event_predictions)"
   ]
  },
  {
   "cell_type": "markdown",
   "metadata": {},
   "source": [
    "## Графики"
   ]
  },
  {
   "cell_type": "code",
   "execution_count": 13,
   "metadata": {
    "collapsed": false
   },
   "outputs": [
    {
     "data": {
      "image/png": "[encoded data removed]",
      "text/plain": [
       "<matplotlib.figure.Figure at 0x7f3bed5d3bd0>"
      ]
     },
     "metadata": {},
     "output_type": "display_data"
    }
   ],
   "source": [
    "plt.figure(figsize=[15, 8])\n",
    "plt.hist(numpy.bincount(data['event_id']), range=[0.5, 70.5], bins=70, normed=True);\n",
    "plt.xlim(0, 71)\n",
    "plt.xlabel('n_tracks in event', fontsize=20)\n",
    "plt.ylabel('fraction of events', fontsize=20)\n",
    "plt.xticks(fontsize=20)\n",
    "plt.savefig('./n_tracks.png', bbox_inches='tight')"
   ]
  },
  {
   "cell_type": "code",
   "execution_count": 14,
   "metadata": {
    "collapsed": false
   },
   "outputs": [],
   "source": [
    "base_clf = DecisionTrainClassifier(n_estimators=1000, learning_rate=0.03, n_threads=len(features), \n",
    "                                   train_features=features, max_features=0.9)"
   ]
  },
  {
   "cell_type": "code",
   "execution_count": 15,
   "metadata": {
    "collapsed": false
   },
   "outputs": [
    {
     "data": {
      "image/png": "[encoded data removed]",
      "text/plain": [
       "<matplotlib.figure.Figure at 0x7f3f7733ca90>"
      ]
     },
     "metadata": {},
     "output_type": "display_data"
    }
   ],
   "source": [
    "plt.hist(numpy.bincount(data['event_id']),       bins=61, range=(0, 60), alpha=0.5, normed=True)\n",
    "plt.hist(numpy.bincount(check_data['event_id']), bins=61, range=(0, 60), alpha=0.5, normed=True);"
   ]
  },
  {
   "cell_type": "markdown",
   "metadata": {},
   "source": [
    "## Просто поезд + inclusive"
   ]
  },
  {
   "cell_type": "code",
   "execution_count": 17,
   "metadata": {
    "collapsed": false
   },
   "outputs": [
    {
     "name": "stdout",
     "output_type": "stream",
     "text": [
      "CPU times: user 5min 9s, sys: 1.66 s, total: 5min 10s\n",
      "Wall time: 25.8 s\n"
     ]
    }
   ],
   "source": [
    "%%time\n",
    "dt = FoldingGroupClassifier(base_clf, n_folds=3, group_feature='event_id')\n",
    "_ = dt.fit(data[features + ['event_id']].to_pandas(), data['label'])"
   ]
  },
  {
   "cell_type": "code",
   "execution_count": 18,
   "metadata": {
    "collapsed": false
   },
   "outputs": [
    {
     "name": "stdout",
     "output_type": "stream",
     "text": [
      "KFold prediction using folds column\n",
      "0.651924189255\n",
      "KFold prediction using folds column\n",
      "0.653847054211\n"
     ]
    }
   ],
   "source": [
    "# raw quality\n",
    "print compute_simple_auc(check_data, dt.predict_proba(check_data.to_pandas()))\n",
    "print compute_auc_with_attention(check_data, \n",
    "                                 track_proba=dt.predict_proba(check_data.to_pandas()), \n",
    "                                 track_attention=numpy.zeros(len(check_data)))"
   ]
  },
  {
   "cell_type": "code",
   "execution_count": 19,
   "metadata": {
    "collapsed": false
   },
   "outputs": [
    {
     "name": "stdout",
     "output_type": "stream",
     "text": [
      "KFold prediction using folds column\n",
      "0.646931502007\n",
      "KFold prediction using folds column\n",
      "0.647874211783\n"
     ]
    }
   ],
   "source": [
    "# raw quality\n",
    "print compute_simple_auc(data, dt.predict_proba(data.to_pandas()))\n",
    "print compute_auc_with_attention(data, \n",
    "                                 track_proba=dt.predict_proba(data.to_pandas()), \n",
    "                                 track_attention=numpy.zeros(len(data)))"
   ]
  },
  {
   "cell_type": "markdown",
   "metadata": {},
   "source": [
    "## Для сравнения \n",
    "фильтрация выборки\n"
   ]
  },
  {
   "cell_type": "code",
   "execution_count": 22,
   "metadata": {
    "collapsed": false
   },
   "outputs": [
    {
     "name": "stdout",
     "output_type": "stream",
     "text": [
      "CPU times: user 2min 40s, sys: 740 ms, total: 2min 41s\n",
      "Wall time: 14.3 s\n"
     ]
    }
   ],
   "source": [
    "%%time\n",
    "_n_tracks = numpy.bincount(data['event_id'])[data['event_id']] \n",
    "_weights = (_n_tracks > 5) & (_n_tracks < 40)\n",
    "dt_on_filtered = FoldingGroupClassifier(base_clf, n_folds=2, group_feature='event_id')\n",
    "_ = dt_on_filtered.fit(data[features + ['event_id']].to_pandas(), data['label'], sample_weight=_weights)"
   ]
  },
  {
   "cell_type": "code",
   "execution_count": 23,
   "metadata": {
    "collapsed": false
   },
   "outputs": [
    {
     "name": "stdout",
     "output_type": "stream",
     "text": [
      "KFold prediction using folds column\n"
     ]
    },
    {
     "data": {
      "text/plain": [
       "0.64700106269601321"
      ]
     },
     "execution_count": 23,
     "metadata": {},
     "output_type": "execute_result"
    }
   ],
   "source": [
    "# on filtered dataset\n",
    "compute_auc_with_attention(data, \n",
    "                           track_proba=dt_on_filtered.predict_proba(data.to_pandas()),\n",
    "                           track_attention=numpy.zeros(len(data)) - 2)"
   ]
  },
  {
   "cell_type": "code",
   "execution_count": 24,
   "metadata": {
    "collapsed": false
   },
   "outputs": [
    {
     "data": {
      "text/plain": [
       "[(0.050000000000000003, 'eta'),\n",
       " (0.051000000000000004, 'EOverP'),\n",
       " (0.052999999999999999, 'proj_T'),\n",
       " (0.057999999999999996, 'diff_eta'),\n",
       " (0.064000000000000001, 'proj_T2'),\n",
       " (0.069000000000000006, 'cos_diff_phi'),\n",
       " (0.069000000000000006, 'ghostProb'),\n",
       " (0.070000000000000007, 'partlcs'),\n",
       " (0.078, 'ptB'),\n",
       " (0.079000000000000001, 'veloch'),\n",
       " (0.084999999999999992, 'PIDNNe'),\n",
       " (0.085999999999999993, 'PIDNNm'),\n",
       " (0.088999999999999996, 'IPPU'),\n",
       " (0.089999999999999997, 'IPerr'),\n",
       " (0.095000000000000001, 'partP'),\n",
       " (0.11799999999999999, 'R_separation'),\n",
       " (0.14100000000000001, 'proj'),\n",
       " (0.14200000000000002, 'IPs'),\n",
       " (0.14700000000000002, 'IP'),\n",
       " (0.16699999999999998, 'partPt'),\n",
       " (0.19900000000000001, 'PIDNNk')]"
      ]
     },
     "execution_count": 24,
     "metadata": {},
     "output_type": "execute_result"
    }
   ],
   "source": [
    "sorted(zip(dt.estimators[0].feature_importances_ + dt.estimators[1].feature_importances_, features))"
   ]
  },
  {
   "cell_type": "markdown",
   "metadata": {},
   "source": [
    "# Длинный поезд"
   ]
  },
  {
   "cell_type": "code",
   "execution_count": 25,
   "metadata": {
    "collapsed": true
   },
   "outputs": [],
   "source": [
    "long_dt = FoldingGroupClassifier(\n",
    "    DecisionTrainClassifier(n_estimators=3000, learning_rate=0.02, max_features=0.9,\n",
    "                            n_threads=len(features), train_features=features), \n",
    "    n_folds=2, group_feature='event_id')"
   ]
  },
  {
   "cell_type": "code",
   "execution_count": 26,
   "metadata": {
    "collapsed": false
   },
   "outputs": [],
   "source": [
    "_ = long_dt.fit(data[features + ['event_id']].to_pandas(), \n",
    "                data['label'], \n",
    "                sample_weight=compute_weights(data, numpy.zeros(len(data)) - 2.))"
   ]
  },
  {
   "cell_type": "code",
   "execution_count": 27,
   "metadata": {
    "collapsed": false
   },
   "outputs": [
    {
     "name": "stdout",
     "output_type": "stream",
     "text": [
      "KFold prediction using folds column\n",
      "0.631652977748\n",
      "0.647946838244\n",
      "0.649782143503\n",
      "0.648995171714\n",
      "0.646874241027\n",
      "0.643770485125\n"
     ]
    }
   ],
   "source": [
    "for i, p in enumerate(long_dt.staged_predict_proba(data.to_pandas()), 1):\n",
    "    if i % 5 == 0:\n",
    "        print compute_auc_with_attention(data, track_proba=p, track_attention=numpy.zeros(len(data)) - 2.)"
   ]
  },
  {
   "cell_type": "markdown",
   "metadata": {},
   "source": [
    "## Если просто взвесить обучающую выборку\n",
    "\n",
    "то есть отнормировать веса треков внутри одного события, получаем существенный прирост, если их использовать во время предсказания.\n",
    "\n",
    "При этом использование весов в тренировке - это странно. При малом числе событий работает, при большом - нет"
   ]
  },
  {
   "cell_type": "code",
   "execution_count": 28,
   "metadata": {
    "collapsed": false
   },
   "outputs": [],
   "source": [
    "weights = compute_weights(data, attention=numpy.zeros(len(data)))"
   ]
  },
  {
   "cell_type": "code",
   "execution_count": 29,
   "metadata": {
    "collapsed": true
   },
   "outputs": [],
   "source": [
    "dt_simpleweights = FoldingGroupClassifier(base_clf, n_folds=2, group_feature='event_id')\n",
    "dt_simpleweights.fit(data[features + ['event_id']].to_pandas(), data['label'], sample_weight=weights);"
   ]
  },
  {
   "cell_type": "code",
   "execution_count": 30,
   "metadata": {
    "collapsed": false
   },
   "outputs": [
    {
     "name": "stdout",
     "output_type": "stream",
     "text": [
      "KFold prediction using folds column\n"
     ]
    },
    {
     "data": {
      "text/plain": [
       "0.64851601405840786"
      ]
     },
     "execution_count": 30,
     "metadata": {},
     "output_type": "execute_result"
    }
   ],
   "source": [
    "compute_auc_with_attention(data, \n",
    "                           track_proba=dt_simpleweights.predict_proba(data.to_pandas()), \n",
    "                           track_attention=numpy.zeros(len(data)))"
   ]
  },
  {
   "cell_type": "markdown",
   "metadata": {},
   "source": [
    "## Посмотрим на качество в зависимости от числа треков"
   ]
  },
  {
   "cell_type": "code",
   "execution_count": 31,
   "metadata": {
    "collapsed": true
   },
   "outputs": [],
   "source": [
    "n_tracks = numpy.bincount(data['event_id'])"
   ]
  },
  {
   "cell_type": "code",
   "execution_count": 32,
   "metadata": {
    "collapsed": false
   },
   "outputs": [
    {
     "data": {
      "text/plain": [
       "<matplotlib.text.Text at 0x7f61d13e32d0>"
      ]
     },
     "execution_count": 32,
     "metadata": {},
     "output_type": "execute_result"
    },
    {
     "data": {
      "image/png": "[encoded data removed]",
      "text/plain": [
       "<matplotlib.figure.Figure at 0x7f61e2716e50>"
      ]
     },
     "metadata": {},
     "output_type": "display_data"
    }
   ],
   "source": [
    "plt.plot(numpy.bincount(n_tracks) * numpy.arange(max(n_tracks) + 1))\n",
    "plt.xlabel('n_tracks in event')\n",
    "plt.ylabel('n_tracks in total')"
   ]
  },
  {
   "cell_type": "code",
   "execution_count": 33,
   "metadata": {
    "collapsed": false
   },
   "outputs": [],
   "source": [
    "# plt.plot(* zip(*(\n",
    "#         [i, roc_auc_score(B_signs[n_tracks == i], predictions[n_tracks == i])]\n",
    "#         for i in range(2, 60)\n",
    "# )))"
   ]
  },
  {
   "cell_type": "markdown",
   "metadata": {},
   "source": [
    "# Попытаемся отличить правильно предсказанные."
   ]
  },
  {
   "cell_type": "code",
   "execution_count": 75,
   "metadata": {
    "collapsed": false
   },
   "outputs": [],
   "source": [
    "# correctness = logit(dt.predict_proba(data.to_pandas())[:, 1]) * (2 * data['label'] - 1)"
   ]
  },
  {
   "cell_type": "code",
   "execution_count": 74,
   "metadata": {
    "collapsed": false
   },
   "outputs": [],
   "source": [
    "# for percentile in [50, 60, 70, 80]:\n",
    "#     dt_attention = FoldingGroupClassifier(base_clf, n_folds=2, group_feature='event_id')\n",
    "#     dt_attention.fit(data[features + ['event_id']].to_pandas(), \n",
    "#                      correctness > numpy.percentile(correctness, percentile))\n",
    "\n",
    "#     attention = logit(dt_attention.predict_proba(data[features + ['event_id']].to_pandas())[:, 1])\n",
    "#     if percentile == 70:\n",
    "#         stable_attention = attention.copy()\n",
    "#     attention_weights = compute_weights(data, attention)\n",
    "\n",
    "#     dt_classifier = FoldingGroupClassifier(base_clf, n_folds=2, group_feature='event_id')\n",
    "#     dt_classifier.fit(data[features + ['event_id']].to_pandas(), \n",
    "#                       data['label'], sample_weight=attention_weights)\n",
    "\n",
    "#     print percentile, compute_auc_with_attention(data, dt_classifier.predict_proba(data.to_pandas()), attention)"
   ]
  },
  {
   "cell_type": "markdown",
   "metadata": {},
   "source": [
    "## Дополнительная проверка верности корректировки веса\n",
    "пробуем, работает ли линейная корректировка веса.\n",
    "\n",
    "Да, при этом сдвиг является важным, то есть наличие нормализации порядка $e^2$"
   ]
  },
  {
   "cell_type": "code",
   "execution_count": 16,
   "metadata": {
    "collapsed": false
   },
   "outputs": [
    {
     "ename": "NameError",
     "evalue": "name 'dt' is not defined",
     "output_type": "error",
     "traceback": [
      "\u001b[0;31m---------------------------------------------------------------------------\u001b[0m",
      "\u001b[0;31mNameError\u001b[0m                                 Traceback (most recent call last)",
      "\u001b[0;32m<ipython-input-16-6c4ebeeba8c5>\u001b[0m in \u001b[0;36m<module>\u001b[0;34m()\u001b[0m\n\u001b[0;32m----> 1\u001b[0;31m \u001b[0m_proba\u001b[0m \u001b[0;34m=\u001b[0m \u001b[0mdt\u001b[0m\u001b[0;34m.\u001b[0m\u001b[0mpredict_proba\u001b[0m\u001b[0;34m(\u001b[0m\u001b[0mdata\u001b[0m\u001b[0;34m.\u001b[0m\u001b[0mto_pandas\u001b[0m\u001b[0;34m(\u001b[0m\u001b[0;34m)\u001b[0m\u001b[0;34m)\u001b[0m\u001b[0;34m\u001b[0m\u001b[0m\n\u001b[0m\u001b[1;32m      2\u001b[0m \u001b[0;32mfor\u001b[0m \u001b[0malpha\u001b[0m \u001b[0;32min\u001b[0m \u001b[0;34m[\u001b[0m\u001b[0;34m-\u001b[0m\u001b[0;36m3\u001b[0m\u001b[0;34m,\u001b[0m \u001b[0;34m-\u001b[0m\u001b[0;36m2\u001b[0m\u001b[0;34m,\u001b[0m \u001b[0;34m-\u001b[0m\u001b[0;36m1\u001b[0m\u001b[0;34m,\u001b[0m \u001b[0;36m0\u001b[0m\u001b[0;34m]\u001b[0m\u001b[0;34m:\u001b[0m\u001b[0;34m\u001b[0m\u001b[0m\n\u001b[1;32m      3\u001b[0m     \u001b[0;32mfor\u001b[0m \u001b[0mbeta\u001b[0m \u001b[0;32min\u001b[0m \u001b[0mnumpy\u001b[0m\u001b[0;34m.\u001b[0m\u001b[0mlinspace\u001b[0m\u001b[0;34m(\u001b[0m\u001b[0;36m0.5\u001b[0m\u001b[0;34m,\u001b[0m \u001b[0;36m1.2\u001b[0m\u001b[0;34m,\u001b[0m \u001b[0;36m5\u001b[0m\u001b[0;34m)\u001b[0m\u001b[0;34m:\u001b[0m\u001b[0;34m\u001b[0m\u001b[0m\n\u001b[1;32m      4\u001b[0m         \u001b[0;32mprint\u001b[0m \u001b[0malpha\u001b[0m\u001b[0;34m,\u001b[0m \u001b[0;34m'\\t'\u001b[0m\u001b[0;34m,\u001b[0m \u001b[0mbeta\u001b[0m\u001b[0;34m,\u001b[0m \u001b[0;34m'\\t'\u001b[0m\u001b[0;34m,\u001b[0m \u001b[0mcompute_auc_with_attention\u001b[0m\u001b[0;34m(\u001b[0m\u001b[0mdata\u001b[0m\u001b[0;34m,\u001b[0m \u001b[0m_proba\u001b[0m\u001b[0;34m,\u001b[0m \u001b[0malpha\u001b[0m \u001b[0;34m+\u001b[0m \u001b[0mbeta\u001b[0m \u001b[0;34m*\u001b[0m \u001b[0mstable_attention\u001b[0m\u001b[0;34m)\u001b[0m\u001b[0;34m\u001b[0m\u001b[0m\n",
      "\u001b[0;31mNameError\u001b[0m: name 'dt' is not defined"
     ]
    }
   ],
   "source": [
    "_proba = dt.predict_proba(data.to_pandas())\n",
    "for alpha in [-3, -2, -1, 0]:\n",
    "    for beta in numpy.linspace(0.5, 1.2, 5):\n",
    "        print alpha, '\\t', beta, '\\t', compute_auc_with_attention(data, _proba, alpha + beta * stable_attention)"
   ]
  },
  {
   "cell_type": "markdown",
   "metadata": {},
   "source": [
    "## Attention (пошла в презентацию)\n",
    "того, что взаимное обучение attention и классификатора работает. \n"
   ]
  },
  {
   "cell_type": "code",
   "execution_count": 18,
   "metadata": {
    "collapsed": true
   },
   "outputs": [],
   "source": [
    "def train_on_data(data):\n",
    "    # lazy start\n",
    "    _attention = numpy.zeros(len(data))\n",
    "    _correctness = numpy.zeros(len(data))\n",
    "\n",
    "    for iteration in range(3):\n",
    "        dt_classifier = FoldingGroupClassifier(base_clf, n_folds=3, group_feature='event_id', random_state=iteration * 10)\n",
    "        dt_classifier.fit(data[features + ['event_id']].to_pandas(),\n",
    "                          data['label'], sample_weight=compute_weights(data, _attention))\n",
    "\n",
    "        _correctness = logit(dt_classifier.predict_proba(data.to_pandas())[:, 1]) * (2 * data['label'] - 1)\n",
    "\n",
    "        # print compute_auc_with_attention(data, dt_classifier.predict_proba(data.to_pandas()), _attention)\n",
    "\n",
    "        dt_attention = FoldingGroupClassifier(base_clf, n_folds=3, group_feature='event_id', random_state=3 + iteration * 1222)\n",
    "        dt_attention.fit(data[features + ['event_id']].to_pandas(),\n",
    "                         _correctness > numpy.percentile(_correctness, 70))\n",
    "\n",
    "        _attention = logit(dt_attention.predict_proba(data.to_pandas())[:, 1])\n",
    "        print compute_auc_with_attention(data, dt_classifier.predict_proba(data.to_pandas()), _attention)\n",
    "    return dt_classifier, dt_attention"
   ]
  },
  {
   "cell_type": "code",
   "execution_count": 20,
   "metadata": {
    "collapsed": false
   },
   "outputs": [
    {
     "name": "stdout",
     "output_type": "stream",
     "text": [
      "KFold prediction using folds column\n",
      "KFold prediction using folds column\n",
      "KFold prediction using folds column\n",
      "0.610127835082\n",
      "KFold prediction using folds column\n",
      "KFold prediction using folds column\n",
      "KFold prediction using folds column\n",
      "0.62152978986\n",
      "KFold prediction using folds column\n",
      "KFold prediction using folds column\n",
      "KFold prediction using folds column\n",
      "0.622016675527\n",
      "KFold prediction using folds column\n",
      "KFold prediction using folds column\n",
      "KFold prediction using folds column\n",
      "0.641029651969\n",
      "KFold prediction using folds column\n",
      "KFold prediction using folds column\n",
      "KFold prediction using folds column\n",
      "0.64440339704\n",
      "KFold prediction using folds column\n",
      "KFold prediction using folds column\n",
      "KFold prediction using folds column\n",
      "0.643039992384\n",
      "KFold prediction using folds column\n",
      "KFold prediction using folds column\n",
      "KFold prediction using folds column\n",
      "0.65425724553\n",
      "KFold prediction using folds column\n",
      "KFold prediction using folds column\n",
      "KFold prediction using folds column\n",
      "0.654431302348\n",
      "KFold prediction using folds column\n",
      "KFold prediction using folds column\n",
      "KFold prediction using folds column\n",
      "0.652032170601\n",
      "KFold prediction using folds column\n",
      "KFold prediction using folds column\n",
      "KFold prediction using folds column\n",
      "0.658556712818\n",
      "KFold prediction using folds column\n",
      "KFold prediction using folds column\n",
      "KFold prediction using folds column\n",
      "0.657764573208\n",
      "KFold prediction using folds column\n",
      "KFold prediction using folds column\n",
      "KFold prediction using folds column\n",
      "0.658339355707\n",
      "KFold prediction using folds column\n",
      "KFold prediction using folds column\n",
      "KFold prediction using folds column\n",
      "0.658107715109\n",
      "KFold prediction using folds column\n",
      "KFold prediction using folds column\n",
      "KFold prediction using folds column\n",
      "0.658251717588\n",
      "KFold prediction using folds column\n",
      "KFold prediction using folds column\n",
      "KFold prediction using folds column\n",
      "0.658467840845\n"
     ]
    }
   ],
   "source": [
    "models = {}\n",
    "assert len(data) >= 10 * 10 ** 6\n",
    "for train_size in [100000, 300000, 10 ** 6, 3 * 10 ** 6, 10 ** 7]: # , 1000000, 3000000\n",
    "    models[train_size] = train_on_data(data[:train_size])"
   ]
  },
  {
   "cell_type": "code",
   "execution_count": 19,
   "metadata": {
    "collapsed": true
   },
   "outputs": [],
   "source": [
    "models_simple_dt = OrderedDict()\n",
    "for train_size in [100000, 300000, 10 ** 6, 3 * 10 ** 6, 10 ** 7]: # , 1000000, 3000000\n",
    "    _dt = FoldingGroupClassifier(base_clf, n_folds=3, group_feature='event_id')\n",
    "    _dt.fit(data[features + ['event_id']][:train_size].to_pandas(), data['label'][:train_size])\n",
    "    models_simple_dt[train_size] = _dt"
   ]
  },
  {
   "cell_type": "code",
   "execution_count": 28,
   "metadata": {
    "collapsed": false
   },
   "outputs": [],
   "source": [
    "# import cPickle\n",
    "# with open('./attention_models.pkl', 'w') as f:\n",
    "#     cPickle.dump([models, models_simple_dt], f, protocol=2)"
   ]
  },
  {
   "cell_type": "code",
   "execution_count": 264,
   "metadata": {
    "collapsed": false
   },
   "outputs": [],
   "source": [
    "import cPickle\n",
    "with open('./attention_models.pkl', 'r') as f:\n",
    "    models, models_simple_dt = cPickle.load(f)"
   ]
  },
  {
   "cell_type": "code",
   "execution_count": 272,
   "metadata": {
    "collapsed": true
   },
   "outputs": [],
   "source": [
    "def compute_auc_with_attention_and_error(data, track_proba, track_attention):\n",
    "    assert track_proba.shape == (len(data), 2)\n",
    "    assert len(track_attention) == len(data)\n",
    "    tracks_weights = compute_weights(data, track_attention)\n",
    "    event_predictions = numpy.bincount(\n",
    "        data['event_id'], weights=logit(track_proba[:, 1]) * data['signTrack'] * tracks_weights)\n",
    "    B_signs = data['signB'].group_by(data['event_id']).groups.aggregate(numpy.mean)\n",
    "    values = []\n",
    "    \n",
    "    for i in range(20):\n",
    "        mask = numpy.random.RandomState(i).uniform(size=len(B_signs)) > 0.5\n",
    "        values.append(roc_auc_score(B_signs[mask], event_predictions[mask]))\n",
    "        \n",
    "    return numpy.mean(values), numpy.std(values)"
   ]
  },
  {
   "cell_type": "code",
   "execution_count": 279,
   "metadata": {
    "collapsed": false
   },
   "outputs": [
    {
     "name": "stdout",
     "output_type": "stream",
     "text": [
      "KFold prediction using random classifier (length of data passed not equal to length of train)\n",
      "KFold prediction using random classifier (length of data passed not equal to length of train)\n",
      "KFold prediction using random classifier (length of data passed not equal to length of train)\n",
      "KFold prediction using random classifier (length of data passed not equal to length of train)\n",
      "KFold prediction using random classifier (length of data passed not equal to length of train)\n",
      "KFold prediction using random classifier (length of data passed not equal to length of train)\n",
      "KFold prediction using random classifier (length of data passed not equal to length of train)\n",
      "KFold prediction using random classifier (length of data passed not equal to length of train)\n",
      "KFold prediction using folds column\n",
      "KFold prediction using folds column\n"
     ]
    }
   ],
   "source": [
    "attention_aucs = OrderedDict()\n",
    "for size, (dt_classifier, dt_attention) in sorted(models.iteritems()):\n",
    "    attention_aucs[size] = compute_auc_with_attention_and_error(\n",
    "        check_data, \n",
    "        dt_classifier.predict_proba(check_data.to_pandas()), \n",
    "        logit(dt_attention.predict_proba(check_data.to_pandas())[:, 1]) \n",
    "    )"
   ]
  },
  {
   "cell_type": "code",
   "execution_count": 273,
   "metadata": {
    "collapsed": false
   },
   "outputs": [
    {
     "name": "stdout",
     "output_type": "stream",
     "text": [
      "KFold prediction using random classifier (length of data passed not equal to length of train)\n",
      "KFold prediction using random classifier (length of data passed not equal to length of train)\n",
      "KFold prediction using random classifier (length of data passed not equal to length of train)\n",
      "KFold prediction using random classifier (length of data passed not equal to length of train)\n",
      "KFold prediction using folds column\n"
     ]
    }
   ],
   "source": [
    "dt_aucs = OrderedDict()\n",
    "for size, _dt_classifier in sorted(models_simple_dt.iteritems()):\n",
    "    dt_aucs[size] = compute_auc_with_attention_and_error(\n",
    "        check_data, \n",
    "        _dt_classifier.predict_proba(check_data.to_pandas()), \n",
    "        numpy.zeros(len(check_data))\n",
    "    )"
   ]
  },
  {
   "cell_type": "code",
   "execution_count": 285,
   "metadata": {
    "collapsed": false
   },
   "outputs": [
    {
     "data": {
      "image/png": "[encoded data removed]",
      "text/plain": [
       "<matplotlib.figure.Figure at 0x7f3f5ffe1ed0>"
      ]
     },
     "metadata": {},
     "output_type": "display_data"
    }
   ],
   "source": [
    "plt.figure(figsize=[12, 9])\n",
    "x_ticks = range(len(dt_aucs))\n",
    "# plt.plot(dt_aucs.values(), 'o--', label='plain DT', markersize=10)\n",
    "plt.errorbar(x_ticks,\n",
    "             [x for (x, _) in dt_aucs.values()], \n",
    "             yerr=[x for (_, x) in dt_aucs.values()], fmt='o--', label='DT, no attention', markersize=10)\n",
    "# plt.plot(attention_aucs.values(), 'x--', label='with attention', markersize=10)\n",
    "plt.errorbar(x_ticks,\n",
    "             [x for (x, _) in attention_aucs.values()], \n",
    "             yerr=[x for (_, x) in attention_aucs.values()], fmt='x--', label='with attention', markersize=10)\n",
    "\n",
    "plt.xticks(x_ticks, dt_aucs.keys(), fontsize=13)\n",
    "plt.legend(loc='lower right', fontsize=25)\n",
    "plt.xlabel('size of training sample', fontsize=20)\n",
    "plt.ylabel('tagging ROC AUC', fontsize=20)\n",
    "plt.xlim(-0.5, 4.5)\n",
    "plt.savefig('./attention_quality.png', bbox_inches='tight')"
   ]
  },
  {
   "cell_type": "code",
   "execution_count": 40,
   "metadata": {
    "collapsed": true
   },
   "outputs": [],
   "source": [
    "# orders = compute_orders(data['event_id'], correctness)"
   ]
  },
  {
   "cell_type": "code",
   "execution_count": 41,
   "metadata": {
    "collapsed": false
   },
   "outputs": [],
   "source": [
    "# for percentile in [60, 70, 80]:\n",
    "#     for n_tracks in [3, 5, 7]:\n",
    "#         # lazy start\n",
    "#         _attention = numpy.zeros(len(data))\n",
    "\n",
    "#         dt_classifier = FoldingGroupClassifier(base_clf, n_folds=2, group_feature='event_id')\n",
    "#         dt_classifier.fit(data[features + ['event_id']].to_pandas(),\n",
    "#                           data['label'], sample_weight=compute_weights(data, _attention))\n",
    "\n",
    "#         _correctness = logit(dt_classifier.predict_proba(data.to_pandas())[:, 1]) * (2 * data['label'] - 1)\n",
    "\n",
    "#         dt_attention = FoldingGroupClassifier(base_clf, n_folds=2, group_feature='event_id')\n",
    "#         dt_attention.fit(data[features + ['event_id']].to_pandas(),\n",
    "#                          (_correctness > numpy.percentile(_correctness, percentile)) * (orders < n_tracks) )\n",
    "\n",
    "#         _attention = logit(dt_attention.predict_proba(data.to_pandas())[:, 1])\n",
    "\n",
    "#         print n_tracks, '\\t', percentile, '\\t', \\\n",
    "#             compute_auc_with_attention(data, dt_classifier.predict_proba(data.to_pandas()), _attention)"
   ]
  },
  {
   "cell_type": "markdown",
   "metadata": {},
   "source": [
    "## Небольшое сравнение importance для моделей attention и classifier"
   ]
  },
  {
   "cell_type": "code",
   "execution_count": null,
   "metadata": {
    "collapsed": false
   },
   "outputs": [],
   "source": [
    "# sorted(zip(dt_classifier.estimators[0].feature_importances_, features))"
   ]
  },
  {
   "cell_type": "code",
   "execution_count": null,
   "metadata": {
    "collapsed": false
   },
   "outputs": [],
   "source": [
    "# sorted(zip(dt_attention.estimators[0].feature_importances_, features))"
   ]
  },
  {
   "cell_type": "markdown",
   "metadata": {},
   "source": [
    "# Сравнение моделей (для презентации)\n"
   ]
  },
  {
   "cell_type": "code",
   "execution_count": 40,
   "metadata": {
    "collapsed": false
   },
   "outputs": [
    {
     "name": "stdout",
     "output_type": "stream",
     "text": [
      "CPU times: user 23min 4s, sys: 3.07 s, total: 23min 7s\n",
      "Wall time: 2min 7s\n"
     ]
    }
   ],
   "source": [
    "%%time\n",
    "from rep.estimators import XGBoostClassifier\n",
    "n_train = 10 ** 6\n",
    "\n",
    "xgb = FoldingGroupClassifier(XGBoostClassifier(n_estimators=100, eta=0.05, random_state=42), \n",
    "                             n_folds=2, group_feature='event_id', train_features=features, random_state=1337)\n",
    "_ = xgb.fit(data[features + ['event_id']][:n_train].to_pandas(), data['label'][:n_train])"
   ]
  },
  {
   "cell_type": "code",
   "execution_count": 41,
   "metadata": {
    "collapsed": false
   },
   "outputs": [
    {
     "name": "stdout",
     "output_type": "stream",
     "text": [
      "KFold prediction using random classifier (length of data passed not equal to length of train)\n",
      "0.638642631985\n",
      "0.643473898638\n",
      "0.64472352472\n",
      "0.645455797349\n",
      "0.645492431884\n",
      "0.645047959403\n",
      "0.644323441615\n",
      "0.643503284718\n",
      "0.64271961868\n",
      "0.6416346645\n"
     ]
    }
   ],
   "source": [
    "# raw quality \n",
    "for p in xgb.staged_predict_proba(check_data.to_pandas()):\n",
    "    print compute_simple_auc(check_data, p)"
   ]
  },
  {
   "cell_type": "code",
   "execution_count": 42,
   "metadata": {
    "collapsed": false
   },
   "outputs": [],
   "source": [
    "# raw quality\n",
    "# for p in xgb.staged_predict_proba(data.to_pandas()):\n",
    "#     print compute_simple_auc(data, p)"
   ]
  },
  {
   "cell_type": "code",
   "execution_count": 157,
   "metadata": {
    "collapsed": false
   },
   "outputs": [
    {
     "name": "stdout",
     "output_type": "stream",
     "text": [
      "CPU times: user 2min 34s, sys: 1.31 s, total: 2min 35s\n",
      "Wall time: 13.5 s\n"
     ]
    }
   ],
   "source": [
    "%%time\n",
    "dt_1m = FoldingGroupClassifier(\n",
    "    DecisionTrainClassifier(n_estimators=1000, learning_rate=0.01, n_threads=len(features), max_features=1.0),\n",
    "                            n_folds=2, group_feature='event_id', train_features=features, random_state=1337)\n",
    "dt_1m.fit(data[features + ['event_id']][:n_train].to_pandas(), data['label'][:n_train]);"
   ]
  },
  {
   "cell_type": "code",
   "execution_count": 158,
   "metadata": {
    "collapsed": false
   },
   "outputs": [
    {
     "name": "stdout",
     "output_type": "stream",
     "text": [
      "KFold prediction using random classifier (length of data passed not equal to length of train)\n",
      "0.595834456784\n",
      "0.615225577611\n",
      "0.634637995935\n",
      "0.645308082353\n",
      "0.650191223429\n",
      "0.652475850165\n",
      "0.653876383608\n",
      "0.654241717205\n",
      "0.654306658251\n",
      "0.653900852144\n"
     ]
    }
   ],
   "source": [
    "# raw quality \n",
    "for p in dt_1m.staged_predict_proba(check_data.to_pandas()):\n",
    "    print compute_simple_auc(check_data, p)"
   ]
  },
  {
   "cell_type": "markdown",
   "metadata": {},
   "source": [
    "### нейросетки"
   ]
  },
  {
   "cell_type": "code",
   "execution_count": 45,
   "metadata": {
    "collapsed": true
   },
   "outputs": [],
   "source": [
    "from hep_ml.nnet import MLPClassifier"
   ]
  },
  {
   "cell_type": "code",
   "execution_count": 48,
   "metadata": {
    "collapsed": false
   },
   "outputs": [
    {
     "name": "stdout",
     "output_type": "stream",
     "text": [
      "KFold prediction using random classifier (length of data passed not equal to length of train)\n",
      "0.614285319801\n",
      "KFold prediction using random classifier (length of data passed not equal to length of train)\n",
      "0.617953778445\n",
      "KFold prediction using random classifier (length of data passed not equal to length of train)\n",
      "0.619746450922\n",
      "KFold prediction using random classifier (length of data passed not equal to length of train)\n",
      "0.620437567331\n"
     ]
    }
   ],
   "source": [
    "# 0.6204 - 400\n",
    "for epochs in [50, 100, 200, 400]:\n",
    "    nn = FoldingGroupClassifier(MLPClassifier(layers=[30, 20], epochs=epochs, scaler='iron', random_state=42), \n",
    "                                n_folds=2, group_feature='event_id', train_features=features, random_state=1337)\n",
    "    nn.fit(data[features + ['event_id']][:n_train].to_pandas(), data['label'][:n_train]);\n",
    "    print compute_simple_auc(check_data, nn.predict_proba(check_data.to_pandas()))"
   ]
  },
  {
   "cell_type": "code",
   "execution_count": null,
   "metadata": {
    "collapsed": false
   },
   "outputs": [
    {
     "name": "stdout",
     "output_type": "stream",
     "text": [
      "KFold prediction using random classifier (length of data passed not equal to length of train)\n",
      "0.610424550577\n",
      "CPU times: user 1h 29min 35s, sys: 7min 30s, total: 1h 37min 6s\n",
      "Wall time: 28min 2s\n"
     ]
    }
   ],
   "source": [
    "%%time\n",
    "for epochs in [800]:\n",
    "    nn = FoldingGroupClassifier(MLPClassifier(layers=[30, 20], epochs=epochs, scaler='iron', random_state=42), \n",
    "                                n_folds=2, group_feature='event_id', train_features=features, random_state=1337)\n",
    "    nn.fit(data[features + ['event_id']][:n_train].to_pandas(), data['label'][:n_train]);\n",
    "    print compute_simple_auc(check_data, nn.predict_proba(check_data.to_pandas()))"
   ]
  },
  {
   "cell_type": "code",
   "execution_count": 163,
   "metadata": {
    "collapsed": false
   },
   "outputs": [
    {
     "name": "stdout",
     "output_type": "stream",
     "text": [
      "KFold prediction using random classifier (length of data passed not equal to length of train)\n",
      "0.612723139429\n"
     ]
    }
   ],
   "source": [
    "print compute_simple_auc(data, nn.predict_proba(data.to_pandas()))"
   ]
  },
  {
   "cell_type": "markdown",
   "metadata": {},
   "source": [
    "## Для сравнения возьмем простой MLP из keras\n",
    "\n",
    "\n",
    "84 sec/ iteration"
   ]
  },
  {
   "cell_type": "code",
   "execution_count": 100,
   "metadata": {
    "collapsed": false
   },
   "outputs": [],
   "source": [
    "from keras.utils.np_utils import to_categorical\n",
    "from keras.models import Sequential\n",
    "from keras.layers import Dense, Dropout, BatchNormalization\n",
    "from keras.optimizers import Adam"
   ]
  },
  {
   "cell_type": "code",
   "execution_count": 154,
   "metadata": {
    "collapsed": false
   },
   "outputs": [
    {
     "name": "stdout",
     "output_type": "stream",
     "text": [
      "0.000050\n"
     ]
    }
   ],
   "source": [
    "print \"%f\" % (1e-3 / 20 )"
   ]
  },
  {
   "cell_type": "code",
   "execution_count": 101,
   "metadata": {
    "collapsed": true
   },
   "outputs": [],
   "source": [
    "model = Sequential()\n",
    "model.add(BatchNormalization(input_shape=(len(features),)))\n",
    "model.add(Dense(300, activation='relu'))\n",
    "model.add(Dropout(0.05))\n",
    "model.add(Dense(300, activation='tanh'))\n",
    "model.add(Dropout(0.1))\n",
    "model.add(Dense(2, activation='softmax'))\n",
    "\n",
    "model.compile(loss='categorical_crossentropy',\n",
    "              optimizer=Adam(lr=1e-3 / 20),\n",
    "              metrics=['accuracy', ])"
   ]
  },
  {
   "cell_type": "code",
   "execution_count": 102,
   "metadata": {
    "collapsed": true
   },
   "outputs": [],
   "source": [
    "# from sklearn.metrics import log_loss\n",
    "def train_nn(data, check_data, n_epochs=100):\n",
    "    numpy.random.seed(1337)\n",
    "    _X, _y = data[features].to_pandas().values, to_categorical(data['label'])\n",
    "    _check_X, _check_y = check_data[features].to_pandas().values, to_categorical(check_data['label'])\n",
    "    for _ in range(n_epochs):\n",
    "        history = model.fit(_X, _y, \n",
    "            nb_epoch=1, verbose=2, \n",
    "        )\n",
    "\n",
    "        _track_proba = model.predict_proba(_check_X, verbose=2)\n",
    "\n",
    "\n",
    "        histories.append(history)\n",
    "        nn_evaluations_simple.append(compute_simple_auc(check_data, _track_proba))\n",
    "        nn_evaluations_attention.append(compute_auc_with_attention(check_data, _track_proba, \n",
    "                                                                   numpy.zeros(len(check_data)) - 2))\n",
    "        nn_evaluations_testlosses.append(log_loss(_check_y[:, 1], _track_proba))\n"
   ]
  },
  {
   "cell_type": "code",
   "execution_count": null,
   "metadata": {
    "collapsed": true
   },
   "outputs": [
    {
     "name": "stdout",
     "output_type": "stream",
     "text": [
      "126s - loss: 0.6917 - acc: 0.5170\n"
     ]
    },
    {
     "ename": "KeyboardInterrupt",
     "evalue": "",
     "output_type": "error",
     "traceback": [
      "\u001b[0;31m---------------------------------------------------------------------------\u001b[0m",
      "\u001b[0;31mKeyboardInterrupt\u001b[0m                         Traceback (most recent call last)",
      "\u001b[0;32m<ipython-input-103-f4d3c4ed1836>\u001b[0m in \u001b[0;36m<module>\u001b[0;34m()\u001b[0m\n\u001b[1;32m      3\u001b[0m \u001b[0mnn_evaluations_attention\u001b[0m \u001b[0;34m=\u001b[0m \u001b[0;34m[\u001b[0m\u001b[0;34m]\u001b[0m\u001b[0;34m\u001b[0m\u001b[0m\n\u001b[1;32m      4\u001b[0m \u001b[0mnn_evaluations_testlosses\u001b[0m \u001b[0;34m=\u001b[0m \u001b[0;34m[\u001b[0m\u001b[0;34m]\u001b[0m\u001b[0;34m\u001b[0m\u001b[0m\n\u001b[0;32m----> 5\u001b[0;31m \u001b[0mtrain_nn\u001b[0m\u001b[0;34m(\u001b[0m\u001b[0mdata\u001b[0m\u001b[0;34m[\u001b[0m\u001b[0;34m:\u001b[0m\u001b[0mn_train\u001b[0m\u001b[0;34m]\u001b[0m\u001b[0;34m,\u001b[0m \u001b[0mcheck_data\u001b[0m\u001b[0;34m,\u001b[0m \u001b[0mn_epochs\u001b[0m\u001b[0;34m=\u001b[0m\u001b[0;36m100\u001b[0m\u001b[0;34m)\u001b[0m\u001b[0;34m\u001b[0m\u001b[0m\n\u001b[0m",
      "\u001b[0;32m<ipython-input-102-2596aa352590>\u001b[0m in \u001b[0;36mtrain_nn\u001b[0;34m(data, check_data, n_epochs)\u001b[0m\n\u001b[1;32m      9\u001b[0m         )\n\u001b[1;32m     10\u001b[0m \u001b[0;34m\u001b[0m\u001b[0m\n\u001b[0;32m---> 11\u001b[0;31m         \u001b[0m_track_proba\u001b[0m \u001b[0;34m=\u001b[0m \u001b[0mmodel\u001b[0m\u001b[0;34m.\u001b[0m\u001b[0mpredict_proba\u001b[0m\u001b[0;34m(\u001b[0m\u001b[0m_check_X\u001b[0m\u001b[0;34m,\u001b[0m \u001b[0mverbose\u001b[0m\u001b[0;34m=\u001b[0m\u001b[0;36m2\u001b[0m\u001b[0;34m)\u001b[0m\u001b[0;34m\u001b[0m\u001b[0m\n\u001b[0m\u001b[1;32m     12\u001b[0m \u001b[0;34m\u001b[0m\u001b[0m\n\u001b[1;32m     13\u001b[0m \u001b[0;34m\u001b[0m\u001b[0m\n",
      "\u001b[0;32m/mnt/mfs/miniconda/envs/rep_py2/lib/python2.7/site-packages/keras/models.pyc\u001b[0m in \u001b[0;36mpredict_proba\u001b[0;34m(self, x, batch_size, verbose)\u001b[0m\n\u001b[1;32m    756\u001b[0m             \u001b[0mA\u001b[0m \u001b[0mNumpy\u001b[0m \u001b[0marray\u001b[0m \u001b[0mof\u001b[0m \u001b[0mprobability\u001b[0m \u001b[0mpredictions\u001b[0m\u001b[0;34m.\u001b[0m\u001b[0;34m\u001b[0m\u001b[0m\n\u001b[1;32m    757\u001b[0m         '''\n\u001b[0;32m--> 758\u001b[0;31m         \u001b[0mpreds\u001b[0m \u001b[0;34m=\u001b[0m \u001b[0mself\u001b[0m\u001b[0;34m.\u001b[0m\u001b[0mpredict\u001b[0m\u001b[0;34m(\u001b[0m\u001b[0mx\u001b[0m\u001b[0;34m,\u001b[0m \u001b[0mbatch_size\u001b[0m\u001b[0;34m,\u001b[0m \u001b[0mverbose\u001b[0m\u001b[0;34m)\u001b[0m\u001b[0;34m\u001b[0m\u001b[0m\n\u001b[0m\u001b[1;32m    759\u001b[0m         \u001b[0;32mif\u001b[0m \u001b[0mpreds\u001b[0m\u001b[0;34m.\u001b[0m\u001b[0mmin\u001b[0m\u001b[0;34m(\u001b[0m\u001b[0;34m)\u001b[0m \u001b[0;34m<\u001b[0m \u001b[0;36m0.\u001b[0m \u001b[0;32mor\u001b[0m \u001b[0mpreds\u001b[0m\u001b[0;34m.\u001b[0m\u001b[0mmax\u001b[0m\u001b[0;34m(\u001b[0m\u001b[0;34m)\u001b[0m \u001b[0;34m>\u001b[0m \u001b[0;36m1.\u001b[0m\u001b[0;34m:\u001b[0m\u001b[0;34m\u001b[0m\u001b[0m\n\u001b[1;32m    760\u001b[0m             warnings.warn('Network returning invalid probability values. '\n",
      "\u001b[0;32m/mnt/mfs/miniconda/envs/rep_py2/lib/python2.7/site-packages/keras/models.pyc\u001b[0m in \u001b[0;36mpredict\u001b[0;34m(self, x, batch_size, verbose)\u001b[0m\n\u001b[1;32m    669\u001b[0m         \u001b[0;32mif\u001b[0m \u001b[0mself\u001b[0m\u001b[0;34m.\u001b[0m\u001b[0mmodel\u001b[0m \u001b[0;32mis\u001b[0m \u001b[0mNone\u001b[0m\u001b[0;34m:\u001b[0m\u001b[0;34m\u001b[0m\u001b[0m\n\u001b[1;32m    670\u001b[0m             \u001b[0mself\u001b[0m\u001b[0;34m.\u001b[0m\u001b[0mbuild\u001b[0m\u001b[0;34m(\u001b[0m\u001b[0;34m)\u001b[0m\u001b[0;34m\u001b[0m\u001b[0m\n\u001b[0;32m--> 671\u001b[0;31m         \u001b[0;32mreturn\u001b[0m \u001b[0mself\u001b[0m\u001b[0;34m.\u001b[0m\u001b[0mmodel\u001b[0m\u001b[0;34m.\u001b[0m\u001b[0mpredict\u001b[0m\u001b[0;34m(\u001b[0m\u001b[0mx\u001b[0m\u001b[0;34m,\u001b[0m \u001b[0mbatch_size\u001b[0m\u001b[0;34m=\u001b[0m\u001b[0mbatch_size\u001b[0m\u001b[0;34m,\u001b[0m \u001b[0mverbose\u001b[0m\u001b[0;34m=\u001b[0m\u001b[0mverbose\u001b[0m\u001b[0;34m)\u001b[0m\u001b[0;34m\u001b[0m\u001b[0m\n\u001b[0m\u001b[1;32m    672\u001b[0m \u001b[0;34m\u001b[0m\u001b[0m\n\u001b[1;32m    673\u001b[0m     \u001b[0;32mdef\u001b[0m \u001b[0mpredict_on_batch\u001b[0m\u001b[0;34m(\u001b[0m\u001b[0mself\u001b[0m\u001b[0;34m,\u001b[0m \u001b[0mx\u001b[0m\u001b[0;34m)\u001b[0m\u001b[0;34m:\u001b[0m\u001b[0;34m\u001b[0m\u001b[0m\n",
      "\u001b[0;32m/mnt/mfs/miniconda/envs/rep_py2/lib/python2.7/site-packages/keras/engine/training.pyc\u001b[0m in \u001b[0;36mpredict\u001b[0;34m(self, x, batch_size, verbose)\u001b[0m\n\u001b[1;32m   1175\u001b[0m         \u001b[0mf\u001b[0m \u001b[0;34m=\u001b[0m \u001b[0mself\u001b[0m\u001b[0;34m.\u001b[0m\u001b[0mpredict_function\u001b[0m\u001b[0;34m\u001b[0m\u001b[0m\n\u001b[1;32m   1176\u001b[0m         return self._predict_loop(f, ins,\n\u001b[0;32m-> 1177\u001b[0;31m                                   batch_size=batch_size, verbose=verbose)\n\u001b[0m\u001b[1;32m   1178\u001b[0m \u001b[0;34m\u001b[0m\u001b[0m\n\u001b[1;32m   1179\u001b[0m     def train_on_batch(self, x, y,\n",
      "\u001b[0;32m/mnt/mfs/miniconda/envs/rep_py2/lib/python2.7/site-packages/keras/engine/training.pyc\u001b[0m in \u001b[0;36m_predict_loop\u001b[0;34m(self, f, ins, batch_size, verbose)\u001b[0m\n\u001b[1;32m    874\u001b[0m                 \u001b[0mins_batch\u001b[0m \u001b[0;34m=\u001b[0m \u001b[0mslice_X\u001b[0m\u001b[0;34m(\u001b[0m\u001b[0mins\u001b[0m\u001b[0;34m,\u001b[0m \u001b[0mbatch_ids\u001b[0m\u001b[0;34m)\u001b[0m\u001b[0;34m\u001b[0m\u001b[0m\n\u001b[1;32m    875\u001b[0m \u001b[0;34m\u001b[0m\u001b[0m\n\u001b[0;32m--> 876\u001b[0;31m             \u001b[0mbatch_outs\u001b[0m \u001b[0;34m=\u001b[0m \u001b[0mf\u001b[0m\u001b[0;34m(\u001b[0m\u001b[0mins_batch\u001b[0m\u001b[0;34m)\u001b[0m\u001b[0;34m\u001b[0m\u001b[0m\n\u001b[0m\u001b[1;32m    877\u001b[0m             \u001b[0;32mif\u001b[0m \u001b[0mtype\u001b[0m\u001b[0;34m(\u001b[0m\u001b[0mbatch_outs\u001b[0m\u001b[0;34m)\u001b[0m \u001b[0;34m!=\u001b[0m \u001b[0mlist\u001b[0m\u001b[0;34m:\u001b[0m\u001b[0;34m\u001b[0m\u001b[0m\n\u001b[1;32m    878\u001b[0m                 \u001b[0mbatch_outs\u001b[0m \u001b[0;34m=\u001b[0m \u001b[0;34m[\u001b[0m\u001b[0mbatch_outs\u001b[0m\u001b[0;34m]\u001b[0m\u001b[0;34m\u001b[0m\u001b[0m\n",
      "\u001b[0;32m/mnt/mfs/miniconda/envs/rep_py2/lib/python2.7/site-packages/keras/backend/theano_backend.pyc\u001b[0m in \u001b[0;36m__call__\u001b[0;34m(self, inputs)\u001b[0m\n\u001b[1;32m    670\u001b[0m     \u001b[0;32mdef\u001b[0m \u001b[0m__call__\u001b[0m\u001b[0;34m(\u001b[0m\u001b[0mself\u001b[0m\u001b[0;34m,\u001b[0m \u001b[0minputs\u001b[0m\u001b[0;34m)\u001b[0m\u001b[0;34m:\u001b[0m\u001b[0;34m\u001b[0m\u001b[0m\n\u001b[1;32m    671\u001b[0m         \u001b[0;32massert\u001b[0m \u001b[0mtype\u001b[0m\u001b[0;34m(\u001b[0m\u001b[0minputs\u001b[0m\u001b[0;34m)\u001b[0m \u001b[0;32min\u001b[0m \u001b[0;34m{\u001b[0m\u001b[0mlist\u001b[0m\u001b[0;34m,\u001b[0m \u001b[0mtuple\u001b[0m\u001b[0;34m}\u001b[0m\u001b[0;34m\u001b[0m\u001b[0m\n\u001b[0;32m--> 672\u001b[0;31m         \u001b[0;32mreturn\u001b[0m \u001b[0mself\u001b[0m\u001b[0;34m.\u001b[0m\u001b[0mfunction\u001b[0m\u001b[0;34m(\u001b[0m\u001b[0;34m*\u001b[0m\u001b[0minputs\u001b[0m\u001b[0;34m)\u001b[0m\u001b[0;34m\u001b[0m\u001b[0m\n\u001b[0m\u001b[1;32m    673\u001b[0m \u001b[0;34m\u001b[0m\u001b[0m\n\u001b[1;32m    674\u001b[0m \u001b[0;34m\u001b[0m\u001b[0m\n",
      "\u001b[0;32m/mnt/mfs/miniconda/envs/rep_py2/lib/python2.7/site-packages/theano/compile/function_module.pyc\u001b[0m in \u001b[0;36m__call__\u001b[0;34m(self, *args, **kwargs)\u001b[0m\n\u001b[1;32m    857\u001b[0m         \u001b[0mt0_fn\u001b[0m \u001b[0;34m=\u001b[0m \u001b[0mtime\u001b[0m\u001b[0;34m.\u001b[0m\u001b[0mtime\u001b[0m\u001b[0;34m(\u001b[0m\u001b[0;34m)\u001b[0m\u001b[0;34m\u001b[0m\u001b[0m\n\u001b[1;32m    858\u001b[0m         \u001b[0;32mtry\u001b[0m\u001b[0;34m:\u001b[0m\u001b[0;34m\u001b[0m\u001b[0m\n\u001b[0;32m--> 859\u001b[0;31m             \u001b[0moutputs\u001b[0m \u001b[0;34m=\u001b[0m \u001b[0mself\u001b[0m\u001b[0;34m.\u001b[0m\u001b[0mfn\u001b[0m\u001b[0;34m(\u001b[0m\u001b[0;34m)\u001b[0m\u001b[0;34m\u001b[0m\u001b[0m\n\u001b[0m\u001b[1;32m    860\u001b[0m         \u001b[0;32mexcept\u001b[0m \u001b[0mException\u001b[0m\u001b[0;34m:\u001b[0m\u001b[0;34m\u001b[0m\u001b[0m\n\u001b[1;32m    861\u001b[0m             \u001b[0;32mif\u001b[0m \u001b[0mhasattr\u001b[0m\u001b[0;34m(\u001b[0m\u001b[0mself\u001b[0m\u001b[0;34m.\u001b[0m\u001b[0mfn\u001b[0m\u001b[0;34m,\u001b[0m \u001b[0;34m'position_of_error'\u001b[0m\u001b[0;34m)\u001b[0m\u001b[0;34m:\u001b[0m\u001b[0;34m\u001b[0m\u001b[0m\n",
      "\u001b[0;31mKeyboardInterrupt\u001b[0m: "
     ]
    }
   ],
   "source": [
    "histories = []\n",
    "nn_evaluations_simple = []\n",
    "nn_evaluations_attention = []\n",
    "nn_evaluations_testlosses = []\n",
    "train_nn(data[:n_train], check_data, n_epochs=100)"
   ]
  },
  {
   "cell_type": "code",
   "execution_count": 105,
   "metadata": {
    "collapsed": false
   },
   "outputs": [],
   "source": [
    "with open('./nn_history.pkl', 'w') as f:\n",
    "    cPickle.dump([nn_evaluations_simple, nn_evaluations_attention, nn_evaluations_testlosses, histories], f)"
   ]
  },
  {
   "cell_type": "code",
   "execution_count": 111,
   "metadata": {
    "collapsed": false
   },
   "outputs": [],
   "source": [
    "train_losses = [h.history['loss'] for h in histories]"
   ]
  },
  {
   "cell_type": "code",
   "execution_count": 148,
   "metadata": {
    "collapsed": false
   },
   "outputs": [
    {
     "data": {
      "image/png": "[encoded data removed]",
      "text/plain": [
       "<matplotlib.figure.Figure at 0x7f3f75306310>"
      ]
     },
     "metadata": {},
     "output_type": "display_data"
    }
   ],
   "source": [
    "plt.figure(figsize=[9, 6])\n",
    "plt.plot(train_losses, label='train')\n",
    "plt.plot(nn_evaluations_testlosses, label='test')\n",
    "plt.plot(numpy.zeros(len(nn_evaluations_simple)) + numpy.log(2), 'k--', label='all zeros prediction')\n",
    "plt.xlim(0, 50)\n",
    "plt.ylim(0.680, 0.710)\n",
    "plt.xlabel('number of epochs', fontsize=25)\n",
    "plt.ylabel('loss', fontsize=25)\n",
    "plt.xticks(fontsize=15)\n",
    "plt.yticks(fontsize=15)\n",
    "plt.legend(fontsize=20)\n",
    "plt.text(25, 0.685, '(pay attention to the y-axis scale)', horizontalalignment='center', fontsize=15)\n",
    "plt.savefig('./nns_losses.png', bbox_inches='tight')"
   ]
  },
  {
   "cell_type": "code",
   "execution_count": 149,
   "metadata": {
    "collapsed": false
   },
   "outputs": [
    {
     "data": {
      "image/png": "[encoded data removed]",
      "text/plain": [
       "<matplotlib.figure.Figure at 0x7f3f646443d0>"
      ]
     },
     "metadata": {},
     "output_type": "display_data"
    }
   ],
   "source": [
    "plt.figure(figsize=[9, 6])\n",
    "plt.plot(nn_evaluations_simple)\n",
    "\n",
    "plt.xlabel('number of epochs', fontsize=25)\n",
    "plt.ylabel('test ROC AUC (for mesons)', fontsize=25)\n",
    "\n",
    "plt.xticks(fontsize=15)\n",
    "plt.yticks(fontsize=15)\n",
    "\n",
    "plt.xlim(0, 50)\n",
    "\n",
    "plt.savefig('./nns_rocauc.png', bbox_inches='tight')"
   ]
  },
  {
   "cell_type": "code",
   "execution_count": null,
   "metadata": {
    "collapsed": true
   },
   "outputs": [],
   "source": [
    "_dt = DecisionTrainClassifier(n_estimators=1000, learning_rate=0.01, max_features=1., n_threads=len(features),\n",
    "                              train_features=features)\n",
    "_dt.fit(data[:10**6].to_pandas(), data['label'][:10**6])\n",
    "_step = 50\n",
    "_aucs = []\n",
    "for p in _dt.staged_predict_proba(check_data.to_pandas(), step=_step):\n",
    "    _aucs.append(compute_simple_auc(check_data, p))"
   ]
  },
  {
   "cell_type": "code",
   "execution_count": 215,
   "metadata": {
    "collapsed": false
   },
   "outputs": [
    {
     "data": {
      "image/png": "[encoded data removed]",
      "text/plain": [
       "<matplotlib.figure.Figure at 0x7f3f6478b290>"
      ]
     },
     "metadata": {},
     "output_type": "display_data"
    }
   ],
   "source": [
    "plt.figure(figsize=[9, 6])\n",
    "plt.plot(numpy.arange(1, len(_aucs) + 1) * _step, _aucs, label='DecisionTrain')\n",
    "\n",
    "plt.xlabel('number of epochs', fontsize=25)\n",
    "plt.ylabel('test ROC AUC (for mesons)', fontsize=25)\n",
    "\n",
    "plt.xticks(fontsize=15)\n",
    "plt.yticks(fontsize=15)\n",
    "\n",
    "plt.xlim(0, 1000)\n",
    "plt.legend(fontsize=20, loc='lower right')\n",
    "\n",
    "plt.savefig('./dt1m_roc_history.png', bbox_inches='tight')"
   ]
  },
  {
   "cell_type": "code",
   "execution_count": 160,
   "metadata": {
    "collapsed": false
   },
   "outputs": [
    {
     "data": {
      "text/plain": [
       "0.61715968509065644"
      ]
     },
     "execution_count": 160,
     "metadata": {},
     "output_type": "execute_result"
    }
   ],
   "source": [
    "max(nn_evaluations_simple)"
   ]
  },
  {
   "cell_type": "markdown",
   "metadata": {},
   "source": [
    "### comparison of ROC AUCs"
   ]
  },
  {
   "cell_type": "code",
   "execution_count": 187,
   "metadata": {
    "collapsed": true
   },
   "outputs": [],
   "source": [
    "from sklearn.metrics.ranking import auc, roc_curve"
   ]
  },
  {
   "cell_type": "code",
   "execution_count": 245,
   "metadata": {
    "collapsed": true
   },
   "outputs": [],
   "source": [
    "import cPickle \n",
    "with open('../models/old-rocs-MC-copied', 'r') as f:\n",
    "    baseline_fpr, baseline_tpr, _ = cPickle.load(f)"
   ]
  },
  {
   "cell_type": "code",
   "execution_count": 189,
   "metadata": {
    "collapsed": false
   },
   "outputs": [
    {
     "name": "stdout",
     "output_type": "stream",
     "text": [
      "CPU times: user 17min 42s, sys: 2min 49s, total: 20min 31s\n",
      "Wall time: 2min 46s\n"
     ]
    }
   ],
   "source": [
    "%%time\n",
    "dt_10m = DecisionTrainClassifier(n_estimators=1000, learning_rate=0.03, max_features=1., n_threads=len(features),\n",
    "                                 train_features=features)\n",
    "dt_10m.fit(data.to_pandas(), data['label'])"
   ]
  },
  {
   "cell_type": "code",
   "execution_count": 190,
   "metadata": {
    "collapsed": false
   },
   "outputs": [
    {
     "name": "stdout",
     "output_type": "stream",
     "text": [
      "0.612342754452\n",
      "0.643616104837\n",
      "0.654201817472\n",
      "0.657948858835\n",
      "0.659222108824\n",
      "0.66016853215\n",
      "0.660645284074\n",
      "0.660961170161\n",
      "0.661139341089\n",
      "0.661262581071\n"
     ]
    }
   ],
   "source": [
    "for p in dt_10m.staged_predict_proba(check_data.to_pandas()):\n",
    "    print compute_simple_auc(check_data, p)"
   ]
  },
  {
   "cell_type": "code",
   "execution_count": 194,
   "metadata": {
    "collapsed": false
   },
   "outputs": [],
   "source": [
    "track_proba_10m = dt_10m.predict_proba(check_data.to_pandas())\n",
    "_event_predictions = numpy.bincount(check_data['event_id'], weights=logit(track_proba_10m[:, 1]) * check_data['signTrack'])\n",
    "_B_signs = check_data['signB'].group_by(check_data['event_id']).groups.aggregate(numpy.mean)"
   ]
  },
  {
   "cell_type": "code",
   "execution_count": 195,
   "metadata": {
    "collapsed": true
   },
   "outputs": [],
   "source": [
    "fpr_10m, tpr_10m, _ = roc_curve(_B_signs, _event_predictions)"
   ]
  },
  {
   "cell_type": "code",
   "execution_count": 205,
   "metadata": {
    "collapsed": false
   },
   "outputs": [
    {
     "data": {
      "image/png": "[encoded data removed]",
      "text/plain": [
       "<matplotlib.figure.Figure at 0x7f3f745b3250>"
      ]
     },
     "metadata": {},
     "output_type": "display_data"
    }
   ],
   "source": [
    "plt.figure(figsize=[10, 9])\n",
    "plt.plot(baseline_fpr, baseline_tpr, label='baseline OS, AUC={:.3}'.format(auc(baseline_fpr, baseline_tpr)))\n",
    "plt.plot(fpr_10m, tpr_10m, label='inclusive tagging, AUC={:.3f}'.format(auc(fpr_10m, tpr_10m)) )\n",
    "plt.plot([0,1], [0,1], 'k--', label='random guess')\n",
    "plt.xlabel('FPR', fontsize=25)\n",
    "plt.ylabel('TPR', fontsize=25)\n",
    "plt.legend(loc='lower right', fontsize=20)\n",
    "plt.savefig('./inclusive_vs_old_rocs.png', bbox_inches='tight')"
   ]
  },
  {
   "cell_type": "markdown",
   "metadata": {},
   "source": [
    "## Реальные данные"
   ]
  },
  {
   "cell_type": "code",
   "execution_count": 217,
   "metadata": {
    "collapsed": true
   },
   "outputs": [],
   "source": [
    "real_data = Table(root_numpy.root2array('./Bcharged_data.root', stop=10000000))"
   ]
  },
  {
   "cell_type": "code",
   "execution_count": 219,
   "metadata": {
    "collapsed": false
   },
   "outputs": [],
   "source": [
    "# real_data.colnames"
   ]
  },
  {
   "cell_type": "code",
   "execution_count": 248,
   "metadata": {
    "collapsed": true
   },
   "outputs": [],
   "source": [
    "def compute_simple_auc_with_weight(data, track_proba):\n",
    "    assert track_proba.shape == (len(data), 2)\n",
    "    event_predictions = numpy.bincount(\n",
    "        data['event_id'], weights=logit(track_proba[:, 1]) * data['signTrack'])\n",
    "    B_signs = data['signB'].group_by(data['event_id']).groups.aggregate(numpy.mean)\n",
    "    sweights = data['N_sig_sw'].group_by(data['event_id']).groups.aggregate(numpy.mean) \n",
    "    # TODO delete hack, this is problem in data\n",
    "    sweights[B_signs != numpy.sign(B_signs)] = 0\n",
    "    B_signs[B_signs != numpy.sign(B_signs)] = -1\n",
    "    fpr, tpr, _ = roc_curve(B_signs, event_predictions, sample_weight=sweights)\n",
    "    return roc_auc_score(B_signs, event_predictions, sample_weight=sweights), fpr, tpr"
   ]
  },
  {
   "cell_type": "code",
   "execution_count": null,
   "metadata": {
    "collapsed": true
   },
   "outputs": [],
   "source": [
    "_auc, _fpr_10mcheck, _tpr_10mcheck = \\\n",
    "    compute_simple_auc_with_weight(real_data, track_proba=dt_10m.predict_proba(real_data.to_pandas()))"
   ]
  },
  {
   "cell_type": "code",
   "execution_count": 262,
   "metadata": {
    "collapsed": false
   },
   "outputs": [
    {
     "data": {
      "image/png": "[encoded data removed]",
      "text/plain": [
       "<matplotlib.figure.Figure at 0x7f3f73512d10>"
      ]
     },
     "metadata": {},
     "output_type": "display_data"
    }
   ],
   "source": [
    "plt.figure(figsize=[10, 9])\n",
    "plt.plot(fpr_10m, tpr_10m, label='MC, AUC={:.3}'.format(auc(fpr_10m, tpr_10m)))\n",
    "plt.plot(_fpr_10mcheck, _tpr_10mcheck, label='RD, AUC={:.3f}'.format(_auc) )\n",
    "plt.plot([0,1], [0,1], 'k--', label='random guess')\n",
    "plt.xlabel('FPR', fontsize=25)\n",
    "plt.ylabel('TPR', fontsize=25)\n",
    "plt.legend(loc='lower right', fontsize=20)\n",
    "plt.xlim(0, 1.)\n",
    "plt.ylim(0, 1.)\n",
    "plt.savefig('./inclusive_mc_vs_rd_rocs.png', bbox_inches='tight')"
   ]
  },
  {
   "cell_type": "code",
   "execution_count": null,
   "metadata": {
    "collapsed": false
   },
   "outputs": [],
   "source": [
    "# for _p in dt_10m.staged_predict_proba(real_data.to_pandas()):\n",
    "#     print compute_simple_auc_with_weight(real_data, _p)"
   ]
  },
  {
   "cell_type": "code",
   "execution_count": 233,
   "metadata": {
    "collapsed": false
   },
   "outputs": [
    {
     "name": "stderr",
     "output_type": "stream",
     "text": [
      "/mnt/mfs/miniconda/envs/rep_py2/lib/python2.7/site-packages/sklearn/metrics/ranking.py:534: UndefinedMetricWarning: No negative samples in y_true, false positive value should be meaningless\n",
      "  UndefinedMetricWarning)\n",
      "/mnt/mfs/miniconda/envs/rep_py2/lib/python2.7/site-packages/sklearn/metrics/ranking.py:542: UndefinedMetricWarning: No positive samples in y_true, true positive value should be meaningless\n",
      "  UndefinedMetricWarning)\n"
     ]
    },
    {
     "data": {
      "text/plain": [
       "nan"
      ]
     },
     "execution_count": 233,
     "metadata": {},
     "output_type": "execute_result"
    }
   ],
   "source": [
    "compute_simple_auc_with_weight(check_data, dt_10m.predict_proba(check_data.to_pandas()))"
   ]
  },
  {
   "cell_type": "code",
   "execution_count": 234,
   "metadata": {
    "collapsed": false
   },
   "outputs": [
    {
     "data": {
      "text/plain": [
       "0.66126258107053282"
      ]
     },
     "execution_count": 234,
     "metadata": {},
     "output_type": "execute_result"
    }
   ],
   "source": [
    "compute_simple_auc(check_data, dt_10m.predict_proba(check_data.to_pandas()))"
   ]
  },
  {
   "cell_type": "markdown",
   "metadata": {},
   "source": [
    "# Математическая модель дальнейших действий\n",
    "\n",
    "GroupLogLoss и DropoutLoss дают прирост при всех размерах, но в презентацию не пошли\n",
    "\n",
    "$$ d(B+) = \\sum_{\\text{track}} d(B+ | \\text{track is tagging}) 1_\\text{track is tagging} $$"
   ]
  },
  {
   "cell_type": "code",
   "execution_count": 44,
   "metadata": {
    "collapsed": true
   },
   "outputs": [],
   "source": [
    "def loss_function(b_signs, event_indices, d_tracksign, d_is_tagging):\n",
    "    track_contributions = T.exp(d_is_tagging)\n",
    "    track_contributions /= (T.extra_ops.bincount(event_indices, track_contributions) + 1)[event_indices]\n",
    "    d_B = bincount(event_indices, d_tracksign * track_contributions)\n",
    "    return T.mean(T.exp(- b_signs * d_B))\n",
    "    # return T.mean(b_signs * d_B)"
   ]
  },
  {
   "cell_type": "code",
   "execution_count": 45,
   "metadata": {
    "collapsed": false
   },
   "outputs": [],
   "source": [
    "from sklearn.base import BaseEstimator\n",
    "class AttentionLoss(BaseEstimator):\n",
    "    def __init__(self):\n",
    "        pass\n",
    "\n",
    "    def fit(self, X, y, sample_weight=None):\n",
    "        # self.sample_weight = numpy.require(sample_weight, dtype='float32')\n",
    "        self.sample_weight = numpy.ones(len(X))\n",
    "        self.y_signed = numpy.require(2 * y - 1, dtype='float32')\n",
    "        \n",
    "        _, first_positions, event_indices = numpy.unique(X['event_id'].values, return_index=True, return_inverse=True)\n",
    "        self.b_signs = numpy.array(X['signB'].values)[first_positions]\n",
    "        \n",
    "        d_is_tagging_var = T.vector()\n",
    "        self.Loss = loss_function(\n",
    "            self.b_signs, event_indices, \n",
    "            d_tracksign=numpy.array(X['trackpredictions'].values),\n",
    "            d_is_tagging=d_is_tagging_var\n",
    "        )\n",
    "        self.grad = theano.function([d_is_tagging_var], - T.grad(self.Loss, d_is_tagging_var))\n",
    "        \n",
    "        return self\n",
    "\n",
    "    def prepare_tree_params(self, pred):\n",
    "        _grad = numpy.sign(self.grad(pred))\n",
    "        return _grad / numpy.std(_grad), self.sample_weight"
   ]
  },
  {
   "cell_type": "code",
   "execution_count": 46,
   "metadata": {
    "collapsed": false
   },
   "outputs": [
    {
     "name": "stdout",
     "output_type": "stream",
     "text": [
      "KFold prediction using folds column\n"
     ]
    }
   ],
   "source": [
    "data2 = data.copy()\n",
    "data2['trackpredictions'] = logit(dt.predict_proba(data.to_pandas())[:, 1])"
   ]
  },
  {
   "cell_type": "code",
   "execution_count": 47,
   "metadata": {
    "collapsed": false
   },
   "outputs": [],
   "source": [
    "# _base = DecisionTrainClassifier(loss=AttentionLoss(), n_estimators=1000, \n",
    "#                                 learning_rate=0.03, n_threads=16, train_features=features)\n",
    "\n",
    "# _features = features + ['event_id', 'signB', 'trackpredictions']\n",
    "# dt_grouping = FoldingGroupClassifier(_base, n_folds=2, group_feature='event_id', train_features=_features)\n",
    "\n",
    "# dt_grouping.fit(data2[_features].to_pandas(), \n",
    "#                 data2['label']);"
   ]
  },
  {
   "cell_type": "code",
   "execution_count": 48,
   "metadata": {
    "collapsed": false
   },
   "outputs": [],
   "source": [
    "# attention = logit(dt_grouping.predict_proba(data2.to_pandas())[:, 1])"
   ]
  },
  {
   "cell_type": "code",
   "execution_count": 49,
   "metadata": {
    "collapsed": true
   },
   "outputs": [],
   "source": [
    "from rep.metaml import FoldingRegressor\n",
    "from decisiontrain import DecisionTrainRegressor"
   ]
  },
  {
   "cell_type": "code",
   "execution_count": 50,
   "metadata": {
    "collapsed": true
   },
   "outputs": [],
   "source": [
    "simple_weights = compute_weights(data, attention=numpy.zeros(len(data)))"
   ]
  },
  {
   "cell_type": "code",
   "execution_count": 51,
   "metadata": {
    "collapsed": true
   },
   "outputs": [],
   "source": [
    "# Пробуем тренировку на перцентиль. Пока что самый стабильный вариант\n",
    "# folding = FoldingRegressor(DecisionTrainRegressor(n_estimators=1000))\n",
    "# folding.fit(data2[features].to_pandas(), correctness > numpy.percentile(correctness, 70), sample_weight=simple_weights);"
   ]
  },
  {
   "cell_type": "code",
   "execution_count": 52,
   "metadata": {
    "collapsed": false
   },
   "outputs": [],
   "source": [
    "# Тренировка на корректность работает плохо\n",
    "# folding = FoldingRegressor(DecisionTrainRegressor(n_estimators=1000))\n",
    "# folding.fit(data2[features].to_pandas(), correctness / numpy.std(correctness), sample_weight=simple_weights);"
   ]
  },
  {
   "cell_type": "code",
   "execution_count": 53,
   "metadata": {
    "collapsed": false
   },
   "outputs": [],
   "source": [
    "# Пробуем тренировку на порядок. Лучше, чем ничего, хуже, чем перцентиль\n",
    "# folding = FoldingRegressor(DecisionTrainRegressor(n_estimators=1000))\n",
    "# folding.fit(data2[features].to_pandas(), 1.4 ** - orders, sample_weight=simple_weights);"
   ]
  },
  {
   "cell_type": "code",
   "execution_count": 54,
   "metadata": {
    "collapsed": false
   },
   "outputs": [],
   "source": [
    "# Пробуем тренировку на ranktransform от \n",
    "folding = FoldingRegressor(DecisionTrainRegressor(n_estimators=1000))\n",
    "folding.fit(data2[features].to_pandas(), \n",
    "            numpy.argsort(numpy.argsort(correctness)) / float(len(correctness)) - 0.5, \n",
    "            sample_weight=simple_weights);"
   ]
  },
  {
   "cell_type": "code",
   "execution_count": 55,
   "metadata": {
    "collapsed": false
   },
   "outputs": [],
   "source": [
    "# Пробуем тренировку на знак\n",
    "# folding = FoldingRegressor(DecisionTrainRegressor(n_estimators=1000))\n",
    "# folding.fit(data2[features].to_pandas(), numpy.sign(correctness), sample_weight=simple_weights);"
   ]
  },
  {
   "cell_type": "code",
   "execution_count": 56,
   "metadata": {
    "collapsed": false
   },
   "outputs": [],
   "source": [
    "# _correctness"
   ]
  },
  {
   "cell_type": "code",
   "execution_count": 57,
   "metadata": {
    "collapsed": false
   },
   "outputs": [
    {
     "name": "stdout",
     "output_type": "stream",
     "text": [
      "KFold prediction using folds column\n"
     ]
    }
   ],
   "source": [
    "attention = folding.predict(data2.to_pandas())"
   ]
  },
  {
   "cell_type": "code",
   "execution_count": 58,
   "metadata": {
    "collapsed": false
   },
   "outputs": [
    {
     "data": {
      "image/png": "[encoded data removed]",
      "text/plain": [
       "<matplotlib.figure.Figure at 0x7f621befe9d0>"
      ]
     },
     "metadata": {},
     "output_type": "display_data"
    }
   ],
   "source": [
    "plt.hist(attention, bins=40);"
   ]
  },
  {
   "cell_type": "code",
   "execution_count": 59,
   "metadata": {
    "collapsed": false
   },
   "outputs": [
    {
     "name": "stdout",
     "output_type": "stream",
     "text": [
      "KFold prediction using folds column\n"
     ]
    },
    {
     "data": {
      "text/plain": [
       "0.64957212893434657"
      ]
     },
     "execution_count": 59,
     "metadata": {},
     "output_type": "execute_result"
    }
   ],
   "source": [
    "compute_auc_with_attention(data, track_proba=dt.predict_proba(data2.to_pandas()), \n",
    "                           track_attention=attention - 1.5\n",
    "                           )"
   ]
  },
  {
   "cell_type": "code",
   "execution_count": 60,
   "metadata": {
    "collapsed": false
   },
   "outputs": [
    {
     "name": "stdout",
     "output_type": "stream",
     "text": [
      "KFold prediction using folds column\n"
     ]
    },
    {
     "data": {
      "text/plain": [
       "0.64888997319992037"
      ]
     },
     "execution_count": 60,
     "metadata": {},
     "output_type": "execute_result"
    }
   ],
   "source": [
    "compute_auc_with_attention(data, track_proba=dt.predict_proba(data2.to_pandas()), \n",
    "                           track_attention=compute_weights(data, attention) - 2\n",
    "                           )"
   ]
  },
  {
   "cell_type": "code",
   "execution_count": 61,
   "metadata": {
    "collapsed": false
   },
   "outputs": [
    {
     "name": "stdout",
     "output_type": "stream",
     "text": [
      "KFold prediction using folds column\n"
     ]
    },
    {
     "data": {
      "text/plain": [
       "0.64906882552382728"
      ]
     },
     "execution_count": 61,
     "metadata": {},
     "output_type": "execute_result"
    }
   ],
   "source": [
    "compute_auc_with_attention(data, track_proba=dt.predict_proba(data2.to_pandas()), track_attention=attention * 0 - 3)"
   ]
  },
  {
   "cell_type": "code",
   "execution_count": 62,
   "metadata": {
    "collapsed": false
   },
   "outputs": [
    {
     "name": "stdout",
     "output_type": "stream",
     "text": [
      "KFold prediction using folds column\n"
     ]
    },
    {
     "data": {
      "text/plain": [
       "0.64906882552382728"
      ]
     },
     "execution_count": 62,
     "metadata": {},
     "output_type": "execute_result"
    }
   ],
   "source": [
    "compute_auc_with_attention(data[:10**6], \n",
    "                           track_proba=dt.predict_proba(data2.to_pandas())[:10 ** 6], \n",
    "                           track_attention=attention[:10 ** 6] * 0 - 3)"
   ]
  },
  {
   "cell_type": "markdown",
   "metadata": {},
   "source": [
    "# Идея: dropout_loss\n",
    "\n",
    "лосс-функция по типу exploss для тренировки обычного классификатора.\n",
    "\n",
    "- оптимальным всегда оказывался вариант с p=0 \n",
    "    - на 3 миллионах выиграл у всего остального\n",
    "- назначение весов (равномерных) почему-то не такое, как везде"
   ]
  },
  {
   "cell_type": "code",
   "execution_count": 63,
   "metadata": {
    "collapsed": true
   },
   "outputs": [],
   "source": [
    "from sklearn.base import BaseEstimator\n",
    "class DropoutLoss(BaseEstimator):\n",
    "    def __init__(self, p=0.0):\n",
    "        self.p = p\n",
    "\n",
    "    def fit(self, X, y, sample_weight=None):\n",
    "        self.sample_weight = numpy.require(sample_weight, dtype='float32') \n",
    "        self.y_signed = numpy.require(2 * y - 1, dtype='float32')\n",
    "        \n",
    "        _, first_positions, self.event_indices = numpy.unique(X['event_id'].values, return_index=True, return_inverse=True)\n",
    "        # self.b_signs = numpy.array(X['signB'].values)[first_positions]\n",
    "        # track_z = - w(track) * sign(track) * sign(B)\n",
    "        self.track_z = - self.sample_weight * self.y_signed\n",
    "        \n",
    "        self.event_losses = numpy.ones(len(first_positions))\n",
    "        \n",
    "        # just in case \n",
    "        self.sample_weight **= 0.0\n",
    "        \n",
    "        return self\n",
    "\n",
    "    def prepare_tree_params(self, pred):\n",
    "        # normally, prediction is weight1 * pred1 * sign1 + weight2 * pred2 * sign2 ...\n",
    "        # loss is exp( - isloss * decision)\n",
    "        # in case of dropout\n",
    "        track_exponents = numpy.exp(pred * self.track_z)\n",
    "        track_multipliers = self.p + (1 - self.p) * track_exponents\n",
    "        self.event_losses[:] = 1\n",
    "        numpy.multiply.at(self.event_losses, self.event_indices, track_multipliers)\n",
    "        grad = - self.event_losses[self.event_indices] / track_multipliers * track_exponents * self.track_z\n",
    "        \n",
    "        return grad, self.sample_weight"
   ]
  },
  {
   "cell_type": "code",
   "execution_count": 64,
   "metadata": {
    "collapsed": false
   },
   "outputs": [
    {
     "name": "stdout",
     "output_type": "stream",
     "text": [
      "None\n",
      "KFold prediction using folds column\n",
      "0.630763529412 0.651192966422 0.654621773545 0.654717491966 0.654545430318 0.0\n"
     ]
    }
   ],
   "source": [
    "for p in [0.0]:\n",
    "    _dropout_dt = DecisionTrainClassifier(loss=DropoutLoss(p=p), n_estimators=1000, \n",
    "                                          learning_rate=0.03, n_threads=16, train_features=features)\n",
    "    _features = features + ['event_id']\n",
    "    dt_dropout = FoldingGroupClassifier(_dropout_dt, n_folds=2, group_feature='event_id', train_features=_features)\n",
    "    dt_dropout.fit(data[_features].to_pandas(), data['label'])\n",
    "    print None\n",
    "    for i, _p in enumerate(dt_dropout.staged_predict_proba(data.to_pandas()), 1):\n",
    "        if i % 2 == 0:\n",
    "            print compute_auc_with_attention(data, track_proba=_p, track_attention=numpy.zeros(len(data)) - 2),\n",
    "    print p"
   ]
  },
  {
   "cell_type": "code",
   "execution_count": 65,
   "metadata": {
    "collapsed": false
   },
   "outputs": [
    {
     "name": "stdout",
     "output_type": "stream",
     "text": [
      "KFold prediction using folds column\n",
      "0.647874211783\n"
     ]
    }
   ],
   "source": [
    "print compute_auc_with_attention(data, track_proba=dt.predict_proba(data.to_pandas()), \n",
    "                                 track_attention=numpy.zeros(len(data))\n",
    "                                )"
   ]
  },
  {
   "cell_type": "markdown",
   "metadata": {},
   "source": [
    "## Проверка на AdaLoss\n",
    "\n",
    "вдруг оно и просто так работает?"
   ]
  },
  {
   "cell_type": "code",
   "execution_count": 66,
   "metadata": {
    "collapsed": true
   },
   "outputs": [],
   "source": [
    "from hep_ml.losses import AdaLossFunction"
   ]
  },
  {
   "cell_type": "code",
   "execution_count": 67,
   "metadata": {
    "collapsed": true
   },
   "outputs": [],
   "source": [
    "_base_ada = DecisionTrainClassifier(loss=AdaLossFunction(), n_estimators=2000, \n",
    "                                   learning_rate=0.06, n_threads=16, train_features=features)\n",
    "dt_exploss = FoldingGroupClassifier(_base_ada, n_folds=2, group_feature='event_id', train_features=features + ['event_id'])\n",
    "_ = dt_exploss.fit(data[features + ['event_id']].to_pandas(), data['label'], \n",
    "                   sample_weight=compute_weights(data, numpy.zeros(len(data)) - 2. ) )"
   ]
  },
  {
   "cell_type": "code",
   "execution_count": 68,
   "metadata": {
    "collapsed": false
   },
   "outputs": [
    {
     "name": "stdout",
     "output_type": "stream",
     "text": [
      "KFold prediction using folds column\n",
      "0.615796511641\n",
      "0.61962694106\n",
      "0.617213510861\n",
      "0.614379833849\n",
      "0.610828143567\n",
      "0.60533996533\n"
     ]
    }
   ],
   "source": [
    "for i, _p in enumerate(dt_exploss.staged_predict_proba(data.to_pandas()), 1):\n",
    "    if i % 3 == 0:\n",
    "        print compute_auc_with_attention(data, track_proba=_p, track_attention=numpy.zeros(len(data)) - 2)"
   ]
  },
  {
   "cell_type": "code",
   "execution_count": 69,
   "metadata": {
    "collapsed": false
   },
   "outputs": [
    {
     "name": "stdout",
     "output_type": "stream",
     "text": [
      "0.602332904339\n",
      "0.602332904339\n",
      "0.602332904339\n"
     ]
    }
   ],
   "source": [
    "from scipy.special import logit, expit\n",
    "\n",
    "print compute_auc_with_attention(data, track_proba=expit(logit(_p)) , track_attention=numpy.zeros(len(data)) - 2)\n",
    "print compute_auc_with_attention(data, track_proba=expit(logit(_p) * 2.) , track_attention=numpy.zeros(len(data)) - 2)\n",
    "print compute_auc_with_attention(data, track_proba=expit(logit(_p) * 0.5) , track_attention=numpy.zeros(len(data)) - 2)"
   ]
  },
  {
   "cell_type": "markdown",
   "metadata": {},
   "source": [
    "## GroupLogLoss\n",
    "\n",
    "требуется сравнить с ExpLoss"
   ]
  },
  {
   "cell_type": "code",
   "execution_count": 70,
   "metadata": {
    "collapsed": true
   },
   "outputs": [],
   "source": [
    "from sklearn.base import BaseEstimator\n",
    "class GroupLogLoss(BaseEstimator):\n",
    "    def __init__(self):\n",
    "        pass\n",
    "\n",
    "    def fit(self, X, y, sample_weight=None):\n",
    "        self.sample_weight = numpy.require(sample_weight, dtype='float32')\n",
    "        self.y_signed = numpy.require(2 * y - 1, dtype='float32')\n",
    "        \n",
    "        _, first_positions, self.event_indices = numpy.unique(X['event_id'].values, \n",
    "                                                              return_index=True, return_inverse=True)\n",
    "        self.track_z = - self.sample_weight * self.y_signed\n",
    "        d = T.vector()\n",
    "        d_b = bincount(self.event_indices, weights=self.track_z * d)\n",
    "        self.Loss = T.sum(T.nnet.softplus(d_b)) * 2\n",
    "        self.grad = theano.function([d], -T.grad(self.Loss, d))\n",
    "        return self\n",
    "\n",
    "    def prepare_tree_params(self, pred):\n",
    "        return self.grad(pred), self.sample_weight"
   ]
  },
  {
   "cell_type": "code",
   "execution_count": 71,
   "metadata": {
    "collapsed": false
   },
   "outputs": [],
   "source": [
    "_base_dt_log = DecisionTrainClassifier(loss=GroupLogLoss(), n_estimators=2000, \n",
    "                                       learning_rate=0.03, n_threads=len(features), train_features=features)\n",
    "dt_logloss = FoldingGroupClassifier(_base_dt_log, n_folds=2, group_feature='event_id', \n",
    "                                    train_features=features + ['event_id'])\n",
    "\n",
    "_ = dt_logloss.fit(data[features + ['event_id']].to_pandas(), data['label'], \n",
    "#                    sample_weight=compute_weights(data, numpy.zeros(len(data)) - 2. ) \n",
    "                  )"
   ]
  },
  {
   "cell_type": "code",
   "execution_count": 72,
   "metadata": {
    "collapsed": false
   },
   "outputs": [
    {
     "name": "stdout",
     "output_type": "stream",
     "text": [
      "KFold prediction using folds column\n",
      "0.605918228606\n",
      "0.633098995003\n",
      "0.647129800727\n",
      "0.652441722478\n",
      "0.65450683861\n",
      "0.655441502513\n",
      "0.655702782819\n",
      "0.65594101999\n",
      "0.655946325587\n",
      "0.656210248519\n"
     ]
    }
   ],
   "source": [
    "for i, _p in enumerate(dt_logloss.staged_predict_proba(data.to_pandas()), 1):\n",
    "    if i % 2 == 0:\n",
    "        print compute_auc_with_attention(data, track_proba=_p, track_attention=numpy.zeros(len(data)) - 2)"
   ]
  },
  {
   "cell_type": "code",
   "execution_count": 73,
   "metadata": {
    "collapsed": false
   },
   "outputs": [
    {
     "ename": "AssertionError",
     "evalue": "",
     "output_type": "error",
     "traceback": [
      "\u001b[0;31m---------------------------------------------------------------------------\u001b[0m",
      "\u001b[0;31mAssertionError\u001b[0m                            Traceback (most recent call last)",
      "\u001b[0;32m<ipython-input-73-c28139292d46>\u001b[0m in \u001b[0;36m<module>\u001b[0;34m()\u001b[0m\n\u001b[0;32m----> 1\u001b[0;31m \u001b[0;32massert\u001b[0m \u001b[0;36m0\u001b[0m \u001b[0;34m==\u001b[0m \u001b[0;36m1\u001b[0m\u001b[0;34m\u001b[0m\u001b[0m\n\u001b[0m",
      "\u001b[0;31mAssertionError\u001b[0m: "
     ]
    }
   ],
   "source": [
    "assert 0 == 1"
   ]
  },
  {
   "cell_type": "code",
   "execution_count": null,
   "metadata": {
    "collapsed": false
   },
   "outputs": [],
   "source": [
    "# фильтрация ничего не дала\n",
    "# _n_tracks = numpy.bincount(data['event_id'])[data['event_id']] \n",
    "# _weights = (_n_tracks > 5) & (_n_tracks < 40)\n",
    "# dt_logloss_filtered = FoldingGroupClassifier(_base_dt_log, n_folds=2, group_feature='event_id', \n",
    "#                                     train_features=features + ['event_id'])\n",
    "\n",
    "# _ = dt_logloss_filtered.fit(data[features + ['event_id']].to_pandas(), data['label'], \n",
    "#                             sample_weight=_weights)"
   ]
  },
  {
   "cell_type": "code",
   "execution_count": null,
   "metadata": {
    "collapsed": false
   },
   "outputs": [],
   "source": [
    "# for i, _p in enumerate(dt_logloss_filtered.staged_predict_proba(data.to_pandas()), 1):\n",
    "#     if i % 2 == 0:\n",
    "#         print compute_auc_with_attention(data, track_proba=_p, track_attention=numpy.zeros(len(data)) - 2)"
   ]
  },
  {
   "cell_type": "markdown",
   "metadata": {},
   "source": [
    "# Выводы про нейросетки\n",
    "\n",
    "не особенно тянут. Выше 0.612 не получилось ни с теми, ни с другими.\n",
    "\n",
    "После iron transform получилось 0.622"
   ]
  }
 ],
 "metadata": {
  "kernelspec": {
   "display_name": "Python 2",
   "language": "python",
   "name": "python2"
  },
  "language_info": {
   "codemirror_mode": {
    "name": "ipython",
    "version": 2
   },
   "file_extension": ".py",
   "mimetype": "text/x-python",
   "name": "python",
   "nbconvert_exporter": "python",
   "pygments_lexer": "ipython2",
   "version": "2.7.12"
  }
 },
 "nbformat": 4,
 "nbformat_minor": 0
}
