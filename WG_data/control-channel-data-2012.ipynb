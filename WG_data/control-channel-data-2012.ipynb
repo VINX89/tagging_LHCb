{
 "cells": [
  {
   "cell_type": "code",
   "execution_count": 1,
   "metadata": {
    "collapsed": false
   },
   "outputs": [
    {
     "name": "stdout",
     "output_type": "stream",
     "text": [
      "Populating the interactive namespace from numpy and matplotlib\n"
     ]
    }
   ],
   "source": [
    "%pylab inline"
   ]
  },
  {
   "cell_type": "code",
   "execution_count": 2,
   "metadata": {
    "collapsed": true
   },
   "outputs": [],
   "source": [
    "import numpy\n",
    "import pandas\n",
    "import root_numpy"
   ]
  },
  {
   "cell_type": "code",
   "execution_count": 3,
   "metadata": {
    "collapsed": true
   },
   "outputs": [],
   "source": [
    "import sys\n",
    "sys.path.insert(0, \"../\")"
   ]
  },
  {
   "cell_type": "markdown",
   "metadata": {},
   "source": [
    "# Prepare data"
   ]
  },
  {
   "cell_type": "code",
   "execution_count": 4,
   "metadata": {
    "collapsed": true
   },
   "outputs": [],
   "source": [
    "selection = \" ((PIDNNk > 0) | (PIDNNm > 0) | (PIDNNe > 0) | (PIDNNpi > 0) | (PIDNNp > 0)) & (ghostProb < 0.4)\""
   ]
  },
  {
   "cell_type": "code",
   "execution_count": 5,
   "metadata": {
    "collapsed": true
   },
   "outputs": [],
   "source": [
    "from itertools import combinations\n",
    "from utils import add_diff_pt, get_events_statistics\n",
    "\n",
    "def add_features(data, event_id_column='event_id'):\n",
    "    event_id = data.run.apply(str) + '_' + data.event.apply(int).apply(str)\n",
    "    data['group_column'] = numpy.unique(event_id, return_inverse=True)[1]\n",
    "    # all weights are 1, because this is MC\n",
    "    data['N_sig_sw'] = 1\n",
    "    data[event_id_column] = event_id\n",
    "    \n",
    "    add_diff_pt(data)\n",
    "    # add cos(diff_phi)\n",
    "    data.loc[:, 'cos_diff_phi'] = numpy.cos(data.diff_phi.values)\n",
    "    PIDs = {'k': data.PIDNNk.values,\n",
    "            'e': data.PIDNNe.values,\n",
    "            'mu': data.PIDNNm.values,\n",
    "           }\n",
    "    for (pid_name1, pid_values1), (pid_name2, pid_values2) in combinations(PIDs.items(), 2):\n",
    "        data.loc[:, 'max_PID_{}_{}'.format(pid_name1, pid_name2)] = numpy.maximum(pid_values1, pid_values2)\n",
    "        data.loc[:, 'sum_PID_{}_{}'.format(pid_name1, pid_name2)] = pid_values1 + pid_values2\n",
    "    data['label'] = data.signB.values * data.signTrack.values > 0"
   ]
  },
  {
   "cell_type": "code",
   "execution_count": 6,
   "metadata": {
    "collapsed": false
   },
   "outputs": [
    {
     "name": "stderr",
     "output_type": "stream",
     "text": [
      "/moosefs/miniconda/envs/ipython_py2/lib/python2.7/site-packages/IPython/core/interactiveshell.py:2723: DtypeWarning: Columns (36) have mixed types. Specify dtype option on import or set low_memory=False.\n",
      "  interactivity=interactivity, compiler=compiler, result=result)\n"
     ]
    },
    {
     "data": {
      "text/plain": [
       "{'Events': 976359, 'parts': 32077555}"
      ]
     },
     "execution_count": 6,
     "metadata": {},
     "output_type": "execute_result"
    }
   ],
   "source": [
    "data = pandas.read_csv('../datasets/data/csv/WG/Bd_JPsiKstar/2012/Tracks.csv', sep='\\t')\n",
    "data = data.query('(Bmass < 5.4) & (Bmass > 5.16)')\n",
    "add_features(data)\n",
    "data.loc[~numpy.isfinite(data['IPs'].values), 'IPs'] = -999\n",
    "data.loc[~numpy.isfinite(data['IPerr'].values), 'IPerr'] = -999\n",
    "get_events_statistics(data)"
   ]
  },
  {
   "cell_type": "code",
   "execution_count": 7,
   "metadata": {
    "collapsed": false
   },
   "outputs": [],
   "source": [
    "splot = pandas.read_csv('../datasets/data/csv/WG/Bd_JPsiKstar/2012/sPlot_Bd_JPsiKstar.csv',\n",
    "                        sep=' ', header=None).drop([8], axis=1)\n",
    "splot.columns = ['run', 'evTop', 'evBottom', 'Bmass', 'Nbkg_tot_sw', 'L_Nbkg_tot', 'Nsig_tot_sw', 'L_Nsig_tot']\n",
    "event_id_column = 'event_id'\n",
    "\n",
    "splot[event_id_column] = splot.run.apply(str) + '_' + (splot.evTop * 1e6 + splot.evBottom).apply(int).apply(str)\n",
    "index = numpy.unique(splot[event_id_column], return_index=True)[1]\n",
    "splot.index = numpy.arange(len(splot))\n",
    "splot = splot.ix[index, :]"
   ]
  },
  {
   "cell_type": "code",
   "execution_count": 8,
   "metadata": {
    "collapsed": false
   },
   "outputs": [],
   "source": [
    "splot.index = splot[event_id_column]\n",
    "data.index = data[event_id_column]"
   ]
  },
  {
   "cell_type": "code",
   "execution_count": 9,
   "metadata": {
    "collapsed": false
   },
   "outputs": [],
   "source": [
    "start = 0\n",
    "end = 1000000\n",
    "sweight = []\n",
    "for batch in range(33):\n",
    "    if end > len(data):\n",
    "        end = len(data)\n",
    "    sweight.append(splot.loc[data.index[start:end], 'Nsig_tot_sw'].values)\n",
    "    start = end\n",
    "    end += 1000000"
   ]
  },
  {
   "cell_type": "code",
   "execution_count": 10,
   "metadata": {
    "collapsed": true
   },
   "outputs": [],
   "source": [
    "sweight = numpy.concatenate(sweight)\n",
    "data.N_sig_sw = sweight"
   ]
  },
  {
   "cell_type": "code",
   "execution_count": 11,
   "metadata": {
    "collapsed": false
   },
   "outputs": [
    {
     "data": {
      "text/plain": [
       "278815.27542189573"
      ]
     },
     "execution_count": 11,
     "metadata": {},
     "output_type": "execute_result"
    }
   ],
   "source": [
    "N_B_events = numpy.sum(splot.Nsig_tot_sw)\n",
    "N_B_events"
   ]
  },
  {
   "cell_type": "code",
   "execution_count": 12,
   "metadata": {
    "collapsed": true
   },
   "outputs": [],
   "source": [
    "data = data.query(selection)\n",
    "data = data.query(\"(time >= 0.2) & (time <= 8)\")"
   ]
  },
  {
   "cell_type": "markdown",
   "metadata": {},
   "source": [
    "# Read models"
   ]
  },
  {
   "cell_type": "markdown",
   "metadata": {},
   "source": [
    "### data models"
   ]
  },
  {
   "cell_type": "code",
   "execution_count": 13,
   "metadata": {
    "collapsed": true
   },
   "outputs": [],
   "source": [
    "import cPickle\n",
    "with open('../models/dt_WG_2012.pkl', 'r') as f:\n",
    "    tt_folding = cPickle.load(f)\n",
    "with open('../models/calibrator_tracks_WG_2012.pkl', 'r') as f:\n",
    "    calibrator_tracks = cPickle.load(f)\n",
    "    \n",
    "with open('../models/calibrator_B_WG_2012.pkl', 'r') as f:\n",
    "    calibrator_B = cPickle.load(f)\n",
    "    \n",
    "with open('../models/loss_dt/dt_ss_os.pkl', 'r') as f:\n",
    "    tt_os_ss = cPickle.load(f)\n",
    "with open('../models/loss_dt/os_ss_calibrator.pkl', 'r') as f:\n",
    "    calibrator_os_ss = cPickle.load(f)"
   ]
  },
  {
   "cell_type": "markdown",
   "metadata": {},
   "source": [
    "### MC models"
   ]
  },
  {
   "cell_type": "code",
   "execution_count": 14,
   "metadata": {
    "collapsed": true
   },
   "outputs": [],
   "source": [
    "import cPickle\n",
    "with open('../models/dt_kstar_MC.pkl', 'r') as f:\n",
    "    tt_folding_MC = cPickle.load(f)\n",
    "with open('../models/calibrator_tracks_kstar_MC.pkl', 'r') as f:\n",
    "    calibrator_tracks_MC = cPickle.load(f)\n",
    "    \n",
    "with open('../models/calibrator_B_kstar_MC.pkl', 'r') as f:\n",
    "    calibrator_B_MC = cPickle.load(f)"
   ]
  },
  {
   "cell_type": "code",
   "execution_count": 28,
   "metadata": {
    "collapsed": true
   },
   "outputs": [],
   "source": [
    "import cPickle\n",
    "with open('../models/dt_MC.pkl', 'r') as f:\n",
    "    tt_folding_MC_k = cPickle.load(f)\n",
    "with open('../models/calibrator_tracks_MC.pkl', 'r') as f:\n",
    "    calibrator_tracks_MC_k = cPickle.load(f)\n",
    "    \n",
    "with open('../models/calibrator_B_MC.pkl', 'r') as f:\n",
    "    calibrator_B_MC_k = cPickle.load(f)"
   ]
  },
  {
   "cell_type": "markdown",
   "metadata": {},
   "source": [
    "# Predict by data model"
   ]
  },
  {
   "cell_type": "code",
   "execution_count": 15,
   "metadata": {
    "collapsed": false
   },
   "outputs": [
    {
     "name": "stdout",
     "output_type": "stream",
     "text": [
      "KFold prediction using random classifier (length of data passed not equal to length of train)\n",
      "KFold prediction using random classifier (length of data passed not equal to length of train)\n"
     ]
    }
   ],
   "source": [
    "from utils import compute_B_prob_using_part_prob\n",
    "part_probs = tt_folding.predict_proba(data)[:, 1]\n",
    "prior = tt_os_ss.predict_proba(data)[:, 1]\n",
    "\n",
    "part_probs_calib = calibrator_tracks.predict_proba(part_probs)\n",
    "prior_calib = calibrator_os_ss.predict_proba(prior)"
   ]
  },
  {
   "cell_type": "code",
   "execution_count": 16,
   "metadata": {
    "collapsed": false
   },
   "outputs": [
    {
     "data": {
      "image/png": "[encoded data removed]",
      "text/plain": [
       "<matplotlib.figure.Figure at 0x7f0bce96ced0>"
      ]
     },
     "metadata": {},
     "output_type": "display_data"
    }
   ],
   "source": [
    "hist(prior_calib, bins=100, weights=data.N_sig_sw.values);"
   ]
  },
  {
   "cell_type": "code",
   "execution_count": 17,
   "metadata": {
    "collapsed": false
   },
   "outputs": [],
   "source": [
    "part_probs_union_pid = part_probs_calib.copy()\n",
    "mask = data.PIDNNpi.values > 0.8\n",
    "part_probs_union_pid[mask] = 1 - part_probs_union_pid[mask]"
   ]
  },
  {
   "cell_type": "code",
   "execution_count": 18,
   "metadata": {
    "collapsed": false
   },
   "outputs": [],
   "source": [
    "part_probs_union = prior_calib*(1 - part_probs_calib) + (1-prior_calib)*part_probs_calib"
   ]
  },
  {
   "cell_type": "code",
   "execution_count": 19,
   "metadata": {
    "collapsed": true
   },
   "outputs": [],
   "source": [
    "Bsign, Bweight, Bprobs, Bevent = compute_B_prob_using_part_prob(data, part_probs_union, \n",
    "                                                                sign_part_column='signTrack')\n",
    "Bprobs_calib = calibrator_B.predict_proba(Bprobs)\n",
    "mistag = numpy.minimum(Bprobs_calib, 1 - Bprobs_calib)\n",
    "tag = numpy.ones(len(Bprobs_calib))\n",
    "tag[Bprobs_calib < 0.5] = -1"
   ]
  },
  {
   "cell_type": "code",
   "execution_count": 20,
   "metadata": {
    "collapsed": true
   },
   "outputs": [],
   "source": [
    "Bsign_pid, Bweight_pid, Bprobs_pid, Bevent_pid = compute_B_prob_using_part_prob(data, part_probs_union_pid, \n",
    "                                                                                sign_part_column='signTrack')\n",
    "Bprobs_calib_pid = calibrator_B.predict_proba(Bprobs_pid)\n",
    "mistag_pid = numpy.minimum(Bprobs_calib_pid, 1 - Bprobs_calib_pid)\n",
    "tag_pid = numpy.ones(len(Bprobs_calib_pid))\n",
    "tag_pid[Bprobs_calib_pid < 0.5] = -1"
   ]
  },
  {
   "cell_type": "markdown",
   "metadata": {},
   "source": [
    "# Predict by MC-kstar model"
   ]
  },
  {
   "cell_type": "code",
   "execution_count": 30,
   "metadata": {
    "collapsed": false
   },
   "outputs": [
    {
     "name": "stdout",
     "output_type": "stream",
     "text": [
      "KFold prediction using random classifier (length of data passed not equal to length of train)\n"
     ]
    }
   ],
   "source": [
    "from utils import compute_B_prob_using_part_prob\n",
    "part_probs_mc = tt_folding_MC.predict_proba(data)[:, 1]\n",
    "part_probs_calib_mc = calibrator_tracks_MC.predict_proba(part_probs_mc)\n",
    "Bsign_mc, Bweight_mc, Bprobs_mc, Bevent_mc = compute_B_prob_using_part_prob(data, part_probs_calib_mc, \n",
    "                                                                            sign_part_column='signTrack')\n",
    "Bprobs_calib_mc = calibrator_B_MC.predict_proba(Bprobs_mc)\n",
    "mistag_mc = numpy.minimum(Bprobs_calib_mc, 1 - Bprobs_calib_mc)\n",
    "tag_mc = numpy.ones(len(Bprobs_calib_mc))\n",
    "tag_mc[Bprobs_calib_mc < 0.5] = -1"
   ]
  },
  {
   "cell_type": "markdown",
   "metadata": {},
   "source": [
    "# Predict by MC model"
   ]
  },
  {
   "cell_type": "code",
   "execution_count": 31,
   "metadata": {
    "collapsed": false
   },
   "outputs": [
    {
     "name": "stdout",
     "output_type": "stream",
     "text": [
      "KFold prediction using random classifier (length of data passed not equal to length of train)\n"
     ]
    }
   ],
   "source": [
    "from utils import compute_B_prob_using_part_prob\n",
    "part_probs_mc_k = tt_folding_MC_k.predict_proba(data)[:, 1]\n",
    "part_probs_calib_mc_k = calibrator_tracks_MC_k.predict_proba(part_probs_mc_k)\n",
    "part_probs_union_mc_k = prior_calib*(1 - part_probs_calib_mc_k) + (1-prior_calib)*part_probs_calib_mc_k\n",
    "\n",
    "Bsign_mc_k, Bweight_mc_k, Bprobs_mc_k, Bevent_mc_k = compute_B_prob_using_part_prob(data, part_probs_union_mc_k, \n",
    "                                                                                    sign_part_column='signTrack')\n",
    "Bprobs_calib_mc_k = calibrator_B_MC_k.predict_proba(Bprobs_mc_k)\n",
    "mistag_mc_k = numpy.minimum(Bprobs_calib_mc_k, 1 - Bprobs_calib_mc_k)\n",
    "tag_mc_k = numpy.ones(len(Bprobs_calib_mc_k))\n",
    "tag_mc_k[Bprobs_calib_mc_k < 0.5] = -1"
   ]
  },
  {
   "cell_type": "markdown",
   "metadata": {},
   "source": [
    "# Prepare for EPM"
   ]
  },
  {
   "cell_type": "code",
   "execution_count": 21,
   "metadata": {
    "collapsed": false
   },
   "outputs": [],
   "source": [
    "ids = numpy.unique(data.event_id, return_index=True)[1]\n",
    "data.index = numpy.arange(len(data))\n",
    "Bmass = data.ix[ids, 'Bmass'].values\n",
    "Btime = data.ix[ids, 'time'].values"
   ]
  },
  {
   "cell_type": "code",
   "execution_count": 22,
   "metadata": {
    "collapsed": false
   },
   "outputs": [
    {
     "data": {
      "image/png": "[encoded data removed]",
      "text/plain": [
       "<matplotlib.figure.Figure at 0x7f0bcf8c1450>"
      ]
     },
     "metadata": {},
     "output_type": "display_data"
    }
   ],
   "source": [
    "hist(Btime, bins=100);"
   ]
  },
  {
   "cell_type": "code",
   "execution_count": 23,
   "metadata": {
    "collapsed": true
   },
   "outputs": [],
   "source": [
    "assert sum(data.ix[ids, 'event_id'] != Bevent) == 0"
   ]
  },
  {
   "cell_type": "code",
   "execution_count": 24,
   "metadata": {
    "collapsed": false
   },
   "outputs": [
    {
     "data": {
      "text/plain": [
       "(0.97607071342320739, 0.00036564172912067366)"
      ]
     },
     "execution_count": 24,
     "metadata": {},
     "output_type": "execute_result"
    }
   ],
   "source": [
    "from utils import get_events_number\n",
    "N_B_passed = float(get_events_number(data))\n",
    "tagging_efficiency = N_B_passed / N_B_events\n",
    "tagging_efficiency_delta = sqrt(tagging_efficiency * (1 - tagging_efficiency) * \\\n",
    "                                numpy.sum(splot.Nsig_tot_sw.values ** 2)) / N_B_events\n",
    "tagging_efficiency, tagging_efficiency_delta"
   ]
  },
  {
   "cell_type": "code",
   "execution_count": 25,
   "metadata": {
    "collapsed": false
   },
   "outputs": [],
   "source": [
    "prepared_data = pandas.DataFrame({'tag': numpy.array(tag, dtype='int32'),\n",
    "                                  'mistag': mistag,\n",
    "                                  'flavour': numpy.array(Bsign, dtype='int32'),\n",
    "                                  'decay_time': Btime,\n",
    "                                  'Bmass': Bmass,\n",
    "                                  'resolution': [50*1e-3] * len(Bmass),\n",
    "                                  'probs': Bprobs_calib,\n",
    "                                  'weight': Bweight\n",
    "                                 })\n",
    "\n",
    "root_numpy.array2root(prepared_data.to_records(index=False), \"../for_epm/kstar.root\", \n",
    "                      mode='recreate')"
   ]
  },
  {
   "cell_type": "code",
   "execution_count": 32,
   "metadata": {
    "collapsed": false
   },
   "outputs": [
    {
     "data": {
      "text/plain": [
       "0.044743147191932453"
      ]
     },
     "execution_count": 32,
     "metadata": {},
     "output_type": "execute_result"
    }
   ],
   "source": [
    "numpy.average((1 - 2*Bprobs_calib)**2, weights=Bweight)"
   ]
  },
  {
   "cell_type": "code",
   "execution_count": 33,
   "metadata": {
    "collapsed": true
   },
   "outputs": [],
   "source": [
    "prepared_data = pandas.DataFrame({'tag': numpy.array(tag_pid, dtype='int32'),\n",
    "                                  'mistag': mistag_pid,\n",
    "                                  'flavour': numpy.array(Bsign_pid, dtype='int32'),\n",
    "                                  'decay_time': Btime,\n",
    "                                  'Bmass': Bmass,\n",
    "                                  'resolution': [50*1e-3] * len(Bmass),\n",
    "                                  'probs': Bprobs_calib_pid,\n",
    "                                  'weight': Bweight_pid\n",
    "                                 })\n",
    "\n",
    "root_numpy.array2root(prepared_data.to_records(index=False), \"../for_epm/kstar_pid_inverting.root\", \n",
    "                      mode='recreate')"
   ]
  },
  {
   "cell_type": "code",
   "execution_count": 34,
   "metadata": {
    "collapsed": false
   },
   "outputs": [
    {
     "data": {
      "text/plain": [
       "0.073242491295079676"
      ]
     },
     "execution_count": 34,
     "metadata": {},
     "output_type": "execute_result"
    }
   ],
   "source": [
    "numpy.average((1 - 2*Bprobs_calib_pid)**2, weights=Bweight_pid)"
   ]
  },
  {
   "cell_type": "code",
   "execution_count": 35,
   "metadata": {
    "collapsed": true
   },
   "outputs": [],
   "source": [
    "prepared_data = pandas.DataFrame({'tag': numpy.array(tag_mc, dtype='int32'),\n",
    "                                  'mistag': mistag_mc,\n",
    "                                  'flavour': numpy.array(Bsign_mc, dtype='int32'),\n",
    "                                  'decay_time': Btime,\n",
    "                                  'Bmass': Bmass,\n",
    "                                  'resolution': [50*1e-3] * len(Bmass),\n",
    "                                  'probs': Bprobs_calib_mc,\n",
    "                                  'weight': Bweight_mc\n",
    "                                 })\n",
    "\n",
    "root_numpy.array2root(prepared_data.to_records(index=False), \"../for_epm/kstar_mc_kstar.root\", \n",
    "                      mode='recreate')"
   ]
  },
  {
   "cell_type": "code",
   "execution_count": 36,
   "metadata": {
    "collapsed": false
   },
   "outputs": [
    {
     "data": {
      "text/plain": [
       "0.054693134294901705"
      ]
     },
     "execution_count": 36,
     "metadata": {},
     "output_type": "execute_result"
    }
   ],
   "source": [
    "numpy.average((1 - 2*Bprobs_calib_mc)**2, weights=Bweight_mc)"
   ]
  },
  {
   "cell_type": "code",
   "execution_count": 37,
   "metadata": {
    "collapsed": true
   },
   "outputs": [],
   "source": [
    "prepared_data = pandas.DataFrame({'tag': numpy.array(tag_mc_k, dtype='int32'),\n",
    "                                  'mistag': mistag_mc_k,\n",
    "                                  'flavour': numpy.array(Bsign_mc_k, dtype='int32'),\n",
    "                                  'decay_time': Btime,\n",
    "                                  'Bmass': Bmass,\n",
    "                                  'resolution': [50*1e-3] * len(Bmass),\n",
    "                                  'probs': Bprobs_calib_mc_k,\n",
    "                                  'weight': Bweight_mc_k\n",
    "                                 })\n",
    "\n",
    "root_numpy.array2root(prepared_data.to_records(index=False), \"../for_epm/kstar_mc_k.root\", \n",
    "                      mode='recreate')"
   ]
  },
  {
   "cell_type": "code",
   "execution_count": 38,
   "metadata": {
    "collapsed": false
   },
   "outputs": [
    {
     "data": {
      "text/plain": [
       "0.052282346370030493"
      ]
     },
     "execution_count": 38,
     "metadata": {},
     "output_type": "execute_result"
    }
   ],
   "source": [
    "numpy.average((1 - 2*Bprobs_calib_mc_k)**2, weights=Bweight_mc_k)"
   ]
  }
 ],
 "metadata": {
  "kernelspec": {
   "display_name": "Python 2",
   "language": "python",
   "name": "python2"
  },
  "language_info": {
   "codemirror_mode": {
    "name": "ipython",
    "version": 2
   },
   "file_extension": ".py",
   "mimetype": "text/x-python",
   "name": "python",
   "nbconvert_exporter": "python",
   "pygments_lexer": "ipython2",
   "version": "2.7.12"
  }
 },
 "nbformat": 4,
 "nbformat_minor": 0
}
